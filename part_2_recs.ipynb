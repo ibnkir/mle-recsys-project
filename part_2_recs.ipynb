{
 "cells": [
  {
   "attachments": {},
   "cell_type": "markdown",
   "id": "b3589a9a-ce16-4d2e-b581-d75139fc58b3",
   "metadata": {},
   "source": [
    "## Яндекс Практикум, курс \"Инженер Машинного Обучения\" (2024 г.)\n",
    "## Проект 4-го спринта: \"Создание рекомендательной системы\""
   ]
  },
  {
   "attachments": {},
   "cell_type": "markdown",
   "id": "c1c6c220",
   "metadata": {},
   "source": [
    "## Этап 3. Оффлайн-рекомендации"
   ]
  },
  {
   "attachments": {},
   "cell_type": "markdown",
   "id": "76e1ac3f",
   "metadata": {},
   "source": [
    "### Постановка задачи\n",
    "\n",
    "Подготовьте данные для обучения:\n",
    "- Загрузите ранее сохранённые данные.\n",
    "- Разбейте данные на тренировочную и тестовую выборки: в тренировочную отнесите все данные до __16 декабря 2022 г. (не включительно)__.\n",
    "\n",
    "Рассчитайте рекомендации нескольких типов, сохраните каждый тип в своём файле:\n",
    "- топ популярных — в `top_popular.parquet`,\n",
    "- персональные (при помощи ALS) — в `personal_als.parquet`,\n",
    "- похожие треки или i2i (при помощи ALS) — в `similar.parquet`.\n",
    "\n",
    "Постройте ранжирующую модель, которая использует минимум три признака. Отранжируйте рекомендации, а итоговые сохраните в `recommendations.parquet`.\n",
    "\n",
    "Проверьте оценку качества трёх типов рекомендаций: \n",
    "1. топ популярных,\n",
    "2. персональных, полученных при помощи ALS,\n",
    "3. итоговых (по метрикам: recall, precision, coverage, novelty).\n",
    "\n",
    "Приведите значения метрик в README."
   ]
  },
  {
   "attachments": {},
   "cell_type": "markdown",
   "id": "3a31b610",
   "metadata": {},
   "source": [
    "### Инициализация"
   ]
  },
  {
   "cell_type": "code",
   "execution_count": 1,
   "id": "c6e28b2f-3822-4e27-b576-9bc42b279b32",
   "metadata": {},
   "outputs": [],
   "source": [
    "import os\n",
    "import numpy as np\n",
    "import pandas as pd\n",
    "import joblib\n",
    "import ipywidgets\n",
    "\n",
    "from sklearn.metrics import accuracy_score"
   ]
  },
  {
   "cell_type": "code",
   "execution_count": 2,
   "id": "a6743b80",
   "metadata": {},
   "outputs": [
    {
     "name": "stdout",
     "output_type": "stream",
     "text": [
      "c:\\Users\\Kirill_Nosov\\_Repos\\.venv\\Scripts\\python.exe\n"
     ]
    }
   ],
   "source": [
    "import sys\n",
    "\n",
    "# Проверяем, в каком окружении работаем\n",
    "print(sys.executable)"
   ]
  },
  {
   "cell_type": "code",
   "execution_count": 2,
   "id": "792bbecf",
   "metadata": {},
   "outputs": [],
   "source": [
    "# Отключаем предупреждения\n",
    "import warnings\n",
    "from pandas.errors import SettingWithCopyWarning\n",
    "\n",
    "warnings.simplefilter(action='ignore', category=(SettingWithCopyWarning, FutureWarning))"
   ]
  },
  {
   "attachments": {},
   "cell_type": "markdown",
   "id": "7afa1cfd",
   "metadata": {},
   "source": [
    "### Загрузка и разбиение данных"
   ]
  },
  {
   "cell_type": "code",
   "execution_count": 4,
   "id": "6ab0db85-17df-4a4f-b23c-e9cd983d8c43",
   "metadata": {},
   "outputs": [],
   "source": [
    "# Загружаем основные данные\n",
    "items = pd.read_parquet(\"items.parquet\")\n",
    "events = pd.read_parquet(\"events.parquet\")"
   ]
  },
  {
   "attachments": {},
   "cell_type": "markdown",
   "id": "47016708-6f94-4518-886c-58fa6e7bb315",
   "metadata": {},
   "source": [
    "Разбиваем данные на тренировочную и тестовую выборки (в последнюю относим данные до 16 декабря 2022 г. не включительно)."
   ]
  },
  {
   "cell_type": "code",
   "execution_count": 5,
   "id": "a89ca2e2",
   "metadata": {},
   "outputs": [],
   "source": [
    "# Зададим точку разбиения\n",
    "train_test_global_time_split_date = pd.to_datetime(\"2022-12-16\")\n",
    "\n",
    "train_test_global_time_split_idx = events[\"started_at\"] < train_test_global_time_split_date\n",
    "events_train = events[train_test_global_time_split_idx]\n",
    "events_test = events[~train_test_global_time_split_idx]"
   ]
  },
  {
   "attachments": {},
   "cell_type": "markdown",
   "id": "63074256",
   "metadata": {},
   "source": [
    "### Рекомендации на основе самых популярных треков"
   ]
  },
  {
   "attachments": {},
   "cell_type": "markdown",
   "id": "68af8408",
   "metadata": {},
   "source": [
    "Загружаем ранее сохраненные топ-треки и оцениваем качество рекомендаций на их основе для \"холодных\" пользователей."
   ]
  },
  {
   "cell_type": "code",
   "execution_count": 7,
   "id": "7dc9cdee",
   "metadata": {},
   "outputs": [
    {
     "data": {
      "text/html": [
       "<div>\n",
       "<style scoped>\n",
       "    .dataframe tbody tr th:only-of-type {\n",
       "        vertical-align: middle;\n",
       "    }\n",
       "\n",
       "    .dataframe tbody tr th {\n",
       "        vertical-align: top;\n",
       "    }\n",
       "\n",
       "    .dataframe thead th {\n",
       "        text-align: right;\n",
       "    }\n",
       "</style>\n",
       "<table border=\"1\" class=\"dataframe\">\n",
       "  <thead>\n",
       "    <tr style=\"text-align: right;\">\n",
       "      <th></th>\n",
       "      <th>item_id</th>\n",
       "      <th>plays</th>\n",
       "      <th>users</th>\n",
       "      <th>name</th>\n",
       "      <th>genres</th>\n",
       "      <th>artists</th>\n",
       "      <th>albums</th>\n",
       "    </tr>\n",
       "  </thead>\n",
       "  <tbody>\n",
       "    <tr>\n",
       "      <th>0</th>\n",
       "      <td>53404</td>\n",
       "      <td>111062</td>\n",
       "      <td>111062</td>\n",
       "      <td>Smells Like Teen Spirit</td>\n",
       "      <td>[allrock, alternative, rock]</td>\n",
       "      <td>[Nirvana]</td>\n",
       "      <td>[Nevermind, Smells Like Teen Spirit / In Bloom...</td>\n",
       "    </tr>\n",
       "    <tr>\n",
       "      <th>1</th>\n",
       "      <td>33311009</td>\n",
       "      <td>106921</td>\n",
       "      <td>106921</td>\n",
       "      <td>Believer</td>\n",
       "      <td>[allrock, rock]</td>\n",
       "      <td>[Imagine Dragons]</td>\n",
       "      <td>[Best Party Hits, Graduation 2021, Hello Summe...</td>\n",
       "    </tr>\n",
       "    <tr>\n",
       "      <th>2</th>\n",
       "      <td>178529</td>\n",
       "      <td>101924</td>\n",
       "      <td>101924</td>\n",
       "      <td>Numb</td>\n",
       "      <td>[metal, numetal]</td>\n",
       "      <td>[Linkin Park]</td>\n",
       "      <td>[00s Rock Anthems, Meteora]</td>\n",
       "    </tr>\n",
       "    <tr>\n",
       "      <th>3</th>\n",
       "      <td>35505245</td>\n",
       "      <td>99490</td>\n",
       "      <td>99490</td>\n",
       "      <td>I Got Love</td>\n",
       "      <td>[rap, rusrap]</td>\n",
       "      <td>[Рем Дигга, Miyagi &amp; Эндшпиль]</td>\n",
       "      <td>[I Got Love]</td>\n",
       "    </tr>\n",
       "    <tr>\n",
       "      <th>4</th>\n",
       "      <td>65851540</td>\n",
       "      <td>86670</td>\n",
       "      <td>86670</td>\n",
       "      <td>Юность</td>\n",
       "      <td>[pop, ruspop]</td>\n",
       "      <td>[Dabro]</td>\n",
       "      <td>[Юность]</td>\n",
       "    </tr>\n",
       "  </tbody>\n",
       "</table>\n",
       "</div>"
      ],
      "text/plain": [
       "    item_id   plays   users                     name  \\\n",
       "0     53404  111062  111062  Smells Like Teen Spirit   \n",
       "1  33311009  106921  106921                 Believer   \n",
       "2    178529  101924  101924                     Numb   \n",
       "3  35505245   99490   99490               I Got Love   \n",
       "4  65851540   86670   86670                   Юность   \n",
       "\n",
       "                         genres                         artists  \\\n",
       "0  [allrock, alternative, rock]                       [Nirvana]   \n",
       "1               [allrock, rock]               [Imagine Dragons]   \n",
       "2              [metal, numetal]                   [Linkin Park]   \n",
       "3                 [rap, rusrap]  [Рем Дигга, Miyagi & Эндшпиль]   \n",
       "4                 [pop, ruspop]                         [Dabro]   \n",
       "\n",
       "                                              albums  \n",
       "0  [Nevermind, Smells Like Teen Spirit / In Bloom...  \n",
       "1  [Best Party Hits, Graduation 2021, Hello Summe...  \n",
       "2                        [00s Rock Anthems, Meteora]  \n",
       "3                                       [I Got Love]  \n",
       "4                                           [Юность]  "
      ]
     },
     "execution_count": 7,
     "metadata": {},
     "output_type": "execute_result"
    }
   ],
   "source": [
    "# Загружаем топ-100 самых прослушиваемых треков\n",
    "top_k_pop_items = pd.read_parquet(\"top_popular.parquet\")\n",
    "top_k_pop_items.head()"
   ]
  },
  {
   "cell_type": "code",
   "execution_count": 6,
   "id": "79d99bd8",
   "metadata": {},
   "outputs": [],
   "source": [
    "# Идентификаторы уникальных пользователей в train и test\n",
    "users_train = events_train[\"user_id\"].drop_duplicates()\n",
    "users_test = events_test[\"user_id\"].drop_duplicates()"
   ]
  },
  {
   "cell_type": "code",
   "execution_count": 9,
   "id": "4c14db05",
   "metadata": {},
   "outputs": [],
   "source": [
    "# Идентификаторы \"холодных\" пользователей\n",
    "cold_users = users_test[~users_test.isin(users_train)]"
   ]
  },
  {
   "cell_type": "code",
   "execution_count": 10,
   "id": "dcbbed51",
   "metadata": {},
   "outputs": [],
   "source": [
    "# Формируем бинарные колонки target и prediction\n",
    "\n",
    "top_k_pop_items['prediction'] = 1\n",
    "\n",
    "cold_users_events = \\\n",
    "    events_test[events_test[\"user_id\"].isin(cold_users)] \\\n",
    "        .merge(top_k_pop_items[['item_id', 'prediction']], on=\"item_id\", how=\"left\")\n",
    "\n",
    "cold_users_events['prediction'].fillna(0, inplace=True)\n",
    "\n",
    "cold_users_events['target'] = 1"
   ]
  },
  {
   "cell_type": "code",
   "execution_count": 11,
   "id": "09037c20",
   "metadata": {},
   "outputs": [
    {
     "name": "stdout",
     "output_type": "stream",
     "text": [
      "0.05650518569721842\n"
     ]
    }
   ],
   "source": [
    "# Точность рекомендаций\n",
    "accuracy = accuracy_score(cold_users_events['prediction'], cold_users_events['target'])\n",
    "print(accuracy)"
   ]
  },
  {
   "attachments": {},
   "cell_type": "markdown",
   "id": "c54cd47f",
   "metadata": {},
   "source": [
    "Точность получилась не очень высокой. Отчасти, это может быть связано с общим снижением кол-ва прослушиваний и пользователей после ноября 2022 г., т.е. могло измениться распределение данных (см. EDA).\n",
    "\n",
    "Посчитаем покрытие \"холодных\" пользователей рекомендациями."
   ]
  },
  {
   "cell_type": "code",
   "execution_count": 12,
   "id": "afe0ec5a",
   "metadata": {},
   "outputs": [
    {
     "name": "stdout",
     "output_type": "stream",
     "text": [
      "Доля пользователей без релевантных рекомендаций: 0.42\n",
      "Среднее покрытие пользователей: 3.53\n"
     ]
    }
   ],
   "source": [
    "cold_users_hit_ratio = cold_users_events.groupby(\"user_id\").agg(hits=(\"prediction\", 'sum'))\n",
    "\n",
    "print(f\"Доля пользователей без релевантных рекомендаций: {(cold_users_hit_ratio == 0).mean().iat[0]:.2f}\")\n",
    "print(f\"Среднее покрытие пользователей: {cold_users_hit_ratio[cold_users_hit_ratio != 0].mean().iat[0]:.2f}\")"
   ]
  },
  {
   "attachments": {},
   "cell_type": "markdown",
   "id": "7e060fb3",
   "metadata": {},
   "source": [
    "Таким образом, рекомендациями на основе топ-треков охвачено чуть менее половины \"холодных\" пользователей. \n",
    "При этом каждый из охваченных пользователей получил в среднем 3.5 трека."
   ]
  },
  {
   "attachments": {},
   "cell_type": "markdown",
   "id": "5c4449d7",
   "metadata": {},
   "source": [
    "### Персональные рекомендации на основе коллаборативного подхода и ALS\n",
    "\n",
    "[Техническая документация на библиотеку implicit](https://benfred.github.io/implicit/api/models/cpu/als.html)\n"
   ]
  },
  {
   "attachments": {},
   "cell_type": "markdown",
   "id": "44d62bc6",
   "metadata": {},
   "source": [
    "Перекодируем идентификаторы `user_id` и `item_id`."
   ]
  },
  {
   "cell_type": "code",
   "execution_count": 6,
   "id": "21789993-d0cd-4e74-96af-b3966d0f44c3",
   "metadata": {},
   "outputs": [],
   "source": [
    "import scipy\n",
    "import sklearn.preprocessing\n",
    "\n",
    "# Перекодируем идентификаторы пользователей: \n",
    "# из имеющихся в последовательность 0, 1, 2, ...\n",
    "user_encoder = sklearn.preprocessing.LabelEncoder()\n",
    "user_encoder.fit(events[\"user_id\"])\n",
    "events_train[\"user_id_enc\"] = user_encoder.transform(events_train[\"user_id\"])\n",
    "events_test[\"user_id_enc\"] = user_encoder.transform(events_test[\"user_id\"])\n",
    "\n",
    "# Перекодируем идентификаторы объектов: \n",
    "# из имеющихся в последовательность 0, 1, 2, ...\n",
    "item_encoder = sklearn.preprocessing.LabelEncoder()\n",
    "item_encoder.fit(items[\"item_id\"])\n",
    "items[\"item_id_enc\"] = item_encoder.transform(items[\"item_id\"])\n",
    "events_train = events_train.merge(items[[\"item_id\", \"item_id_enc\"]], on=\"item_id\", how='left') \n",
    "events_test = events_test.merge(items[[\"item_id\", \"item_id_enc\"]], on=\"item_id\", how='left') "
   ]
  },
  {
   "cell_type": "code",
   "execution_count": 14,
   "id": "c79e913e",
   "metadata": {},
   "outputs": [],
   "source": [
    "# Сократим размер типа для экономии памяти \n",
    "items['item_id_enc'] = items['item_id_enc'].astype('int32')\n",
    "events_train[['item_id_enc', 'user_id_enc']] = events_train[['item_id_enc', 'user_id_enc']].astype('int32')\n",
    "events_test[['item_id_enc', 'user_id_enc']] = events_test[['item_id_enc', 'user_id_enc']].astype('int32')"
   ]
  },
  {
   "attachments": {},
   "cell_type": "markdown",
   "id": "e1729e60",
   "metadata": {},
   "source": [
    "Создаем sparse-матрицу в формате [CSR](https://docs.scipy.org/doc/scipy/reference/sparse.html)"
   ]
  },
  {
   "cell_type": "code",
   "execution_count": 17,
   "id": "92452e8e",
   "metadata": {},
   "outputs": [],
   "source": [
    "# Формируем колонку target (1 - трек прослушан, 0 - нет)\n",
    "events_train['target'] = 1\n",
    "\n",
    "# Создаём sparse-матрицу формата CSR \n",
    "user_item_matrix_train = scipy.sparse.csr_matrix((\n",
    "    events_train[\"target\"],\n",
    "    (events_train['user_id_enc'], events_train['item_id_enc'])),\n",
    "    dtype=np.int8)"
   ]
  },
  {
   "attachments": {},
   "cell_type": "markdown",
   "id": "dd3edbf4",
   "metadata": {},
   "source": [
    "Имея подготовленную матрицу взаимодействий, создаем ALS-модель. Для примера возьмём количество латентных факторов для матриц $P и Q$ равным 50. "
   ]
  },
  {
   "cell_type": "code",
   "execution_count": 18,
   "id": "e011302b",
   "metadata": {},
   "outputs": [
    {
     "name": "stderr",
     "output_type": "stream",
     "text": [
      "c:\\Users\\Kirill_Nosov\\_Repos\\.venv\\Lib\\site-packages\\implicit\\cpu\\als.py:95: RuntimeWarning: OpenBLAS is configured to use 8 threads. It is highly recommended to disable its internal threadpool by setting the environment variable 'OPENBLAS_NUM_THREADS=1' or by calling 'threadpoolctl.threadpool_limits(1, \"blas\")'. Having OpenBLAS use a threadpool can lead to severe performance issues here.\n",
      "  check_blas_config()\n"
     ]
    },
    {
     "data": {
      "application/vnd.jupyter.widget-view+json": {
       "model_id": "1a220fa4b9f0444f99221d54f6c9f588",
       "version_major": 2,
       "version_minor": 0
      },
      "text/plain": [
       "  0%|          | 0/50 [00:00<?, ?it/s]"
      ]
     },
     "metadata": {},
     "output_type": "display_data"
    }
   ],
   "source": [
    "# Код для создания и тренировки модели\n",
    "from implicit.als import AlternatingLeastSquares\n",
    "\n",
    "als_model = AlternatingLeastSquares(factors=50, iterations=50, regularization=0.05, random_state=0)\n",
    "als_model.fit(user_item_matrix_train)"
   ]
  },
  {
   "cell_type": "code",
   "execution_count": 12,
   "id": "193bbcf7",
   "metadata": {},
   "outputs": [],
   "source": [
    "# Сохраняем als-модель в файл\n",
    "with open('models/als_model.pkl', 'wb') as fd:\n",
    "    joblib.dump(als_model, fd)"
   ]
  },
  {
   "attachments": {},
   "cell_type": "markdown",
   "id": "c2fa48cc",
   "metadata": {},
   "source": [
    "Чтобы получить рекомендации для отдельного пользователя с помощью модели ALS, используем функцию ниже."
   ]
  },
  {
   "cell_type": "code",
   "execution_count": 19,
   "id": "d179b89f",
   "metadata": {},
   "outputs": [],
   "source": [
    "def get_recommendations_als(user_item_matrix, als_model, user_id, user_encoder, item_encoder, include_seen=True, n=5):\n",
    "    \"\"\"\n",
    "    Возвращает отранжированные рекомендации для заданного пользователя\n",
    "    \"\"\"\n",
    "    user_id_enc = user_encoder.transform([user_id])[0]\n",
    "    recommendations = als_model.recommend(\n",
    "         user_id_enc, \n",
    "         user_item_matrix[user_id_enc], \n",
    "         filter_already_liked_items=not include_seen,\n",
    "         N=n)\n",
    "    recommendations = pd.DataFrame({\"item_id_enc\": recommendations[0], \"score\": recommendations[1]})\n",
    "    recommendations[\"item_id\"] = item_encoder.inverse_transform(recommendations[\"item_id_enc\"])\n",
    "    \n",
    "    return recommendations"
   ]
  },
  {
   "attachments": {},
   "cell_type": "markdown",
   "id": "fea36430",
   "metadata": {},
   "source": [
    "Посмотрим историю и рекомендации для случайного пользователя."
   ]
  },
  {
   "cell_type": "code",
   "execution_count": null,
   "id": "06e910d6",
   "metadata": {},
   "outputs": [],
   "source": [
    "# Выберем произвольного пользователя из тренировочной выборки (\"прошлого\")\n",
    "user_id = events_train['user_id'].sample().iat[0]\n",
    "\n",
    "print(f\"user_id: {user_id}\")\n",
    "\n",
    "print(\"История (последние события, recent)\")\n",
    "user_history = (\n",
    "    events_train\n",
    "    .query(\"user_id == @user_id\")\n",
    "    .merge(items.set_index(\"item_id\")[[\"name\", \"genres\", \"albums\", \"artists\"]], on=\"item_id\")\n",
    ")\n",
    "user_history_to_print = user_history[[\"item_id\", \"name\", \"genres\", \"albums\", \"artists\"]].tail(10)\n",
    "display(user_history_to_print)\n",
    "\n",
    "print(\"Рекомендации\")\n",
    "user_recommendations = get_recommendations_als(user_item_matrix_train, als_model, user_id, user_encoder, item_encoder, include_seen=True, n=10)\n",
    "user_recommendations = user_recommendations.merge(items.set_index(\"item_id\")[[\"name\", \"genres\", \"albums\", \"artists\"]], on=\"item_id\")\n",
    "user_recommendations_to_print = \\\n",
    "    user_recommendations[[\"item_id\", \"name\", \"genres\", \"albums\", \"artists\", \"score\"]].head(10)\n",
    "display(user_recommendations)"
   ]
  },
  {
   "attachments": {},
   "cell_type": "markdown",
   "id": "f071f6db",
   "metadata": {},
   "source": [
    "TODO: Проанализируйте, релевантны ли рекомендации имеющейся истории."
   ]
  },
  {
   "attachments": {},
   "cell_type": "markdown",
   "id": "2954f4df",
   "metadata": {},
   "source": [
    "Получим рекомендации для всех имеющихся пользователей."
   ]
  },
  {
   "cell_type": "code",
   "execution_count": 20,
   "id": "e09cf94b",
   "metadata": {},
   "outputs": [],
   "source": [
    "# Получаем список всех возможных user_id (перекодированных)\n",
    "user_ids_encoded = range(len(user_encoder.classes_))\n",
    "\n",
    "# Получаем рекомендации для всех пользователей\n",
    "als_recommendations = als_model.recommend(\n",
    "    user_ids_encoded, \n",
    "    user_item_matrix_train[user_ids_encoded], \n",
    "    filter_already_liked_items=False, \n",
    "    N=100)"
   ]
  },
  {
   "attachments": {},
   "cell_type": "markdown",
   "id": "0816a9a9",
   "metadata": {},
   "source": [
    "Код возвращает рекомендации как список списков, что не очень удобно. Преобразуем его в более удобный табличный формат."
   ]
  },
  {
   "cell_type": "code",
   "execution_count": 21,
   "id": "6b2024ca",
   "metadata": {},
   "outputs": [],
   "source": [
    "# преобразуем полученные рекомендации в табличный формат\n",
    "item_ids_enc = als_recommendations[0]\n",
    "als_scores = als_recommendations[1]\n",
    "\n",
    "als_recommendations = pd.DataFrame({\n",
    "    \"user_id_enc\": user_ids_encoded,\n",
    "    \"item_id_enc\": item_ids_enc.tolist(), \n",
    "    \"score\": als_scores.tolist()})\n",
    "als_recommendations = als_recommendations.explode([\"item_id_enc\", \"score\"], ignore_index=True)\n",
    "\n",
    "# приводим типы данных\n",
    "als_recommendations[\"item_id_enc\"] = als_recommendations[\"item_id_enc\"].astype(\"int\")\n",
    "als_recommendations[\"score\"] = als_recommendations[\"score\"].astype(\"float\")\n",
    "\n",
    "# получаем изначальные идентификаторы\n",
    "als_recommendations[\"user_id\"] = user_encoder.inverse_transform(als_recommendations[\"user_id_enc\"])\n",
    "als_recommendations[\"item_id\"] = item_encoder.inverse_transform(als_recommendations[\"item_id_enc\"])\n",
    "als_recommendations = als_recommendations.drop(columns=[\"user_id_enc\", \"item_id_enc\"])"
   ]
  },
  {
   "cell_type": "code",
   "execution_count": 37,
   "id": "efd05d0c",
   "metadata": {},
   "outputs": [],
   "source": [
    "# Сохраним полученные рекомендации в файл\n",
    "als_recommendations = als_recommendations[[\"user_id\", \"item_id\", \"score\"]]\n",
    "als_recommendations.to_parquet(\"personal_als.parquet\")"
   ]
  },
  {
   "attachments": {},
   "cell_type": "markdown",
   "id": "95bdebaa",
   "metadata": {},
   "source": [
    "Оценим точность рекомендаций на тестовой выборке с порогом вероятности 0.5."
   ]
  },
  {
   "cell_type": "code",
   "execution_count": 22,
   "id": "d3219723",
   "metadata": {},
   "outputs": [],
   "source": [
    "# Формируем бинарные колонки target и prediction, для последней берем порог вероятности 0.5\n",
    "\n",
    "events_test['target'] = 1\n",
    "\n",
    "als_recommendations = (\n",
    "    als_recommendations\n",
    "    .merge(events_test[[\"user_id\", \"item_id\", \"target\"]], on=[\"user_id\", \"item_id\"], how=\"left\")\n",
    ")\n",
    "\n",
    "als_recommendations['target'] = als_recommendations['target'].fillna(0)\n",
    "\n",
    "als_recommendations['prediction'] = (als_recommendations['score'] >= 0.5).astype('int')"
   ]
  },
  {
   "cell_type": "code",
   "execution_count": null,
   "id": "d766a2da",
   "metadata": {},
   "outputs": [],
   "source": [
    "# Точность рекомендаций\n",
    "accuracy = accuracy_score(als_recommendations['prediction'], als_recommendations['target'])\n",
    "print(accuracy)"
   ]
  },
  {
   "attachments": {},
   "cell_type": "markdown",
   "id": "308cb8fd",
   "metadata": {},
   "source": [
    "TODO: вывод"
   ]
  },
  {
   "attachments": {},
   "cell_type": "markdown",
   "id": "b105d694",
   "metadata": {},
   "source": [
    "Посчитаем несколько специфичных метрик. \n",
    "\n",
    "Найдем покрытие по объектам, используя все имеющиеся рекомендации."
   ]
  },
  {
   "cell_type": "code",
   "execution_count": null,
   "id": "61fa718b",
   "metadata": {},
   "outputs": [],
   "source": [
    "cov_items = als_recommendations['item_id'].nunique() / len(items) \n",
    "print(cov_items)"
   ]
  },
  {
   "attachments": {},
   "cell_type": "markdown",
   "id": "1b12b089",
   "metadata": {},
   "source": [
    "TODO: Вывод"
   ]
  },
  {
   "attachments": {},
   "cell_type": "markdown",
   "id": "b2d9daf7",
   "metadata": {},
   "source": [
    "Посчитаем среднее Novelty@5, для этого:\n",
    "- разметим каждую рекомендацию в als_recommendations булевым признаком played, используя events_train\n",
    "(False — пользователь не прослушал трек, True — прослушал),\n",
    "- посчитаем Novelty@5 для каждого пользователя,\n",
    "- найдем среднее значение полученных Novelty@5."
   ]
  },
  {
   "cell_type": "code",
   "execution_count": null,
   "id": "92673658",
   "metadata": {},
   "outputs": [],
   "source": [
    "# разметим каждую рекомендацию признаком played\n",
    "events_train[\"played\"] = True\n",
    "als_recommendations = als_recommendations \\\n",
    "    .merge(events_train[['played', \"user_id\", \"item_id\"]], on=[\"user_id\", \"item_id\"], how=\"left\")\n",
    "als_recommendations[\"played\"] = als_recommendations[\"played\"].fillna(False).astype(\"bool\")\n",
    "\n",
    "# проставим ранги\n",
    "als_recommendations = als_recommendations.sort_values(by='score', ascending=False) \n",
    "als_recommendations[\"rank\"] = als_recommendations.groupby(\"user_id\").cumcount() + 1\n",
    "\n",
    "# посчитаем novelty по пользователям\n",
    "novelty_5 = (1 - als_recommendations.query(\"rank <= 5\").groupby(\"user_id\")[\"played\"].mean())\n",
    "\n",
    "# посчитаем средний novelty\n",
    "novelty_5_mean = novelty_5.mean()\n",
    "print(novelty_5_mean)"
   ]
  },
  {
   "attachments": {},
   "cell_type": "markdown",
   "id": "b4b9121b",
   "metadata": {},
   "source": [
    "TODO: вывод"
   ]
  },
  {
   "attachments": {},
   "cell_type": "markdown",
   "id": "6a9d0397",
   "metadata": {},
   "source": [
    "Посчитаем recall и precision для ALS-рекомендаций. Для этого события в тестовой выборке и рекомендации для одних и тех же пользователей разметим признаками:\n",
    "- gt (ground truth): объект есть в тестовой выборке;\n",
    "- pr (predicted): объект есть в рекомендациях.\n",
    "\n",
    "Теперь разметим признаки бинарной классификации:\n",
    "- TP: объект есть и в тестовой выборке, и в рекомендациях (истинная рекомендация),\n",
    "- FP: объекта нет в тестовой выборке, но он есть в рекомендациях (ложноположительная рекомендация),\n",
    "- FN: объект есть в тестовой выборке, но его нет в рекомендациях (ложноотрицательная рекомендация)"
   ]
  },
  {
   "attachments": {},
   "cell_type": "markdown",
   "id": "fc65ca34",
   "metadata": {},
   "source": [
    "Создаем функцию для подсчета метрик TP, FP и FN у пользователей, которые есть одновременно и в events_train,\n",
    "и в events_test."
   ]
  },
  {
   "cell_type": "code",
   "execution_count": null,
   "id": "27e88668",
   "metadata": {},
   "outputs": [],
   "source": [
    "def process_events_recs_for_binary_metrics(events_train, events_test, recs, top_k=None):\n",
    "\n",
    "    \"\"\"\n",
    "    размечает пары <user_id, item_id> для общего множества пользователей признаками\n",
    "    - gt (ground truth)\n",
    "    - pr (prediction)\n",
    "    top_k: расчёт ведётся только для top k-рекомендаций\n",
    "    \"\"\"\n",
    "\n",
    "    events_test[\"gt\"] = True\n",
    "    common_users = set(events_test[\"user_id\"]) & set(recs[\"user_id\"])\n",
    "\n",
    "    print(f\"Common users: {len(common_users)}\")\n",
    "    \n",
    "    events_for_common_users = events_test[events_test[\"user_id\"].isin(common_users)].copy()\n",
    "    recs_for_common_users = recs[recs[\"user_id\"].isin(common_users)].copy()\n",
    "\n",
    "    recs_for_common_users = recs_for_common_users.sort_values([\"user_id\", \"score\"], ascending=[True, False])\n",
    "\n",
    "    # оставляет только те item_id, которые были в events_train, \n",
    "    # т. к. модель не имела никакой возможности давать рекомендации для новых айтемов\n",
    "    events_for_common_users = events_for_common_users[events_for_common_users[\"item_id\"].isin(events_train[\"item_id\"].unique())]\n",
    "\n",
    "    if top_k is not None:\n",
    "        recs_for_common_users = recs_for_common_users.groupby(\"user_id\").head(top_k)\n",
    "    \n",
    "    events_recs_common = events_for_common_users[[\"user_id\", \"item_id\", \"gt\"]].merge(\n",
    "        recs_for_common_users[[\"user_id\", \"item_id\", \"score\"]], \n",
    "        on=[\"user_id\", \"item_id\"], how=\"outer\")    \n",
    "\n",
    "    events_recs_common[\"gt\"] = events_recs_common[\"gt\"].fillna(False)\n",
    "    events_recs_common[\"pr\"] = ~events_recs_common[\"score\"].isnull()\n",
    "    \n",
    "    events_recs_common[\"tp\"] = events_recs_common[\"gt\"] & events_recs_common[\"pr\"]\n",
    "    events_recs_common[\"fp\"] = ~events_recs_common[\"gt\"] & events_recs_common[\"pr\"]\n",
    "    events_recs_common[\"fn\"] = events_recs_common[\"gt\"] & ~events_recs_common[\"pr\"]\n",
    "\n",
    "    return events_recs_common"
   ]
  },
  {
   "attachments": {},
   "cell_type": "markdown",
   "id": "81384457",
   "metadata": {},
   "source": [
    "Считаем TP, FP и FN для каждой пары user_id, item_id"
   ]
  },
  {
   "cell_type": "code",
   "execution_count": null,
   "id": "3258ae01",
   "metadata": {},
   "outputs": [],
   "source": [
    "events_recs_for_binary_metrics = process_events_recs_for_binary_metrics(events_train,\n",
    "                                                                        events_test, \n",
    "                                                                        als_recommendations,\n",
    "                                                                        top_k=5)"
   ]
  },
  {
   "attachments": {},
   "cell_type": "markdown",
   "id": "756009d0",
   "metadata": {},
   "source": [
    "Считаем precision и recall"
   ]
  },
  {
   "cell_type": "code",
   "execution_count": null,
   "id": "ccc4535b",
   "metadata": {},
   "outputs": [],
   "source": [
    "def compute_cls_metrics(events_recs_for_binary_metrics):\n",
    "    \n",
    "    groupper = events_recs_for_binary_metrics.groupby(\"user_id\")\n",
    "\n",
    "    # precision = tp / (tp + fp)\n",
    "    precision = groupper[\"tp\"].sum() / (groupper[\"tp\"].sum() + groupper[\"fp\"].sum())\n",
    "    precision = precision.fillna(0).mean()\n",
    "    \n",
    "    # recall = tp / (tp + fn)\n",
    "    recall = groupper[\"tp\"].sum() / (groupper[\"tp\"].sum() + groupper[\"fn\"].sum()) # ваш код здесь\n",
    "    recall = recall.fillna(0).mean()\n",
    "\n",
    "    return precision, recall"
   ]
  },
  {
   "cell_type": "code",
   "execution_count": null,
   "id": "da700f55",
   "metadata": {},
   "outputs": [],
   "source": [
    "precision, recall = compute_cls_metrics(events_recs_for_binary_metrics)\n",
    "print(round(precision, 3), round(recall, 3))"
   ]
  },
  {
   "attachments": {},
   "cell_type": "markdown",
   "id": "a9e57038",
   "metadata": {},
   "source": [
    "### Рекомендации на основе контентного подхода и ALS"
   ]
  },
  {
   "attachments": {},
   "cell_type": "markdown",
   "id": "e8c1b816",
   "metadata": {},
   "source": [
    "Построим контентные рекомендации на основе принадлежности треков к различным жанрам.\n",
    "\n",
    "Сначала загрузим список жанров по всем трекам, который мы создали на предыдущем этапе."
   ]
  },
  {
   "cell_type": "code",
   "execution_count": null,
   "id": "395b545c",
   "metadata": {},
   "outputs": [],
   "source": [
    "genres = pd.read_parquet('genres.parquet')\n",
    "genres.head(5)"
   ]
  },
  {
   "attachments": {},
   "cell_type": "markdown",
   "id": "8bdf3862",
   "metadata": {},
   "source": [
    "Функция ниже строит матрицу вида «трек-жанр»"
   ]
  },
  {
   "cell_type": "code",
   "execution_count": null,
   "id": "d9bb5163",
   "metadata": {},
   "outputs": [],
   "source": [
    "def get_item2genre_matrix(genres, items):\n",
    "\n",
    "    genre_names_to_id = genres.reset_index().set_index(\"name\")[\"genre_id\"].to_dict()\n",
    "    \n",
    "    # list to build CSR matrix\n",
    "    genres_csr_data = []\n",
    "    genres_csr_row_idx = []\n",
    "    genres_csr_col_idx = []\n",
    "    \n",
    "    for item_idx, (k, v) in enumerate(items.iterrows()):\n",
    "        if v[\"genres\"] is None: # После предобработки NA быть не может, оставили для общего случая\n",
    "            continue\n",
    "        \n",
    "        item_genres = list(v[\"genres\"])\n",
    "        \n",
    "        for genre_name in item_genres:\n",
    "            genre_idx = genre_names_to_id[genre_name]\n",
    "            genres_csr_data.append(1)\n",
    "            genres_csr_row_idx.append(item_idx)\n",
    "            genres_csr_col_idx.append(genre_idx)\n",
    "\n",
    "    genres_csr = scipy.sparse.csr_matrix((genres_csr_data, (genres_csr_row_idx, genres_csr_col_idx)), \\\n",
    "                                         shape=(len(items), len(genres)))\n",
    "    # нормализуем, чтобы сумма оценок принадлежности к жанрам была равна 1\n",
    "    genres_csr = sklearn.preprocessing.normalize(genres_csr, norm='l1', axis=1)\n",
    "    \n",
    "    return genres_csr"
   ]
  },
  {
   "attachments": {},
   "cell_type": "markdown",
   "id": "4bd948c4",
   "metadata": {},
   "source": [
    "Получим матрицу с весами по жанрам для каждого трека:"
   ]
  },
  {
   "cell_type": "code",
   "execution_count": null,
   "id": "2d4c3a16",
   "metadata": {},
   "outputs": [],
   "source": [
    "items = items.sort_values(by=\"item_id_enc\")\n",
    "all_items_genres_csr = get_item2genre_matrix(genres, items)"
   ]
  },
  {
   "attachments": {},
   "cell_type": "markdown",
   "id": "c37f3aee",
   "metadata": {},
   "source": [
    "Будем искать рекомендации на основе косинусной близости. Функция ниже находит рекомендации для одного пользователя"
   ]
  },
  {
   "cell_type": "code",
   "execution_count": null,
   "id": "4fca9f11",
   "metadata": {},
   "outputs": [],
   "source": [
    "from sklearn.metrics.pairwise import cosine_similarity\n",
    "\n",
    "\n",
    "def get_recommendations_by_genres(user_id, items, events, all_items_genres_csr, n=5):\n",
    "\n",
    "    \"\"\" Возвращает n рекомендаций для user_id на основе предпочитаемых им жанров\"\"\"\n",
    "    \n",
    "    user_events = events.query(\"user_id == @user_id\")\n",
    "    user_items = items[items[\"item_id\"].isin(user_events[\"item_id\"])]\n",
    "\n",
    "    user_items_genres_csr = all_items_genres_csr[user_items['item_id_enc']]\n",
    "    \n",
    "    # вычислим среднюю склонность пользователя к жанрам \n",
    "    user_genres_scores = np.asarray(user_items_genres_csr.mean(axis=0))\n",
    "\n",
    "    # вычисляем сходство между треками пользователя и всеми имеющимися трекам\n",
    "    similarity_scores = cosine_similarity(all_items_genres_csr, user_genres_scores)\n",
    "\n",
    "    # преобразуем в одномерный массив\n",
    "    similarity_scores = similarity_scores.flatten()\n",
    "\n",
    "    # получаем индексы top-n (по убыванию значений), т.е. encoded индексы самых похожих треков\n",
    "    top_n_indices = np.argsort(-similarity_scores)[:n] \n",
    "\n",
    "    selected_items = items[items[\"item_id_enc\"].isin(top_n_indices)]\n",
    "    \n",
    "    return selected_items['item_id'].to_list(), similarity_scores[top_n_indices].tolist()"
   ]
  },
  {
   "attachments": {},
   "cell_type": "markdown",
   "id": "a8b3ab11",
   "metadata": {},
   "source": [
    "Посмотрим рекомендации для произвольного пользователя"
   ]
  },
  {
   "cell_type": "code",
   "execution_count": null,
   "id": "e4185a9c",
   "metadata": {},
   "outputs": [],
   "source": [
    "# Выберем произвольного пользователя из тренировочной выборки (\"прошлого\")\n",
    "user_id = events_train['user_id'].sample().iat[0]\n",
    "\n",
    "print(f\"user_id: {user_id}\")\n",
    "\n",
    "print(\"История (последние события, recent)\")\n",
    "user_history = (\n",
    "    events_train\n",
    "    .query(\"user_id == @user_id\")\n",
    "    .merge(items.set_index(\"item_id\")[[\"name\", \"genres\", \"albums\", \"artists\"]], on=\"item_id\")\n",
    ")\n",
    "user_history_to_print = user_history[[\"item_id\", \"name\", \"genres\", \"albums\", \"artists\"]].tail(10)\n",
    "display(user_history_to_print)\n",
    "\n",
    "print(\"Рекомендации\")\n",
    "selected_items, similarity_scores = \\\n",
    "    get_recommendations_by_genres(user_id, items, events_train, all_items_genres_csr, n=5)\n",
    "selected_items = items[items[\"item_id\"].isin(selected_items)]\n",
    "selected_items['scores'] = similarity_scores\n",
    "\n",
    "with pd.option_context(\"max_colwidth\", 100):\n",
    "   display(selected_items[[[\"item_id\", \"name\", \"genres\", \"albums\", \"artists\", 'scores']]])"
   ]
  },
  {
   "attachments": {},
   "cell_type": "markdown",
   "id": "9f875a12",
   "metadata": {},
   "source": [
    "TODO: Вывод"
   ]
  },
  {
   "attachments": {},
   "cell_type": "markdown",
   "id": "d0b500b7",
   "metadata": {},
   "source": [
    "Запускаем поиск для всех пользователей из events_train"
   ]
  },
  {
   "cell_type": "code",
   "execution_count": null,
   "id": "ce02df49",
   "metadata": {},
   "outputs": [],
   "source": [
    "# Для примера взял только первые 1000 юзеров\n",
    "\n",
    "users_ids = events_train['user_id'].unique()[:1000] \n",
    "\n",
    "n = 5\n",
    "items_ids = []\n",
    "scores = []\n",
    "for i, user_id in enumerate(users_ids):\n",
    "    user_items_ids, user_scores = get_recommendations_by_genres(user_id, items, events_train, genres, all_items_genres_csr, n)\n",
    "    items_ids.append(user_items_ids)\n",
    "    scores.append(user_scores)\n",
    "\n",
    "    if i >= 1000:\n",
    "        break\n",
    "\n",
    "content_recommendations = pd.DataFrame({\n",
    "    \"user_id\": users_ids,\n",
    "    \"item_id\": items_ids, \n",
    "    \"score\": scores})\n",
    "\n",
    "content_recommendations = content_recommendations.explode([\"item_id\", \"score\"], ignore_index=True)"
   ]
  },
  {
   "cell_type": "code",
   "execution_count": null,
   "id": "7310acae",
   "metadata": {},
   "outputs": [],
   "source": [
    "content_recommendations"
   ]
  },
  {
   "cell_type": "code",
   "execution_count": null,
   "id": "e2aa4a39",
   "metadata": {},
   "outputs": [],
   "source": [
    "# Сохраним полученные рекомендации в файл\n",
    "content_recommendations.to_parquet(\"content_recommendations.parquet\")"
   ]
  },
  {
   "attachments": {},
   "cell_type": "markdown",
   "id": "ee3b2935",
   "metadata": {},
   "source": [
    "### Рекомендации на основе похожих треков (i2i) и ALS\n",
    "\n",
    "Получим рекомендации при помощи метода `similar_items` ([описание](https://benfred.github.io/implicit/api/models/cpu/als.html))."
   ]
  },
  {
   "cell_type": "code",
   "execution_count": null,
   "id": "98e4e9ec",
   "metadata": {},
   "outputs": [],
   "source": [
    "# Загружаем ALS-модель\n",
    "with open('models/als_model.pkl', 'rb') as fd:\n",
    "    als_model = joblib.load(fd)"
   ]
  },
  {
   "cell_type": "code",
   "execution_count": null,
   "id": "22e88bd0",
   "metadata": {},
   "outputs": [],
   "source": [
    "# получим энкодированные идентификаторы всех объектов в events_train\n",
    "train_item_ids_enc = events_train['item_id_enc'].unique()\n",
    "\n",
    "max_similar_items = 10\n",
    "\n",
    "# получаем списки похожих объектов, используя ранее полученную ALS-модель\n",
    "# метод similar_items возвращает и сам объект, как наиболее похожий\n",
    "# этот объект мы позже отфильтруем, но сейчас запросим на 1 больше\n",
    "similar_items = als_model.similar_items(train_item_ids_enc, N=max_similar_items+1)\n",
    "\n",
    "# преобразуем полученные списки в табличный формат\n",
    "sim_item_item_ids_enc = similar_items[0]\n",
    "sim_item_scores = similar_items[1]\n",
    "\n",
    "similar_items = pd.DataFrame({\n",
    "    \"item_id_enc\": train_item_ids_enc,\n",
    "    \"sim_item_id_enc\": sim_item_item_ids_enc.tolist(), \n",
    "    \"score\": sim_item_scores.tolist()}) \n",
    "similar_items = similar_items.explode(['sim_item_id_enc', 'score'], ignore_index=True) \n",
    "\n",
    "# приводим типы данных\n",
    "similar_items[\"sim_item_id_enc\"] = similar_items[\"sim_item_id_enc\"].astype('int') \n",
    "similar_items[\"score\"] = similar_items[\"score\"].astype(\"float\")\n",
    "\n",
    "# получаем изначальные идентификаторы\n",
    "similar_items[\"item_id_1\"] = item_encoder.inverse_transform(similar_items[\"item_id_enc\"]) \n",
    "similar_items[\"item_id_2\"] = item_encoder.inverse_transform(similar_items[\"sim_item_id_enc\"]) \n",
    "similar_items = similar_items.drop(columns=[\"item_id_enc\", \"sim_item_id_enc\"])\n",
    "\n",
    "# убираем пары с одинаковыми объектами\n",
    "similar_items = similar_items.query(\"item_id_1 != item_id_2\")"
   ]
  },
  {
   "cell_type": "code",
   "execution_count": null,
   "id": "2495bc15",
   "metadata": {},
   "outputs": [],
   "source": [
    "# Сохраним полученные рекомендации в файл\n",
    "similar_items.to_parquet(\"similar.parquet\")"
   ]
  },
  {
   "attachments": {},
   "cell_type": "markdown",
   "id": "9c45233e",
   "metadata": {},
   "source": [
    "С помощью функции ниже можно посмотреть рекомендации для одного трека"
   ]
  },
  {
   "cell_type": "code",
   "execution_count": null,
   "id": "8dbfa65d",
   "metadata": {},
   "outputs": [],
   "source": [
    "def print_sim_items(item_id, similar_items):\n",
    "    item_columns_to_use = [\"item_id\", \"name\", \"genres\", \"artists\", \"albums\"]\n",
    "    \n",
    "    item_id_1 = items.query(\"item_id == @item_id\")[item_columns_to_use]\n",
    "    display(item_id_1)\n",
    "    \n",
    "    si = similar_items.query(\"item_id_1 == @item_id\")\n",
    "    si = si.merge(items[item_columns_to_use].set_index(\"item_id\"), left_on=\"item_id_2\", right_index=True)\n",
    "    display(si)"
   ]
  },
  {
   "cell_type": "code",
   "execution_count": null,
   "id": "654cc40a",
   "metadata": {},
   "outputs": [],
   "source": [
    "# Задаем произвольный трек\n",
    "item_id = events_train['item_id'].sample().iat[0]\n",
    "\n",
    "# Смотрим похожие треки\n",
    "print_sim_items(item_id, similar_items)"
   ]
  },
  {
   "attachments": {},
   "cell_type": "markdown",
   "id": "3a42fe7b",
   "metadata": {},
   "source": [
    "TODO: Проанализируйте адекватность результатов."
   ]
  },
  {
   "attachments": {},
   "cell_type": "markdown",
   "id": "f78475fc-bee1-48f4-be55-329db8ecd326",
   "metadata": {},
   "source": [
    "### Построение ранжирующей модели"
   ]
  },
  {
   "attachments": {},
   "cell_type": "markdown",
   "id": "7c106269",
   "metadata": {},
   "source": [
    "Подготовим список кандидатов для обучения ранжирующей модели. В качестве кандидатогенераторов возьмём ранее подготовленные при помощи ALS коллаборативные и контентные рекомендации. Кроме того, добавим 3-й признак - кол-во треков, прослушанных каждым пользователем."
   ]
  },
  {
   "cell_type": "code",
   "execution_count": 39,
   "id": "e9d22c76",
   "metadata": {},
   "outputs": [],
   "source": [
    "# загружаем рекомендации от двух базовых генераторов\n",
    "als_recommendations = pd.read_parquet(\"personal_als.parquet\")\n",
    "content_recommendations = pd.read_parquet(\"content_recommendations.parquet\")"
   ]
  },
  {
   "cell_type": "code",
   "execution_count": null,
   "id": "fa924154",
   "metadata": {},
   "outputs": [],
   "source": [
    "# Объединяем списки рекомендаций по совпадению user_id, item_id\n",
    "candidates = pd.merge(\n",
    "    als_recommendations[[\"user_id\", \"item_id\", \"score\"]].rename(columns={\"score\": \"als_score\"}),\n",
    "    content_recommendations[[\"user_id\", \"item_id\", \"score\"]].rename(columns={\"score\": \"cnt_score\"}),\n",
    "    on=[\"user_id\", \"item_id\"],\n",
    "    how=\"outer\") "
   ]
  },
  {
   "attachments": {},
   "cell_type": "markdown",
   "id": "f99681f3",
   "metadata": {},
   "source": [
    "Добавим в candidates таргеты, используя историю взаимодействий в events_train:\n",
    "- 1 - для прослушанных item_id (положительный пример),\n",
    "- 0 - для всех остальных (негативный пример).\n",
    "\n",
    "В candidates отберем все положительные примеры, а также не менее четырёх негативных для каждого пользователя в положительных примерах."
   ]
  },
  {
   "cell_type": "code",
   "execution_count": 42,
   "id": "9dcc8048-f4b5-411f-913a-fd73c6a6ff2a",
   "metadata": {},
   "outputs": [],
   "source": [
    "# Добавляем таргет к кандидатам\n",
    "events_train[\"target\"] = 1\n",
    "candidates = candidates.merge(events_train[[\"user_id\", \"item_id\", \"target\"]], \n",
    "                              on=[\"user_id\", \"item_id\"], \n",
    "                              how='left') \n",
    "candidates[\"target\"] = candidates[\"target\"].fillna(0).astype(\"int\")\n",
    "\n",
    "# в кандидатах оставляем только тех пользователей, у которых есть хотя бы один положительный таргет\n",
    "candidates_to_sample = candidates.groupby(\"user_id\").filter(lambda x: x[\"target\"].sum() > 0)\n",
    "\n",
    "# для каждого пользователя оставляем только 4 негативных примера\n",
    "negatives_per_user = 4\n",
    "candidates_for_train = pd.concat([\n",
    "    candidates_to_sample.query(\"target == 1\"), \n",
    "    candidates_to_sample.query(\"target == 0\") \\\n",
    "        .groupby(\"user_id\") \\\n",
    "        .apply(lambda x: x.sample(negatives_per_user, random_state=0))\n",
    "    ])"
   ]
  },
  {
   "attachments": {},
   "cell_type": "markdown",
   "id": "60ba74af",
   "metadata": {},
   "source": [
    "Добавим в events_train новый признак пользователей - количество треков, прослушанных каждым пользователем."
   ]
  },
  {
   "cell_type": "code",
   "execution_count": null,
   "id": "16d665a7",
   "metadata": {},
   "outputs": [],
   "source": [
    "def get_user_features(events):\n",
    "    \"\"\" считает пользовательские признаки \"\"\"\n",
    "    \n",
    "    user_features = events.groupby(\"user_id\").agg(\n",
    "        tracks_played=(\"started_at\", \"count\")\n",
    "    )\n",
    "\n",
    "    return user_features\n",
    "    \n",
    "\n",
    "user_features_for_train = get_user_features(events_train)\n",
    "candidates_for_train = candidates_for_train.merge(user_features_for_train, on=\"user_id\", how=\"left\")"
   ]
  },
  {
   "attachments": {},
   "cell_type": "markdown",
   "id": "e7bf4594",
   "metadata": {},
   "source": [
    "Обучаем модель"
   ]
  },
  {
   "cell_type": "code",
   "execution_count": 29,
   "id": "8788cba9-0396-46a2-b2af-1ecbd65b944e",
   "metadata": {},
   "outputs": [
    {
     "name": "stdout",
     "output_type": "stream",
     "text": [
      "0:\tlearn: 0.6526062\ttotal: 175ms\tremaining: 2m 54s\n",
      "100:\tlearn: 0.5119048\ttotal: 2.6s\tremaining: 23.1s\n",
      "200:\tlearn: 0.5112058\ttotal: 5.07s\tremaining: 20.2s\n",
      "300:\tlearn: 0.5105778\ttotal: 7.59s\tremaining: 17.6s\n",
      "400:\tlearn: 0.5100299\ttotal: 10.1s\tremaining: 15.1s\n",
      "500:\tlearn: 0.5095632\ttotal: 12.5s\tremaining: 12.4s\n",
      "600:\tlearn: 0.5091520\ttotal: 14.9s\tremaining: 9.88s\n",
      "700:\tlearn: 0.5087528\ttotal: 17.3s\tremaining: 7.36s\n",
      "800:\tlearn: 0.5084194\ttotal: 19.9s\tremaining: 4.94s\n",
      "900:\tlearn: 0.5080962\ttotal: 22.6s\tremaining: 2.48s\n",
      "999:\tlearn: 0.5078292\ttotal: 25.2s\tremaining: 0us\n"
     ]
    },
    {
     "data": {
      "text/plain": [
       "<catboost.core.CatBoostClassifier at 0x1f8858d3d10>"
      ]
     },
     "execution_count": 29,
     "metadata": {},
     "output_type": "execute_result"
    }
   ],
   "source": [
    "from catboost import CatBoostClassifier, Pool\n",
    "\n",
    "# задаём имена колонок признаков и таргета\n",
    "features = ['als_score', 'cnt_score', 'tracks_played']\n",
    "target = 'target'\n",
    "\n",
    "# Create the Pool object\n",
    "train_data = Pool(\n",
    "    data=candidates_for_train[features], \n",
    "    label=candidates_for_train[target])\n",
    "\n",
    "# инициализируем модель CatBoostClassifier\n",
    "cb_model = CatBoostClassifier(\n",
    "    iterations=1000,\n",
    "    learning_rate=0.1,\n",
    "    depth=6,\n",
    "    loss_function='Logloss',\n",
    "    verbose=100,\n",
    "    random_seed=0\n",
    ")\n",
    "\n",
    "# тренируем модель\n",
    "cb_model.fit(train_data)"
   ]
  },
  {
   "cell_type": "code",
   "execution_count": 30,
   "id": "7b0c8abd",
   "metadata": {},
   "outputs": [],
   "source": [
    "# Сохраняем ранжирующую модель\n",
    "os.makedirs('models/', exist_ok=True)\n",
    "cb_model.save_model('models/cb_model.cbm')"
   ]
  },
  {
   "attachments": {},
   "cell_type": "markdown",
   "id": "6662ec22",
   "metadata": {},
   "source": [
    "Теперь можно получить финальные рекомендации, используя обученную модель."
   ]
  },
  {
   "cell_type": "code",
   "execution_count": null,
   "id": "2c61794b",
   "metadata": {},
   "outputs": [],
   "source": [
    "# оставляем только тех пользователей, что есть в тестовой выборке, для экономии ресурсов\n",
    "candidates_to_rank = candidates_for_train[candidates_for_train[\"user_id\"].isin(events_test[\"user_id\"].drop_duplicates())]\n",
    "\n",
    "inference_data = Pool(data=candidates_to_rank[features])\n",
    "predictions = cb_model.predict_proba(inference_data)\n",
    "\n",
    "candidates_to_rank[\"cb_score\"] = predictions[:, 1]\n",
    "\n",
    "# для каждого пользователя проставляем rank, начиная с 1 — это максимальный cb_score\n",
    "candidates_to_rank = candidates_to_rank.sort_values([\"user_id\", \"cb_score\"], ascending=[True, False])\n",
    "candidates_to_rank[\"rank\"] = candidates_to_rank.groupby('user_id').cumcount() + 1 \n",
    "\n",
    "max_recommendations_per_user = 100\n",
    "final_recommendations = candidates_to_rank.query('rank <= @max_recommendations_per_user')"
   ]
  },
  {
   "attachments": {},
   "cell_type": "markdown",
   "id": "eda16711",
   "metadata": {},
   "source": [
    "Посмотрим, сколько пользователей попало в final_recommendations"
   ]
  },
  {
   "cell_type": "code",
   "execution_count": null,
   "id": "19243ec8",
   "metadata": {},
   "outputs": [],
   "source": [
    "final_recommendations['user_id'].nunique()"
   ]
  },
  {
   "cell_type": "code",
   "execution_count": null,
   "id": "526e0717",
   "metadata": {},
   "outputs": [],
   "source": [
    "# Сохраним последний вариант персональных рекомендаций в файл\n",
    "final_recommendations.to_parquet(\"final_recommendations_feat.parquet\")"
   ]
  },
  {
   "attachments": {},
   "cell_type": "markdown",
   "id": "ebb06fb6",
   "metadata": {},
   "source": [
    "Проведем валидацию финальных рекомендаций.\n",
    "\n",
    "Посчитаем метрики recall и precision, используя отложенную тестовую выборку, \n",
    "а также функции process_events_recs_for_binary_metrics и compute_cls_metrics."
   ]
  },
  {
   "cell_type": "code",
   "execution_count": 50,
   "id": "116719d8",
   "metadata": {},
   "outputs": [
    {
     "name": "stdout",
     "output_type": "stream",
     "text": [
      "Common users: 75194\n"
     ]
    }
   ],
   "source": [
    "cb_events_recs_for_binary_metrics_5 = process_events_recs_for_binary_metrics(\n",
    "    events_train,\n",
    "    events_test, \n",
    "    final_recommendations.rename(columns={\"cb_score\": \"score\"}), \n",
    "    top_k=5)\n",
    "\n",
    "cb_precision_5, cb_recall_5 = compute_cls_metrics(cb_events_recs_for_binary_metrics_5) # ваш код здесь"
   ]
  },
  {
   "cell_type": "code",
   "execution_count": 51,
   "id": "d2f0e860",
   "metadata": {},
   "outputs": [
    {
     "name": "stdout",
     "output_type": "stream",
     "text": [
      "precision: 0.006, recall: 0.015\n"
     ]
    }
   ],
   "source": [
    "print(f\"precision: {cb_precision_5:.3f}, recall: {cb_recall_5:.3f}\")"
   ]
  },
  {
   "attachments": {},
   "cell_type": "markdown",
   "id": "6e29852b",
   "metadata": {},
   "source": [
    "Посмотрим, какие признаки вносят наибольший вклад в ранжирование. "
   ]
  },
  {
   "cell_type": "code",
   "execution_count": null,
   "id": "fbaf685d",
   "metadata": {},
   "outputs": [],
   "source": [
    "feature_importance = pd.DataFrame(cb_model.get_feature_importance(), \n",
    "    index=features, \n",
    "    columns=[\"fi\"])\n",
    "\n",
    "feature_importance = feature_importance.sort_values('fi', ascending=False)\n",
    "feature_importance"
   ]
  },
  {
   "cell_type": "code",
   "execution_count": null,
   "id": "029c83b8",
   "metadata": {},
   "outputs": [],
   "source": []
  }
 ],
 "metadata": {
  "kernelspec": {
   "display_name": "Python 3 (ipykernel)",
   "language": "python",
   "name": "python3"
  },
  "language_info": {
   "codemirror_mode": {
    "name": "ipython",
    "version": 3
   },
   "file_extension": ".py",
   "mimetype": "text/x-python",
   "name": "python",
   "nbconvert_exporter": "python",
   "pygments_lexer": "ipython3",
   "version": "3.11.7"
  }
 },
 "nbformat": 4,
 "nbformat_minor": 5
}
