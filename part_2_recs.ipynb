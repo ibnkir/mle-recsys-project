{
 "cells": [
  {
   "attachments": {},
   "cell_type": "markdown",
   "id": "b3589a9a-ce16-4d2e-b581-d75139fc58b3",
   "metadata": {},
   "source": [
    "## Яндекс Практикум, курс \"Инженер Машинного Обучения\" (2024 г.)\n",
    "## Проект 4-го спринта: \"Создание рекомендательной системы\""
   ]
  },
  {
   "attachments": {},
   "cell_type": "markdown",
   "id": "c1c6c220",
   "metadata": {},
   "source": [
    "## Этап 3. Оффлайн-рекомендации"
   ]
  },
  {
   "attachments": {},
   "cell_type": "markdown",
   "id": "76e1ac3f",
   "metadata": {},
   "source": [
    "### Постановка задачи\n",
    "\n",
    "Подготовьте данные для обучения:\n",
    "- Загрузите ранее сохранённые данные.\n",
    "- Разбейте данные на тренировочную и тестовую выборки: в тренировочную отнесите все данные до __16 декабря 2022 г. (не включительно)__.\n",
    "\n",
    "Рассчитайте рекомендации нескольких типов, сохраните каждый тип в своём файле:\n",
    "- топ популярных — в `top_popular.parquet`,\n",
    "- персональные (при помощи ALS) — в `personal_als.parquet`,\n",
    "- похожие треки или i2i (при помощи ALS) — в `similar.parquet`.\n",
    "\n",
    "Постройте ранжирующую модель, которая использует минимум три признака. Отранжируйте рекомендации, а итоговые сохраните в `recommendations.parquet`.\n",
    "\n",
    "Проверьте оценку качества трёх типов рекомендаций: \n",
    "1. топ популярных,\n",
    "2. персональных, полученных при помощи ALS,\n",
    "3. итоговых (по метрикам: recall, precision, coverage, novelty).\n",
    "\n",
    "Приведите значения метрик в README."
   ]
  },
  {
   "attachments": {},
   "cell_type": "markdown",
   "id": "3a31b610",
   "metadata": {},
   "source": [
    "### Инициализация"
   ]
  },
  {
   "cell_type": "code",
   "execution_count": 1,
   "id": "c6e28b2f-3822-4e27-b576-9bc42b279b32",
   "metadata": {},
   "outputs": [],
   "source": [
    "import os\n",
    "import numpy as np\n",
    "import pandas as pd\n",
    "import joblib\n",
    "import ipywidgets\n",
    "\n",
    "from sklearn.metrics import accuracy_score\n",
    "import scipy\n",
    "import sklearn.preprocessing\n",
    "from sklearn.metrics.pairwise import cosine_similarity\n",
    "from tqdm import tqdm\n",
    "from catboost import CatBoostClassifier, Pool"
   ]
  },
  {
   "cell_type": "code",
   "execution_count": 2,
   "id": "a6743b80",
   "metadata": {},
   "outputs": [
    {
     "name": "stdout",
     "output_type": "stream",
     "text": [
      "/home/mle-user/.venv/bin/python\n"
     ]
    }
   ],
   "source": [
    "import sys\n",
    "\n",
    "# Проверяем, в каком окружении работаем\n",
    "print(sys.executable)"
   ]
  },
  {
   "cell_type": "code",
   "execution_count": 2,
   "id": "792bbecf",
   "metadata": {},
   "outputs": [],
   "source": [
    "# Отключаем предупреждения\n",
    "import warnings\n",
    "from pandas.errors import SettingWithCopyWarning\n",
    "\n",
    "warnings.simplefilter(action='ignore', category=(SettingWithCopyWarning, FutureWarning))"
   ]
  },
  {
   "attachments": {},
   "cell_type": "markdown",
   "id": "7afa1cfd",
   "metadata": {},
   "source": [
    "### Загрузка и разбиение данных"
   ]
  },
  {
   "cell_type": "code",
   "execution_count": 3,
   "id": "6ab0db85-17df-4a4f-b23c-e9cd983d8c43",
   "metadata": {},
   "outputs": [],
   "source": [
    "# Загружаем основные данные\n",
    "items = pd.read_parquet(\"items.parquet\")\n",
    "events = pd.read_parquet(\"events.parquet\")"
   ]
  },
  {
   "attachments": {},
   "cell_type": "markdown",
   "id": "47016708-6f94-4518-886c-58fa6e7bb315",
   "metadata": {},
   "source": [
    "Разбиваем данные на тренировочную и тестовую выборки (в последнюю относим данные до 16 декабря 2022 г. не включительно)."
   ]
  },
  {
   "cell_type": "code",
   "execution_count": 4,
   "id": "a89ca2e2",
   "metadata": {},
   "outputs": [],
   "source": [
    "# Зададим точку разбиения\n",
    "train_test_global_time_split_date = pd.to_datetime(\"2022-12-16\")\n",
    "\n",
    "train_test_global_time_split_idx = events[\"started_at\"] < train_test_global_time_split_date\n",
    "events_train = events[train_test_global_time_split_idx]\n",
    "events_test = events[~train_test_global_time_split_idx]"
   ]
  },
  {
   "attachments": {},
   "cell_type": "markdown",
   "id": "63074256",
   "metadata": {},
   "source": [
    "### Рекомендации на основе самых популярных треков"
   ]
  },
  {
   "attachments": {},
   "cell_type": "markdown",
   "id": "68af8408",
   "metadata": {},
   "source": [
    "Загружаем ранее сохраненные топ-треки и оцениваем качество рекомендаций на их основе для \"холодных\" пользователей."
   ]
  },
  {
   "cell_type": "code",
   "execution_count": 6,
   "id": "7dc9cdee",
   "metadata": {},
   "outputs": [
    {
     "data": {
      "text/html": [
       "<div>\n",
       "<style scoped>\n",
       "    .dataframe tbody tr th:only-of-type {\n",
       "        vertical-align: middle;\n",
       "    }\n",
       "\n",
       "    .dataframe tbody tr th {\n",
       "        vertical-align: top;\n",
       "    }\n",
       "\n",
       "    .dataframe thead th {\n",
       "        text-align: right;\n",
       "    }\n",
       "</style>\n",
       "<table border=\"1\" class=\"dataframe\">\n",
       "  <thead>\n",
       "    <tr style=\"text-align: right;\">\n",
       "      <th></th>\n",
       "      <th>item_id</th>\n",
       "      <th>plays</th>\n",
       "      <th>users</th>\n",
       "      <th>name</th>\n",
       "      <th>genres</th>\n",
       "      <th>artists</th>\n",
       "      <th>albums</th>\n",
       "    </tr>\n",
       "  </thead>\n",
       "  <tbody>\n",
       "    <tr>\n",
       "      <th>0</th>\n",
       "      <td>53404</td>\n",
       "      <td>15704</td>\n",
       "      <td>15704</td>\n",
       "      <td>Smells Like Teen Spirit</td>\n",
       "      <td>[alternative, allrock, rock]</td>\n",
       "      <td>[Nirvana]</td>\n",
       "      <td>[Smells Like Teen Spirit / In Bloom / On A Pla...</td>\n",
       "    </tr>\n",
       "    <tr>\n",
       "      <th>1</th>\n",
       "      <td>178529</td>\n",
       "      <td>14088</td>\n",
       "      <td>14088</td>\n",
       "      <td>Numb</td>\n",
       "      <td>[numetal, metal]</td>\n",
       "      <td>[Linkin Park]</td>\n",
       "      <td>[Meteora, 00s Rock Anthems]</td>\n",
       "    </tr>\n",
       "    <tr>\n",
       "      <th>2</th>\n",
       "      <td>37384</td>\n",
       "      <td>12798</td>\n",
       "      <td>12798</td>\n",
       "      <td>Zombie</td>\n",
       "      <td>[allrock, rock]</td>\n",
       "      <td>[The Cranberries]</td>\n",
       "      <td>[90s Alternative, MNM Sing Your Song: Back To ...</td>\n",
       "    </tr>\n",
       "    <tr>\n",
       "      <th>3</th>\n",
       "      <td>6705392</td>\n",
       "      <td>12735</td>\n",
       "      <td>12735</td>\n",
       "      <td>Seven Nation Army</td>\n",
       "      <td>[alternative]</td>\n",
       "      <td>[The White Stripes]</td>\n",
       "      <td>[Pay Close Attention : XL Recordings, Radio 1 ...</td>\n",
       "    </tr>\n",
       "    <tr>\n",
       "      <th>4</th>\n",
       "      <td>33311009</td>\n",
       "      <td>11972</td>\n",
       "      <td>11972</td>\n",
       "      <td>Believer</td>\n",
       "      <td>[allrock, rock]</td>\n",
       "      <td>[Imagine Dragons]</td>\n",
       "      <td>[Horoscope Tunes: Cancer, Workout Music Hits 2...</td>\n",
       "    </tr>\n",
       "  </tbody>\n",
       "</table>\n",
       "</div>"
      ],
      "text/plain": [
       "    item_id  plays  users                     name  \\\n",
       "0     53404  15704  15704  Smells Like Teen Spirit   \n",
       "1    178529  14088  14088                     Numb   \n",
       "2     37384  12798  12798                   Zombie   \n",
       "3   6705392  12735  12735        Seven Nation Army   \n",
       "4  33311009  11972  11972                 Believer   \n",
       "\n",
       "                         genres              artists  \\\n",
       "0  [alternative, allrock, rock]            [Nirvana]   \n",
       "1              [numetal, metal]        [Linkin Park]   \n",
       "2               [allrock, rock]    [The Cranberries]   \n",
       "3                 [alternative]  [The White Stripes]   \n",
       "4               [allrock, rock]    [Imagine Dragons]   \n",
       "\n",
       "                                              albums  \n",
       "0  [Smells Like Teen Spirit / In Bloom / On A Pla...  \n",
       "1                        [Meteora, 00s Rock Anthems]  \n",
       "2  [90s Alternative, MNM Sing Your Song: Back To ...  \n",
       "3  [Pay Close Attention : XL Recordings, Radio 1 ...  \n",
       "4  [Horoscope Tunes: Cancer, Workout Music Hits 2...  "
      ]
     },
     "execution_count": 6,
     "metadata": {},
     "output_type": "execute_result"
    }
   ],
   "source": [
    "# Загружаем топ-100 самых прослушиваемых треков\n",
    "top_k_pop_items = pd.read_parquet(\"top_popular.parquet\")\n",
    "top_k_pop_items.head()"
   ]
  },
  {
   "cell_type": "code",
   "execution_count": 7,
   "id": "79d99bd8",
   "metadata": {},
   "outputs": [],
   "source": [
    "# Идентификаторы уникальных пользователей в train и test\n",
    "users_train = events_train[\"user_id\"].drop_duplicates()\n",
    "users_test = events_test[\"user_id\"].drop_duplicates()"
   ]
  },
  {
   "cell_type": "code",
   "execution_count": 12,
   "id": "4c14db05",
   "metadata": {},
   "outputs": [
    {
     "data": {
      "text/plain": [
       "Series([], Name: user_id, dtype: int32)"
      ]
     },
     "execution_count": 12,
     "metadata": {},
     "output_type": "execute_result"
    }
   ],
   "source": [
    "# Идентификаторы \"холодных\" пользователей\n",
    "cold_users = users_test[~users_test.isin(users_train)]\n",
    "print(f\"Кол-во холодных пользователей: {len(cold_users)}\")"
   ]
  },
  {
   "cell_type": "markdown",
   "id": "04686f2f",
   "metadata": {},
   "source": [
    "Удаление большого кол-ва записей из истории взаимодействий привело к тому, что холодных пользователей не оказалось."
   ]
  },
  {
   "cell_type": "code",
   "execution_count": 9,
   "id": "dcbbed51",
   "metadata": {},
   "outputs": [],
   "source": [
    "# Формируем бинарные колонки target и prediction\n",
    "\n",
    "top_k_pop_items['prediction'] = 1\n",
    "\n",
    "cold_users_events = \\\n",
    "    events_test[events_test[\"user_id\"].isin(cold_users)] \\\n",
    "        .merge(top_k_pop_items[['item_id', 'prediction']], on=\"item_id\", how=\"left\")\n",
    "\n",
    "cold_users_events['prediction'].fillna(0, inplace=True)\n",
    "\n",
    "cold_users_events['target'] = 1"
   ]
  },
  {
   "cell_type": "code",
   "execution_count": 10,
   "id": "09037c20",
   "metadata": {},
   "outputs": [
    {
     "name": "stdout",
     "output_type": "stream",
     "text": [
      "nan\n"
     ]
    },
    {
     "name": "stderr",
     "output_type": "stream",
     "text": [
      "/home/mle-user/.venv/lib/python3.10/site-packages/numpy/lib/function_base.py:520: RuntimeWarning: Mean of empty slice.\n",
      "  avg = a.mean(axis, **keepdims_kw)\n",
      "/home/mle-user/.venv/lib/python3.10/site-packages/numpy/core/_methods.py:129: RuntimeWarning: invalid value encountered in scalar divide\n",
      "  ret = ret.dtype.type(ret / rcount)\n"
     ]
    }
   ],
   "source": [
    "# Точность рекомендаций\n",
    "accuracy = accuracy_score(cold_users_events['prediction'], cold_users_events['target'])\n",
    "print(accuracy)"
   ]
  },
  {
   "cell_type": "code",
   "execution_count": 13,
   "id": "afe0ec5a",
   "metadata": {},
   "outputs": [
    {
     "name": "stdout",
     "output_type": "stream",
     "text": [
      "Доля пользователей без релевантных рекомендаций: nan\n",
      "Среднее покрытие пользователей: nan\n"
     ]
    }
   ],
   "source": [
    "# Считаем покрытие \"холодных\" пользователей рекомендациями.\n",
    "cold_users_hit_ratio = cold_users_events.groupby(\"user_id\").agg(hits=(\"prediction\", 'sum'))\n",
    "\n",
    "print(f\"Доля пользователей без релевантных рекомендаций: {(cold_users_hit_ratio == 0).mean().iat[0]:.2f}\")\n",
    "print(f\"Среднее покрытие пользователей: {cold_users_hit_ratio[cold_users_hit_ratio != 0].mean().iat[0]:.2f}\")"
   ]
  },
  {
   "attachments": {},
   "cell_type": "markdown",
   "id": "5c4449d7",
   "metadata": {},
   "source": [
    "### Персональные рекомендации на основе коллаборативного подхода и ALS\n",
    "\n",
    "[Техническая документация на библиотеку implicit](https://benfred.github.io/implicit/api/models/cpu/als.html)\n"
   ]
  },
  {
   "attachments": {},
   "cell_type": "markdown",
   "id": "44d62bc6",
   "metadata": {},
   "source": [
    "Перекодируем идентификаторы `user_id` и `item_id`."
   ]
  },
  {
   "cell_type": "code",
   "execution_count": 5,
   "id": "21789993-d0cd-4e74-96af-b3966d0f44c3",
   "metadata": {},
   "outputs": [],
   "source": [
    "# Перекодируем идентификаторы пользователей: \n",
    "# из имеющихся в последовательность 0, 1, 2, ...\n",
    "user_encoder = sklearn.preprocessing.LabelEncoder()\n",
    "user_encoder.fit(events[\"user_id\"])\n",
    "events_train[\"user_id_enc\"] = user_encoder.transform(events_train[\"user_id\"])\n",
    "events_test[\"user_id_enc\"] = user_encoder.transform(events_test[\"user_id\"])\n",
    "\n",
    "# Перекодируем идентификаторы объектов: \n",
    "# из имеющихся в последовательность 0, 1, 2, ...\n",
    "item_encoder = sklearn.preprocessing.LabelEncoder()\n",
    "item_encoder.fit(items[\"item_id\"])\n",
    "items[\"item_id_enc\"] = item_encoder.transform(items[\"item_id\"])\n",
    "events_train = events_train.merge(items[[\"item_id\", \"item_id_enc\"]], on=\"item_id\", how='left')\n",
    "events_test = events_test.merge(items[[\"item_id\", \"item_id_enc\"]], on=\"item_id\", how='left')"
   ]
  },
  {
   "attachments": {},
   "cell_type": "markdown",
   "id": "e1729e60",
   "metadata": {},
   "source": [
    "Создаем sparse-матрицу в формате [CSR](https://docs.scipy.org/doc/scipy/reference/sparse.html)"
   ]
  },
  {
   "cell_type": "code",
   "execution_count": 15,
   "id": "92452e8e",
   "metadata": {},
   "outputs": [],
   "source": [
    "# Формируем колонку target (1 - трек прослушан, 0 - нет)\n",
    "events_train['target'] = 1\n",
    "\n",
    "# Создаём sparse-матрицу формата CSR \n",
    "user_item_matrix_train = scipy.sparse.csr_matrix((\n",
    "    events_train[\"target\"],\n",
    "    (events_train['user_id_enc'], events_train['item_id_enc'])),\n",
    "    dtype=np.int8)"
   ]
  },
  {
   "attachments": {},
   "cell_type": "markdown",
   "id": "dd3edbf4",
   "metadata": {},
   "source": [
    "Имея подготовленную матрицу взаимодействий, создаем ALS-модель. Для примера возьмём количество латентных факторов для матриц $P и Q$ равным 50. "
   ]
  },
  {
   "cell_type": "code",
   "execution_count": 16,
   "id": "e011302b",
   "metadata": {},
   "outputs": [
    {
     "name": "stderr",
     "output_type": "stream",
     "text": [
      "/home/mle-user/.venv/lib/python3.10/site-packages/implicit/cpu/als.py:95: RuntimeWarning: OpenBLAS is configured to use 4 threads. It is highly recommended to disable its internal threadpool by setting the environment variable 'OPENBLAS_NUM_THREADS=1' or by calling 'threadpoolctl.threadpool_limits(1, \"blas\")'. Having OpenBLAS use a threadpool can lead to severe performance issues here.\n",
      "  check_blas_config()\n"
     ]
    },
    {
     "data": {
      "application/vnd.jupyter.widget-view+json": {
       "model_id": "518828f6d06643e4ac25202a7631f23a",
       "version_major": 2,
       "version_minor": 0
      },
      "text/plain": [
       "  0%|          | 0/50 [00:00<?, ?it/s]"
      ]
     },
     "metadata": {},
     "output_type": "display_data"
    }
   ],
   "source": [
    "# Код для создания и тренировки модели\n",
    "from implicit.als import AlternatingLeastSquares\n",
    "\n",
    "als_model = AlternatingLeastSquares(factors=50, iterations=50, regularization=0.05, random_state=0)\n",
    "als_model.fit(user_item_matrix_train)"
   ]
  },
  {
   "cell_type": "code",
   "execution_count": 18,
   "id": "193bbcf7",
   "metadata": {},
   "outputs": [],
   "source": [
    "# Сохраняем als-модель в файл\n",
    "os.makedirs('models/', exist_ok=True)\n",
    "with open('models/als_model.pkl', 'wb') as fd:\n",
    "    joblib.dump(als_model, fd)"
   ]
  },
  {
   "attachments": {},
   "cell_type": "markdown",
   "id": "c2fa48cc",
   "metadata": {},
   "source": [
    "Чтобы получить рекомендации для отдельного пользователя с помощью модели ALS, используем функцию ниже."
   ]
  },
  {
   "cell_type": "code",
   "execution_count": 19,
   "id": "d179b89f",
   "metadata": {},
   "outputs": [],
   "source": [
    "def get_recommendations_als(user_item_matrix, als_model, user_id, user_encoder, item_encoder, include_seen=True, n=5):\n",
    "    \"\"\"\n",
    "    Возвращает отранжированные рекомендации для заданного пользователя\n",
    "    \"\"\"\n",
    "    user_id_enc = user_encoder.transform([user_id])[0]\n",
    "    recommendations = als_model.recommend(\n",
    "         user_id_enc, \n",
    "         user_item_matrix[user_id_enc], \n",
    "         filter_already_liked_items=not include_seen,\n",
    "         N=n)\n",
    "    recommendations = pd.DataFrame({\"item_id_enc\": recommendations[0], \"score\": recommendations[1]})\n",
    "    recommendations[\"item_id\"] = item_encoder.inverse_transform(recommendations[\"item_id_enc\"])\n",
    "    \n",
    "    return recommendations"
   ]
  },
  {
   "attachments": {},
   "cell_type": "markdown",
   "id": "fea36430",
   "metadata": {},
   "source": [
    "Посмотрим историю и рекомендации для случайного пользователя."
   ]
  },
  {
   "cell_type": "code",
   "execution_count": 22,
   "id": "06e910d6",
   "metadata": {},
   "outputs": [
    {
     "name": "stdout",
     "output_type": "stream",
     "text": [
      "user_id: 1160915\n",
      "Последние события:\n"
     ]
    },
    {
     "data": {
      "text/html": [
       "<div>\n",
       "<style scoped>\n",
       "    .dataframe tbody tr th:only-of-type {\n",
       "        vertical-align: middle;\n",
       "    }\n",
       "\n",
       "    .dataframe tbody tr th {\n",
       "        vertical-align: top;\n",
       "    }\n",
       "\n",
       "    .dataframe thead th {\n",
       "        text-align: right;\n",
       "    }\n",
       "</style>\n",
       "<table border=\"1\" class=\"dataframe\">\n",
       "  <thead>\n",
       "    <tr style=\"text-align: right;\">\n",
       "      <th></th>\n",
       "      <th>item_id</th>\n",
       "      <th>name</th>\n",
       "      <th>genres</th>\n",
       "      <th>albums</th>\n",
       "      <th>artists</th>\n",
       "    </tr>\n",
       "  </thead>\n",
       "  <tbody>\n",
       "    <tr>\n",
       "      <th>976</th>\n",
       "      <td>69978738</td>\n",
       "      <td>Бро не женись пока нет</td>\n",
       "      <td>[rusrap, rap]</td>\n",
       "      <td>[Бро не женись пока нет, Дорога в Сити. Deluxe...</td>\n",
       "      <td>[Нурминский]</td>\n",
       "    </tr>\n",
       "    <tr>\n",
       "      <th>977</th>\n",
       "      <td>70103692</td>\n",
       "      <td>Дотянись</td>\n",
       "      <td>[rusrap, rap]</td>\n",
       "      <td>[Дотянись]</td>\n",
       "      <td>[Tengri]</td>\n",
       "    </tr>\n",
       "    <tr>\n",
       "      <th>978</th>\n",
       "      <td>70435565</td>\n",
       "      <td>Every Time We Touch</td>\n",
       "      <td>[allrock, rock]</td>\n",
       "      <td>[Covers, Vol. 3, Every Time We Touch, Cole Rol...</td>\n",
       "      <td>[Lauren Babic, Cole Rolland]</td>\n",
       "    </tr>\n",
       "    <tr>\n",
       "      <th>979</th>\n",
       "      <td>70488657</td>\n",
       "      <td>New Divide</td>\n",
       "      <td>[allrock, rock]</td>\n",
       "      <td>[Young's Old Covers (2019-2021), New Divide]</td>\n",
       "      <td>[Jonathan Young]</td>\n",
       "    </tr>\n",
       "    <tr>\n",
       "      <th>980</th>\n",
       "      <td>70764600</td>\n",
       "      <td>Имя твоё</td>\n",
       "      <td>[metal, classicmetal]</td>\n",
       "      <td>[Имя твоё]</td>\n",
       "      <td>[Юрий Суздаль, Колизей]</td>\n",
       "    </tr>\n",
       "    <tr>\n",
       "      <th>981</th>\n",
       "      <td>70940455</td>\n",
       "      <td>Нет времени для тебя</td>\n",
       "      <td>[None, metal]</td>\n",
       "      <td>[Нет времени для тебя]</td>\n",
       "      <td>[Трибунал]</td>\n",
       "    </tr>\n",
       "    <tr>\n",
       "      <th>982</th>\n",
       "      <td>71018795</td>\n",
       "      <td>Дом-на-крови</td>\n",
       "      <td>[numetal, metal]</td>\n",
       "      <td>[Начало нового круга]</td>\n",
       "      <td>[LOUNA]</td>\n",
       "    </tr>\n",
       "    <tr>\n",
       "      <th>983</th>\n",
       "      <td>71018799</td>\n",
       "      <td>Молчание ягнят</td>\n",
       "      <td>[numetal, metal]</td>\n",
       "      <td>[Начало нового круга]</td>\n",
       "      <td>[LOUNA]</td>\n",
       "    </tr>\n",
       "    <tr>\n",
       "      <th>984</th>\n",
       "      <td>71238337</td>\n",
       "      <td>Пацанам</td>\n",
       "      <td>[rusrap, rap]</td>\n",
       "      <td>[Пацанам]</td>\n",
       "      <td>[Литвиненко]</td>\n",
       "    </tr>\n",
       "    <tr>\n",
       "      <th>985</th>\n",
       "      <td>71503290</td>\n",
       "      <td>Большой дядя</td>\n",
       "      <td>[rusrap, rap]</td>\n",
       "      <td>[Дорога в Сити. Deluxe Version, Дорога в Сити]</td>\n",
       "      <td>[Нурминский]</td>\n",
       "    </tr>\n",
       "  </tbody>\n",
       "</table>\n",
       "</div>"
      ],
      "text/plain": [
       "      item_id                    name                 genres  \\\n",
       "976  69978738  Бро не женись пока нет          [rusrap, rap]   \n",
       "977  70103692                Дотянись          [rusrap, rap]   \n",
       "978  70435565     Every Time We Touch        [allrock, rock]   \n",
       "979  70488657              New Divide        [allrock, rock]   \n",
       "980  70764600                Имя твоё  [metal, classicmetal]   \n",
       "981  70940455    Нет времени для тебя          [None, metal]   \n",
       "982  71018795            Дом-на-крови       [numetal, metal]   \n",
       "983  71018799          Молчание ягнят       [numetal, metal]   \n",
       "984  71238337                 Пацанам          [rusrap, rap]   \n",
       "985  71503290            Большой дядя          [rusrap, rap]   \n",
       "\n",
       "                                                albums  \\\n",
       "976  [Бро не женись пока нет, Дорога в Сити. Deluxe...   \n",
       "977                                         [Дотянись]   \n",
       "978  [Covers, Vol. 3, Every Time We Touch, Cole Rol...   \n",
       "979       [Young's Old Covers (2019-2021), New Divide]   \n",
       "980                                         [Имя твоё]   \n",
       "981                             [Нет времени для тебя]   \n",
       "982                              [Начало нового круга]   \n",
       "983                              [Начало нового круга]   \n",
       "984                                          [Пацанам]   \n",
       "985     [Дорога в Сити. Deluxe Version, Дорога в Сити]   \n",
       "\n",
       "                          artists  \n",
       "976                  [Нурминский]  \n",
       "977                      [Tengri]  \n",
       "978  [Lauren Babic, Cole Rolland]  \n",
       "979              [Jonathan Young]  \n",
       "980       [Юрий Суздаль, Колизей]  \n",
       "981                    [Трибунал]  \n",
       "982                       [LOUNA]  \n",
       "983                       [LOUNA]  \n",
       "984                  [Литвиненко]  \n",
       "985                  [Нурминский]  "
      ]
     },
     "metadata": {},
     "output_type": "display_data"
    },
    {
     "name": "stdout",
     "output_type": "stream",
     "text": [
      "Рекомендации:\n"
     ]
    },
    {
     "data": {
      "text/html": [
       "<div>\n",
       "<style scoped>\n",
       "    .dataframe tbody tr th:only-of-type {\n",
       "        vertical-align: middle;\n",
       "    }\n",
       "\n",
       "    .dataframe tbody tr th {\n",
       "        vertical-align: top;\n",
       "    }\n",
       "\n",
       "    .dataframe thead th {\n",
       "        text-align: right;\n",
       "    }\n",
       "</style>\n",
       "<table border=\"1\" class=\"dataframe\">\n",
       "  <thead>\n",
       "    <tr style=\"text-align: right;\">\n",
       "      <th></th>\n",
       "      <th>item_id</th>\n",
       "      <th>name</th>\n",
       "      <th>genres</th>\n",
       "      <th>albums</th>\n",
       "      <th>artists</th>\n",
       "      <th>score</th>\n",
       "    </tr>\n",
       "  </thead>\n",
       "  <tbody>\n",
       "    <tr>\n",
       "      <th>0</th>\n",
       "      <td>418017</td>\n",
       "      <td>Hero</td>\n",
       "      <td>[alternative]</td>\n",
       "      <td>[Awake, WOW Hits 2011, Vital Signs]</td>\n",
       "      <td>[Skillet]</td>\n",
       "      <td>0.649034</td>\n",
       "    </tr>\n",
       "    <tr>\n",
       "      <th>1</th>\n",
       "      <td>135147</td>\n",
       "      <td>Comatose</td>\n",
       "      <td>[alternative]</td>\n",
       "      <td>[Vital Signs, Comatose]</td>\n",
       "      <td>[Skillet]</td>\n",
       "      <td>0.647248</td>\n",
       "    </tr>\n",
       "    <tr>\n",
       "      <th>2</th>\n",
       "      <td>27032843</td>\n",
       "      <td>Shut Your Mouth</td>\n",
       "      <td>[industrial, metal]</td>\n",
       "      <td>[Nothing Remains The Same, Best Death Metal Ba...</td>\n",
       "      <td>[Pain]</td>\n",
       "      <td>0.641140</td>\n",
       "    </tr>\n",
       "    <tr>\n",
       "      <th>3</th>\n",
       "      <td>328683</td>\n",
       "      <td>Bring Me To Life</td>\n",
       "      <td>[alternative, allrock, rock]</td>\n",
       "      <td>[Mental Health 2020, Monster Millennium Hits, ...</td>\n",
       "      <td>[Evanescence]</td>\n",
       "      <td>0.635593</td>\n",
       "    </tr>\n",
       "    <tr>\n",
       "      <th>4</th>\n",
       "      <td>178529</td>\n",
       "      <td>Numb</td>\n",
       "      <td>[numetal, metal]</td>\n",
       "      <td>[Meteora, 00s Rock Anthems]</td>\n",
       "      <td>[Linkin Park]</td>\n",
       "      <td>0.628167</td>\n",
       "    </tr>\n",
       "    <tr>\n",
       "      <th>5</th>\n",
       "      <td>29456722</td>\n",
       "      <td>They Don't Care About Us</td>\n",
       "      <td>[numetal, metal]</td>\n",
       "      <td>[Love, Lies &amp; Therapy]</td>\n",
       "      <td>[Saliva]</td>\n",
       "      <td>0.621304</td>\n",
       "    </tr>\n",
       "    <tr>\n",
       "      <th>6</th>\n",
       "      <td>21709897</td>\n",
       "      <td>Still Waiting</td>\n",
       "      <td>[alternative]</td>\n",
       "      <td>[All the Good Shit: 14 Solid Gold Hits 2000-2008]</td>\n",
       "      <td>[Sum 41]</td>\n",
       "      <td>0.619633</td>\n",
       "    </tr>\n",
       "    <tr>\n",
       "      <th>7</th>\n",
       "      <td>178495</td>\n",
       "      <td>In the End</td>\n",
       "      <td>[numetal, metal]</td>\n",
       "      <td>[Antyradio: Najlepszy Rock Na Swiecie Vol. 4, ...</td>\n",
       "      <td>[Linkin Park]</td>\n",
       "      <td>0.606558</td>\n",
       "    </tr>\n",
       "    <tr>\n",
       "      <th>8</th>\n",
       "      <td>14701552</td>\n",
       "      <td>How You Remind Me</td>\n",
       "      <td>[allrock, rock]</td>\n",
       "      <td>[Playlist: Alt Rock, Rock Love, I Love Power B...</td>\n",
       "      <td>[Nickelback]</td>\n",
       "      <td>0.603753</td>\n",
       "    </tr>\n",
       "    <tr>\n",
       "      <th>9</th>\n",
       "      <td>630670</td>\n",
       "      <td>You're Gonna Go Far, Kid</td>\n",
       "      <td>[punk]</td>\n",
       "      <td>[You're Gonna Go Far, Kid, Sleep Music Rock Ed...</td>\n",
       "      <td>[The Offspring]</td>\n",
       "      <td>0.602788</td>\n",
       "    </tr>\n",
       "  </tbody>\n",
       "</table>\n",
       "</div>"
      ],
      "text/plain": [
       "    item_id                      name                        genres  \\\n",
       "0    418017                      Hero                 [alternative]   \n",
       "1    135147                  Comatose                 [alternative]   \n",
       "2  27032843           Shut Your Mouth           [industrial, metal]   \n",
       "3    328683          Bring Me To Life  [alternative, allrock, rock]   \n",
       "4    178529                      Numb              [numetal, metal]   \n",
       "5  29456722  They Don't Care About Us              [numetal, metal]   \n",
       "6  21709897             Still Waiting                 [alternative]   \n",
       "7    178495                In the End              [numetal, metal]   \n",
       "8  14701552         How You Remind Me               [allrock, rock]   \n",
       "9    630670  You're Gonna Go Far, Kid                        [punk]   \n",
       "\n",
       "                                              albums          artists  \\\n",
       "0                [Awake, WOW Hits 2011, Vital Signs]        [Skillet]   \n",
       "1                            [Vital Signs, Comatose]        [Skillet]   \n",
       "2  [Nothing Remains The Same, Best Death Metal Ba...           [Pain]   \n",
       "3  [Mental Health 2020, Monster Millennium Hits, ...    [Evanescence]   \n",
       "4                        [Meteora, 00s Rock Anthems]    [Linkin Park]   \n",
       "5                             [Love, Lies & Therapy]         [Saliva]   \n",
       "6  [All the Good Shit: 14 Solid Gold Hits 2000-2008]         [Sum 41]   \n",
       "7  [Antyradio: Najlepszy Rock Na Swiecie Vol. 4, ...    [Linkin Park]   \n",
       "8  [Playlist: Alt Rock, Rock Love, I Love Power B...     [Nickelback]   \n",
       "9  [You're Gonna Go Far, Kid, Sleep Music Rock Ed...  [The Offspring]   \n",
       "\n",
       "      score  \n",
       "0  0.649034  \n",
       "1  0.647248  \n",
       "2  0.641140  \n",
       "3  0.635593  \n",
       "4  0.628167  \n",
       "5  0.621304  \n",
       "6  0.619633  \n",
       "7  0.606558  \n",
       "8  0.603753  \n",
       "9  0.602788  "
      ]
     },
     "metadata": {},
     "output_type": "display_data"
    }
   ],
   "source": [
    "# Выберем произвольного пользователя из тренировочной выборки (\"прошлого\")\n",
    "user_id = events_train['user_id'].sample().iat[0]\n",
    "print(f\"user_id: {user_id}\")\n",
    "\n",
    "print(\"Последние события:\")\n",
    "user_history = (\n",
    "    events_train\n",
    "    .query(\"user_id == @user_id\")\n",
    "    .merge(items.set_index(\"item_id\")[[\"name\", \"genres\", \"albums\", \"artists\"]], on=\"item_id\")\n",
    ")\n",
    "user_history_to_print = user_history[[\"item_id\", \"name\", \"genres\", \"albums\", \"artists\"]].tail(10)\n",
    "display(user_history_to_print)\n",
    "\n",
    "print(\"Рекомендации:\")\n",
    "user_recommendations = get_recommendations_als(user_item_matrix_train, als_model, user_id, user_encoder, item_encoder, include_seen=True, n=10)\n",
    "user_recommendations = user_recommendations.merge(items.set_index(\"item_id\")[[\"name\", \"genres\", \"albums\", \"artists\"]], on=\"item_id\")\n",
    "user_recommendations_to_print = \\\n",
    "    user_recommendations[[\"item_id\", \"name\", \"genres\", \"albums\", \"artists\", \"score\"]].head(10)\n",
    "display(user_recommendations_to_print)"
   ]
  },
  {
   "attachments": {},
   "cell_type": "markdown",
   "id": "2954f4df",
   "metadata": {},
   "source": [
    "Получим рекомендации для всех имеющихся пользователей."
   ]
  },
  {
   "cell_type": "code",
   "execution_count": 23,
   "id": "e09cf94b",
   "metadata": {},
   "outputs": [],
   "source": [
    "# Получаем список всех возможных user_id (перекодированных)\n",
    "user_ids_encoded = range(len(user_encoder.classes_))\n",
    "\n",
    "# Получаем рекомендации для всех пользователей\n",
    "als_recommendations = als_model.recommend(\n",
    "    user_ids_encoded, \n",
    "    user_item_matrix_train[user_ids_encoded], \n",
    "    filter_already_liked_items=False, \n",
    "    N=100)"
   ]
  },
  {
   "attachments": {},
   "cell_type": "markdown",
   "id": "0816a9a9",
   "metadata": {},
   "source": [
    "Код возвращает рекомендации как список списков, что не очень удобно. Преобразуем его в более удобный табличный формат."
   ]
  },
  {
   "cell_type": "code",
   "execution_count": 24,
   "id": "6b2024ca",
   "metadata": {},
   "outputs": [],
   "source": [
    "# преобразуем полученные рекомендации в табличный формат\n",
    "item_ids_enc = als_recommendations[0]\n",
    "als_scores = als_recommendations[1]\n",
    "\n",
    "als_recommendations = pd.DataFrame({\n",
    "    \"user_id_enc\": user_ids_encoded,\n",
    "    \"item_id_enc\": item_ids_enc.tolist(), \n",
    "    \"score\": als_scores.tolist()})\n",
    "als_recommendations = als_recommendations.explode([\"item_id_enc\", \"score\"], ignore_index=True)\n",
    "\n",
    "# приводим типы данных\n",
    "als_recommendations[\"item_id_enc\"] = als_recommendations[\"item_id_enc\"].astype(\"int\")\n",
    "als_recommendations[\"score\"] = als_recommendations[\"score\"].astype(\"float\")\n",
    "\n",
    "# получаем изначальные идентификаторы\n",
    "als_recommendations[\"user_id\"] = user_encoder.inverse_transform(als_recommendations[\"user_id_enc\"])\n",
    "als_recommendations[\"item_id\"] = item_encoder.inverse_transform(als_recommendations[\"item_id_enc\"])\n",
    "als_recommendations = als_recommendations.drop(columns=[\"user_id_enc\", \"item_id_enc\"])"
   ]
  },
  {
   "cell_type": "code",
   "execution_count": 25,
   "id": "efd05d0c",
   "metadata": {},
   "outputs": [],
   "source": [
    "# Смотрим, что получилось\n",
    "als_recommendations = als_recommendations[[\"user_id\", \"item_id\", \"score\"]]\n",
    "als_recommendations.head()"
   ]
  },
  {
   "cell_type": "code",
   "execution_count": 34,
   "id": "c5848f35",
   "metadata": {},
   "outputs": [
    {
     "data": {
      "text/html": [
       "<div>\n",
       "<style scoped>\n",
       "    .dataframe tbody tr th:only-of-type {\n",
       "        vertical-align: middle;\n",
       "    }\n",
       "\n",
       "    .dataframe tbody tr th {\n",
       "        vertical-align: top;\n",
       "    }\n",
       "\n",
       "    .dataframe thead th {\n",
       "        text-align: right;\n",
       "    }\n",
       "</style>\n",
       "<table border=\"1\" class=\"dataframe\">\n",
       "  <thead>\n",
       "    <tr style=\"text-align: right;\">\n",
       "      <th></th>\n",
       "      <th>user_id</th>\n",
       "      <th>item_id</th>\n",
       "      <th>score</th>\n",
       "      <th>target</th>\n",
       "      <th>prediction</th>\n",
       "      <th>played</th>\n",
       "      <th>rank</th>\n",
       "    </tr>\n",
       "  </thead>\n",
       "  <tbody>\n",
       "    <tr>\n",
       "      <th>1964300</th>\n",
       "      <td>801589</td>\n",
       "      <td>51241318</td>\n",
       "      <td>3.114186</td>\n",
       "      <td>0.0</td>\n",
       "      <td>1</td>\n",
       "      <td>True</td>\n",
       "      <td>1</td>\n",
       "    </tr>\n",
       "    <tr>\n",
       "      <th>754900</th>\n",
       "      <td>307933</td>\n",
       "      <td>70408028</td>\n",
       "      <td>2.804013</td>\n",
       "      <td>0.0</td>\n",
       "      <td>1</td>\n",
       "      <td>True</td>\n",
       "      <td>1</td>\n",
       "    </tr>\n",
       "    <tr>\n",
       "      <th>2592900</th>\n",
       "      <td>1055078</td>\n",
       "      <td>18860</td>\n",
       "      <td>2.770963</td>\n",
       "      <td>0.0</td>\n",
       "      <td>1</td>\n",
       "      <td>True</td>\n",
       "      <td>1</td>\n",
       "    </tr>\n",
       "    <tr>\n",
       "      <th>730700</th>\n",
       "      <td>298960</td>\n",
       "      <td>9060176</td>\n",
       "      <td>2.690973</td>\n",
       "      <td>0.0</td>\n",
       "      <td>1</td>\n",
       "      <td>True</td>\n",
       "      <td>1</td>\n",
       "    </tr>\n",
       "    <tr>\n",
       "      <th>774600</th>\n",
       "      <td>316011</td>\n",
       "      <td>28420997</td>\n",
       "      <td>2.663807</td>\n",
       "      <td>0.0</td>\n",
       "      <td>1</td>\n",
       "      <td>True</td>\n",
       "      <td>1</td>\n",
       "    </tr>\n",
       "  </tbody>\n",
       "</table>\n",
       "</div>"
      ],
      "text/plain": [
       "         user_id   item_id     score  target  prediction  played  rank\n",
       "1964300   801589  51241318  3.114186     0.0           1    True     1\n",
       "754900    307933  70408028  2.804013     0.0           1    True     1\n",
       "2592900  1055078     18860  2.770963     0.0           1    True     1\n",
       "730700    298960   9060176  2.690973     0.0           1    True     1\n",
       "774600    316011  28420997  2.663807     0.0           1    True     1"
      ]
     },
     "execution_count": 34,
     "metadata": {},
     "output_type": "execute_result"
    }
   ],
   "source": [
    "# Сохраним полученные рекомендации в файл\n",
    "als_recommendations.to_parquet(\"personal_als.parquet\")"
   ]
  },
  {
   "attachments": {},
   "cell_type": "markdown",
   "id": "95bdebaa",
   "metadata": {},
   "source": [
    "Оценим точность рекомендаций на тестовой выборке с порогом вероятности 0.5."
   ]
  },
  {
   "cell_type": "code",
   "execution_count": 26,
   "id": "d3219723",
   "metadata": {},
   "outputs": [],
   "source": [
    "# Формируем бинарные колонки target и prediction, для последней берем порог вероятности 0.5\n",
    "\n",
    "events_test['target'] = 1\n",
    "\n",
    "als_recommendations = (\n",
    "    als_recommendations\n",
    "    .merge(events_test[[\"user_id\", \"item_id\", \"target\"]], on=[\"user_id\", \"item_id\"], how=\"left\")\n",
    ")\n",
    "\n",
    "als_recommendations['target'] = als_recommendations['target'].fillna(0)\n",
    "\n",
    "als_recommendations['prediction'] = (als_recommendations['score'] >= 0.5).astype('int')"
   ]
  },
  {
   "cell_type": "code",
   "execution_count": 27,
   "id": "d766a2da",
   "metadata": {},
   "outputs": [
    {
     "name": "stdout",
     "output_type": "stream",
     "text": [
      "0.4865243305755716\n"
     ]
    }
   ],
   "source": [
    "# Точность рекомендаций\n",
    "accuracy = accuracy_score(als_recommendations['prediction'], als_recommendations['target'])\n",
    "print(accuracy)"
   ]
  },
  {
   "attachments": {},
   "cell_type": "markdown",
   "id": "b105d694",
   "metadata": {},
   "source": [
    "Посчитаем несколько специфичных метрик. \n",
    "\n",
    "Найдем покрытие по объектам, используя все имеющиеся рекомендации."
   ]
  },
  {
   "cell_type": "code",
   "execution_count": 28,
   "id": "61fa718b",
   "metadata": {},
   "outputs": [
    {
     "name": "stdout",
     "output_type": "stream",
     "text": [
      "0.010876911487221414\n"
     ]
    }
   ],
   "source": [
    "cov_items = als_recommendations['item_id'].nunique() / len(items) \n",
    "print(cov_items)"
   ]
  },
  {
   "attachments": {},
   "cell_type": "markdown",
   "id": "b2d9daf7",
   "metadata": {},
   "source": [
    "Посчитаем среднее Novelty@5, для этого:\n",
    "- разметим каждую рекомендацию в als_recommendations булевым признаком played, используя events_train\n",
    "(False — пользователь не прослушал трек, True — прослушал),\n",
    "- посчитаем Novelty@5 для каждого пользователя,\n",
    "- найдем среднее значение полученных Novelty@5."
   ]
  },
  {
   "cell_type": "code",
   "execution_count": 29,
   "id": "92673658",
   "metadata": {},
   "outputs": [
    {
     "name": "stdout",
     "output_type": "stream",
     "text": [
      "0.21277466417578508\n"
     ]
    }
   ],
   "source": [
    "# разметим каждую рекомендацию признаком played\n",
    "events_train[\"played\"] = True\n",
    "als_recommendations = als_recommendations \\\n",
    "    .merge(events_train[['played', \"user_id\", \"item_id\"]], on=[\"user_id\", \"item_id\"], how=\"left\")\n",
    "als_recommendations[\"played\"] = als_recommendations[\"played\"].fillna(False).astype(\"bool\")\n",
    "\n",
    "# проставим ранги\n",
    "als_recommendations = als_recommendations.sort_values(by='score', ascending=False) \n",
    "als_recommendations[\"rank\"] = als_recommendations.groupby(\"user_id\").cumcount() + 1\n",
    "\n",
    "# посчитаем novelty по пользователям\n",
    "novelty_5 = (1 - als_recommendations.query(\"rank <= 5\").groupby(\"user_id\")[\"played\"].mean())\n",
    "\n",
    "# посчитаем средний novelty\n",
    "novelty_5_mean = novelty_5.mean()\n",
    "print(novelty_5_mean)"
   ]
  },
  {
   "attachments": {},
   "cell_type": "markdown",
   "id": "6a9d0397",
   "metadata": {},
   "source": [
    "Посчитаем recall и precision для ALS-рекомендаций. Для этого события в тестовой выборке и рекомендации для одних и тех же пользователей разметим признаками:\n",
    "- gt (ground truth): объект есть в тестовой выборке;\n",
    "- pr (predicted): объект есть в рекомендациях.\n",
    "\n",
    "Теперь разметим признаки бинарной классификации:\n",
    "- TP: объект есть и в тестовой выборке, и в рекомендациях (истинная рекомендация),\n",
    "- FP: объекта нет в тестовой выборке, но он есть в рекомендациях (ложноположительная рекомендация),\n",
    "- FN: объект есть в тестовой выборке, но его нет в рекомендациях (ложноотрицательная рекомендация)"
   ]
  },
  {
   "attachments": {},
   "cell_type": "markdown",
   "id": "fc65ca34",
   "metadata": {},
   "source": [
    "Создаем функцию для подсчета метрик TP, FP и FN у пользователей, которые есть одновременно и в events_train,\n",
    "и в events_test."
   ]
  },
  {
   "cell_type": "code",
   "execution_count": 28,
   "id": "27e88668",
   "metadata": {},
   "outputs": [],
   "source": [
    "def process_events_recs_for_binary_metrics(events_train, events_test, recs, top_k=None):\n",
    "\n",
    "    \"\"\"\n",
    "    размечает пары <user_id, item_id> для общего множества пользователей признаками\n",
    "    - gt (ground truth)\n",
    "    - pr (prediction)\n",
    "    top_k: расчёт ведётся только для top k-рекомендаций\n",
    "    \"\"\"\n",
    "\n",
    "    events_test[\"gt\"] = True\n",
    "    common_users = set(events_test[\"user_id\"]) & set(recs[\"user_id\"])\n",
    "\n",
    "    print(f\"Common users: {len(common_users)}\")\n",
    "    \n",
    "    events_for_common_users = events_test[events_test[\"user_id\"].isin(common_users)].copy()\n",
    "    recs_for_common_users = recs[recs[\"user_id\"].isin(common_users)].copy()\n",
    "\n",
    "    recs_for_common_users = recs_for_common_users.sort_values([\"user_id\", \"score\"], ascending=[True, False])\n",
    "\n",
    "    # оставляет только те item_id, которые были в events_train, \n",
    "    # т. к. модель не имела никакой возможности давать рекомендации для новых айтемов\n",
    "    events_for_common_users = events_for_common_users[events_for_common_users[\"item_id\"].isin(events_train[\"item_id\"].unique())]\n",
    "\n",
    "    if top_k is not None:\n",
    "        recs_for_common_users = recs_for_common_users.groupby(\"user_id\").head(top_k)\n",
    "    \n",
    "    events_recs_common = events_for_common_users[[\"user_id\", \"item_id\", \"gt\"]].merge(\n",
    "        recs_for_common_users[[\"user_id\", \"item_id\", \"score\"]], \n",
    "        on=[\"user_id\", \"item_id\"], how=\"outer\")    \n",
    "\n",
    "    events_recs_common[\"gt\"] = events_recs_common[\"gt\"].fillna(False)\n",
    "    events_recs_common[\"pr\"] = ~events_recs_common[\"score\"].isnull()\n",
    "    \n",
    "    events_recs_common[\"tp\"] = events_recs_common[\"gt\"] & events_recs_common[\"pr\"]\n",
    "    events_recs_common[\"fp\"] = ~events_recs_common[\"gt\"] & events_recs_common[\"pr\"]\n",
    "    events_recs_common[\"fn\"] = events_recs_common[\"gt\"] & ~events_recs_common[\"pr\"]\n",
    "\n",
    "    return events_recs_common"
   ]
  },
  {
   "attachments": {},
   "cell_type": "markdown",
   "id": "81384457",
   "metadata": {},
   "source": [
    "Считаем TP, FP и FN для каждой пары user_id, item_id"
   ]
  },
  {
   "cell_type": "code",
   "execution_count": 31,
   "id": "3258ae01",
   "metadata": {},
   "outputs": [
    {
     "name": "stdout",
     "output_type": "stream",
     "text": [
      "Common users: 24210\n"
     ]
    }
   ],
   "source": [
    "events_recs_for_binary_metrics = process_events_recs_for_binary_metrics(events_train,\n",
    "                                                                        events_test, \n",
    "                                                                        als_recommendations,\n",
    "                                                                        top_k=5)"
   ]
  },
  {
   "attachments": {},
   "cell_type": "markdown",
   "id": "756009d0",
   "metadata": {},
   "source": [
    "Считаем precision и recall"
   ]
  },
  {
   "cell_type": "code",
   "execution_count": 30,
   "id": "ccc4535b",
   "metadata": {},
   "outputs": [],
   "source": [
    "def compute_cls_metrics(events_recs_for_binary_metrics):\n",
    "    \n",
    "    groupper = events_recs_for_binary_metrics.groupby(\"user_id\")\n",
    "\n",
    "    # precision = tp / (tp + fp)\n",
    "    precision = groupper[\"tp\"].sum() / (groupper[\"tp\"].sum() + groupper[\"fp\"].sum())\n",
    "    precision = precision.fillna(0).mean()\n",
    "    \n",
    "    # recall = tp / (tp + fn)\n",
    "    recall = groupper[\"tp\"].sum() / (groupper[\"tp\"].sum() + groupper[\"fn\"].sum()) \n",
    "    recall = recall.fillna(0).mean()\n",
    "\n",
    "    return precision, recall"
   ]
  },
  {
   "cell_type": "code",
   "execution_count": 33,
   "id": "da700f55",
   "metadata": {},
   "outputs": [
    {
     "name": "stdout",
     "output_type": "stream",
     "text": [
      "0.0 0.0\n"
     ]
    }
   ],
   "source": [
    "precision, recall = compute_cls_metrics(events_recs_for_binary_metrics)\n",
    "print(round(precision, 3), round(recall, 3))"
   ]
  },
  {
   "attachments": {},
   "cell_type": "markdown",
   "id": "a9e57038",
   "metadata": {},
   "source": [
    "### Рекомендации на основе контентного подхода и ALS"
   ]
  },
  {
   "attachments": {},
   "cell_type": "markdown",
   "id": "e8c1b816",
   "metadata": {},
   "source": [
    "Построим контентные рекомендации на основе принадлежности треков к различным жанрам.\n",
    "\n",
    "Сначала загрузим список жанров по всем трекам, который мы создали на предыдущем этапе"
   ]
  },
  {
   "cell_type": "code",
   "execution_count": 35,
   "id": "395b545c",
   "metadata": {},
   "outputs": [
    {
     "data": {
      "text/html": [
       "<div>\n",
       "<style scoped>\n",
       "    .dataframe tbody tr th:only-of-type {\n",
       "        vertical-align: middle;\n",
       "    }\n",
       "\n",
       "    .dataframe tbody tr th {\n",
       "        vertical-align: top;\n",
       "    }\n",
       "\n",
       "    .dataframe thead th {\n",
       "        text-align: right;\n",
       "    }\n",
       "</style>\n",
       "<table border=\"1\" class=\"dataframe\">\n",
       "  <thead>\n",
       "    <tr style=\"text-align: right;\">\n",
       "      <th></th>\n",
       "      <th>name</th>\n",
       "      <th>items_count</th>\n",
       "      <th>score</th>\n",
       "    </tr>\n",
       "    <tr>\n",
       "      <th>genre_id</th>\n",
       "      <th></th>\n",
       "      <th></th>\n",
       "      <th></th>\n",
       "    </tr>\n",
       "  </thead>\n",
       "  <tbody>\n",
       "    <tr>\n",
       "      <th>0</th>\n",
       "      <td>pop</td>\n",
       "      <td>166284</td>\n",
       "      <td>0.103221</td>\n",
       "    </tr>\n",
       "    <tr>\n",
       "      <th>1</th>\n",
       "      <td>folk</td>\n",
       "      <td>37547</td>\n",
       "      <td>0.023307</td>\n",
       "    </tr>\n",
       "    <tr>\n",
       "      <th>2</th>\n",
       "      <td>allrock</td>\n",
       "      <td>118506</td>\n",
       "      <td>0.073563</td>\n",
       "    </tr>\n",
       "    <tr>\n",
       "      <th>3</th>\n",
       "      <td>hardrock</td>\n",
       "      <td>10916</td>\n",
       "      <td>0.006776</td>\n",
       "    </tr>\n",
       "    <tr>\n",
       "      <th>4</th>\n",
       "      <td>rock</td>\n",
       "      <td>55174</td>\n",
       "      <td>0.034249</td>\n",
       "    </tr>\n",
       "  </tbody>\n",
       "</table>\n",
       "</div>"
      ],
      "text/plain": [
       "              name  items_count     score\n",
       "genre_id                                 \n",
       "0              pop       166284  0.103221\n",
       "1             folk        37547  0.023307\n",
       "2          allrock       118506  0.073563\n",
       "3         hardrock        10916  0.006776\n",
       "4             rock        55174  0.034249"
      ]
     },
     "execution_count": 35,
     "metadata": {},
     "output_type": "execute_result"
    }
   ],
   "source": [
    "genres = pd.read_parquet('genres.parquet')\n",
    "genres.head()"
   ]
  },
  {
   "attachments": {},
   "cell_type": "markdown",
   "id": "8bdf3862",
   "metadata": {},
   "source": [
    "Функция ниже строит матрицу вида «трек-жанр»"
   ]
  },
  {
   "cell_type": "code",
   "execution_count": 36,
   "id": "d9bb5163",
   "metadata": {},
   "outputs": [],
   "source": [
    "def get_item2genre_matrix(genres, items):\n",
    "\n",
    "    genre_names_to_id = genres.reset_index().set_index(\"name\")[\"genre_id\"].to_dict()\n",
    "    \n",
    "    # list to build CSR matrix\n",
    "    genres_csr_data = []\n",
    "    genres_csr_row_idx = []\n",
    "    genres_csr_col_idx = []\n",
    "    \n",
    "    for item_idx, (k, v) in enumerate(items.iterrows()):\n",
    "        if v[\"genres\"] is None: # После предобработки NA быть не может, оставили для общего случая\n",
    "            continue\n",
    "        \n",
    "        item_genres = list(v[\"genres\"])\n",
    "        \n",
    "        for genre_name in item_genres:\n",
    "            genre_idx = genre_names_to_id[genre_name]\n",
    "            genres_csr_data.append(1)\n",
    "            genres_csr_row_idx.append(item_idx)\n",
    "            genres_csr_col_idx.append(genre_idx)\n",
    "\n",
    "    genres_csr = scipy.sparse.csr_matrix((genres_csr_data, (genres_csr_row_idx, genres_csr_col_idx)), \\\n",
    "                                         shape=(len(items), len(genres)))\n",
    "    # нормализуем, чтобы сумма оценок принадлежности к жанрам была равна 1\n",
    "    genres_csr = sklearn.preprocessing.normalize(genres_csr, norm='l1', axis=1)\n",
    "    \n",
    "    return genres_csr"
   ]
  },
  {
   "attachments": {},
   "cell_type": "markdown",
   "id": "4bd948c4",
   "metadata": {},
   "source": [
    "Построим матрицу с весами по жанрам для каждого трека"
   ]
  },
  {
   "cell_type": "code",
   "execution_count": 37,
   "id": "2d4c3a16",
   "metadata": {},
   "outputs": [],
   "source": [
    "items = items.sort_values(by=\"item_id_enc\")\n",
    "all_items_genres_csr = get_item2genre_matrix(genres, items)"
   ]
  },
  {
   "attachments": {},
   "cell_type": "markdown",
   "id": "c37f3aee",
   "metadata": {},
   "source": [
    "Будем искать рекомендации на основе косинусной близости. Функция ниже находит рекомендации для одного пользователя"
   ]
  },
  {
   "cell_type": "code",
   "execution_count": 39,
   "id": "4fca9f11",
   "metadata": {},
   "outputs": [],
   "source": [
    "def get_recommendations_by_genres(user_id, items, events, all_items_genres_csr, n=5):\n",
    "\n",
    "    \"\"\" Возвращает n рекомендаций для user_id на основе предпочитаемых им жанров\"\"\"\n",
    "    \n",
    "    user_events = events.query(\"user_id == @user_id\")\n",
    "    user_items = items[items[\"item_id\"].isin(user_events[\"item_id\"])]\n",
    "\n",
    "    user_items_genres_csr = all_items_genres_csr[user_items['item_id_enc']]\n",
    "    \n",
    "    # вычислим среднюю склонность пользователя к жанрам \n",
    "    user_genres_scores = np.asarray(user_items_genres_csr.mean(axis=0))\n",
    "\n",
    "    # вычисляем сходство между треками пользователя и всеми имеющимися трекам\n",
    "    similarity_scores = cosine_similarity(all_items_genres_csr, user_genres_scores)\n",
    "\n",
    "    # преобразуем в одномерный массив\n",
    "    similarity_scores = similarity_scores.flatten()\n",
    "\n",
    "    # получаем индексы top-n (по убыванию значений), т.е. encoded индексы самых похожих треков\n",
    "    top_n_indices = np.argsort(-similarity_scores)[:n] \n",
    "\n",
    "    selected_items = items[items[\"item_id_enc\"].isin(top_n_indices)]\n",
    "    \n",
    "    return selected_items['item_id'].to_list(), similarity_scores[top_n_indices].tolist()"
   ]
  },
  {
   "attachments": {},
   "cell_type": "markdown",
   "id": "a8b3ab11",
   "metadata": {},
   "source": [
    "Посмотрим рекомендации для произвольного пользователя"
   ]
  },
  {
   "cell_type": "code",
   "execution_count": 42,
   "id": "e4185a9c",
   "metadata": {},
   "outputs": [
    {
     "name": "stdout",
     "output_type": "stream",
     "text": [
      "user_id: 672388\n",
      "Последние события:\n"
     ]
    },
    {
     "data": {
      "text/html": [
       "<div>\n",
       "<style scoped>\n",
       "    .dataframe tbody tr th:only-of-type {\n",
       "        vertical-align: middle;\n",
       "    }\n",
       "\n",
       "    .dataframe tbody tr th {\n",
       "        vertical-align: top;\n",
       "    }\n",
       "\n",
       "    .dataframe thead th {\n",
       "        text-align: right;\n",
       "    }\n",
       "</style>\n",
       "<table border=\"1\" class=\"dataframe\">\n",
       "  <thead>\n",
       "    <tr style=\"text-align: right;\">\n",
       "      <th></th>\n",
       "      <th>item_id</th>\n",
       "      <th>name</th>\n",
       "      <th>genres</th>\n",
       "      <th>albums</th>\n",
       "      <th>artists</th>\n",
       "    </tr>\n",
       "  </thead>\n",
       "  <tbody>\n",
       "    <tr>\n",
       "      <th>1868</th>\n",
       "      <td>99231063</td>\n",
       "      <td>Stand Up</td>\n",
       "      <td>[numetal, metal]</td>\n",
       "      <td>[Ego Trip, Stand Up]</td>\n",
       "      <td>[Papa Roach]</td>\n",
       "    </tr>\n",
       "    <tr>\n",
       "      <th>1869</th>\n",
       "      <td>99233920</td>\n",
       "      <td>Close Your Eyes</td>\n",
       "      <td>[electronics, dnb]</td>\n",
       "      <td>[Close Your Eyes, Cognition]</td>\n",
       "      <td>[Wilkinson, iiola]</td>\n",
       "    </tr>\n",
       "    <tr>\n",
       "      <th>1870</th>\n",
       "      <td>100139128</td>\n",
       "      <td>Lost In The Grandeur</td>\n",
       "      <td>[numetal, metal]</td>\n",
       "      <td>[Lost In The Grandeur, Requiem]</td>\n",
       "      <td>[Korn]</td>\n",
       "    </tr>\n",
       "    <tr>\n",
       "      <th>1871</th>\n",
       "      <td>100196196</td>\n",
       "      <td>Fiasco</td>\n",
       "      <td>[dance]</td>\n",
       "      <td>[Technoblues Therapy (Part I)]</td>\n",
       "      <td>[Intelligency]</td>\n",
       "    </tr>\n",
       "    <tr>\n",
       "      <th>1872</th>\n",
       "      <td>100196198</td>\n",
       "      <td>Instinct</td>\n",
       "      <td>[dance]</td>\n",
       "      <td>[Technoblues Therapy (Part I)]</td>\n",
       "      <td>[Intelligency]</td>\n",
       "    </tr>\n",
       "    <tr>\n",
       "      <th>1873</th>\n",
       "      <td>100199968</td>\n",
       "      <td>Let The Dark Do The Rest</td>\n",
       "      <td>[numetal, metal]</td>\n",
       "      <td>[Requiem]</td>\n",
       "      <td>[Korn]</td>\n",
       "    </tr>\n",
       "    <tr>\n",
       "      <th>1874</th>\n",
       "      <td>100199969</td>\n",
       "      <td>Disconnect</td>\n",
       "      <td>[numetal, metal]</td>\n",
       "      <td>[Requiem]</td>\n",
       "      <td>[Korn]</td>\n",
       "    </tr>\n",
       "    <tr>\n",
       "      <th>1875</th>\n",
       "      <td>100199971</td>\n",
       "      <td>Penance To Sorrow</td>\n",
       "      <td>[numetal, metal]</td>\n",
       "      <td>[Requiem]</td>\n",
       "      <td>[Korn]</td>\n",
       "    </tr>\n",
       "    <tr>\n",
       "      <th>1876</th>\n",
       "      <td>100199973</td>\n",
       "      <td>Worst Is On Its Way</td>\n",
       "      <td>[numetal, metal]</td>\n",
       "      <td>[Requiem]</td>\n",
       "      <td>[Korn]</td>\n",
       "    </tr>\n",
       "    <tr>\n",
       "      <th>1877</th>\n",
       "      <td>100846242</td>\n",
       "      <td>Fade Away</td>\n",
       "      <td>[electronics, dnb]</td>\n",
       "      <td>[Cognition]</td>\n",
       "      <td>[Jem Cooke, Wilkinson, Pola &amp; Bryson]</td>\n",
       "    </tr>\n",
       "  </tbody>\n",
       "</table>\n",
       "</div>"
      ],
      "text/plain": [
       "        item_id                      name              genres  \\\n",
       "1868   99231063                  Stand Up    [numetal, metal]   \n",
       "1869   99233920           Close Your Eyes  [electronics, dnb]   \n",
       "1870  100139128      Lost In The Grandeur    [numetal, metal]   \n",
       "1871  100196196                    Fiasco             [dance]   \n",
       "1872  100196198                  Instinct             [dance]   \n",
       "1873  100199968  Let The Dark Do The Rest    [numetal, metal]   \n",
       "1874  100199969                Disconnect    [numetal, metal]   \n",
       "1875  100199971         Penance To Sorrow    [numetal, metal]   \n",
       "1876  100199973       Worst Is On Its Way    [numetal, metal]   \n",
       "1877  100846242                 Fade Away  [electronics, dnb]   \n",
       "\n",
       "                               albums                                artists  \n",
       "1868             [Ego Trip, Stand Up]                           [Papa Roach]  \n",
       "1869     [Close Your Eyes, Cognition]                     [Wilkinson, iiola]  \n",
       "1870  [Lost In The Grandeur, Requiem]                                 [Korn]  \n",
       "1871   [Technoblues Therapy (Part I)]                         [Intelligency]  \n",
       "1872   [Technoblues Therapy (Part I)]                         [Intelligency]  \n",
       "1873                        [Requiem]                                 [Korn]  \n",
       "1874                        [Requiem]                                 [Korn]  \n",
       "1875                        [Requiem]                                 [Korn]  \n",
       "1876                        [Requiem]                                 [Korn]  \n",
       "1877                      [Cognition]  [Jem Cooke, Wilkinson, Pola & Bryson]  "
      ]
     },
     "metadata": {},
     "output_type": "display_data"
    },
    {
     "name": "stdout",
     "output_type": "stream",
     "text": [
      "Рекомендации:\n"
     ]
    },
    {
     "data": {
      "text/html": [
       "<div>\n",
       "<style scoped>\n",
       "    .dataframe tbody tr th:only-of-type {\n",
       "        vertical-align: middle;\n",
       "    }\n",
       "\n",
       "    .dataframe tbody tr th {\n",
       "        vertical-align: top;\n",
       "    }\n",
       "\n",
       "    .dataframe thead th {\n",
       "        text-align: right;\n",
       "    }\n",
       "</style>\n",
       "<table border=\"1\" class=\"dataframe\">\n",
       "  <thead>\n",
       "    <tr style=\"text-align: right;\">\n",
       "      <th></th>\n",
       "      <th>item_id</th>\n",
       "      <th>name</th>\n",
       "      <th>genres</th>\n",
       "      <th>albums</th>\n",
       "      <th>artists</th>\n",
       "      <th>scores</th>\n",
       "    </tr>\n",
       "  </thead>\n",
       "  <tbody>\n",
       "    <tr>\n",
       "      <th>443651</th>\n",
       "      <td>31109251</td>\n",
       "      <td>Always</td>\n",
       "      <td>[dance, electronics, pop]</td>\n",
       "      <td>[Jessica Jay Collection, JESSICA JAY, The Best of Jessica Jay]</td>\n",
       "      <td>[Jessica Jay]</td>\n",
       "      <td>0.787798</td>\n",
       "    </tr>\n",
       "    <tr>\n",
       "      <th>443654</th>\n",
       "      <td>31109254</td>\n",
       "      <td>I'm Living</td>\n",
       "      <td>[dance, electronics, pop]</td>\n",
       "      <td>[Jessica Jay Collection, JESSICA JAY, The Best of Jessica Jay]</td>\n",
       "      <td>[Jessica Jay]</td>\n",
       "      <td>0.787798</td>\n",
       "    </tr>\n",
       "    <tr>\n",
       "      <th>443655</th>\n",
       "      <td>31109255</td>\n",
       "      <td>One More Time</td>\n",
       "      <td>[dance, electronics, pop]</td>\n",
       "      <td>[Jessica Jay Collection, JESSICA JAY, The Best of Jessica Jay]</td>\n",
       "      <td>[Jessica Jay]</td>\n",
       "      <td>0.787798</td>\n",
       "    </tr>\n",
       "    <tr>\n",
       "      <th>443656</th>\n",
       "      <td>31109256</td>\n",
       "      <td>The Room at the Top of the Stears</td>\n",
       "      <td>[dance, electronics, pop]</td>\n",
       "      <td>[Jessica Jay Collection, JESSICA JAY, The Best of Jessica Jay]</td>\n",
       "      <td>[Jessica Jay]</td>\n",
       "      <td>0.787798</td>\n",
       "    </tr>\n",
       "    <tr>\n",
       "      <th>443657</th>\n",
       "      <td>31109257</td>\n",
       "      <td>Broken Hearted Woman</td>\n",
       "      <td>[dance, electronics, pop]</td>\n",
       "      <td>[Jessica Jay Collection, JESSICA JAY, The Best of Jessica Jay]</td>\n",
       "      <td>[Jessica Jay]</td>\n",
       "      <td>0.787798</td>\n",
       "    </tr>\n",
       "  </tbody>\n",
       "</table>\n",
       "</div>"
      ],
      "text/plain": [
       "         item_id                               name  \\\n",
       "443651  31109251                             Always   \n",
       "443654  31109254                         I'm Living   \n",
       "443655  31109255                      One More Time   \n",
       "443656  31109256  The Room at the Top of the Stears   \n",
       "443657  31109257               Broken Hearted Woman   \n",
       "\n",
       "                           genres  \\\n",
       "443651  [dance, electronics, pop]   \n",
       "443654  [dance, electronics, pop]   \n",
       "443655  [dance, electronics, pop]   \n",
       "443656  [dance, electronics, pop]   \n",
       "443657  [dance, electronics, pop]   \n",
       "\n",
       "                                                                albums  \\\n",
       "443651  [Jessica Jay Collection, JESSICA JAY, The Best of Jessica Jay]   \n",
       "443654  [Jessica Jay Collection, JESSICA JAY, The Best of Jessica Jay]   \n",
       "443655  [Jessica Jay Collection, JESSICA JAY, The Best of Jessica Jay]   \n",
       "443656  [Jessica Jay Collection, JESSICA JAY, The Best of Jessica Jay]   \n",
       "443657  [Jessica Jay Collection, JESSICA JAY, The Best of Jessica Jay]   \n",
       "\n",
       "              artists    scores  \n",
       "443651  [Jessica Jay]  0.787798  \n",
       "443654  [Jessica Jay]  0.787798  \n",
       "443655  [Jessica Jay]  0.787798  \n",
       "443656  [Jessica Jay]  0.787798  \n",
       "443657  [Jessica Jay]  0.787798  "
      ]
     },
     "metadata": {},
     "output_type": "display_data"
    }
   ],
   "source": [
    "# Выберем произвольного пользователя из тренировочной выборки (\"прошлого\")\n",
    "user_id = events_train['user_id'].sample().iat[0]\n",
    "print(f\"user_id: {user_id}\")\n",
    "\n",
    "print(\"Последние события:\")\n",
    "user_history = (\n",
    "    events_train\n",
    "    .query(\"user_id == @user_id\")\n",
    "    .merge(items.set_index(\"item_id\")[[\"name\", \"genres\", \"albums\", \"artists\"]], on=\"item_id\")\n",
    ")\n",
    "user_history_to_print = user_history[[\"item_id\", \"name\", \"genres\", \"albums\", \"artists\"]].tail(10)\n",
    "display(user_history_to_print)\n",
    "\n",
    "print(\"Рекомендации:\")\n",
    "selected_items, similarity_scores = \\\n",
    "    get_recommendations_by_genres(user_id, items, events_train, all_items_genres_csr, n=5)\n",
    "selected_items = items[items[\"item_id\"].isin(selected_items)]\n",
    "selected_items['scores'] = similarity_scores\n",
    "\n",
    "with pd.option_context(\"max_colwidth\", 100):\n",
    "   display(selected_items[[\"item_id\", \"name\", \"genres\", \"albums\", \"artists\", 'scores']])"
   ]
  },
  {
   "attachments": {},
   "cell_type": "markdown",
   "id": "d0b500b7",
   "metadata": {},
   "source": [
    "Запускаем поиск для пользователей из events_train. Для экономии ресурсов возьмем только 10000 первых user_id."
   ]
  },
  {
   "cell_type": "code",
   "execution_count": 49,
   "id": "ce02df49",
   "metadata": {},
   "outputs": [
    {
     "name": "stderr",
     "output_type": "stream",
     "text": [
      "100%|██████████| 1000/1000 [06:56<00:00,  2.40it/s]\n"
     ]
    }
   ],
   "source": [
    "# Для примера взял только первые 1000 юзеров\n",
    "\n",
    "users_ids = events_train['user_id'].unique()[:1000] \n",
    "\n",
    "n = 5\n",
    "items_ids = []\n",
    "scores = []\n",
    "for i, user_id in tqdm(enumerate(users_ids), total=1000):\n",
    "    user_items_ids, user_scores = \\\n",
    "        get_recommendations_by_genres(user_id, items, events_train, all_items_genres_csr, n)\n",
    "    items_ids.append(user_items_ids)\n",
    "    scores.append(user_scores)\n",
    "\n",
    "    if i >= 1000:\n",
    "        break\n",
    "\n",
    "content_recommendations = pd.DataFrame({\n",
    "    \"user_id\": users_ids,\n",
    "    \"item_id\": items_ids, \n",
    "    \"score\": scores})\n",
    "\n",
    "content_recommendations = content_recommendations.explode([\"item_id\", \"score\"], ignore_index=True)"
   ]
  },
  {
   "cell_type": "code",
   "execution_count": 50,
   "id": "7310acae",
   "metadata": {},
   "outputs": [
    {
     "data": {
      "text/html": [
       "<div>\n",
       "<style scoped>\n",
       "    .dataframe tbody tr th:only-of-type {\n",
       "        vertical-align: middle;\n",
       "    }\n",
       "\n",
       "    .dataframe tbody tr th {\n",
       "        vertical-align: top;\n",
       "    }\n",
       "\n",
       "    .dataframe thead th {\n",
       "        text-align: right;\n",
       "    }\n",
       "</style>\n",
       "<table border=\"1\" class=\"dataframe\">\n",
       "  <thead>\n",
       "    <tr style=\"text-align: right;\">\n",
       "      <th></th>\n",
       "      <th>user_id</th>\n",
       "      <th>item_id</th>\n",
       "      <th>score</th>\n",
       "    </tr>\n",
       "  </thead>\n",
       "  <tbody>\n",
       "    <tr>\n",
       "      <th>0</th>\n",
       "      <td>16</td>\n",
       "      <td>4879861</td>\n",
       "      <td>0.921282</td>\n",
       "    </tr>\n",
       "    <tr>\n",
       "      <th>1</th>\n",
       "      <td>16</td>\n",
       "      <td>32717047</td>\n",
       "      <td>0.921282</td>\n",
       "    </tr>\n",
       "    <tr>\n",
       "      <th>2</th>\n",
       "      <td>16</td>\n",
       "      <td>61326989</td>\n",
       "      <td>0.921282</td>\n",
       "    </tr>\n",
       "    <tr>\n",
       "      <th>3</th>\n",
       "      <td>16</td>\n",
       "      <td>61327379</td>\n",
       "      <td>0.921282</td>\n",
       "    </tr>\n",
       "    <tr>\n",
       "      <th>4</th>\n",
       "      <td>16</td>\n",
       "      <td>61331162</td>\n",
       "      <td>0.921282</td>\n",
       "    </tr>\n",
       "    <tr>\n",
       "      <th>...</th>\n",
       "      <td>...</td>\n",
       "      <td>...</td>\n",
       "      <td>...</td>\n",
       "    </tr>\n",
       "    <tr>\n",
       "      <th>4995</th>\n",
       "      <td>40745</td>\n",
       "      <td>16273834</td>\n",
       "      <td>0.841309</td>\n",
       "    </tr>\n",
       "    <tr>\n",
       "      <th>4996</th>\n",
       "      <td>40745</td>\n",
       "      <td>40694662</td>\n",
       "      <td>0.841309</td>\n",
       "    </tr>\n",
       "    <tr>\n",
       "      <th>4997</th>\n",
       "      <td>40745</td>\n",
       "      <td>45465132</td>\n",
       "      <td>0.841309</td>\n",
       "    </tr>\n",
       "    <tr>\n",
       "      <th>4998</th>\n",
       "      <td>40745</td>\n",
       "      <td>45495045</td>\n",
       "      <td>0.841309</td>\n",
       "    </tr>\n",
       "    <tr>\n",
       "      <th>4999</th>\n",
       "      <td>40745</td>\n",
       "      <td>56062988</td>\n",
       "      <td>0.803574</td>\n",
       "    </tr>\n",
       "  </tbody>\n",
       "</table>\n",
       "<p>5000 rows × 3 columns</p>\n",
       "</div>"
      ],
      "text/plain": [
       "      user_id   item_id     score\n",
       "0          16   4879861  0.921282\n",
       "1          16  32717047  0.921282\n",
       "2          16  61326989  0.921282\n",
       "3          16  61327379  0.921282\n",
       "4          16  61331162  0.921282\n",
       "...       ...       ...       ...\n",
       "4995    40745  16273834  0.841309\n",
       "4996    40745  40694662  0.841309\n",
       "4997    40745  45465132  0.841309\n",
       "4998    40745  45495045  0.841309\n",
       "4999    40745  56062988  0.803574\n",
       "\n",
       "[5000 rows x 3 columns]"
      ]
     },
     "execution_count": 50,
     "metadata": {},
     "output_type": "execute_result"
    }
   ],
   "source": [
    "# Смотрим результат\n",
    "content_recommendations"
   ]
  },
  {
   "cell_type": "code",
   "execution_count": 51,
   "id": "e2aa4a39",
   "metadata": {},
   "outputs": [],
   "source": [
    "# Сохраним полученные рекомендации в файл\n",
    "content_recommendations.to_parquet(\"content_recommendations.parquet\")"
   ]
  },
  {
   "attachments": {},
   "cell_type": "markdown",
   "id": "ee3b2935",
   "metadata": {},
   "source": [
    "### Рекомендации на основе похожих треков (i2i) и ALS\n",
    "\n",
    "Получим рекомендации при помощи метода [similar_items](https://benfred.github.io/implicit/api/models/cpu/als.html). Для экономии ресурсов возьмем не все объекты из `events_train`, а только первые 10 тыс."
   ]
  },
  {
   "cell_type": "code",
   "execution_count": null,
   "id": "98e4e9ec",
   "metadata": {},
   "outputs": [],
   "source": [
    "# Загружаем ALS-модель\n",
    "with open('models/als_model.pkl', 'rb') as fd:\n",
    "    als_model = joblib.load(fd)"
   ]
  },
  {
   "cell_type": "code",
   "execution_count": 57,
   "id": "22e88bd0",
   "metadata": {},
   "outputs": [],
   "source": [
    "# Получим энкодированные идентификаторы первых 10000 объектов в events_train\n",
    "train_item_ids_enc = events_train['item_id_enc'].unique()[:10000]\n",
    "\n",
    "max_similar_items = 10\n",
    "\n",
    "# получаем списки похожих объектов, используя ранее полученную ALS-модель\n",
    "# метод similar_items возвращает и сам объект, как наиболее похожий\n",
    "# этот объект мы позже отфильтруем, но сейчас запросим на 1 больше\n",
    "similar_items = als_model.similar_items(train_item_ids_enc, N=max_similar_items+1)\n",
    "\n",
    "# преобразуем полученные списки в табличный формат\n",
    "sim_item_item_ids_enc = similar_items[0]\n",
    "sim_item_scores = similar_items[1]\n",
    "\n",
    "similar_items = pd.DataFrame({\n",
    "    \"item_id_enc\": train_item_ids_enc,\n",
    "    \"sim_item_id_enc\": sim_item_item_ids_enc.tolist(), \n",
    "    \"score\": sim_item_scores.tolist()}) \n",
    "similar_items = similar_items.explode(['sim_item_id_enc', 'score'], ignore_index=True) \n",
    "\n",
    "# приводим типы данных\n",
    "similar_items[\"sim_item_id_enc\"] = similar_items[\"sim_item_id_enc\"].astype('int') \n",
    "similar_items[\"score\"] = similar_items[\"score\"].astype(\"float\")\n",
    "\n",
    "# получаем изначальные идентификаторы\n",
    "similar_items[\"item_id_1\"] = item_encoder.inverse_transform(similar_items[\"item_id_enc\"]) \n",
    "similar_items[\"item_id_2\"] = item_encoder.inverse_transform(similar_items[\"sim_item_id_enc\"]) \n",
    "similar_items = similar_items.drop(columns=[\"item_id_enc\", \"sim_item_id_enc\"])\n",
    "\n",
    "# убираем пары с одинаковыми объектами\n",
    "similar_items = similar_items.query(\"item_id_1 != item_id_2\")"
   ]
  },
  {
   "cell_type": "code",
   "execution_count": 59,
   "id": "d40d5be5",
   "metadata": {},
   "outputs": [
    {
     "data": {
      "text/html": [
       "<div>\n",
       "<style scoped>\n",
       "    .dataframe tbody tr th:only-of-type {\n",
       "        vertical-align: middle;\n",
       "    }\n",
       "\n",
       "    .dataframe tbody tr th {\n",
       "        vertical-align: top;\n",
       "    }\n",
       "\n",
       "    .dataframe thead th {\n",
       "        text-align: right;\n",
       "    }\n",
       "</style>\n",
       "<table border=\"1\" class=\"dataframe\">\n",
       "  <thead>\n",
       "    <tr style=\"text-align: right;\">\n",
       "      <th></th>\n",
       "      <th>score</th>\n",
       "      <th>item_id_1</th>\n",
       "      <th>item_id_2</th>\n",
       "    </tr>\n",
       "  </thead>\n",
       "  <tbody>\n",
       "    <tr>\n",
       "      <th>1</th>\n",
       "      <td>0.924673</td>\n",
       "      <td>549</td>\n",
       "      <td>26771</td>\n",
       "    </tr>\n",
       "    <tr>\n",
       "      <th>2</th>\n",
       "      <td>0.923671</td>\n",
       "      <td>549</td>\n",
       "      <td>4198</td>\n",
       "    </tr>\n",
       "    <tr>\n",
       "      <th>3</th>\n",
       "      <td>0.921660</td>\n",
       "      <td>549</td>\n",
       "      <td>69658</td>\n",
       "    </tr>\n",
       "    <tr>\n",
       "      <th>4</th>\n",
       "      <td>0.921044</td>\n",
       "      <td>549</td>\n",
       "      <td>37402640</td>\n",
       "    </tr>\n",
       "    <tr>\n",
       "      <th>5</th>\n",
       "      <td>0.913545</td>\n",
       "      <td>549</td>\n",
       "      <td>1706463</td>\n",
       "    </tr>\n",
       "  </tbody>\n",
       "</table>\n",
       "</div>"
      ],
      "text/plain": [
       "      score  item_id_1  item_id_2\n",
       "1  0.924673        549      26771\n",
       "2  0.923671        549       4198\n",
       "3  0.921660        549      69658\n",
       "4  0.921044        549   37402640\n",
       "5  0.913545        549    1706463"
      ]
     },
     "execution_count": 59,
     "metadata": {},
     "output_type": "execute_result"
    }
   ],
   "source": [
    "# Смотрим результат\n",
    "similar_items.head()"
   ]
  },
  {
   "cell_type": "code",
   "execution_count": 60,
   "id": "2495bc15",
   "metadata": {},
   "outputs": [],
   "source": [
    "# Сохраняем полученные рекомендации в файл\n",
    "similar_items.to_parquet(\"similar.parquet\")"
   ]
  },
  {
   "attachments": {},
   "cell_type": "markdown",
   "id": "9c45233e",
   "metadata": {},
   "source": [
    "С помощью функции ниже можно посмотреть рекомендации для одного трека"
   ]
  },
  {
   "cell_type": "code",
   "execution_count": 67,
   "id": "8dbfa65d",
   "metadata": {},
   "outputs": [],
   "source": [
    "def print_sim_items(item_id, similar_items):\n",
    "    item_columns_to_use = [\"item_id\", \"name\", \"genres\", \"artists\", \"albums\"]\n",
    "    \n",
    "    item_id_1 = items.query(\"item_id == @item_id\")[item_columns_to_use]\n",
    "    display(item_id_1)\n",
    "    \n",
    "    si = similar_items.query(\"item_id_1 == @item_id\")\n",
    "    si = si.merge(items[item_columns_to_use].set_index(\"item_id\"), left_on=\"item_id_2\", right_index=True)\n",
    "    display(si)"
   ]
  },
  {
   "cell_type": "code",
   "execution_count": 68,
   "id": "654cc40a",
   "metadata": {},
   "outputs": [
    {
     "data": {
      "text/html": [
       "<div>\n",
       "<style scoped>\n",
       "    .dataframe tbody tr th:only-of-type {\n",
       "        vertical-align: middle;\n",
       "    }\n",
       "\n",
       "    .dataframe tbody tr th {\n",
       "        vertical-align: top;\n",
       "    }\n",
       "\n",
       "    .dataframe thead th {\n",
       "        text-align: right;\n",
       "    }\n",
       "</style>\n",
       "<table border=\"1\" class=\"dataframe\">\n",
       "  <thead>\n",
       "    <tr style=\"text-align: right;\">\n",
       "      <th></th>\n",
       "      <th>item_id</th>\n",
       "      <th>name</th>\n",
       "      <th>genres</th>\n",
       "      <th>artists</th>\n",
       "      <th>albums</th>\n",
       "    </tr>\n",
       "  </thead>\n",
       "  <tbody>\n",
       "    <tr>\n",
       "      <th>297321</th>\n",
       "      <td>19197327</td>\n",
       "      <td>Hokage's Funeral (From 'Naruto')</td>\n",
       "      <td>[soundtrack]</td>\n",
       "      <td>[L'Orchestra Numerique]</td>\n",
       "      <td>[Sadness and Sorrow]</td>\n",
       "    </tr>\n",
       "  </tbody>\n",
       "</table>\n",
       "</div>"
      ],
      "text/plain": [
       "         item_id                              name        genres  \\\n",
       "297321  19197327  Hokage's Funeral (From 'Naruto')  [soundtrack]   \n",
       "\n",
       "                        artists                albums  \n",
       "297321  [L'Orchestra Numerique]  [Sadness and Sorrow]  "
      ]
     },
     "metadata": {},
     "output_type": "display_data"
    },
    {
     "data": {
      "text/html": [
       "<div>\n",
       "<style scoped>\n",
       "    .dataframe tbody tr th:only-of-type {\n",
       "        vertical-align: middle;\n",
       "    }\n",
       "\n",
       "    .dataframe tbody tr th {\n",
       "        vertical-align: top;\n",
       "    }\n",
       "\n",
       "    .dataframe thead th {\n",
       "        text-align: right;\n",
       "    }\n",
       "</style>\n",
       "<table border=\"1\" class=\"dataframe\">\n",
       "  <thead>\n",
       "    <tr style=\"text-align: right;\">\n",
       "      <th></th>\n",
       "      <th>score</th>\n",
       "      <th>item_id_1</th>\n",
       "      <th>item_id_2</th>\n",
       "      <th>name</th>\n",
       "      <th>genres</th>\n",
       "      <th>artists</th>\n",
       "      <th>albums</th>\n",
       "    </tr>\n",
       "  </thead>\n",
       "  <tbody>\n",
       "    <tr>\n",
       "      <th>100299</th>\n",
       "      <td>0.945210</td>\n",
       "      <td>19197327</td>\n",
       "      <td>26388238</td>\n",
       "      <td>Naruto</td>\n",
       "      <td>[spoken, relax]</td>\n",
       "      <td>[Marco Velocci]</td>\n",
       "      <td>[Naruto Greatest Hits, Nightbook, Naruto]</td>\n",
       "    </tr>\n",
       "    <tr>\n",
       "      <th>100300</th>\n",
       "      <td>0.913779</td>\n",
       "      <td>19197327</td>\n",
       "      <td>10994679</td>\n",
       "      <td>Sadness and Sorrow</td>\n",
       "      <td>[soundtrack]</td>\n",
       "      <td>[Piano Squall]</td>\n",
       "      <td>[GAME]</td>\n",
       "    </tr>\n",
       "    <tr>\n",
       "      <th>100301</th>\n",
       "      <td>0.909214</td>\n",
       "      <td>19197327</td>\n",
       "      <td>22001085</td>\n",
       "      <td>The Sacrifice</td>\n",
       "      <td>[soundtrack, videogame]</td>\n",
       "      <td>[Aeralie Brighton, Gareth Coker]</td>\n",
       "      <td>[Ori and the Blind Forest]</td>\n",
       "    </tr>\n",
       "    <tr>\n",
       "      <th>100302</th>\n",
       "      <td>0.895598</td>\n",
       "      <td>19197327</td>\n",
       "      <td>26413511</td>\n",
       "      <td>Test Drive</td>\n",
       "      <td>[animated, soundtrack]</td>\n",
       "      <td>[John Powell]</td>\n",
       "      <td>[How To Train Your Dragon, Epic Gaming]</td>\n",
       "    </tr>\n",
       "    <tr>\n",
       "      <th>100303</th>\n",
       "      <td>0.894361</td>\n",
       "      <td>19197327</td>\n",
       "      <td>26413515</td>\n",
       "      <td>Romantic Flight</td>\n",
       "      <td>[animated, soundtrack]</td>\n",
       "      <td>[John Powell]</td>\n",
       "      <td>[How To Train Your Dragon, Epic Gaming]</td>\n",
       "    </tr>\n",
       "    <tr>\n",
       "      <th>100304</th>\n",
       "      <td>0.891714</td>\n",
       "      <td>19197327</td>\n",
       "      <td>21548569</td>\n",
       "      <td>Light's Theme (From \"Death Note\")</td>\n",
       "      <td>[soundtrack]</td>\n",
       "      <td>[Anime Kei]</td>\n",
       "      <td>[L's Themes]</td>\n",
       "    </tr>\n",
       "    <tr>\n",
       "      <th>100305</th>\n",
       "      <td>0.888515</td>\n",
       "      <td>19197327</td>\n",
       "      <td>26413508</td>\n",
       "      <td>Forbidden Friendship</td>\n",
       "      <td>[animated, soundtrack]</td>\n",
       "      <td>[John Powell]</td>\n",
       "      <td>[How To Train Your Dragon]</td>\n",
       "    </tr>\n",
       "    <tr>\n",
       "      <th>100306</th>\n",
       "      <td>0.886890</td>\n",
       "      <td>19197327</td>\n",
       "      <td>62792370</td>\n",
       "      <td>The Call of the Wild</td>\n",
       "      <td>[films, soundtrack]</td>\n",
       "      <td>[John Powell]</td>\n",
       "      <td>[Зов предков, The Call of the Wild]</td>\n",
       "    </tr>\n",
       "    <tr>\n",
       "      <th>100307</th>\n",
       "      <td>0.885883</td>\n",
       "      <td>19197327</td>\n",
       "      <td>32374183</td>\n",
       "      <td>Natsuhiboshi</td>\n",
       "      <td>[spoken, relax]</td>\n",
       "      <td>[Marco Velocci]</td>\n",
       "      <td>[Naruto Greatest Hits, Nightbook, Natsuhiboshi]</td>\n",
       "    </tr>\n",
       "    <tr>\n",
       "      <th>100308</th>\n",
       "      <td>0.885527</td>\n",
       "      <td>19197327</td>\n",
       "      <td>26413509</td>\n",
       "      <td>New Tail</td>\n",
       "      <td>[animated, soundtrack]</td>\n",
       "      <td>[John Powell]</td>\n",
       "      <td>[How To Train Your Dragon]</td>\n",
       "    </tr>\n",
       "  </tbody>\n",
       "</table>\n",
       "</div>"
      ],
      "text/plain": [
       "           score  item_id_1  item_id_2                               name  \\\n",
       "100299  0.945210   19197327   26388238                             Naruto   \n",
       "100300  0.913779   19197327   10994679                 Sadness and Sorrow   \n",
       "100301  0.909214   19197327   22001085                      The Sacrifice   \n",
       "100302  0.895598   19197327   26413511                         Test Drive   \n",
       "100303  0.894361   19197327   26413515                    Romantic Flight   \n",
       "100304  0.891714   19197327   21548569  Light's Theme (From \"Death Note\")   \n",
       "100305  0.888515   19197327   26413508               Forbidden Friendship   \n",
       "100306  0.886890   19197327   62792370               The Call of the Wild   \n",
       "100307  0.885883   19197327   32374183                       Natsuhiboshi   \n",
       "100308  0.885527   19197327   26413509                           New Tail   \n",
       "\n",
       "                         genres                           artists  \\\n",
       "100299          [spoken, relax]                   [Marco Velocci]   \n",
       "100300             [soundtrack]                    [Piano Squall]   \n",
       "100301  [soundtrack, videogame]  [Aeralie Brighton, Gareth Coker]   \n",
       "100302   [animated, soundtrack]                     [John Powell]   \n",
       "100303   [animated, soundtrack]                     [John Powell]   \n",
       "100304             [soundtrack]                       [Anime Kei]   \n",
       "100305   [animated, soundtrack]                     [John Powell]   \n",
       "100306      [films, soundtrack]                     [John Powell]   \n",
       "100307          [spoken, relax]                   [Marco Velocci]   \n",
       "100308   [animated, soundtrack]                     [John Powell]   \n",
       "\n",
       "                                                 albums  \n",
       "100299        [Naruto Greatest Hits, Nightbook, Naruto]  \n",
       "100300                                           [GAME]  \n",
       "100301                       [Ori and the Blind Forest]  \n",
       "100302          [How To Train Your Dragon, Epic Gaming]  \n",
       "100303          [How To Train Your Dragon, Epic Gaming]  \n",
       "100304                                     [L's Themes]  \n",
       "100305                       [How To Train Your Dragon]  \n",
       "100306              [Зов предков, The Call of the Wild]  \n",
       "100307  [Naruto Greatest Hits, Nightbook, Natsuhiboshi]  \n",
       "100308                       [How To Train Your Dragon]  "
      ]
     },
     "metadata": {},
     "output_type": "display_data"
    }
   ],
   "source": [
    "# Задаем произвольный трек\n",
    "item_id = similar_items['item_id_1'].sample().iat[0]\n",
    "\n",
    "# Смотрим похожие треки\n",
    "print_sim_items(item_id, similar_items)"
   ]
  },
  {
   "attachments": {},
   "cell_type": "markdown",
   "id": "f78475fc-bee1-48f4-be55-329db8ecd326",
   "metadata": {},
   "source": [
    "### Построение ранжирующей модели"
   ]
  },
  {
   "attachments": {},
   "cell_type": "markdown",
   "id": "7c106269",
   "metadata": {},
   "source": [
    "Подготовим список кандидатов для обучения ранжирующей модели. В качестве кандидатогенераторов возьмём ранее подготовленные при помощи ALS коллаборативные и контентные рекомендации. Кроме того, добавим 3-й признак - кол-во треков, прослушанных каждым пользователем."
   ]
  },
  {
   "cell_type": "code",
   "execution_count": 6,
   "id": "e9d22c76",
   "metadata": {},
   "outputs": [],
   "source": [
    "# загружаем рекомендации от двух базовых генераторов\n",
    "als_recommendations = pd.read_parquet(\"personal_als.parquet\")\n",
    "content_recommendations = pd.read_parquet(\"content_recommendations.parquet\")"
   ]
  },
  {
   "cell_type": "code",
   "execution_count": 16,
   "id": "fa924154",
   "metadata": {},
   "outputs": [],
   "source": [
    "# Объединяем списки рекомендаций по совпадению user_id, item_id\n",
    "candidates = pd.merge(\n",
    "    als_recommendations[[\"user_id\", \"item_id\", \"score\"]].rename(columns={\"score\": \"als_score\"}),\n",
    "    content_recommendations[[\"user_id\", \"item_id\", \"score\"]].rename(columns={\"score\": \"cnt_score\"}),\n",
    "    on=[\"user_id\", \"item_id\"],\n",
    "    how=\"outer\") "
   ]
  },
  {
   "cell_type": "markdown",
   "id": "5e5acd8a",
   "metadata": {},
   "source": [
    "Оставляем только те строки, где есть оценки от обоих кандидатогенераторов"
   ]
  },
  {
   "cell_type": "code",
   "execution_count": 17,
   "id": "dad2b616",
   "metadata": {},
   "outputs": [
    {
     "data": {
      "text/html": [
       "<div>\n",
       "<style scoped>\n",
       "    .dataframe tbody tr th:only-of-type {\n",
       "        vertical-align: middle;\n",
       "    }\n",
       "\n",
       "    .dataframe tbody tr th {\n",
       "        vertical-align: top;\n",
       "    }\n",
       "\n",
       "    .dataframe thead th {\n",
       "        text-align: right;\n",
       "    }\n",
       "</style>\n",
       "<table border=\"1\" class=\"dataframe\">\n",
       "  <thead>\n",
       "    <tr style=\"text-align: right;\">\n",
       "      <th></th>\n",
       "      <th>user_id</th>\n",
       "      <th>item_id</th>\n",
       "      <th>als_score</th>\n",
       "      <th>cnt_score</th>\n",
       "    </tr>\n",
       "  </thead>\n",
       "  <tbody>\n",
       "    <tr>\n",
       "      <th>7956</th>\n",
       "      <td>3243</td>\n",
       "      <td>43013827</td>\n",
       "      <td>0.614118</td>\n",
       "      <td>0.811460</td>\n",
       "    </tr>\n",
       "    <tr>\n",
       "      <th>17728</th>\n",
       "      <td>7179</td>\n",
       "      <td>41473</td>\n",
       "      <td>0.567302</td>\n",
       "      <td>0.820208</td>\n",
       "    </tr>\n",
       "    <tr>\n",
       "      <th>20097</th>\n",
       "      <td>7846</td>\n",
       "      <td>73495</td>\n",
       "      <td>0.535677</td>\n",
       "      <td>0.867759</td>\n",
       "    </tr>\n",
       "    <tr>\n",
       "      <th>21081</th>\n",
       "      <td>8336</td>\n",
       "      <td>15271</td>\n",
       "      <td>0.625788</td>\n",
       "      <td>0.747257</td>\n",
       "    </tr>\n",
       "    <tr>\n",
       "      <th>26939</th>\n",
       "      <td>10294</td>\n",
       "      <td>73495</td>\n",
       "      <td>0.822323</td>\n",
       "      <td>0.889507</td>\n",
       "    </tr>\n",
       "    <tr>\n",
       "      <th>31656</th>\n",
       "      <td>12014</td>\n",
       "      <td>628383</td>\n",
       "      <td>1.225516</td>\n",
       "      <td>0.791916</td>\n",
       "    </tr>\n",
       "    <tr>\n",
       "      <th>31973</th>\n",
       "      <td>12081</td>\n",
       "      <td>73495</td>\n",
       "      <td>0.812035</td>\n",
       "      <td>0.927586</td>\n",
       "    </tr>\n",
       "    <tr>\n",
       "      <th>32650</th>\n",
       "      <td>12412</td>\n",
       "      <td>43013827</td>\n",
       "      <td>0.303361</td>\n",
       "      <td>0.787019</td>\n",
       "    </tr>\n",
       "    <tr>\n",
       "      <th>54731</th>\n",
       "      <td>21427</td>\n",
       "      <td>73495</td>\n",
       "      <td>0.477418</td>\n",
       "      <td>0.928590</td>\n",
       "    </tr>\n",
       "    <tr>\n",
       "      <th>67612</th>\n",
       "      <td>26737</td>\n",
       "      <td>15271</td>\n",
       "      <td>0.651822</td>\n",
       "      <td>0.872216</td>\n",
       "    </tr>\n",
       "    <tr>\n",
       "      <th>69829</th>\n",
       "      <td>27401</td>\n",
       "      <td>670578</td>\n",
       "      <td>0.602453</td>\n",
       "      <td>0.709072</td>\n",
       "    </tr>\n",
       "    <tr>\n",
       "      <th>76132</th>\n",
       "      <td>30566</td>\n",
       "      <td>27206595</td>\n",
       "      <td>0.701712</td>\n",
       "      <td>0.906425</td>\n",
       "    </tr>\n",
       "    <tr>\n",
       "      <th>81100</th>\n",
       "      <td>32591</td>\n",
       "      <td>43731470</td>\n",
       "      <td>1.057846</td>\n",
       "      <td>0.852135</td>\n",
       "    </tr>\n",
       "    <tr>\n",
       "      <th>83250</th>\n",
       "      <td>33348</td>\n",
       "      <td>73495</td>\n",
       "      <td>0.338845</td>\n",
       "      <td>0.858405</td>\n",
       "    </tr>\n",
       "    <tr>\n",
       "      <th>84635</th>\n",
       "      <td>33927</td>\n",
       "      <td>358219</td>\n",
       "      <td>0.544362</td>\n",
       "      <td>0.906168</td>\n",
       "    </tr>\n",
       "    <tr>\n",
       "      <th>89082</th>\n",
       "      <td>35604</td>\n",
       "      <td>15271</td>\n",
       "      <td>0.215084</td>\n",
       "      <td>0.850684</td>\n",
       "    </tr>\n",
       "    <tr>\n",
       "      <th>91897</th>\n",
       "      <td>37413</td>\n",
       "      <td>34362336</td>\n",
       "      <td>0.587821</td>\n",
       "      <td>0.997810</td>\n",
       "    </tr>\n",
       "    <tr>\n",
       "      <th>99088</th>\n",
       "      <td>40382</td>\n",
       "      <td>79197672</td>\n",
       "      <td>0.436166</td>\n",
       "      <td>0.867236</td>\n",
       "    </tr>\n",
       "  </tbody>\n",
       "</table>\n",
       "</div>"
      ],
      "text/plain": [
       "       user_id   item_id  als_score  cnt_score\n",
       "7956      3243  43013827   0.614118   0.811460\n",
       "17728     7179     41473   0.567302   0.820208\n",
       "20097     7846     73495   0.535677   0.867759\n",
       "21081     8336     15271   0.625788   0.747257\n",
       "26939    10294     73495   0.822323   0.889507\n",
       "31656    12014    628383   1.225516   0.791916\n",
       "31973    12081     73495   0.812035   0.927586\n",
       "32650    12412  43013827   0.303361   0.787019\n",
       "54731    21427     73495   0.477418   0.928590\n",
       "67612    26737     15271   0.651822   0.872216\n",
       "69829    27401    670578   0.602453   0.709072\n",
       "76132    30566  27206595   0.701712   0.906425\n",
       "81100    32591  43731470   1.057846   0.852135\n",
       "83250    33348     73495   0.338845   0.858405\n",
       "84635    33927    358219   0.544362   0.906168\n",
       "89082    35604     15271   0.215084   0.850684\n",
       "91897    37413  34362336   0.587821   0.997810\n",
       "99088    40382  79197672   0.436166   0.867236"
      ]
     },
     "execution_count": 17,
     "metadata": {},
     "output_type": "execute_result"
    }
   ],
   "source": [
    "candidates = candidates[~candidates[['als_score', 'cnt_score']].isnull().any(axis=1)]\n",
    "candidates"
   ]
  },
  {
   "attachments": {},
   "cell_type": "markdown",
   "id": "f99681f3",
   "metadata": {},
   "source": [
    "Добавим в candidates таргеты, используя историю взаимодействий в events_train:\n",
    "- 1 - для прослушанных item_id (положительный пример),\n",
    "- 0 - для всех остальных (негативный пример).\n",
    "\n",
    "В candidates отберем все положительные примеры, а также не менее четырёх негативных для каждого пользователя в положительных примерах."
   ]
  },
  {
   "cell_type": "code",
   "execution_count": 18,
   "id": "9dcc8048-f4b5-411f-913a-fd73c6a6ff2a",
   "metadata": {},
   "outputs": [
    {
     "data": {
      "text/plain": [
       "'\\n# для каждого пользователя оставляем только 2 негативных примера\\nnegatives_per_user = 2\\ncandidates_for_train = pd.concat([\\n    candidates_to_sample.query(\"target == 1\"), \\n    candidates_to_sample.query(\"target == 0\")         .groupby(\"user_id\")         .apply(lambda x: x.sample(negatives_per_user, random_state=0))\\n    ])\\n'"
      ]
     },
     "execution_count": 18,
     "metadata": {},
     "output_type": "execute_result"
    }
   ],
   "source": [
    "# Добавляем таргет к кандидатам\n",
    "events_train[\"target\"] = 1\n",
    "candidates = candidates.merge(events_train[[\"user_id\", \"item_id\", \"target\"]], \n",
    "                              on=[\"user_id\", \"item_id\"], \n",
    "                              how='left') \n",
    "candidates[\"target\"] = candidates[\"target\"].fillna(0).astype(\"int\")\n",
    "\n",
    "# в кандидатах оставляем только тех пользователей, у которых есть хотя бы один положительный таргет\n",
    "#candidates_to_sample = candidates.groupby(\"user_id\").filter(lambda x: x[\"target\"].sum() > 0)\n",
    "\n",
    "candidates_for_train = candidates\n",
    "'''\n",
    "# для каждого пользователя оставляем только 2 негативных примера\n",
    "negatives_per_user = 2\n",
    "candidates_for_train = pd.concat([\n",
    "    candidates_to_sample.query(\"target == 1\"), \n",
    "    candidates_to_sample.query(\"target == 0\") \\\n",
    "        .groupby(\"user_id\") \\\n",
    "        .apply(lambda x: x.sample(negatives_per_user, random_state=0))\n",
    "    ])\n",
    "'''"
   ]
  },
  {
   "attachments": {},
   "cell_type": "markdown",
   "id": "60ba74af",
   "metadata": {},
   "source": [
    "Добавим в events_train новый признак пользователей - количество треков, прослушанных каждым пользователем"
   ]
  },
  {
   "cell_type": "code",
   "execution_count": 19,
   "id": "16d665a7",
   "metadata": {},
   "outputs": [
    {
     "data": {
      "text/html": [
       "<div>\n",
       "<style scoped>\n",
       "    .dataframe tbody tr th:only-of-type {\n",
       "        vertical-align: middle;\n",
       "    }\n",
       "\n",
       "    .dataframe tbody tr th {\n",
       "        vertical-align: top;\n",
       "    }\n",
       "\n",
       "    .dataframe thead th {\n",
       "        text-align: right;\n",
       "    }\n",
       "</style>\n",
       "<table border=\"1\" class=\"dataframe\">\n",
       "  <thead>\n",
       "    <tr style=\"text-align: right;\">\n",
       "      <th></th>\n",
       "      <th>user_id</th>\n",
       "      <th>item_id</th>\n",
       "      <th>als_score</th>\n",
       "      <th>cnt_score</th>\n",
       "      <th>target</th>\n",
       "      <th>tracks_played_by_user</th>\n",
       "    </tr>\n",
       "  </thead>\n",
       "  <tbody>\n",
       "    <tr>\n",
       "      <th>0</th>\n",
       "      <td>3243</td>\n",
       "      <td>43013827</td>\n",
       "      <td>0.614118</td>\n",
       "      <td>0.811460</td>\n",
       "      <td>1</td>\n",
       "      <td>1285</td>\n",
       "    </tr>\n",
       "    <tr>\n",
       "      <th>1</th>\n",
       "      <td>7179</td>\n",
       "      <td>41473</td>\n",
       "      <td>0.567302</td>\n",
       "      <td>0.820208</td>\n",
       "      <td>0</td>\n",
       "      <td>1459</td>\n",
       "    </tr>\n",
       "    <tr>\n",
       "      <th>2</th>\n",
       "      <td>7846</td>\n",
       "      <td>73495</td>\n",
       "      <td>0.535677</td>\n",
       "      <td>0.867759</td>\n",
       "      <td>0</td>\n",
       "      <td>965</td>\n",
       "    </tr>\n",
       "    <tr>\n",
       "      <th>3</th>\n",
       "      <td>8336</td>\n",
       "      <td>15271</td>\n",
       "      <td>0.625788</td>\n",
       "      <td>0.747257</td>\n",
       "      <td>1</td>\n",
       "      <td>1684</td>\n",
       "    </tr>\n",
       "    <tr>\n",
       "      <th>4</th>\n",
       "      <td>10294</td>\n",
       "      <td>73495</td>\n",
       "      <td>0.822323</td>\n",
       "      <td>0.889507</td>\n",
       "      <td>1</td>\n",
       "      <td>1474</td>\n",
       "    </tr>\n",
       "  </tbody>\n",
       "</table>\n",
       "</div>"
      ],
      "text/plain": [
       "   user_id   item_id  als_score  cnt_score  target  tracks_played_by_user\n",
       "0     3243  43013827   0.614118   0.811460       1                   1285\n",
       "1     7179     41473   0.567302   0.820208       0                   1459\n",
       "2     7846     73495   0.535677   0.867759       0                    965\n",
       "3     8336     15271   0.625788   0.747257       1                   1684\n",
       "4    10294     73495   0.822323   0.889507       1                   1474"
      ]
     },
     "execution_count": 19,
     "metadata": {},
     "output_type": "execute_result"
    }
   ],
   "source": [
    "def get_user_features(events):\n",
    "    \"\"\" считает пользовательские признаки \"\"\"\n",
    "    \n",
    "    user_features = events.groupby(\"user_id\").agg(\n",
    "        tracks_played_by_user =(\"started_at\", \"count\")\n",
    "    )\n",
    "\n",
    "    return user_features\n",
    "    \n",
    "\n",
    "user_features_for_train = get_user_features(events_train)\n",
    "candidates_for_train = candidates_for_train.merge(user_features_for_train, on=\"user_id\", how=\"left\")\n",
    "candidates_for_train"
   ]
  },
  {
   "attachments": {},
   "cell_type": "markdown",
   "id": "e7bf4594",
   "metadata": {},
   "source": [
    "Обучаем модель"
   ]
  },
  {
   "cell_type": "code",
   "execution_count": 22,
   "id": "8788cba9-0396-46a2-b2af-1ecbd65b944e",
   "metadata": {},
   "outputs": [
    {
     "name": "stdout",
     "output_type": "stream",
     "text": [
      "0:\tlearn: 0.6225616\ttotal: 67.3ms\tremaining: 1m 7s\n",
      "100:\tlearn: 0.0199402\ttotal: 98.2ms\tremaining: 874ms\n",
      "200:\tlearn: 0.0097198\ttotal: 130ms\tremaining: 516ms\n",
      "300:\tlearn: 0.0064802\ttotal: 161ms\tremaining: 373ms\n",
      "400:\tlearn: 0.0048557\ttotal: 193ms\tremaining: 288ms\n",
      "500:\tlearn: 0.0038809\ttotal: 224ms\tremaining: 223ms\n",
      "600:\tlearn: 0.0032307\ttotal: 257ms\tremaining: 171ms\n",
      "700:\tlearn: 0.0027665\ttotal: 289ms\tremaining: 123ms\n",
      "800:\tlearn: 0.0024250\ttotal: 320ms\tremaining: 79.4ms\n",
      "900:\tlearn: 0.0022926\ttotal: 350ms\tremaining: 38.4ms\n",
      "999:\tlearn: 0.0022926\ttotal: 378ms\tremaining: 0us\n"
     ]
    },
    {
     "data": {
      "text/plain": [
       "<catboost.core.CatBoostClassifier at 0x7f11ff37ed70>"
      ]
     },
     "execution_count": 22,
     "metadata": {},
     "output_type": "execute_result"
    }
   ],
   "source": [
    "# задаём имена колонок признаков и таргета\n",
    "features = ['als_score', 'cnt_score', 'tracks_played_by_user']\n",
    "target = 'target'\n",
    "\n",
    "# Create the Pool object\n",
    "train_data = Pool(\n",
    "    data=candidates_for_train[features], \n",
    "    label=candidates_for_train[target])\n",
    "\n",
    "# инициализируем модель CatBoostClassifier\n",
    "cb_model = CatBoostClassifier(\n",
    "    iterations=1000,\n",
    "    learning_rate=0.1,\n",
    "    depth=6,\n",
    "    loss_function='Logloss',\n",
    "    verbose=100,\n",
    "    random_seed=0\n",
    ")\n",
    "\n",
    "# тренируем модель\n",
    "cb_model.fit(train_data)"
   ]
  },
  {
   "cell_type": "code",
   "execution_count": 23,
   "id": "7b0c8abd",
   "metadata": {},
   "outputs": [],
   "source": [
    "# Сохраняем ранжирующую модель\n",
    "os.makedirs('models/', exist_ok=True)\n",
    "cb_model.save_model('models/cb_model.cbm')"
   ]
  },
  {
   "attachments": {},
   "cell_type": "markdown",
   "id": "6662ec22",
   "metadata": {},
   "source": [
    "Теперь можно получить финальные рекомендации, используя обученную модель."
   ]
  },
  {
   "cell_type": "code",
   "execution_count": 24,
   "id": "2c61794b",
   "metadata": {},
   "outputs": [],
   "source": [
    "# оставляем только тех пользователей, что есть в тестовой выборке, для экономии ресурсов\n",
    "candidates_to_rank = candidates_for_train[candidates_for_train[\"user_id\"].isin(events_test[\"user_id\"].drop_duplicates())]\n",
    "\n",
    "inference_data = Pool(data=candidates_to_rank[features])\n",
    "predictions = cb_model.predict_proba(inference_data)\n",
    "\n",
    "candidates_to_rank[\"cb_score\"] = predictions[:, 1]\n",
    "\n",
    "# для каждого пользователя проставляем rank, начиная с 1 — это максимальный cb_score\n",
    "candidates_to_rank = candidates_to_rank.sort_values([\"user_id\", \"cb_score\"], ascending=[True, False])\n",
    "candidates_to_rank[\"rank\"] = candidates_to_rank.groupby('user_id').cumcount() + 1 \n",
    "\n",
    "max_recommendations_per_user = 100\n",
    "recommendations = candidates_to_rank.query('rank <= @max_recommendations_per_user') \\\n",
    "    .rename(columns={\"cb_score\": \"score\"}) \\\n",
    "        .drop(columns='target')"
   ]
  },
  {
   "cell_type": "code",
   "execution_count": null,
   "id": "247c6eb7",
   "metadata": {},
   "outputs": [],
   "source": [
    "# Смотрим результат\n",
    "recommendations"
   ]
  },
  {
   "cell_type": "code",
   "execution_count": 26,
   "id": "526e0717",
   "metadata": {},
   "outputs": [],
   "source": [
    "# Сохраняем финальные персональные рекомендации в файл\n",
    "recommendations.to_parquet(\"recommendations.parquet\")"
   ]
  },
  {
   "attachments": {},
   "cell_type": "markdown",
   "id": "ebb06fb6",
   "metadata": {},
   "source": [
    "Проведем валидацию финальных рекомендаций.\n",
    "\n",
    "Посчитаем метрики recall и precision, используя отложенную тестовую выборку, \n",
    "а также функции process_events_recs_for_binary_metrics и compute_cls_metrics."
   ]
  },
  {
   "cell_type": "code",
   "execution_count": 31,
   "id": "116719d8",
   "metadata": {},
   "outputs": [
    {
     "name": "stdout",
     "output_type": "stream",
     "text": [
      "Common users: 13\n"
     ]
    }
   ],
   "source": [
    "cb_events_recs_for_binary_metrics_5 = process_events_recs_for_binary_metrics(\n",
    "    events_train,\n",
    "    events_test, \n",
    "    recommendations, \n",
    "    top_k=5)\n",
    "\n",
    "cb_precision_5, cb_recall_5 = compute_cls_metrics(cb_events_recs_for_binary_metrics_5) "
   ]
  },
  {
   "cell_type": "code",
   "execution_count": 32,
   "id": "d2f0e860",
   "metadata": {},
   "outputs": [
    {
     "name": "stdout",
     "output_type": "stream",
     "text": [
      "precision: 0.000, recall: 0.000\n"
     ]
    }
   ],
   "source": [
    "print(f\"precision: {cb_precision_5:.3f}, recall: {cb_recall_5:.3f}\")"
   ]
  },
  {
   "attachments": {},
   "cell_type": "markdown",
   "id": "6e29852b",
   "metadata": {},
   "source": [
    "Посмотрим, какие признаки вносят наибольший вклад в ранжирование. "
   ]
  },
  {
   "cell_type": "code",
   "execution_count": 33,
   "id": "fbaf685d",
   "metadata": {},
   "outputs": [
    {
     "data": {
      "text/html": [
       "<div>\n",
       "<style scoped>\n",
       "    .dataframe tbody tr th:only-of-type {\n",
       "        vertical-align: middle;\n",
       "    }\n",
       "\n",
       "    .dataframe tbody tr th {\n",
       "        vertical-align: top;\n",
       "    }\n",
       "\n",
       "    .dataframe thead th {\n",
       "        text-align: right;\n",
       "    }\n",
       "</style>\n",
       "<table border=\"1\" class=\"dataframe\">\n",
       "  <thead>\n",
       "    <tr style=\"text-align: right;\">\n",
       "      <th></th>\n",
       "      <th>fi</th>\n",
       "    </tr>\n",
       "  </thead>\n",
       "  <tbody>\n",
       "    <tr>\n",
       "      <th>als_score</th>\n",
       "      <td>56.884940</td>\n",
       "    </tr>\n",
       "    <tr>\n",
       "      <th>cnt_score</th>\n",
       "      <td>28.081666</td>\n",
       "    </tr>\n",
       "    <tr>\n",
       "      <th>tracks_played_by_user</th>\n",
       "      <td>15.033394</td>\n",
       "    </tr>\n",
       "  </tbody>\n",
       "</table>\n",
       "</div>"
      ],
      "text/plain": [
       "                              fi\n",
       "als_score              56.884940\n",
       "cnt_score              28.081666\n",
       "tracks_played_by_user  15.033394"
      ]
     },
     "execution_count": 33,
     "metadata": {},
     "output_type": "execute_result"
    }
   ],
   "source": [
    "feature_importance = pd.DataFrame(cb_model.get_feature_importance(), \n",
    "    index=features, \n",
    "    columns=[\"fi\"])\n",
    "\n",
    "feature_importance = feature_importance.sort_values('fi', ascending=False)\n",
    "feature_importance"
   ]
  }
 ],
 "metadata": {
  "kernelspec": {
   "display_name": "Python 3 (ipykernel)",
   "language": "python",
   "name": "python3"
  },
  "language_info": {
   "codemirror_mode": {
    "name": "ipython",
    "version": 3
   },
   "file_extension": ".py",
   "mimetype": "text/x-python",
   "name": "python",
   "nbconvert_exporter": "python",
   "pygments_lexer": "ipython3",
   "version": "3.10.12"
  }
 },
 "nbformat": 4,
 "nbformat_minor": 5
}
