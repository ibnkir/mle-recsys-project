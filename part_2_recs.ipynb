{
 "cells": [
  {
   "attachments": {},
   "cell_type": "markdown",
   "id": "b3589a9a-ce16-4d2e-b581-d75139fc58b3",
   "metadata": {},
   "source": [
    "## Яндекс Практикум, курс \"Инженер Машинного Обучения\" (2024 г.)\n",
    "## Проект 4-го спринта: \"Создание рекомендательной системы\"\n",
    "## Ноутбук для генерации оффлайн-рекомендаций\n",
    "***"
   ]
  },
  {
   "attachments": {},
   "cell_type": "markdown",
   "id": "c1c6c220",
   "metadata": {},
   "source": [
    "### Этап 3. Оффлайн-рекомендации"
   ]
  },
  {
   "attachments": {},
   "cell_type": "markdown",
   "id": "76e1ac3f",
   "metadata": {},
   "source": [
    "__Постановка задачи__\n",
    "\n",
    "Подготовьте данные для обучения:\n",
    "- Загрузите ранее сохранённые данные.\n",
    "- Разбейте данные на тренировочную и тестовую выборки: в тренировочную отнесите все данные до 16 декабря 2022 года (не включительно).\n",
    "\n",
    "Рассчитайте рекомендации нескольких типов, сохраните каждый тип в своём файле:\n",
    "- топ популярных — в `top_popular.parquet`,\n",
    "- персональные (при помощи ALS) — в `personal_als.parquet`,\n",
    "- похожие треки или i2i (при помощи ALS) — в `similar.parquet`.\n",
    "\n",
    "Постройте ранжирующую модель, которая использует минимум три признака. Отранжируйте рекомендации, а итоговые сохраните в `recommendations.parquet`.\n",
    "\n",
    "Проверьте оценку качества трёх типов рекомендаций: \n",
    "1. топ популярных;\n",
    "2. персональных, полученных при помощи ALS;\n",
    "3. итоговых (по метрикам: recall, precision, coverage, novelty).\n",
    "\n",
    "Приведите значения метрик в README."
   ]
  },
  {
   "cell_type": "code",
   "execution_count": 1,
   "id": "c6e28b2f-3822-4e27-b576-9bc42b279b32",
   "metadata": {},
   "outputs": [],
   "source": [
    "import logging\n",
    "import os\n",
    "import matplotlib.pyplot as plt\n",
    "import numpy as np\n",
    "import pandas as pd\n",
    "import joblib\n",
    "import ipywidgets\n",
    "\n",
    "from sklearn.metrics import accuracy_score"
   ]
  },
  {
   "cell_type": "code",
   "execution_count": 2,
   "id": "a6743b80",
   "metadata": {},
   "outputs": [
    {
     "name": "stdout",
     "output_type": "stream",
     "text": [
      "/home/mle-user/.venv/bin/python\n"
     ]
    }
   ],
   "source": [
    "import sys\n",
    "\n",
    "# Проверяем, в каком окружении работаем\n",
    "print(sys.executable)"
   ]
  },
  {
   "cell_type": "code",
   "execution_count": 3,
   "id": "792bbecf",
   "metadata": {},
   "outputs": [],
   "source": [
    "import warnings\n",
    "from pandas.errors import SettingWithCopyWarning\n",
    "warnings.simplefilter(action='ignore', category=(SettingWithCopyWarning, FutureWarning))"
   ]
  },
  {
   "cell_type": "code",
   "execution_count": 7,
   "id": "4e53bc65-3e32-454b-b353-e9b95489c26c",
   "metadata": {},
   "outputs": [],
   "source": [
    "%matplotlib inline\n",
    "%config InlineBackend.figure_format = 'png'\n",
    "%config InlineBackend.figure_format = 'retina'"
   ]
  },
  {
   "attachments": {},
   "cell_type": "markdown",
   "id": "d19f263d",
   "metadata": {},
   "source": [
    "Загружаем основные данные"
   ]
  },
  {
   "cell_type": "code",
   "execution_count": 4,
   "id": "6ab0db85-17df-4a4f-b23c-e9cd983d8c43",
   "metadata": {},
   "outputs": [],
   "source": [
    "items = pd.read_parquet(\"items.parquet\")\n",
    "events = pd.read_parquet(\"events.parquet\")"
   ]
  },
  {
   "attachments": {},
   "cell_type": "markdown",
   "id": "47016708-6f94-4518-886c-58fa6e7bb315",
   "metadata": {},
   "source": [
    "Разбиваем данные на тренировочную и тестовую выборки (в тренировочную относим все данные до 16 декабря 2022 года не включительно)."
   ]
  },
  {
   "cell_type": "code",
   "execution_count": 6,
   "id": "a89ca2e2",
   "metadata": {},
   "outputs": [],
   "source": [
    "# Зададим точку разбиения\n",
    "train_test_global_time_split_date = pd.to_datetime(\"2022-12-16\")\n",
    "\n",
    "train_test_global_time_split_idx = events[\"started_at\"] < train_test_global_time_split_date\n",
    "events_train = events[train_test_global_time_split_idx] \n",
    "events_test = events[~train_test_global_time_split_idx]"
   ]
  },
  {
   "attachments": {},
   "cell_type": "markdown",
   "id": "63074256",
   "metadata": {},
   "source": [
    "__Топ популярных рекомендаций__"
   ]
  },
  {
   "attachments": {},
   "cell_type": "markdown",
   "id": "68af8408",
   "metadata": {},
   "source": [
    "Загружаем ранее сохраненные топ-треки и оцениваем их качество рекомендаций."
   ]
  },
  {
   "cell_type": "code",
   "execution_count": 7,
   "id": "7dc9cdee",
   "metadata": {},
   "outputs": [],
   "source": [
    "top_k_pop_items = pd.read_parquet(\"top_popular.parquet\")"
   ]
  },
  {
   "cell_type": "code",
   "execution_count": 8,
   "id": "79d99bd8",
   "metadata": {},
   "outputs": [],
   "source": [
    "# Идентификаторы уникальных пользователей в train и test\n",
    "users_train = events_train[\"user_id\"].drop_duplicates()\n",
    "users_test = events_test[\"user_id\"].drop_duplicates()"
   ]
  },
  {
   "cell_type": "code",
   "execution_count": 9,
   "id": "4c14db05",
   "metadata": {},
   "outputs": [],
   "source": [
    "# Идентификаторы \"холодных\" пользователей\n",
    "cold_users = users_test[~users_test.isin(users_train)]"
   ]
  },
  {
   "cell_type": "code",
   "execution_count": 21,
   "id": "dcbbed51",
   "metadata": {},
   "outputs": [],
   "source": [
    "# Формируем колонку prediction\n",
    "top_k_pop_items['prediction'] = 1\n",
    "\n",
    "# Объединяем события \"холодных\" пользователей с топ-треками\n",
    "cold_users_events = \\\n",
    "    events_test[events_test[\"user_id\"].isin(cold_users)] \\\n",
    "        .merge(top_k_pop_items, on=\"item_id\", how=\"left\")\n",
    "\n",
    "# Если топ-треки не попали в тестовую выборку для холодных пользователей, то prediction  = 0\n",
    "cold_users_events['prediction'].fillna(0, inplace=True)\n",
    "\n",
    "# Формируем колонку target\n",
    "cold_users_events['target'] = 1"
   ]
  },
  {
   "cell_type": "code",
   "execution_count": 23,
   "id": "09037c20",
   "metadata": {},
   "outputs": [
    {
     "name": "stdout",
     "output_type": "stream",
     "text": [
      "0.05650518569721842\n"
     ]
    }
   ],
   "source": [
    "# Считаем точность рекомендаций\n",
    "accuracy = accuracy_score(cold_users_events['prediction'], cold_users_events['target'])\n",
    "print(accuracy)"
   ]
  },
  {
   "attachments": {},
   "cell_type": "markdown",
   "id": "c54cd47f",
   "metadata": {},
   "source": [
    "Посчитаем покрытие холодных пользователей рекомендациями"
   ]
  },
  {
   "cell_type": "code",
   "execution_count": 24,
   "id": "afe0ec5a",
   "metadata": {},
   "outputs": [
    {
     "name": "stdout",
     "output_type": "stream",
     "text": [
      "Доля пользователей без релевантных рекомендаций: 0.42\n",
      "Среднее покрытие пользователей: 3.53\n"
     ]
    }
   ],
   "source": [
    "cold_users_hit_ratio = cold_users_events.groupby(\"user_id\").agg(hits=(\"prediction\", 'sum'))\n",
    "\n",
    "print(f\"Доля пользователей без релевантных рекомендаций: {(cold_users_hit_ratio == 0).mean().iat[0]:.2f}\")\n",
    "print(f\"Среднее покрытие пользователей: {cold_users_hit_ratio[cold_users_hit_ratio != 0].mean().iat[0]:.2f}\")"
   ]
  },
  {
   "attachments": {},
   "cell_type": "markdown",
   "id": "5c4449d7",
   "metadata": {},
   "source": [
    "__Персональные рекомендации (при помощи ALS)__\n",
    "\n",
    "Для справки: [Техническая документация на библиотеку implicit](https://benfred.github.io/implicit/api/models/cpu/als.html)\n"
   ]
  },
  {
   "attachments": {},
   "cell_type": "markdown",
   "id": "44d62bc6",
   "metadata": {},
   "source": [
    "Перекодируем идентификаторы `user_id` и `item_id`"
   ]
  },
  {
   "cell_type": "code",
   "execution_count": 10,
   "id": "21789993-d0cd-4e74-96af-b3966d0f44c3",
   "metadata": {},
   "outputs": [],
   "source": [
    "import scipy\n",
    "import sklearn.preprocessing\n",
    "\n",
    "# перекодируем идентификаторы пользователей: \n",
    "# из имеющихся в последовательность 0, 1, 2, ...\n",
    "user_encoder = sklearn.preprocessing.LabelEncoder()\n",
    "user_encoder.fit(events[\"user_id\"])\n",
    "events_train[\"user_id_enc\"] = user_encoder.transform(events_train[\"user_id\"])\n",
    "events_test[\"user_id_enc\"] = user_encoder.transform(events_test[\"user_id\"])\n",
    "\n",
    "# перекодируем идентификаторы объектов: \n",
    "# из имеющихся в последовательность 0, 1, 2, ...\n",
    "item_encoder = sklearn.preprocessing.LabelEncoder()\n",
    "item_encoder.fit(items[\"item_id\"])\n",
    "items[\"item_id_enc\"] = item_encoder.transform(items[\"item_id\"])\n",
    "events_train = events_train.merge(items[[\"item_id\", \"item_id_enc\"]], on=\"item_id\", how='left') \n",
    "events_test = events_test.merge(items[[\"item_id\", \"item_id_enc\"]], on=\"item_id\", how='left') "
   ]
  },
  {
   "attachments": {},
   "cell_type": "markdown",
   "id": "e1729e60",
   "metadata": {},
   "source": [
    "Создаем sparse-матрицу в формате CSR ([документация](https://docs.scipy.org/doc/scipy/reference/sparse.html))"
   ]
  },
  {
   "cell_type": "code",
   "execution_count": null,
   "id": "76e91300",
   "metadata": {},
   "outputs": [],
   "source": [
    "# Формируем колонку target\n",
    "events_train['target'] = 1"
   ]
  },
  {
   "cell_type": "code",
   "execution_count": 13,
   "id": "92452e8e",
   "metadata": {},
   "outputs": [],
   "source": [
    "# создаём sparse-матрицу формата CSR \n",
    "user_item_matrix_train = scipy.sparse.csr_matrix((\n",
    "    events_train[\"target\"],\n",
    "    (events_train['user_id_enc'], events_train['item_id_enc'])),\n",
    "    dtype=np.int8)"
   ]
  },
  {
   "attachments": {},
   "cell_type": "markdown",
   "id": "dd3edbf4",
   "metadata": {},
   "source": [
    "Имея подготовленную матрицу взаимодействий, перейдём к третьему шагу — создадим ALS-модель. Для примера возьмём количество латентных факторов для матриц $P и Q$ равным 50. "
   ]
  },
  {
   "cell_type": "code",
   "execution_count": 11,
   "id": "e011302b",
   "metadata": {},
   "outputs": [
    {
     "name": "stderr",
     "output_type": "stream",
     "text": [
      "c:\\Users\\Kirill_Nosov\\_Repos\\.venv\\Lib\\site-packages\\tqdm\\auto.py:21: TqdmWarning: IProgress not found. Please update jupyter and ipywidgets. See https://ipywidgets.readthedocs.io/en/stable/user_install.html\n",
      "  from .autonotebook import tqdm as notebook_tqdm\n",
      "c:\\Users\\Kirill_Nosov\\_Repos\\.venv\\Lib\\site-packages\\implicit\\cpu\\als.py:95: RuntimeWarning: OpenBLAS is configured to use 8 threads. It is highly recommended to disable its internal threadpool by setting the environment variable 'OPENBLAS_NUM_THREADS=1' or by calling 'threadpoolctl.threadpool_limits(1, \"blas\")'. Having OpenBLAS use a threadpool can lead to severe performance issues here.\n",
      "  check_blas_config()\n",
      "100%|██████████| 50/50 [03:35<00:00,  4.32s/it]\n"
     ]
    }
   ],
   "source": [
    "# Код для создания и тренировки модели\n",
    "from implicit.als import AlternatingLeastSquares\n",
    "\n",
    "als_model = AlternatingLeastSquares(factors=50, iterations=50, regularization=0.05, random_state=0)\n",
    "als_model.fit(user_item_matrix_train)"
   ]
  },
  {
   "cell_type": "code",
   "execution_count": 12,
   "id": "193bbcf7",
   "metadata": {},
   "outputs": [],
   "source": [
    "# Сохраняем als-модель в файл\n",
    "\n",
    "with open('models/als_model.pkl', 'wb') as fd:\n",
    "    joblib.dump(als_model, fd)"
   ]
  },
  {
   "attachments": {},
   "cell_type": "markdown",
   "id": "c2fa48cc",
   "metadata": {},
   "source": [
    "Чтобы получить рекомендации для пользователя с помощью модели ALS, используем функцию ниже"
   ]
  },
  {
   "cell_type": "code",
   "execution_count": 19,
   "id": "d179b89f",
   "metadata": {},
   "outputs": [],
   "source": [
    "def get_recommendations_als(user_item_matrix, als_model, user_id, user_encoder, item_encoder, include_seen=True, n=5):\n",
    "    \"\"\"\n",
    "    Возвращает отранжированные рекомендации для заданного пользователя\n",
    "    \"\"\"\n",
    "    user_id_enc = user_encoder.transform([user_id])[0]\n",
    "    recommendations = als_model.recommend(\n",
    "         user_id_enc, \n",
    "         user_item_matrix[user_id_enc], \n",
    "         filter_already_liked_items=not include_seen,\n",
    "         N=n)\n",
    "    recommendations = pd.DataFrame({\"item_id_enc\": recommendations[0], \"score\": recommendations[1]})\n",
    "    recommendations[\"item_id\"] = item_encoder.inverse_transform(recommendations[\"item_id_enc\"])\n",
    "    \n",
    "    return recommendations"
   ]
  },
  {
   "attachments": {},
   "cell_type": "markdown",
   "id": "907ed22c",
   "metadata": {},
   "source": [
    "__Факультативное задание__\n",
    "\n",
    "Используя get_recommendations_als, напишите код, который позволит для случайного пользователя просмотреть рекомендации в удобном формате: \n",
    "- история с именами авторов и названием книг,\n",
    "- рекомендации с именами авторов и названием книг, seen-признаком (взаимодействовал ли уже пользователь с рекомендованной книгой).\n",
    "\n",
    "Проанализируйте, релевантны ли рекомендации имеющейся истории."
   ]
  },
  {
   "cell_type": "code",
   "execution_count": 1,
   "id": "8fb8fe86",
   "metadata": {},
   "outputs": [],
   "source": [
    "# TODO"
   ]
  },
  {
   "attachments": {},
   "cell_type": "markdown",
   "id": "2954f4df",
   "metadata": {},
   "source": [
    "Получим рекомендации для всех имеющихся пользователей. Выполните код ниже."
   ]
  },
  {
   "cell_type": "code",
   "execution_count": 20,
   "id": "e09cf94b",
   "metadata": {},
   "outputs": [],
   "source": [
    "# получаем список всех возможных user_id (перекодированных)\n",
    "user_ids_encoded = range(len(user_encoder.classes_))\n",
    "\n",
    "# получаем рекомендации для всех пользователей\n",
    "als_recommendations = als_model.recommend(\n",
    "    user_ids_encoded, \n",
    "    user_item_matrix_train[user_ids_encoded], \n",
    "    filter_already_liked_items=False, \n",
    "    N=100)"
   ]
  },
  {
   "attachments": {},
   "cell_type": "markdown",
   "id": "0816a9a9",
   "metadata": {},
   "source": [
    "Код возвращает рекомендации как список списков, это не очень удобно. Преобразуем его в более удобный формат — табличный."
   ]
  },
  {
   "cell_type": "code",
   "execution_count": 21,
   "id": "6b2024ca",
   "metadata": {},
   "outputs": [],
   "source": [
    "# преобразуем полученные рекомендации в табличный формат\n",
    "item_ids_enc = als_recommendations[0]\n",
    "als_scores = als_recommendations[1]\n",
    "\n",
    "als_recommendations = pd.DataFrame({\n",
    "    \"user_id_enc\": user_ids_encoded,\n",
    "    \"item_id_enc\": item_ids_enc.tolist(), \n",
    "    \"score\": als_scores.tolist()})\n",
    "als_recommendations = als_recommendations.explode([\"item_id_enc\", \"score\"], ignore_index=True)\n",
    "\n",
    "# приводим типы данных\n",
    "als_recommendations[\"item_id_enc\"] = als_recommendations[\"item_id_enc\"].astype(\"int\")\n",
    "als_recommendations[\"score\"] = als_recommendations[\"score\"].astype(\"float\")\n",
    "\n",
    "# получаем изначальные идентификаторы\n",
    "als_recommendations[\"user_id\"] = user_encoder.inverse_transform(als_recommendations[\"user_id_enc\"])\n",
    "als_recommendations[\"item_id\"] = item_encoder.inverse_transform(als_recommendations[\"item_id_enc\"])\n",
    "als_recommendations = als_recommendations.drop(columns=[\"user_id_enc\", \"item_id_enc\"])"
   ]
  },
  {
   "cell_type": "code",
   "execution_count": 37,
   "id": "efd05d0c",
   "metadata": {},
   "outputs": [],
   "source": [
    "# Сохраним полученные рекомендации в файл\n",
    "als_recommendations = als_recommendations[[\"user_id\", \"item_id\", \"score\"]]\n",
    "als_recommendations.to_parquet(\"personal_als.parquet\")"
   ]
  },
  {
   "attachments": {},
   "cell_type": "markdown",
   "id": "95bdebaa",
   "metadata": {},
   "source": [
    "Оценим метрику ранжирования [NDCG](https://machinelearninginterview.com/topics/machine-learning/ndcg-evaluation-metric-for-recommender-systems)\n",
    "на тестовой выборке. Она принимает значение от 0 (предлагаемый порядок никак не соответствует истинному) до 1 (предлагаемый порядок в точности соответствует истинному). \n",
    "\n",
    "Для удобства оценки добавим в датафрейм с рекомендациями истинные оценки из тестовой выборки:"
   ]
  },
  {
   "cell_type": "code",
   "execution_count": 22,
   "id": "d3219723",
   "metadata": {},
   "outputs": [],
   "source": [
    "als_recommendations = (\n",
    "    als_recommendations\n",
    "    .merge(events_test[[\"user_id\", \"item_id\", \"rating\"]]\n",
    "               .rename(columns={\"rating\": \"rating_test\"}), \n",
    "           on=[\"user_id\", \"item_id\"], how=\"left\")\n",
    ")"
   ]
  },
  {
   "attachments": {},
   "cell_type": "markdown",
   "id": "f0564a20",
   "metadata": {},
   "source": [
    "Подсчитать метрику NDCG для одного пользователя поможет готовая реализация из scikit-learn:"
   ]
  },
  {
   "cell_type": "code",
   "execution_count": 23,
   "id": "8f740b26",
   "metadata": {},
   "outputs": [],
   "source": [
    "import sklearn.metrics\n",
    "\n",
    "def compute_ndcg(rating: pd.Series, score: pd.Series, k):\n",
    "\n",
    "    \"\"\" подсчёт ndcg\n",
    "    rating: истинные оценки\n",
    "    score: оценки модели\n",
    "    k: количество айтемов (по убыванию score) для оценки, остальные - отбрасываются\n",
    "    \"\"\"\n",
    "    \n",
    "    # если кол-во объектов меньше 2, то NDCG - не определена\n",
    "    if len(rating) < 2:\n",
    "        return np.nan\n",
    "\n",
    "    ndcg = sklearn.metrics.ndcg_score(np.asarray([rating.to_numpy()]), np.asarray([score.to_numpy()]), k=k)\n",
    "\n",
    "    return ndcg"
   ]
  },
  {
   "attachments": {},
   "cell_type": "markdown",
   "id": "d7860282",
   "metadata": {},
   "source": [
    "Умея считать NDCG для одного пользователя, посчитаем данную метрику, например, для k=5 для всех пользователей из тестовой выборки. В результате каждому пользователю будет соответствовать одно значение NDCG@5. Запись “NDCG@5” означает, что метрика NDCG считается для пяти айтемов."
   ]
  },
  {
   "cell_type": "code",
   "execution_count": 24,
   "id": "bd826b0c",
   "metadata": {},
   "outputs": [],
   "source": [
    "rating_test_idx = ~als_recommendations[\"rating_test\"].isnull()\n",
    "ndcg_at_5_scores = als_recommendations[rating_test_idx].groupby(\"user_id\").apply(lambda x: compute_ndcg(x[\"rating_test\"], x[\"score\"], k=5))"
   ]
  },
  {
   "attachments": {},
   "cell_type": "markdown",
   "id": "c846fcf9",
   "metadata": {},
   "source": [
    "Имея ряд значений NDCG@5 по пользователям, можно посчитать её среднее значение по всем пользователям. Должно получиться  0.9759"
   ]
  },
  {
   "cell_type": "code",
   "execution_count": 25,
   "id": "72c4e595",
   "metadata": {},
   "outputs": [
    {
     "data": {
      "text/plain": [
       "0.9759562997103215"
      ]
     },
     "execution_count": 25,
     "metadata": {},
     "output_type": "execute_result"
    }
   ],
   "source": [
    "ndcg_at_5_scores.mean()"
   ]
  },
  {
   "attachments": {},
   "cell_type": "markdown",
   "id": "a14c8376",
   "metadata": {},
   "source": [
    "__Факультативное задание__\n",
    "\n",
    "Оцените, для какой доли пользователей удалось посчитать метрику NDCG."
   ]
  },
  {
   "cell_type": "code",
   "execution_count": 2,
   "id": "878e8082",
   "metadata": {},
   "outputs": [],
   "source": [
    "# TODO"
   ]
  },
  {
   "attachments": {},
   "cell_type": "markdown",
   "id": "ee3b2935",
   "metadata": {},
   "source": [
    "__Рекомендации I2I__\n",
    "\n",
    "Рекомендации вида I2I — это рекомендации похожих объектов. Например, к некоторой книге порекомендовать список похожих книг. Рассматриваемая реализация ALS позволяет получить такие рекомендации при помощи метода `similar_items` ([описание](https://benfred.github.io/implicit/api/models/cpu/als.html))."
   ]
  },
  {
   "attachments": {},
   "cell_type": "markdown",
   "id": "ca1bdb7c",
   "metadata": {},
   "source": [
    "__Факультативное задание__\n",
    "\n",
    "Используя метод  similar_items, получите и оцените рекомендации для нескольких айтемов. Проанализируйте адекватность результатов."
   ]
  },
  {
   "cell_type": "code",
   "execution_count": null,
   "id": "97825ebc",
   "metadata": {},
   "outputs": [],
   "source": [
    "# TODO"
   ]
  },
  {
   "attachments": {},
   "cell_type": "markdown",
   "id": "62575f67-f46e-4747-b3de-6ff5a87d0eba",
   "metadata": {},
   "source": [
    "### Тема 3, Урок 3: Контентные рекомендации"
   ]
  },
  {
   "attachments": {},
   "cell_type": "markdown",
   "id": "d8cb18b3",
   "metadata": {},
   "source": [
    "Построим контентные рекомендации для нашего книжного сервиса. Это можно сделать на основе свойства genre_and_votes — доля голосов в пользу отнесения книги к конкретному жанру. \n",
    "\n",
    "Перед генерацией рекомендаций нужно подготовить данные.\n",
    "\n",
    "__Составим список всех жанров__\n",
    "\n",
    "Составим список всех возможных жанров по всем айтемам. Потом по нему будем составлять вектор с весами по жанрам для каждой книги. Из любопытства составим список жанров с подсчётом количества голосов по каждому из них.\n",
    "Сначала преобразуем значения genre_and_votes из текстового представления в тип в Python:"
   ]
  },
  {
   "cell_type": "code",
   "execution_count": 26,
   "id": "5ae7f494-3ee9-4f49-a61b-9dfb411518bd",
   "metadata": {},
   "outputs": [],
   "source": [
    "items[\"genre_and_votes\"] = items[\"genre_and_votes\"].apply(eval)"
   ]
  },
  {
   "attachments": {},
   "cell_type": "markdown",
   "id": "83ab0733",
   "metadata": {},
   "source": [
    "__Задание 1 из 4__\n",
    "\n",
    "Теперь составьте список жанров с долями голосов по ним в genres. Дополните и выполните следующий код:"
   ]
  },
  {
   "cell_type": "code",
   "execution_count": 27,
   "id": "5f655832-4caa-4290-9b34-388e7b3f5d37",
   "metadata": {},
   "outputs": [],
   "source": [
    "def get_genres(items):\n",
    "\n",
    "    \"\"\" \n",
    "    извлекает список жанров по всем книгам, \n",
    "    подсчитывает долю голосов по каждому их них\n",
    "    \"\"\"\n",
    "    \n",
    "    genres_counter = {}\n",
    "    \n",
    "    for k, v, in items.iterrows():\n",
    "        genre_and_votes = v[\"genre_and_votes\"] # ваш код здесь\n",
    "        if genre_and_votes is None or not isinstance(genre_and_votes, dict):\n",
    "            continue\n",
    "        for genre, votes in genre_and_votes.items():\n",
    "            # увеличиваем счётчик жанров\n",
    "            try:\n",
    "                genres_counter[genre] += votes # ваш код здесь\n",
    "            except KeyError:\n",
    "                genres_counter[genre] = 0\n",
    "\n",
    "    genres = pd.Series(genres_counter, name=\"votes\")\n",
    "    genres = genres.to_frame()\n",
    "    genres = genres.reset_index().rename(columns={\"index\": \"name\"})\n",
    "    genres.index.name = \"genre_id\"\n",
    "    \n",
    "    return genres\n",
    "\n",
    "genres = get_genres(items)"
   ]
  },
  {
   "attachments": {},
   "cell_type": "markdown",
   "id": "bf6c18cd",
   "metadata": {},
   "source": [
    "Результат выполнения кода — список жанров с долями голосов по ним в genres. Посмотрим на самые популярные жанры:\n",
    "\n",
    "Проверка: На 5-м по популярности месте должен находиться жанр - `Romance`,\n",
    "на 1-м месте с отрывом по количеству голосов почти в три раза должен быть жанр `Fantasy`."
   ]
  },
  {
   "cell_type": "code",
   "execution_count": 28,
   "id": "d8f945a6-bd08-4f17-84a3-4a82e00a29c6",
   "metadata": {},
   "outputs": [
    {
     "data": {
      "text/html": [
       "<div>\n",
       "<style scoped>\n",
       "    .dataframe tbody tr th:only-of-type {\n",
       "        vertical-align: middle;\n",
       "    }\n",
       "\n",
       "    .dataframe tbody tr th {\n",
       "        vertical-align: top;\n",
       "    }\n",
       "\n",
       "    .dataframe thead th {\n",
       "        text-align: right;\n",
       "    }\n",
       "</style>\n",
       "<table border=\"1\" class=\"dataframe\">\n",
       "  <thead>\n",
       "    <tr style=\"text-align: right;\">\n",
       "      <th></th>\n",
       "      <th>name</th>\n",
       "      <th>votes</th>\n",
       "      <th>score</th>\n",
       "    </tr>\n",
       "    <tr>\n",
       "      <th>genre_id</th>\n",
       "      <th></th>\n",
       "      <th></th>\n",
       "      <th></th>\n",
       "    </tr>\n",
       "  </thead>\n",
       "  <tbody>\n",
       "    <tr>\n",
       "      <th>25</th>\n",
       "      <td>Fantasy</td>\n",
       "      <td>6850060</td>\n",
       "      <td>0.149651</td>\n",
       "    </tr>\n",
       "    <tr>\n",
       "      <th>1</th>\n",
       "      <td>Fiction</td>\n",
       "      <td>6406256</td>\n",
       "      <td>0.139955</td>\n",
       "    </tr>\n",
       "    <tr>\n",
       "      <th>38</th>\n",
       "      <td>Classics</td>\n",
       "      <td>3414934</td>\n",
       "      <td>0.074605</td>\n",
       "    </tr>\n",
       "    <tr>\n",
       "      <th>18</th>\n",
       "      <td>Young Adult</td>\n",
       "      <td>3296951</td>\n",
       "      <td>0.072027</td>\n",
       "    </tr>\n",
       "    <tr>\n",
       "      <th>34</th>\n",
       "      <td>Romance</td>\n",
       "      <td>2422614</td>\n",
       "      <td>0.052926</td>\n",
       "    </tr>\n",
       "    <tr>\n",
       "      <th>5</th>\n",
       "      <td>Nonfiction</td>\n",
       "      <td>1737406</td>\n",
       "      <td>0.037957</td>\n",
       "    </tr>\n",
       "    <tr>\n",
       "      <th>16</th>\n",
       "      <td>Historical-Historical Fiction</td>\n",
       "      <td>1531205</td>\n",
       "      <td>0.033452</td>\n",
       "    </tr>\n",
       "    <tr>\n",
       "      <th>20</th>\n",
       "      <td>Mystery</td>\n",
       "      <td>1371196</td>\n",
       "      <td>0.029956</td>\n",
       "    </tr>\n",
       "    <tr>\n",
       "      <th>24</th>\n",
       "      <td>Science Fiction</td>\n",
       "      <td>1218917</td>\n",
       "      <td>0.026629</td>\n",
       "    </tr>\n",
       "    <tr>\n",
       "      <th>33</th>\n",
       "      <td>Fantasy-Paranormal</td>\n",
       "      <td>857012</td>\n",
       "      <td>0.018723</td>\n",
       "    </tr>\n",
       "  </tbody>\n",
       "</table>\n",
       "</div>"
      ],
      "text/plain": [
       "                                   name    votes     score\n",
       "genre_id                                                  \n",
       "25                              Fantasy  6850060  0.149651\n",
       "1                               Fiction  6406256  0.139955\n",
       "38                             Classics  3414934  0.074605\n",
       "18                          Young Adult  3296951  0.072027\n",
       "34                              Romance  2422614  0.052926\n",
       "5                            Nonfiction  1737406  0.037957\n",
       "16        Historical-Historical Fiction  1531205  0.033452\n",
       "20                              Mystery  1371196  0.029956\n",
       "24                      Science Fiction  1218917  0.026629\n",
       "33                   Fantasy-Paranormal   857012  0.018723"
      ]
     },
     "execution_count": 28,
     "metadata": {},
     "output_type": "execute_result"
    }
   ],
   "source": [
    "genres[\"score\"] = genres[\"votes\"] / genres[\"votes\"].sum()\n",
    "genres.sort_values(by=\"score\", ascending=False).head(10)"
   ]
  },
  {
   "attachments": {},
   "cell_type": "markdown",
   "id": "f12954d6",
   "metadata": {},
   "source": [
    "__Подготовим матрицы__\n",
    "\n",
    "При работе с контентными свойствами нередко используют матрицы больших размерностей.\n",
    "При этом они будут разреженными. Чтобы сэкономить память, используем sparse-формат.\n",
    "\n",
    "В текущей задаче нам необходимо составить  матрицу, в которой строки соответствуют книгам, а столбцы — жанрам (в том порядке, в котором они указаны в genres), на пересечении — доля голосов."
   ]
  },
  {
   "attachments": {},
   "cell_type": "markdown",
   "id": "d16a35e8",
   "metadata": {},
   "source": [
    "__Задание 2 из 4__\n",
    "\n",
    "Функция в коде ниже строит матрицу вида «книга-жанр». Изучите её. Подумайте, что будет соответствовать столбцам матрицы. "
   ]
  },
  {
   "cell_type": "code",
   "execution_count": 29,
   "id": "0fce66ac",
   "metadata": {},
   "outputs": [],
   "source": [
    "def get_item2genre_matrix(genres, items):\n",
    "\n",
    "    genre_names_to_id = genres.reset_index().set_index(\"name\")[\"genre_id\"].to_dict()\n",
    "    \n",
    "    # list to build CSR matrix\n",
    "    genres_csr_data = []\n",
    "    genres_csr_row_idx = []\n",
    "    genres_csr_col_idx = []\n",
    "    \n",
    "    for item_idx, (k, v) in enumerate(items.iterrows()):\n",
    "        if v[\"genre_and_votes\"] is None:\n",
    "            continue\n",
    "        for genre_name, votes in v[\"genre_and_votes\"].items():\n",
    "            genre_idx = genre_names_to_id[genre_name]\n",
    "            genres_csr_data.append(int(votes))\n",
    "            genres_csr_row_idx.append(item_idx)\n",
    "            genres_csr_col_idx.append(genre_idx)\n",
    "\n",
    "    genres_csr = scipy.sparse.csr_matrix((genres_csr_data, (genres_csr_row_idx, genres_csr_col_idx)), shape=(len(items), len(genres)))\n",
    "    # нормализуем, чтобы сумма оценок принадлежности к жанру была равна 1\n",
    "    genres_csr = sklearn.preprocessing.normalize(genres_csr, norm='l1', axis=1)\n",
    "    \n",
    "    return genres_csr"
   ]
  },
  {
   "attachments": {},
   "cell_type": "markdown",
   "id": "8ceb2c92",
   "metadata": {},
   "source": [
    "Получим матрицу с весами по жанрам для каждой книги:"
   ]
  },
  {
   "cell_type": "code",
   "execution_count": 30,
   "id": "b3230a22",
   "metadata": {},
   "outputs": [],
   "source": [
    "items = items.sort_values(by=\"item_id_enc\")\n",
    "all_items_genres_csr = get_item2genre_matrix(genres, items)"
   ]
  },
  {
   "attachments": {},
   "cell_type": "markdown",
   "id": "c5e83cee",
   "metadata": {},
   "source": [
    "Аналогичным образом получим матрицу с весами по жанрам для какого-нибудь пользователя, например, для пользователя с идентификатором 1000010."
   ]
  },
  {
   "attachments": {},
   "cell_type": "markdown",
   "id": "e2a81b6b",
   "metadata": {},
   "source": [
    "__Задание 3 из 4__\n",
    "\n",
    "Дополните и выполните код ниже, чтобы получить описанную матрицу. \n",
    "\n",
    "Проверка: для выбранного пользователя в user_items_genres_csr должно получиться 149 существующих элементов."
   ]
  },
  {
   "cell_type": "code",
   "execution_count": 47,
   "id": "a8f7fae0",
   "metadata": {},
   "outputs": [
    {
     "data": {
      "text/plain": [
       "<22x815 sparse matrix of type '<class 'numpy.float64'>'\n",
       "\twith 149 stored elements in Compressed Sparse Row format>"
      ]
     },
     "execution_count": 47,
     "metadata": {},
     "output_type": "execute_result"
    }
   ],
   "source": [
    "user_id = 1000010\n",
    "user_events = events_train.query(\"user_id == @user_id\")[[\"item_id\", \"rating\"]]\n",
    "user_items = items[items[\"item_id\"].isin(user_events[\"item_id\"])]\n",
    "\n",
    "user_items_genres_csr = get_item2genre_matrix(genres, user_items) # ваш код здесь\n",
    "user_items_genres_csr"
   ]
  },
  {
   "attachments": {},
   "cell_type": "markdown",
   "id": "4b460727",
   "metadata": {},
   "source": [
    "На практике часто пользователь явно указывает предпочтения в своём профиле. У нас таких данных нет, поэтому предпочтения пользователя по жанрам вычислим автоматически на основе его истории поведения."
   ]
  },
  {
   "cell_type": "code",
   "execution_count": 48,
   "id": "734b9ed4",
   "metadata": {},
   "outputs": [],
   "source": [
    "# вычислим склонность пользователя к жанрам как среднее взвешенное значение популяции на его оценки книг.\n",
    "\n",
    "# преобразуем пользовательские оценки из списка в вектор-столбец\n",
    "user_ratings = user_events[\"rating\"].to_numpy() / 5\n",
    "user_ratings = np.expand_dims(user_ratings, axis=1)\n",
    "\n",
    "user_items_genres_weighted = user_items_genres_csr.multiply(user_ratings)\n",
    "\n",
    "user_genres_scores = np.asarray(user_items_genres_weighted.mean(axis=0))"
   ]
  },
  {
   "attachments": {},
   "cell_type": "markdown",
   "id": "9a4149c0",
   "metadata": {},
   "source": [
    "Посмотрим, какие жанры больше всего нравятся пользователю:"
   ]
  },
  {
   "cell_type": "code",
   "execution_count": 49,
   "id": "61c6ad32",
   "metadata": {},
   "outputs": [
    {
     "data": {
      "text/html": [
       "<div>\n",
       "<style scoped>\n",
       "    .dataframe tbody tr th:only-of-type {\n",
       "        vertical-align: middle;\n",
       "    }\n",
       "\n",
       "    .dataframe tbody tr th {\n",
       "        vertical-align: top;\n",
       "    }\n",
       "\n",
       "    .dataframe thead th {\n",
       "        text-align: right;\n",
       "    }\n",
       "</style>\n",
       "<table border=\"1\" class=\"dataframe\">\n",
       "  <thead>\n",
       "    <tr style=\"text-align: right;\">\n",
       "      <th></th>\n",
       "      <th>name</th>\n",
       "      <th>votes</th>\n",
       "      <th>score</th>\n",
       "    </tr>\n",
       "    <tr>\n",
       "      <th>genre_id</th>\n",
       "      <th></th>\n",
       "      <th></th>\n",
       "      <th></th>\n",
       "    </tr>\n",
       "  </thead>\n",
       "  <tbody>\n",
       "    <tr>\n",
       "      <th>1</th>\n",
       "      <td>Fiction</td>\n",
       "      <td>6406256</td>\n",
       "      <td>0.195253</td>\n",
       "    </tr>\n",
       "    <tr>\n",
       "      <th>38</th>\n",
       "      <td>Classics</td>\n",
       "      <td>3414934</td>\n",
       "      <td>0.096687</td>\n",
       "    </tr>\n",
       "    <tr>\n",
       "      <th>25</th>\n",
       "      <td>Fantasy</td>\n",
       "      <td>6850060</td>\n",
       "      <td>0.074261</td>\n",
       "    </tr>\n",
       "    <tr>\n",
       "      <th>24</th>\n",
       "      <td>Science Fiction</td>\n",
       "      <td>1218917</td>\n",
       "      <td>0.045902</td>\n",
       "    </tr>\n",
       "    <tr>\n",
       "      <th>5</th>\n",
       "      <td>Nonfiction</td>\n",
       "      <td>1737406</td>\n",
       "      <td>0.044359</td>\n",
       "    </tr>\n",
       "  </tbody>\n",
       "</table>\n",
       "</div>"
      ],
      "text/plain": [
       "                     name    votes     score\n",
       "genre_id                                    \n",
       "1                 Fiction  6406256  0.195253\n",
       "38               Classics  3414934  0.096687\n",
       "25                Fantasy  6850060  0.074261\n",
       "24        Science Fiction  1218917  0.045902\n",
       "5              Nonfiction  1737406  0.044359"
      ]
     },
     "execution_count": 49,
     "metadata": {},
     "output_type": "execute_result"
    }
   ],
   "source": [
    "# выведем список жанров, которые предпочитает пользователь\n",
    "\n",
    "user_genres = genres.copy()\n",
    "user_genres[\"score\"] = np.ravel(user_genres_scores)\n",
    "user_genres = user_genres[user_genres[\"score\"] > 0].sort_values(by=[\"score\"], ascending=False)\n",
    "\n",
    "user_genres.head(5)"
   ]
  },
  {
   "attachments": {},
   "cell_type": "markdown",
   "id": "59b930bc",
   "metadata": {},
   "source": [
    "__Построим рекомендации__\n",
    "\n",
    "Теперь рассчитаем рекомендации на основе двух объектов:\n",
    "* all_items_genres_csr — матрица распределения интересов всех пользователей по жанрам. Строка — вектор распределения интересов всех пользователей по жанрам для одного объекта.\n",
    "* user_genres_scores — вектор интересов пользователя по жанрам.\n",
    "\n",
    "Рекомендации будем рассчитывать с помощью косинусного сходства между user_genres_scores и всеми\n",
    "строками матрицы all_items_genres_csr."
   ]
  },
  {
   "attachments": {},
   "cell_type": "markdown",
   "id": "a3d3d90e",
   "metadata": {},
   "source": [
    "__Задание 4 из 4__\n",
    "\n",
    "Получите наиболее релевантные рекомендации для пользователя. Дополните код так, чтобы переменная top_k_indices заполнялась индексами соответствующих книг. Для этого удобно использовать np.argsort от similarity_scores, подсчитанной для всех книг."
   ]
  },
  {
   "cell_type": "code",
   "execution_count": 50,
   "id": "c96faad9",
   "metadata": {},
   "outputs": [],
   "source": [
    "from sklearn.metrics.pairwise import cosine_similarity\n",
    "\n",
    "# вычисляем сходство между вектором пользователя и векторами по книгам\n",
    "similarity_scores = cosine_similarity(all_items_genres_csr, user_genres_scores)\n",
    "\n",
    "# преобразуем в одномерный массив\n",
    "similarity_scores = similarity_scores.flatten()\n",
    "\n",
    "# получаем индексы top-k (по убыванию значений), по сути, индексы книг (encoded)\n",
    "k = 5\n",
    "top_k_indices = np.argsort(-similarity_scores)[:k] # ваш код здесь "
   ]
  },
  {
   "attachments": {},
   "cell_type": "markdown",
   "id": "107dc3be",
   "metadata": {},
   "source": [
    "После вычисления top_k_indices по полученным индексам извлеките список объектов, которые могут быть интересны пользователю, при помощи кода:"
   ]
  },
  {
   "cell_type": "code",
   "execution_count": 51,
   "id": "59d157cf",
   "metadata": {},
   "outputs": [
    {
     "data": {
      "text/html": [
       "<div>\n",
       "<style scoped>\n",
       "    .dataframe tbody tr th:only-of-type {\n",
       "        vertical-align: middle;\n",
       "    }\n",
       "\n",
       "    .dataframe tbody tr th {\n",
       "        vertical-align: top;\n",
       "    }\n",
       "\n",
       "    .dataframe thead th {\n",
       "        text-align: right;\n",
       "    }\n",
       "</style>\n",
       "<table border=\"1\" class=\"dataframe\">\n",
       "  <thead>\n",
       "    <tr style=\"text-align: right;\">\n",
       "      <th></th>\n",
       "      <th>author</th>\n",
       "      <th>title</th>\n",
       "      <th>genre_and_votes</th>\n",
       "    </tr>\n",
       "  </thead>\n",
       "  <tbody>\n",
       "    <tr>\n",
       "      <th>564712</th>\n",
       "      <td>Ray Bradbury</td>\n",
       "      <td>Farewell Summer (Green Town, #3)</td>\n",
       "      <td>{'Fiction': 170, 'Fantasy': 72, 'Science Fiction': 72, 'Classics': 52}</td>\n",
       "    </tr>\n",
       "    <tr>\n",
       "      <th>1358935</th>\n",
       "      <td>John Fowles</td>\n",
       "      <td>The Magus</td>\n",
       "      <td>{'Fiction': 1204, 'Classics': 421, 'Fantasy': 228, 'Mystery': 203, 'Literature': 167}</td>\n",
       "    </tr>\n",
       "    <tr>\n",
       "      <th>80465</th>\n",
       "      <td>G.K. Chesterton</td>\n",
       "      <td>The Napoleon of Notting Hill</td>\n",
       "      <td>{'Fiction': 166, 'Classics': 88, 'Fantasy': 44, 'Humor': 22, 'Literature': 20}</td>\n",
       "    </tr>\n",
       "    <tr>\n",
       "      <th>1168335</th>\n",
       "      <td>Ray Bradbury</td>\n",
       "      <td>Dandelion Wine (Green Town, #1)</td>\n",
       "      <td>{'Fiction': 1438, 'Classics': 914, 'Science Fiction': 529, 'Fantasy': 456, 'Young Adult': 212}</td>\n",
       "    </tr>\n",
       "    <tr>\n",
       "      <th>2244467</th>\n",
       "      <td>Samuel Butler</td>\n",
       "      <td>Erewhon (Erewhon , #1)</td>\n",
       "      <td>{'Fiction': 162, 'Classics': 139, 'Science Fiction': 60, 'Fantasy': 55}</td>\n",
       "    </tr>\n",
       "  </tbody>\n",
       "</table>\n",
       "</div>"
      ],
      "text/plain": [
       "                  author                             title  \\\n",
       "564712      Ray Bradbury  Farewell Summer (Green Town, #3)   \n",
       "1358935      John Fowles                         The Magus   \n",
       "80465    G.K. Chesterton      The Napoleon of Notting Hill   \n",
       "1168335     Ray Bradbury   Dandelion Wine (Green Town, #1)   \n",
       "2244467    Samuel Butler            Erewhon (Erewhon , #1)   \n",
       "\n",
       "                                                                                        genre_and_votes  \n",
       "564712                           {'Fiction': 170, 'Fantasy': 72, 'Science Fiction': 72, 'Classics': 52}  \n",
       "1358935           {'Fiction': 1204, 'Classics': 421, 'Fantasy': 228, 'Mystery': 203, 'Literature': 167}  \n",
       "80465                    {'Fiction': 166, 'Classics': 88, 'Fantasy': 44, 'Humor': 22, 'Literature': 20}  \n",
       "1168335  {'Fiction': 1438, 'Classics': 914, 'Science Fiction': 529, 'Fantasy': 456, 'Young Adult': 212}  \n",
       "2244467                         {'Fiction': 162, 'Classics': 139, 'Science Fiction': 60, 'Fantasy': 55}  "
      ]
     },
     "metadata": {},
     "output_type": "display_data"
    }
   ],
   "source": [
    "selected_items = items[items[\"item_id_enc\"].isin(top_k_indices)]\n",
    "\n",
    "with pd.option_context(\"max_colwidth\", 100):\n",
    "   display(selected_items[[\"author\", \"title\", \"genre_and_votes\"]])"
   ]
  },
  {
   "attachments": {},
   "cell_type": "markdown",
   "id": "32fe2de3",
   "metadata": {},
   "source": [
    "Самым преобладающим жанром в полученных рекомендациях явл-ся Fiction. За него отдано наибольшее количество голосов. Это согласуется и со списком жанров, предпочитаемых пользователем."
   ]
  },
  {
   "attachments": {},
   "cell_type": "markdown",
   "id": "9c8f6e6c",
   "metadata": {},
   "source": [
    "__Факультативное задание__\n",
    "1. Получите по алгоритму выше рекомендации для нескольких пользователей, просмотрите их на экране. Подумайте, насколько релевантны и интересны полученные рекомендации пользователям.\n",
    "2. Попробуйте использовать другую меру сходства для получения рекомендаций, например, евклидово расстояние. Проанализируйте, отличаются ли рекомендации от предыдущих. Подумайте почему.\n",
    "3. Задайте собственные предпочтения для наиболее популярных жанров. Посмотрите рекомендации для себя. Прочитали ли бы вы рекомендованные книги?"
   ]
  },
  {
   "cell_type": "code",
   "execution_count": 32,
   "id": "49d56b39",
   "metadata": {},
   "outputs": [],
   "source": [
    "from sklearn.metrics.pairwise import cosine_similarity\n",
    "\n",
    "\n",
    "def get_recommendations_by_genres(user_id, items, events, genres, all_items_genres_csr, n=5):\n",
    "\n",
    "    \"\"\" возвращает n рекомендаций для user_id на основе предпочитаемых им жанров\"\"\"\n",
    "    \n",
    "    user_events = events.query(\"user_id == @user_id\")[[\"item_id\", \"rating\"]]\n",
    "    user_items = items[items[\"item_id\"].isin(user_events[\"item_id\"])]\n",
    "\n",
    "    #user_items_genres_csr = get_item2genre_matrix(genres, user_items) # Авторский вариант\n",
    "    user_items_genres_csr = all_items_genres_csr[user_items['item_id_enc']] # Мой вариант, рез-т тот же\n",
    "    \n",
    "    # вычислим склонность пользователя к жанрам как среднее взвешенное значение популяции на его оценки книг.\n",
    "\n",
    "    # преобразуем пользовательские оценки из списка в вектор-столбец\n",
    "    user_ratings = user_events[\"rating\"].to_numpy() / 5\n",
    "    user_ratings = np.expand_dims(user_ratings, axis=1)\n",
    "\n",
    "    user_items_genres_weighted = user_items_genres_csr.multiply(user_ratings)\n",
    "    user_genres_scores = np.asarray(user_items_genres_weighted.mean(axis=0))\n",
    "\n",
    "    # вычисляем сходство между вектором пользователя и векторами по книгам\n",
    "    similarity_scores = cosine_similarity(all_items_genres_csr, user_genres_scores)\n",
    "\n",
    "    # преобразуем в одномерный массив\n",
    "    similarity_scores = similarity_scores.flatten()\n",
    "\n",
    "    # получаем индексы top-n (по убыванию значений), по сути, индексы книг (encoded)\n",
    "    top_n_indices = np.argsort(-similarity_scores)[:n] \n",
    "\n",
    "    selected_items = items[items[\"item_id_enc\"].isin(top_n_indices)]\n",
    "    \n",
    "    return selected_items['item_id'].to_list(), similarity_scores[top_n_indices].tolist()"
   ]
  },
  {
   "cell_type": "code",
   "execution_count": 33,
   "id": "0ef87347",
   "metadata": {},
   "outputs": [],
   "source": [
    "# Для примера взял только первые 1000 юзеров\n",
    "\n",
    "users_ids = events_train['user_id'].unique()[:1000] \n",
    "\n",
    "n = 5\n",
    "items_ids = []\n",
    "scores = []\n",
    "for i, user_id in enumerate(users_ids):\n",
    "    user_items_ids, user_scores = get_recommendations_by_genres(user_id, items, events_train, genres, all_items_genres_csr, n)\n",
    "    items_ids.append(user_items_ids)\n",
    "    scores.append(user_scores)\n",
    "\n",
    "    if i >= 1000:\n",
    "        break\n",
    "\n",
    "content_recommendations = pd.DataFrame({\n",
    "    \"user_id\": users_ids,\n",
    "    \"item_id\": items_ids, \n",
    "    \"score\": scores})\n",
    "\n",
    "content_recommendations = content_recommendations.explode([\"item_id\", \"score\"], ignore_index=True)"
   ]
  },
  {
   "cell_type": "code",
   "execution_count": 34,
   "id": "d6038a06",
   "metadata": {},
   "outputs": [
    {
     "data": {
      "text/html": [
       "<div>\n",
       "<style scoped>\n",
       "    .dataframe tbody tr th:only-of-type {\n",
       "        vertical-align: middle;\n",
       "    }\n",
       "\n",
       "    .dataframe tbody tr th {\n",
       "        vertical-align: top;\n",
       "    }\n",
       "\n",
       "    .dataframe thead th {\n",
       "        text-align: right;\n",
       "    }\n",
       "</style>\n",
       "<table border=\"1\" class=\"dataframe\">\n",
       "  <thead>\n",
       "    <tr style=\"text-align: right;\">\n",
       "      <th></th>\n",
       "      <th>user_id</th>\n",
       "      <th>book_id</th>\n",
       "      <th>score</th>\n",
       "    </tr>\n",
       "  </thead>\n",
       "  <tbody>\n",
       "    <tr>\n",
       "      <th>0</th>\n",
       "      <td>1000000</td>\n",
       "      <td>11841</td>\n",
       "      <td>0.931126</td>\n",
       "    </tr>\n",
       "    <tr>\n",
       "      <th>1</th>\n",
       "      <td>1000000</td>\n",
       "      <td>18130</td>\n",
       "      <td>0.920573</td>\n",
       "    </tr>\n",
       "    <tr>\n",
       "      <th>2</th>\n",
       "      <td>1000000</td>\n",
       "      <td>24761</td>\n",
       "      <td>0.919324</td>\n",
       "    </tr>\n",
       "    <tr>\n",
       "      <th>3</th>\n",
       "      <td>1000000</td>\n",
       "      <td>84981</td>\n",
       "      <td>0.9118</td>\n",
       "    </tr>\n",
       "    <tr>\n",
       "      <th>4</th>\n",
       "      <td>1000000</td>\n",
       "      <td>7052617</td>\n",
       "      <td>0.906302</td>\n",
       "    </tr>\n",
       "    <tr>\n",
       "      <th>...</th>\n",
       "      <td>...</td>\n",
       "      <td>...</td>\n",
       "      <td>...</td>\n",
       "    </tr>\n",
       "    <tr>\n",
       "      <th>4995</th>\n",
       "      <td>1001004</td>\n",
       "      <td>10410278</td>\n",
       "      <td>0.959062</td>\n",
       "    </tr>\n",
       "    <tr>\n",
       "      <th>4996</th>\n",
       "      <td>1001004</td>\n",
       "      <td>12256544</td>\n",
       "      <td>0.956481</td>\n",
       "    </tr>\n",
       "    <tr>\n",
       "      <th>4997</th>\n",
       "      <td>1001004</td>\n",
       "      <td>14743247</td>\n",
       "      <td>0.955078</td>\n",
       "    </tr>\n",
       "    <tr>\n",
       "      <th>4998</th>\n",
       "      <td>1001004</td>\n",
       "      <td>16070143</td>\n",
       "      <td>0.95395</td>\n",
       "    </tr>\n",
       "    <tr>\n",
       "      <th>4999</th>\n",
       "      <td>1001004</td>\n",
       "      <td>23534737</td>\n",
       "      <td>0.953654</td>\n",
       "    </tr>\n",
       "  </tbody>\n",
       "</table>\n",
       "<p>5000 rows × 3 columns</p>\n",
       "</div>"
      ],
      "text/plain": [
       "      user_id   book_id     score\n",
       "0     1000000     11841  0.931126\n",
       "1     1000000     18130  0.920573\n",
       "2     1000000     24761  0.919324\n",
       "3     1000000     84981    0.9118\n",
       "4     1000000   7052617  0.906302\n",
       "...       ...       ...       ...\n",
       "4995  1001004  10410278  0.959062\n",
       "4996  1001004  12256544  0.956481\n",
       "4997  1001004  14743247  0.955078\n",
       "4998  1001004  16070143   0.95395\n",
       "4999  1001004  23534737  0.953654\n",
       "\n",
       "[5000 rows x 3 columns]"
      ]
     },
     "execution_count": 34,
     "metadata": {},
     "output_type": "execute_result"
    }
   ],
   "source": [
    "content_recommendations"
   ]
  },
  {
   "cell_type": "code",
   "execution_count": 35,
   "id": "34a39134",
   "metadata": {},
   "outputs": [],
   "source": [
    "# Сохраним полученные рекомендации в файл\n",
    "#content_recommendations.to_parquet(\"content_recommendations.parquet\")"
   ]
  },
  {
   "attachments": {},
   "cell_type": "markdown",
   "id": "dfdeb7c3-0935-4bee-8b93-dfe26091289b",
   "metadata": {},
   "source": [
    "### Тема 3, Урок 4: Валидация"
   ]
  },
  {
   "attachments": {},
   "cell_type": "markdown",
   "id": "a3f69d5c",
   "metadata": {},
   "source": [
    "Посчитаем recall и precision для ALS-рекомендаций (als_recommendations). Для этого события в тестовой выборке и рекомендации для одних и тех же пользователей разметим признаками:\n",
    "* gt (ground truth): объект есть в тестовой выборке;\n",
    "* pr (predicted): объект есть в рекомендациях.\n",
    "\n",
    "Теперь разметим признаки бинарной классификации:\n",
    "* TP: объект есть и в тестовой выборке, и в рекомендациях (истинная рекомендация),\n",
    "* FP: объекта нет в тестовой выборке, но он есть в рекомендациях (ложноположительная рекомендация),\n",
    "* FN: объект есть в тестовой выборке, но его нет в рекомендациях (ложноотрицательная рекомендация)"
   ]
  },
  {
   "cell_type": "code",
   "execution_count": 31,
   "id": "05850eab-168a-4338-8692-cd1a8fefb685",
   "metadata": {},
   "outputs": [],
   "source": [
    "def process_events_recs_for_binary_metrics(events_train, events_test, recs, top_k=None):\n",
    "\n",
    "    \"\"\"\n",
    "    размечает пары <user_id, item_id> для общего множества пользователей признаками\n",
    "    - gt (ground truth)\n",
    "    - pr (prediction)\n",
    "    top_k: расчёт ведётся только для top k-рекомендаций\n",
    "    \"\"\"\n",
    "\n",
    "    events_test[\"gt\"] = True\n",
    "    common_users = set(events_test[\"user_id\"]) & set(recs[\"user_id\"])\n",
    "\n",
    "    print(f\"Common users: {len(common_users)}\")\n",
    "    \n",
    "    events_for_common_users = events_test[events_test[\"user_id\"].isin(common_users)].copy()\n",
    "    recs_for_common_users = recs[recs[\"user_id\"].isin(common_users)].copy()\n",
    "\n",
    "    recs_for_common_users = recs_for_common_users.sort_values([\"user_id\", \"score\"], ascending=[True, False])\n",
    "\n",
    "    # оставляет только те item_id, которые были в events_train, \n",
    "    # т. к. модель не имела никакой возможности давать рекомендации для новых айтемов\n",
    "    events_for_common_users = events_for_common_users[events_for_common_users[\"item_id\"].isin(events_train[\"item_id\"].unique())]\n",
    "\n",
    "    if top_k is not None:\n",
    "        recs_for_common_users = recs_for_common_users.groupby(\"user_id\").head(top_k)\n",
    "    \n",
    "    events_recs_common = events_for_common_users[[\"user_id\", \"item_id\", \"gt\"]].merge(\n",
    "        recs_for_common_users[[\"user_id\", \"item_id\", \"score\"]], \n",
    "        on=[\"user_id\", \"item_id\"], how=\"outer\")    \n",
    "\n",
    "    events_recs_common[\"gt\"] = events_recs_common[\"gt\"].fillna(False)\n",
    "    events_recs_common[\"pr\"] = ~events_recs_common[\"score\"].isnull()\n",
    "    \n",
    "    events_recs_common[\"tp\"] = events_recs_common[\"gt\"] & events_recs_common[\"pr\"]\n",
    "    events_recs_common[\"fp\"] = ~events_recs_common[\"gt\"] & events_recs_common[\"pr\"]\n",
    "    events_recs_common[\"fn\"] = events_recs_common[\"gt\"] & ~events_recs_common[\"pr\"]\n",
    "\n",
    "    return events_recs_common"
   ]
  },
  {
   "attachments": {},
   "cell_type": "markdown",
   "id": "53a225bb",
   "metadata": {},
   "source": [
    "Обработаем ALS-рекомендации для подсчёта метрик для 5 лучших рекомендаций:"
   ]
  },
  {
   "cell_type": "code",
   "execution_count": 32,
   "id": "28f429e6-b9da-4231-afba-25dd8e606a23",
   "metadata": {},
   "outputs": [
    {
     "name": "stdout",
     "output_type": "stream",
     "text": [
      "Common users: 123223\n"
     ]
    }
   ],
   "source": [
    "events_recs_for_binary_metrics = process_events_recs_for_binary_metrics(events_train,\n",
    "                                                                        events_test, \n",
    "                                                                        als_recommendations,\n",
    "                                                                        top_k=5)"
   ]
  },
  {
   "attachments": {},
   "cell_type": "markdown",
   "id": "92bc31c7",
   "metadata": {},
   "source": [
    "__Задание__\n",
    "\n",
    "Дополните код функции compute_cls_metrics для расчёта recall. Получите значения метрик precision@5, recall@5"
   ]
  },
  {
   "cell_type": "code",
   "execution_count": 33,
   "id": "b4e4509b-6289-4ad6-a767-cbb2ace791ee",
   "metadata": {},
   "outputs": [],
   "source": [
    "def compute_cls_metrics(events_recs_for_binary_metrics):\n",
    "    \n",
    "    groupper = events_recs_for_binary_metrics.groupby(\"user_id\")\n",
    "\n",
    "    # precision = tp / (tp + fp)\n",
    "    precision = groupper[\"tp\"].sum() / (groupper[\"tp\"].sum() + groupper[\"fp\"].sum())\n",
    "    precision = precision.fillna(0).mean()\n",
    "    \n",
    "    # recall = tp / (tp + fn)\n",
    "    recall = groupper[\"tp\"].sum() / (groupper[\"tp\"].sum() + groupper[\"fn\"].sum()) # ваш код здесь\n",
    "    recall = recall.fillna(0).mean()\n",
    "\n",
    "    return precision, recall"
   ]
  },
  {
   "attachments": {},
   "cell_type": "markdown",
   "id": "6d680500",
   "metadata": {},
   "source": [
    "Recall@5 должен быть равен 0.014"
   ]
  },
  {
   "cell_type": "code",
   "execution_count": 34,
   "id": "70aef69f",
   "metadata": {},
   "outputs": [
    {
     "name": "stdout",
     "output_type": "stream",
     "text": [
      "0.008 0.014\n"
     ]
    }
   ],
   "source": [
    "precision, recall = compute_cls_metrics(events_recs_for_binary_metrics)\n",
    "print(round(precision, 3), round(recall, 3))"
   ]
  },
  {
   "attachments": {},
   "cell_type": "markdown",
   "id": "92d9ca53",
   "metadata": {},
   "source": [
    "__Факультативное задание__\n",
    "\n",
    "Посчитайте метрики precision@10, recall@10. Сравните их значения со значениями для precision@5, recall@10. Подумайте о причинах таких отличий."
   ]
  },
  {
   "cell_type": "code",
   "execution_count": 107,
   "id": "7e9ad6e2",
   "metadata": {},
   "outputs": [
    {
     "name": "stdout",
     "output_type": "stream",
     "text": [
      "Common users: 123223\n"
     ]
    }
   ],
   "source": [
    "events_recs_for_binary_metrics_10 = process_events_recs_for_binary_metrics(events_train,\n",
    "                                                                           events_test, \n",
    "                                                                           als_recommendations,\n",
    "                                                                           top_k=10)"
   ]
  },
  {
   "cell_type": "code",
   "execution_count": 109,
   "id": "712ffc85",
   "metadata": {},
   "outputs": [
    {
     "name": "stdout",
     "output_type": "stream",
     "text": [
      "0.009 0.031\n"
     ]
    }
   ],
   "source": [
    "precision_10, recall_10 = compute_cls_metrics(events_recs_for_binary_metrics_10)\n",
    "print(round(precision_10, 3), round(recall_10, 3))"
   ]
  },
  {
   "attachments": {},
   "cell_type": "markdown",
   "id": "f78475fc-bee1-48f4-be55-329db8ecd326",
   "metadata": {},
   "source": [
    "## Тема 4: Двухстадийный подход"
   ]
  },
  {
   "attachments": {},
   "cell_type": "markdown",
   "id": "a461c0df",
   "metadata": {},
   "source": [
    "### Тема 4, Урок 2: Специфичные метрики"
   ]
  },
  {
   "attachments": {},
   "cell_type": "markdown",
   "id": "348fe8d3",
   "metadata": {},
   "source": [
    "__Задание 1 из 2__\n",
    "\n",
    "Для рекомендаций, сохранённых в переменной als_recommendations, посчитайте покрытие по объектам согласно формуле выше. При этом используйте весь топ-100 рекомендаций. Ответ округлите до сотых."
   ]
  },
  {
   "cell_type": "code",
   "execution_count": 12,
   "id": "2a4cf639-1afa-4e89-8ba5-eee48a1bd0e1",
   "metadata": {},
   "outputs": [
    {
     "data": {
      "text/html": [
       "<div>\n",
       "<style scoped>\n",
       "    .dataframe tbody tr th:only-of-type {\n",
       "        vertical-align: middle;\n",
       "    }\n",
       "\n",
       "    .dataframe tbody tr th {\n",
       "        vertical-align: top;\n",
       "    }\n",
       "\n",
       "    .dataframe thead th {\n",
       "        text-align: right;\n",
       "    }\n",
       "</style>\n",
       "<table border=\"1\" class=\"dataframe\">\n",
       "  <thead>\n",
       "    <tr style=\"text-align: right;\">\n",
       "      <th></th>\n",
       "      <th>user_id</th>\n",
       "      <th>book_id</th>\n",
       "      <th>score</th>\n",
       "    </tr>\n",
       "  </thead>\n",
       "  <tbody>\n",
       "    <tr>\n",
       "      <th>0</th>\n",
       "      <td>1000000</td>\n",
       "      <td>3</td>\n",
       "      <td>0.990942</td>\n",
       "    </tr>\n",
       "    <tr>\n",
       "      <th>1</th>\n",
       "      <td>1000000</td>\n",
       "      <td>15881</td>\n",
       "      <td>0.896617</td>\n",
       "    </tr>\n",
       "    <tr>\n",
       "      <th>2</th>\n",
       "      <td>1000000</td>\n",
       "      <td>5</td>\n",
       "      <td>0.864405</td>\n",
       "    </tr>\n",
       "    <tr>\n",
       "      <th>3</th>\n",
       "      <td>1000000</td>\n",
       "      <td>6</td>\n",
       "      <td>0.822254</td>\n",
       "    </tr>\n",
       "    <tr>\n",
       "      <th>4</th>\n",
       "      <td>1000000</td>\n",
       "      <td>2</td>\n",
       "      <td>0.774096</td>\n",
       "    </tr>\n",
       "  </tbody>\n",
       "</table>\n",
       "</div>"
      ],
      "text/plain": [
       "   user_id  book_id     score\n",
       "0  1000000        3  0.990942\n",
       "1  1000000    15881  0.896617\n",
       "2  1000000        5  0.864405\n",
       "3  1000000        6  0.822254\n",
       "4  1000000        2  0.774096"
      ]
     },
     "execution_count": 12,
     "metadata": {},
     "output_type": "execute_result"
    }
   ],
   "source": [
    "# Загружаем als-рекомендации\n",
    "als_recommendations = pd.read_parquet(\"als_recommendations.parquet\")\n",
    "als_recommendations.head()"
   ]
  },
  {
   "attachments": {},
   "cell_type": "markdown",
   "id": "43417da4",
   "metadata": {},
   "source": [
    "Должно получиться 0.09"
   ]
  },
  {
   "cell_type": "code",
   "execution_count": 35,
   "id": "48e4d676-ede1-4725-8e31-457ebc0452da",
   "metadata": {},
   "outputs": [
    {
     "name": "stdout",
     "output_type": "stream",
     "text": [
      "0.09\n"
     ]
    }
   ],
   "source": [
    "# расчёт покрытия по объектам\n",
    "cov_items = als_recommendations['item_id'].nunique() / len(items) # ваш код здесь\n",
    "print(f\"{cov_items:.2f}\")"
   ]
  },
  {
   "attachments": {},
   "cell_type": "markdown",
   "id": "4d28fc4c",
   "metadata": {},
   "source": [
    "__Задание 2 из 2__\n",
    "\n",
    "Посчитайте среднее Novelty@5 для als_recommendations, ответ округлите до сотых. \n",
    "\n",
    "Для этого: \n",
    "* разметьте каждую рекомендацию в als_recommendations булевым признаком read (False — пользователь не читал книгу, True — пользователь читал книгу), используя events_train,\n",
    "* посчитайте Novelty@5 для каждого пользователя,\n",
    "* посчитайте среднеарифметическое для полученных значений Novelty@5.\n",
    "\n",
    "Завершите выполнение такого расчёта с помощью кода ниже, должно получиться 0.61"
   ]
  },
  {
   "cell_type": "code",
   "execution_count": 36,
   "id": "4d8c21c9",
   "metadata": {},
   "outputs": [
    {
     "name": "stdout",
     "output_type": "stream",
     "text": [
      "0.61\n"
     ]
    }
   ],
   "source": [
    "# разметим каждую рекомендацию признаком read\n",
    "events_train[\"read\"] = True\n",
    "als_recommendations = als_recommendations.merge(events_train[['read', \"user_id\", \"item_id\"]], on=[\"user_id\", \"item_id\"], how=\"left\") # ваш код здесь\n",
    "als_recommendations[\"read\"] = als_recommendations[\"read\"].fillna(False).astype(\"bool\")\n",
    "\n",
    "# проставим ранги\n",
    "als_recommendations = als_recommendations.sort_values(by='score', ascending=False) # ваш код здесь\n",
    "als_recommendations[\"rank\"] = als_recommendations.groupby(\"user_id\").cumcount() + 1\n",
    "\n",
    "# посчитаем novelty по пользователям\n",
    "novelty_5 = (1 - als_recommendations.query(\"rank <= 5\").groupby(\"user_id\")[\"read\"].mean())\n",
    "\n",
    "# посчитаем средний novelty\n",
    "# ваш код здесь\n",
    "novelty_5_mean = novelty_5.mean()\n",
    "print(f\"{novelty_5_mean:.2f}\")"
   ]
  },
  {
   "attachments": {},
   "cell_type": "markdown",
   "id": "bc29e64d",
   "metadata": {},
   "source": [
    "### Тема 4, Урок 3: Двухстадийный подход"
   ]
  },
  {
   "attachments": {},
   "cell_type": "markdown",
   "id": "489a3a96",
   "metadata": {},
   "source": [
    "__Задание 1 из 6__\n",
    "\n",
    "Используем отложенную тестовую часть данных — назовём её events_test — для получения двух новых частей данных:\n",
    "* одна, составляющая первые 45 дней, будет использоваться для таргетов,\n",
    "* другая, состоящая из 45 последних дней, будет новой тестовой выборкой.\n",
    "\n",
    "\n",
    "Завершите код так, чтобы в events_labels оказалась первая часть данных, а в events_test_2 — вторая."
   ]
  },
  {
   "cell_type": "code",
   "execution_count": 37,
   "id": "2e360d9e",
   "metadata": {},
   "outputs": [],
   "source": [
    "# задаём точку разбиения\n",
    "split_date_for_labels = pd.to_datetime(\"2017-09-15\").date()\n",
    "\n",
    "split_date_for_labels_idx = events_test[\"started_at\"] < split_date_for_labels\n",
    "events_labels = events_test[split_date_for_labels_idx].copy() # ваш код здесь\n",
    "events_test_2 = events_test[~split_date_for_labels_idx].copy() # ваш код здесь"
   ]
  },
  {
   "attachments": {},
   "cell_type": "markdown",
   "id": "a47a8f31",
   "metadata": {},
   "source": [
    "Проверим кол-во уникальных пользователей в events_labels, должно получиться 99849"
   ]
  },
  {
   "cell_type": "code",
   "execution_count": 38,
   "id": "d99db2ab-231d-4cf8-8221-5e00e9e6e4c0",
   "metadata": {},
   "outputs": [
    {
     "data": {
      "text/plain": [
       "99849"
      ]
     },
     "execution_count": 38,
     "metadata": {},
     "output_type": "execute_result"
    }
   ],
   "source": [
    "events_labels['user_id'].nunique()"
   ]
  },
  {
   "attachments": {},
   "cell_type": "markdown",
   "id": "809d1cb1",
   "metadata": {},
   "source": [
    "__Подготовка кандидатов для обучения__\n",
    "\n",
    "Подготовим список кандидатов для обучения ранжирующей модели. В качестве кандидатогенераторов возьмём ALS и контентную модель на основе жанровых предпочтений, известных нам из прошлых уроков. Рекомендации от них были заранее подготовлены и сохранены в файлах als_recommendations.parquet и content_recommendations.parquet в директории candidates/training. Подготовка заключается в объединении списков рекомендаций по совпадению user_id, item_id. "
   ]
  },
  {
   "attachments": {},
   "cell_type": "markdown",
   "id": "2be4ec30",
   "metadata": {},
   "source": [
    "__Задание 2 из 6__\n",
    "\n",
    "Объедините имеющихся кандидатов по совпадению user_id, item_id в один список."
   ]
  },
  {
   "cell_type": "code",
   "execution_count": 25,
   "id": "147eae99",
   "metadata": {},
   "outputs": [
    {
     "data": {
      "text/plain": [
       "'c:\\\\Users\\\\Kirill_Nosov\\\\_Repos\\\\mle_projects\\\\mle-recsys'"
      ]
     },
     "execution_count": 25,
     "metadata": {},
     "output_type": "execute_result"
    }
   ],
   "source": [
    "os.makedirs('./candidates/training/', exist_ok=True)\n",
    "os.getcwd()"
   ]
  },
  {
   "cell_type": "code",
   "execution_count": 24,
   "id": "3ff1da3c",
   "metadata": {},
   "outputs": [
    {
     "name": "stdout",
     "output_type": "stream",
     "text": [
      "\n",
      "Saved under candidates/training/als_recommendations.parquet\n"
     ]
    }
   ],
   "source": [
    "#!python -m wget -o candidates/training/content_recommendations.parquet https://storage.yandexcloud.net/mle-data/candidates/training/content_recommendations.parquet\n",
    "#!python -m wget -o candidates/training/als_recommendations.parquet https://storage.yandexcloud.net/mle-data/candidates/training/als_recommendations.parquet"
   ]
  },
  {
   "cell_type": "code",
   "execution_count": 39,
   "id": "e9d22c76",
   "metadata": {},
   "outputs": [],
   "source": [
    "# загружаем рекомендации от двух базовых генераторов\n",
    "als_recommendations = pd.read_parquet(\"candidates/training/als_recommendations.parquet\")\n",
    "content_recommendations = pd.read_parquet(\"candidates/training/content_recommendations.parquet\")"
   ]
  },
  {
   "cell_type": "code",
   "execution_count": 40,
   "id": "2ef764d6-f2cc-4e72-bd7f-81a69dd7380d",
   "metadata": {},
   "outputs": [],
   "source": [
    "candidates = pd.merge(\n",
    "    als_recommendations[[\"user_id\", \"item_id\", \"score\"]].rename(columns={\"score\": \"als_score\"}),\n",
    "    content_recommendations[[\"user_id\", \"item_id\", \"score\"]].rename(columns={\"score\": \"cnt_score\"}),\n",
    "    on=[\"user_id\", \"item_id\"],\n",
    "    how=\"outer\") # ваш код здесь"
   ]
  },
  {
   "attachments": {},
   "cell_type": "markdown",
   "id": "8864e4ff",
   "metadata": {},
   "source": [
    "Проверим кол-во записей в candidates, должно получиться 82993094"
   ]
  },
  {
   "cell_type": "code",
   "execution_count": 41,
   "id": "d37c2c6c",
   "metadata": {},
   "outputs": [
    {
     "data": {
      "text/plain": [
       "82993094"
      ]
     },
     "execution_count": 41,
     "metadata": {},
     "output_type": "execute_result"
    }
   ],
   "source": [
    "len(candidates)"
   ]
  },
  {
   "attachments": {},
   "cell_type": "markdown",
   "id": "f99681f3",
   "metadata": {},
   "source": [
    "__Таргеты__\n",
    "\n",
    "Кандидаты готовы, теперь можно сформировать для них таргеты. Каждая строка, которая формируется для обучения модели ранжирования, — это строка, ассоциированная с парой «пользователь — объект». Положительным таргетом, то есть 1, будем считать любое значимое действие пользователя с объектом, а отрицательным, то есть 0, — его отсутствие. В таком случае модель ранжирования обучается предсказывать вероятность взаимодействия пользователя с объектом, рекомендуемым кандидатогенератором.\n",
    "\n",
    "При этом следует контролировать баланс классов и при необходимости проводить негативное семплирование: уменьшать количество строк с отрицательным таргетом, чтобы не было сильного дисбаланса классов.\n",
    "Для негативного семплирования возможны различные стратегии: отбрасывание случайных записей равномерно, пропорционально их популярности, с различными весами и так далее.\n",
    "\n",
    "Добавим в candidates таргеты, используя историю взаимодействий в events_labels. "
   ]
  },
  {
   "attachments": {},
   "cell_type": "markdown",
   "id": "8b84bf23",
   "metadata": {},
   "source": [
    "__Задание 3 из 6__\n",
    "\n",
    "Дополните код ниже. В candidates добавьте колонку target со значениями:\n",
    "- 1 для тех item_id, которые пользователь прочитал (положительный пример).\n",
    "- 0 — для всех остальных (негативный пример).\n",
    "\n",
    "В candidates_for_train отберите все положительные примеры, а также не менее четырёх негативных примеров для каждого пользователя в положительных примерах."
   ]
  },
  {
   "cell_type": "code",
   "execution_count": 42,
   "id": "9dcc8048-f4b5-411f-913a-fd73c6a6ff2a",
   "metadata": {},
   "outputs": [],
   "source": [
    "# добавляем таргет к кандидатам со значением:\n",
    "# — 1 для тех item_id, которые пользователь прочитал\n",
    "# — 0, для всех остальных \n",
    "\n",
    "events_labels[\"target\"] = 1\n",
    "candidates = candidates.merge(events_labels[[\"user_id\", \"item_id\", \"target\"]], \n",
    "                              on=[\"user_id\", \"item_id\"], # ваш код здесь \n",
    "                              how='left') \n",
    "candidates[\"target\"] = candidates[\"target\"].fillna(0).astype(\"int\")\n",
    "\n",
    "# в кандидатах оставляем только тех пользователей, у которых есть хотя бы один положительный таргет\n",
    "candidates_to_sample = candidates.groupby(\"user_id\").filter(lambda x: x[\"target\"].sum() > 0)\n",
    "\n",
    "# для каждого пользователя оставляем только 4 негативных примера\n",
    "negatives_per_user = 4\n",
    "candidates_for_train = pd.concat([\n",
    "    candidates_to_sample.query(\"target == 1\"), # ваш код здесь\n",
    "    candidates_to_sample.query(\"target == 0\") \\\n",
    "        .groupby(\"user_id\") \\\n",
    "        .apply(lambda x: x.sample(negatives_per_user, random_state=0))\n",
    "    ])"
   ]
  },
  {
   "attachments": {},
   "cell_type": "markdown",
   "id": "ba6aed30",
   "metadata": {},
   "source": [
    "Проверим кол-во записей в candidates_for_train, должно получтиься 213708"
   ]
  },
  {
   "cell_type": "code",
   "execution_count": 43,
   "id": "dd6c82df-981f-441a-8dc2-c7b06ab2b6f7",
   "metadata": {},
   "outputs": [
    {
     "data": {
      "text/plain": [
       "213708"
      ]
     },
     "execution_count": 43,
     "metadata": {},
     "output_type": "execute_result"
    }
   ],
   "source": [
    "len(candidates_for_train)"
   ]
  },
  {
   "attachments": {},
   "cell_type": "markdown",
   "id": "e7bf4594",
   "metadata": {},
   "source": [
    "__Обучение модели__"
   ]
  },
  {
   "cell_type": "code",
   "execution_count": 29,
   "id": "8788cba9-0396-46a2-b2af-1ecbd65b944e",
   "metadata": {},
   "outputs": [
    {
     "name": "stdout",
     "output_type": "stream",
     "text": [
      "0:\tlearn: 0.6526062\ttotal: 175ms\tremaining: 2m 54s\n",
      "100:\tlearn: 0.5119048\ttotal: 2.6s\tremaining: 23.1s\n",
      "200:\tlearn: 0.5112058\ttotal: 5.07s\tremaining: 20.2s\n",
      "300:\tlearn: 0.5105778\ttotal: 7.59s\tremaining: 17.6s\n",
      "400:\tlearn: 0.5100299\ttotal: 10.1s\tremaining: 15.1s\n",
      "500:\tlearn: 0.5095632\ttotal: 12.5s\tremaining: 12.4s\n",
      "600:\tlearn: 0.5091520\ttotal: 14.9s\tremaining: 9.88s\n",
      "700:\tlearn: 0.5087528\ttotal: 17.3s\tremaining: 7.36s\n",
      "800:\tlearn: 0.5084194\ttotal: 19.9s\tremaining: 4.94s\n",
      "900:\tlearn: 0.5080962\ttotal: 22.6s\tremaining: 2.48s\n",
      "999:\tlearn: 0.5078292\ttotal: 25.2s\tremaining: 0us\n"
     ]
    },
    {
     "data": {
      "text/plain": [
       "<catboost.core.CatBoostClassifier at 0x1f8858d3d10>"
      ]
     },
     "execution_count": 29,
     "metadata": {},
     "output_type": "execute_result"
    }
   ],
   "source": [
    "from catboost import CatBoostClassifier, Pool\n",
    "\n",
    "# задаём имена колонок признаков и таргета\n",
    "features = ['als_score', 'cnt_score']\n",
    "target = 'target'\n",
    "\n",
    "# Create the Pool object\n",
    "train_data = Pool(\n",
    "    data=candidates_for_train[features], \n",
    "    label=candidates_for_train[target])\n",
    "\n",
    "# инициализируем модель CatBoostClassifier\n",
    "cb_model = CatBoostClassifier(\n",
    "    iterations=1000,\n",
    "    learning_rate=0.1,\n",
    "    depth=6,\n",
    "    loss_function='Logloss',\n",
    "    verbose=100,\n",
    "    random_seed=0\n",
    ")\n",
    "\n",
    "# тренируем модель\n",
    "cb_model.fit(train_data)"
   ]
  },
  {
   "cell_type": "code",
   "execution_count": 30,
   "id": "7b0c8abd",
   "metadata": {},
   "outputs": [],
   "source": [
    "os.makedirs('models/', exist_ok=True)\n",
    "cb_model.save_model('models/cb_model.cbm')"
   ]
  },
  {
   "attachments": {},
   "cell_type": "markdown",
   "id": "6662ec22",
   "metadata": {},
   "source": [
    "Теперь можно получить финальные рекомендации, используя обученную модель, сохранённую в переменной cb_model."
   ]
  },
  {
   "attachments": {},
   "cell_type": "markdown",
   "id": "e1459a7e",
   "metadata": {},
   "source": [
    "__Подготовка кандидатов для рекомендаций__\n",
    "\n",
    "Представим, что натренированная модель используется только некоторое время спустя, когда уже появились новые рекомендации (кандидаты) от базовых генераторов, обученных на объединении событий из events_train и events_label. Иными словами, когда события из events_label уже стали частью тренировочного набора данных. Эти новые рекомендации были заранее подготовлены и сохранены в файлах als_recommendations.parquet и content_recommendations.parquet в директории candidates/inference. Используем их для составления нового списка кандидатов candidates_to_rank, который понадобится готовой ранжирующей модели. "
   ]
  },
  {
   "cell_type": "code",
   "execution_count": 82,
   "id": "774ad28f",
   "metadata": {},
   "outputs": [],
   "source": [
    "os.makedirs('candidates/inference/', exist_ok=True)"
   ]
  },
  {
   "cell_type": "code",
   "execution_count": 84,
   "id": "e3045e54",
   "metadata": {},
   "outputs": [
    {
     "name": "stdout",
     "output_type": "stream",
     "text": [
      "\n",
      "Saved under candidates/inference/content_recommendations.parquet\n",
      "\n",
      "Saved under candidates/inference/als_recommendations.parquet\n"
     ]
    }
   ],
   "source": [
    "!python -m wget -o candidates/inference/content_recommendations.parquet https://storage.yandexcloud.net/mle-data/candidates/inference/content_recommendations.parquet\n",
    "!python -m wget -o candidates/inference/als_recommendations.parquet https://storage.yandexcloud.net/mle-data/candidates/inference/als_recommendations.parquet"
   ]
  },
  {
   "cell_type": "code",
   "execution_count": 44,
   "id": "3f34acc1",
   "metadata": {},
   "outputs": [],
   "source": [
    "# загружаем новые рекомендации от двух базовых генераторов\n",
    "als_recommendations_2 = pd.read_parquet(\"candidates/inference/als_recommendations.parquet\")\n",
    "content_recommendations_2 = pd.read_parquet(\"candidates/inference/content_recommendations.parquet\")"
   ]
  },
  {
   "attachments": {},
   "cell_type": "markdown",
   "id": "ef5f4527",
   "metadata": {},
   "source": [
    "__Задание 4 из 6__\n",
    "\n",
    "Дополните код ниже так, чтобы в candidates_to_rank попали кандидаты от обоих базовых генераторов подобно тому, как это было сделано для фазы тренировки выше."
   ]
  },
  {
   "cell_type": "code",
   "execution_count": 45,
   "id": "27aed9a2-88d9-4375-b0b0-7333aea7b1e0",
   "metadata": {},
   "outputs": [],
   "source": [
    "candidates_to_rank = pd.merge(\n",
    "    als_recommendations_2[[\"user_id\", \"item_id\", \"score\"]].rename(columns={\"score\": \"als_score\"}),\n",
    "    content_recommendations_2[[\"user_id\", \"item_id\", \"score\"]].rename(columns={\"score\": \"cnt_score\"}),\n",
    "    on=[\"user_id\", \"item_id\"],\n",
    "    how=\"outer\"\n",
    ") # ваш код здесь\n",
    "\n",
    "# оставляем только тех пользователей, что есть в тестовой выборке, для экономии ресурсов\n",
    "candidates_to_rank = candidates_to_rank[candidates_to_rank[\"user_id\"].isin(events_test_2[\"user_id\"].drop_duplicates())]"
   ]
  },
  {
   "attachments": {},
   "cell_type": "markdown",
   "id": "95777d52",
   "metadata": {},
   "source": [
    "Проверим кол-во записей в candidates_to_rank, должно получиться 14517152"
   ]
  },
  {
   "cell_type": "code",
   "execution_count": 46,
   "id": "344f7f13-e43e-490c-a816-43d25c5a4a5f",
   "metadata": {},
   "outputs": [
    {
     "data": {
      "text/plain": [
       "14517152"
      ]
     },
     "execution_count": 46,
     "metadata": {},
     "output_type": "execute_result"
    }
   ],
   "source": [
    "len(candidates_to_rank)"
   ]
  },
  {
   "attachments": {},
   "cell_type": "markdown",
   "id": "24952283",
   "metadata": {},
   "source": [
    "__Ранжирование кандидатов для рекомендаций__\n",
    "\n",
    "Применим обученную ранжирующую модель к кандидатам для рекомендаций. Таргет уже не нужен, поскольку мы будем применять модель в режиме инференса."
   ]
  },
  {
   "attachments": {},
   "cell_type": "markdown",
   "id": "8ce773b3",
   "metadata": {},
   "source": [
    "__Задание 5 из 6__\n",
    "\n",
    "Дополните код для того, чтобы вызвать модель и получить для каждого пользователя топ-100 рекомендаций — значение rank нужно выставить не более ста."
   ]
  },
  {
   "cell_type": "code",
   "execution_count": 47,
   "id": "65376e29",
   "metadata": {},
   "outputs": [
    {
     "data": {
      "text/plain": [
       "<catboost.core.CatBoostClassifier at 0x2d3157cfc10>"
      ]
     },
     "execution_count": 47,
     "metadata": {},
     "output_type": "execute_result"
    }
   ],
   "source": [
    "from catboost import CatBoostClassifier, Pool\n",
    "\n",
    "# задаём имена колонок признаков и таргета\n",
    "features = ['als_score', 'cnt_score']\n",
    "\n",
    "cb_model = CatBoostClassifier()\n",
    "cb_model.load_model('models/cb_model.cbm')"
   ]
  },
  {
   "cell_type": "code",
   "execution_count": 48,
   "id": "f5607c68",
   "metadata": {},
   "outputs": [],
   "source": [
    "inference_data = Pool(data=candidates_to_rank[features])\n",
    "predictions = cb_model.predict_proba(inference_data)\n",
    "\n",
    "candidates_to_rank[\"cb_score\"] = predictions[:, 1]\n",
    "\n",
    "# для каждого пользователя проставляем rank, начиная с 1 — это максимальный cb_score\n",
    "candidates_to_rank = candidates_to_rank.sort_values([\"user_id\", \"cb_score\"], ascending=[True, False])\n",
    "candidates_to_rank[\"rank\"] = candidates_to_rank.groupby('user_id').cumcount() + 1 # ваш код здесь\n",
    "\n",
    "# Мой вариант (в этом случае предварительная сортировка не нужна)\n",
    "# candidates_to_rank[\"rank\"] = candidates_to_rank.groupby('user_id')['cb_score'].rank('first', ascending=False).astype('int') # ваш код здесь\n",
    "\n",
    "max_recommendations_per_user = 100\n",
    "final_recommendations = candidates_to_rank.query('rank <= @max_recommendations_per_user') # ваш код здесь"
   ]
  },
  {
   "attachments": {},
   "cell_type": "markdown",
   "id": "14eb2eb2",
   "metadata": {},
   "source": [
    "Проверим кол-во записей в final_recommendations, должно получиться 7519400"
   ]
  },
  {
   "cell_type": "code",
   "execution_count": 49,
   "id": "d5e8de30",
   "metadata": {},
   "outputs": [
    {
     "data": {
      "text/plain": [
       "7519400"
      ]
     },
     "execution_count": 49,
     "metadata": {},
     "output_type": "execute_result"
    }
   ],
   "source": [
    "len(final_recommendations)"
   ]
  },
  {
   "attachments": {},
   "cell_type": "markdown",
   "id": "ebb06fb6",
   "metadata": {},
   "source": [
    "__Валидация__\n",
    "\n",
    "Для валидации применимы всё те же метрики из предыдущих уроков. Считать их можно, как мы уже упоминали, как для базовых генераторов, так и для ранжирующей модели.\n",
    "\n",
    "Подобным же образом при валидации можно визуально просматривать как рекомендации от базовых моделей, так и финальные. Такой ручной просмотр по пользователям может подсказать, какой смысловой вклад вносят те или иные кандидатогенераторы в итоговые рекомендации."
   ]
  },
  {
   "attachments": {},
   "cell_type": "markdown",
   "id": "3159df8c",
   "metadata": {},
   "source": [
    "__Задание 6 из 6__\n",
    "\n",
    "Посчитайте метрики recall и precision.\n",
    "\n",
    "1. Используйте полученные рекомендации final_recommendations, отложенную тестовую выборку events_test_2, созданные в уроке «Валидация» предыдущей темы. \n",
    "2. А также функции process_events_recs_for_binary_metrics и compute_cls_metrics."
   ]
  },
  {
   "cell_type": "code",
   "execution_count": 50,
   "id": "116719d8",
   "metadata": {},
   "outputs": [
    {
     "name": "stdout",
     "output_type": "stream",
     "text": [
      "Common users: 75194\n"
     ]
    }
   ],
   "source": [
    "events_inference = pd.concat([events_train, events_labels])\n",
    "\n",
    "cb_events_recs_for_binary_metrics_5 = process_events_recs_for_binary_metrics(\n",
    "    events_inference,\n",
    "    events_test_2, # ваш код здесь\n",
    "    final_recommendations.rename(columns={\"cb_score\": \"score\"}), \n",
    "    top_k=5)\n",
    "\n",
    "cb_precision_5, cb_recall_5 = compute_cls_metrics(cb_events_recs_for_binary_metrics_5) # ваш код здесь"
   ]
  },
  {
   "attachments": {},
   "cell_type": "markdown",
   "id": "c15c019c",
   "metadata": {},
   "source": [
    "Проверим значение метрики recall, должно получиться 0.016"
   ]
  },
  {
   "cell_type": "code",
   "execution_count": 51,
   "id": "d2f0e860",
   "metadata": {},
   "outputs": [
    {
     "name": "stdout",
     "output_type": "stream",
     "text": [
      "precision: 0.006, recall: 0.015\n"
     ]
    }
   ],
   "source": [
    "print(f\"precision: {cb_precision_5:.3f}, recall: {cb_recall_5:.3f}\")"
   ]
  },
  {
   "attachments": {},
   "cell_type": "markdown",
   "id": "bd192f6e",
   "metadata": {},
   "source": [
    "### Тема 4, Урок 4: Как использовать признаки для улучшения рекомендаций"
   ]
  },
  {
   "attachments": {},
   "cell_type": "markdown",
   "id": "956055f4",
   "metadata": {},
   "source": [
    "В предыдущем уроке мы рассмотрели, как использовать градиентный бустинг для ранжирования кандидатов от базовых алгоритмов. Признаками, или фичами, были оценки из базовых алгоритмов. На деле же ничто не помешает нам придумать и использовать признаки другой природы, чтобы повысить качество ранжирования — а следовательно, и качество рекомендаций."
   ]
  },
  {
   "attachments": {},
   "cell_type": "markdown",
   "id": "8adde0ca",
   "metadata": {},
   "source": [
    "### Признаки объектов\n",
    "__Задание 1 из 6__\n",
    "\n",
    "Посчитаем новый признак — «возраст» книги на основе года публикации. Назовём его age. \n",
    "\n",
    "Используя обновлённый справочник объектов items, добавьте признаки возраста age и средней популярности average_rating к кандидатам для тренировки модели candidates_for_train и к кандидатам для ранжирования candidates_to_rank."
   ]
  },
  {
   "cell_type": "code",
   "execution_count": 52,
   "id": "ca1e7364",
   "metadata": {},
   "outputs": [],
   "source": [
    "items[\"age\"] = 2018 - items[\"publication_year\"]\n",
    "invalid_age_idx = items[\"age\"] < 0\n",
    "items.loc[invalid_age_idx, \"age\"] = np.nan\n",
    "items[\"age\"] = items[\"age\"].astype(\"float\")\n",
    "\n",
    "candidates_for_train = candidates_for_train.merge(items[['item_id', 'age', 'average_rating']], on='item_id', how='left') # ваш код здесь\n",
    "candidates_to_rank = candidates_to_rank.merge(items[['item_id', 'age', 'average_rating']], on='item_id', how='left') # ваш код здесь"
   ]
  },
  {
   "attachments": {},
   "cell_type": "markdown",
   "id": "e09124a0",
   "metadata": {},
   "source": [
    "Проверим медианный возраст книги для candidates_to_rank, должно получиться 10"
   ]
  },
  {
   "cell_type": "code",
   "execution_count": 53,
   "id": "1130a479",
   "metadata": {},
   "outputs": [
    {
     "data": {
      "text/plain": [
       "7.0"
      ]
     },
     "execution_count": 53,
     "metadata": {},
     "output_type": "execute_result"
    }
   ],
   "source": [
    "candidates_to_rank['age'].median()"
   ]
  },
  {
   "attachments": {},
   "cell_type": "markdown",
   "id": "cb4b35a3",
   "metadata": {},
   "source": [
    "### Признаки пользователей\n",
    "__Задание 2 из 6__\n",
    "\n",
    "Используя события в events_train и events_inference, посчитайте и добавьте признаки пользователей к кандидатам в candidates_for_train и candidates_to_rank соответственно:\n",
    "* reading_years — длительность истории пользователя,\n",
    "* books_read — количество книг, прочитанных за всё время,\n",
    "* books_per_year — среднее количество прочитанных книг в год,\n",
    "* rating_avg — средняя оценка,\n",
    "* rating_std — дисперсия оценок."
   ]
  },
  {
   "cell_type": "code",
   "execution_count": 54,
   "id": "801aba9c",
   "metadata": {},
   "outputs": [],
   "source": [
    "def get_user_features(events):\n",
    "    \"\"\" считает пользовательские признаки \"\"\"\n",
    "    \n",
    "    user_features = events.groupby(\"user_id\").agg(\n",
    "        reading_years=(\"started_at\", lambda x: (x.max() - x.min()).days / 365.25),\n",
    "        books_read=(\"is_read\", \"sum\"), # ваш код здесь\n",
    "        rating_avg=(\"rating\", \"mean\"),\n",
    "        rating_std=(\"rating\", \"std\")\n",
    "    )\n",
    "    \n",
    "    user_features[\"books_per_year\"] = user_features[\"books_read\"] / user_features[\"reading_years\"]\n",
    "    return user_features\n",
    "    \n",
    "\n",
    "user_features_for_train = get_user_features(events_train)\n",
    "candidates_for_train = candidates_for_train.merge(user_features_for_train, on=\"user_id\", how=\"left\")\n",
    "  \n",
    "# оставим только тех пользователей, что есть в тесте, для экономии ресурсов\n",
    "events_inference = pd.concat([events_train, events_labels])\n",
    "events_inference = events_inference[events_inference[\"user_id\"].isin(events_test_2[\"user_id\"].drop_duplicates())]\n",
    "\n",
    "user_features_for_ranking = get_user_features(events_inference) # ваш код здесь\n",
    "candidates_to_rank = candidates_to_rank.merge(user_features_for_ranking, on=\"user_id\", how=\"left\") # ваш код здесь"
   ]
  },
  {
   "attachments": {},
   "cell_type": "markdown",
   "id": "73695b8c",
   "metadata": {},
   "source": [
    "Проверим медиану количества прочитанных книг по всем кандидатам в candidates_for_train. Должно получиться 32 (т.е. половина пользователей прочитала не менее 32 книг)."
   ]
  },
  {
   "cell_type": "code",
   "execution_count": 55,
   "id": "f60502b4",
   "metadata": {},
   "outputs": [
    {
     "data": {
      "text/plain": [
       "32.0"
      ]
     },
     "execution_count": 55,
     "metadata": {},
     "output_type": "execute_result"
    }
   ],
   "source": [
    "candidates_for_train['books_read'].median()"
   ]
  },
  {
   "attachments": {},
   "cell_type": "markdown",
   "id": "5126aaea",
   "metadata": {},
   "source": [
    "### Парные признаки\n",
    "__Задание 3 из 6__\n",
    "\n",
    "Используя истории events_train и events_inference, а также ранее полученные артефакты по жанрам книг — словарь жанров genres, оценки книг по жанрам all_items_genres_csr — добавьте парные признаки, по одному на каждый жанр, которые совместно показывают, какие жанры предпочитает пользователь.\n",
    "\n",
    "Жанровость в данном случае — численный коэффициент принадлежности книги к жанру. Например, если пользователь прочитал три книги, которые с весами 0.3, 0.2, 0.4 из  all_items_genres_csr относятся к Fantasy, то интерес пользователя к Fantasy составляет среднее этих трёх оценок — 0.3.\n",
    "\n",
    "Для экономии ресурсов возьмём не все жанры, а 10 наиболее популярных. Все остальные отметим как не вошедшие в топ и обозначим как others."
   ]
  },
  {
   "cell_type": "code",
   "execution_count": 56,
   "id": "9679fe93",
   "metadata": {},
   "outputs": [],
   "source": [
    "# определяем индексы топ-10 жанров и всех остальных\n",
    "genres_top_k = 10\n",
    "genres_top_idx = genres.sort_values(\"votes\", ascending=False).head(genres_top_k).index\n",
    "genres_others_idx = list(set(genres.index) - set(genres_top_idx))\n",
    "\n",
    "genres_top_columns = [f\"genre_{id}\" for id in genres_top_idx]\n",
    "genres_others_column = \"genre_others\"\n",
    "genre_columns = genres_top_columns + [genres_others_column] # ваш код здесь\n",
    "\n",
    "# составляем таблицу принадлежности книг к жанрам\n",
    "item_genres = (\n",
    "    pd.concat([\n",
    "        # топ жанров\n",
    "        pd.DataFrame(all_items_genres_csr[:, genres_top_idx].toarray(), columns=genres_top_columns), # ваш код здесь \n",
    "        # все остальные жанры\n",
    "        pd.DataFrame(all_items_genres_csr[:, genres_others_idx].sum(axis=1), columns=[genres_others_column])\n",
    "        ],\n",
    "        axis=1)\n",
    "    .reset_index()\n",
    "    .rename(columns={\"index\": \"item_id_enc\"})\n",
    ")\n",
    "\n",
    "# объединяем информацию принадлежности книг к жанрам с основной информацией о книгах\n",
    "items = items.merge(item_genres, on=\"item_id_enc\", how=\"left\")\n",
    "\n",
    "\n",
    "def get_user_genres(events, items, item_genre_columns):\n",
    "    user_genres = (\n",
    "        events\n",
    "        .merge(items[[\"item_id\"] + item_genre_columns], on=\"item_id\", how=\"left\")\n",
    "        .groupby(\"user_id\")[item_genre_columns].mean()\n",
    "    )\n",
    "    return user_genres\n",
    "    \n",
    "\n",
    "user_genres_for_train = get_user_genres(events_train, items, genre_columns) # ваш код здесь\n",
    "candidates_for_train = candidates_for_train.merge(user_genres_for_train, on=\"user_id\", how=\"left\")\n",
    "\n",
    "user_genres_for_ranking = get_user_genres(events_inference, items, genre_columns)\n",
    "candidates_to_rank = candidates_to_rank.merge(user_genres_for_ranking, on=\"user_id\", how=\"left\")"
   ]
  },
  {
   "attachments": {},
   "cell_type": "markdown",
   "id": "0d986a21",
   "metadata": {},
   "source": [
    "Проверим медиану жанровости книг в candidates_for_train для жанра “Romance”. При округлении до сотых должно получиться 0.04"
   ]
  },
  {
   "cell_type": "code",
   "execution_count": 57,
   "id": "3dd7593e",
   "metadata": {},
   "outputs": [
    {
     "data": {
      "text/html": [
       "<div>\n",
       "<style scoped>\n",
       "    .dataframe tbody tr th:only-of-type {\n",
       "        vertical-align: middle;\n",
       "    }\n",
       "\n",
       "    .dataframe tbody tr th {\n",
       "        vertical-align: top;\n",
       "    }\n",
       "\n",
       "    .dataframe thead th {\n",
       "        text-align: right;\n",
       "    }\n",
       "</style>\n",
       "<table border=\"1\" class=\"dataframe\">\n",
       "  <thead>\n",
       "    <tr style=\"text-align: right;\">\n",
       "      <th></th>\n",
       "      <th>name</th>\n",
       "      <th>votes</th>\n",
       "      <th>score</th>\n",
       "    </tr>\n",
       "    <tr>\n",
       "      <th>genre_id</th>\n",
       "      <th></th>\n",
       "      <th></th>\n",
       "      <th></th>\n",
       "    </tr>\n",
       "  </thead>\n",
       "  <tbody>\n",
       "    <tr>\n",
       "      <th>25</th>\n",
       "      <td>Fantasy</td>\n",
       "      <td>6850060</td>\n",
       "      <td>0.149651</td>\n",
       "    </tr>\n",
       "    <tr>\n",
       "      <th>1</th>\n",
       "      <td>Fiction</td>\n",
       "      <td>6406256</td>\n",
       "      <td>0.139955</td>\n",
       "    </tr>\n",
       "    <tr>\n",
       "      <th>38</th>\n",
       "      <td>Classics</td>\n",
       "      <td>3414934</td>\n",
       "      <td>0.074605</td>\n",
       "    </tr>\n",
       "    <tr>\n",
       "      <th>18</th>\n",
       "      <td>Young Adult</td>\n",
       "      <td>3296951</td>\n",
       "      <td>0.072027</td>\n",
       "    </tr>\n",
       "    <tr>\n",
       "      <th>34</th>\n",
       "      <td>Romance</td>\n",
       "      <td>2422614</td>\n",
       "      <td>0.052926</td>\n",
       "    </tr>\n",
       "    <tr>\n",
       "      <th>5</th>\n",
       "      <td>Nonfiction</td>\n",
       "      <td>1737406</td>\n",
       "      <td>0.037957</td>\n",
       "    </tr>\n",
       "    <tr>\n",
       "      <th>16</th>\n",
       "      <td>Historical-Historical Fiction</td>\n",
       "      <td>1531205</td>\n",
       "      <td>0.033452</td>\n",
       "    </tr>\n",
       "    <tr>\n",
       "      <th>20</th>\n",
       "      <td>Mystery</td>\n",
       "      <td>1371196</td>\n",
       "      <td>0.029956</td>\n",
       "    </tr>\n",
       "    <tr>\n",
       "      <th>24</th>\n",
       "      <td>Science Fiction</td>\n",
       "      <td>1218917</td>\n",
       "      <td>0.026629</td>\n",
       "    </tr>\n",
       "    <tr>\n",
       "      <th>33</th>\n",
       "      <td>Fantasy-Paranormal</td>\n",
       "      <td>857012</td>\n",
       "      <td>0.018723</td>\n",
       "    </tr>\n",
       "  </tbody>\n",
       "</table>\n",
       "</div>"
      ],
      "text/plain": [
       "                                   name    votes     score\n",
       "genre_id                                                  \n",
       "25                              Fantasy  6850060  0.149651\n",
       "1                               Fiction  6406256  0.139955\n",
       "38                             Classics  3414934  0.074605\n",
       "18                          Young Adult  3296951  0.072027\n",
       "34                              Romance  2422614  0.052926\n",
       "5                            Nonfiction  1737406  0.037957\n",
       "16        Historical-Historical Fiction  1531205  0.033452\n",
       "20                              Mystery  1371196  0.029956\n",
       "24                      Science Fiction  1218917  0.026629\n",
       "33                   Fantasy-Paranormal   857012  0.018723"
      ]
     },
     "execution_count": 57,
     "metadata": {},
     "output_type": "execute_result"
    }
   ],
   "source": [
    "# Сначала посмотрим, какой индекс у строчки, соответствующей жанру Romance в таблице genres\n",
    "genres.sort_values(\"votes\", ascending=False).head(genres_top_k)"
   ]
  },
  {
   "cell_type": "code",
   "execution_count": 58,
   "id": "bd18ee6c",
   "metadata": {},
   "outputs": [
    {
     "data": {
      "text/plain": [
       "0.04"
      ]
     },
     "execution_count": 58,
     "metadata": {},
     "output_type": "execute_result"
    }
   ],
   "source": [
    "round(candidates_for_train['genre_34'].median(), 2)"
   ]
  },
  {
   "attachments": {},
   "cell_type": "markdown",
   "id": "8a7da43e",
   "metadata": {},
   "source": [
    "### Парные признаки\n",
    "Вы добавили в candidates_for_train и candidates_to_rank различные признаки. Обучите новую ранжирующую модель, которая их будет учитывать.\n",
    "\n",
    "__Задание 4 из 6__\n",
    "\n",
    "Обучите модель, выполнив код ниже"
   ]
  },
  {
   "cell_type": "code",
   "execution_count": 84,
   "id": "64fea118",
   "metadata": {},
   "outputs": [
    {
     "name": "stdout",
     "output_type": "stream",
     "text": [
      "0:\tlearn: 0.6484882\ttotal: 42.1ms\tremaining: 42.1s\n",
      "100:\tlearn: 0.4660990\ttotal: 3.37s\tremaining: 30s\n",
      "200:\tlearn: 0.4578058\ttotal: 6.58s\tremaining: 26.2s\n",
      "300:\tlearn: 0.4518839\ttotal: 9.58s\tremaining: 22.3s\n",
      "400:\tlearn: 0.4469100\ttotal: 14.2s\tremaining: 21.2s\n",
      "500:\tlearn: 0.4427262\ttotal: 18.8s\tremaining: 18.7s\n",
      "600:\tlearn: 0.4389780\ttotal: 23.4s\tremaining: 15.5s\n",
      "700:\tlearn: 0.4354232\ttotal: 27.9s\tremaining: 11.9s\n",
      "800:\tlearn: 0.4320194\ttotal: 32.5s\tremaining: 8.08s\n",
      "900:\tlearn: 0.4287993\ttotal: 37.8s\tremaining: 4.15s\n",
      "999:\tlearn: 0.4258214\ttotal: 42.9s\tremaining: 0us\n"
     ]
    },
    {
     "data": {
      "text/plain": [
       "<catboost.core.CatBoostClassifier at 0x1f97712cb90>"
      ]
     },
     "execution_count": 84,
     "metadata": {},
     "output_type": "execute_result"
    }
   ],
   "source": [
    "from catboost import CatBoostClassifier, Pool\n",
    "\n",
    "# задаём имена колонок признаков и таргета\n",
    "features = ['als_score', 'cnt_score', \n",
    "    'age', 'average_rating', 'reading_years', 'books_read', \n",
    "    'rating_avg', 'rating_std', \n",
    "    'books_per_year'] + genre_columns\n",
    "target = 'target'\n",
    "\n",
    "# создаём Pool\n",
    "train_data = Pool(\n",
    "    data=candidates_for_train[features], \n",
    "    label=candidates_for_train[target]\n",
    ")\n",
    "\n",
    "# инициализируем модель CatBoostClassifier\n",
    "cb_model = CatBoostClassifier(\n",
    "    iterations=1000,\n",
    "    learning_rate=0.1,\n",
    "    depth=6,\n",
    "    loss_function='Logloss',\n",
    "    verbose=100,\n",
    "    random_seed=0,\n",
    ")\n",
    "\n",
    "# тренируем модель\n",
    "cb_model.fit(train_data)"
   ]
  },
  {
   "cell_type": "code",
   "execution_count": 85,
   "id": "6a41f9c6",
   "metadata": {},
   "outputs": [],
   "source": [
    "# Сохраняем новую модель с расширенным набором признаков\n",
    "cb_model.save_model('models/cb_model_2.cbm')"
   ]
  },
  {
   "attachments": {},
   "cell_type": "markdown",
   "id": "ce156f41",
   "metadata": {},
   "source": [
    "Получим топ-100 самых релевантных рекомендаций для каждого пользователя, используя обученную модель"
   ]
  },
  {
   "cell_type": "code",
   "execution_count": 61,
   "id": "babd67af",
   "metadata": {},
   "outputs": [],
   "source": [
    "from catboost import CatBoostClassifier, Pool\n",
    "\n",
    "cb_model = CatBoostClassifier()\n",
    "cb_model.load_model('models/cb_model_2.cbm')\n",
    "\n",
    "# задаём имена колонок признаков и таргета\n",
    "features = ['als_score', 'cnt_score', \n",
    "    'age', 'average_rating', 'reading_years', 'books_read', \n",
    "    'rating_avg', 'rating_std', \n",
    "    'books_per_year'] + genre_columns"
   ]
  },
  {
   "cell_type": "code",
   "execution_count": 62,
   "id": "80ad6119",
   "metadata": {},
   "outputs": [],
   "source": [
    "inference_data = Pool(data=candidates_to_rank[features])\n",
    "predictions = cb_model.predict_proba(inference_data)\n",
    "\n",
    "candidates_to_rank[\"cb_score\"] = predictions[:, 1] # ваш код здесь\n",
    "\n",
    "# для каждого пользователя проставим rank, начиная с 1 — это максимальный cb_score\n",
    "candidates_to_rank = candidates_to_rank.sort_values([\"user_id\", \"cb_score\"], ascending=[True, False])\n",
    "candidates_to_rank[\"rank\"] = candidates_to_rank.groupby('user_id').cumcount() + 1 # ваш код здесь\n",
    "\n",
    "# Мой вариант (в этом случае предварительная сортировка не нужна)\n",
    "# candidates_to_rank[\"rank\"] = candidates_to_rank.groupby('user_id')['cb_score'].rank('first', ascending=False).astype('int') # ваш код здесь\n",
    "\n",
    "max_recommendations_per_user = 100\n",
    "final_recommendations = candidates_to_rank.query(\"rank <= @max_recommendations_per_user\")"
   ]
  },
  {
   "attachments": {},
   "cell_type": "markdown",
   "id": "4fb7677c",
   "metadata": {},
   "source": [
    "Проверим, сколько пользователей попало в final_recommendations. Должно получиться 75194"
   ]
  },
  {
   "cell_type": "code",
   "execution_count": 63,
   "id": "1aac8c2b",
   "metadata": {},
   "outputs": [
    {
     "data": {
      "text/plain": [
       "75194"
      ]
     },
     "execution_count": 63,
     "metadata": {},
     "output_type": "execute_result"
    }
   ],
   "source": [
    "final_recommendations['user_id'].nunique()"
   ]
  },
  {
   "cell_type": "code",
   "execution_count": 1,
   "id": "a5133a88",
   "metadata": {},
   "outputs": [
    {
     "ename": "NameError",
     "evalue": "name 'final_recommendations' is not defined",
     "output_type": "error",
     "traceback": [
      "\u001b[1;31m---------------------------------------------------------------------------\u001b[0m",
      "\u001b[1;31mNameError\u001b[0m                                 Traceback (most recent call last)",
      "Cell \u001b[1;32mIn[1], line 2\u001b[0m\n\u001b[0;32m      1\u001b[0m \u001b[39m# Сохраним final_recommendations в файл\u001b[39;00m\n\u001b[1;32m----> 2\u001b[0m final_recommendations\u001b[39m.\u001b[39mto_parquet(\u001b[39m\"\u001b[39m\u001b[39mfinal_recommendations_feat.parquet\u001b[39m\u001b[39m\"\u001b[39m)\n",
      "\u001b[1;31mNameError\u001b[0m: name 'final_recommendations' is not defined"
     ]
    }
   ],
   "source": [
    "# Сохраним последний вариант персональных рекомендаций в файл\n",
    "final_recommendations.to_parquet(\"final_recommendations_feat.parquet\")"
   ]
  },
  {
   "attachments": {},
   "cell_type": "markdown",
   "id": "efddeb48",
   "metadata": {},
   "source": [
    "Итак, мы получили рекомендации, которые уже должны учитывать не только оценки от базовых генераторов als_score и cnt_score, но и информацию, заложенную в признаках. Посмотрим, помогло ли это повысить качество рекомендаций по метрике recall, по которой мы уже оценивали результаты работы модели в прошлом уроке после внедрения двухстадийного подхода. Напомним, что тогда получилось значение 0.016."
   ]
  },
  {
   "attachments": {},
   "cell_type": "markdown",
   "id": "e81689ae",
   "metadata": {},
   "source": [
    "__Задание 5 из 6__\n",
    "\n",
    "Используя отложенную тестовую выборку events_test_2, посчитайте метрики recall и precision для полученных рекомендаций."
   ]
  },
  {
   "cell_type": "code",
   "execution_count": 64,
   "id": "4b3e7c2a",
   "metadata": {},
   "outputs": [
    {
     "name": "stdout",
     "output_type": "stream",
     "text": [
      "Common users: 75194\n"
     ]
    }
   ],
   "source": [
    "# для экономии ресурсов оставим события только тех пользователей, \n",
    "# для которых следует оценить рекомендации\n",
    "events_inference = pd.concat([events_train, events_labels])\n",
    "events_inference = events_inference[events_inference[\"user_id\"].isin(events_test_2[\"user_id\"].drop_duplicates())]\n",
    "\n",
    "cb_events_recs_for_binary_metrics_5 = process_events_recs_for_binary_metrics(\n",
    "    events_inference,\n",
    "    events_test_2, # ваш код здесь\n",
    "    final_recommendations.rename(columns={\"cb_score\": \"score\"}), \n",
    "    top_k=5 # ваш код здесь\n",
    ")\n",
    "\n",
    "cb_precision_5, cb_recall_5 = compute_cls_metrics(cb_events_recs_for_binary_metrics_5)"
   ]
  },
  {
   "attachments": {},
   "cell_type": "markdown",
   "id": "62aa4686",
   "metadata": {},
   "source": [
    "Проверим значение recall. После округления до тысячных должно получиться 0.030"
   ]
  },
  {
   "cell_type": "code",
   "execution_count": 65,
   "id": "6dbb8e67",
   "metadata": {},
   "outputs": [
    {
     "name": "stdout",
     "output_type": "stream",
     "text": [
      "precision: 0.011, recall: 0.029\n"
     ]
    }
   ],
   "source": [
    "print(f\"precision: {cb_precision_5:.3f}, recall: {cb_recall_5:.3f}\")"
   ]
  },
  {
   "attachments": {},
   "cell_type": "markdown",
   "id": "5b8ac239",
   "metadata": {},
   "source": [
    "Т.о., значение recall заметно увеличилось, а это явно говорит о том, что признаки действительно помогли качеству рекомендаций."
   ]
  },
  {
   "attachments": {},
   "cell_type": "markdown",
   "id": "81b350c1",
   "metadata": {},
   "source": [
    "### Проверка важности признаков\n",
    "\n",
    "Любопытно понять, какие признаки вносят наибольший вклад в ранжирование. Алгоритм CatBoost позволяет получить такую информацию (англ. feature importance), которая генерируется во время тренировки модели. Для этого используйте метод get_feature_importance()."
   ]
  },
  {
   "attachments": {},
   "cell_type": "markdown",
   "id": "1de39879",
   "metadata": {},
   "source": [
    "__Задание 6 из 6__\n",
    "\n",
    "Выполните код для получения информации о важности признаков. Выведите список признаков feature_importance в порядке убывания их важности."
   ]
  },
  {
   "cell_type": "code",
   "execution_count": 66,
   "id": "f65d4afa",
   "metadata": {},
   "outputs": [],
   "source": [
    "feature_importance = pd.DataFrame(cb_model.get_feature_importance(), \n",
    "    index=features, \n",
    "    columns=[\"fi\"])\n",
    "\n",
    "feature_importance = feature_importance.sort_values('fi', ascending=False) # ваш код здесь"
   ]
  },
  {
   "attachments": {},
   "cell_type": "markdown",
   "id": "576734c5",
   "metadata": {},
   "source": [
    "Проверим, какой у модели самый важный признак. Должен получиться `als_score`"
   ]
  },
  {
   "cell_type": "code",
   "execution_count": 67,
   "id": "b59c815a",
   "metadata": {},
   "outputs": [
    {
     "name": "stdout",
     "output_type": "stream",
     "text": [
      "                       fi\n",
      "als_score       26.540019\n",
      "age             19.025102\n",
      "average_rating  15.130070\n",
      "books_read       7.234967\n",
      "reading_years    3.333355\n",
      "cnt_score        3.001030\n",
      "genre_18         2.898364\n",
      "genre_1          2.843781\n",
      "genre_others     2.606153\n",
      "genre_25         2.359137\n",
      "genre_34         2.191086\n",
      "books_per_year   1.814563\n",
      "rating_avg       1.525892\n",
      "genre_38         1.519235\n",
      "genre_33         1.518597\n",
      "genre_24         1.512781\n",
      "genre_20         1.454943\n",
      "genre_16         1.377449\n",
      "rating_std       1.062938\n",
      "genre_5          1.050538\n"
     ]
    }
   ],
   "source": [
    "print(feature_importance)"
   ]
  },
  {
   "attachments": {},
   "cell_type": "markdown",
   "id": "95109b79",
   "metadata": {},
   "source": [
    "## Тема 5: Архитектура рекомендательных систем"
   ]
  },
  {
   "attachments": {},
   "cell_type": "markdown",
   "id": "68e6849c",
   "metadata": {},
   "source": [
    "### Тема 5, Урок 3: Сервис рекомендаций"
   ]
  },
  {
   "attachments": {},
   "cell_type": "markdown",
   "id": "71ab8399",
   "metadata": {},
   "source": [
    "__Шаг 1. Шаблон сервиса__\n",
    "\n",
    "Создадим шаблон сервиса, который пока что умеет только возвращать пустой список."
   ]
  },
  {
   "cell_type": "code",
   "execution_count": null,
   "id": "7a709796",
   "metadata": {},
   "outputs": [],
   "source": [
    "# Файл recommendation_service.py (v0)\n",
    "# Запуск сервиса: uvicorn recommendation_service:app\n",
    "\n",
    "import logging\n",
    "\n",
    "from fastapi import FastAPI\n",
    "from contextlib import asynccontextmanager\n",
    "\n",
    "logger = logging.getLogger(\"uvicorn.error\")\n",
    "\n",
    "@asynccontextmanager\n",
    "async def lifespan(app: FastAPI):\n",
    "    # код ниже (до yield) выполнится только один раз при запуске сервиса\n",
    "    logger.info(\"Starting\")\n",
    "    yield\n",
    "    # этот код выполнится только один раз при остановке сервиса\n",
    "    logger.info(\"Stopping\")\n",
    "    \n",
    "# создаём приложение FastAPI\n",
    "app = FastAPI(title=\"recommendations\", lifespan=lifespan)\n",
    "\n",
    "@app.post(\"/recommendations\")\n",
    "async def recommendations(user_id: int, k: int = 100):\n",
    "    \"\"\"\n",
    "    Возвращает список рекомендаций длиной k для пользователя user_id\n",
    "    \"\"\"\n",
    "\n",
    "    recs = []\n",
    "\n",
    "    return {\"recs\": recs}"
   ]
  },
  {
   "attachments": {},
   "cell_type": "markdown",
   "id": "c1cac5df",
   "metadata": {},
   "source": [
    "__Задание 1 из 3__\n",
    "\n",
    "Дополните код скрипта и запустите его для получения ответа (в виде пока что пустого списка) от сервиса рекомендаций.\n",
    "\n",
    "Если сервер uvicorn запущен и нормально работает, то при запуске этого скрипта должен получиться ответ `{'recs': []}`"
   ]
  },
  {
   "cell_type": "code",
   "execution_count": null,
   "id": "3fc89dfe",
   "metadata": {},
   "outputs": [],
   "source": [
    "# Скрипт для обращения к сервису recommendation_service\n",
    "\n",
    "import requests\n",
    "\n",
    "recommendations_url = \"http://127.0.0.1:8000/recommendations\" # ваш код здесь\n",
    "\n",
    "headers = {'Content-type': 'application/json', 'Accept': 'text/plain'}\n",
    "params = {\"user_id\": 0}\n",
    "\n",
    "resp = requests.post(recommendations_url, headers=headers, params=params)\n",
    "\n",
    "if resp.status_code == 200:\n",
    "    recs = resp.json()\n",
    "else:\n",
    "    recs = []\n",
    "    print(f\"status code: {resp.status_code}\")\n",
    "    \n",
    "print(recs)"
   ]
  },
  {
   "attachments": {},
   "cell_type": "markdown",
   "id": "2af369db",
   "metadata": {},
   "source": [
    "__Шаг 2. Подключение готовых рекомендаций__\n",
    "\n",
    "Добавим пользы в наш сервис. Для этого сделаем так, чтобы при его запуске загружались уже готовые рекомендации, а затем и отдавались при вызове `/recommendations`. Для удобства основной инструментарий разместим в отдельном классе, который приведён ниже в готовом виде:"
   ]
  },
  {
   "cell_type": "code",
   "execution_count": null,
   "id": "541471f4",
   "metadata": {},
   "outputs": [],
   "source": [
    "# Класс Recommendations для работы с готовыми рекомендациями\n",
    "\n",
    "import logging as logger\n",
    "import pandas as pd\n",
    "\n",
    "class Recommendations:\n",
    "\n",
    "    def __init__(self):\n",
    "\n",
    "        self._recs = {\"personal\": None, \"default\": None}\n",
    "        self._stats = {\n",
    "            \"request_personal_count\": 0,\n",
    "            \"request_default_count\": 0,\n",
    "        }\n",
    "\n",
    "    def load(self, type, path, **kwargs):\n",
    "        \"\"\"\n",
    "        Загружает рекомендации из файла\n",
    "        \"\"\"\n",
    "\n",
    "        logger.info(f\"Loading recommendations, type: {type}\")\n",
    "        self._recs[type] = pd.read_parquet(path, **kwargs)\n",
    "        if type == \"personal\":\n",
    "            self._recs[type] = self._recs[type].set_index(\"user_id\")\n",
    "        logger.info(f\"Loaded\")\n",
    "\n",
    "    def get(self, user_id: int, k: int=100):\n",
    "        \"\"\"\n",
    "        Возвращает список рекомендаций для пользователя\n",
    "        \"\"\"\n",
    "        try:\n",
    "            recs = self._recs[\"personal\"].loc[user_id]\n",
    "            recs = recs[\"item_id\"].to_list()[:k]\n",
    "            self._stats[\"request_personal_count\"] += 1\n",
    "        except KeyError:\n",
    "            recs = self._recs[\"default\"]\n",
    "            recs = recs[\"item_id\"].to_list()[:k]\n",
    "            self._stats[\"request_default_count\"] += 1\n",
    "        except:\n",
    "            logger.error(\"No recommendations found\")\n",
    "            recs = []\n",
    "\n",
    "        return recs\n",
    "\n",
    "    def stats(self):\n",
    "        logger.info(\"Stats for recommendations\")\n",
    "        for name, value in self._stats.items():\n",
    "            logger.info(f\"{name:<30} {value} \")"
   ]
  },
  {
   "attachments": {},
   "cell_type": "markdown",
   "id": "bc56c2b0",
   "metadata": {},
   "source": [
    "Проверьте работу данного класса, используя готовые рекомендации из предыдущих уроков:\n",
    "- top_recs.parquet — файл с рекомендациями по умолчанию,\n",
    "- final_recommendations_feat.parquet — файл с персональными рекомендациями."
   ]
  },
  {
   "cell_type": "code",
   "execution_count": null,
   "id": "cfec38b7",
   "metadata": {},
   "outputs": [],
   "source": [
    "!python -m wget -o top_recs.parquet https://storage.yandexcloud.net/mle-data/top_recs.parquet"
   ]
  },
  {
   "cell_type": "code",
   "execution_count": 3,
   "id": "c010a938",
   "metadata": {},
   "outputs": [
    {
     "data": {
      "text/html": [
       "<div>\n",
       "<style scoped>\n",
       "    .dataframe tbody tr th:only-of-type {\n",
       "        vertical-align: middle;\n",
       "    }\n",
       "\n",
       "    .dataframe tbody tr th {\n",
       "        vertical-align: top;\n",
       "    }\n",
       "\n",
       "    .dataframe thead th {\n",
       "        text-align: right;\n",
       "    }\n",
       "</style>\n",
       "<table border=\"1\" class=\"dataframe\">\n",
       "  <thead>\n",
       "    <tr style=\"text-align: right;\">\n",
       "      <th></th>\n",
       "      <th>item_id</th>\n",
       "      <th>users</th>\n",
       "      <th>avg_rating</th>\n",
       "      <th>popularity_weighted</th>\n",
       "      <th>author</th>\n",
       "      <th>title</th>\n",
       "      <th>genre_and_votes</th>\n",
       "      <th>publication_year</th>\n",
       "      <th>score</th>\n",
       "      <th>rank</th>\n",
       "    </tr>\n",
       "  </thead>\n",
       "  <tbody>\n",
       "    <tr>\n",
       "      <th>0</th>\n",
       "      <td>22557272</td>\n",
       "      <td>40690</td>\n",
       "      <td>3.788965</td>\n",
       "      <td>154173.0</td>\n",
       "      <td>Paula Hawkins</td>\n",
       "      <td>The Girl on the Train</td>\n",
       "      <td>{'Fiction': 9793, 'Mystery': 9190, 'Thriller':...</td>\n",
       "      <td>2015</td>\n",
       "      <td>1.000000</td>\n",
       "      <td>1</td>\n",
       "    </tr>\n",
       "    <tr>\n",
       "      <th>1</th>\n",
       "      <td>29056083</td>\n",
       "      <td>25785</td>\n",
       "      <td>3.801784</td>\n",
       "      <td>98029.0</td>\n",
       "      <td>John Tiffany, Jack Thorne, J.K. Rowling</td>\n",
       "      <td>Harry Potter and the Cursed Child - Parts One ...</td>\n",
       "      <td>{'Fantasy': 14466, 'Fiction': 4232, 'Young Adu...</td>\n",
       "      <td>2016</td>\n",
       "      <td>0.500000</td>\n",
       "      <td>2</td>\n",
       "    </tr>\n",
       "    <tr>\n",
       "      <th>2</th>\n",
       "      <td>18007564</td>\n",
       "      <td>20207</td>\n",
       "      <td>4.321275</td>\n",
       "      <td>87320.0</td>\n",
       "      <td>Andy Weir</td>\n",
       "      <td>The Martian</td>\n",
       "      <td>{'Science Fiction': 11966, 'Fiction': 8430}</td>\n",
       "      <td>2014</td>\n",
       "      <td>0.333333</td>\n",
       "      <td>3</td>\n",
       "    </tr>\n",
       "    <tr>\n",
       "      <th>3</th>\n",
       "      <td>18143977</td>\n",
       "      <td>19462</td>\n",
       "      <td>4.290669</td>\n",
       "      <td>83505.0</td>\n",
       "      <td>Anthony Doerr</td>\n",
       "      <td>All the Light We Cannot See</td>\n",
       "      <td>{'Historical-Historical Fiction': 13679, 'Fict...</td>\n",
       "      <td>2014</td>\n",
       "      <td>0.250000</td>\n",
       "      <td>4</td>\n",
       "    </tr>\n",
       "    <tr>\n",
       "      <th>4</th>\n",
       "      <td>16096824</td>\n",
       "      <td>16770</td>\n",
       "      <td>4.301014</td>\n",
       "      <td>72128.0</td>\n",
       "      <td>Sarah J. Maas</td>\n",
       "      <td>A Court of Thorns and Roses (A Court of Thorns...</td>\n",
       "      <td>{'Fantasy': 14326, 'Young Adult': 4662, 'Roman...</td>\n",
       "      <td>2015</td>\n",
       "      <td>0.200000</td>\n",
       "      <td>5</td>\n",
       "    </tr>\n",
       "    <tr>\n",
       "      <th>...</th>\n",
       "      <td>...</td>\n",
       "      <td>...</td>\n",
       "      <td>...</td>\n",
       "      <td>...</td>\n",
       "      <td>...</td>\n",
       "      <td>...</td>\n",
       "      <td>...</td>\n",
       "      <td>...</td>\n",
       "      <td>...</td>\n",
       "      <td>...</td>\n",
       "    </tr>\n",
       "    <tr>\n",
       "      <th>95</th>\n",
       "      <td>15704307</td>\n",
       "      <td>5322</td>\n",
       "      <td>4.410936</td>\n",
       "      <td>23475.0</td>\n",
       "      <td>Brian K. Vaughan, Fiona Staples</td>\n",
       "      <td>Saga, Vol. 1 (Saga, #1)</td>\n",
       "      <td>{'Sequential Art-Graphic Novels': 7803, 'Seque...</td>\n",
       "      <td>2012</td>\n",
       "      <td>0.010417</td>\n",
       "      <td>96</td>\n",
       "    </tr>\n",
       "    <tr>\n",
       "      <th>96</th>\n",
       "      <td>22318578</td>\n",
       "      <td>6451</td>\n",
       "      <td>3.626104</td>\n",
       "      <td>23392.0</td>\n",
       "      <td>Marie Kondō, Cathy Hirano</td>\n",
       "      <td>The Life-Changing Magic of Tidying Up: The Jap...</td>\n",
       "      <td>{'Nonfiction': 6896, 'Self Help': 2846, 'Audio...</td>\n",
       "      <td>2014</td>\n",
       "      <td>0.010309</td>\n",
       "      <td>97</td>\n",
       "    </tr>\n",
       "    <tr>\n",
       "      <th>97</th>\n",
       "      <td>17378508</td>\n",
       "      <td>5284</td>\n",
       "      <td>4.335541</td>\n",
       "      <td>22909.0</td>\n",
       "      <td>Maggie Stiefvater</td>\n",
       "      <td>Blue Lily, Lily Blue (The Raven Cycle, #3)</td>\n",
       "      <td>{'Fantasy': 5121, 'Young Adult': 3651, 'Fantas...</td>\n",
       "      <td>2014</td>\n",
       "      <td>0.010204</td>\n",
       "      <td>98</td>\n",
       "    </tr>\n",
       "    <tr>\n",
       "      <th>98</th>\n",
       "      <td>23848559</td>\n",
       "      <td>5592</td>\n",
       "      <td>4.065629</td>\n",
       "      <td>22735.0</td>\n",
       "      <td>Jenny  Lawson</td>\n",
       "      <td>Furiously Happy: A Funny Book About Horrible T...</td>\n",
       "      <td>{'Nonfiction': 3138, 'Humor': 1914, 'Autobiogr...</td>\n",
       "      <td>2015</td>\n",
       "      <td>0.010101</td>\n",
       "      <td>99</td>\n",
       "    </tr>\n",
       "    <tr>\n",
       "      <th>99</th>\n",
       "      <td>18081809</td>\n",
       "      <td>6283</td>\n",
       "      <td>3.596689</td>\n",
       "      <td>22598.0</td>\n",
       "      <td>Rainbow Rowell</td>\n",
       "      <td>Landline</td>\n",
       "      <td>{'Fiction': 2393, 'Romance': 1881, 'Contempora...</td>\n",
       "      <td>2014</td>\n",
       "      <td>0.010000</td>\n",
       "      <td>100</td>\n",
       "    </tr>\n",
       "  </tbody>\n",
       "</table>\n",
       "<p>100 rows × 10 columns</p>\n",
       "</div>"
      ],
      "text/plain": [
       "     item_id  users  avg_rating  popularity_weighted  \\\n",
       "0   22557272  40690    3.788965             154173.0   \n",
       "1   29056083  25785    3.801784              98029.0   \n",
       "2   18007564  20207    4.321275              87320.0   \n",
       "3   18143977  19462    4.290669              83505.0   \n",
       "4   16096824  16770    4.301014              72128.0   \n",
       "..       ...    ...         ...                  ...   \n",
       "95  15704307   5322    4.410936              23475.0   \n",
       "96  22318578   6451    3.626104              23392.0   \n",
       "97  17378508   5284    4.335541              22909.0   \n",
       "98  23848559   5592    4.065629              22735.0   \n",
       "99  18081809   6283    3.596689              22598.0   \n",
       "\n",
       "                                     author  \\\n",
       "0                             Paula Hawkins   \n",
       "1   John Tiffany, Jack Thorne, J.K. Rowling   \n",
       "2                                 Andy Weir   \n",
       "3                             Anthony Doerr   \n",
       "4                             Sarah J. Maas   \n",
       "..                                      ...   \n",
       "95          Brian K. Vaughan, Fiona Staples   \n",
       "96                Marie Kondō, Cathy Hirano   \n",
       "97                        Maggie Stiefvater   \n",
       "98                            Jenny  Lawson   \n",
       "99                           Rainbow Rowell   \n",
       "\n",
       "                                                title  \\\n",
       "0                               The Girl on the Train   \n",
       "1   Harry Potter and the Cursed Child - Parts One ...   \n",
       "2                                         The Martian   \n",
       "3                         All the Light We Cannot See   \n",
       "4   A Court of Thorns and Roses (A Court of Thorns...   \n",
       "..                                                ...   \n",
       "95                            Saga, Vol. 1 (Saga, #1)   \n",
       "96  The Life-Changing Magic of Tidying Up: The Jap...   \n",
       "97         Blue Lily, Lily Blue (The Raven Cycle, #3)   \n",
       "98  Furiously Happy: A Funny Book About Horrible T...   \n",
       "99                                           Landline   \n",
       "\n",
       "                                      genre_and_votes  publication_year  \\\n",
       "0   {'Fiction': 9793, 'Mystery': 9190, 'Thriller':...              2015   \n",
       "1   {'Fantasy': 14466, 'Fiction': 4232, 'Young Adu...              2016   \n",
       "2         {'Science Fiction': 11966, 'Fiction': 8430}              2014   \n",
       "3   {'Historical-Historical Fiction': 13679, 'Fict...              2014   \n",
       "4   {'Fantasy': 14326, 'Young Adult': 4662, 'Roman...              2015   \n",
       "..                                                ...               ...   \n",
       "95  {'Sequential Art-Graphic Novels': 7803, 'Seque...              2012   \n",
       "96  {'Nonfiction': 6896, 'Self Help': 2846, 'Audio...              2014   \n",
       "97  {'Fantasy': 5121, 'Young Adult': 3651, 'Fantas...              2014   \n",
       "98  {'Nonfiction': 3138, 'Humor': 1914, 'Autobiogr...              2015   \n",
       "99  {'Fiction': 2393, 'Romance': 1881, 'Contempora...              2014   \n",
       "\n",
       "       score  rank  \n",
       "0   1.000000     1  \n",
       "1   0.500000     2  \n",
       "2   0.333333     3  \n",
       "3   0.250000     4  \n",
       "4   0.200000     5  \n",
       "..       ...   ...  \n",
       "95  0.010417    96  \n",
       "96  0.010309    97  \n",
       "97  0.010204    98  \n",
       "98  0.010101    99  \n",
       "99  0.010000   100  \n",
       "\n",
       "[100 rows x 10 columns]"
      ]
     },
     "execution_count": 3,
     "metadata": {},
     "output_type": "execute_result"
    }
   ],
   "source": [
    "top_recs = pd.read_parquet(\"top_recs.parquet\")\n",
    "top_recs"
   ]
  },
  {
   "cell_type": "code",
   "execution_count": 6,
   "id": "8ee82200",
   "metadata": {},
   "outputs": [
    {
     "name": "stderr",
     "output_type": "stream",
     "text": [
      "Traceback (most recent call last):\n",
      "  File \"<frozen runpy>\", line 198, in _run_module_as_main\n",
      "  File \"<frozen runpy>\", line 88, in _run_code\n",
      "  File \"c:\\Users\\Kirill_Nosov\\_Repos\\.venv\\Lib\\site-packages\\wget.py\", line 568, in <module>\n",
      "    filename = download(args[0], out=options.output)\n",
      "               ^^^^^^^^^^^^^^^^^^^^^^^^^^^^^^^^^^^^^\n",
      "  File \"c:\\Users\\Kirill_Nosov\\_Repos\\.venv\\Lib\\site-packages\\wget.py\", line 526, in download\n",
      "    (tmpfile, headers) = ulib.urlretrieve(binurl, tmpfile, callback)\n",
      "                         ^^^^^^^^^^^^^^^^^^^^^^^^^^^^^^^^^^^^^^^^^^^\n",
      "  File \"C:\\Users\\Kirill_Nosov\\anaconda3\\Lib\\urllib\\request.py\", line 241, in urlretrieve\n",
      "    with contextlib.closing(urlopen(url, data)) as fp:\n",
      "                            ^^^^^^^^^^^^^^^^^^\n",
      "  File \"C:\\Users\\Kirill_Nosov\\anaconda3\\Lib\\urllib\\request.py\", line 216, in urlopen\n",
      "    return opener.open(url, data, timeout)\n",
      "           ^^^^^^^^^^^^^^^^^^^^^^^^^^^^^^^\n",
      "  File \"C:\\Users\\Kirill_Nosov\\anaconda3\\Lib\\urllib\\request.py\", line 525, in open\n",
      "    response = meth(req, response)\n",
      "               ^^^^^^^^^^^^^^^^^^^\n",
      "  File \"C:\\Users\\Kirill_Nosov\\anaconda3\\Lib\\urllib\\request.py\", line 634, in http_response\n",
      "    response = self.parent.error(\n",
      "               ^^^^^^^^^^^^^^^^^^\n",
      "  File \"C:\\Users\\Kirill_Nosov\\anaconda3\\Lib\\urllib\\request.py\", line 563, in error\n",
      "    return self._call_chain(*args)\n",
      "           ^^^^^^^^^^^^^^^^^^^^^^^\n",
      "  File \"C:\\Users\\Kirill_Nosov\\anaconda3\\Lib\\urllib\\request.py\", line 496, in _call_chain\n",
      "    result = func(*args)\n",
      "             ^^^^^^^^^^^\n",
      "  File \"C:\\Users\\Kirill_Nosov\\anaconda3\\Lib\\urllib\\request.py\", line 643, in http_error_default\n",
      "    raise HTTPError(req.full_url, code, msg, hdrs, fp)\n",
      "urllib.error.HTTPError: HTTP Error 404: Not Found\n"
     ]
    }
   ],
   "source": [
    "final_recommendations_feat = pd.read_parquet(\"final_recommendations_feat.parquet\")"
   ]
  },
  {
   "attachments": {},
   "cell_type": "markdown",
   "id": "df8a02c4",
   "metadata": {},
   "source": [
    "__Задание 2 из 3__\n",
    "\n",
    "Дополните код и вызовите запущенный сервис рекомендаций, чтобы получить от него пустой (пока) список."
   ]
  },
  {
   "cell_type": "code",
   "execution_count": null,
   "id": "a91accae",
   "metadata": {},
   "outputs": [],
   "source": [
    "# Проверяем работу класса Recommendations\n",
    "\n",
    "rec_store = Recommendations()\n",
    "\n",
    "rec_store.load(\n",
    "    \"personal\",\n",
    "    'final_recommendations_feat.parquet', # ваш код здесь\n",
    "    columns=[\"user_id\", \"item_id\", \"rank\"],\n",
    ")\n",
    "rec_store.load(\n",
    "    \"default\",\n",
    "    'top_recs.parquet', # ваш код здесь\n",
    "    columns=[\"item_id\", \"rank\"],\n",
    ")\n",
    "\n",
    "rec_store.get(user_id=100, k=5)"
   ]
  },
  {
   "attachments": {},
   "cell_type": "markdown",
   "id": "dd97232c",
   "metadata": {},
   "source": [
    "Проверим значение у идентификатора объекта (item_id), идущего в списке рекомендаций вторым, для пользователя с идентификатором `1049126` (user_id). Должно получиться `5470`"
   ]
  },
  {
   "cell_type": "code",
   "execution_count": null,
   "id": "395e817f",
   "metadata": {},
   "outputs": [],
   "source": [
    "rec_store.get(user_id=1049126, k=2)"
   ]
  },
  {
   "attachments": {},
   "cell_type": "markdown",
   "id": "a7126a84",
   "metadata": {},
   "source": [
    "__Шаг 3. Интеграция__\n",
    "\n",
    "Интегрируем класс Recommendations в наш сервис для дальнейшего использования. Достаточно перенести код определения класса с импортами (кроме импорта logging) в скрипт с кодом сервиса, а затем разместить код загрузки и получения рекомендаций в соответствующие места:\n",
    "- код загрузки рекомендаций следует поместить в функцию lifespan,\n",
    "- код получения рекомендаций — в функцию recommendations,\n",
    "- чтобы вывести статистику в лог, в функцию lifespan можно поместить вызов rec_store.stats() — он должен вызываться при остановке сервиса."
   ]
  },
  {
   "attachments": {},
   "cell_type": "markdown",
   "id": "50184391",
   "metadata": {},
   "source": [
    "__Задание 3 из 3__\n",
    "\n",
    "Интегрируйте код класса `Recommendations` в код сервиса так, чтобы через метод `/recommendations` можно было получать рекомендации.\n",
    "\n",
    "Полный код функции recommendations приведён ниже:"
   ]
  },
  {
   "cell_type": "code",
   "execution_count": null,
   "id": "a1c8f9ef",
   "metadata": {},
   "outputs": [],
   "source": [
    "@app.post(\"/recommendations\")\n",
    "async def recommendations(user_id: int, k: int = 100):\n",
    "    \"\"\"\n",
    "    Возвращает список рекомендаций длиной k для пользователя user_id\n",
    "    \"\"\"\n",
    "\n",
    "    recs = rec_store.get(user_id, k)\n",
    "\n",
    "    return {\"recs\": recs}"
   ]
  },
  {
   "attachments": {},
   "cell_type": "markdown",
   "id": "17b10019",
   "metadata": {},
   "source": [
    "После интеграции вызовите `/recommendations` для user_id со значением `1353637`, используя код ниже (при необходимости исправьте значение recommendations_url).\n",
    "\n",
    "Для user_id со значением `1353637` (если статус возврата равен 200) микросервис должен сгенерировать следующий словарь со списком рекомендованных item_id: `{'recs': [28187230, 27161156, 5]}`"
   ]
  },
  {
   "cell_type": "code",
   "execution_count": null,
   "id": "60dac202",
   "metadata": {},
   "outputs": [],
   "source": [
    "# Скрипт для обращения к сервису recommendation_service\n",
    "\n",
    "import requests\n",
    "\n",
    "recommendations_url = \"http://127.0.0.1:8000\"\n",
    "\n",
    "headers = {'Content-type': 'application/json', 'Accept': 'text/plain'}\n",
    "params = {\"user_id\": 1353637, 'k': 3}\n",
    "\n",
    "resp = requests.post(recommendations_url + \"/recommendations\", headers=headers, params=params)\n",
    "if resp.status_code == 200:\n",
    "    recs = resp.json()\n",
    "else:\n",
    "    recs = []\n",
    "    print(f\"status code: {resp.status_code}\")\n",
    "    \n",
    "print(recs)"
   ]
  },
  {
   "attachments": {},
   "cell_type": "markdown",
   "id": "cc6d04f7",
   "metadata": {},
   "source": [
    "__Дополнительные функции__\n",
    "\n",
    "В сервисе можно реализовать дополнительные методы, удобные при промышленной эксплуатации, например:\n",
    "- `/health`, который возвращает статус здоровья, например строку \"healthy\", если вызов к сервису проходит нормально, или строку \"unhealthy\" в противном случае.\n",
    "- `/stats` — метод получения статистики от сервиса. Сервис может возвращать любую полезную статистику, которую он ведёт внутри себя (количество обработанных запросов, среднее время обработки запросов, количество ошибок и т. п.)."
   ]
  },
  {
   "attachments": {},
   "cell_type": "markdown",
   "id": "45f86b73",
   "metadata": {},
   "source": [
    "### Тема 5, Урок 3: Онлайн-рекомендации"
   ]
  },
  {
   "attachments": {},
   "cell_type": "markdown",
   "id": "8c77be13",
   "metadata": {},
   "source": [
    "__Алгоритм онлайн-рекомендаций__\n",
    "\n",
    "Возьмём простой алгоритм онлайн-рекомендаций, который будет использовать свойство похожести объектов (item2item similarity),\n",
    "когда для каждого объекта есть список объектов, которые на него похожи (в контексте поведения пользователей).\n",
    "Feature Store отвечает за хранение в явном виде статичных признаков объекта — набора похожих на него айтемов."
   ]
  },
  {
   "attachments": {},
   "cell_type": "markdown",
   "id": "9e1eff37",
   "metadata": {},
   "source": [
    "__Шаг 1. Набор похожих объектов__\n",
    "\n",
    "Чтобы получить набор похожих объектов, можно воспользоваться уже известным алгоритмом ALS из библиотеки implicit, у которого на такой случай есть удобный метод similar_items(), подробнее см. в [документации](https://benfred.github.io/implicit/api/models/cpu/als.html#implicit.cpu.als.AlternatingLeastSquares.similar_items).\n",
    "\n",
    "Воспользуемся им и получим по 10 самых похожих айтемов."
   ]
  },
  {
   "attachments": {},
   "cell_type": "markdown",
   "id": "e0c1e885",
   "metadata": {},
   "source": [
    "__Задание 1 из 6__\n",
    "\n",
    "Дополните код ниже, чтобы получить набор похожих объектов в similar_items. Вы можете подглядеть решение в уроке «Коллаборативная фильтрация: ALS» — там вы реализовывали похожую логику для получения персональных рекомендаций."
   ]
  },
  {
   "cell_type": "code",
   "execution_count": 14,
   "id": "207ad760",
   "metadata": {},
   "outputs": [
    {
     "name": "stderr",
     "output_type": "stream",
     "text": [
      "c:\\Users\\Kirill_Nosov\\_Repos\\.venv\\Lib\\site-packages\\tqdm\\auto.py:21: TqdmWarning: IProgress not found. Please update jupyter and ipywidgets. See https://ipywidgets.readthedocs.io/en/stable/user_install.html\n",
      "  from .autonotebook import tqdm as notebook_tqdm\n"
     ]
    }
   ],
   "source": [
    "with open('models/als_model.pkl', 'rb') as fd:\n",
    "    als_model = joblib.load(fd)"
   ]
  },
  {
   "cell_type": "code",
   "execution_count": null,
   "id": "05978bb7",
   "metadata": {},
   "outputs": [],
   "source": [
    "# получим энкодированные идентификаторы всех объектов, известных нам из events_train\n",
    "train_item_ids_enc = events_train['item_id_enc'].unique()\n",
    "\n",
    "max_similar_items = 10\n",
    "\n",
    "# получаем списки похожих объектов, используя ранее полученную ALS-модель\n",
    "# метод similar_items возвращает и сам объект, как наиболее похожий\n",
    "# этот объект мы позже отфильтруем, но сейчас запросим на 1 больше\n",
    "similar_items = als_model.similar_items(train_item_ids_enc, N=max_similar_items+1)\n",
    "\n",
    "# преобразуем полученные списки в табличный формат\n",
    "sim_item_item_ids_enc = similar_items[0]\n",
    "sim_item_scores = similar_items[1]\n",
    "\n",
    "similar_items = pd.DataFrame({\n",
    "    \"item_id_enc\": train_item_ids_enc,\n",
    "    \"sim_item_id_enc\": sim_item_item_ids_enc.tolist(), \n",
    "    \"score\": sim_item_scores.tolist()}) # ваш код здесь\n",
    "similar_items = similar_items.explode(['sim_item_id_enc', 'score'], ignore_index=True) # ваш код здесь\n",
    "\n",
    "# приводим типы данных\n",
    "similar_items[\"sim_item_id_enc\"] = similar_items[\"sim_item_id_enc\"].astype('int') # ваш код здесь\n",
    "similar_items[\"score\"] = similar_items[\"score\"].astype(\"float\")\n",
    "\n",
    "# получаем изначальные идентификаторы\n",
    "similar_items[\"item_id_1\"] = item_encoder.inverse_transform(similar_items[\"item_id_enc\"]) # ваш код здесь\n",
    "similar_items[\"item_id_2\"] = item_encoder.inverse_transform(similar_items[\"sim_item_id_enc\"]) # ваш код здесь\n",
    "similar_items = similar_items.drop(columns=[\"item_id_enc\", \"sim_item_id_enc\"])\n",
    "\n",
    "# убираем пары с одинаковыми объектами\n",
    "similar_items = similar_items.query(\"item_id_1 != item_id_2\")"
   ]
  },
  {
   "attachments": {},
   "cell_type": "markdown",
   "id": "0b3dcf4c",
   "metadata": {},
   "source": [
    "Проверим идентификатор объекта, наиболее похожего на объект `7126`, должно получиться `7190`"
   ]
  },
  {
   "cell_type": "code",
   "execution_count": null,
   "id": "b9eab6e0",
   "metadata": {},
   "outputs": [],
   "source": [
    "similar_items.query(\"item_id_1 == 7126\").sort_values(by='score', ascending=False)"
   ]
  },
  {
   "attachments": {},
   "cell_type": "markdown",
   "id": "7ee7f758",
   "metadata": {},
   "source": [
    "Сохраним полученный набор похожих объектов `similar_items` в файл"
   ]
  },
  {
   "cell_type": "code",
   "execution_count": null,
   "id": "8dcf26f0",
   "metadata": {},
   "outputs": [],
   "source": [
    "similar_items.to_parquet(\"similar_items.parquet\")"
   ]
  },
  {
   "attachments": {},
   "cell_type": "markdown",
   "id": "3570fd90",
   "metadata": {},
   "source": [
    "Полезно убедиться, что полученный набор действительно содержит похожие данные. Например, можно оценить глазами списки похожих объектов для каких-то уже известных. Создадим для этой цели функцию `print_sim_items`"
   ]
  },
  {
   "cell_type": "code",
   "execution_count": null,
   "id": "1f22dc0c",
   "metadata": {},
   "outputs": [],
   "source": [
    "def print_sim_items(item_id, similar_items):\n",
    "    item_columns_to_use = [\"item_id\", \"author\", \"title\", \"genre_and_votes\", \"average_rating\", \"ratings_count\"]\n",
    "    \n",
    "    item_id_1 = items.query(\"item_id == @item_id\")[item_columns_to_use]\n",
    "    display(item_id_1)\n",
    "    \n",
    "    si = similar_items.query(\"item_id_1 == @item_id\")\n",
    "    si = si.merge(items[item_columns_to_use].set_index(\"item_id\"), left_on=\"item_id_2\", right_index=True)\n",
    "    display(si)"
   ]
  },
  {
   "attachments": {},
   "cell_type": "markdown",
   "id": "db6d2cdf",
   "metadata": {},
   "source": [
    "Можно, например, оценить похожие айтемы для следующих известных книг (числа — идентификаторы item_id):\n",
    "- 7144: Ф. М. Достоевский «Преступление и наказание»;\n",
    "- 16299: Агата Кристи «Десять негритят»;\n",
    "- 3: Джоан Роулинг «Гарри Поттер и философский камень»;\n",
    "- 18135: Уильям Шекспир «Ромео и Джульетта»;\n",
    "- 17245: Брэм Стокер «Дракула»."
   ]
  },
  {
   "cell_type": "code",
   "execution_count": null,
   "id": "7c0f3b53",
   "metadata": {},
   "outputs": [],
   "source": [
    "print_sim_items(7144, similar_items)"
   ]
  },
  {
   "attachments": {},
   "cell_type": "markdown",
   "id": "9b217d27",
   "metadata": {},
   "source": [
    "__Шаг 2. Сервис Feature Store__\n",
    "\n",
    "Сделаем так, чтобы набор стал доступен сервису рекомендаций. Для этого создадим новый сервис, который при запуске будет загружать набор похожих объектов из файла `similar_items.parquet` и отдавать список похожих объектов через метод `/similar_items`."
   ]
  },
  {
   "attachments": {},
   "cell_type": "markdown",
   "id": "b339b243",
   "metadata": {},
   "source": [
    "__Задание 2 из 6__\n",
    "\n",
    "Дополните код ниже, чтобы получить работоспособный сервис, возвращающий список похожих объектов через метод `/similar_items`.\n",
    "Сохраните код сервиса в файле `features_service.py`"
   ]
  },
  {
   "cell_type": "code",
   "execution_count": null,
   "id": "96e33230",
   "metadata": {},
   "outputs": [],
   "source": [
    "# Файл features_service.py\n",
    "# Запуск сервиса: uvicorn features_service:app --port 8010\n",
    "\n",
    "import logging\n",
    "from contextlib import asynccontextmanager\n",
    "import pandas as pd\n",
    "from fastapi import FastAPI\n",
    "\n",
    "logger = logging.getLogger(\"uvicorn.error\")\n",
    "\n",
    "class SimilarItems:\n",
    "\n",
    "    def __init__(self):\n",
    "\n",
    "        self._similar_items = None\n",
    "\n",
    "    def load(self, path, **kwargs):\n",
    "        \"\"\"\n",
    "        Загружаем данные из файла\n",
    "        \"\"\"\n",
    "\n",
    "        logger.info(f\"Loading data, type: {type}\")\n",
    "        self._similar_items = pd.read_parquet(path, **kwargs) # ваш код здесь\n",
    "        self._similar_items = self._similar_items.set_index('item_id_1') # ваш код здесь\n",
    "        logger.info(f\"Loaded\")\n",
    "\n",
    "    def get(self, item_id: int, k: int = 10):\n",
    "        \"\"\"\n",
    "        Возвращает список похожих объектов\n",
    "        \"\"\"\n",
    "        \n",
    "        try:\n",
    "            i2i = self._similar_items.loc[item_id].head(k)\n",
    "            i2i = i2i[[\"item_id_2\", \"score\"]].to_dict(orient=\"list\")\n",
    "        except KeyError:\n",
    "            logger.error(\"No recommendations found\")\n",
    "            i2i = {\"item_id_2\": [], \"score\": []}\n",
    "\n",
    "        return i2i\n",
    "\n",
    "\n",
    "sim_items_store = SimilarItems()\n",
    "\n",
    "\n",
    "@asynccontextmanager\n",
    "async def lifespan(app: FastAPI):\n",
    "    # код ниже (до yield) выполнится только один раз при запуске сервиса\n",
    "    sim_items_store.load(\n",
    "        'similar_items.parquet', # ваш код здесь\n",
    "        columns=[\"item_id_1\", \"item_id_2\", \"score\"],\n",
    "    )\n",
    "    logger.info(\"Ready!\")\n",
    "    # код ниже выполнится только один раз при остановке сервиса\n",
    "    yield\n",
    "\n",
    "\n",
    "# создаём приложение FastAPI\n",
    "app = FastAPI(title=\"features\", lifespan=lifespan)\n",
    "\n",
    "\n",
    "@app.post(\"/similar_items\")\n",
    "async def recommendations(item_id: int, k: int = 10):\n",
    "    \"\"\"\n",
    "    Возвращает список похожих объектов длиной k для item_id\n",
    "    \"\"\"\n",
    "\n",
    "    i2i = sim_items_store.get(item_id, k)\n",
    "\n",
    "    return i2i"
   ]
  },
  {
   "attachments": {},
   "cell_type": "markdown",
   "id": "e957f0ea",
   "metadata": {},
   "source": [
    "Запустим данный сервис на порте 8010, чтобы избежать конфликта с сервисом рекомендаций:\n",
    "\n",
    "`uvicorn features_service:app --port 8010`"
   ]
  },
  {
   "attachments": {},
   "cell_type": "markdown",
   "id": "54755fa1",
   "metadata": {},
   "source": [
    "Ниже пример кода для тестирования. После его запуска должно получиться:\n",
    "\n",
    "`{'item_id_2': [480204, 51496, 2623], 'score': [0.9245510697364807, 0.9044632911682129, 0.9016129374504089]}`"
   ]
  },
  {
   "cell_type": "code",
   "execution_count": null,
   "id": "ad617c1f",
   "metadata": {},
   "outputs": [],
   "source": [
    "# Скрипт для обращения к сервису features_service\n",
    "\n",
    "import requests\n",
    "\n",
    "features_store_url = \"http://127.0.0.1:8010\"\n",
    "\n",
    "headers = {'Content-type': 'application/json', 'Accept': 'text/plain'}\n",
    "params = {\"item_id\": 17245}\n",
    "\n",
    "resp = requests.post(features_store_url +\"/similar_items\", headers=headers, params=params)\n",
    "if resp.status_code == 200:\n",
    "    similar_items = resp.json()\n",
    "else:\n",
    "    similar_items = None\n",
    "    print(f\"status code: {resp.status_code}\")\n",
    "    \n",
    "print(similar_items)"
   ]
  },
  {
   "attachments": {},
   "cell_type": "markdown",
   "id": "f8bb33bd",
   "metadata": {},
   "source": [
    "__Шаг 3. Сервис Event Store__\n",
    "\n",
    "Чтобы выполнить второй пункт алгоритма («для онлайн-взаимодействия пользователя с каким-то объектом можно использовать список похожих на него объектов»), необходим компонент, умеющий сохранять и выдавать последние события пользователя, — это Event Store. \n",
    "\n",
    "Реализуем его также в виде сервиса. В данном случае под взаимодействием пользователя с объектом будем подразумевать любое положительное событие, например: просмотр страницы с книгой, лайк, добавление в избранное и т. п."
   ]
  },
  {
   "attachments": {},
   "cell_type": "markdown",
   "id": "f06b14b4",
   "metadata": {},
   "source": [
    "__Задание 3 из 6__\n",
    "\n",
    "Дополните код сервиса так, чтобы он по методу `/put` сохранял пару значений user_id и item_id как событие, а по методу `/get` возвращал события (первыми — самые последние).\n",
    "\n",
    "Сохраните код сервиса в файле `events_service.py`"
   ]
  },
  {
   "cell_type": "code",
   "execution_count": null,
   "id": "e9b56c70",
   "metadata": {},
   "outputs": [],
   "source": [
    "# Файл events_service.py\n",
    "# Запуск сервиса: uvicorn events_service:app --port 8020\n",
    "\n",
    "from fastapi import FastAPI\n",
    "\n",
    "class EventStore:\n",
    "\n",
    "    def __init__(self, max_events_per_user=10):\n",
    "\n",
    "        self.events = {}\n",
    "        self.max_events_per_user = max_events_per_user\n",
    "\n",
    "    def put(self, user_id, item_id):\n",
    "        \"\"\"\n",
    "        Сохраняет событие\n",
    "        \"\"\"\n",
    "\n",
    "        user_events = self.events.get(user_id) # ваш код здесь\n",
    "        self.events[user_id] = [item_id] + user_events[: self.max_events_per_user]\n",
    "\n",
    "    def get(self, user_id, k):\n",
    "        \"\"\"\n",
    "        Возвращает события для пользователя\n",
    "        \"\"\"\n",
    "        user_events = self.events.get(user_id)[:k] # ваш код здесь\n",
    "\n",
    "        return user_events\n",
    "\n",
    "\n",
    "events_store = EventStore() # ваш код здесь\n",
    "\n",
    "# создаём приложение FastAPI\n",
    "app = FastAPI(title=\"events\")\n",
    "\n",
    "\n",
    "@app.post(\"/put\")\n",
    "async def put(user_id: int, item_id: int):\n",
    "    \"\"\"\n",
    "    Сохраняет событие для user_id, item_id\n",
    "    \"\"\"\n",
    "\n",
    "    events_store.put(user_id, item_id)\n",
    "\n",
    "    return {\"result\": \"ok\"}\n",
    "\n",
    "\n",
    "@app.post(\"/get\")\n",
    "async def get(user_id: int, k: int = 10):\n",
    "    \"\"\"\n",
    "    Возвращает список последних k событий для пользователя user_id\n",
    "    \"\"\"\n",
    "\n",
    "    events = events_store.get(user_id, k)\n",
    "\n",
    "    return {\"events\": events}"
   ]
  },
  {
   "attachments": {},
   "cell_type": "markdown",
   "id": "fd604c33",
   "metadata": {},
   "source": [
    "Запустим данный сервис на порте 8020, чтобы он не конфликтовал с другими сервисами:\n",
    "\n",
    "`uvicorn events_service:app --port 8020`"
   ]
  },
  {
   "attachments": {},
   "cell_type": "markdown",
   "id": "66bf91a2",
   "metadata": {},
   "source": [
    "Ниже скрипт для сохранения взаимодействия пользователя user_id с объектом item_id:"
   ]
  },
  {
   "cell_type": "code",
   "execution_count": null,
   "id": "33b30f03",
   "metadata": {},
   "outputs": [],
   "source": [
    "# Обращение к сервису events_service (/put)\n",
    "\n",
    "import requests\n",
    "\n",
    "events_store_url = \"http://127.0.0.1:8020\"\n",
    "\n",
    "headers = {'Content-type': 'application/json', 'Accept': 'text/plain'}\n",
    "params = {\"user_id\": 1337055, \"item_id\": 17245}\n",
    "\n",
    "resp = requests.post(events_store_url + \"/put\", headers=headers, params=params)\n",
    "if resp.status_code == 200:\n",
    "    result = resp.json()\n",
    "else:\n",
    "    result = None\n",
    "    print(f\"status code: {resp.status_code}\")\n",
    "    \n",
    "print(result)"
   ]
  },
  {
   "attachments": {},
   "cell_type": "markdown",
   "id": "c15a5de0",
   "metadata": {},
   "source": [
    "Ниже скрипт для получения списка последних событий пользователя user_id:"
   ]
  },
  {
   "cell_type": "code",
   "execution_count": null,
   "id": "5d3e4213",
   "metadata": {},
   "outputs": [],
   "source": [
    "# Обращение к сервису events_service (/get)\n",
    "\n",
    "import requests\n",
    "\n",
    "events_store_url = \"http://127.0.0.1:8020\"\n",
    "\n",
    "headers = {'Content-type': 'application/json', 'Accept': 'text/plain'}\n",
    "params = {\"user_id\": 1337055}\n",
    "\n",
    "resp = requests.post(events_store_url + \"/get\", headers=headers, params=params)\n",
    "if resp.status_code == 200:\n",
    "    result = resp.json()\n",
    "else:\n",
    "    result = None\n",
    "    print(f\"status code: {resp.status_code}\")\n",
    "    \n",
    "print(result)"
   ]
  },
  {
   "attachments": {},
   "cell_type": "markdown",
   "id": "f699f846",
   "metadata": {},
   "source": [
    "Проверим, что для пользователя `1127794` в Event Store нет никаких событий"
   ]
  },
  {
   "cell_type": "code",
   "execution_count": null,
   "id": "e238d331",
   "metadata": {},
   "outputs": [],
   "source": [
    "params = {\"user_id\": 1127794}\n",
    "resp = requests.post(events_store_url + \"/get\", headers=headers, params=params)\n",
    "if resp.status_code == 200:\n",
    "    result = resp.json()\n",
    "else:\n",
    "    result = None\n",
    "    print(f\"status code: {resp.status_code}\")\n",
    "\n",
    "print(result)"
   ]
  },
  {
   "attachments": {},
   "cell_type": "markdown",
   "id": "d3172f98",
   "metadata": {},
   "source": [
    "Затем сохраним для этого пользователя последовательно четыре события с объектами: `18734992`, `18734992`, `7785`, `4731479`"
   ]
  },
  {
   "cell_type": "code",
   "execution_count": null,
   "id": "1cf4486a",
   "metadata": {},
   "outputs": [],
   "source": [
    "params = {\"user_id\": 1127794, \"item_id\": 18734992}\n",
    "requests.post(events_store_url + \"/put\", headers=headers, params=params)\n",
    "\n",
    "params = {\"user_id\": 1127794, \"item_id\": 18734992}\n",
    "requests.post(events_store_url + \"/put\", headers=headers, params=params)\n",
    "\n",
    "params = {\"user_id\": 1127794, \"item_id\": 7785}\n",
    "requests.post(events_store_url + \"/put\", headers=headers, params=params)\n",
    "\n",
    "params = {\"user_id\": 1127794, \"item_id\": 4731479}\n",
    "requests.post(events_store_url + \"/put\", headers=headers, params=params)"
   ]
  },
  {
   "attachments": {},
   "cell_type": "markdown",
   "id": "ad549ba4",
   "metadata": {},
   "source": [
    "После чего запросим для того же пользователя последние три события. В результате должно получиться: \n",
    "\n",
    "`{'events': [4731479, 7785, 18734992]}`"
   ]
  },
  {
   "cell_type": "code",
   "execution_count": null,
   "id": "b9c90440",
   "metadata": {},
   "outputs": [],
   "source": [
    "resp = requests.post(events_store_url + \"/get\", \n",
    "                     headers=headers, \n",
    "                     params={\"user_id\": 1127794, \"k\": 3})\n",
    "print(resp.json())"
   ]
  },
  {
   "attachments": {},
   "cell_type": "markdown",
   "id": "250a85b4",
   "metadata": {},
   "source": [
    "__Шаг 4. Доработка сервиса рекомендаций__\n",
    "\n",
    "Доработаем уже имеющийся код сервиса из предыдущего урока так, чтобы он позволял получить онлайн-рекомендации для последнего события пользователя. Для этого добавьте в код сервиса рекомендаций новые переменные, указывающие на адреса новых сервисов:"
   ]
  },
  {
   "cell_type": "code",
   "execution_count": 1,
   "id": "0088bfb6",
   "metadata": {},
   "outputs": [],
   "source": [
    "features_store_url = \"http://127.0.0.1:8010\"\n",
    "events_store_url = \"http://127.0.0.1:8020\""
   ]
  },
  {
   "attachments": {},
   "cell_type": "markdown",
   "id": "40f1d225",
   "metadata": {},
   "source": [
    "Затем реализуйте новый метод `/recommendations_online`, который будет выдавать список похожих объектов для последнего события пользователя (если оно есть).\n",
    "\n",
    "__Задание 4 из 6__\n",
    "\n",
    "Дополните код нового метода так, чтобы для последнего события пользователя, если оно есть, возвращался список похожих объектов. Это и будут онлайн-рекомендации."
   ]
  },
  {
   "cell_type": "code",
   "execution_count": null,
   "id": "62f487f1",
   "metadata": {},
   "outputs": [],
   "source": [
    "# Функция recommendations_online сервиса recommendation_service (v1)\n",
    "\n",
    "@app.post(\"/recommendations_online\")\n",
    "async def recommendations_online(user_id: int, k: int = 100):\n",
    "    \"\"\"\n",
    "    Возвращает список онлайн-рекомендаций длиной k для пользователя user_id\n",
    "    \"\"\"\n",
    "\n",
    "    headers = {\"Content-type\": \"application/json\", \"Accept\": \"text/plain\"}\n",
    "\n",
    "    # получаем последнее событие пользователя\n",
    "    params = {\"user_id\": user_id, \"k\": 1}\n",
    "    resp = requests.post(events_store_url + \"/get\", headers=headers, params=params)\n",
    "    events = resp.json()\n",
    "    events = events[\"events\"]\n",
    "\n",
    "    # получаем список похожих объектов\n",
    "    if len(events) > 0:\n",
    "        item_id = events[0]\n",
    "        params = {\"item_id\": item_id, \"k\": k}\n",
    "        # ваш код здесь (начало)\n",
    "        resp = requests.post(features_store_url +\"/similar_items\", headers=headers, params=params)\n",
    "        item_similar_items = resp.json()\n",
    "        item_similar_items = item_similar_items['item_id_2']\n",
    "        # ваш код здесь (конец)\n",
    "        recs = item_similar_items[:k]\n",
    "    else:\n",
    "        recs = []\n",
    "\n",
    "    return {\"recs\": recs}"
   ]
  },
  {
   "attachments": {},
   "cell_type": "markdown",
   "id": "877792cc",
   "metadata": {},
   "source": [
    "Протестируйте работу нового метода. Получите онлайн-рекомендации (длиной 3) для пользователя `1291248`:"
   ]
  },
  {
   "cell_type": "code",
   "execution_count": null,
   "id": "a5e18b35",
   "metadata": {},
   "outputs": [],
   "source": [
    "params = {\"user_id\": 1291248, 'k': 3}\n",
    "\n",
    "resp = requests.post(recommendations_url + \"/recommendations_online\", headers=headers, params=params)\n",
    "online_recs = resp.json()\n",
    "    \n",
    "print(online_recs) "
   ]
  },
  {
   "attachments": {},
   "cell_type": "markdown",
   "id": "f4171589",
   "metadata": {},
   "source": [
    "Список пустой. Это ожидаемо, так как для пользователя в Event Store пока нет никаких событий, чтобы по ним получить онлайн-рекомендации.\n",
    "\n",
    "Добавим событие:"
   ]
  },
  {
   "cell_type": "code",
   "execution_count": null,
   "id": "998c3e15",
   "metadata": {},
   "outputs": [],
   "source": [
    "params = {\"user_id\": 1291248, \"item_id\": 17245}\n",
    "\n",
    "resp = requests.post(events_store_url + \"/put\", headers=headers, params=params)"
   ]
  },
  {
   "attachments": {},
   "cell_type": "markdown",
   "id": "2ff27e54",
   "metadata": {},
   "source": [
    "И снова получим онлайн-рекомендации для пользователя `1291248`. Должно получиться: `{'recs': [480204, 51496, 2623]}`"
   ]
  },
  {
   "cell_type": "code",
   "execution_count": null,
   "id": "1cf33a09",
   "metadata": {},
   "outputs": [],
   "source": [
    "params = {\"user_id\": 1291248, 'k': 3}\n",
    "\n",
    "resp = requests.post(recommendations_url + \"/recommendations_online\", headers=headers, params=params)\n",
    "online_recs = resp.json()\n",
    "    \n",
    "print(online_recs)"
   ]
  },
  {
   "attachments": {},
   "cell_type": "markdown",
   "id": "cedec9cb",
   "metadata": {},
   "source": [
    "__Шаг 5. Добавим разнообразия в онлайн-рекомендации__\n",
    "\n",
    "Текущая реализация онлайн-рекомендаций позволяет получать их только для последнего события, что очень просто и прямолинейно: если пользователь просмотрит новую книгу, то у него сменятся все онлайн-рекомендации.\n",
    "\n",
    "Доработаем алгоритм так, чтобы онлайн-рекомендации учитывали три последних объекта, с которыми взаимодействовал пользователь. Например, так:\n",
    "- Для каждого события из последних трёх получим список похожих объектов.\n",
    "- Объединим полученные списки по какому-то правилу. Правило выберем простое: все полученные похожие объекты сортируются по убыванию `score`, а из упорядоченного списка удаляются дубликаты, оставляя только первое вхождение."
   ]
  },
  {
   "attachments": {},
   "cell_type": "markdown",
   "id": "33c5f9f2",
   "metadata": {},
   "source": [
    "__Задание 5 из 6__\n",
    "\n",
    "Дополните новую версию реализации метода `/recommendations_online` так, чтобы онлайн-рекомендации возвращались для трёх последних событий."
   ]
  },
  {
   "cell_type": "code",
   "execution_count": null,
   "id": "da3250c0",
   "metadata": {},
   "outputs": [],
   "source": [
    "# Функция recommendations_online сервиса recommendation_service (v2)\n",
    "\n",
    "def dedup_ids(ids):\n",
    "    \"\"\"\n",
    "    Дедублицирует список идентификаторов, оставляя только первое вхождение\n",
    "    \"\"\"\n",
    "    seen = set()\n",
    "    ids = [id for id in ids if not (id in seen or seen.add(id))]\n",
    "\n",
    "    return ids\n",
    "\n",
    "\n",
    "@app.post(\"/recommendations_online\")\n",
    "async def recommendations_online(user_id: int, k: int = 100):\n",
    "    \"\"\"\n",
    "    Возвращает список онлайн-рекомендаций длиной k для пользователя user_id\n",
    "    \"\"\"\n",
    "\n",
    "    headers = {\"Content-type\": \"application/json\", \"Accept\": \"text/plain\"}\n",
    "\n",
    "    # получаем список последних событий пользователя, возьмём три последних\n",
    "    params = {\"user_id\": user_id, \"k\": 3}\n",
    "    # ваш код здесь (начало)\n",
    "    resp = requests.post(events_store_url + \"/get\", headers=headers, params=params)\n",
    "    events = resp.json()\n",
    "    events = events['events']\n",
    "    # ваш код здесь (конец)\n",
    "\n",
    "    # получаем список айтемов, похожих на последние три, с которыми взаимодействовал пользователь\n",
    "    items = []\n",
    "    scores = []\n",
    "    for item_id in events:\n",
    "        # для каждого item_id получаем список похожих в item_similar_items\n",
    "        # ваш код здесь (начало)\n",
    "        params = {\"item_id\": item_id, \"k\": k}\n",
    "        resp = requests.post(features_store_url +\"/similar_items\", headers=headers, params=params)\n",
    "        item_similar_items = resp.json()\n",
    "        # ваш код здесь (конец)\n",
    "        items += item_similar_items[\"item_id_2\"]\n",
    "        scores += item_similar_items[\"score\"]\n",
    "    \n",
    "    # сортируем похожие объекты по scores в убывающем порядке\n",
    "    # для старта это приемлемый подход\n",
    "    combined = list(zip(items, scores))\n",
    "    combined = sorted(combined, key=lambda x: x[1], reverse=True)\n",
    "    combined = [item for item, _ in combined]\n",
    "\n",
    "    # удаляем дубликаты, чтобы не выдавать одинаковые рекомендации\n",
    "    recs = dedup_ids(combined)\n",
    "\n",
    "    return {\"recs\": recs}"
   ]
  },
  {
   "attachments": {},
   "cell_type": "markdown",
   "id": "fd2d85a5",
   "metadata": {},
   "source": [
    "Протестируем метод для пользователя `1291248`, сгенерировав для него несколько событий и получив пять онлайн-рекомендаций."
   ]
  },
  {
   "cell_type": "code",
   "execution_count": null,
   "id": "64ba900a",
   "metadata": {},
   "outputs": [],
   "source": [
    "headers = {\"Content-type\": \"application/json\", \"Accept\": \"text/plain\"}\n",
    "\n",
    "user_id = 1291248\n",
    "event_item_ids = [41899, 102868, 5472, 5907]\n",
    "\n",
    "for event_item_id in event_item_ids:\n",
    "    resp = requests.post(events_store_url + \"/put\", \n",
    "                         headers=headers, \n",
    "                         params={\"user_id\": user_id, \"item_id\": event_item_id})\n",
    "                         \n",
    "params = {\"user_id\": user_id, 'k': 5}\n",
    "\n",
    "resp = requests.post(recommendations_url + \"/recommendations_online\", headers=headers, params=params)\n",
    "online_recs = resp.json()\n",
    "    \n",
    "print(online_recs)"
   ]
  },
  {
   "attachments": {},
   "cell_type": "markdown",
   "id": "10a05891",
   "metadata": {},
   "source": [
    "Должно получиться: `{'recs': [608474, 3590, 8921, 194373, 736131]}`"
   ]
  },
  {
   "attachments": {},
   "cell_type": "markdown",
   "id": "583530ed",
   "metadata": {},
   "source": [
    "Учитывая утверждение, что офлайн- и онлайн-рекомендации не исключают, а дополняют друг друга, доработаем сервис рекомендаций так, чтобы результат его работы мог включать в себя оба типа.\n",
    "\n",
    "Предлагаем такую простую схему:\n",
    "- онлайн-рекомендации занимают нечётные места,\n",
    "- офлайн-рекомендации занимают чётные места.\n",
    "\n",
    "Подобные схемы расстановок разнотипных элементов по различным местам ещё называют «смешиванием» (англ. blending).\n",
    "\n",
    "Начнём с того, что переименуем метод `/recommendations` и его функцию в `recommendations_offline/`. Код функции тот же.\n",
    "\n",
    "И реализуем новый метод `/recommendations` — уже как объединяющий оба типа рекомендаций."
   ]
  },
  {
   "attachments": {},
   "cell_type": "markdown",
   "id": "f45078da",
   "metadata": {},
   "source": [
    "__Задание 6 из 6__\n",
    "\n",
    "Доработайте код обновлённого метода `/recommendations` так, чтобы реализовать предложенную выше схему блендинга."
   ]
  },
  {
   "cell_type": "code",
   "execution_count": null,
   "id": "603441a8",
   "metadata": {},
   "outputs": [],
   "source": [
    "@app.post(\"/recommendations\")\n",
    "async def recommendations(user_id: int, k: int = 100):\n",
    "    \"\"\"\n",
    "    Возвращает список рекомендаций длиной k для пользователя user_id\n",
    "    \"\"\"\n",
    "\n",
    "    recs_offline = await recommendations_offline(user_id, k)\n",
    "    recs_online = await recommendations_online(user_id, k)\n",
    "\n",
    "    recs_offline = recs_offline[\"recs\"]\n",
    "    recs_online = recs_online[\"recs\"]\n",
    "\n",
    "    recs_blended = []\n",
    "\n",
    "    min_length = min(len(recs_offline), len(recs_online))\n",
    "    offline_idx = online_idx = 0\n",
    "    # чередуем элементы из списков, пока позволяет минимальная длина\n",
    "    for i in range(2 * min_length):\n",
    "        # ваш код здесь\n",
    "        if i % 2 == 0:\n",
    "            recs_blended.append(recs_offline[offline_idx])\n",
    "            offline_idx += 1\n",
    "        else:\n",
    "            recs_blended.append(recs_online[online_idx])\n",
    "            online_idx += 1\n",
    "\n",
    "    # добавляем оставшиеся элементы в конец\n",
    "    # ваш код здесь\n",
    "    if len(recs_offline) >= len(recs_online):\n",
    "        recs_blended.extend(recs_offline[offline_idx:])\n",
    "    else:\n",
    "        recs_blended.extend(recs_online[online_idx:])\n",
    "\n",
    "    # удаляем дубликаты\n",
    "    recs_blended = dedup_ids(recs_blended)\n",
    "    \n",
    "    # оставляем только первые k рекомендаций\n",
    "    # ваш код здесь\n",
    "    recs_blended = recs_blended[:k]\n",
    "\n",
    "    return {\"recs\": recs_blended}"
   ]
  },
  {
   "attachments": {},
   "cell_type": "markdown",
   "id": "d7613810",
   "metadata": {},
   "source": [
    "На примере пользователя `1291250` протестируем доработанный сервис.\n",
    "\n",
    "Сначала сгенерируем онлайн-события:"
   ]
  },
  {
   "cell_type": "code",
   "execution_count": null,
   "id": "c12a9f91",
   "metadata": {},
   "outputs": [],
   "source": [
    "user_id = 1291250\n",
    "event_item_ids =  [7144, 16299, 5907, 18135]\n",
    "\n",
    "headers = {\"Content-type\": \"application/json\", \"Accept\": \"text/plain\"}\n",
    "\n",
    "for event_item_id in event_item_ids:\n",
    "    resp = requests.post(events_store_url + \"/put\", \n",
    "                         headers=headers, \n",
    "                         params={\"user_id\": user_id, \"item_id\": event_item_id})"
   ]
  },
  {
   "attachments": {},
   "cell_type": "markdown",
   "id": "e1c0022f",
   "metadata": {},
   "source": [
    "Получим 10 рекомендаций каждого типа для данного пользователя:"
   ]
  },
  {
   "cell_type": "code",
   "execution_count": null,
   "id": "fc80096a",
   "metadata": {},
   "outputs": [],
   "source": [
    "headers = {\"Content-type\": \"application/json\", \"Accept\": \"text/plain\"}\n",
    "params = {\"user_id\": 1291250, 'k': 10}\n",
    "\n",
    "resp_offline = requests.post(recommendations_url + \"/recommendations_offline\", headers=headers, params=params)\n",
    "resp_online = requests.post(recommendations_url + \"/recommendations_online\", headers=headers, params=params)\n",
    "resp_blended = requests.post(recommendations_url + \"/recommendations\", headers=headers, params=params)\n",
    "\n",
    "recs_offline = resp_offline.json()[\"recs\"]\n",
    "recs_online = resp_online.json()[\"recs\"]\n",
    "recs_blended = resp_blended.json()[\"recs\"]\n",
    "\n",
    "print(recs_offline)\n",
    "print(recs_online)\n",
    "print(recs_blended)"
   ]
  },
  {
   "attachments": {},
   "cell_type": "markdown",
   "id": "dab3c59a",
   "metadata": {},
   "source": [
    "Качество рекомендаций также можно оценить выборочно: посмотрев, что рекомендации книг в целом адекватны, по авторам, названиям. Пример кода для этого приведён ниже."
   ]
  },
  {
   "cell_type": "code",
   "execution_count": null,
   "id": "a86722f3",
   "metadata": {},
   "outputs": [],
   "source": [
    "def display_items(item_ids):\n",
    "\n",
    "    item_columns_to_use = [\"item_id\", \"author\", \"title\", \"genre_and_votes\", \"average_rating\", \"ratings_count\"]\n",
    "    \n",
    "    items_selected = items.query(\"item_id in @item_ids\")[item_columns_to_use]\n",
    "    items_selected = items_selected.set_index(\"item_id\").reindex(item_ids)\n",
    "    items_selected = items_selected.reset_index()\n",
    "    \n",
    "    display(items_selected)\n",
    "    \n",
    "    \n",
    "print(\"Онлайн-события\")\n",
    "display_items(event_item_ids)\n",
    "print(\"Офлайн-рекомендации\")\n",
    "display_items(recs_offline)\n",
    "print(\"Онлайн-рекомендации\")\n",
    "display_items(recs_online)\n",
    "print(\"Рекомендации\")\n",
    "display_items(recs_blended)"
   ]
  },
  {
   "cell_type": "code",
   "execution_count": null,
   "id": "f3371968",
   "metadata": {},
   "outputs": [],
   "source": [
    "#WIP"
   ]
  }
 ],
 "metadata": {
  "kernelspec": {
   "display_name": "Python 3 (ipykernel)",
   "language": "python",
   "name": "python3"
  },
  "language_info": {
   "codemirror_mode": {
    "name": "ipython",
    "version": 3
   },
   "file_extension": ".py",
   "mimetype": "text/x-python",
   "name": "python",
   "nbconvert_exporter": "python",
   "pygments_lexer": "ipython3",
   "version": "3.10.12"
  }
 },
 "nbformat": 4,
 "nbformat_minor": 5
}
