{
 "cells": [
  {
   "attachments": {},
   "cell_type": "markdown",
   "id": "b3589a9a-ce16-4d2e-b581-d75139fc58b3",
   "metadata": {},
   "source": [
    "## Яндекс Практикум, курс \"Инженер Машинного Обучения\" (2024 г.)\n",
    "## Проект 4-го спринта: \"Создание рекомендательной системы\"\n",
    "## Ноутбук для генерации оффлайн-рекомендаций"
   ]
  },
  {
   "attachments": {},
   "cell_type": "markdown",
   "id": "c1c6c220",
   "metadata": {},
   "source": [
    "### Этап 3. Оффлайн-рекомендации"
   ]
  },
  {
   "attachments": {},
   "cell_type": "markdown",
   "id": "76e1ac3f",
   "metadata": {},
   "source": [
    "__Постановка задачи__\n",
    "\n",
    "Подготовьте данные для обучения:\n",
    "- Загрузите ранее сохранённые данные.\n",
    "- Разбейте данные на тренировочную и тестовую выборки: в тренировочную отнесите все данные до 16 декабря 2022 года (невключительно).\n",
    "\n",
    "Рассчитайте рекомендации нескольких типов, сохраните каждый тип в своём файле:\n",
    "- топ популярных — в `top_popular.parquet`,\n",
    "- персональные (при помощи ALS) — в `personal_als.parquet`,\n",
    "- похожие треки, или i2i (при помощи ALS) — в `similar.parquet`.\n",
    "\n",
    "Постройте ранжирующую модель, которая использует минимум три признака. Отранжируйте рекомендации, а итоговые сохраните в `recommendations.parquet`.\n",
    "\n",
    "Проверьте оценку качества трёх типов рекомендаций: \n",
    "1. топ популярных;\n",
    "2. персональных, полученных при помощи ALS;\n",
    "3. итоговых (по метрикам: recall, precision, coverage, novelty).\n",
    "\n",
    "Приведите значения метрик в README."
   ]
  },
  {
   "cell_type": "code",
   "execution_count": 1,
   "id": "c6e28b2f-3822-4e27-b576-9bc42b279b32",
   "metadata": {},
   "outputs": [],
   "source": [
    "import logging\n",
    "import os\n",
    "import matplotlib.pyplot as plt\n",
    "import numpy as np\n",
    "import pandas as pd\n",
    "import joblib\n",
    "import ipywidgets"
   ]
  },
  {
   "cell_type": "code",
   "execution_count": 3,
   "id": "a6743b80",
   "metadata": {},
   "outputs": [
    {
     "name": "stdout",
     "output_type": "stream",
     "text": [
      "c:\\Users\\Kirill_Nosov\\_Repos\\.venv\\Scripts\\python.exe\n"
     ]
    }
   ],
   "source": [
    "import sys\n",
    "\n",
    "# Проверяем, в каком окружении работаем\n",
    "print(sys.executable)"
   ]
  },
  {
   "cell_type": "code",
   "execution_count": 4,
   "id": "792bbecf",
   "metadata": {},
   "outputs": [],
   "source": [
    "import warnings\n",
    "from pandas.errors import SettingWithCopyWarning\n",
    "warnings.simplefilter(action='ignore', category=(SettingWithCopyWarning))"
   ]
  },
  {
   "cell_type": "code",
   "execution_count": 5,
   "id": "4e53bc65-3e32-454b-b353-e9b95489c26c",
   "metadata": {},
   "outputs": [],
   "source": [
    "%matplotlib inline\n",
    "%config InlineBackend.figure_format = 'png'\n",
    "%config InlineBackend.figure_format = 'retina'"
   ]
  },
  {
   "attachments": {},
   "cell_type": "markdown",
   "id": "e8b1d982-8795-45c2-b221-6e5a07eaa150",
   "metadata": {},
   "source": [
    "### Загрузка данных"
   ]
  },
  {
   "cell_type": "code",
   "execution_count": 7,
   "id": "6ab0db85-17df-4a4f-b23c-e9cd983d8c43",
   "metadata": {},
   "outputs": [],
   "source": [
    "items = pd.read_parquet(\"items.par\")\n",
    "events = pd.read_parquet(\"events.par\")"
   ]
  },
  {
   "cell_type": "code",
   "execution_count": 8,
   "id": "4528c8c4",
   "metadata": {},
   "outputs": [],
   "source": [
    "items.rename(columns={'book_id': 'item_id'}, inplace=True)\n",
    "events.rename(columns={'book_id': 'item_id'}, inplace=True)"
   ]
  },
  {
   "attachments": {},
   "cell_type": "markdown",
   "id": "f18f28dd-0371-4144-bf11-d077d44e8de0",
   "metadata": {},
   "source": [
    "### Разбиение с учётом хронологии"
   ]
  },
  {
   "attachments": {},
   "cell_type": "markdown",
   "id": "47016708-6f94-4518-886c-58fa6e7bb315",
   "metadata": {},
   "source": [
    "Рекомендательные системы на практике работают с учётом хронологии. Поэтому поток событий для тренировки и валидации полезно делить на то, что уже случилось, и что ещё случится. Это позволяет проводить валидацию на тех же пользователях, на которых тренировались, но на их событиях в будущем."
   ]
  },
  {
   "cell_type": "code",
   "execution_count": 9,
   "id": "a89ca2e2",
   "metadata": {},
   "outputs": [],
   "source": [
    "# Зададим точку разбиения\n",
    "train_test_global_time_split_date = pd.to_datetime(\"2017-08-01\").date()\n",
    "\n",
    "train_test_global_time_split_idx = events[\"started_at\"] < train_test_global_time_split_date\n",
    "events_train = events[train_test_global_time_split_idx] # your code here\n",
    "events_test = events[~train_test_global_time_split_idx]"
   ]
  },
  {
   "attachments": {},
   "cell_type": "markdown",
   "id": "207ba2c6",
   "metadata": {},
   "source": [
    "### Тема 2, Урок 5: Матрица взаимодействий и первые персональные рекомендации\n",
    "\n",
    "Оцените степень разреженности UI-матрицы, построенной на основе events. Используйте формулу выше и данные events[['user_id', 'book_id', 'rating']]. Какое значение корректно описывает результат?"
   ]
  },
  {
   "cell_type": "code",
   "execution_count": 8,
   "id": "b687dc99-9aee-472f-9730-d5f17df99c7e",
   "metadata": {},
   "outputs": [
    {
     "data": {
      "text/html": [
       "<div>\n",
       "<style scoped>\n",
       "    .dataframe tbody tr th:only-of-type {\n",
       "        vertical-align: middle;\n",
       "    }\n",
       "\n",
       "    .dataframe tbody tr th {\n",
       "        vertical-align: top;\n",
       "    }\n",
       "\n",
       "    .dataframe thead th {\n",
       "        text-align: right;\n",
       "    }\n",
       "</style>\n",
       "<table border=\"1\" class=\"dataframe\">\n",
       "  <thead>\n",
       "    <tr style=\"text-align: right;\">\n",
       "      <th></th>\n",
       "      <th>rated_books</th>\n",
       "      <th>not_rated_books</th>\n",
       "    </tr>\n",
       "    <tr>\n",
       "      <th>user_id</th>\n",
       "      <th></th>\n",
       "      <th></th>\n",
       "    </tr>\n",
       "  </thead>\n",
       "  <tbody>\n",
       "    <tr>\n",
       "      <th>1000000</th>\n",
       "      <td>29</td>\n",
       "      <td>43283</td>\n",
       "    </tr>\n",
       "    <tr>\n",
       "      <th>1000001</th>\n",
       "      <td>2</td>\n",
       "      <td>43310</td>\n",
       "    </tr>\n",
       "    <tr>\n",
       "      <th>1000002</th>\n",
       "      <td>4</td>\n",
       "      <td>43308</td>\n",
       "    </tr>\n",
       "    <tr>\n",
       "      <th>1000003</th>\n",
       "      <td>95</td>\n",
       "      <td>43217</td>\n",
       "    </tr>\n",
       "    <tr>\n",
       "      <th>1000004</th>\n",
       "      <td>133</td>\n",
       "      <td>43179</td>\n",
       "    </tr>\n",
       "    <tr>\n",
       "      <th>...</th>\n",
       "      <td>...</td>\n",
       "      <td>...</td>\n",
       "    </tr>\n",
       "    <tr>\n",
       "      <th>1430580</th>\n",
       "      <td>3</td>\n",
       "      <td>43309</td>\n",
       "    </tr>\n",
       "    <tr>\n",
       "      <th>1430581</th>\n",
       "      <td>8</td>\n",
       "      <td>43304</td>\n",
       "    </tr>\n",
       "    <tr>\n",
       "      <th>1430582</th>\n",
       "      <td>3</td>\n",
       "      <td>43309</td>\n",
       "    </tr>\n",
       "    <tr>\n",
       "      <th>1430583</th>\n",
       "      <td>2</td>\n",
       "      <td>43310</td>\n",
       "    </tr>\n",
       "    <tr>\n",
       "      <th>1430584</th>\n",
       "      <td>13</td>\n",
       "      <td>43299</td>\n",
       "    </tr>\n",
       "  </tbody>\n",
       "</table>\n",
       "<p>430585 rows × 2 columns</p>\n",
       "</div>"
      ],
      "text/plain": [
       "         rated_books  not_rated_books\n",
       "user_id                              \n",
       "1000000           29            43283\n",
       "1000001            2            43310\n",
       "1000002            4            43308\n",
       "1000003           95            43217\n",
       "1000004          133            43179\n",
       "...              ...              ...\n",
       "1430580            3            43309\n",
       "1430581            8            43304\n",
       "1430582            3            43309\n",
       "1430583            2            43310\n",
       "1430584           13            43299\n",
       "\n",
       "[430585 rows x 2 columns]"
      ]
     },
     "execution_count": 8,
     "metadata": {},
     "output_type": "execute_result"
    }
   ],
   "source": [
    "books_num = items['item_id'].nunique()\n",
    "\n",
    "ratings = events[['user_id', 'item_id', 'rating']]\n",
    "agg_ratings = ratings.groupby('user_id').agg(rated_books = ('item_id', 'nunique'))\n",
    "agg_ratings['not_rated_books'] = books_num - agg_ratings['rated_books']\n",
    "agg_ratings"
   ]
  },
  {
   "attachments": {},
   "cell_type": "markdown",
   "id": "07f158e8",
   "metadata": {},
   "source": [
    "Должно получиться 99.9%"
   ]
  },
  {
   "cell_type": "code",
   "execution_count": 9,
   "id": "bc62fbc2-36de-4ccb-bd2f-33594eafa2ff",
   "metadata": {},
   "outputs": [
    {
     "name": "stdout",
     "output_type": "stream",
     "text": [
      "99.9%\n"
     ]
    }
   ],
   "source": [
    "sparsity = agg_ratings['not_rated_books'].sum() / (len(agg_ratings) * books_num) * 100\n",
    "print(f\"{round(sparsity, 1)}%\")"
   ]
  },
  {
   "attachments": {},
   "cell_type": "markdown",
   "id": "bb2aeb7c",
   "metadata": {},
   "source": [
    "__Реализация SVD-алгоритма__\n",
    "\n",
    "Воспользуемся готовой реализацией SVD-алгоритма из библиотеки suprise. В качестве разбиения данных на train и test возьмём разбиение из предыдущего урока: events_train, events_test."
   ]
  },
  {
   "cell_type": "code",
   "execution_count": 8,
   "id": "f8d9caf2",
   "metadata": {},
   "outputs": [
    {
     "data": {
      "text/plain": [
       "<surprise.prediction_algorithms.matrix_factorization.SVD at 0x7fb278a1d3f0>"
      ]
     },
     "execution_count": 8,
     "metadata": {},
     "output_type": "execute_result"
    }
   ],
   "source": [
    "from surprise import Dataset, Reader\n",
    "from surprise import SVD\n",
    "\n",
    "# используем Reader из библиотеки suprise для преобразования событий (events)\n",
    "# в формат, необходимый suprise\n",
    "reader = Reader(rating_scale=(1, 5))\n",
    "suprise_train_set = Dataset.load_from_df(events_train[['user_id', 'item_id', 'rating']], reader)\n",
    "suprise_train_set = suprise_train_set.build_full_trainset()\n",
    "\n",
    "# инициализируем модель\n",
    "svd_model = SVD(n_factors=100, random_state=0)\n",
    "\n",
    "# обучаем модель\n",
    "svd_model.fit(suprise_train_set)"
   ]
  },
  {
   "attachments": {},
   "cell_type": "markdown",
   "id": "d2013f0f",
   "metadata": {},
   "source": [
    "Используя обученную модель, получим рекомендации для тестовой выборки:"
   ]
  },
  {
   "cell_type": "code",
   "execution_count": 10,
   "id": "19102f47",
   "metadata": {},
   "outputs": [],
   "source": [
    "surprise_test_set = list(events_test[['user_id', 'item_id', 'rating']].itertuples(index=False))\n",
    "\n",
    "# получаем рекомендации для тестовой выборки\n",
    "svd_predictions = svd_model.test(surprise_test_set)"
   ]
  },
  {
   "cell_type": "code",
   "execution_count": 11,
   "id": "6df67a13",
   "metadata": {},
   "outputs": [
    {
     "data": {
      "text/plain": [
       "[Prediction(uid=1000003, iid=25893709, r_ui=4, est=3.146647541664683, details={'was_impossible': False}),\n",
       " Prediction(uid=1000005, iid=34076952, r_ui=5, est=4.0248936128868875, details={'was_impossible': False}),\n",
       " Prediction(uid=1000006, iid=18774964, r_ui=4, est=4.703536489983392, details={'was_impossible': False}),\n",
       " Prediction(uid=1000006, iid=29868610, r_ui=4, est=4.299707151181704, details={'was_impossible': False}),\n",
       " Prediction(uid=1000006, iid=7445, r_ui=4, est=4.390635237327915, details={'was_impossible': False}),\n",
       " Prediction(uid=1000006, iid=18812405, r_ui=3, est=3.915694467753667, details={'was_impossible': False}),\n",
       " Prediction(uid=1000006, iid=24817626, r_ui=3, est=3.2881688704857175, details={'was_impossible': False}),\n",
       " Prediction(uid=1000007, iid=168642, r_ui=5, est=4.048962755088201, details={'was_impossible': False}),\n",
       " Prediction(uid=1000007, iid=28257707, r_ui=4, est=3.7850747578270787, details={'was_impossible': False}),\n",
       " Prediction(uid=1000007, iid=24453082, r_ui=3, est=3.7228998588100572, details={'was_impossible': False}),\n",
       " Prediction(uid=1000009, iid=5, r_ui=5, est=4.723840666503717, details={'was_impossible': False}),\n",
       " Prediction(uid=1000009, iid=92367, r_ui=3, est=3.4606384986698293, details={'was_impossible': False}),\n",
       " Prediction(uid=1000009, iid=13154150, r_ui=4, est=3.877548423088175, details={'was_impossible': False}),\n",
       " Prediction(uid=1000009, iid=40440, r_ui=4, est=3.916444340852145, details={'was_impossible': False}),\n",
       " Prediction(uid=1000009, iid=8354134, r_ui=4, est=4.4699391520373615, details={'was_impossible': False}),\n",
       " Prediction(uid=1000009, iid=31226744, r_ui=4, est=3.7846146636869453, details={'was_impossible': False}),\n",
       " Prediction(uid=1000019, iid=7093952, r_ui=3, est=4.127765287748229, details={'was_impossible': False}),\n",
       " Prediction(uid=1000019, iid=37415, r_ui=4, est=4.375263116042561, details={'was_impossible': False}),\n",
       " Prediction(uid=1000019, iid=13496, r_ui=2, est=4.401128220223806, details={'was_impossible': False}),\n",
       " Prediction(uid=1000020, iid=38447, r_ui=3, est=3.669921178161419, details={'was_impossible': False}),\n",
       " Prediction(uid=1000020, iid=5203, r_ui=4, est=3.209836387547539, details={'was_impossible': False}),\n",
       " Prediction(uid=1000023, iid=5094, r_ui=3, est=4.26580336207888, details={'was_impossible': False}),\n",
       " Prediction(uid=1000023, iid=7260188, r_ui=5, est=3.940993493639996, details={'was_impossible': False}),\n",
       " Prediction(uid=1000025, iid=29056083, r_ui=3, est=4.1367832755250635, details={'was_impossible': False}),\n",
       " Prediction(uid=1000032, iid=17333223, r_ui=5, est=4.012674738028354, details={'was_impossible': False}),\n",
       " Prediction(uid=1000036, iid=28305, r_ui=1, est=3.7521821782573466, details={'was_impossible': False}),\n",
       " Prediction(uid=1000036, iid=14942, r_ui=5, est=3.1564476046350607, details={'was_impossible': False}),\n",
       " Prediction(uid=1000036, iid=2247142, r_ui=3, est=3.4060850309346233, details={'was_impossible': False}),\n",
       " Prediction(uid=1000036, iid=23164983, r_ui=1, est=3.691815104000008, details={'was_impossible': False}),\n",
       " Prediction(uid=1000036, iid=6288, r_ui=2, est=4.008217969538575, details={'was_impossible': False}),\n",
       " Prediction(uid=1000036, iid=7670, r_ui=4, est=3.930114446242479, details={'was_impossible': False}),\n",
       " Prediction(uid=1000036, iid=5060378, r_ui=4, est=4.269868105313767, details={'was_impossible': False}),\n",
       " Prediction(uid=1000036, iid=897363, r_ui=4, est=4.042579364076622, details={'was_impossible': False}),\n",
       " Prediction(uid=1000036, iid=13812, r_ui=2, est=4.113464824995681, details={'was_impossible': False}),\n",
       " Prediction(uid=1000036, iid=6327, r_ui=1, est=3.6473876182220883, details={'was_impossible': False}),\n",
       " Prediction(uid=1000036, iid=5470, r_ui=5, est=3.2527213428346076, details={'was_impossible': False}),\n",
       " Prediction(uid=1000037, iid=12394068, r_ui=5, est=3.939642526068948, details={'was_impossible': False}),\n",
       " Prediction(uid=1000038, iid=14864, r_ui=5, est=3.7210383293749763, details={'was_impossible': False}),\n",
       " Prediction(uid=1000040, iid=20564, r_ui=5, est=4.844658806333995, details={'was_impossible': False}),\n",
       " Prediction(uid=1000043, iid=17235026, r_ui=5, est=3.847828545138417, details={'was_impossible': False}),\n",
       " Prediction(uid=1000043, iid=46756, r_ui=4, est=3.932299757977551, details={'was_impossible': False}),\n",
       " Prediction(uid=1000044, iid=91477, r_ui=5, est=4.071997591600697, details={'was_impossible': False}),\n",
       " Prediction(uid=1000044, iid=47212, r_ui=5, est=4.325768546971596, details={'was_impossible': False}),\n",
       " Prediction(uid=1000044, iid=17607850, r_ui=5, est=3.796164153649065, details={'was_impossible': False}),\n",
       " Prediction(uid=1000044, iid=17607848, r_ui=5, est=3.9279341041973965, details={'was_impossible': False}),\n",
       " Prediction(uid=1000044, iid=20448515, r_ui=5, est=3.44183022319507, details={'was_impossible': False}),\n",
       " Prediction(uid=1000044, iid=13596809, r_ui=5, est=3.9784612296514883, details={'was_impossible': False}),\n",
       " Prediction(uid=1000044, iid=29991719, r_ui=5, est=3.8403481886379036, details={'was_impossible': False}),\n",
       " Prediction(uid=1000044, iid=29863848, r_ui=4, est=4.271688893929184, details={'was_impossible': False}),\n",
       " Prediction(uid=1000046, iid=13596809, r_ui=5, est=4.852048549409094, details={'was_impossible': False}),\n",
       " Prediction(uid=1000046, iid=15731779, r_ui=5, est=4.84190906697827, details={'was_impossible': False}),\n",
       " Prediction(uid=1000046, iid=7896527, r_ui=4, est=4.839946340240535, details={'was_impossible': False}),\n",
       " Prediction(uid=1000046, iid=27827203, r_ui=5, est=4.301815891384062, details={'was_impossible': False}),\n",
       " Prediction(uid=1000046, iid=24485589, r_ui=5, est=4.972630818430486, details={'was_impossible': False}),\n",
       " Prediction(uid=1000046, iid=20448515, r_ui=5, est=4.463351579692219, details={'was_impossible': False}),\n",
       " Prediction(uid=1000046, iid=18798983, r_ui=5, est=5, details={'was_impossible': False}),\n",
       " Prediction(uid=1000046, iid=23308084, r_ui=5, est=5, details={'was_impossible': False}),\n",
       " Prediction(uid=1000046, iid=7664334, r_ui=5, est=4.803443232040084, details={'was_impossible': False}),\n",
       " Prediction(uid=1000046, iid=18045891, r_ui=4, est=4.7689013990909395, details={'was_impossible': False}),\n",
       " Prediction(uid=1000051, iid=9969571, r_ui=4, est=4.147063989193031, details={'was_impossible': False}),\n",
       " Prediction(uid=1000051, iid=23437156, r_ui=5, est=4.1571981185105145, details={'was_impossible': False}),\n",
       " Prediction(uid=1000051, iid=10025305, r_ui=4, est=3.8610047718272726, details={'was_impossible': False}),\n",
       " Prediction(uid=1000051, iid=18335634, r_ui=5, est=4.081906471220672, details={'was_impossible': False}),\n",
       " Prediction(uid=1000051, iid=20613470, r_ui=4, est=4.25470343707214, details={'was_impossible': False}),\n",
       " Prediction(uid=1000054, iid=8683812, r_ui=2, est=2.7722681105742457, details={'was_impossible': False}),\n",
       " Prediction(uid=1000055, iid=27695, r_ui=4, est=3.1746096021546664, details={'was_impossible': False}),\n",
       " Prediction(uid=1000055, iid=9409458, r_ui=3, est=3.2453561471649026, details={'was_impossible': False}),\n",
       " Prediction(uid=1000055, iid=6654313, r_ui=3, est=3.429618091036578, details={'was_impossible': False}),\n",
       " Prediction(uid=1000055, iid=29056083, r_ui=3, est=3.0299170136973137, details={'was_impossible': False}),\n",
       " Prediction(uid=1000056, iid=25111004, r_ui=5, est=4.708239914176517, details={'was_impossible': False}),\n",
       " Prediction(uid=1000060, iid=28458598, r_ui=5, est=4.5459303006711895, details={'was_impossible': False}),\n",
       " Prediction(uid=1000060, iid=56616, r_ui=4, est=4.401074593248326, details={'was_impossible': False}),\n",
       " Prediction(uid=1000060, iid=3447, r_ui=3, est=4.213816820382479, details={'was_impossible': False}),\n",
       " Prediction(uid=1000060, iid=5439, r_ui=5, est=4.542187261400998, details={'was_impossible': False}),\n",
       " Prediction(uid=1000060, iid=432, r_ui=4, est=3.4061865608134534, details={'was_impossible': False}),\n",
       " Prediction(uid=1000060, iid=25489625, r_ui=5, est=4.902959097309899, details={'was_impossible': False}),\n",
       " Prediction(uid=1000065, iid=33280872, r_ui=4, est=4.220999945179913, details={'was_impossible': False}),\n",
       " Prediction(uid=1000065, iid=18774964, r_ui=5, est=4.6819708190942615, details={'was_impossible': False}),\n",
       " Prediction(uid=1000065, iid=33230889, r_ui=5, est=4.285943341338314, details={'was_impossible': False}),\n",
       " Prediction(uid=1000065, iid=34111673, r_ui=4, est=3.9634413843599026, details={'was_impossible': False}),\n",
       " Prediction(uid=1000065, iid=2906039, r_ui=3, est=3.512331534350657, details={'was_impossible': False}),\n",
       " Prediction(uid=1000065, iid=34189556, r_ui=5, est=4.228155469541362, details={'was_impossible': False}),\n",
       " Prediction(uid=1000065, iid=27406704, r_ui=2, est=4.27510976499377, details={'was_impossible': False}),\n",
       " Prediction(uid=1000065, iid=31111142, r_ui=4, est=3.9820333978768585, details={'was_impossible': False}),\n",
       " Prediction(uid=1000065, iid=32148091, r_ui=5, est=3.717328926376765, details={'was_impossible': False}),\n",
       " Prediction(uid=1000069, iid=22886868, r_ui=5, est=3.722042620484247, details={'was_impossible': False}),\n",
       " Prediction(uid=1000069, iid=15790883, r_ui=4, est=3.8036201421129663, details={'was_impossible': False}),\n",
       " Prediction(uid=1000070, iid=29638254, r_ui=4, est=4.404477136364475, details={'was_impossible': False}),\n",
       " Prediction(uid=1000076, iid=30008702, r_ui=5, est=4.239042175655003, details={'was_impossible': False}),\n",
       " Prediction(uid=1000076, iid=3181564, r_ui=3, est=4.315367236597553, details={'was_impossible': False}),\n",
       " Prediction(uid=1000076, iid=2165, r_ui=5, est=3.933724367639115, details={'was_impossible': False}),\n",
       " Prediction(uid=1000077, iid=17333174, r_ui=5, est=4.637197437701825, details={'was_impossible': False}),\n",
       " Prediction(uid=1000084, iid=23168277, r_ui=4, est=3.56235577808157, details={'was_impossible': False}),\n",
       " Prediction(uid=1000084, iid=2372, r_ui=3, est=3.6907679819758816, details={'was_impossible': False}),\n",
       " Prediction(uid=1000085, iid=4214, r_ui=4, est=3.9024612853129175, details={'was_impossible': False}),\n",
       " Prediction(uid=1000085, iid=29864343, r_ui=3, est=4.171983392311217, details={'was_impossible': False}),\n",
       " Prediction(uid=1000085, iid=20454672, r_ui=4, est=4.063914214701987, details={'was_impossible': False}),\n",
       " Prediction(uid=1000085, iid=268275, r_ui=3, est=3.7092651625968234, details={'was_impossible': False}),\n",
       " Prediction(uid=1000085, iid=26154406, r_ui=3, est=3.7226162850950404, details={'was_impossible': False}),\n",
       " Prediction(uid=1000085, iid=760924, r_ui=4, est=4.064497442633359, details={'was_impossible': False}),\n",
       " Prediction(uid=1000085, iid=8755776, r_ui=3, est=4.1620816424432014, details={'was_impossible': False}),\n",
       " Prediction(uid=1000085, iid=29780253, r_ui=5, est=4.756548902391574, details={'was_impossible': False}),\n",
       " Prediction(uid=1000085, iid=15791085, r_ui=3, est=4.173705240630312, details={'was_impossible': False}),\n",
       " Prediction(uid=1000085, iid=29496076, r_ui=5, est=4.231658829481619, details={'was_impossible': False}),\n",
       " Prediction(uid=1000085, iid=25893709, r_ui=3, est=3.7144697162255094, details={'was_impossible': False}),\n",
       " Prediction(uid=1000085, iid=25150798, r_ui=3, est=4.345114137942051, details={'was_impossible': False}),\n",
       " Prediction(uid=1000085, iid=77477, r_ui=3, est=3.668962546710931, details={'was_impossible': False}),\n",
       " Prediction(uid=1000086, iid=28815474, r_ui=4, est=4.294092294261472, details={'was_impossible': False}),\n",
       " Prediction(uid=1000091, iid=12969140, r_ui=2, est=4.428615428641878, details={'was_impossible': False}),\n",
       " Prediction(uid=1000091, iid=9516, r_ui=5, est=3.960480870830645, details={'was_impossible': False}),\n",
       " Prediction(uid=1000091, iid=1, r_ui=4, est=4.707980929080324, details={'was_impossible': False}),\n",
       " Prediction(uid=1000093, iid=32075671, r_ui=4, est=4.9604520565028265, details={'was_impossible': False}),\n",
       " Prediction(uid=1000093, iid=22918050, r_ui=3, est=3.8604849279016165, details={'was_impossible': False}),\n",
       " Prediction(uid=1000093, iid=18140047, r_ui=4, est=4.017416304525717, details={'was_impossible': False}),\n",
       " Prediction(uid=1000093, iid=30333938, r_ui=4, est=4.1513185923644, details={'was_impossible': False}),\n",
       " Prediction(uid=1000093, iid=24445517, r_ui=4, est=4.644159177787039, details={'was_impossible': False}),\n",
       " Prediction(uid=1000114, iid=87745, r_ui=3, est=3.705692167914383, details={'was_impossible': False}),\n",
       " Prediction(uid=1000117, iid=16143347, r_ui=3, est=3.9710227188829412, details={'was_impossible': False}),\n",
       " Prediction(uid=1000118, iid=1582996, r_ui=4, est=4.366111211042107, details={'was_impossible': False}),\n",
       " Prediction(uid=1000122, iid=89717, r_ui=4, est=3.8384481054858104, details={'was_impossible': False}),\n",
       " Prediction(uid=1000122, iid=102868, r_ui=4, est=4.054340456758096, details={'was_impossible': False}),\n",
       " Prediction(uid=1000126, iid=18774964, r_ui=5, est=4.105538581459147, details={'was_impossible': False}),\n",
       " Prediction(uid=1000126, iid=25558608, r_ui=3, est=4.1698448398536, details={'was_impossible': False}),\n",
       " Prediction(uid=1000126, iid=11447921, r_ui=3, est=3.208756373115886, details={'was_impossible': False}),\n",
       " Prediction(uid=1000126, iid=25489625, r_ui=4, est=3.9902209895784266, details={'was_impossible': False}),\n",
       " Prediction(uid=1000126, iid=27774758, r_ui=4, est=4.035534324161398, details={'was_impossible': False}),\n",
       " Prediction(uid=1000126, iid=5246, r_ui=4, est=3.617892989773087, details={'was_impossible': False}),\n",
       " Prediction(uid=1000127, iid=5948907, r_ui=4, est=4.089484504830346, details={'was_impossible': False}),\n",
       " Prediction(uid=1000127, iid=11275, r_ui=3, est=3.9115414269455235, details={'was_impossible': False}),\n",
       " Prediction(uid=1000127, iid=6136509, r_ui=3, est=4.263271372791383, details={'was_impossible': False}),\n",
       " Prediction(uid=1000128, iid=18635622, r_ui=3, est=4.188286901057043, details={'was_impossible': False}),\n",
       " Prediction(uid=1000128, iid=11970747, r_ui=4, est=4.015434408278556, details={'was_impossible': False}),\n",
       " Prediction(uid=1000135, iid=5096, r_ui=4, est=4.23920049624803, details={'was_impossible': False}),\n",
       " Prediction(uid=1000135, iid=47212, r_ui=5, est=3.988301787244648, details={'was_impossible': False}),\n",
       " Prediction(uid=1000135, iid=34466922, r_ui=2, est=4.0294713767148576, details={'was_impossible': False}),\n",
       " Prediction(uid=1000135, iid=6, r_ui=5, est=4.729654007674104, details={'was_impossible': False}),\n",
       " Prediction(uid=1000135, iid=5, r_ui=5, est=4.761905798719599, details={'was_impossible': False}),\n",
       " Prediction(uid=1000135, iid=15881, r_ui=5, est=4.647836525909011, details={'was_impossible': False}),\n",
       " Prediction(uid=1000135, iid=3, r_ui=5, est=4.644662575268656, details={'was_impossible': False}),\n",
       " Prediction(uid=1000135, iid=184661, r_ui=4, est=4.215863511758387, details={'was_impossible': False}),\n",
       " Prediction(uid=1000135, iid=184655, r_ui=4, est=4.4413627021214195, details={'was_impossible': False}),\n",
       " Prediction(uid=1000135, iid=17571466, r_ui=4, est=3.4999617176142297, details={'was_impossible': False}),\n",
       " Prediction(uid=1000135, iid=29875363, r_ui=5, est=3.875901843055199, details={'was_impossible': False}),\n",
       " Prediction(uid=1000135, iid=13497, r_ui=4, est=4.21236511260817, details={'was_impossible': False}),\n",
       " Prediction(uid=1000135, iid=2, r_ui=5, est=4.628410730528482, details={'was_impossible': False}),\n",
       " Prediction(uid=1000135, iid=102733, r_ui=5, est=3.784613795670844, details={'was_impossible': False}),\n",
       " Prediction(uid=1000135, iid=10664113, r_ui=3, est=4.357359422803825, details={'was_impossible': False}),\n",
       " Prediction(uid=1000140, iid=13497818, r_ui=4, est=2.8905864528939857, details={'was_impossible': False}),\n",
       " Prediction(uid=1000140, iid=19288043, r_ui=5, est=3.284373109805765, details={'was_impossible': False}),\n",
       " Prediction(uid=1000140, iid=32102, r_ui=3, est=3.490652468643683, details={'was_impossible': False}),\n",
       " Prediction(uid=1000140, iid=3087, r_ui=2, est=3.1730726044342292, details={'was_impossible': False}),\n",
       " Prediction(uid=1000140, iid=29437949, r_ui=4, est=3.517950176499295, details={'was_impossible': False}),\n",
       " Prediction(uid=1000140, iid=10874177, r_ui=3, est=3.031939697840034, details={'was_impossible': False}),\n",
       " Prediction(uid=1000141, iid=32148570, r_ui=5, est=4.791150685731345, details={'was_impossible': False}),\n",
       " Prediction(uid=1000143, iid=12898, r_ui=3, est=3.6237904797626115, details={'was_impossible': False}),\n",
       " Prediction(uid=1000144, iid=38447, r_ui=5, est=4.341813536366582, details={'was_impossible': False}),\n",
       " Prediction(uid=1000145, iid=29780253, r_ui=5, est=4.5376054704482645, details={'was_impossible': False}),\n",
       " Prediction(uid=1000145, iid=29430049, r_ui=3, est=3.7530615054783416, details={'was_impossible': False}),\n",
       " Prediction(uid=1000145, iid=29868610, r_ui=3, est=3.627609666663298, details={'was_impossible': False}),\n",
       " Prediction(uid=1000145, iid=34273236, r_ui=4, est=4.298633737940974, details={'was_impossible': False}),\n",
       " Prediction(uid=1000145, iid=32585, r_ui=3, est=3.702658238826176, details={'was_impossible': False}),\n",
       " Prediction(uid=1000146, iid=1255781, r_ui=3, est=3.9074885212559396, details={'was_impossible': False}),\n",
       " Prediction(uid=1000146, iid=10929, r_ui=4, est=3.4808674519391203, details={'was_impossible': False}),\n",
       " Prediction(uid=1000148, iid=102868, r_ui=5, est=4.186360740431329, details={'was_impossible': False}),\n",
       " Prediction(uid=1000150, iid=14996, r_ui=5, est=4.217549930030674, details={'was_impossible': False}),\n",
       " Prediction(uid=1000150, iid=34928122, r_ui=5, est=4.363136281537214, details={'was_impossible': False}),\n",
       " Prediction(uid=1000150, iid=16101135, r_ui=4, est=3.7793535467060595, details={'was_impossible': False}),\n",
       " Prediction(uid=1000153, iid=29236299, r_ui=5, est=4.586236871257857, details={'was_impossible': False}),\n",
       " Prediction(uid=1000153, iid=26114463, r_ui=5, est=4.213546625045368, details={'was_impossible': False}),\n",
       " Prediction(uid=1000153, iid=13262783, r_ui=5, est=4.00896511282411, details={'was_impossible': False}),\n",
       " Prediction(uid=1000153, iid=29923707, r_ui=4, est=4.1003483199058275, details={'was_impossible': False}),\n",
       " Prediction(uid=1000153, iid=18806259, r_ui=3, est=3.6236710978178763, details={'was_impossible': False}),\n",
       " Prediction(uid=1000153, iid=30025336, r_ui=4, est=4.068271343738346, details={'was_impossible': False}),\n",
       " Prediction(uid=1000153, iid=31450852, r_ui=5, est=3.9812366012789946, details={'was_impossible': False}),\n",
       " Prediction(uid=1000161, iid=402093, r_ui=4, est=3.900785692897096, details={'was_impossible': False}),\n",
       " Prediction(uid=1000161, iid=28695, r_ui=4, est=3.641564873540995, details={'was_impossible': False}),\n",
       " Prediction(uid=1000161, iid=9496240, r_ui=2, est=3.2897786875267223, details={'was_impossible': False}),\n",
       " Prediction(uid=1000161, iid=77507, r_ui=3, est=3.044303115004439, details={'was_impossible': False}),\n",
       " Prediction(uid=1000163, iid=9969571, r_ui=3, est=4.269350939482186, details={'was_impossible': False}),\n",
       " Prediction(uid=1000165, iid=33897359, r_ui=3, est=3.8508058593700962, details={'was_impossible': False}),\n",
       " Prediction(uid=1000175, iid=26114463, r_ui=5, est=4.571991001571915, details={'was_impossible': False}),\n",
       " Prediction(uid=1000175, iid=31450908, r_ui=4, est=4.361573564050886, details={'was_impossible': False}),\n",
       " Prediction(uid=1000178, iid=10964, r_ui=5, est=3.9615841543352968, details={'was_impossible': False}),\n",
       " Prediction(uid=1000182, iid=38447, r_ui=4, est=4.717569474571534, details={'was_impossible': False}),\n",
       " Prediction(uid=1000182, iid=25074850, r_ui=4, est=4.390174019841419, details={'was_impossible': False}),\n",
       " Prediction(uid=1000182, iid=18812405, r_ui=4, est=4.5075543867451096, details={'was_impossible': False}),\n",
       " Prediction(uid=1000182, iid=22318578, r_ui=5, est=4.071508619799372, details={'was_impossible': False}),\n",
       " Prediction(uid=1000182, iid=15818107, r_ui=4, est=4.613250193420754, details={'was_impossible': False}),\n",
       " Prediction(uid=1000183, iid=30821598, r_ui=3, est=4.176272421593507, details={'was_impossible': False}),\n",
       " Prediction(uid=1000187, iid=26114463, r_ui=5, est=4.492568788509526, details={'was_impossible': False}),\n",
       " Prediction(uid=1000187, iid=10614, r_ui=4, est=4.740773875542711, details={'was_impossible': False}),\n",
       " Prediction(uid=1000191, iid=5960325, r_ui=5, est=4.190787528790141, details={'was_impossible': False}),\n",
       " Prediction(uid=1000191, iid=29397486, r_ui=5, est=4.1354438553421, details={'was_impossible': False}),\n",
       " Prediction(uid=1000191, iid=17738800, r_ui=4, est=4.151496074423339, details={'was_impossible': False}),\n",
       " Prediction(uid=1000195, iid=15798797, r_ui=3, est=4.611684074252623, details={'was_impossible': False}),\n",
       " Prediction(uid=1000195, iid=4671, r_ui=4, est=4.055370783594711, details={'was_impossible': False}),\n",
       " Prediction(uid=1000196, iid=3431, r_ui=4, est=3.7082481852078093, details={'was_impossible': False}),\n",
       " Prediction(uid=1000196, iid=34121119, r_ui=3, est=3.3170965480736974, details={'was_impossible': False}),\n",
       " Prediction(uid=1000196, iid=29496453, r_ui=5, est=4.320946536069029, details={'was_impossible': False}),\n",
       " Prediction(uid=1000196, iid=10929, r_ui=4, est=3.809424375329759, details={'was_impossible': False}),\n",
       " Prediction(uid=1000196, iid=4894, r_ui=4, est=3.4719595436273973, details={'was_impossible': False}),\n",
       " Prediction(uid=1000199, iid=657034, r_ui=4, est=3.960022559871049, details={'was_impossible': False}),\n",
       " Prediction(uid=1000199, iid=280412, r_ui=5, est=4.6612808331559785, details={'was_impossible': False}),\n",
       " Prediction(uid=1000201, iid=38447, r_ui=4, est=4.392446130014988, details={'was_impossible': False}),\n",
       " Prediction(uid=1000203, iid=166997, r_ui=5, est=4.134913348123527, details={'was_impossible': False}),\n",
       " Prediction(uid=1000204, iid=537094, r_ui=3, est=4.164546769420276, details={'was_impossible': False}),\n",
       " Prediction(uid=1000204, iid=7959038, r_ui=5, est=3.4872661388250137, details={'was_impossible': False}),\n",
       " Prediction(uid=1000204, iid=21611, r_ui=3, est=4.254270340908749, details={'was_impossible': False}),\n",
       " Prediction(uid=1000204, iid=9717, r_ui=5, est=4.203382639107954, details={'was_impossible': False}),\n",
       " Prediction(uid=1000204, iid=24861, r_ui=5, est=3.952121778666775, details={'was_impossible': False}),\n",
       " Prediction(uid=1000204, iid=2767793, r_ui=5, est=4.560780957584656, details={'was_impossible': False}),\n",
       " Prediction(uid=1000207, iid=27037, r_ui=1, est=2.839307569331491, details={'was_impossible': False}),\n",
       " Prediction(uid=1000207, iid=85812, r_ui=2, est=3.1407891422770096, details={'was_impossible': False}),\n",
       " Prediction(uid=1000209, iid=23719270, r_ui=3, est=4.021252485603757, details={'was_impossible': False}),\n",
       " Prediction(uid=1000209, iid=31931941, r_ui=4, est=4.465595435660403, details={'was_impossible': False}),\n",
       " Prediction(uid=1000209, iid=136251, r_ui=5, est=4.921085813514689, details={'was_impossible': False}),\n",
       " Prediction(uid=1000209, iid=345627, r_ui=5, est=4.3885372794958855, details={'was_impossible': False}),\n",
       " Prediction(uid=1000209, iid=1, r_ui=5, est=4.816489089758997, details={'was_impossible': False}),\n",
       " Prediction(uid=1000209, iid=17724774, r_ui=4, est=3.4317668933613534, details={'was_impossible': False}),\n",
       " Prediction(uid=1000214, iid=5107, r_ui=5, est=3.907953442394289, details={'was_impossible': False}),\n",
       " Prediction(uid=1000222, iid=16248068, r_ui=4, est=3.9759978051727645, details={'was_impossible': False}),\n",
       " Prediction(uid=1000222, iid=22918050, r_ui=4, est=3.8107328493894634, details={'was_impossible': False}),\n",
       " Prediction(uid=1000222, iid=18635016, r_ui=4, est=4.024767200450421, details={'was_impossible': False}),\n",
       " Prediction(uid=1000227, iid=23093367, r_ui=5, est=4.621646308091126, details={'was_impossible': False}),\n",
       " Prediction(uid=1000227, iid=23127048, r_ui=4, est=3.9890144465197417, details={'was_impossible': False}),\n",
       " Prediction(uid=1000227, iid=10210, r_ui=5, est=4.1226400273267885, details={'was_impossible': False}),\n",
       " Prediction(uid=1000227, iid=95382, r_ui=3, est=3.982753840484646, details={'was_impossible': False}),\n",
       " Prediction(uid=1000227, iid=15732712, r_ui=3, est=3.7853147191056005, details={'was_impossible': False}),\n",
       " Prediction(uid=1000227, iid=29396738, r_ui=5, est=3.973597576619425, details={'was_impossible': False}),\n",
       " Prediction(uid=1000227, iid=17167166, r_ui=3, est=4.380262119280783, details={'was_impossible': False}),\n",
       " Prediction(uid=1000227, iid=6, r_ui=4, est=4.723192630104646, details={'was_impossible': False}),\n",
       " Prediction(uid=1000230, iid=31123261, r_ui=4, est=3.620168431639369, details={'was_impossible': False}),\n",
       " Prediction(uid=1000230, iid=7093952, r_ui=4, est=3.8829773454430447, details={'was_impossible': False}),\n",
       " Prediction(uid=1000230, iid=32075671, r_ui=5, est=4.546601848860534, details={'was_impossible': False}),\n",
       " Prediction(uid=1000230, iid=32905343, r_ui=3, est=3.5783423926546134, details={'was_impossible': False}),\n",
       " Prediction(uid=1000230, iid=33984056, r_ui=3, est=3.545065697782961, details={'was_impossible': False}),\n",
       " Prediction(uid=1000230, iid=34114362, r_ui=4, est=3.697993819299318, details={'was_impossible': False}),\n",
       " Prediction(uid=1000230, iid=23282249, r_ui=4, est=3.488279279590358, details={'was_impossible': False}),\n",
       " Prediction(uid=1000230, iid=29749085, r_ui=4, est=4.081295892468608, details={'was_impossible': False}),\n",
       " Prediction(uid=1000230, iid=33843362, r_ui=3, est=3.436802963230796, details={'was_impossible': False}),\n",
       " Prediction(uid=1000231, iid=8909152, r_ui=3, est=3.573421706450084, details={'was_impossible': False}),\n",
       " Prediction(uid=1000231, iid=28390369, r_ui=3, est=3.0347213115382954, details={'was_impossible': False}),\n",
       " Prediction(uid=1000234, iid=15745753, r_ui=4, est=4.429962889653506, details={'was_impossible': False}),\n",
       " Prediction(uid=1000234, iid=9440324, r_ui=4, est=3.6738333123188283, details={'was_impossible': False}),\n",
       " Prediction(uid=1000236, iid=30687041, r_ui=3, est=3.8258461136952002, details={'was_impossible': False}),\n",
       " Prediction(uid=1000236, iid=30555488, r_ui=4, est=3.588590336227802, details={'was_impossible': False}),\n",
       " Prediction(uid=1000236, iid=30244626, r_ui=3, est=3.780599939048699, details={'was_impossible': False}),\n",
       " Prediction(uid=1000236, iid=30259893, r_ui=3, est=3.833037184556254, details={'was_impossible': False}),\n",
       " Prediction(uid=1000236, iid=32388712, r_ui=3, est=3.382378238549817, details={'was_impossible': False}),\n",
       " Prediction(uid=1000236, iid=29906980, r_ui=3, est=3.3132064626369275, details={'was_impossible': False}),\n",
       " Prediction(uid=1000239, iid=25251757, r_ui=3, est=3.5416781273620397, details={'was_impossible': False}),\n",
       " Prediction(uid=1000239, iid=28390369, r_ui=2, est=4.006059009282636, details={'was_impossible': False}),\n",
       " Prediction(uid=1000239, iid=8492768, r_ui=4, est=4.002818004931334, details={'was_impossible': False}),\n",
       " Prediction(uid=1000239, iid=33984056, r_ui=4, est=4.0446438401137055, details={'was_impossible': False}),\n",
       " Prediction(uid=1000239, iid=12262741, r_ui=3, est=3.910323608966984, details={'was_impossible': False}),\n",
       " Prediction(uid=1000239, iid=18007564, r_ui=5, est=4.4395321529065885, details={'was_impossible': False}),\n",
       " Prediction(uid=1000240, iid=25663717, r_ui=4, est=3.52236345724996, details={'was_impossible': False}),\n",
       " Prediction(uid=1000240, iid=12088102, r_ui=5, est=3.9385371349122087, details={'was_impossible': False}),\n",
       " Prediction(uid=1000240, iid=30724132, r_ui=3, est=3.6992604338409887, details={'was_impossible': False}),\n",
       " Prediction(uid=1000254, iid=23731881, r_ui=5, est=4.656122446280371, details={'was_impossible': False}),\n",
       " Prediction(uid=1000254, iid=853510, r_ui=4, est=4.189367443267346, details={'was_impossible': False}),\n",
       " Prediction(uid=1000256, iid=38315, r_ui=4, est=4.072005952402725, details={'was_impossible': False}),\n",
       " Prediction(uid=1000266, iid=31309, r_ui=3, est=3.2570268586291937, details={'was_impossible': False}),\n",
       " Prediction(uid=1000266, iid=900682, r_ui=5, est=3.101516444529338, details={'was_impossible': False}),\n",
       " Prediction(uid=1000266, iid=386286, r_ui=4, est=3.0915698658369313, details={'was_impossible': False}),\n",
       " Prediction(uid=1000266, iid=267102, r_ui=4, est=3.432402011897631, details={'was_impossible': False}),\n",
       " Prediction(uid=1000266, iid=34, r_ui=5, est=3.33114798876367, details={'was_impossible': False}),\n",
       " Prediction(uid=1000266, iid=15241, r_ui=5, est=3.658343519656368, details={'was_impossible': False}),\n",
       " Prediction(uid=1000266, iid=18512, r_ui=5, est=3.570575720135691, details={'was_impossible': False}),\n",
       " Prediction(uid=1000269, iid=32388712, r_ui=4, est=3.3281133840606882, details={'was_impossible': False}),\n",
       " Prediction(uid=1000269, iid=31451186, r_ui=4, est=4.068327944163637, details={'was_impossible': False}),\n",
       " Prediction(uid=1000269, iid=6345760, r_ui=4, est=3.4870593911877474, details={'was_impossible': False}),\n",
       " Prediction(uid=1000269, iid=30688435, r_ui=5, est=3.6838664938418386, details={'was_impossible': False}),\n",
       " Prediction(uid=1000277, iid=28321033, r_ui=2, est=3.0118540200547725, details={'was_impossible': False}),\n",
       " Prediction(uid=1000277, iid=15777797, r_ui=5, est=2.6907835896068364, details={'was_impossible': False}),\n",
       " Prediction(uid=1000277, iid=228221, r_ui=2, est=2.665137843879833, details={'was_impossible': False}),\n",
       " Prediction(uid=1000277, iid=16431, r_ui=2, est=2.6021799852288545, details={'was_impossible': False}),\n",
       " Prediction(uid=1000277, iid=32439, r_ui=2, est=3.079584603061064, details={'was_impossible': False}),\n",
       " Prediction(uid=1000277, iid=17137623, r_ui=5, est=3.4866933711540042, details={'was_impossible': False}),\n",
       " Prediction(uid=1000277, iid=32445, r_ui=1, est=3.0173826215163455, details={'was_impossible': False}),\n",
       " Prediction(uid=1000292, iid=141526, r_ui=4, est=3.357644990594755, details={'was_impossible': False}),\n",
       " Prediction(uid=1000292, iid=51606, r_ui=5, est=3.3773863491761986, details={'was_impossible': False}),\n",
       " Prediction(uid=1000292, iid=50466, r_ui=3, est=3.46276263379916, details={'was_impossible': False}),\n",
       " Prediction(uid=1000292, iid=21027, r_ui=4, est=3.700643475959813, details={'was_impossible': False}),\n",
       " Prediction(uid=1000292, iid=12395, r_ui=1, est=3.657197925577212, details={'was_impossible': False}),\n",
       " Prediction(uid=1000292, iid=4796, r_ui=5, est=3.5822633122086702, details={'was_impossible': False}),\n",
       " Prediction(uid=1000293, iid=20170404, r_ui=4, est=3.9845756985697363, details={'was_impossible': False}),\n",
       " Prediction(uid=1000293, iid=960, r_ui=4, est=3.829115227088034, details={'was_impossible': False}),\n",
       " Prediction(uid=1000299, iid=13891, r_ui=5, est=4.38557891516527, details={'was_impossible': False}),\n",
       " Prediction(uid=1000299, iid=15704307, r_ui=5, est=4.853247661278214, details={'was_impossible': False}),\n",
       " Prediction(uid=1000299, iid=140974, r_ui=5, est=4.082321799537553, details={'was_impossible': False}),\n",
       " Prediction(uid=1000301, iid=178788, r_ui=5, est=4.103246644446726, details={'was_impossible': False}),\n",
       " Prediction(uid=1000305, iid=23301545, r_ui=5, est=3.964220472746761, details={'was_impossible': False}),\n",
       " Prediction(uid=1000306, iid=27274207, r_ui=4, est=3.883578171463929, details={'was_impossible': False}),\n",
       " Prediction(uid=1000319, iid=15731779, r_ui=5, est=4.77671060109814, details={'was_impossible': False}),\n",
       " Prediction(uid=1000319, iid=11918, r_ui=4, est=4.105052349940396, details={'was_impossible': False}),\n",
       " Prediction(uid=1000319, iid=13596809, r_ui=5, est=4.933851509200929, details={'was_impossible': False}),\n",
       " Prediction(uid=1000319, iid=17607850, r_ui=5, est=4.231998063621446, details={'was_impossible': False}),\n",
       " Prediction(uid=1000319, iid=20448515, r_ui=4, est=4.738905214741798, details={'was_impossible': False}),\n",
       " Prediction(uid=1000319, iid=17607848, r_ui=5, est=4.484711510029691, details={'was_impossible': False}),\n",
       " Prediction(uid=1000319, iid=15283043, r_ui=4, est=4.15427333689515, details={'was_impossible': False}),\n",
       " Prediction(uid=1000321, iid=23341862, r_ui=4, est=4.255026895852295, details={'was_impossible': False}),\n",
       " Prediction(uid=1000324, iid=3657138, r_ui=2, est=2.9790140122204343, details={'was_impossible': False}),\n",
       " Prediction(uid=1000324, iid=13619, r_ui=4, est=4.2365977540735145, details={'was_impossible': False}),\n",
       " Prediction(uid=1000324, iid=23395680, r_ui=5, est=3.952483243268855, details={'was_impossible': False}),\n",
       " Prediction(uid=1000324, iid=13618, r_ui=4, est=4.277983812842288, details={'was_impossible': False}),\n",
       " Prediction(uid=1000325, iid=19101283, r_ui=4, est=4.15649966630803, details={'was_impossible': False}),\n",
       " Prediction(uid=1000325, iid=9572203, r_ui=5, est=4.035617214690338, details={'was_impossible': False}),\n",
       " Prediction(uid=1000325, iid=16160797, r_ui=4, est=3.9239328150851587, details={'was_impossible': False}),\n",
       " Prediction(uid=1000325, iid=11777020, r_ui=4, est=3.67067222764144, details={'was_impossible': False}),\n",
       " Prediction(uid=1000325, iid=1991039, r_ui=4, est=3.4031129328606413, details={'was_impossible': False}),\n",
       " Prediction(uid=1000327, iid=1885, r_ui=5, est=4.379645800682981, details={'was_impossible': False}),\n",
       " Prediction(uid=1000327, iid=7613, r_ui=5, est=4.3094245338259825, details={'was_impossible': False}),\n",
       " Prediction(uid=1000333, iid=25740412, r_ui=4, est=3.4746202978788467, details={'was_impossible': False}),\n",
       " Prediction(uid=1000335, iid=30688013, r_ui=5, est=4.273495780206346, details={'was_impossible': False}),\n",
       " Prediction(uid=1000335, iid=8752885, r_ui=4, est=3.270317080022899, details={'was_impossible': False}),\n",
       " Prediction(uid=1000339, iid=28187230, r_ui=4, est=3.9213931516501335, details={'was_impossible': False}),\n",
       " Prediction(uid=1000339, iid=149267, r_ui=5, est=4.408548691122636, details={'was_impossible': False}),\n",
       " Prediction(uid=1000339, iid=43615, r_ui=3, est=4.5151602814844995, details={'was_impossible': False}),\n",
       " Prediction(uid=1000339, iid=14942, r_ui=3, est=4.553549109299141, details={'was_impossible': False}),\n",
       " Prediction(uid=1000339, iid=32692, r_ui=4, est=3.794144989407723, details={'was_impossible': False}),\n",
       " Prediction(uid=1000349, iid=83143, r_ui=5, est=4.522471518873687, details={'was_impossible': False}),\n",
       " Prediction(uid=1000354, iid=38447, r_ui=4, est=3.5081098306656497, details={'was_impossible': False}),\n",
       " Prediction(uid=1000354, iid=16160797, r_ui=4, est=3.3192069989550754, details={'was_impossible': False}),\n",
       " Prediction(uid=1000354, iid=18214414, r_ui=3, est=3.607733103983845, details={'was_impossible': False}),\n",
       " Prediction(uid=1000354, iid=28006120, r_ui=3, est=3.178637473039533, details={'was_impossible': False}),\n",
       " Prediction(uid=1000354, iid=18081809, r_ui=4, est=2.93991399350099, details={'was_impossible': False}),\n",
       " Prediction(uid=1000360, iid=131359, r_ui=4, est=4.107685322814993, details={'was_impossible': False}),\n",
       " Prediction(uid=1000361, iid=1, r_ui=4, est=4.794352658904702, details={'was_impossible': False}),\n",
       " Prediction(uid=1000367, iid=10507293, r_ui=4, est=4.5366947429513145, details={'was_impossible': False}),\n",
       " Prediction(uid=1000367, iid=16248068, r_ui=5, est=4.331342370871013, details={'was_impossible': False}),\n",
       " Prediction(uid=1000367, iid=18172471, r_ui=5, est=4.438620113125854, details={'was_impossible': False}),\n",
       " Prediction(uid=1000376, iid=7445, r_ui=5, est=4.5432548148306475, details={'was_impossible': False}),\n",
       " Prediction(uid=1000376, iid=16178, r_ui=5, est=4.111338251051064, details={'was_impossible': False}),\n",
       " Prediction(uid=1000376, iid=649514, r_ui=5, est=4.317085335361118, details={'was_impossible': False}),\n",
       " Prediction(uid=1000376, iid=6318426, r_ui=5, est=4.218442732537937, details={'was_impossible': False}),\n",
       " Prediction(uid=1000376, iid=3678651, r_ui=4, est=3.8573355286772615, details={'was_impossible': False}),\n",
       " Prediction(uid=1000376, iid=9004758, r_ui=4, est=3.9525714886270906, details={'was_impossible': False}),\n",
       " Prediction(uid=1000376, iid=12862611, r_ui=5, est=4.4179913061271385, details={'was_impossible': False}),\n",
       " Prediction(uid=1000376, iid=32075671, r_ui=5, est=4.867622883776076, details={'was_impossible': False}),\n",
       " Prediction(uid=1000376, iid=136814, r_ui=5, est=4.513235174286209, details={'was_impossible': False}),\n",
       " Prediction(uid=1000376, iid=202372, r_ui=5, est=4.186156034246159, details={'was_impossible': False}),\n",
       " Prediction(uid=1000376, iid=830502, r_ui=5, est=4.222156597584278, details={'was_impossible': False}),\n",
       " Prediction(uid=1000381, iid=3030779, r_ui=5, est=4.281712371814916, details={'was_impossible': False}),\n",
       " Prediction(uid=1000381, iid=31360, r_ui=5, est=3.9208802077780085, details={'was_impossible': False}),\n",
       " Prediction(uid=1000383, iid=1662160, r_ui=4, est=3.8009275620344214, details={'was_impossible': False}),\n",
       " Prediction(uid=1000383, iid=46756, r_ui=4, est=3.8829842339318565, details={'was_impossible': False}),\n",
       " Prediction(uid=1000383, iid=7670, r_ui=4, est=2.9150825157199804, details={'was_impossible': False}),\n",
       " Prediction(uid=1000383, iid=67035, r_ui=3, est=3.515648036392848, details={'was_impossible': False}),\n",
       " Prediction(uid=1000383, iid=813214, r_ui=3, est=3.330013829054085, details={'was_impossible': False}),\n",
       " Prediction(uid=1000385, iid=18003300, r_ui=1, est=3.2716127830829413, details={'was_impossible': False}),\n",
       " Prediction(uid=1000385, iid=22151696, r_ui=1, est=3.1521846297118437, details={'was_impossible': False}),\n",
       " Prediction(uid=1000385, iid=6900, r_ui=3, est=3.7675849061740356, details={'was_impossible': False}),\n",
       " Prediction(uid=1000385, iid=5297, r_ui=4, est=3.7241581058911195, details={'was_impossible': False}),\n",
       " Prediction(uid=1000385, iid=18619684, r_ui=4, est=3.939686535456306, details={'was_impossible': False}),\n",
       " Prediction(uid=1000387, iid=6496815, r_ui=4, est=3.935115539889098, details={'was_impossible': False}),\n",
       " Prediction(uid=1000387, iid=16142053, r_ui=3, est=3.9654805674116265, details={'was_impossible': False}),\n",
       " Prediction(uid=1000387, iid=983546, r_ui=4, est=3.590060836535098, details={'was_impossible': False}),\n",
       " Prediction(uid=1000387, iid=43615, r_ui=3, est=3.4005226692166963, details={'was_impossible': False}),\n",
       " Prediction(uid=1000387, iid=3398625, r_ui=3, est=3.39411850964306, details={'was_impossible': False}),\n",
       " Prediction(uid=1000387, iid=9625608, r_ui=3, est=3.8163681322702216, details={'was_impossible': False}),\n",
       " Prediction(uid=1000387, iid=365672, r_ui=4, est=3.0704546106766677, details={'was_impossible': False}),\n",
       " Prediction(uid=1000388, iid=27126, r_ui=4, est=3.6426045734478096, details={'was_impossible': False}),\n",
       " Prediction(uid=1000390, iid=23692271, r_ui=5, est=4.707436629074932, details={'was_impossible': False}),\n",
       " Prediction(uid=1000390, iid=32560066, r_ui=5, est=4.482071076410263, details={'was_impossible': False}),\n",
       " Prediction(uid=1000393, iid=34484, r_ui=4, est=3.5626352703765805, details={'was_impossible': False}),\n",
       " Prediction(uid=1000393, iid=890, r_ui=2, est=3.509564004988596, details={'was_impossible': False}),\n",
       " Prediction(uid=1000393, iid=2956, r_ui=2, est=3.261472290434331, details={'was_impossible': False}),\n",
       " Prediction(uid=1000393, iid=17199504, r_ui=2, est=2.6643924109158394, details={'was_impossible': False}),\n",
       " Prediction(uid=1000393, iid=17791477, r_ui=3, est=3.262210901059062, details={'was_impossible': False}),\n",
       " Prediction(uid=1000393, iid=23203106, r_ui=1, est=2.9838284363675207, details={'was_impossible': False}),\n",
       " Prediction(uid=1000393, iid=92303, r_ui=4, est=3.7385204971168244, details={'was_impossible': False}),\n",
       " Prediction(uid=1000399, iid=687278, r_ui=5, est=3.949847565929931, details={'was_impossible': False}),\n",
       " Prediction(uid=1000399, iid=34114362, r_ui=4, est=3.7194118261867297, details={'was_impossible': False}),\n",
       " Prediction(uid=1000403, iid=33280872, r_ui=4, est=4.01014548930167, details={'was_impossible': False}),\n",
       " Prediction(uid=1000403, iid=30364190, r_ui=5, est=3.6156168134499937, details={'was_impossible': False}),\n",
       " Prediction(uid=1000403, iid=27362503, r_ui=4, est=4.3268260032844745, details={'was_impossible': False}),\n",
       " Prediction(uid=1000404, iid=8490112, r_ui=4, est=3.887038214757473, details={'was_impossible': False}),\n",
       " Prediction(uid=1000404, iid=2696, r_ui=4, est=3.669406161676036, details={'was_impossible': False}),\n",
       " Prediction(uid=1000405, iid=17802747, r_ui=3, est=3.577797329985708, details={'was_impossible': False}),\n",
       " Prediction(uid=1000405, iid=8667848, r_ui=5, est=3.9707790340302975, details={'was_impossible': False}),\n",
       " Prediction(uid=1000405, iid=7076706, r_ui=4, est=3.4509985652573842, details={'was_impossible': False}),\n",
       " Prediction(uid=1000417, iid=14185, r_ui=5, est=3.924115333059942, details={'was_impossible': False}),\n",
       " Prediction(uid=1000443, iid=31450852, r_ui=3, est=3.9260244094308567, details={'was_impossible': False}),\n",
       " Prediction(uid=1000443, iid=12666103, r_ui=3, est=4.294258792234404, details={'was_impossible': False}),\n",
       " Prediction(uid=1000443, iid=28962906, r_ui=5, est=3.5994779658359737, details={'was_impossible': False}),\n",
       " Prediction(uid=1000447, iid=43615, r_ui=5, est=3.517797800309899, details={'was_impossible': False}),\n",
       " Prediction(uid=1000447, iid=23277298, r_ui=4, est=3.8091741511342376, details={'was_impossible': False}),\n",
       " Prediction(uid=1000449, iid=34273236, r_ui=5, est=4.878380026088204, details={'was_impossible': False}),\n",
       " Prediction(uid=1000449, iid=18693763, r_ui=3, est=4.0679480668579675, details={'was_impossible': False}),\n",
       " Prediction(uid=1000449, iid=28187230, r_ui=3, est=3.609996622478567, details={'was_impossible': False}),\n",
       " Prediction(uid=1000456, iid=32326398, r_ui=4, est=3.79699966523322, details={'was_impossible': False}),\n",
       " Prediction(uid=1000457, iid=18798983, r_ui=2, est=3.4277202498610633, details={'was_impossible': False}),\n",
       " Prediction(uid=1000457, iid=16096824, r_ui=4, est=3.310586872642106, details={'was_impossible': False}),\n",
       " Prediction(uid=1000457, iid=27213168, r_ui=5, est=3.488435143440976, details={'was_impossible': False}),\n",
       " Prediction(uid=1000457, iid=28587957, r_ui=5, est=3.2828986584987834, details={'was_impossible': False}),\n",
       " Prediction(uid=1000457, iid=25988934, r_ui=4, est=3.3010578910699166, details={'was_impossible': False}),\n",
       " Prediction(uid=1000457, iid=27161156, r_ui=3, est=3.740771029149422, details={'was_impossible': False}),\n",
       " Prediction(uid=1000457, iid=26893819, r_ui=5, est=3.5124087711496657, details={'was_impossible': False}),\n",
       " Prediction(uid=1000457, iid=25883848, r_ui=5, est=4.023731717665831, details={'was_impossible': False}),\n",
       " Prediction(uid=1000457, iid=23308084, r_ui=2, est=3.456691971130951, details={'was_impossible': False}),\n",
       " Prediction(uid=1000457, iid=17927395, r_ui=5, est=3.971056021109178, details={'was_impossible': False}),\n",
       " Prediction(uid=1000457, iid=1420, r_ui=3, est=3.2411295853456945, details={'was_impossible': False}),\n",
       " Prediction(uid=1000463, iid=24856069, r_ui=3, est=3.2999699022383213, details={'was_impossible': False}),\n",
       " Prediction(uid=1000463, iid=500657, r_ui=3, est=2.7716697635460648, details={'was_impossible': False}),\n",
       " Prediction(uid=1000463, iid=27066722, r_ui=3, est=3.150110389481674, details={'was_impossible': False}),\n",
       " Prediction(uid=1000463, iid=374494, r_ui=3, est=3.1756064278626175, details={'was_impossible': False}),\n",
       " Prediction(uid=1000463, iid=12998057, r_ui=4, est=3.1422635108918047, details={'was_impossible': False}),\n",
       " Prediction(uid=1000463, iid=853510, r_ui=3, est=3.2593029844325687, details={'was_impossible': False}),\n",
       " Prediction(uid=1000463, iid=31125554, r_ui=2, est=3.4357281415126373, details={'was_impossible': False}),\n",
       " Prediction(uid=1000463, iid=30259041, r_ui=4, est=3.349905187636375, details={'was_impossible': False}),\n",
       " Prediction(uid=1000463, iid=61904, r_ui=3, est=3.2808228588465975, details={'was_impossible': False}),\n",
       " Prediction(uid=1000466, iid=830502, r_ui=4, est=4.097234756502438, details={'was_impossible': False}),\n",
       " Prediction(uid=1000466, iid=34466922, r_ui=4, est=3.9733383395952466, details={'was_impossible': False}),\n",
       " Prediction(uid=1000476, iid=39999, r_ui=5, est=3.7478958750789357, details={'was_impossible': False}),\n",
       " Prediction(uid=1000476, iid=18869970, r_ui=3, est=3.5718677747278615, details={'was_impossible': False}),\n",
       " Prediction(uid=1000480, iid=23174274, r_ui=4, est=3.65982587457405, details={'was_impossible': False}),\n",
       " Prediction(uid=1000480, iid=14384, r_ui=5, est=3.756067559703917, details={'was_impossible': False}),\n",
       " Prediction(uid=1000480, iid=84133, r_ui=3, est=3.7819150728608997, details={'was_impossible': False}),\n",
       " Prediction(uid=1000480, iid=33151805, r_ui=3, est=3.601700848629653, details={'was_impossible': False}),\n",
       " Prediction(uid=1000480, iid=28187230, r_ui=3, est=3.227379411899444, details={'was_impossible': False}),\n",
       " Prediction(uid=1000480, iid=68783, r_ui=4, est=3.4208814466606907, details={'was_impossible': False}),\n",
       " Prediction(uid=1000480, iid=983567, r_ui=3, est=3.5781619205880038, details={'was_impossible': False}),\n",
       " Prediction(uid=1000480, iid=23272028, r_ui=4, est=3.483536785629748, details={'was_impossible': False}),\n",
       " Prediction(uid=1000480, iid=29396738, r_ui=5, est=3.903587792889583, details={'was_impossible': False}),\n",
       " Prediction(uid=1000480, iid=27507850, r_ui=4, est=3.896493265750932, details={'was_impossible': False}),\n",
       " Prediction(uid=1000480, iid=17316770, r_ui=4, est=3.576823976084163, details={'was_impossible': False}),\n",
       " Prediction(uid=1000480, iid=8694522, r_ui=3, est=3.501424616255228, details={'was_impossible': False}),\n",
       " Prediction(uid=1000480, iid=13597728, r_ui=4, est=2.8749684072609503, details={'was_impossible': False}),\n",
       " Prediction(uid=1000495, iid=6310782, r_ui=4, est=3.3749171492377745, details={'was_impossible': False}),\n",
       " Prediction(uid=1000495, iid=96908, r_ui=4, est=3.7726440792639035, details={'was_impossible': False}),\n",
       " Prediction(uid=1000495, iid=52635, r_ui=3, est=3.6489858743021184, details={'was_impossible': False}),\n",
       " Prediction(uid=1000495, iid=4961048, r_ui=3, est=3.7364808070663496, details={'was_impossible': False}),\n",
       " Prediction(uid=1000499, iid=20698530, r_ui=4, est=4.101093798833435, details={'was_impossible': False}),\n",
       " Prediction(uid=1000499, iid=17838528, r_ui=3, est=4.136845539218003, details={'was_impossible': False}),\n",
       " Prediction(uid=1000499, iid=6584188, r_ui=3, est=3.8000246346255726, details={'was_impossible': False}),\n",
       " Prediction(uid=1000499, iid=8680278, r_ui=3, est=3.491237550803925, details={'was_impossible': False}),\n",
       " Prediction(uid=1000499, iid=15749186, r_ui=4, est=4.039473390981412, details={'was_impossible': False}),\n",
       " Prediction(uid=1000503, iid=13206900, r_ui=5, est=4.884226835423997, details={'was_impossible': False}),\n",
       " Prediction(uid=1000504, iid=5907, r_ui=4, est=4.261654786966169, details={'was_impossible': False}),\n",
       " Prediction(uid=1000504, iid=1885, r_ui=5, est=4.2811744753300935, details={'was_impossible': False}),\n",
       " Prediction(uid=1000504, iid=48855, r_ui=5, est=4.246082995292342, details={'was_impossible': False}),\n",
       " Prediction(uid=1000505, iid=627055, r_ui=4, est=4.5735744255142, details={'was_impossible': False}),\n",
       " Prediction(uid=1000505, iid=2164457, r_ui=3, est=3.6697648269371212, details={'was_impossible': False}),\n",
       " Prediction(uid=1000506, iid=22567184, r_ui=5, est=4.111118582476735, details={'was_impossible': False}),\n",
       " Prediction(uid=1000506, iid=34128219, r_ui=5, est=3.705770273784041, details={'was_impossible': False}),\n",
       " Prediction(uid=1000506, iid=12725, r_ui=3, est=3.348123632869757, details={'was_impossible': False}),\n",
       " Prediction(uid=1000506, iid=386286, r_ui=4, est=3.4604393186407316, details={'was_impossible': False}),\n",
       " Prediction(uid=1000506, iid=22567177, r_ui=5, est=4.207258620853968, details={'was_impossible': False}),\n",
       " Prediction(uid=1000515, iid=33280872, r_ui=5, est=4.367527585838392, details={'was_impossible': False}),\n",
       " Prediction(uid=1000515, iid=24763621, r_ui=4, est=4.196589758556612, details={'was_impossible': False}),\n",
       " Prediction(uid=1000515, iid=18660447, r_ui=4, est=4.296217359917361, details={'was_impossible': False}),\n",
       " Prediction(uid=1000515, iid=22522202, r_ui=5, est=3.3758421604930824, details={'was_impossible': False}),\n",
       " Prediction(uid=1000515, iid=26135139, r_ui=3, est=3.1643536099580505, details={'was_impossible': False}),\n",
       " Prediction(uid=1000515, iid=35439987, r_ui=4, est=4.035139443132869, details={'was_impossible': False}),\n",
       " Prediction(uid=1000515, iid=6261522, r_ui=4, est=4.440300032275631, details={'was_impossible': False}),\n",
       " Prediction(uid=1000515, iid=23766634, r_ui=5, est=4.58168642093916, details={'was_impossible': False}),\n",
       " Prediction(uid=1000519, iid=11408650, r_ui=5, est=4.336253892647306, details={'was_impossible': False}),\n",
       " Prediction(uid=1000519, iid=10194157, r_ui=5, est=4.618031381606988, details={'was_impossible': False}),\n",
       " Prediction(uid=1000519, iid=27272506, r_ui=3, est=4.07061676348176, details={'was_impossible': False}),\n",
       " Prediction(uid=1000519, iid=23766634, r_ui=5, est=4.885293908832715, details={'was_impossible': False}),\n",
       " Prediction(uid=1000519, iid=35504431, r_ui=4, est=4.502773226273989, details={'was_impossible': False}),\n",
       " Prediction(uid=1000519, iid=136251, r_ui=5, est=5, details={'was_impossible': False}),\n",
       " Prediction(uid=1000521, iid=34121119, r_ui=5, est=4.3925451653618985, details={'was_impossible': False}),\n",
       " Prediction(uid=1000521, iid=29056083, r_ui=4, est=4.746307279267828, details={'was_impossible': False}),\n",
       " Prediction(uid=1000521, iid=19161852, r_ui=5, est=5, details={'was_impossible': False}),\n",
       " Prediction(uid=1000522, iid=29844228, r_ui=2, est=2.954241831980348, details={'was_impossible': False}),\n",
       " Prediction(uid=1000524, iid=28187, r_ui=5, est=4.0318975297040875, details={'was_impossible': False}),\n",
       " Prediction(uid=1000535, iid=30288, r_ui=3, est=3.13318809249186, details={'was_impossible': False}),\n",
       " Prediction(uid=1000535, iid=33984056, r_ui=5, est=3.6111278491082013, details={'was_impossible': False}),\n",
       " Prediction(uid=1000538, iid=6349050, r_ui=3, est=3.5748088898067905, details={'was_impossible': False}),\n",
       " Prediction(uid=1000538, iid=2657, r_ui=4, est=4.526905168843854, details={'was_impossible': False}),\n",
       " Prediction(uid=1000547, iid=21863558, r_ui=4, est=3.6614737099579786, details={'was_impossible': False}),\n",
       " Prediction(uid=1000560, iid=35247769, r_ui=5, est=4.342639688878556, details={'was_impossible': False}),\n",
       " Prediction(uid=1000562, iid=23846013, r_ui=5, est=4.073371362551078, details={'was_impossible': False}),\n",
       " Prediction(uid=1000562, iid=17331518, r_ui=3, est=3.16368086753114, details={'was_impossible': False}),\n",
       " Prediction(uid=1000562, iid=7600924, r_ui=4, est=3.9674770917514586, details={'was_impossible': False}),\n",
       " Prediction(uid=1000562, iid=6644117, r_ui=3, est=3.684795149235407, details={'was_impossible': False}),\n",
       " Prediction(uid=1000566, iid=18589656, r_ui=4, est=4.636421680247863, details={'was_impossible': False}),\n",
       " Prediction(uid=1000569, iid=1, r_ui=5, est=5, details={'was_impossible': False}),\n",
       " Prediction(uid=1000569, iid=8356487, r_ui=4, est=4.303064207678408, details={'was_impossible': False}),\n",
       " Prediction(uid=1000569, iid=30312891, r_ui=5, est=4.7916942129247335, details={'was_impossible': False}),\n",
       " Prediction(uid=1000569, iid=7171637, r_ui=4, est=4.202160158114575, details={'was_impossible': False}),\n",
       " Prediction(uid=1000570, iid=28407, r_ui=5, est=4.569114330235626, details={'was_impossible': False}),\n",
       " Prediction(uid=1000570, iid=17150, r_ui=4, est=4.47295497144433, details={'was_impossible': False}),\n",
       " Prediction(uid=1000573, iid=7445, r_ui=5, est=4.251238274493592, details={'was_impossible': False}),\n",
       " Prediction(uid=1000578, iid=32956365, r_ui=4, est=3.9394618302352904, details={'was_impossible': False}),\n",
       " Prediction(uid=1000578, iid=28458598, r_ui=3, est=3.692858551220762, details={'was_impossible': False}),\n",
       " Prediction(uid=1000578, iid=32075671, r_ui=4, est=4.7877273913309155, details={'was_impossible': False}),\n",
       " Prediction(uid=1000581, iid=35504431, r_ui=3, est=3.9832881970851153, details={'was_impossible': False}),\n",
       " Prediction(uid=1000581, iid=10964693, r_ui=5, est=3.359873688441457, details={'was_impossible': False}),\n",
       " Prediction(uid=1000581, iid=26247008, r_ui=4, est=3.8853207131143, details={'was_impossible': False}),\n",
       " Prediction(uid=1000581, iid=21413662, r_ui=3, est=4.392022372888514, details={'was_impossible': False}),\n",
       " Prediction(uid=1000581, iid=17707648, r_ui=5, est=4.043868470364645, details={'was_impossible': False}),\n",
       " Prediction(uid=1000581, iid=35606560, r_ui=4, est=4.170204007712449, details={'was_impossible': False}),\n",
       " Prediction(uid=1000581, iid=18656036, r_ui=4, est=3.4343831771685784, details={'was_impossible': False}),\n",
       " Prediction(uid=1000581, iid=9969571, r_ui=4, est=4.577265532595061, details={'was_impossible': False}),\n",
       " Prediction(uid=1000581, iid=34114362, r_ui=4, est=3.9832881970851153, details={'was_impossible': False}),\n",
       " Prediction(uid=1000581, iid=34594982, r_ui=5, est=4.140670939484137, details={'was_impossible': False}),\n",
       " Prediction(uid=1000581, iid=13152194, r_ui=5, est=4.608775974456084, details={'was_impossible': False}),\n",
       " Prediction(uid=1000581, iid=18667945, r_ui=4, est=3.6802581813388437, details={'was_impossible': False}),\n",
       " Prediction(uid=1000583, iid=33785151, r_ui=5, est=4.24085322930082, details={'was_impossible': False}),\n",
       " Prediction(uid=1000583, iid=34879754, r_ui=4, est=4.404159815030352, details={'was_impossible': False}),\n",
       " Prediction(uid=1000583, iid=25629831, r_ui=5, est=4.59159321422523, details={'was_impossible': False}),\n",
       " Prediction(uid=1000586, iid=30263, r_ui=5, est=4.450110552422724, details={'was_impossible': False}),\n",
       " Prediction(uid=1000587, iid=30165203, r_ui=4, est=4.266170142545097, details={'was_impossible': False}),\n",
       " Prediction(uid=1000587, iid=33916024, r_ui=4, est=4.2437589575580885, details={'was_impossible': False}),\n",
       " Prediction(uid=1000593, iid=41865, r_ui=5, est=3.4676499724432785, details={'was_impossible': False}),\n",
       " Prediction(uid=1000596, iid=184419, r_ui=3, est=3.091607168534666, details={'was_impossible': False}),\n",
       " Prediction(uid=1000596, iid=7884255, r_ui=3, est=3.169771185136179, details={'was_impossible': False}),\n",
       " Prediction(uid=1000596, iid=13497, r_ui=4, est=3.451056947760485, details={'was_impossible': False}),\n",
       " Prediction(uid=1000596, iid=24782, r_ui=4, est=3.5088805076986636, details={'was_impossible': False}),\n",
       " Prediction(uid=1000601, iid=30201327, r_ui=3, est=3.576893576023504, details={'was_impossible': False}),\n",
       " Prediction(uid=1000601, iid=27824826, r_ui=5, est=3.881173566933872, details={'was_impossible': False}),\n",
       " Prediction(uid=1000604, iid=23093367, r_ui=4, est=4.454559443160148, details={'was_impossible': False}),\n",
       " Prediction(uid=1000607, iid=28204534, r_ui=3, est=3.8847840077557914, details={'was_impossible': False}),\n",
       " Prediction(uid=1000607, iid=28260524, r_ui=4, est=3.006824447826778, details={'was_impossible': False}),\n",
       " Prediction(uid=1000607, iid=16068905, r_ui=5, est=4.157799568521061, details={'was_impossible': False}),\n",
       " Prediction(uid=1000607, iid=25639296, r_ui=3, est=3.999468310346355, details={'was_impossible': False}),\n",
       " Prediction(uid=1000607, iid=21793182, r_ui=4, est=3.980660506639776, details={'was_impossible': False}),\n",
       " Prediction(uid=1000607, iid=17331819, r_ui=4, est=3.5444041520730494, details={'was_impossible': False}),\n",
       " Prediction(uid=1000618, iid=29056083, r_ui=5, est=3.657074441846038, details={'was_impossible': False}),\n",
       " Prediction(uid=1000620, iid=13526165, r_ui=3, est=3.6963913468887477, details={'was_impossible': False}),\n",
       " Prediction(uid=1000622, iid=46787, r_ui=4, est=3.812391662404185, details={'was_impossible': False}),\n",
       " Prediction(uid=1000622, iid=25152052, r_ui=4, est=3.5308133988917763, details={'was_impossible': False}),\n",
       " Prediction(uid=1000622, iid=23513349, r_ui=4, est=3.9643039009171193, details={'was_impossible': False}),\n",
       " Prediction(uid=1000622, iid=11168, r_ui=3, est=3.2508925870916165, details={'was_impossible': False}),\n",
       " Prediction(uid=1000623, iid=25150798, r_ui=4, est=4.190463589662193, details={'was_impossible': False}),\n",
       " Prediction(uid=1000623, iid=25852870, r_ui=1, est=3.884524213479543, details={'was_impossible': False}),\n",
       " Prediction(uid=1000623, iid=32148570, r_ui=5, est=4.294018066289301, details={'was_impossible': False}),\n",
       " Prediction(uid=1000623, iid=20758175, r_ui=3, est=3.5329149000446542, details={'was_impossible': False}),\n",
       " Prediction(uid=1000623, iid=22328546, r_ui=2, est=3.4382225720968727, details={'was_impossible': False}),\n",
       " Prediction(uid=1000624, iid=7445, r_ui=5, est=3.925561976711137, details={'was_impossible': False}),\n",
       " Prediction(uid=1000631, iid=18583825, r_ui=4, est=4.0665709750580135, details={'was_impossible': False}),\n",
       " Prediction(uid=1000634, iid=33151805, r_ui=4, est=3.7193731828785386, details={'was_impossible': False}),\n",
       " Prediction(uid=1000637, iid=28260587, r_ui=5, est=4.765883480909979, details={'was_impossible': False}),\n",
       " Prediction(uid=1000637, iid=18006496, r_ui=5, est=4.738181083745966, details={'was_impossible': False}),\n",
       " Prediction(uid=1000637, iid=23437156, r_ui=5, est=4.569073533706142, details={'was_impossible': False}),\n",
       " Prediction(uid=1000637, iid=31450852, r_ui=5, est=4.06762646319719, details={'was_impossible': False}),\n",
       " Prediction(uid=1000638, iid=7959473, r_ui=4, est=4.364167855905758, details={'was_impossible': False}),\n",
       " Prediction(uid=1000639, iid=41706, r_ui=5, est=4.469462608139496, details={'was_impossible': False}),\n",
       " Prediction(uid=1000642, iid=4645, r_ui=4, est=3.178629984976617, details={'was_impossible': False}),\n",
       " Prediction(uid=1000642, iid=46170, r_ui=4, est=3.7572291546398087, details={'was_impossible': False}),\n",
       " Prediction(uid=1000643, iid=22318578, r_ui=4, est=4.463713436714361, details={'was_impossible': False}),\n",
       " Prediction(uid=1000643, iid=28587957, r_ui=4, est=4.4977416899366585, details={'was_impossible': False}),\n",
       " Prediction(uid=1000643, iid=35504431, r_ui=4, est=3.9962738149832275, details={'was_impossible': False}),\n",
       " Prediction(uid=1000649, iid=23168277, r_ui=4, est=4.441574195118437, details={'was_impossible': False}),\n",
       " Prediction(uid=1000649, iid=29496453, r_ui=3, est=4.606330933341601, details={'was_impossible': False}),\n",
       " Prediction(uid=1000650, iid=770265, r_ui=5, est=4.390004560674779, details={'was_impossible': False}),\n",
       " Prediction(uid=1000650, iid=9516, r_ui=4, est=4.120092656106979, details={'was_impossible': False}),\n",
       " Prediction(uid=1000651, iid=47212, r_ui=4, est=3.744975691315506, details={'was_impossible': False}),\n",
       " Prediction(uid=1000651, iid=91477, r_ui=4, est=3.7041405568640275, details={'was_impossible': False}),\n",
       " Prediction(uid=1000651, iid=91476, r_ui=4, est=3.7997224428468956, details={'was_impossible': False}),\n",
       " Prediction(uid=1000651, iid=91478, r_ui=4, est=3.9971249133842894, details={'was_impossible': False}),\n",
       " Prediction(uid=1000651, iid=91479, r_ui=4, est=3.9545943776312793, details={'was_impossible': False}),\n",
       " Prediction(uid=1000651, iid=15732549, r_ui=3, est=3.6378303704740076, details={'was_impossible': False}),\n",
       " Prediction(uid=1000657, iid=17332968, r_ui=4, est=3.9126281883414347, details={'was_impossible': False}),\n",
       " Prediction(uid=1000657, iid=26247008, r_ui=3, est=3.3047751099813936, details={'was_impossible': False}),\n",
       " Prediction(uid=1000657, iid=25781157, r_ui=3, est=3.382354312250405, details={'was_impossible': False}),\n",
       " Prediction(uid=1000659, iid=375802, r_ui=2, est=4.121926611201249, details={'was_impossible': False}),\n",
       " Prediction(uid=1000659, iid=7493, r_ui=4, est=3.955567025974429, details={'was_impossible': False}),\n",
       " Prediction(uid=1000663, iid=32283133, r_ui=4, est=4.081217880085291, details={'was_impossible': False}),\n",
       " Prediction(uid=1000669, iid=28962906, r_ui=3, est=3.729021688601866, details={'was_impossible': False}),\n",
       " Prediction(uid=1000669, iid=28954189, r_ui=4, est=4.122145233150691, details={'was_impossible': False}),\n",
       " Prediction(uid=1000669, iid=30065, r_ui=3, est=3.7784575602057466, details={'was_impossible': False}),\n",
       " Prediction(uid=1000669, iid=34076952, r_ui=5, est=3.9505563538968245, details={'was_impossible': False}),\n",
       " Prediction(uid=1000669, iid=138397, r_ui=5, est=3.5998827425022117, details={'was_impossible': False}),\n",
       " Prediction(uid=1000669, iid=138398, r_ui=4, est=3.9873165175004024, details={'was_impossible': False}),\n",
       " Prediction(uid=1000670, iid=38447, r_ui=4, est=4.104113634144231, details={'was_impossible': False}),\n",
       " Prediction(uid=1000671, iid=28763485, r_ui=5, est=3.782897389168167, details={'was_impossible': False}),\n",
       " Prediction(uid=1000671, iid=32075671, r_ui=5, est=4.372715326698272, details={'was_impossible': False}),\n",
       " Prediction(uid=1000671, iid=29396738, r_ui=2, est=3.8274298254681427, details={'was_impossible': False}),\n",
       " Prediction(uid=1000671, iid=30724132, r_ui=3, est=3.9397987007835114, details={'was_impossible': False}),\n",
       " Prediction(uid=1000671, iid=5, r_ui=5, est=4.309033965464006, details={'was_impossible': False}),\n",
       " Prediction(uid=1000673, iid=16096824, r_ui=3, est=4.100061808977603, details={'was_impossible': False}),\n",
       " Prediction(uid=1000673, iid=23309634, r_ui=3, est=4.183651783978119, details={'was_impossible': False}),\n",
       " Prediction(uid=1000673, iid=23492533, r_ui=4, est=3.51172943919282, details={'was_impossible': False}),\n",
       " Prediction(uid=1000674, iid=9516, r_ui=4, est=3.6175177643301684, details={'was_impossible': False}),\n",
       " Prediction(uid=1000674, iid=24800, r_ui=5, est=3.0353251097345892, details={'was_impossible': False}),\n",
       " Prediction(uid=1000674, iid=23453112, r_ui=4, est=3.5654718607439406, details={'was_impossible': False}),\n",
       " Prediction(uid=1000674, iid=13932, r_ui=4, est=3.992668457317606, details={'was_impossible': False}),\n",
       " Prediction(uid=1000674, iid=15811545, r_ui=4, est=3.793236739314209, details={'was_impossible': False}),\n",
       " Prediction(uid=1000674, iid=15547, r_ui=1, est=3.376803115375299, details={'was_impossible': False}),\n",
       " Prediction(uid=1000674, iid=9517, r_ui=4, est=3.657406380054155, details={'was_impossible': False}),\n",
       " Prediction(uid=1000674, iid=19351043, r_ui=5, est=3.9265555883616865, details={'was_impossible': False}),\n",
       " Prediction(uid=1000674, iid=22642472, r_ui=3, est=3.6372025587973935, details={'was_impossible': False}),\n",
       " Prediction(uid=1000674, iid=1268479, r_ui=4, est=3.516398400645045, details={'was_impossible': False}),\n",
       " Prediction(uid=1000674, iid=179780, r_ui=2, est=3.859778392266647, details={'was_impossible': False}),\n",
       " Prediction(uid=1000674, iid=23019294, r_ui=4, est=3.6860419284440673, details={'was_impossible': False}),\n",
       " Prediction(uid=1000680, iid=19161835, r_ui=5, est=4.261718962208279, details={'was_impossible': False}),\n",
       " Prediction(uid=1000680, iid=84553, r_ui=5, est=4.009815703406444, details={'was_impossible': False}),\n",
       " Prediction(uid=1000680, iid=33845132, r_ui=5, est=4.242012368452429, details={'was_impossible': False}),\n",
       " Prediction(uid=1000680, iid=27426044, r_ui=5, est=4.605178591160996, details={'was_impossible': False}),\n",
       " Prediction(uid=1000680, iid=46755, r_ui=2, est=3.552259169759745, details={'was_impossible': False}),\n",
       " Prediction(uid=1000680, iid=34612420, r_ui=5, est=3.7948083634623604, details={'was_impossible': False}),\n",
       " Prediction(uid=1000680, iid=34928122, r_ui=5, est=4.150268694833704, details={'was_impossible': False}),\n",
       " Prediction(uid=1000681, iid=4894, r_ui=3, est=3.4541065546117524, details={'was_impossible': False}),\n",
       " Prediction(uid=1000681, iid=132709, r_ui=2, est=3.874198371257941, details={'was_impossible': False}),\n",
       " Prediction(uid=1000681, iid=4865, r_ui=5, est=4.076358587164111, details={'was_impossible': False}),\n",
       " Prediction(uid=1000681, iid=1052, r_ui=5, est=3.743584548379003, details={'was_impossible': False}),\n",
       " Prediction(uid=1000681, iid=98897, r_ui=4, est=3.798264418320534, details={'was_impossible': False}),\n",
       " Prediction(uid=1000681, iid=81922, r_ui=4, est=4.056272929201156, details={'was_impossible': False}),\n",
       " Prediction(uid=1000681, iid=18872437, r_ui=4, est=4.265015495727649, details={'was_impossible': False}),\n",
       " Prediction(uid=1000685, iid=32051912, r_ui=4, est=4.329527767100948, details={'was_impossible': False}),\n",
       " Prediction(uid=1000685, iid=25734248, r_ui=3, est=3.2257230421142356, details={'was_impossible': False}),\n",
       " Prediction(uid=1000685, iid=31434883, r_ui=5, est=4.385099495371553, details={'was_impossible': False}),\n",
       " Prediction(uid=1000688, iid=2213661, r_ui=4, est=4.130760810121142, details={'was_impossible': False}),\n",
       " Prediction(uid=1000688, iid=10201216, r_ui=4, est=3.9387755153065935, details={'was_impossible': False}),\n",
       " Prediction(uid=1000688, iid=13538873, r_ui=3, est=3.7402259063333205, details={'was_impossible': False}),\n",
       " Prediction(uid=1000688, iid=27422533, r_ui=5, est=4.883276094907048, details={'was_impossible': False}),\n",
       " Prediction(uid=1000688, iid=6115138, r_ui=4, est=4.0258671652855105, details={'was_impossible': False}),\n",
       " Prediction(uid=1000690, iid=35074316, r_ui=5, est=4.915055232102886, details={'was_impossible': False}),\n",
       " Prediction(uid=1000690, iid=35478658, r_ui=5, est=4.915055232102886, details={'was_impossible': False}),\n",
       " Prediction(uid=1000690, iid=20705702, r_ui=5, est=5, details={'was_impossible': False}),\n",
       " Prediction(uid=1000690, iid=22303684, r_ui=5, est=5, details={'was_impossible': False}),\n",
       " Prediction(uid=1000690, iid=27422533, r_ui=5, est=5, details={'was_impossible': False}),\n",
       " Prediction(uid=1000690, iid=23206497, r_ui=4, est=5, details={'was_impossible': False}),\n",
       " Prediction(uid=1000690, iid=30172212, r_ui=5, est=5, details={'was_impossible': False}),\n",
       " Prediction(uid=1000694, iid=11732634, r_ui=4, est=3.706740621803848, details={'was_impossible': False}),\n",
       " Prediction(uid=1000694, iid=11003, r_ui=4, est=4.016237465605584, details={'was_impossible': False}),\n",
       " Prediction(uid=1000694, iid=2292384, r_ui=3, est=3.5273144539205488, details={'was_impossible': False}),\n",
       " Prediction(uid=1000694, iid=7023554, r_ui=4, est=3.6057604729384534, details={'was_impossible': False}),\n",
       " Prediction(uid=1000694, iid=6425, r_ui=4, est=3.9164255006412656, details={'was_impossible': False}),\n",
       " Prediction(uid=1000694, iid=40331, r_ui=3, est=3.9798338332439798, details={'was_impossible': False}),\n",
       " Prediction(uid=1000694, iid=3507, r_ui=5, est=4.152616951966394, details={'was_impossible': False}),\n",
       " Prediction(uid=1000694, iid=40317, r_ui=4, est=3.919427011315446, details={'was_impossible': False}),\n",
       " Prediction(uid=1000694, iid=14740588, r_ui=4, est=3.6655332223627997, details={'was_impossible': False}),\n",
       " Prediction(uid=1000695, iid=13477676, r_ui=2, est=4.063602680630379, details={'was_impossible': False}),\n",
       " Prediction(uid=1000695, iid=18075234, r_ui=4, est=4.055559078996005, details={'was_impossible': False}),\n",
       " Prediction(uid=1000695, iid=32075671, r_ui=5, est=4.451602261336785, details={'was_impossible': False}),\n",
       " Prediction(uid=1000696, iid=31931941, r_ui=4, est=4.392369321840354, details={'was_impossible': False}),\n",
       " Prediction(uid=1000704, iid=24280, r_ui=4, est=4.482556848206407, details={'was_impossible': False}),\n",
       " Prediction(uid=1000712, iid=62291, r_ui=5, est=4.593349439954779, details={'was_impossible': False}),\n",
       " Prediction(uid=1000712, iid=10572, r_ui=5, est=4.313304894964315, details={'was_impossible': False}),\n",
       " Prediction(uid=1000712, iid=13496, r_ui=5, est=4.395118206222414, details={'was_impossible': False}),\n",
       " Prediction(uid=1000719, iid=186074, r_ui=5, est=4.374311117828391, details={'was_impossible': False}),\n",
       " Prediction(uid=1000721, iid=28587957, r_ui=5, est=4.757789035140351, details={'was_impossible': False}),\n",
       " Prediction(uid=1000721, iid=29864343, r_ui=5, est=4.587592062333263, details={'was_impossible': False}),\n",
       " Prediction(uid=1000721, iid=6469165, r_ui=5, est=4.734240393367922, details={'was_impossible': False}),\n",
       " Prediction(uid=1000721, iid=32722510, r_ui=4, est=3.5430014527852682, details={'was_impossible': False}),\n",
       " Prediction(uid=1000726, iid=58962, r_ui=4, est=4.299937896238752, details={'was_impossible': False}),\n",
       " Prediction(uid=1000727, iid=24889275, r_ui=5, est=4.528193367838141, details={'was_impossible': False}),\n",
       " Prediction(uid=1000729, iid=3867, r_ui=5, est=4.218453637960589, details={'was_impossible': False}),\n",
       " Prediction(uid=1000739, iid=28587957, r_ui=5, est=4.280700193278429, details={'was_impossible': False}),\n",
       " Prediction(uid=1000739, iid=27161156, r_ui=4, est=3.645907010679813, details={'was_impossible': False}),\n",
       " Prediction(uid=1000742, iid=27712, r_ui=5, est=4.456762321022167, details={'was_impossible': False}),\n",
       " Prediction(uid=1000743, iid=31817749, r_ui=4, est=3.7572265505415534, details={'was_impossible': False}),\n",
       " Prediction(uid=1000743, iid=26863057, r_ui=4, est=3.908667051296141, details={'was_impossible': False}),\n",
       " Prediction(uid=1000744, iid=29579, r_ui=2, est=3.361102263144226, details={'was_impossible': False}),\n",
       " Prediction(uid=1000744, iid=4981, r_ui=5, est=3.4735559514118375, details={'was_impossible': False}),\n",
       " Prediction(uid=1000747, iid=15704459, r_ui=3, est=4.169792213652029, details={'was_impossible': False}),\n",
       " Prediction(uid=1000747, iid=23437156, r_ui=3, est=4.280292023122135, details={'was_impossible': False}),\n",
       " Prediction(uid=1000747, iid=25812109, r_ui=5, est=3.9304655439167497, details={'was_impossible': False}),\n",
       " Prediction(uid=1000747, iid=32905343, r_ui=5, est=3.6117266060450746, details={'was_impossible': False}),\n",
       " Prediction(uid=1000747, iid=28006120, r_ui=3, est=3.681701251540255, details={'was_impossible': False}),\n",
       " Prediction(uid=1000747, iid=33163378, r_ui=4, est=4.281107802741027, details={'was_impossible': False}),\n",
       " Prediction(uid=1000747, iid=30038906, r_ui=4, est=4.133757381777647, details={'was_impossible': False}),\n",
       " Prediction(uid=1000747, iid=17167166, r_ui=4, est=4.157270176728607, details={'was_impossible': False}),\n",
       " Prediction(uid=1000747, iid=8909152, r_ui=3, est=4.088271451061006, details={'was_impossible': False}),\n",
       " Prediction(uid=1000753, iid=28600081, r_ui=4, est=3.72288888597506, details={'was_impossible': False}),\n",
       " Prediction(uid=1000753, iid=15993203, r_ui=3, est=3.4684026406722, details={'was_impossible': False}),\n",
       " Prediction(uid=1000753, iid=22489107, r_ui=3, est=3.8133062857280593, details={'was_impossible': False}),\n",
       " Prediction(uid=1000753, iid=297249, r_ui=3, est=3.6418434997459306, details={'was_impossible': False}),\n",
       " Prediction(uid=1000753, iid=13253276, r_ui=4, est=4.096736275892889, details={'was_impossible': False}),\n",
       " Prediction(uid=1000753, iid=11178225, r_ui=4, est=4.02535603168005, details={'was_impossible': False}),\n",
       " Prediction(uid=1000753, iid=25614492, r_ui=5, est=4.145851104636131, details={'was_impossible': False}),\n",
       " Prediction(uid=1000753, iid=448873, r_ui=3, est=3.4730543406143473, details={'was_impossible': False}),\n",
       " Prediction(uid=1000753, iid=10626594, r_ui=4, est=3.7365412909225544, details={'was_impossible': False}),\n",
       " Prediction(uid=1000753, iid=28962906, r_ui=3, est=3.7974409250940324, details={'was_impossible': False}),\n",
       " Prediction(uid=1000753, iid=18296030, r_ui=5, est=3.9344680232932974, details={'was_impossible': False}),\n",
       " Prediction(uid=1000754, iid=30091914, r_ui=2, est=3.6904116591889586, details={'was_impossible': False}),\n",
       " Prediction(uid=1000754, iid=30688435, r_ui=4, est=3.1639925553809483, details={'was_impossible': False}),\n",
       " Prediction(uid=1000759, iid=31360, r_ui=4, est=4.156103415976951, details={'was_impossible': False}),\n",
       " Prediction(uid=1000759, iid=9598, r_ui=4, est=4.0579934445969, details={'was_impossible': False}),\n",
       " Prediction(uid=1000759, iid=43615, r_ui=4, est=3.7814881664091335, details={'was_impossible': False}),\n",
       " Prediction(uid=1000759, iid=231562, r_ui=5, est=4.110621754636366, details={'was_impossible': False}),\n",
       " Prediction(uid=1000759, iid=18656030, r_ui=5, est=4.522430888105265, details={'was_impossible': False}),\n",
       " Prediction(uid=1000761, iid=25474173, r_ui=4, est=4.128079479674372, details={'was_impossible': False}),\n",
       " Prediction(uid=1000761, iid=27071490, r_ui=4, est=4.675505357746293, details={'was_impossible': False}),\n",
       " Prediction(uid=1000773, iid=7728889, r_ui=4, est=4.148328366306166, details={'was_impossible': False}),\n",
       " Prediction(uid=1000773, iid=16060716, r_ui=3, est=4.266930304680737, details={'was_impossible': False}),\n",
       " Prediction(uid=1000773, iid=24921954, r_ui=4, est=3.7886538084705155, details={'was_impossible': False}),\n",
       " Prediction(uid=1000773, iid=31450852, r_ui=5, est=3.9610575970899675, details={'was_impossible': False}),\n",
       " Prediction(uid=1000773, iid=33151805, r_ui=3, est=3.7100763153624565, details={'was_impossible': False}),\n",
       " Prediction(uid=1000773, iid=9361589, r_ui=4, est=4.075153553319655, details={'was_impossible': False}),\n",
       " Prediction(uid=1000774, iid=32283133, r_ui=4, est=4.280984124992893, details={'was_impossible': False}),\n",
       " Prediction(uid=1000774, iid=29772863, r_ui=5, est=4.2860829920737835, details={'was_impossible': False}),\n",
       " Prediction(uid=1000774, iid=13206900, r_ui=4, est=4.6301270542366835, details={'was_impossible': False}),\n",
       " Prediction(uid=1000777, iid=35478658, r_ui=5, est=4.586988803343906, details={'was_impossible': False}),\n",
       " Prediction(uid=1000778, iid=10592, r_ui=4, est=3.8029172235198647, details={'was_impossible': False}),\n",
       " Prediction(uid=1000778, iid=29844228, r_ui=3, est=3.7928721993152665, details={'was_impossible': False}),\n",
       " Prediction(uid=1000779, iid=7171637, r_ui=4, est=3.7446213641993396, details={'was_impossible': False}),\n",
       " Prediction(uid=1000779, iid=10025305, r_ui=5, est=4.146344898942424, details={'was_impossible': False}),\n",
       " Prediction(uid=1000779, iid=43615, r_ui=2, est=3.4522461331979564, details={'was_impossible': False}),\n",
       " Prediction(uid=1000779, iid=10869746, r_ui=3, est=3.6465233181986987, details={'was_impossible': False}),\n",
       " Prediction(uid=1000779, iid=22557272, r_ui=4, est=3.8516516685626825, details={'was_impossible': False}),\n",
       " Prediction(uid=1000779, iid=24445517, r_ui=5, est=4.036363757833027, details={'was_impossible': False}),\n",
       " Prediction(uid=1000779, iid=34324605, r_ui=4, est=3.8749255844919017, details={'was_impossible': False}),\n",
       " Prediction(uid=1000783, iid=16299, r_ui=3, est=3.635347275501872, details={'was_impossible': False}),\n",
       " Prediction(uid=1000783, iid=15790837, r_ui=3, est=3.376155909077726, details={'was_impossible': False}),\n",
       " Prediction(uid=1000783, iid=11447921, r_ui=4, est=3.2258492132678036, details={'was_impossible': False}),\n",
       " Prediction(uid=1000785, iid=31434883, r_ui=4, est=3.9139863535077435, details={'was_impossible': False}),\n",
       " Prediction(uid=1000791, iid=17061, r_ui=4, est=4.126109730378587, details={'was_impossible': False}),\n",
       " Prediction(uid=1000794, iid=15704307, r_ui=5, est=4.442104941572528, details={'was_impossible': False}),\n",
       " Prediction(uid=1000794, iid=29939230, r_ui=5, est=4.356226101865179, details={'was_impossible': False}),\n",
       " Prediction(uid=1000794, iid=16074758, r_ui=4, est=4.288001637957704, details={'was_impossible': False}),\n",
       " Prediction(uid=1000799, iid=107790, r_ui=5, est=4.231999169695071, details={'was_impossible': False}),\n",
       " Prediction(uid=1000801, iid=6137154, r_ui=4, est=4.106092903563663, details={'was_impossible': False}),\n",
       " Prediction(uid=1000801, iid=5107, r_ui=4, est=3.1884006732073544, details={'was_impossible': False}),\n",
       " Prediction(uid=1000802, iid=31931941, r_ui=5, est=4.880718652054026, details={'was_impossible': False}),\n",
       " Prediction(uid=1000802, iid=7736182, r_ui=5, est=4.834252858017486, details={'was_impossible': False}),\n",
       " Prediction(uid=1000802, iid=30256248, r_ui=5, est=4.480928890565534, details={'was_impossible': False}),\n",
       " Prediction(uid=1000806, iid=29938032, r_ui=4, est=3.885218669112783, details={'was_impossible': False}),\n",
       " Prediction(uid=1000806, iid=32905343, r_ui=3, est=3.9848760961644003, details={'was_impossible': False}),\n",
       " Prediction(uid=1000806, iid=29981261, r_ui=4, est=4.020679449427087, details={'was_impossible': False}),\n",
       " Prediction(uid=1000807, iid=27833670, r_ui=5, est=4.037172125078651, details={'was_impossible': False}),\n",
       " Prediction(uid=1000807, iid=4981, r_ui=4, est=3.6919700970827267, details={'was_impossible': False}),\n",
       " Prediction(uid=1000809, iid=28664920, r_ui=4, est=4.130541004250743, details={'was_impossible': False}),\n",
       " Prediction(uid=1000809, iid=11331421, r_ui=5, est=3.9582297651779856, details={'was_impossible': False}),\n",
       " Prediction(uid=1000809, iid=27406704, r_ui=3, est=4.247900091759724, details={'was_impossible': False}),\n",
       " Prediction(uid=1000809, iid=29618105, r_ui=3, est=4.359423071254574, details={'was_impossible': False}),\n",
       " Prediction(uid=1000809, iid=25614492, r_ui=4, est=4.478747589353976, details={'was_impossible': False}),\n",
       " Prediction(uid=1000809, iid=27071490, r_ui=5, est=4.610493378157516, details={'was_impossible': False}),\n",
       " Prediction(uid=1000825, iid=136251, r_ui=5, est=4.723842165578083, details={'was_impossible': False}),\n",
       " Prediction(uid=1000825, iid=33986447, r_ui=5, est=4.412581683259719, details={'was_impossible': False}),\n",
       " Prediction(uid=1000828, iid=34272565, r_ui=4, est=4.026166887284294, details={'was_impossible': False}),\n",
       " Prediction(uid=1000829, iid=6, r_ui=5, est=4.8156788894129, details={'was_impossible': False}),\n",
       " Prediction(uid=1000830, iid=12326644, r_ui=4, est=3.860275672757565, details={'was_impossible': False}),\n",
       " Prediction(uid=1000838, iid=998, r_ui=5, est=3.4690442561192087, details={'was_impossible': False}),\n",
       " Prediction(uid=1000843, iid=28204545, r_ui=4, est=4.014292891644252, details={'was_impossible': False}),\n",
       " Prediction(uid=1000843, iid=830502, r_ui=4, est=4.01249119906915, details={'was_impossible': False}),\n",
       " Prediction(uid=1000845, iid=13642, r_ui=4, est=3.6524271766164245, details={'was_impossible': False}),\n",
       " Prediction(uid=1000845, iid=76620, r_ui=4, est=4.294057966965312, details={'was_impossible': False}),\n",
       " Prediction(uid=1000845, iid=6294, r_ui=5, est=4.197448946629186, details={'was_impossible': False}),\n",
       " Prediction(uid=1000846, iid=23500254, r_ui=5, est=4.475089998522487, details={'was_impossible': False}),\n",
       " Prediction(uid=1000846, iid=93426, r_ui=4, est=3.545838268596102, details={'was_impossible': False}),\n",
       " Prediction(uid=1000846, iid=14942, r_ui=3, est=3.731757847936632, details={'was_impossible': False}),\n",
       " Prediction(uid=1000846, iid=306364, r_ui=3, est=3.6192024970423122, details={'was_impossible': False}),\n",
       " Prediction(uid=1000846, iid=30165203, r_ui=3, est=3.4588255527375242, details={'was_impossible': False}),\n",
       " Prediction(uid=1000849, iid=5805, r_ui=5, est=4.191174688433441, details={'was_impossible': False}),\n",
       " Prediction(uid=1000849, iid=70535, r_ui=5, est=4.4151927667023045, details={'was_impossible': False}),\n",
       " Prediction(uid=1000852, iid=6339664, r_ui=3, est=3.542722767349966, details={'was_impossible': False}),\n",
       " Prediction(uid=1000852, iid=7791997, r_ui=2, est=3.688541919683299, details={'was_impossible': False}),\n",
       " Prediction(uid=1000852, iid=10637766, r_ui=3, est=3.939514007743762, details={'was_impossible': False}),\n",
       " Prediction(uid=1000852, iid=6801582, r_ui=4, est=3.5691983099201448, details={'was_impossible': False}),\n",
       " Prediction(uid=1000852, iid=12751687, r_ui=4, est=3.6915612474408865, details={'was_impossible': False}),\n",
       " Prediction(uid=1000852, iid=18692431, r_ui=5, est=3.8971219618840682, details={'was_impossible': False}),\n",
       " Prediction(uid=1000852, iid=7626278, r_ui=4, est=3.839658397181978, details={'was_impossible': False}),\n",
       " Prediction(uid=1000852, iid=5056084, r_ui=4, est=3.1292185844208036, details={'was_impossible': False}),\n",
       " Prediction(uid=1000861, iid=34128219, r_ui=5, est=3.9825483627714324, details={'was_impossible': False}),\n",
       " Prediction(uid=1000861, iid=35504431, r_ui=4, est=4.215702407108883, details={'was_impossible': False}),\n",
       " Prediction(uid=1000861, iid=8649656, r_ui=5, est=4.2248179074910555, details={'was_impossible': False}),\n",
       " Prediction(uid=1000866, iid=6521868, r_ui=2, est=3.7804949682139064, details={'was_impossible': False}),\n",
       " Prediction(uid=1000866, iid=17346698, r_ui=5, est=4.358456016065814, details={'was_impossible': False}),\n",
       " Prediction(uid=1000866, iid=12957410, r_ui=4, est=2.852177347425011, details={'was_impossible': False}),\n",
       " Prediction(uid=1000866, iid=133518, r_ui=4, est=3.979582328675988, details={'was_impossible': False}),\n",
       " Prediction(uid=1000875, iid=329866, r_ui=3, est=3.8703227420699577, details={'was_impossible': False}),\n",
       " Prediction(uid=1000875, iid=1772910, r_ui=5, est=4.173956990552063, details={'was_impossible': False}),\n",
       " Prediction(uid=1000876, iid=8789318, r_ui=4, est=3.946329342818963, details={'was_impossible': False}),\n",
       " Prediction(uid=1000876, iid=10345708, r_ui=4, est=3.770621411055436, details={'was_impossible': False}),\n",
       " Prediction(uid=1000879, iid=45181, r_ui=5, est=4.390850582766809, details={'was_impossible': False}),\n",
       " Prediction(uid=1000880, iid=39031, r_ui=4, est=4.412286947951503, details={'was_impossible': False}),\n",
       " Prediction(uid=1000881, iid=19063, r_ui=5, est=4.861153354531193, details={'was_impossible': False}),\n",
       " Prediction(uid=1000883, iid=281881, r_ui=5, est=3.917916756152546, details={'was_impossible': False}),\n",
       " Prediction(uid=1000892, iid=10917, r_ui=5, est=4.466966811783738, details={'was_impossible': False}),\n",
       " Prediction(uid=1000892, iid=15808466, r_ui=2, est=4.044052716488607, details={'was_impossible': False}),\n",
       " Prediction(uid=1000892, iid=10835994, r_ui=5, est=3.8576313128343505, details={'was_impossible': False}),\n",
       " Prediction(uid=1000892, iid=3367956, r_ui=4, est=4.363662503511829, details={'was_impossible': False}),\n",
       " Prediction(uid=1000892, iid=27406704, r_ui=5, est=4.660944040970917, details={'was_impossible': False}),\n",
       " Prediction(uid=1000892, iid=9919, r_ui=5, est=4.5403629479441605, details={'was_impossible': False}),\n",
       " Prediction(uid=1000892, iid=60931, r_ui=5, est=4.518831605629562, details={'was_impossible': False}),\n",
       " Prediction(uid=1000892, iid=17262100, r_ui=4, est=3.983928367943474, details={'was_impossible': False}),\n",
       " Prediction(uid=1000892, iid=17333223, r_ui=2, est=4.225804449097083, details={'was_impossible': False}),\n",
       " Prediction(uid=1000892, iid=6668467, r_ui=5, est=4.780822066386136, details={'was_impossible': False}),\n",
       " Prediction(uid=1000892, iid=1618, r_ui=5, est=3.987737726883962, details={'was_impossible': False}),\n",
       " Prediction(uid=1000896, iid=15811545, r_ui=4, est=4.577665508653999, details={'was_impossible': False}),\n",
       " Prediction(uid=1000897, iid=30969741, r_ui=2, est=4.039924474505889, details={'was_impossible': False}),\n",
       " Prediction(uid=1000897, iid=16429619, r_ui=4, est=3.646739744666343, details={'was_impossible': False}),\n",
       " Prediction(uid=1000897, iid=10194157, r_ui=3, est=3.8321788606681007, details={'was_impossible': False}),\n",
       " Prediction(uid=1000897, iid=14061955, r_ui=4, est=3.710287678853334, details={'was_impossible': False}),\n",
       " Prediction(uid=1000897, iid=17199504, r_ui=5, est=4.0536956663757895, details={'was_impossible': False}),\n",
       " Prediction(uid=1000897, iid=46777, r_ui=4, est=3.1993809804941202, details={'was_impossible': False}),\n",
       " Prediction(uid=1000897, iid=28962906, r_ui=3, est=3.6899096582425734, details={'was_impossible': False}),\n",
       " Prediction(uid=1000897, iid=28512486, r_ui=3, est=3.7795738935874477, details={'was_impossible': False}),\n",
       " Prediction(uid=1000901, iid=22557272, r_ui=3, est=3.877842507351814, details={'was_impossible': False}),\n",
       " Prediction(uid=1000902, iid=1241, r_ui=2, est=2.9204307947794814, details={'was_impossible': False}),\n",
       " Prediction(uid=1000905, iid=1067, r_ui=4, est=4.176242515750728, details={'was_impossible': False}),\n",
       " Prediction(uid=1000911, iid=12291438, r_ui=3, est=3.376931788602329, details={'was_impossible': False}),\n",
       " Prediction(uid=1000911, iid=17297487, r_ui=3, est=3.978988723669797, details={'was_impossible': False}),\n",
       " Prediction(uid=1000911, iid=30555488, r_ui=3, est=4.291753064121907, details={'was_impossible': False}),\n",
       " Prediction(uid=1000911, iid=10706934, r_ui=5, est=3.116649643949422, details={'was_impossible': False}),\n",
       " Prediction(uid=1000911, iid=14061955, r_ui=4, est=4.232944050959763, details={'was_impossible': False}),\n",
       " Prediction(uid=1000911, iid=31938356, r_ui=4, est=3.633826509112709, details={'was_impossible': False}),\n",
       " Prediction(uid=1000911, iid=14061957, r_ui=4, est=4.372506900586231, details={'was_impossible': False}),\n",
       " Prediction(uid=1000911, iid=31820148, r_ui=4, est=4.147339630575493, details={'was_impossible': False}),\n",
       " Prediction(uid=1000911, iid=32075662, r_ui=5, est=4.0317573295883395, details={'was_impossible': False}),\n",
       " Prediction(uid=1000911, iid=23437156, r_ui=5, est=4.589160319893586, details={'was_impossible': False}),\n",
       " Prediction(uid=1000911, iid=10194157, r_ui=3, est=4.28962908076566, details={'was_impossible': False}),\n",
       " Prediction(uid=1000911, iid=7728889, r_ui=5, est=4.340359106935632, details={'was_impossible': False}),\n",
       " Prediction(uid=1000915, iid=6611038, r_ui=4, est=3.8316109184699414, details={'was_impossible': False}),\n",
       " Prediction(uid=1000915, iid=31931941, r_ui=5, est=4.078622174556388, details={'was_impossible': False}),\n",
       " Prediction(uid=1000915, iid=421129, r_ui=4, est=3.7632356224767785, details={'was_impossible': False}),\n",
       " Prediction(uid=1000915, iid=15711341, r_ui=4, est=3.6547480559159666, details={'was_impossible': False}),\n",
       " Prediction(uid=1000915, iid=28458598, r_ui=5, est=3.5434091001025534, details={'was_impossible': False}),\n",
       " Prediction(uid=1000915, iid=30237061, r_ui=3, est=3.7673986297231923, details={'was_impossible': False}),\n",
       " Prediction(uid=1000915, iid=22055262, r_ui=3, est=4.080913215814246, details={'was_impossible': False}),\n",
       " Prediction(uid=1000915, iid=11029842, r_ui=4, est=3.7569988867254196, details={'was_impossible': False}),\n",
       " Prediction(uid=1000915, iid=263145, r_ui=3, est=3.901784703084259, details={'was_impossible': False}),\n",
       " Prediction(uid=1000915, iid=263173, r_ui=2, est=3.8885721715015156, details={'was_impossible': False}),\n",
       " Prediction(uid=1000915, iid=21457243, r_ui=4, est=3.8753714795845604, details={'was_impossible': False}),\n",
       " Prediction(uid=1000915, iid=22062202, r_ui=4, est=4.15362243021157, details={'was_impossible': False}),\n",
       " Prediction(uid=1000916, iid=15790873, r_ui=4, est=3.0311375483718135, details={'was_impossible': False}),\n",
       " Prediction(uid=1000916, iid=13104080, r_ui=3, est=4.010162521252094, details={'was_impossible': False}),\n",
       " Prediction(uid=1000916, iid=33280872, r_ui=3, est=3.9292840196481187, details={'was_impossible': False}),\n",
       " Prediction(uid=1000916, iid=25116648, r_ui=3, est=3.869454724074838, details={'was_impossible': False}),\n",
       " Prediction(uid=1000919, iid=5509920, r_ui=5, est=4.352177147434713, details={'was_impossible': False}),\n",
       " Prediction(uid=1000919, iid=2120932, r_ui=5, est=4.423190028696547, details={'was_impossible': False}),\n",
       " Prediction(uid=1000919, iid=4556058, r_ui=5, est=4.693351517877272, details={'was_impossible': False}),\n",
       " Prediction(uid=1000926, iid=12985, r_ui=4, est=2.7519758865182036, details={'was_impossible': False}),\n",
       " Prediction(uid=1000929, iid=13455485, r_ui=4, est=4.113455853717915, details={'was_impossible': False}),\n",
       " Prediction(uid=1000930, iid=998, r_ui=4, est=3.862957126818217, details={'was_impossible': False}),\n",
       " Prediction(uid=1000934, iid=7445, r_ui=4, est=4.143687166750944, details={'was_impossible': False}),\n",
       " Prediction(uid=1000934, iid=15622, r_ui=4, est=4.103950109737426, details={'was_impossible': False}),\n",
       " Prediction(uid=1000934, iid=13206900, r_ui=4, est=4.467862971017993, details={'was_impossible': False}),\n",
       " Prediction(uid=1000934, iid=3431, r_ui=1, est=3.6422491239388077, details={'was_impossible': False}),\n",
       " Prediction(uid=1000934, iid=248596, r_ui=4, est=4.045525218485494, details={'was_impossible': False}),\n",
       " Prediction(uid=1000934, iid=761381, r_ui=3, est=3.4631803974982045, details={'was_impossible': False}),\n",
       " Prediction(uid=1000935, iid=25100, r_ui=4, est=4.106851196664656, details={'was_impossible': False}),\n",
       " Prediction(uid=1000935, iid=19063, r_ui=5, est=4.449822873907653, details={'was_impossible': False}),\n",
       " Prediction(uid=1000942, iid=32497573, r_ui=3, est=4.12374698132984, details={'was_impossible': False}),\n",
       " Prediction(uid=1000946, iid=31196, r_ui=4, est=3.9065627510815815, details={'was_impossible': False}),\n",
       " Prediction(uid=1000947, iid=13555073, r_ui=4, est=3.573187685484841, details={'was_impossible': False}),\n",
       " Prediction(uid=1000947, iid=31450752, r_ui=3, est=2.942428408520917, details={'was_impossible': False}),\n",
       " Prediction(uid=1000947, iid=853510, r_ui=4, est=3.5557038568313812, details={'was_impossible': False}),\n",
       " Prediction(uid=1000947, iid=22521951, r_ui=4, est=3.2669202099932284, details={'was_impossible': False}),\n",
       " Prediction(uid=1000947, iid=17788681, r_ui=4, est=3.1487630318654576, details={'was_impossible': False}),\n",
       " Prediction(uid=1000947, iid=60510, r_ui=4, est=3.644831841915768, details={'was_impossible': False}),\n",
       " Prediction(uid=1000947, iid=25486998, r_ui=4, est=3.085111333802116, details={'was_impossible': False}),\n",
       " Prediction(uid=1000947, iid=18296030, r_ui=5, est=3.327608572159507, details={'was_impossible': False}),\n",
       " Prediction(uid=1000947, iid=25489625, r_ui=4, est=3.8248218546293122, details={'was_impossible': False}),\n",
       " Prediction(uid=1000955, iid=16300, r_ui=5, est=4.42834810793846, details={'was_impossible': False}),\n",
       " Prediction(uid=1000955, iid=33602101, r_ui=5, est=4.966918471493374, details={'was_impossible': False}),\n",
       " Prediction(uid=1000955, iid=18077769, r_ui=5, est=4.551650585817022, details={'was_impossible': False}),\n",
       " Prediction(uid=1000955, iid=31300, r_ui=5, est=4.453643911112918, details={'was_impossible': False}),\n",
       " Prediction(uid=1000955, iid=18130, r_ui=4, est=4.312019951365144, details={'was_impossible': False}),\n",
       " Prediction(uid=1000955, iid=17934530, r_ui=5, est=4.559985875875733, details={'was_impossible': False}),\n",
       " Prediction(uid=1000955, iid=31304, r_ui=5, est=4.185147642980324, details={'was_impossible': False}),\n",
       " Prediction(uid=1000955, iid=32905343, r_ui=4, est=4.287533547783043, details={'was_impossible': False}),\n",
       " Prediction(uid=1000955, iid=43615, r_ui=5, est=4.225578714611601, details={'was_impossible': False}),\n",
       " Prediction(uid=1000956, iid=36381037, r_ui=5, est=4.753898039915305, details={'was_impossible': False}),\n",
       " Prediction(uid=1000956, iid=13254289, r_ui=4, est=4.694355414305823, details={'was_impossible': False}),\n",
       " Prediction(uid=1000956, iid=31450852, r_ui=5, est=4.490361820941382, details={'was_impossible': False}),\n",
       " Prediction(uid=1000956, iid=13206760, r_ui=5, est=4.942134225397254, details={'was_impossible': False}),\n",
       " Prediction(uid=1000956, iid=19208103, r_ui=5, est=4.64087497507833, details={'was_impossible': False}),\n",
       " Prediction(uid=1000956, iid=16075962, r_ui=3, est=4.610853840190203, details={'was_impossible': False}),\n",
       " Prediction(uid=1000956, iid=30312891, r_ui=5, est=5, details={'was_impossible': False}),\n",
       " Prediction(uid=1000959, iid=23995491, r_ui=5, est=4.159231576229089, details={'was_impossible': False}),\n",
       " Prediction(uid=1000959, iid=29923707, r_ui=5, est=4.143933872916811, details={'was_impossible': False}),\n",
       " Prediction(uid=1000959, iid=28374007, r_ui=5, est=3.784376570075038, details={'was_impossible': False}),\n",
       " Prediction(uid=1000959, iid=367689, r_ui=4, est=4.0988559753672895, details={'was_impossible': False}),\n",
       " Prediction(uid=1000959, iid=1611656, r_ui=4, est=4.025019529064232, details={'was_impossible': False}),\n",
       " Prediction(uid=1000959, iid=2003625, r_ui=4, est=4.170378418921163, details={'was_impossible': False}),\n",
       " Prediction(uid=1000959, iid=13538873, r_ui=5, est=3.7033812654666733, details={'was_impossible': False}),\n",
       " Prediction(uid=1000959, iid=28477789, r_ui=4, est=4.272738743688558, details={'was_impossible': False}),\n",
       " Prediction(uid=1000959, iid=84151, r_ui=2, est=4.129576355112543, details={'was_impossible': False}),\n",
       " Prediction(uid=1000961, iid=168642, r_ui=4, est=3.4686105942250287, details={'was_impossible': False}),\n",
       " Prediction(uid=1000961, iid=18774964, r_ui=4, est=4.158066105574613, details={'was_impossible': False}),\n",
       " Prediction(uid=1000961, iid=27876293, r_ui=4, est=3.5875567135332322, details={'was_impossible': False}),\n",
       " Prediction(uid=1000961, iid=24583, r_ui=4, est=3.3753639808872067, details={'was_impossible': False}),\n",
       " Prediction(uid=1000961, iid=4374400, r_ui=4, est=3.037188768329698, details={'was_impossible': False}),\n",
       " Prediction(uid=1000961, iid=25807, r_ui=3, est=3.34874654982511, details={'was_impossible': False}),\n",
       " Prediction(uid=1000965, iid=25944798, r_ui=4, est=4.4944009550069906, details={'was_impossible': False}),\n",
       " Prediction(uid=1000965, iid=18342317, r_ui=5, est=4.03200229339682, details={'was_impossible': False}),\n",
       " Prediction(uid=1000965, iid=3819326, r_ui=3, est=3.9621054679691863, details={'was_impossible': False}),\n",
       " Prediction(uid=1000965, iid=6582637, r_ui=3, est=4.259402935982344, details={'was_impossible': False}),\n",
       " Prediction(uid=1000967, iid=37415, r_ui=5, est=3.996241191948865, details={'was_impossible': False}),\n",
       " Prediction(uid=1000967, iid=77203, r_ui=3, est=4.256539473386148, details={'was_impossible': False}),\n",
       " Prediction(uid=1000973, iid=7735333, r_ui=3, est=3.2723996281213585, details={'was_impossible': False}),\n",
       " Prediction(uid=1000973, iid=23492533, r_ui=3, est=3.9475937290444354, details={'was_impossible': False}),\n",
       " Prediction(uid=1000976, iid=6487308, r_ui=3, est=3.2879686512176343, details={'was_impossible': False}),\n",
       " Prediction(uid=1000976, iid=8855321, r_ui=4, est=4.400212230865223, details={'was_impossible': False}),\n",
       " Prediction(uid=1000976, iid=7740152, r_ui=3, est=3.3036149784379196, details={'was_impossible': False}),\n",
       " Prediction(uid=1000976, iid=32758901, r_ui=5, est=4.507655938899383, details={'was_impossible': False}),\n",
       " Prediction(uid=1000976, iid=16690, r_ui=5, est=3.957912128192962, details={'was_impossible': False}),\n",
       " Prediction(uid=1000976, iid=23714109, r_ui=4, est=3.889140475747498, details={'was_impossible': False}),\n",
       " Prediction(uid=1000976, iid=22749788, r_ui=4, est=3.8264329182452856, details={'was_impossible': False}),\n",
       " Prediction(uid=1000978, iid=1618, r_ui=4, est=3.6503109095910156, details={'was_impossible': False}),\n",
       " Prediction(uid=1000981, iid=27401883, r_ui=5, est=4.332169785201501, details={'was_impossible': False}),\n",
       " Prediction(uid=1000981, iid=34684622, r_ui=5, est=4.248069862567971, details={'was_impossible': False}),\n",
       " Prediction(uid=1000981, iid=24583, r_ui=3, est=4.203375713244479, details={'was_impossible': False}),\n",
       " Prediction(uid=1000981, iid=656876, r_ui=3, est=4.076703290860911, details={'was_impossible': False}),\n",
       " Prediction(uid=1000981, iid=2767052, r_ui=5, est=4.7019687651966064, details={'was_impossible': False}),\n",
       " Prediction(uid=1000981, iid=7260188, r_ui=5, est=4.230356566749064, details={'was_impossible': False}),\n",
       " Prediction(uid=1000981, iid=6148028, r_ui=5, est=4.636789855079516, details={'was_impossible': False}),\n",
       " Prediction(uid=1000981, iid=28954189, r_ui=5, est=4.804372810493055, details={'was_impossible': False}),\n",
       " Prediction(uid=1000981, iid=35504431, r_ui=5, est=4.248069862567971, details={'was_impossible': False}),\n",
       " Prediction(uid=1000981, iid=153747, r_ui=5, est=3.9435125478567605, details={'was_impossible': False}),\n",
       " Prediction(uid=1000981, iid=11447921, r_ui=4, est=4.418957128293144, details={'was_impossible': False}),\n",
       " Prediction(uid=1000981, iid=23164927, r_ui=4, est=4.194907543109713, details={'was_impossible': False}),\n",
       " Prediction(uid=1000981, iid=39988, r_ui=4, est=4.644330271182539, details={'was_impossible': False}),\n",
       " Prediction(uid=1000981, iid=11870085, r_ui=5, est=4.468397341915375, details={'was_impossible': False}),\n",
       " Prediction(uid=1000981, iid=8909152, r_ui=5, est=4.384262341209195, details={'was_impossible': False}),\n",
       " Prediction(uid=1000981, iid=49750, r_ui=5, est=3.9972352725270834, details={'was_impossible': False}),\n",
       " Prediction(uid=1000981, iid=24833801, r_ui=4, est=3.9933573853565676, details={'was_impossible': False}),\n",
       " Prediction(uid=1000981, iid=32487612, r_ui=3, est=4.106110038416549, details={'was_impossible': False}),\n",
       " Prediction(uid=1000981, iid=33149088, r_ui=3, est=4.060181615494365, details={'was_impossible': False}),\n",
       " Prediction(uid=1000981, iid=29981261, r_ui=4, est=4.129894204251043, details={'was_impossible': False}),\n",
       " Prediction(uid=1000981, iid=32487617, r_ui=4, est=4.466870913938969, details={'was_impossible': False}),\n",
       " Prediction(uid=1000981, iid=29639736, r_ui=4, est=3.964748319903578, details={'was_impossible': False}),\n",
       " Prediction(uid=1000981, iid=28959148, r_ui=4, est=4.01942645447567, details={'was_impossible': False}),\n",
       " Prediction(uid=1000981, iid=257845, r_ui=5, est=4.46978817595971, details={'was_impossible': False}),\n",
       " Prediction(uid=1000981, iid=50144, r_ui=5, est=4.315776968662617, details={'was_impossible': False}),\n",
       " Prediction(uid=1000981, iid=38447, r_ui=4, est=4.378269569428523, details={'was_impossible': False}),\n",
       " Prediction(uid=1000981, iid=816870, r_ui=3, est=4.160148051435255, details={'was_impossible': False}),\n",
       " Prediction(uid=1000981, iid=853510, r_ui=4, est=4.481549311994921, details={'was_impossible': False}),\n",
       " Prediction(uid=1000984, iid=19266169, r_ui=4, est=3.777549653991259, details={'was_impossible': False}),\n",
       " Prediction(uid=1000985, iid=38447, r_ui=3, est=4.147066736888243, details={'was_impossible': False}),\n",
       " Prediction(uid=1000986, iid=17802724, r_ui=4, est=3.50203002556667, details={'was_impossible': False}),\n",
       " Prediction(uid=1000992, iid=12948, r_ui=1, est=3.577399205647152, details={'was_impossible': False}),\n",
       " Prediction(uid=1000992, iid=18126198, r_ui=5, est=4.157578814341019, details={'was_impossible': False}),\n",
       " Prediction(uid=1000992, iid=23278537, r_ui=4, est=3.206587758143156, details={'was_impossible': False}),\n",
       " Prediction(uid=1001006, iid=428, r_ui=3, est=3.3174094647901455, details={'was_impossible': False}),\n",
       " Prediction(uid=1001006, iid=20170404, r_ui=3, est=3.802076492679358, details={'was_impossible': False}),\n",
       " Prediction(uid=1001006, iid=9903, r_ui=4, est=3.248497878068028, details={'was_impossible': False}),\n",
       " Prediction(uid=1001006, iid=29496076, r_ui=4, est=3.6350816430818385, details={'was_impossible': False}),\n",
       " Prediction(uid=1001007, iid=375802, r_ui=4, est=4.498449357218612, details={'was_impossible': False}),\n",
       " Prediction(uid=1001012, iid=91477, r_ui=4, est=4.130767994251463, details={'was_impossible': False}),\n",
       " Prediction(uid=1001012, iid=11447921, r_ui=4, est=4.32496447716621, details={'was_impossible': False}),\n",
       " Prediction(uid=1001012, iid=19358975, r_ui=5, est=4.84833128222703, details={'was_impossible': False}),\n",
       " Prediction(uid=1001012, iid=17346698, r_ui=5, est=5, details={'was_impossible': False}),\n",
       " Prediction(uid=1001013, iid=15985373, r_ui=4, est=4.057178773542981, details={'was_impossible': False}),\n",
       " Prediction(uid=1001013, iid=179780, r_ui=5, est=4.147840326718544, details={'was_impossible': False}),\n",
       " Prediction(uid=1001013, iid=12891107, r_ui=4, est=4.005733365780703, details={'was_impossible': False}),\n",
       " Prediction(uid=1001013, iid=18966806, r_ui=5, est=4.394150404199416, details={'was_impossible': False}),\n",
       " Prediction(uid=1001013, iid=18966819, r_ui=4, est=4.001709282421193, details={'was_impossible': False}),\n",
       " Prediction(uid=1001013, iid=9579634, r_ui=4, est=3.3218097387246126, details={'was_impossible': False}),\n",
       " Prediction(uid=1001018, iid=18774980, r_ui=3, est=3.443449289173548, details={'was_impossible': False}),\n",
       " Prediction(uid=1001018, iid=14781219, r_ui=2, est=3.1421597637588254, details={'was_impossible': False}),\n",
       " Prediction(uid=1001019, iid=4101648, r_ui=4, est=3.774332167128655, details={'was_impossible': False}),\n",
       " Prediction(uid=1001019, iid=25893709, r_ui=5, est=3.665925321743436, details={'was_impossible': False}),\n",
       " Prediction(uid=1001019, iid=26893819, r_ui=5, est=3.900193681467983, details={'was_impossible': False}),\n",
       " Prediction(uid=1001019, iid=225343, r_ui=4, est=3.8576681105057395, details={'was_impossible': False}),\n",
       " Prediction(uid=1001019, iid=17380041, r_ui=5, est=3.8605019543274133, details={'was_impossible': False}),\n",
       " Prediction(uid=1001019, iid=11023952, r_ui=3, est=3.6777380829500106, details={'was_impossible': False}),\n",
       " Prediction(uid=1001019, iid=15796700, r_ui=5, est=4.502679535501607, details={'was_impossible': False}),\n",
       " Prediction(uid=1001020, iid=28449207, r_ui=5, est=4.6256101026654335, details={'was_impossible': False}),\n",
       " Prediction(uid=1001023, iid=31931941, r_ui=4, est=4.537577926133336, details={'was_impossible': False}),\n",
       " Prediction(uid=1001027, iid=28374007, r_ui=5, est=4.434129240393065, details={'was_impossible': False}),\n",
       " Prediction(uid=1001027, iid=23272028, r_ui=4, est=4.211682384226126, details={'was_impossible': False}),\n",
       " Prediction(uid=1001027, iid=23513349, r_ui=5, est=4.6340958277800315, details={'was_impossible': False}),\n",
       " Prediction(uid=1001027, iid=7763, r_ui=4, est=4.703395020507911, details={'was_impossible': False}),\n",
       " Prediction(uid=1001028, iid=48757, r_ui=5, est=4.0071943080244, details={'was_impossible': False}),\n",
       " Prediction(uid=1001028, iid=6327, r_ui=5, est=4.179213171881678, details={'was_impossible': False}),\n",
       " Prediction(uid=1001029, iid=37415, r_ui=5, est=3.8730595070530405, details={'was_impossible': False}),\n",
       " Prediction(uid=1001029, iid=12957, r_ui=3, est=4.292580394340281, details={'was_impossible': False}),\n",
       " Prediction(uid=1001029, iid=362002, r_ui=5, est=4.652549572199624, details={'was_impossible': False}),\n",
       " Prediction(uid=1001030, iid=17333324, r_ui=4, est=4.02063112201048, details={'was_impossible': False}),\n",
       " Prediction(uid=1001036, iid=5983694, r_ui=5, est=4.515477984784465, details={'was_impossible': False}),\n",
       " Prediction(uid=1001041, iid=56454, r_ui=3, est=3.8665707400728295, details={'was_impossible': False}),\n",
       " Prediction(uid=1001041, iid=32283133, r_ui=4, est=4.31911691550764, details={'was_impossible': False}),\n",
       " Prediction(uid=1001041, iid=9517, r_ui=4, est=4.323886153029531, details={'was_impossible': False}),\n",
       " Prediction(uid=1001041, iid=28006120, r_ui=5, est=4.1489212292003845, details={'was_impossible': False}),\n",
       " Prediction(uid=1001043, iid=21981841, r_ui=3, est=3.9255868442130493, details={'was_impossible': False}),\n",
       " Prediction(uid=1001043, iid=20803953, r_ui=3, est=3.630779073682451, details={'was_impossible': False}),\n",
       " Prediction(uid=1001043, iid=15858248, r_ui=4, est=3.7295857163365254, details={'was_impossible': False}),\n",
       " Prediction(uid=1001047, iid=14280, r_ui=3, est=4.2018433330722855, details={'was_impossible': False}),\n",
       " Prediction(uid=1001047, iid=7023148, r_ui=5, est=4.680715165488244, details={'was_impossible': False}),\n",
       " Prediction(uid=1001047, iid=5167, r_ui=5, est=4.4941589036539025, details={'was_impossible': False}),\n",
       " Prediction(uid=1001047, iid=10574666, r_ui=4, est=4.760011767674502, details={'was_impossible': False}),\n",
       " Prediction(uid=1001048, iid=3692, r_ui=3, est=3.404048084524982, details={'was_impossible': False}),\n",
       " Prediction(uid=1001048, iid=929, r_ui=2, est=3.8352731563206213, details={'was_impossible': False}),\n",
       " Prediction(uid=1001049, iid=13477676, r_ui=5, est=4.104198157255044, details={'was_impossible': False}),\n",
       " Prediction(uid=1001049, iid=13547180, r_ui=3, est=4.114761432669534, details={'was_impossible': False}),\n",
       " Prediction(uid=1001049, iid=29780253, r_ui=5, est=4.591588056916523, details={'was_impossible': False}),\n",
       " Prediction(uid=1001050, iid=32283133, r_ui=4, est=3.8580695362431583, details={'was_impossible': False}),\n",
       " Prediction(uid=1001053, iid=23513349, r_ui=3, est=4.07068704038874, details={'was_impossible': False}),\n",
       " Prediction(uid=1001053, iid=9051270, r_ui=3, est=3.5895732496519925, details={'was_impossible': False}),\n",
       " Prediction(uid=1001053, iid=2998, r_ui=4, est=3.9906504504366422, details={'was_impossible': False}),\n",
       " Prediction(uid=1001053, iid=2213661, r_ui=4, est=3.8293512898201554, details={'was_impossible': False}),\n",
       " Prediction(uid=1001053, iid=25558608, r_ui=4, est=4.1086528175214925, details={'was_impossible': False}),\n",
       " Prediction(uid=1001056, iid=18170143, r_ui=4, est=4.59519965325517, details={'was_impossible': False}),\n",
       " Prediction(uid=1001056, iid=32758901, r_ui=5, est=4.621221840404844, details={'was_impossible': False}),\n",
       " Prediction(uid=1001056, iid=31451186, r_ui=5, est=4.1890072214275405, details={'was_impossible': False}),\n",
       " Prediction(uid=1001056, iid=8520610, r_ui=3, est=4.354684920887485, details={'was_impossible': False}),\n",
       " Prediction(uid=1001056, iid=15730101, r_ui=3, est=4.309501876530261, details={'was_impossible': False}),\n",
       " Prediction(uid=1001056, iid=186074, r_ui=4, est=4.659166616582575, details={'was_impossible': False}),\n",
       " Prediction(uid=1001056, iid=34076952, r_ui=5, est=4.204804170311484, details={'was_impossible': False}),\n",
       " Prediction(uid=1001057, iid=3, r_ui=5, est=4.480957898195715, details={'was_impossible': False}),\n",
       " Prediction(uid=1001057, iid=15881, r_ui=5, est=4.381028696938397, details={'was_impossible': False}),\n",
       " Prediction(uid=1001057, iid=13596166, r_ui=4, est=4.1246964108898885, details={'was_impossible': False}),\n",
       " Prediction(uid=1001059, iid=3, r_ui=5, est=5, details={'was_impossible': False}),\n",
       " Prediction(uid=1001059, iid=27422533, r_ui=5, est=5, details={'was_impossible': False}),\n",
       " Prediction(uid=1001059, iid=12823329, r_ui=5, est=4.494691929805374, details={'was_impossible': False}),\n",
       " Prediction(uid=1001062, iid=32498973, r_ui=4, est=3.1117356416120185, details={'was_impossible': False}),\n",
       " Prediction(uid=1001062, iid=28458598, r_ui=5, est=3.634681659238558, details={'was_impossible': False}),\n",
       " Prediction(uid=1001062, iid=27883214, r_ui=2, est=3.493603414923566, details={'was_impossible': False}),\n",
       " Prediction(uid=1001066, iid=31823677, r_ui=5, est=4.4908115198956935, details={'was_impossible': False}),\n",
       " Prediction(uid=1001066, iid=56627, r_ui=5, est=3.67319105242769, details={'was_impossible': False}),\n",
       " Prediction(uid=1001072, iid=7445, r_ui=4, est=4.35304688788736, details={'was_impossible': False}),\n",
       " Prediction(uid=1001073, iid=23093367, r_ui=4, est=4.518739179553905, details={'was_impossible': False}),\n",
       " ...]"
      ]
     },
     "execution_count": 11,
     "metadata": {},
     "output_type": "execute_result"
    }
   ],
   "source": [
    "svd_predictions"
   ]
  },
  {
   "attachments": {},
   "cell_type": "markdown",
   "id": "bb938f3c",
   "metadata": {},
   "source": [
    "__Оценка рекомендаций__\n",
    "\n",
    "Полученные рекомендации можно оценить, используя встроенный модуль accuracy из библиотеки surprise.\n",
    "Чему равно значение метрики MAE? Ответ округлите до сотых (должно быть 0.65)"
   ]
  },
  {
   "cell_type": "code",
   "execution_count": 12,
   "id": "4e804e6f-3348-407c-aa3c-fc50b6045d8d",
   "metadata": {},
   "outputs": [
    {
     "name": "stdout",
     "output_type": "stream",
     "text": [
      "RMSE: 0.8263\n",
      "MAE:  0.6460\n"
     ]
    }
   ],
   "source": [
    "from surprise import accuracy\n",
    "\n",
    "rmse = accuracy.rmse(svd_predictions)\n",
    "mae = accuracy.mae(svd_predictions)"
   ]
  },
  {
   "attachments": {},
   "cell_type": "markdown",
   "id": "924953b0",
   "metadata": {},
   "source": [
    "Напомним, что RMSE придаёт большее значение бОльшим отклонениям (выбросам) индивидуальных оценок, в то время как MAE — более сбалансирована. Поэтому, когда нужно отслеживать большие отклонения в оценках, RMSE имеет бОльший практический смысл. "
   ]
  },
  {
   "attachments": {},
   "cell_type": "markdown",
   "id": "bbff054a",
   "metadata": {},
   "source": [
    "__Проверка метрик на адекватность__\n",
    "\n",
    "Понять, хороши или плохи полученные значения метрик, поможет проверка на адекватность (sanity check). Например, сравним качество рекомендаций со случайными по тем же метрикам. \n",
    "\n",
    "Для генерации случайных рекомендаций библиотека surprise предлагает класс \n",
    "[NormalPredictor](https://surprise.readthedocs.io/en/stable/basic_algorithms.html), \n",
    "который выдаёт случайные рейтинги из нормального распределения. Вызывается он так:"
   ]
  },
  {
   "cell_type": "code",
   "execution_count": 13,
   "id": "5277e2de",
   "metadata": {},
   "outputs": [],
   "source": [
    "from surprise import NormalPredictor\n",
    "\n",
    "# инициализируем состояние генератора, это необходимо для получения\n",
    "# одной и то же последовательности случайных чисел, только в учебных целях\n",
    "np.random.seed(0)\n",
    "\n",
    "random_model = NormalPredictor()\n",
    "\n",
    "random_model.fit(suprise_train_set)\n",
    "random_predictions = random_model.test(surprise_test_set)"
   ]
  },
  {
   "attachments": {},
   "cell_type": "markdown",
   "id": "9ac307f4",
   "metadata": {},
   "source": [
    "Рассчитайте значение MAE для random_predictions. Округлите его до сотых. "
   ]
  },
  {
   "cell_type": "code",
   "execution_count": 14,
   "id": "641269cb",
   "metadata": {},
   "outputs": [
    {
     "name": "stdout",
     "output_type": "stream",
     "text": [
      "MAE:  0.9982\n",
      "1.0\n"
     ]
    }
   ],
   "source": [
    "random_mae = accuracy.mae(random_predictions)\n",
    "print(round(random_mae, 2))"
   ]
  },
  {
   "attachments": {},
   "cell_type": "markdown",
   "id": "5d387fcb",
   "metadata": {},
   "source": [
    "На сколько процентов MAE для случайных рекомендаций от NormalPredictor выше значения MAE от SVD? Ответ округлите до десятой. \n",
    "\n",
    "Правильный ответ до округления 55.0680"
   ]
  },
  {
   "cell_type": "code",
   "execution_count": 15,
   "id": "fa5a2d80",
   "metadata": {},
   "outputs": [
    {
     "name": "stdout",
     "output_type": "stream",
     "text": [
      "54.5\n"
     ]
    }
   ],
   "source": [
    "mae_perc_diff = (random_mae / mae - 1) * 100\n",
    "print(round(mae_perc_diff, 1))"
   ]
  },
  {
   "attachments": {},
   "cell_type": "markdown",
   "id": "bffe98dc",
   "metadata": {},
   "source": [
    "Т.о., значение MAE для рекомендаций от SVD заметно ниже. Значит, рекомендации от SVD более релевантны. "
   ]
  },
  {
   "attachments": {},
   "cell_type": "markdown",
   "id": "001d23ac",
   "metadata": {},
   "source": [
    "__Факультативное задание__\n",
    "\n",
    "Задание. Удалите из events события для редких айтемов — таких, с которыми взаимодействовало менее N пользователей. Возьмите небольшое N, например, 2–3 пользователя. Получите рекомендации, посчитайте метрики, оцените, как они изменились. Подумайте, с чем могут быть связаны такие изменения."
   ]
  },
  {
   "cell_type": "code",
   "execution_count": 16,
   "id": "e76865de",
   "metadata": {},
   "outputs": [],
   "source": [
    "rated_books_threshold = 3"
   ]
  },
  {
   "cell_type": "code",
   "execution_count": 18,
   "id": "d641c0eb",
   "metadata": {},
   "outputs": [
    {
     "data": {
      "text/html": [
       "<div>\n",
       "<style scoped>\n",
       "    .dataframe tbody tr th:only-of-type {\n",
       "        vertical-align: middle;\n",
       "    }\n",
       "\n",
       "    .dataframe tbody tr th {\n",
       "        vertical-align: top;\n",
       "    }\n",
       "\n",
       "    .dataframe thead th {\n",
       "        text-align: right;\n",
       "    }\n",
       "</style>\n",
       "<table border=\"1\" class=\"dataframe\">\n",
       "  <thead>\n",
       "    <tr style=\"text-align: right;\">\n",
       "      <th></th>\n",
       "      <th>rated_books</th>\n",
       "    </tr>\n",
       "    <tr>\n",
       "      <th>user_id</th>\n",
       "      <th></th>\n",
       "    </tr>\n",
       "  </thead>\n",
       "  <tbody>\n",
       "    <tr>\n",
       "      <th>1000000</th>\n",
       "      <td>29</td>\n",
       "    </tr>\n",
       "    <tr>\n",
       "      <th>1000002</th>\n",
       "      <td>4</td>\n",
       "    </tr>\n",
       "    <tr>\n",
       "      <th>1000003</th>\n",
       "      <td>95</td>\n",
       "    </tr>\n",
       "    <tr>\n",
       "      <th>1000004</th>\n",
       "      <td>133</td>\n",
       "    </tr>\n",
       "    <tr>\n",
       "      <th>1000005</th>\n",
       "      <td>17</td>\n",
       "    </tr>\n",
       "    <tr>\n",
       "      <th>...</th>\n",
       "      <td>...</td>\n",
       "    </tr>\n",
       "    <tr>\n",
       "      <th>1430579</th>\n",
       "      <td>265</td>\n",
       "    </tr>\n",
       "    <tr>\n",
       "      <th>1430580</th>\n",
       "      <td>3</td>\n",
       "    </tr>\n",
       "    <tr>\n",
       "      <th>1430581</th>\n",
       "      <td>8</td>\n",
       "    </tr>\n",
       "    <tr>\n",
       "      <th>1430582</th>\n",
       "      <td>3</td>\n",
       "    </tr>\n",
       "    <tr>\n",
       "      <th>1430584</th>\n",
       "      <td>13</td>\n",
       "    </tr>\n",
       "  </tbody>\n",
       "</table>\n",
       "<p>378787 rows × 1 columns</p>\n",
       "</div>"
      ],
      "text/plain": [
       "         rated_books\n",
       "user_id             \n",
       "1000000           29\n",
       "1000002            4\n",
       "1000003           95\n",
       "1000004          133\n",
       "1000005           17\n",
       "...              ...\n",
       "1430579          265\n",
       "1430580            3\n",
       "1430581            8\n",
       "1430582            3\n",
       "1430584           13\n",
       "\n",
       "[378787 rows x 1 columns]"
      ]
     },
     "execution_count": 18,
     "metadata": {},
     "output_type": "execute_result"
    }
   ],
   "source": [
    "ratings = events[['user_id', 'item_id', 'rating']]\n",
    "agg_ratings = ratings.groupby('user_id').agg(rated_books = ('item_id', 'nunique'))\n",
    "filtered_users = agg_ratings[agg_ratings['rated_books'] >= rated_books_threshold]\n",
    "filtered_users"
   ]
  },
  {
   "cell_type": "code",
   "execution_count": 19,
   "id": "2f629ba8",
   "metadata": {},
   "outputs": [],
   "source": [
    "filtered_events = events[events['user_id'].isin(filtered_users.index)]"
   ]
  },
  {
   "cell_type": "code",
   "execution_count": 20,
   "id": "92e595c9",
   "metadata": {},
   "outputs": [],
   "source": [
    "# Снова разбиваем отфильтрованные events на train и test\n",
    "train_test_global_time_split_date = pd.to_datetime(\"2017-08-01\").date()\n",
    "\n",
    "train_test_global_time_split_idx = filtered_events[\"started_at\"] < train_test_global_time_split_date\n",
    "filtered_events_train = filtered_events[train_test_global_time_split_idx] # your code here\n",
    "filtered_events_test = filtered_events[~train_test_global_time_split_idx]"
   ]
  },
  {
   "cell_type": "code",
   "execution_count": 21,
   "id": "4f9cacc5",
   "metadata": {},
   "outputs": [
    {
     "data": {
      "text/plain": [
       "<surprise.prediction_algorithms.matrix_factorization.SVD at 0x7fb1f6075000>"
      ]
     },
     "execution_count": 21,
     "metadata": {},
     "output_type": "execute_result"
    }
   ],
   "source": [
    "reader = Reader(rating_scale=(1, 5))\n",
    "filtered_suprise_train_set = Dataset.load_from_df(filtered_events_train[['user_id', 'book_id', 'rating']], reader)\n",
    "filtered_suprise_train_set = filtered_suprise_train_set.build_full_trainset()\n",
    "\n",
    "# инициализируем модель\n",
    "svd_model_new = SVD(n_factors=100, random_state=0)\n",
    "\n",
    "# обучаем модель\n",
    "svd_model_new.fit(filtered_suprise_train_set)"
   ]
  },
  {
   "cell_type": "code",
   "execution_count": 22,
   "id": "5d4fe98b",
   "metadata": {},
   "outputs": [],
   "source": [
    "filtered_surprise_test_set = list(filtered_events_test[['user_id', 'item_id', 'rating']].itertuples(index=False))\n",
    "\n",
    "# получаем рекомендации для тестовой выборки\n",
    "svd_predictions_new = svd_model_new.test(filtered_surprise_test_set)"
   ]
  },
  {
   "cell_type": "code",
   "execution_count": 23,
   "id": "88a4be8e",
   "metadata": {},
   "outputs": [
    {
     "name": "stdout",
     "output_type": "stream",
     "text": [
      "RMSE: 0.8258\n",
      "MAE:  0.6456\n"
     ]
    }
   ],
   "source": [
    "rmse_new = accuracy.rmse(svd_predictions_new)\n",
    "mae_new = accuracy.mae(svd_predictions_new)"
   ]
  },
  {
   "attachments": {},
   "cell_type": "markdown",
   "id": "bb349e58",
   "metadata": {},
   "source": [
    "Вывод: после удаления редких items ошибки немного уменьшились.\n",
    "Действительно, чем больше информации о user, тем точнее мы можем делать предсказания."
   ]
  },
  {
   "attachments": {},
   "cell_type": "markdown",
   "id": "3169008f",
   "metadata": {},
   "source": [
    "__Получение рекомендаций__\n",
    "\n",
    "1. Получить список оценочных рейтингов для каждого пользователя и для каждого айтема. \n",
    "Когда у вас есть модель из библиотеки surprise уже после тренировки, получить оценку для пользователя user_id и айтема item_id поможет метод predict: \n",
    "    ```\n",
    "    model.predict(user_id, item_id)\n",
    "    ```\n",
    "\n",
    "2. Отсортировать его по убыванию оценок.\n",
    "3. Взять разумное число первых N айтемов. На практике N составляет несколько десятков или просто 100.\n",
    "4. Исключить из списка айтемы, с которыми пользователь уже взаимодействовал. Это поможет избежать тривиальных и бесполезных рекомендаций."
   ]
  },
  {
   "attachments": {},
   "cell_type": "markdown",
   "id": "9c1762f4",
   "metadata": {},
   "source": [
    "__Задание__\n",
    "\n",
    "Создайте функцию, которая позволит получить рекомендации для конкретного пользователя, используя описанный подход. Дополните прекод."
   ]
  },
  {
   "cell_type": "code",
   "execution_count": 24,
   "id": "694bc3d0",
   "metadata": {},
   "outputs": [],
   "source": [
    "def get_recommendations_svd(user_id, events, model, include_seen=True, n=5):\n",
    "\n",
    "    \"\"\" возвращает n рекомендаций для user_id \"\"\"\n",
    "    \n",
    "    # получим список идентификаторов всех книг\n",
    "    all_items = set(events['item_id'].unique())\n",
    "        \n",
    "    # учитываем флаг, стоит ли уже прочитанные книги включать в рекомендации\n",
    "    if include_seen:\n",
    "        items_to_predict = list(all_items)\n",
    "    else:\n",
    "        # получим список книг, которые пользователь уже прочитал (\"видел\")\n",
    "        seen_items = set(events['user_id']['item_id'].unique()) # ваш код здесь\n",
    "        \n",
    "        # книги, которые пользователь ещё не читал\n",
    "        # только их и будем включать в рекомендации\n",
    "        items_to_predict = list(all_items - seen_items)\n",
    "    \n",
    "    # получаем скоры для списка книг, т. е. рекомендации\n",
    "    predictions = [model.predict(user_id, item_id) for item_id in items_to_predict] # ваш код здесь\n",
    "    \n",
    "    # сортируем рекомендации по убыванию скора и берём только n первых\n",
    "    recommendations = sorted(predictions, key=lambda x: x.est, reverse=True)[:n]\n",
    "    \n",
    "    return pd.DataFrame([(pred.iid, pred.est) for pred in recommendations], columns=[\"item_id\", \"score\"])"
   ]
  },
  {
   "attachments": {},
   "cell_type": "markdown",
   "id": "bae0fd00",
   "metadata": {},
   "source": [
    "Какое значение item_id 3-й рекомендации по убыванию score для пользователя 1296647? Получить рекомендации для данного пользователя можно вызовом функции get_recommendations_svd"
   ]
  },
  {
   "cell_type": "code",
   "execution_count": 25,
   "id": "b8a3c2f5",
   "metadata": {},
   "outputs": [
    {
     "data": {
      "text/html": [
       "<div>\n",
       "<style scoped>\n",
       "    .dataframe tbody tr th:only-of-type {\n",
       "        vertical-align: middle;\n",
       "    }\n",
       "\n",
       "    .dataframe tbody tr th {\n",
       "        vertical-align: top;\n",
       "    }\n",
       "\n",
       "    .dataframe thead th {\n",
       "        text-align: right;\n",
       "    }\n",
       "</style>\n",
       "<table border=\"1\" class=\"dataframe\">\n",
       "  <thead>\n",
       "    <tr style=\"text-align: right;\">\n",
       "      <th></th>\n",
       "      <th>book_id</th>\n",
       "      <th>score</th>\n",
       "    </tr>\n",
       "  </thead>\n",
       "  <tbody>\n",
       "    <tr>\n",
       "      <th>0</th>\n",
       "      <td>24812</td>\n",
       "      <td>5.000000</td>\n",
       "    </tr>\n",
       "    <tr>\n",
       "      <th>1</th>\n",
       "      <td>8471387</td>\n",
       "      <td>5.000000</td>\n",
       "    </tr>\n",
       "    <tr>\n",
       "      <th>2</th>\n",
       "      <td>481749</td>\n",
       "      <td>5.000000</td>\n",
       "    </tr>\n",
       "    <tr>\n",
       "      <th>3</th>\n",
       "      <td>30688013</td>\n",
       "      <td>4.996900</td>\n",
       "    </tr>\n",
       "    <tr>\n",
       "      <th>4</th>\n",
       "      <td>1108124</td>\n",
       "      <td>4.979711</td>\n",
       "    </tr>\n",
       "  </tbody>\n",
       "</table>\n",
       "</div>"
      ],
      "text/plain": [
       "    book_id     score\n",
       "0     24812  5.000000\n",
       "1   8471387  5.000000\n",
       "2    481749  5.000000\n",
       "3  30688013  4.996900\n",
       "4   1108124  4.979711"
      ]
     },
     "execution_count": 25,
     "metadata": {},
     "output_type": "execute_result"
    }
   ],
   "source": [
    "user_recs = get_recommendations_svd(1296647, events_train, svd_model)\n",
    "user_recs"
   ]
  },
  {
   "attachments": {},
   "cell_type": "markdown",
   "id": "2f756c4f",
   "metadata": {},
   "source": [
    "Должно получиться 30688013"
   ]
  },
  {
   "cell_type": "code",
   "execution_count": 26,
   "id": "4270fcf2",
   "metadata": {},
   "outputs": [
    {
     "data": {
      "text/plain": [
       "30688013"
      ]
     },
     "execution_count": 26,
     "metadata": {},
     "output_type": "execute_result"
    }
   ],
   "source": [
    "user_recs.loc[3, 'item_id']"
   ]
  },
  {
   "attachments": {},
   "cell_type": "markdown",
   "id": "456d79ee",
   "metadata": {},
   "source": [
    "__Дополнительная проверка качества рекомендаций__\n",
    "\n",
    "Некоторые проблемы рекомендаций отследить с помощью метрик сложно. Например, с помощью метрик сложно выявить рекомендации с низким разнообразием — когда пользователю, который прочитал книгу одного автора, рекомендуются книги преимущественно того же автора. Такие проблемы проще отследить «глазами». \n",
    "Для этого нужно вывести последние события для случайного пользователя и рекомендации для него. Это можно сделать с помощью функции get_recommendations_svd:"
   ]
  },
  {
   "cell_type": "code",
   "execution_count": 27,
   "id": "a047b445",
   "metadata": {},
   "outputs": [
    {
     "name": "stdout",
     "output_type": "stream",
     "text": [
      "user_id: 1109853\n",
      "История (последние события, recent)\n"
     ]
    },
    {
     "data": {
      "text/html": [
       "<div>\n",
       "<style scoped>\n",
       "    .dataframe tbody tr th:only-of-type {\n",
       "        vertical-align: middle;\n",
       "    }\n",
       "\n",
       "    .dataframe tbody tr th {\n",
       "        vertical-align: top;\n",
       "    }\n",
       "\n",
       "    .dataframe thead th {\n",
       "        text-align: right;\n",
       "    }\n",
       "</style>\n",
       "<table border=\"1\" class=\"dataframe\">\n",
       "  <thead>\n",
       "    <tr style=\"text-align: right;\">\n",
       "      <th></th>\n",
       "      <th>author</th>\n",
       "      <th>title</th>\n",
       "      <th>started_at</th>\n",
       "      <th>read_at</th>\n",
       "      <th>rating</th>\n",
       "      <th>genre_and_votes</th>\n",
       "    </tr>\n",
       "  </thead>\n",
       "  <tbody>\n",
       "    <tr>\n",
       "      <th>0</th>\n",
       "      <td>Patrick Rothfuss</td>\n",
       "      <td>The Wise Man's Fear (The Kingkiller Chronicle,...</td>\n",
       "      <td>2015-06-17</td>\n",
       "      <td>2015-08-31</td>\n",
       "      <td>5</td>\n",
       "      <td>{'Fantasy': 16491, 'Fiction': 2222, 'Fantasy-E...</td>\n",
       "    </tr>\n",
       "    <tr>\n",
       "      <th>1</th>\n",
       "      <td>Andy Weir</td>\n",
       "      <td>The Martian</td>\n",
       "      <td>2014-12-07</td>\n",
       "      <td>2014-12-11</td>\n",
       "      <td>4</td>\n",
       "      <td>{'Science Fiction': 11966, 'Fiction': 8430}</td>\n",
       "    </tr>\n",
       "    <tr>\n",
       "      <th>2</th>\n",
       "      <td>Brandon Sanderson</td>\n",
       "      <td>The Way of Kings (The Stormlight Archive, #1)</td>\n",
       "      <td>2015-08-31</td>\n",
       "      <td>2015-10-30</td>\n",
       "      <td>5</td>\n",
       "      <td>{'Fantasy': 14291, 'Fiction': 1623, 'Fantasy-E...</td>\n",
       "    </tr>\n",
       "    <tr>\n",
       "      <th>3</th>\n",
       "      <td>Brandon Sanderson</td>\n",
       "      <td>Words of Radiance (The Stormlight Archive, #2)</td>\n",
       "      <td>2015-10-30</td>\n",
       "      <td>2016-03-17</td>\n",
       "      <td>5</td>\n",
       "      <td>{'Fantasy': 8542, 'Fiction': 872, 'Fantasy-Epi...</td>\n",
       "    </tr>\n",
       "    <tr>\n",
       "      <th>4</th>\n",
       "      <td>Ken Follett</td>\n",
       "      <td>Fall of Giants (The Century Trilogy, #1)</td>\n",
       "      <td>2016-05-12</td>\n",
       "      <td>2016-08-30</td>\n",
       "      <td>4</td>\n",
       "      <td>{'Historical-Historical Fiction': 4665, 'Ficti...</td>\n",
       "    </tr>\n",
       "  </tbody>\n",
       "</table>\n",
       "</div>"
      ],
      "text/plain": [
       "              author                                              title  \\\n",
       "0   Patrick Rothfuss  The Wise Man's Fear (The Kingkiller Chronicle,...   \n",
       "1          Andy Weir                                        The Martian   \n",
       "2  Brandon Sanderson      The Way of Kings (The Stormlight Archive, #1)   \n",
       "3  Brandon Sanderson     Words of Radiance (The Stormlight Archive, #2)   \n",
       "4        Ken Follett           Fall of Giants (The Century Trilogy, #1)   \n",
       "\n",
       "   started_at     read_at  rating  \\\n",
       "0  2015-06-17  2015-08-31       5   \n",
       "1  2014-12-07  2014-12-11       4   \n",
       "2  2015-08-31  2015-10-30       5   \n",
       "3  2015-10-30  2016-03-17       5   \n",
       "4  2016-05-12  2016-08-30       4   \n",
       "\n",
       "                                     genre_and_votes  \n",
       "0  {'Fantasy': 16491, 'Fiction': 2222, 'Fantasy-E...  \n",
       "1        {'Science Fiction': 11966, 'Fiction': 8430}  \n",
       "2  {'Fantasy': 14291, 'Fiction': 1623, 'Fantasy-E...  \n",
       "3  {'Fantasy': 8542, 'Fiction': 872, 'Fantasy-Epi...  \n",
       "4  {'Historical-Historical Fiction': 4665, 'Ficti...  "
      ]
     },
     "metadata": {},
     "output_type": "display_data"
    },
    {
     "name": "stdout",
     "output_type": "stream",
     "text": [
      "Рекомендации\n"
     ]
    },
    {
     "data": {
      "text/html": [
       "<div>\n",
       "<style scoped>\n",
       "    .dataframe tbody tr th:only-of-type {\n",
       "        vertical-align: middle;\n",
       "    }\n",
       "\n",
       "    .dataframe tbody tr th {\n",
       "        vertical-align: top;\n",
       "    }\n",
       "\n",
       "    .dataframe thead th {\n",
       "        text-align: right;\n",
       "    }\n",
       "</style>\n",
       "<table border=\"1\" class=\"dataframe\">\n",
       "  <thead>\n",
       "    <tr style=\"text-align: right;\">\n",
       "      <th></th>\n",
       "      <th>book_id</th>\n",
       "      <th>score</th>\n",
       "      <th>author</th>\n",
       "      <th>title</th>\n",
       "      <th>genre_and_votes</th>\n",
       "    </tr>\n",
       "  </thead>\n",
       "  <tbody>\n",
       "    <tr>\n",
       "      <th>0</th>\n",
       "      <td>30688013</td>\n",
       "      <td>5.000000</td>\n",
       "      <td>Robin Hobb</td>\n",
       "      <td>Assassin's Fate (The Fitz and the Fool, #3)</td>\n",
       "      <td>{'Fantasy': 1657, 'Fiction': 172, 'Fantasy-Epi...</td>\n",
       "    </tr>\n",
       "    <tr>\n",
       "      <th>1</th>\n",
       "      <td>11221285</td>\n",
       "      <td>5.000000</td>\n",
       "      <td>Brandon Sanderson</td>\n",
       "      <td>The Way of Kings, Part 2 (The Stormlight Archi...</td>\n",
       "      <td>{'Fantasy': 641, 'Fiction': 46, 'Fantasy-Epic ...</td>\n",
       "    </tr>\n",
       "    <tr>\n",
       "      <th>2</th>\n",
       "      <td>19219646</td>\n",
       "      <td>5.000000</td>\n",
       "      <td>Wolfgang Herrndorf</td>\n",
       "      <td>Arbeit und Struktur</td>\n",
       "      <td>{'Nonfiction': 25, 'European Literature-German...</td>\n",
       "    </tr>\n",
       "    <tr>\n",
       "      <th>3</th>\n",
       "      <td>22037424</td>\n",
       "      <td>4.996202</td>\n",
       "      <td>J.K. Rowling, Jonny Duddle, Tomislav Tomić</td>\n",
       "      <td>Harry Potter and the Prisoner of Azkaban (Harr...</td>\n",
       "      <td>{'Fantasy': 49994, 'Young Adult': 15433, 'Fict...</td>\n",
       "    </tr>\n",
       "    <tr>\n",
       "      <th>4</th>\n",
       "      <td>2168850</td>\n",
       "      <td>4.995777</td>\n",
       "      <td>محمد بن إدريس الشافعي, إميل بديع يعقوب</td>\n",
       "      <td>ديوان الإمام الشافعي</td>\n",
       "      <td>{'Poetry': 93, 'Religion': 15, 'Literature': 1...</td>\n",
       "    </tr>\n",
       "  </tbody>\n",
       "</table>\n",
       "</div>"
      ],
      "text/plain": [
       "    book_id     score                                      author  \\\n",
       "0  30688013  5.000000                                  Robin Hobb   \n",
       "1  11221285  5.000000                           Brandon Sanderson   \n",
       "2  19219646  5.000000                          Wolfgang Herrndorf   \n",
       "3  22037424  4.996202  J.K. Rowling, Jonny Duddle, Tomislav Tomić   \n",
       "4   2168850  4.995777      محمد بن إدريس الشافعي, إميل بديع يعقوب   \n",
       "\n",
       "                                               title  \\\n",
       "0        Assassin's Fate (The Fitz and the Fool, #3)   \n",
       "1  The Way of Kings, Part 2 (The Stormlight Archi...   \n",
       "2                                Arbeit und Struktur   \n",
       "3  Harry Potter and the Prisoner of Azkaban (Harr...   \n",
       "4                               ديوان الإمام الشافعي   \n",
       "\n",
       "                                     genre_and_votes  \n",
       "0  {'Fantasy': 1657, 'Fiction': 172, 'Fantasy-Epi...  \n",
       "1  {'Fantasy': 641, 'Fiction': 46, 'Fantasy-Epic ...  \n",
       "2  {'Nonfiction': 25, 'European Literature-German...  \n",
       "3  {'Fantasy': 49994, 'Young Adult': 15433, 'Fict...  \n",
       "4  {'Poetry': 93, 'Religion': 15, 'Literature': 1...  "
      ]
     },
     "metadata": {},
     "output_type": "display_data"
    }
   ],
   "source": [
    "# выберем произвольного пользователя из тренировочной выборки (\"прошлого\")\n",
    "user_id = events_train['user_id'].sample().iat[0]\n",
    "\n",
    "print(f\"user_id: {user_id}\")\n",
    "\n",
    "print(\"История (последние события, recent)\")\n",
    "user_history = (\n",
    "    events_train\n",
    "    .query(\"user_id == @user_id\")\n",
    "    .merge(items.set_index(\"item_id\")[[\"author\", \"title\", \"genre_and_votes\"]], on=\"item_id\")\n",
    ")\n",
    "user_history_to_print = user_history[[\"author\", \"title\", \"started_at\", \"read_at\", \"rating\", \"genre_and_votes\"]].tail(10)\n",
    "display(user_history_to_print)\n",
    "\n",
    "print(\"Рекомендации\")\n",
    "user_recommendations = get_recommendations_svd(user_id, events_train, svd_model)\n",
    "user_recommendations = user_recommendations.merge(items[[\"item_id\", \"author\", \"title\", \"genre_and_votes\"]], on=\"item_id\")\n",
    "display(user_recommendations)"
   ]
  },
  {
   "attachments": {},
   "cell_type": "markdown",
   "id": "1c59e309",
   "metadata": {},
   "source": [
    "__Факультативное задание__\n",
    "\n",
    "Добавьте в events события для нового пользователя, как если бы он прочитал те книги, которые нравятся вам. Получите рекомендации для этого пользователя. Оцените, насколько они релевантны вашим интересам."
   ]
  },
  {
   "cell_type": "code",
   "execution_count": 62,
   "id": "bbff7af5",
   "metadata": {},
   "outputs": [],
   "source": [
    "# TODO"
   ]
  },
  {
   "attachments": {},
   "cell_type": "markdown",
   "id": "494612b5",
   "metadata": {},
   "source": [
    "В этом уроке вы научились подготавливать данные в формате UI-матрицы взаимодействий для обучения SVD-модели, оценивать качество рекомендаций в целом и использовать вывод модели для получения рекомендаций для произвольного пользователя."
   ]
  },
  {
   "attachments": {},
   "cell_type": "markdown",
   "id": "ee3781d6",
   "metadata": {},
   "source": [
    "## Тема 3: Базовые рекомендации: коллаборативный и контентный подходы"
   ]
  },
  {
   "attachments": {},
   "cell_type": "markdown",
   "id": "44d62bc6",
   "metadata": {},
   "source": [
    "### Тема 3, Урок 2: Коллаборативная фильтрация: ALS\n",
    "\n",
    "__Задание__\n",
    "\n",
    "Ниже приведён код для перекодировки идентификаторов. Дополните его для перекодировки идентификаторов объектов, а затем выполните."
   ]
  },
  {
   "cell_type": "code",
   "execution_count": 10,
   "id": "21789993-d0cd-4e74-96af-b3966d0f44c3",
   "metadata": {},
   "outputs": [],
   "source": [
    "import scipy\n",
    "import sklearn.preprocessing\n",
    "\n",
    "# перекодируем идентификаторы пользователей: \n",
    "# из имеющихся в последовательность 0, 1, 2, ...\n",
    "user_encoder = sklearn.preprocessing.LabelEncoder()\n",
    "user_encoder.fit(events[\"user_id\"])\n",
    "events_train[\"user_id_enc\"] = user_encoder.transform(events_train[\"user_id\"])\n",
    "events_test[\"user_id_enc\"] = user_encoder.transform(events_test[\"user_id\"])\n",
    "\n",
    "# перекодируем идентификаторы объектов: \n",
    "# из имеющихся в последовательность 0, 1, 2, ...\n",
    "item_encoder = sklearn.preprocessing.LabelEncoder()\n",
    "item_encoder.fit(items[\"item_id\"])\n",
    "items[\"item_id_enc\"] = item_encoder.transform(items[\"item_id\"])\n",
    "events_train = events_train.merge(items[[\"item_id\", \"item_id_enc\"]], on=\"item_id\", how='left') # ваш код здесь\n",
    "events_test = events_test.merge(items[[\"item_id\", \"item_id_enc\"]], on=\"item_id\", how='left') # ваш код здесь"
   ]
  },
  {
   "attachments": {},
   "cell_type": "markdown",
   "id": "8bbb1c10",
   "metadata": {},
   "source": [
    "Проверим максимальное значение для events_train['item_id_enc'], должно получиться 43304"
   ]
  },
  {
   "cell_type": "code",
   "execution_count": 18,
   "id": "9a96f98d-0270-4a06-9063-a687dbffeca5",
   "metadata": {},
   "outputs": [
    {
     "data": {
      "text/plain": [
       "43304"
      ]
     },
     "execution_count": 18,
     "metadata": {},
     "output_type": "execute_result"
    }
   ],
   "source": [
    "events_train['item_id_enc'].max()"
   ]
  },
  {
   "attachments": {},
   "cell_type": "markdown",
   "id": "1c90da9d",
   "metadata": {},
   "source": [
    "Вычислите размер матрицы user_item_matrix_train, как если бы она хранила все свои элементы, включая пропуски, и для каждого элемента использовался бы один байт. Ответ приведите в виде целого числа гигабайтов, отбросив дробную часть.\n",
    "\n",
    "Подсказка: \n",
    "Умножьте количество строк на количество столбцов, а затем результат разделите на \n",
    "1024**3\n",
    "\n",
    "Должно получиться 16"
   ]
  },
  {
   "cell_type": "code",
   "execution_count": 12,
   "id": "be389837-995e-4e57-928b-77293b7f1106",
   "metadata": {},
   "outputs": [
    {
     "data": {
      "text/plain": [
       "16"
      ]
     },
     "execution_count": 12,
     "metadata": {},
     "output_type": "execute_result"
    }
   ],
   "source": [
    "int(events_train['user_id'].nunique() * events_train['item_id'].nunique() / 1024**3)"
   ]
  },
  {
   "attachments": {},
   "cell_type": "markdown",
   "id": "e1729e60",
   "metadata": {},
   "source": [
    "Создаем sparse-матрицу в формате CSR ([документация](https://docs.scipy.org/doc/scipy/reference/sparse.html))"
   ]
  },
  {
   "cell_type": "code",
   "execution_count": 13,
   "id": "92452e8e",
   "metadata": {},
   "outputs": [],
   "source": [
    "# создаём sparse-матрицу формата CSR \n",
    "user_item_matrix_train = scipy.sparse.csr_matrix((\n",
    "    events_train[\"rating\"],\n",
    "    (events_train['user_id_enc'], events_train['item_id_enc'])),\n",
    "    dtype=np.int8)"
   ]
  },
  {
   "attachments": {},
   "cell_type": "markdown",
   "id": "aebe816f",
   "metadata": {},
   "source": [
    "sparse-формат numpy-матриц позволяет сильно уменьшить требование к размеру памяти. Можно самостоятельно посчитать и сравнить, используя код ниже:"
   ]
  },
  {
   "cell_type": "code",
   "execution_count": 32,
   "id": "434ce8e5",
   "metadata": {},
   "outputs": [
    {
     "data": {
      "text/plain": [
       "0.26370687410235405"
      ]
     },
     "execution_count": 32,
     "metadata": {},
     "output_type": "execute_result"
    }
   ],
   "source": [
    "import sys\n",
    "\n",
    "sum([sys.getsizeof(i) for i in user_item_matrix_train.data]) / 1024**3"
   ]
  },
  {
   "attachments": {},
   "cell_type": "markdown",
   "id": "dd3edbf4",
   "metadata": {},
   "source": [
    "Имея подготовленную матрицу взаимодействий, перейдём к третьему шагу — создадим ALS-модель. Для примера возьмём количество латентных факторов для матриц $P и Q$ равным 50. "
   ]
  },
  {
   "cell_type": "code",
   "execution_count": 11,
   "id": "e011302b",
   "metadata": {},
   "outputs": [
    {
     "name": "stderr",
     "output_type": "stream",
     "text": [
      "c:\\Users\\Kirill_Nosov\\_Repos\\.venv\\Lib\\site-packages\\tqdm\\auto.py:21: TqdmWarning: IProgress not found. Please update jupyter and ipywidgets. See https://ipywidgets.readthedocs.io/en/stable/user_install.html\n",
      "  from .autonotebook import tqdm as notebook_tqdm\n",
      "c:\\Users\\Kirill_Nosov\\_Repos\\.venv\\Lib\\site-packages\\implicit\\cpu\\als.py:95: RuntimeWarning: OpenBLAS is configured to use 8 threads. It is highly recommended to disable its internal threadpool by setting the environment variable 'OPENBLAS_NUM_THREADS=1' or by calling 'threadpoolctl.threadpool_limits(1, \"blas\")'. Having OpenBLAS use a threadpool can lead to severe performance issues here.\n",
      "  check_blas_config()\n",
      "100%|██████████| 50/50 [03:35<00:00,  4.32s/it]\n"
     ]
    }
   ],
   "source": [
    "# Код для создания и тренировки модели\n",
    "from implicit.als import AlternatingLeastSquares\n",
    "\n",
    "als_model = AlternatingLeastSquares(factors=50, iterations=50, regularization=0.05, random_state=0)\n",
    "als_model.fit(user_item_matrix_train)"
   ]
  },
  {
   "cell_type": "code",
   "execution_count": 12,
   "id": "193bbcf7",
   "metadata": {},
   "outputs": [],
   "source": [
    "# Сохраняем als-модель в файл\n",
    "\n",
    "with open('models/als_model.pkl', 'wb') as fd:\n",
    "    joblib.dump(als_model, fd)"
   ]
  },
  {
   "attachments": {},
   "cell_type": "markdown",
   "id": "c2fa48cc",
   "metadata": {},
   "source": [
    "Описание прочих параметров и методов класса AlternatingLeastSquares можно посмотреть на [странице технической документации на библиотеку implicit](https://benfred.github.io/implicit/api/models/cpu/als.html).\n",
    "\n",
    "Чтобы получить рекомендации для пользователя с помощью модели ALS, используем такую функцию:"
   ]
  },
  {
   "cell_type": "code",
   "execution_count": 19,
   "id": "d179b89f",
   "metadata": {},
   "outputs": [],
   "source": [
    "def get_recommendations_als(user_item_matrix, model, user_id, user_encoder, item_encoder, include_seen=True, n=5):\n",
    "    \"\"\"\n",
    "    Возвращает отранжированные рекомендации для заданного пользователя\n",
    "    \"\"\"\n",
    "    user_id_enc = user_encoder.transform([user_id])[0]\n",
    "    recommendations = model.recommend(\n",
    "         user_id_enc, \n",
    "         user_item_matrix[user_id_enc], \n",
    "         filter_already_liked_items=not include_seen,\n",
    "         N=n)\n",
    "    recommendations = pd.DataFrame({\"item_id_enc\": recommendations[0], \"score\": recommendations[1]})\n",
    "    recommendations[\"item_id\"] = item_encoder.inverse_transform(recommendations[\"item_id_enc\"])\n",
    "    \n",
    "    return recommendations"
   ]
  },
  {
   "attachments": {},
   "cell_type": "markdown",
   "id": "3d2008b8",
   "metadata": {},
   "source": [
    "У метода recommend ALS-модели есть удобный параметр filter_already_liked_items. Он управляет тем, будет ли ALS-модель убирать из рекомендаций те объекты, которые пользователь уже видел."
   ]
  },
  {
   "attachments": {},
   "cell_type": "markdown",
   "id": "907ed22c",
   "metadata": {},
   "source": [
    "__Факультативное задание__\n",
    "\n",
    "Используя get_recommendations_als, напишите код, который позволит для случайного пользователя просмотреть рекомендации в удобном формате: \n",
    "- история с именами авторов и названием книг,\n",
    "- рекомендации с именами авторов и названием книг, seen-признаком (взаимодействовал ли уже пользователь с рекомендованной книгой).\n",
    "\n",
    "Проанализируйте, релевантны ли рекомендации имеющейся истории."
   ]
  },
  {
   "cell_type": "code",
   "execution_count": 1,
   "id": "8fb8fe86",
   "metadata": {},
   "outputs": [],
   "source": [
    "# TODO"
   ]
  },
  {
   "attachments": {},
   "cell_type": "markdown",
   "id": "2954f4df",
   "metadata": {},
   "source": [
    "Получим рекомендации для всех имеющихся пользователей. Выполните код ниже."
   ]
  },
  {
   "cell_type": "code",
   "execution_count": 20,
   "id": "e09cf94b",
   "metadata": {},
   "outputs": [],
   "source": [
    "# получаем список всех возможных user_id (перекодированных)\n",
    "user_ids_encoded = range(len(user_encoder.classes_))\n",
    "\n",
    "# получаем рекомендации для всех пользователей\n",
    "als_recommendations = als_model.recommend(\n",
    "    user_ids_encoded, \n",
    "    user_item_matrix_train[user_ids_encoded], \n",
    "    filter_already_liked_items=False, \n",
    "    N=100)"
   ]
  },
  {
   "attachments": {},
   "cell_type": "markdown",
   "id": "0816a9a9",
   "metadata": {},
   "source": [
    "Код возвращает рекомендации как список списков, это не очень удобно. Преобразуем его в более удобный формат — табличный."
   ]
  },
  {
   "cell_type": "code",
   "execution_count": 21,
   "id": "6b2024ca",
   "metadata": {},
   "outputs": [],
   "source": [
    "# преобразуем полученные рекомендации в табличный формат\n",
    "item_ids_enc = als_recommendations[0]\n",
    "als_scores = als_recommendations[1]\n",
    "\n",
    "als_recommendations = pd.DataFrame({\n",
    "    \"user_id_enc\": user_ids_encoded,\n",
    "    \"item_id_enc\": item_ids_enc.tolist(), \n",
    "    \"score\": als_scores.tolist()})\n",
    "als_recommendations = als_recommendations.explode([\"item_id_enc\", \"score\"], ignore_index=True)\n",
    "\n",
    "# приводим типы данных\n",
    "als_recommendations[\"item_id_enc\"] = als_recommendations[\"item_id_enc\"].astype(\"int\")\n",
    "als_recommendations[\"score\"] = als_recommendations[\"score\"].astype(\"float\")\n",
    "\n",
    "# получаем изначальные идентификаторы\n",
    "als_recommendations[\"user_id\"] = user_encoder.inverse_transform(als_recommendations[\"user_id_enc\"])\n",
    "als_recommendations[\"item_id\"] = item_encoder.inverse_transform(als_recommendations[\"item_id_enc\"])\n",
    "als_recommendations = als_recommendations.drop(columns=[\"user_id_enc\", \"item_id_enc\"])"
   ]
  },
  {
   "cell_type": "code",
   "execution_count": 37,
   "id": "efd05d0c",
   "metadata": {},
   "outputs": [],
   "source": [
    "# Сохраним полученные рекомендации в файл\n",
    "als_recommendations = als_recommendations[[\"user_id\", \"item_id\", \"score\"]]\n",
    "als_recommendations.to_parquet(\"als_recommendations.parquet\")"
   ]
  },
  {
   "attachments": {},
   "cell_type": "markdown",
   "id": "95bdebaa",
   "metadata": {},
   "source": [
    "Оценим метрику ранжирования NDCG на тестовой выборке. Она принимает значение от 0 (предлагаемый порядок никак не соответствует истинному) до 1 (предлагаемый порядок в точности соответствует истинному). \n",
    "Подробнее можно прочитать на [MachineLearningInterview.com](https://machinelearninginterview.com/topics/machine-learning/ndcg-evaluation-metric-for-recommender-systems/).\n",
    "\n",
    "Для удобства оценки добавим в датафрейм с рекомендациями истинные оценки из тестовой выборки:"
   ]
  },
  {
   "cell_type": "code",
   "execution_count": 22,
   "id": "d3219723",
   "metadata": {},
   "outputs": [],
   "source": [
    "als_recommendations = (\n",
    "    als_recommendations\n",
    "    .merge(events_test[[\"user_id\", \"item_id\", \"rating\"]]\n",
    "               .rename(columns={\"rating\": \"rating_test\"}), \n",
    "           on=[\"user_id\", \"item_id\"], how=\"left\")\n",
    ")"
   ]
  },
  {
   "attachments": {},
   "cell_type": "markdown",
   "id": "f0564a20",
   "metadata": {},
   "source": [
    "Подсчитать метрику NDCG для одного пользователя поможет готовая реализация из scikit-learn:"
   ]
  },
  {
   "cell_type": "code",
   "execution_count": 23,
   "id": "8f740b26",
   "metadata": {},
   "outputs": [],
   "source": [
    "import sklearn.metrics\n",
    "\n",
    "def compute_ndcg(rating: pd.Series, score: pd.Series, k):\n",
    "\n",
    "    \"\"\" подсчёт ndcg\n",
    "    rating: истинные оценки\n",
    "    score: оценки модели\n",
    "    k: количество айтемов (по убыванию score) для оценки, остальные - отбрасываются\n",
    "    \"\"\"\n",
    "    \n",
    "    # если кол-во объектов меньше 2, то NDCG - не определена\n",
    "    if len(rating) < 2:\n",
    "        return np.nan\n",
    "\n",
    "    ndcg = sklearn.metrics.ndcg_score(np.asarray([rating.to_numpy()]), np.asarray([score.to_numpy()]), k=k)\n",
    "\n",
    "    return ndcg"
   ]
  },
  {
   "attachments": {},
   "cell_type": "markdown",
   "id": "d7860282",
   "metadata": {},
   "source": [
    "Умея считать NDCG для одного пользователя, посчитаем данную метрику, например, для k=5 для всех пользователей из тестовой выборки. В результате каждому пользователю будет соответствовать одно значение NDCG@5. Запись “NDCG@5” означает, что метрика NDCG считается для пяти айтемов."
   ]
  },
  {
   "cell_type": "code",
   "execution_count": 24,
   "id": "bd826b0c",
   "metadata": {},
   "outputs": [],
   "source": [
    "rating_test_idx = ~als_recommendations[\"rating_test\"].isnull()\n",
    "ndcg_at_5_scores = als_recommendations[rating_test_idx].groupby(\"user_id\").apply(lambda x: compute_ndcg(x[\"rating_test\"], x[\"score\"], k=5))"
   ]
  },
  {
   "attachments": {},
   "cell_type": "markdown",
   "id": "c846fcf9",
   "metadata": {},
   "source": [
    "Имея ряд значений NDCG@5 по пользователям, можно посчитать её среднее значение по всем пользователям. Должно получиться  0.9759"
   ]
  },
  {
   "cell_type": "code",
   "execution_count": 25,
   "id": "72c4e595",
   "metadata": {},
   "outputs": [
    {
     "data": {
      "text/plain": [
       "0.9759562997103215"
      ]
     },
     "execution_count": 25,
     "metadata": {},
     "output_type": "execute_result"
    }
   ],
   "source": [
    "ndcg_at_5_scores.mean()"
   ]
  },
  {
   "attachments": {},
   "cell_type": "markdown",
   "id": "a14c8376",
   "metadata": {},
   "source": [
    "__Факультативное задание__\n",
    "\n",
    "Оцените, для какой доли пользователей удалось посчитать метрику NDCG."
   ]
  },
  {
   "cell_type": "code",
   "execution_count": 2,
   "id": "878e8082",
   "metadata": {},
   "outputs": [],
   "source": [
    "# TODO"
   ]
  },
  {
   "attachments": {},
   "cell_type": "markdown",
   "id": "ee3b2935",
   "metadata": {},
   "source": [
    "__Рекомендации I2I__\n",
    "\n",
    "Рекомендации вида I2I — это рекомендации похожих объектов. Например, к некоторой книге порекомендовать список похожих книг. Рассматриваемая реализация ALS позволяет получить такие рекомендации при помощи метода `similar_items` ([описание](https://benfred.github.io/implicit/api/models/cpu/als.html))."
   ]
  },
  {
   "attachments": {},
   "cell_type": "markdown",
   "id": "ca1bdb7c",
   "metadata": {},
   "source": [
    "__Факультативное задание__\n",
    "\n",
    "Используя метод  similar_items, получите и оцените рекомендации для нескольких айтемов. Проанализируйте адекватность результатов."
   ]
  },
  {
   "cell_type": "code",
   "execution_count": null,
   "id": "97825ebc",
   "metadata": {},
   "outputs": [],
   "source": [
    "# TODO"
   ]
  },
  {
   "attachments": {},
   "cell_type": "markdown",
   "id": "49570662",
   "metadata": {},
   "source": [
    "__Рекомендации U2U__\n",
    "\n",
    "Рекомендации вида U2U — это рекомендации похожих пользователей, то есть пользователей со схожими предпочтениями. Такой тип рекомендаций широко используется в социальных сетях. Рассматриваемая реализация ALS позволяет получить такие рекомендации при помощи метода `similar_users` ([описание](https://benfred.github.io/implicit/api/models/cpu/als.html))."
   ]
  },
  {
   "attachments": {},
   "cell_type": "markdown",
   "id": "62575f67-f46e-4747-b3de-6ff5a87d0eba",
   "metadata": {},
   "source": [
    "### Тема 3, Урок 3: Контентные рекомендации"
   ]
  },
  {
   "attachments": {},
   "cell_type": "markdown",
   "id": "d8cb18b3",
   "metadata": {},
   "source": [
    "Построим контентные рекомендации для нашего книжного сервиса. Это можно сделать на основе свойства genre_and_votes — доля голосов в пользу отнесения книги к конкретному жанру. \n",
    "\n",
    "Перед генерацией рекомендаций нужно подготовить данные.\n",
    "\n",
    "__Составим список всех жанров__\n",
    "\n",
    "Составим список всех возможных жанров по всем айтемам. Потом по нему будем составлять вектор с весами по жанрам для каждой книги. Из любопытства составим список жанров с подсчётом количества голосов по каждому из них.\n",
    "Сначала преобразуем значения genre_and_votes из текстового представления в тип в Python:"
   ]
  },
  {
   "cell_type": "code",
   "execution_count": 26,
   "id": "5ae7f494-3ee9-4f49-a61b-9dfb411518bd",
   "metadata": {},
   "outputs": [],
   "source": [
    "items[\"genre_and_votes\"] = items[\"genre_and_votes\"].apply(eval)"
   ]
  },
  {
   "attachments": {},
   "cell_type": "markdown",
   "id": "83ab0733",
   "metadata": {},
   "source": [
    "__Задание 1 из 4__\n",
    "\n",
    "Теперь составьте список жанров с долями голосов по ним в genres. Дополните и выполните следующий код:"
   ]
  },
  {
   "cell_type": "code",
   "execution_count": 27,
   "id": "5f655832-4caa-4290-9b34-388e7b3f5d37",
   "metadata": {},
   "outputs": [],
   "source": [
    "def get_genres(items):\n",
    "\n",
    "    \"\"\" \n",
    "    извлекает список жанров по всем книгам, \n",
    "    подсчитывает долю голосов по каждому их них\n",
    "    \"\"\"\n",
    "    \n",
    "    genres_counter = {}\n",
    "    \n",
    "    for k, v, in items.iterrows():\n",
    "        genre_and_votes = v[\"genre_and_votes\"] # ваш код здесь\n",
    "        if genre_and_votes is None or not isinstance(genre_and_votes, dict):\n",
    "            continue\n",
    "        for genre, votes in genre_and_votes.items():\n",
    "            # увеличиваем счётчик жанров\n",
    "            try:\n",
    "                genres_counter[genre] += votes # ваш код здесь\n",
    "            except KeyError:\n",
    "                genres_counter[genre] = 0\n",
    "\n",
    "    genres = pd.Series(genres_counter, name=\"votes\")\n",
    "    genres = genres.to_frame()\n",
    "    genres = genres.reset_index().rename(columns={\"index\": \"name\"})\n",
    "    genres.index.name = \"genre_id\"\n",
    "    \n",
    "    return genres\n",
    "\n",
    "genres = get_genres(items)"
   ]
  },
  {
   "attachments": {},
   "cell_type": "markdown",
   "id": "bf6c18cd",
   "metadata": {},
   "source": [
    "Результат выполнения кода — список жанров с долями голосов по ним в genres. Посмотрим на самые популярные жанры:\n",
    "\n",
    "Проверка: На 5-м по популярности месте должен находиться жанр - `Romance`,\n",
    "на 1-м месте с отрывом по количеству голосов почти в три раза должен быть жанр `Fantasy`."
   ]
  },
  {
   "cell_type": "code",
   "execution_count": 28,
   "id": "d8f945a6-bd08-4f17-84a3-4a82e00a29c6",
   "metadata": {},
   "outputs": [
    {
     "data": {
      "text/html": [
       "<div>\n",
       "<style scoped>\n",
       "    .dataframe tbody tr th:only-of-type {\n",
       "        vertical-align: middle;\n",
       "    }\n",
       "\n",
       "    .dataframe tbody tr th {\n",
       "        vertical-align: top;\n",
       "    }\n",
       "\n",
       "    .dataframe thead th {\n",
       "        text-align: right;\n",
       "    }\n",
       "</style>\n",
       "<table border=\"1\" class=\"dataframe\">\n",
       "  <thead>\n",
       "    <tr style=\"text-align: right;\">\n",
       "      <th></th>\n",
       "      <th>name</th>\n",
       "      <th>votes</th>\n",
       "      <th>score</th>\n",
       "    </tr>\n",
       "    <tr>\n",
       "      <th>genre_id</th>\n",
       "      <th></th>\n",
       "      <th></th>\n",
       "      <th></th>\n",
       "    </tr>\n",
       "  </thead>\n",
       "  <tbody>\n",
       "    <tr>\n",
       "      <th>25</th>\n",
       "      <td>Fantasy</td>\n",
       "      <td>6850060</td>\n",
       "      <td>0.149651</td>\n",
       "    </tr>\n",
       "    <tr>\n",
       "      <th>1</th>\n",
       "      <td>Fiction</td>\n",
       "      <td>6406256</td>\n",
       "      <td>0.139955</td>\n",
       "    </tr>\n",
       "    <tr>\n",
       "      <th>38</th>\n",
       "      <td>Classics</td>\n",
       "      <td>3414934</td>\n",
       "      <td>0.074605</td>\n",
       "    </tr>\n",
       "    <tr>\n",
       "      <th>18</th>\n",
       "      <td>Young Adult</td>\n",
       "      <td>3296951</td>\n",
       "      <td>0.072027</td>\n",
       "    </tr>\n",
       "    <tr>\n",
       "      <th>34</th>\n",
       "      <td>Romance</td>\n",
       "      <td>2422614</td>\n",
       "      <td>0.052926</td>\n",
       "    </tr>\n",
       "    <tr>\n",
       "      <th>5</th>\n",
       "      <td>Nonfiction</td>\n",
       "      <td>1737406</td>\n",
       "      <td>0.037957</td>\n",
       "    </tr>\n",
       "    <tr>\n",
       "      <th>16</th>\n",
       "      <td>Historical-Historical Fiction</td>\n",
       "      <td>1531205</td>\n",
       "      <td>0.033452</td>\n",
       "    </tr>\n",
       "    <tr>\n",
       "      <th>20</th>\n",
       "      <td>Mystery</td>\n",
       "      <td>1371196</td>\n",
       "      <td>0.029956</td>\n",
       "    </tr>\n",
       "    <tr>\n",
       "      <th>24</th>\n",
       "      <td>Science Fiction</td>\n",
       "      <td>1218917</td>\n",
       "      <td>0.026629</td>\n",
       "    </tr>\n",
       "    <tr>\n",
       "      <th>33</th>\n",
       "      <td>Fantasy-Paranormal</td>\n",
       "      <td>857012</td>\n",
       "      <td>0.018723</td>\n",
       "    </tr>\n",
       "  </tbody>\n",
       "</table>\n",
       "</div>"
      ],
      "text/plain": [
       "                                   name    votes     score\n",
       "genre_id                                                  \n",
       "25                              Fantasy  6850060  0.149651\n",
       "1                               Fiction  6406256  0.139955\n",
       "38                             Classics  3414934  0.074605\n",
       "18                          Young Adult  3296951  0.072027\n",
       "34                              Romance  2422614  0.052926\n",
       "5                            Nonfiction  1737406  0.037957\n",
       "16        Historical-Historical Fiction  1531205  0.033452\n",
       "20                              Mystery  1371196  0.029956\n",
       "24                      Science Fiction  1218917  0.026629\n",
       "33                   Fantasy-Paranormal   857012  0.018723"
      ]
     },
     "execution_count": 28,
     "metadata": {},
     "output_type": "execute_result"
    }
   ],
   "source": [
    "genres[\"score\"] = genres[\"votes\"] / genres[\"votes\"].sum()\n",
    "genres.sort_values(by=\"score\", ascending=False).head(10)"
   ]
  },
  {
   "attachments": {},
   "cell_type": "markdown",
   "id": "f12954d6",
   "metadata": {},
   "source": [
    "__Подготовим матрицы__\n",
    "\n",
    "При работе с контентными свойствами нередко используют матрицы больших размерностей.\n",
    "При этом они будут разреженными. Чтобы сэкономить память, используем sparse-формат.\n",
    "\n",
    "В текущей задаче нам необходимо составить  матрицу, в которой строки соответствуют книгам, а столбцы — жанрам (в том порядке, в котором они указаны в genres), на пересечении — доля голосов."
   ]
  },
  {
   "attachments": {},
   "cell_type": "markdown",
   "id": "d16a35e8",
   "metadata": {},
   "source": [
    "__Задание 2 из 4__\n",
    "\n",
    "Функция в коде ниже строит матрицу вида «книга-жанр». Изучите её. Подумайте, что будет соответствовать столбцам матрицы. "
   ]
  },
  {
   "cell_type": "code",
   "execution_count": 29,
   "id": "0fce66ac",
   "metadata": {},
   "outputs": [],
   "source": [
    "def get_item2genre_matrix(genres, items):\n",
    "\n",
    "    genre_names_to_id = genres.reset_index().set_index(\"name\")[\"genre_id\"].to_dict()\n",
    "    \n",
    "    # list to build CSR matrix\n",
    "    genres_csr_data = []\n",
    "    genres_csr_row_idx = []\n",
    "    genres_csr_col_idx = []\n",
    "    \n",
    "    for item_idx, (k, v) in enumerate(items.iterrows()):\n",
    "        if v[\"genre_and_votes\"] is None:\n",
    "            continue\n",
    "        for genre_name, votes in v[\"genre_and_votes\"].items():\n",
    "            genre_idx = genre_names_to_id[genre_name]\n",
    "            genres_csr_data.append(int(votes))\n",
    "            genres_csr_row_idx.append(item_idx)\n",
    "            genres_csr_col_idx.append(genre_idx)\n",
    "\n",
    "    genres_csr = scipy.sparse.csr_matrix((genres_csr_data, (genres_csr_row_idx, genres_csr_col_idx)), shape=(len(items), len(genres)))\n",
    "    # нормализуем, чтобы сумма оценок принадлежности к жанру была равна 1\n",
    "    genres_csr = sklearn.preprocessing.normalize(genres_csr, norm='l1', axis=1)\n",
    "    \n",
    "    return genres_csr"
   ]
  },
  {
   "attachments": {},
   "cell_type": "markdown",
   "id": "8ceb2c92",
   "metadata": {},
   "source": [
    "Получим матрицу с весами по жанрам для каждой книги:"
   ]
  },
  {
   "cell_type": "code",
   "execution_count": 30,
   "id": "b3230a22",
   "metadata": {},
   "outputs": [],
   "source": [
    "items = items.sort_values(by=\"item_id_enc\")\n",
    "all_items_genres_csr = get_item2genre_matrix(genres, items)"
   ]
  },
  {
   "attachments": {},
   "cell_type": "markdown",
   "id": "c5e83cee",
   "metadata": {},
   "source": [
    "Аналогичным образом получим матрицу с весами по жанрам для какого-нибудь пользователя, например, для пользователя с идентификатором 1000010."
   ]
  },
  {
   "attachments": {},
   "cell_type": "markdown",
   "id": "e2a81b6b",
   "metadata": {},
   "source": [
    "__Задание 3 из 4__\n",
    "\n",
    "Дополните и выполните код ниже, чтобы получить описанную матрицу. \n",
    "\n",
    "Проверка: для выбранного пользователя в user_items_genres_csr должно получиться 149 существующих элементов."
   ]
  },
  {
   "cell_type": "code",
   "execution_count": 47,
   "id": "a8f7fae0",
   "metadata": {},
   "outputs": [
    {
     "data": {
      "text/plain": [
       "<22x815 sparse matrix of type '<class 'numpy.float64'>'\n",
       "\twith 149 stored elements in Compressed Sparse Row format>"
      ]
     },
     "execution_count": 47,
     "metadata": {},
     "output_type": "execute_result"
    }
   ],
   "source": [
    "user_id = 1000010\n",
    "user_events = events_train.query(\"user_id == @user_id\")[[\"item_id\", \"rating\"]]\n",
    "user_items = items[items[\"item_id\"].isin(user_events[\"item_id\"])]\n",
    "\n",
    "user_items_genres_csr = get_item2genre_matrix(genres, user_items) # ваш код здесь\n",
    "user_items_genres_csr"
   ]
  },
  {
   "attachments": {},
   "cell_type": "markdown",
   "id": "4b460727",
   "metadata": {},
   "source": [
    "На практике часто пользователь явно указывает предпочтения в своём профиле. У нас таких данных нет, поэтому предпочтения пользователя по жанрам вычислим автоматически на основе его истории поведения."
   ]
  },
  {
   "cell_type": "code",
   "execution_count": 48,
   "id": "734b9ed4",
   "metadata": {},
   "outputs": [],
   "source": [
    "# вычислим склонность пользователя к жанрам как среднее взвешенное значение популяции на его оценки книг.\n",
    "\n",
    "# преобразуем пользовательские оценки из списка в вектор-столбец\n",
    "user_ratings = user_events[\"rating\"].to_numpy() / 5\n",
    "user_ratings = np.expand_dims(user_ratings, axis=1)\n",
    "\n",
    "user_items_genres_weighted = user_items_genres_csr.multiply(user_ratings)\n",
    "\n",
    "user_genres_scores = np.asarray(user_items_genres_weighted.mean(axis=0))"
   ]
  },
  {
   "attachments": {},
   "cell_type": "markdown",
   "id": "9a4149c0",
   "metadata": {},
   "source": [
    "Посмотрим, какие жанры больше всего нравятся пользователю:"
   ]
  },
  {
   "cell_type": "code",
   "execution_count": 49,
   "id": "61c6ad32",
   "metadata": {},
   "outputs": [
    {
     "data": {
      "text/html": [
       "<div>\n",
       "<style scoped>\n",
       "    .dataframe tbody tr th:only-of-type {\n",
       "        vertical-align: middle;\n",
       "    }\n",
       "\n",
       "    .dataframe tbody tr th {\n",
       "        vertical-align: top;\n",
       "    }\n",
       "\n",
       "    .dataframe thead th {\n",
       "        text-align: right;\n",
       "    }\n",
       "</style>\n",
       "<table border=\"1\" class=\"dataframe\">\n",
       "  <thead>\n",
       "    <tr style=\"text-align: right;\">\n",
       "      <th></th>\n",
       "      <th>name</th>\n",
       "      <th>votes</th>\n",
       "      <th>score</th>\n",
       "    </tr>\n",
       "    <tr>\n",
       "      <th>genre_id</th>\n",
       "      <th></th>\n",
       "      <th></th>\n",
       "      <th></th>\n",
       "    </tr>\n",
       "  </thead>\n",
       "  <tbody>\n",
       "    <tr>\n",
       "      <th>1</th>\n",
       "      <td>Fiction</td>\n",
       "      <td>6406256</td>\n",
       "      <td>0.195253</td>\n",
       "    </tr>\n",
       "    <tr>\n",
       "      <th>38</th>\n",
       "      <td>Classics</td>\n",
       "      <td>3414934</td>\n",
       "      <td>0.096687</td>\n",
       "    </tr>\n",
       "    <tr>\n",
       "      <th>25</th>\n",
       "      <td>Fantasy</td>\n",
       "      <td>6850060</td>\n",
       "      <td>0.074261</td>\n",
       "    </tr>\n",
       "    <tr>\n",
       "      <th>24</th>\n",
       "      <td>Science Fiction</td>\n",
       "      <td>1218917</td>\n",
       "      <td>0.045902</td>\n",
       "    </tr>\n",
       "    <tr>\n",
       "      <th>5</th>\n",
       "      <td>Nonfiction</td>\n",
       "      <td>1737406</td>\n",
       "      <td>0.044359</td>\n",
       "    </tr>\n",
       "  </tbody>\n",
       "</table>\n",
       "</div>"
      ],
      "text/plain": [
       "                     name    votes     score\n",
       "genre_id                                    \n",
       "1                 Fiction  6406256  0.195253\n",
       "38               Classics  3414934  0.096687\n",
       "25                Fantasy  6850060  0.074261\n",
       "24        Science Fiction  1218917  0.045902\n",
       "5              Nonfiction  1737406  0.044359"
      ]
     },
     "execution_count": 49,
     "metadata": {},
     "output_type": "execute_result"
    }
   ],
   "source": [
    "# выведем список жанров, которые предпочитает пользователь\n",
    "\n",
    "user_genres = genres.copy()\n",
    "user_genres[\"score\"] = np.ravel(user_genres_scores)\n",
    "user_genres = user_genres[user_genres[\"score\"] > 0].sort_values(by=[\"score\"], ascending=False)\n",
    "\n",
    "user_genres.head(5)"
   ]
  },
  {
   "attachments": {},
   "cell_type": "markdown",
   "id": "59b930bc",
   "metadata": {},
   "source": [
    "__Построим рекомендации__\n",
    "\n",
    "Теперь рассчитаем рекомендации на основе двух объектов:\n",
    "* all_items_genres_csr — матрица распределения интересов всех пользователей по жанрам. Строка — вектор распределения интересов всех пользователей по жанрам для одного объекта.\n",
    "* user_genres_scores — вектор интересов пользователя по жанрам.\n",
    "\n",
    "Рекомендации будем рассчитывать с помощью косинусного сходства между user_genres_scores и всеми\n",
    "строками матрицы all_items_genres_csr."
   ]
  },
  {
   "attachments": {},
   "cell_type": "markdown",
   "id": "a3d3d90e",
   "metadata": {},
   "source": [
    "__Задание 4 из 4__\n",
    "\n",
    "Получите наиболее релевантные рекомендации для пользователя. Дополните код так, чтобы переменная top_k_indices заполнялась индексами соответствующих книг. Для этого удобно использовать np.argsort от similarity_scores, подсчитанной для всех книг."
   ]
  },
  {
   "cell_type": "code",
   "execution_count": 50,
   "id": "c96faad9",
   "metadata": {},
   "outputs": [],
   "source": [
    "from sklearn.metrics.pairwise import cosine_similarity\n",
    "\n",
    "# вычисляем сходство между вектором пользователя и векторами по книгам\n",
    "similarity_scores = cosine_similarity(all_items_genres_csr, user_genres_scores)\n",
    "\n",
    "# преобразуем в одномерный массив\n",
    "similarity_scores = similarity_scores.flatten()\n",
    "\n",
    "# получаем индексы top-k (по убыванию значений), по сути, индексы книг (encoded)\n",
    "k = 5\n",
    "top_k_indices = np.argsort(-similarity_scores)[:k] # ваш код здесь "
   ]
  },
  {
   "attachments": {},
   "cell_type": "markdown",
   "id": "107dc3be",
   "metadata": {},
   "source": [
    "После вычисления top_k_indices по полученным индексам извлеките список объектов, которые могут быть интересны пользователю, при помощи кода:"
   ]
  },
  {
   "cell_type": "code",
   "execution_count": 51,
   "id": "59d157cf",
   "metadata": {},
   "outputs": [
    {
     "data": {
      "text/html": [
       "<div>\n",
       "<style scoped>\n",
       "    .dataframe tbody tr th:only-of-type {\n",
       "        vertical-align: middle;\n",
       "    }\n",
       "\n",
       "    .dataframe tbody tr th {\n",
       "        vertical-align: top;\n",
       "    }\n",
       "\n",
       "    .dataframe thead th {\n",
       "        text-align: right;\n",
       "    }\n",
       "</style>\n",
       "<table border=\"1\" class=\"dataframe\">\n",
       "  <thead>\n",
       "    <tr style=\"text-align: right;\">\n",
       "      <th></th>\n",
       "      <th>author</th>\n",
       "      <th>title</th>\n",
       "      <th>genre_and_votes</th>\n",
       "    </tr>\n",
       "  </thead>\n",
       "  <tbody>\n",
       "    <tr>\n",
       "      <th>564712</th>\n",
       "      <td>Ray Bradbury</td>\n",
       "      <td>Farewell Summer (Green Town, #3)</td>\n",
       "      <td>{'Fiction': 170, 'Fantasy': 72, 'Science Fiction': 72, 'Classics': 52}</td>\n",
       "    </tr>\n",
       "    <tr>\n",
       "      <th>1358935</th>\n",
       "      <td>John Fowles</td>\n",
       "      <td>The Magus</td>\n",
       "      <td>{'Fiction': 1204, 'Classics': 421, 'Fantasy': 228, 'Mystery': 203, 'Literature': 167}</td>\n",
       "    </tr>\n",
       "    <tr>\n",
       "      <th>80465</th>\n",
       "      <td>G.K. Chesterton</td>\n",
       "      <td>The Napoleon of Notting Hill</td>\n",
       "      <td>{'Fiction': 166, 'Classics': 88, 'Fantasy': 44, 'Humor': 22, 'Literature': 20}</td>\n",
       "    </tr>\n",
       "    <tr>\n",
       "      <th>1168335</th>\n",
       "      <td>Ray Bradbury</td>\n",
       "      <td>Dandelion Wine (Green Town, #1)</td>\n",
       "      <td>{'Fiction': 1438, 'Classics': 914, 'Science Fiction': 529, 'Fantasy': 456, 'Young Adult': 212}</td>\n",
       "    </tr>\n",
       "    <tr>\n",
       "      <th>2244467</th>\n",
       "      <td>Samuel Butler</td>\n",
       "      <td>Erewhon (Erewhon , #1)</td>\n",
       "      <td>{'Fiction': 162, 'Classics': 139, 'Science Fiction': 60, 'Fantasy': 55}</td>\n",
       "    </tr>\n",
       "  </tbody>\n",
       "</table>\n",
       "</div>"
      ],
      "text/plain": [
       "                  author                             title  \\\n",
       "564712      Ray Bradbury  Farewell Summer (Green Town, #3)   \n",
       "1358935      John Fowles                         The Magus   \n",
       "80465    G.K. Chesterton      The Napoleon of Notting Hill   \n",
       "1168335     Ray Bradbury   Dandelion Wine (Green Town, #1)   \n",
       "2244467    Samuel Butler            Erewhon (Erewhon , #1)   \n",
       "\n",
       "                                                                                        genre_and_votes  \n",
       "564712                           {'Fiction': 170, 'Fantasy': 72, 'Science Fiction': 72, 'Classics': 52}  \n",
       "1358935           {'Fiction': 1204, 'Classics': 421, 'Fantasy': 228, 'Mystery': 203, 'Literature': 167}  \n",
       "80465                    {'Fiction': 166, 'Classics': 88, 'Fantasy': 44, 'Humor': 22, 'Literature': 20}  \n",
       "1168335  {'Fiction': 1438, 'Classics': 914, 'Science Fiction': 529, 'Fantasy': 456, 'Young Adult': 212}  \n",
       "2244467                         {'Fiction': 162, 'Classics': 139, 'Science Fiction': 60, 'Fantasy': 55}  "
      ]
     },
     "metadata": {},
     "output_type": "display_data"
    }
   ],
   "source": [
    "selected_items = items[items[\"item_id_enc\"].isin(top_k_indices)]\n",
    "\n",
    "with pd.option_context(\"max_colwidth\", 100):\n",
    "   display(selected_items[[\"author\", \"title\", \"genre_and_votes\"]])"
   ]
  },
  {
   "attachments": {},
   "cell_type": "markdown",
   "id": "32fe2de3",
   "metadata": {},
   "source": [
    "Самым преобладающим жанром в полученных рекомендациях явл-ся Fiction. За него отдано наибольшее количество голосов. Это согласуется и со списком жанров, предпочитаемых пользователем."
   ]
  },
  {
   "attachments": {},
   "cell_type": "markdown",
   "id": "9c8f6e6c",
   "metadata": {},
   "source": [
    "__Факультативное задание__\n",
    "1. Получите по алгоритму выше рекомендации для нескольких пользователей, просмотрите их на экране. Подумайте, насколько релевантны и интересны полученные рекомендации пользователям.\n",
    "2. Попробуйте использовать другую меру сходства для получения рекомендаций, например, евклидово расстояние. Проанализируйте, отличаются ли рекомендации от предыдущих. Подумайте почему.\n",
    "3. Задайте собственные предпочтения для наиболее популярных жанров. Посмотрите рекомендации для себя. Прочитали ли бы вы рекомендованные книги?"
   ]
  },
  {
   "cell_type": "code",
   "execution_count": 32,
   "id": "49d56b39",
   "metadata": {},
   "outputs": [],
   "source": [
    "from sklearn.metrics.pairwise import cosine_similarity\n",
    "\n",
    "\n",
    "def get_recommendations_by_genres(user_id, items, events, genres, all_items_genres_csr, n=5):\n",
    "\n",
    "    \"\"\" возвращает n рекомендаций для user_id на основе предпочитаемых им жанров\"\"\"\n",
    "    \n",
    "    user_events = events.query(\"user_id == @user_id\")[[\"item_id\", \"rating\"]]\n",
    "    user_items = items[items[\"item_id\"].isin(user_events[\"item_id\"])]\n",
    "\n",
    "    #user_items_genres_csr = get_item2genre_matrix(genres, user_items) # Авторский вариант\n",
    "    user_items_genres_csr = all_items_genres_csr[user_items['item_id_enc']] # Мой вариант, рез-т тот же\n",
    "    \n",
    "    # вычислим склонность пользователя к жанрам как среднее взвешенное значение популяции на его оценки книг.\n",
    "\n",
    "    # преобразуем пользовательские оценки из списка в вектор-столбец\n",
    "    user_ratings = user_events[\"rating\"].to_numpy() / 5\n",
    "    user_ratings = np.expand_dims(user_ratings, axis=1)\n",
    "\n",
    "    user_items_genres_weighted = user_items_genres_csr.multiply(user_ratings)\n",
    "    user_genres_scores = np.asarray(user_items_genres_weighted.mean(axis=0))\n",
    "\n",
    "    # вычисляем сходство между вектором пользователя и векторами по книгам\n",
    "    similarity_scores = cosine_similarity(all_items_genres_csr, user_genres_scores)\n",
    "\n",
    "    # преобразуем в одномерный массив\n",
    "    similarity_scores = similarity_scores.flatten()\n",
    "\n",
    "    # получаем индексы top-n (по убыванию значений), по сути, индексы книг (encoded)\n",
    "    top_n_indices = np.argsort(-similarity_scores)[:n] \n",
    "\n",
    "    selected_items = items[items[\"item_id_enc\"].isin(top_n_indices)]\n",
    "    \n",
    "    return selected_items['item_id'].to_list(), similarity_scores[top_n_indices].tolist()"
   ]
  },
  {
   "cell_type": "code",
   "execution_count": 33,
   "id": "0ef87347",
   "metadata": {},
   "outputs": [],
   "source": [
    "# Для примера взял только первые 1000 юзеров\n",
    "\n",
    "users_ids = events_train['user_id'].unique()[:1000] \n",
    "\n",
    "n = 5\n",
    "items_ids = []\n",
    "scores = []\n",
    "for i, user_id in enumerate(users_ids):\n",
    "    user_items_ids, user_scores = get_recommendations_by_genres(user_id, items, events_train, genres, all_items_genres_csr, n)\n",
    "    items_ids.append(user_items_ids)\n",
    "    scores.append(user_scores)\n",
    "\n",
    "    if i >= 1000:\n",
    "        break\n",
    "\n",
    "content_recommendations = pd.DataFrame({\n",
    "    \"user_id\": users_ids,\n",
    "    \"item_id\": items_ids, \n",
    "    \"score\": scores})\n",
    "\n",
    "content_recommendations = content_recommendations.explode([\"item_id\", \"score\"], ignore_index=True)"
   ]
  },
  {
   "cell_type": "code",
   "execution_count": 34,
   "id": "d6038a06",
   "metadata": {},
   "outputs": [
    {
     "data": {
      "text/html": [
       "<div>\n",
       "<style scoped>\n",
       "    .dataframe tbody tr th:only-of-type {\n",
       "        vertical-align: middle;\n",
       "    }\n",
       "\n",
       "    .dataframe tbody tr th {\n",
       "        vertical-align: top;\n",
       "    }\n",
       "\n",
       "    .dataframe thead th {\n",
       "        text-align: right;\n",
       "    }\n",
       "</style>\n",
       "<table border=\"1\" class=\"dataframe\">\n",
       "  <thead>\n",
       "    <tr style=\"text-align: right;\">\n",
       "      <th></th>\n",
       "      <th>user_id</th>\n",
       "      <th>book_id</th>\n",
       "      <th>score</th>\n",
       "    </tr>\n",
       "  </thead>\n",
       "  <tbody>\n",
       "    <tr>\n",
       "      <th>0</th>\n",
       "      <td>1000000</td>\n",
       "      <td>11841</td>\n",
       "      <td>0.931126</td>\n",
       "    </tr>\n",
       "    <tr>\n",
       "      <th>1</th>\n",
       "      <td>1000000</td>\n",
       "      <td>18130</td>\n",
       "      <td>0.920573</td>\n",
       "    </tr>\n",
       "    <tr>\n",
       "      <th>2</th>\n",
       "      <td>1000000</td>\n",
       "      <td>24761</td>\n",
       "      <td>0.919324</td>\n",
       "    </tr>\n",
       "    <tr>\n",
       "      <th>3</th>\n",
       "      <td>1000000</td>\n",
       "      <td>84981</td>\n",
       "      <td>0.9118</td>\n",
       "    </tr>\n",
       "    <tr>\n",
       "      <th>4</th>\n",
       "      <td>1000000</td>\n",
       "      <td>7052617</td>\n",
       "      <td>0.906302</td>\n",
       "    </tr>\n",
       "    <tr>\n",
       "      <th>...</th>\n",
       "      <td>...</td>\n",
       "      <td>...</td>\n",
       "      <td>...</td>\n",
       "    </tr>\n",
       "    <tr>\n",
       "      <th>4995</th>\n",
       "      <td>1001004</td>\n",
       "      <td>10410278</td>\n",
       "      <td>0.959062</td>\n",
       "    </tr>\n",
       "    <tr>\n",
       "      <th>4996</th>\n",
       "      <td>1001004</td>\n",
       "      <td>12256544</td>\n",
       "      <td>0.956481</td>\n",
       "    </tr>\n",
       "    <tr>\n",
       "      <th>4997</th>\n",
       "      <td>1001004</td>\n",
       "      <td>14743247</td>\n",
       "      <td>0.955078</td>\n",
       "    </tr>\n",
       "    <tr>\n",
       "      <th>4998</th>\n",
       "      <td>1001004</td>\n",
       "      <td>16070143</td>\n",
       "      <td>0.95395</td>\n",
       "    </tr>\n",
       "    <tr>\n",
       "      <th>4999</th>\n",
       "      <td>1001004</td>\n",
       "      <td>23534737</td>\n",
       "      <td>0.953654</td>\n",
       "    </tr>\n",
       "  </tbody>\n",
       "</table>\n",
       "<p>5000 rows × 3 columns</p>\n",
       "</div>"
      ],
      "text/plain": [
       "      user_id   book_id     score\n",
       "0     1000000     11841  0.931126\n",
       "1     1000000     18130  0.920573\n",
       "2     1000000     24761  0.919324\n",
       "3     1000000     84981    0.9118\n",
       "4     1000000   7052617  0.906302\n",
       "...       ...       ...       ...\n",
       "4995  1001004  10410278  0.959062\n",
       "4996  1001004  12256544  0.956481\n",
       "4997  1001004  14743247  0.955078\n",
       "4998  1001004  16070143   0.95395\n",
       "4999  1001004  23534737  0.953654\n",
       "\n",
       "[5000 rows x 3 columns]"
      ]
     },
     "execution_count": 34,
     "metadata": {},
     "output_type": "execute_result"
    }
   ],
   "source": [
    "content_recommendations"
   ]
  },
  {
   "cell_type": "code",
   "execution_count": 35,
   "id": "34a39134",
   "metadata": {},
   "outputs": [],
   "source": [
    "# Сохраним полученные рекомендации в файл\n",
    "#content_recommendations.to_parquet(\"content_recommendations.parquet\")"
   ]
  },
  {
   "attachments": {},
   "cell_type": "markdown",
   "id": "dfdeb7c3-0935-4bee-8b93-dfe26091289b",
   "metadata": {},
   "source": [
    "### Тема 3, Урок 4: Валидация"
   ]
  },
  {
   "attachments": {},
   "cell_type": "markdown",
   "id": "a3f69d5c",
   "metadata": {},
   "source": [
    "Посчитаем recall и precision для ALS-рекомендаций (als_recommendations). Для этого события в тестовой выборке и рекомендации для одних и тех же пользователей разметим признаками:\n",
    "* gt (ground truth): объект есть в тестовой выборке;\n",
    "* pr (predicted): объект есть в рекомендациях.\n",
    "\n",
    "Теперь разметим признаки бинарной классификации:\n",
    "* TP: объект есть и в тестовой выборке, и в рекомендациях (истинная рекомендация),\n",
    "* FP: объекта нет в тестовой выборке, но он есть в рекомендациях (ложноположительная рекомендация),\n",
    "* FN: объект есть в тестовой выборке, но его нет в рекомендациях (ложноотрицательная рекомендация)"
   ]
  },
  {
   "cell_type": "code",
   "execution_count": 31,
   "id": "05850eab-168a-4338-8692-cd1a8fefb685",
   "metadata": {},
   "outputs": [],
   "source": [
    "def process_events_recs_for_binary_metrics(events_train, events_test, recs, top_k=None):\n",
    "\n",
    "    \"\"\"\n",
    "    размечает пары <user_id, item_id> для общего множества пользователей признаками\n",
    "    - gt (ground truth)\n",
    "    - pr (prediction)\n",
    "    top_k: расчёт ведётся только для top k-рекомендаций\n",
    "    \"\"\"\n",
    "\n",
    "    events_test[\"gt\"] = True\n",
    "    common_users = set(events_test[\"user_id\"]) & set(recs[\"user_id\"])\n",
    "\n",
    "    print(f\"Common users: {len(common_users)}\")\n",
    "    \n",
    "    events_for_common_users = events_test[events_test[\"user_id\"].isin(common_users)].copy()\n",
    "    recs_for_common_users = recs[recs[\"user_id\"].isin(common_users)].copy()\n",
    "\n",
    "    recs_for_common_users = recs_for_common_users.sort_values([\"user_id\", \"score\"], ascending=[True, False])\n",
    "\n",
    "    # оставляет только те item_id, которые были в events_train, \n",
    "    # т. к. модель не имела никакой возможности давать рекомендации для новых айтемов\n",
    "    events_for_common_users = events_for_common_users[events_for_common_users[\"item_id\"].isin(events_train[\"item_id\"].unique())]\n",
    "\n",
    "    if top_k is not None:\n",
    "        recs_for_common_users = recs_for_common_users.groupby(\"user_id\").head(top_k)\n",
    "    \n",
    "    events_recs_common = events_for_common_users[[\"user_id\", \"item_id\", \"gt\"]].merge(\n",
    "        recs_for_common_users[[\"user_id\", \"item_id\", \"score\"]], \n",
    "        on=[\"user_id\", \"item_id\"], how=\"outer\")    \n",
    "\n",
    "    events_recs_common[\"gt\"] = events_recs_common[\"gt\"].fillna(False)\n",
    "    events_recs_common[\"pr\"] = ~events_recs_common[\"score\"].isnull()\n",
    "    \n",
    "    events_recs_common[\"tp\"] = events_recs_common[\"gt\"] & events_recs_common[\"pr\"]\n",
    "    events_recs_common[\"fp\"] = ~events_recs_common[\"gt\"] & events_recs_common[\"pr\"]\n",
    "    events_recs_common[\"fn\"] = events_recs_common[\"gt\"] & ~events_recs_common[\"pr\"]\n",
    "\n",
    "    return events_recs_common"
   ]
  },
  {
   "attachments": {},
   "cell_type": "markdown",
   "id": "53a225bb",
   "metadata": {},
   "source": [
    "Обработаем ALS-рекомендации для подсчёта метрик для 5 лучших рекомендаций:"
   ]
  },
  {
   "cell_type": "code",
   "execution_count": 32,
   "id": "28f429e6-b9da-4231-afba-25dd8e606a23",
   "metadata": {},
   "outputs": [
    {
     "name": "stdout",
     "output_type": "stream",
     "text": [
      "Common users: 123223\n"
     ]
    }
   ],
   "source": [
    "events_recs_for_binary_metrics = process_events_recs_for_binary_metrics(events_train,\n",
    "                                                                        events_test, \n",
    "                                                                        als_recommendations,\n",
    "                                                                        top_k=5)"
   ]
  },
  {
   "attachments": {},
   "cell_type": "markdown",
   "id": "92bc31c7",
   "metadata": {},
   "source": [
    "__Задание__\n",
    "\n",
    "Дополните код функции compute_cls_metrics для расчёта recall. Получите значения метрик precision@5, recall@5"
   ]
  },
  {
   "cell_type": "code",
   "execution_count": 33,
   "id": "b4e4509b-6289-4ad6-a767-cbb2ace791ee",
   "metadata": {},
   "outputs": [],
   "source": [
    "def compute_cls_metrics(events_recs_for_binary_metrics):\n",
    "    \n",
    "    groupper = events_recs_for_binary_metrics.groupby(\"user_id\")\n",
    "\n",
    "    # precision = tp / (tp + fp)\n",
    "    precision = groupper[\"tp\"].sum() / (groupper[\"tp\"].sum() + groupper[\"fp\"].sum())\n",
    "    precision = precision.fillna(0).mean()\n",
    "    \n",
    "    # recall = tp / (tp + fn)\n",
    "    recall = groupper[\"tp\"].sum() / (groupper[\"tp\"].sum() + groupper[\"fn\"].sum()) # ваш код здесь\n",
    "    recall = recall.fillna(0).mean()\n",
    "\n",
    "    return precision, recall"
   ]
  },
  {
   "attachments": {},
   "cell_type": "markdown",
   "id": "6d680500",
   "metadata": {},
   "source": [
    "Recall@5 должен быть равен 0.014"
   ]
  },
  {
   "cell_type": "code",
   "execution_count": 34,
   "id": "70aef69f",
   "metadata": {},
   "outputs": [
    {
     "name": "stdout",
     "output_type": "stream",
     "text": [
      "0.008 0.014\n"
     ]
    }
   ],
   "source": [
    "precision, recall = compute_cls_metrics(events_recs_for_binary_metrics)\n",
    "print(round(precision, 3), round(recall, 3))"
   ]
  },
  {
   "attachments": {},
   "cell_type": "markdown",
   "id": "92d9ca53",
   "metadata": {},
   "source": [
    "__Факультативное задание__\n",
    "\n",
    "Посчитайте метрики precision@10, recall@10. Сравните их значения со значениями для precision@5, recall@10. Подумайте о причинах таких отличий."
   ]
  },
  {
   "cell_type": "code",
   "execution_count": 107,
   "id": "7e9ad6e2",
   "metadata": {},
   "outputs": [
    {
     "name": "stdout",
     "output_type": "stream",
     "text": [
      "Common users: 123223\n"
     ]
    }
   ],
   "source": [
    "events_recs_for_binary_metrics_10 = process_events_recs_for_binary_metrics(events_train,\n",
    "                                                                           events_test, \n",
    "                                                                           als_recommendations,\n",
    "                                                                           top_k=10)"
   ]
  },
  {
   "cell_type": "code",
   "execution_count": 109,
   "id": "712ffc85",
   "metadata": {},
   "outputs": [
    {
     "name": "stdout",
     "output_type": "stream",
     "text": [
      "0.009 0.031\n"
     ]
    }
   ],
   "source": [
    "precision_10, recall_10 = compute_cls_metrics(events_recs_for_binary_metrics_10)\n",
    "print(round(precision_10, 3), round(recall_10, 3))"
   ]
  },
  {
   "attachments": {},
   "cell_type": "markdown",
   "id": "f78475fc-bee1-48f4-be55-329db8ecd326",
   "metadata": {},
   "source": [
    "## Тема 4: Двухстадийный подход"
   ]
  },
  {
   "attachments": {},
   "cell_type": "markdown",
   "id": "a461c0df",
   "metadata": {},
   "source": [
    "### Тема 4, Урок 2: Специфичные метрики"
   ]
  },
  {
   "attachments": {},
   "cell_type": "markdown",
   "id": "348fe8d3",
   "metadata": {},
   "source": [
    "__Задание 1 из 2__\n",
    "\n",
    "Для рекомендаций, сохранённых в переменной als_recommendations, посчитайте покрытие по объектам согласно формуле выше. При этом используйте весь топ-100 рекомендаций. Ответ округлите до сотых."
   ]
  },
  {
   "cell_type": "code",
   "execution_count": 12,
   "id": "2a4cf639-1afa-4e89-8ba5-eee48a1bd0e1",
   "metadata": {},
   "outputs": [
    {
     "data": {
      "text/html": [
       "<div>\n",
       "<style scoped>\n",
       "    .dataframe tbody tr th:only-of-type {\n",
       "        vertical-align: middle;\n",
       "    }\n",
       "\n",
       "    .dataframe tbody tr th {\n",
       "        vertical-align: top;\n",
       "    }\n",
       "\n",
       "    .dataframe thead th {\n",
       "        text-align: right;\n",
       "    }\n",
       "</style>\n",
       "<table border=\"1\" class=\"dataframe\">\n",
       "  <thead>\n",
       "    <tr style=\"text-align: right;\">\n",
       "      <th></th>\n",
       "      <th>user_id</th>\n",
       "      <th>book_id</th>\n",
       "      <th>score</th>\n",
       "    </tr>\n",
       "  </thead>\n",
       "  <tbody>\n",
       "    <tr>\n",
       "      <th>0</th>\n",
       "      <td>1000000</td>\n",
       "      <td>3</td>\n",
       "      <td>0.990942</td>\n",
       "    </tr>\n",
       "    <tr>\n",
       "      <th>1</th>\n",
       "      <td>1000000</td>\n",
       "      <td>15881</td>\n",
       "      <td>0.896617</td>\n",
       "    </tr>\n",
       "    <tr>\n",
       "      <th>2</th>\n",
       "      <td>1000000</td>\n",
       "      <td>5</td>\n",
       "      <td>0.864405</td>\n",
       "    </tr>\n",
       "    <tr>\n",
       "      <th>3</th>\n",
       "      <td>1000000</td>\n",
       "      <td>6</td>\n",
       "      <td>0.822254</td>\n",
       "    </tr>\n",
       "    <tr>\n",
       "      <th>4</th>\n",
       "      <td>1000000</td>\n",
       "      <td>2</td>\n",
       "      <td>0.774096</td>\n",
       "    </tr>\n",
       "  </tbody>\n",
       "</table>\n",
       "</div>"
      ],
      "text/plain": [
       "   user_id  book_id     score\n",
       "0  1000000        3  0.990942\n",
       "1  1000000    15881  0.896617\n",
       "2  1000000        5  0.864405\n",
       "3  1000000        6  0.822254\n",
       "4  1000000        2  0.774096"
      ]
     },
     "execution_count": 12,
     "metadata": {},
     "output_type": "execute_result"
    }
   ],
   "source": [
    "# Загружаем als-рекомендации\n",
    "als_recommendations = pd.read_parquet(\"als_recommendations.parquet\")\n",
    "als_recommendations.head()"
   ]
  },
  {
   "attachments": {},
   "cell_type": "markdown",
   "id": "43417da4",
   "metadata": {},
   "source": [
    "Должно получиться 0.09"
   ]
  },
  {
   "cell_type": "code",
   "execution_count": 35,
   "id": "48e4d676-ede1-4725-8e31-457ebc0452da",
   "metadata": {},
   "outputs": [
    {
     "name": "stdout",
     "output_type": "stream",
     "text": [
      "0.09\n"
     ]
    }
   ],
   "source": [
    "# расчёт покрытия по объектам\n",
    "cov_items = als_recommendations['item_id'].nunique() / len(items) # ваш код здесь\n",
    "print(f\"{cov_items:.2f}\")"
   ]
  },
  {
   "attachments": {},
   "cell_type": "markdown",
   "id": "4d28fc4c",
   "metadata": {},
   "source": [
    "__Задание 2 из 2__\n",
    "\n",
    "Посчитайте среднее Novelty@5 для als_recommendations, ответ округлите до сотых. \n",
    "\n",
    "Для этого: \n",
    "* разметьте каждую рекомендацию в als_recommendations булевым признаком read (False — пользователь не читал книгу, True — пользователь читал книгу), используя events_train,\n",
    "* посчитайте Novelty@5 для каждого пользователя,\n",
    "* посчитайте среднеарифметическое для полученных значений Novelty@5.\n",
    "\n",
    "Завершите выполнение такого расчёта с помощью кода ниже, должно получиться 0.61"
   ]
  },
  {
   "cell_type": "code",
   "execution_count": 36,
   "id": "4d8c21c9",
   "metadata": {},
   "outputs": [
    {
     "name": "stdout",
     "output_type": "stream",
     "text": [
      "0.61\n"
     ]
    }
   ],
   "source": [
    "# разметим каждую рекомендацию признаком read\n",
    "events_train[\"read\"] = True\n",
    "als_recommendations = als_recommendations.merge(events_train[['read', \"user_id\", \"item_id\"]], on=[\"user_id\", \"item_id\"], how=\"left\") # ваш код здесь\n",
    "als_recommendations[\"read\"] = als_recommendations[\"read\"].fillna(False).astype(\"bool\")\n",
    "\n",
    "# проставим ранги\n",
    "als_recommendations = als_recommendations.sort_values(by='score', ascending=False) # ваш код здесь\n",
    "als_recommendations[\"rank\"] = als_recommendations.groupby(\"user_id\").cumcount() + 1\n",
    "\n",
    "# посчитаем novelty по пользователям\n",
    "novelty_5 = (1 - als_recommendations.query(\"rank <= 5\").groupby(\"user_id\")[\"read\"].mean())\n",
    "\n",
    "# посчитаем средний novelty\n",
    "# ваш код здесь\n",
    "novelty_5_mean = novelty_5.mean()\n",
    "print(f\"{novelty_5_mean:.2f}\")"
   ]
  },
  {
   "attachments": {},
   "cell_type": "markdown",
   "id": "bc29e64d",
   "metadata": {},
   "source": [
    "### Тема 4, Урок 3: Двухстадийный подход"
   ]
  },
  {
   "attachments": {},
   "cell_type": "markdown",
   "id": "489a3a96",
   "metadata": {},
   "source": [
    "__Задание 1 из 6__\n",
    "\n",
    "Используем отложенную тестовую часть данных — назовём её events_test — для получения двух новых частей данных:\n",
    "* одна, составляющая первые 45 дней, будет использоваться для таргетов,\n",
    "* другая, состоящая из 45 последних дней, будет новой тестовой выборкой.\n",
    "\n",
    "\n",
    "Завершите код так, чтобы в events_labels оказалась первая часть данных, а в events_test_2 — вторая."
   ]
  },
  {
   "cell_type": "code",
   "execution_count": 37,
   "id": "2e360d9e",
   "metadata": {},
   "outputs": [],
   "source": [
    "# задаём точку разбиения\n",
    "split_date_for_labels = pd.to_datetime(\"2017-09-15\").date()\n",
    "\n",
    "split_date_for_labels_idx = events_test[\"started_at\"] < split_date_for_labels\n",
    "events_labels = events_test[split_date_for_labels_idx].copy() # ваш код здесь\n",
    "events_test_2 = events_test[~split_date_for_labels_idx].copy() # ваш код здесь"
   ]
  },
  {
   "attachments": {},
   "cell_type": "markdown",
   "id": "a47a8f31",
   "metadata": {},
   "source": [
    "Проверим кол-во уникальных пользователей в events_labels, должно получиться 99849"
   ]
  },
  {
   "cell_type": "code",
   "execution_count": 38,
   "id": "d99db2ab-231d-4cf8-8221-5e00e9e6e4c0",
   "metadata": {},
   "outputs": [
    {
     "data": {
      "text/plain": [
       "99849"
      ]
     },
     "execution_count": 38,
     "metadata": {},
     "output_type": "execute_result"
    }
   ],
   "source": [
    "events_labels['user_id'].nunique()"
   ]
  },
  {
   "attachments": {},
   "cell_type": "markdown",
   "id": "809d1cb1",
   "metadata": {},
   "source": [
    "__Подготовка кандидатов для обучения__\n",
    "\n",
    "Подготовим список кандидатов для обучения ранжирующей модели. В качестве кандидатогенераторов возьмём ALS и контентную модель на основе жанровых предпочтений, известных нам из прошлых уроков. Рекомендации от них были заранее подготовлены и сохранены в файлах als_recommendations.parquet и content_recommendations.parquet в директории candidates/training. Подготовка заключается в объединении списков рекомендаций по совпадению user_id, item_id. "
   ]
  },
  {
   "attachments": {},
   "cell_type": "markdown",
   "id": "2be4ec30",
   "metadata": {},
   "source": [
    "__Задание 2 из 6__\n",
    "\n",
    "Объедините имеющихся кандидатов по совпадению user_id, item_id в один список."
   ]
  },
  {
   "cell_type": "code",
   "execution_count": 25,
   "id": "147eae99",
   "metadata": {},
   "outputs": [
    {
     "data": {
      "text/plain": [
       "'c:\\\\Users\\\\Kirill_Nosov\\\\_Repos\\\\mle_projects\\\\mle-recsys'"
      ]
     },
     "execution_count": 25,
     "metadata": {},
     "output_type": "execute_result"
    }
   ],
   "source": [
    "os.makedirs('./candidates/training/', exist_ok=True)\n",
    "os.getcwd()"
   ]
  },
  {
   "cell_type": "code",
   "execution_count": 24,
   "id": "3ff1da3c",
   "metadata": {},
   "outputs": [
    {
     "name": "stdout",
     "output_type": "stream",
     "text": [
      "\n",
      "Saved under candidates/training/als_recommendations.parquet\n"
     ]
    }
   ],
   "source": [
    "#!python -m wget -o candidates/training/content_recommendations.parquet https://storage.yandexcloud.net/mle-data/candidates/training/content_recommendations.parquet\n",
    "#!python -m wget -o candidates/training/als_recommendations.parquet https://storage.yandexcloud.net/mle-data/candidates/training/als_recommendations.parquet"
   ]
  },
  {
   "cell_type": "code",
   "execution_count": 39,
   "id": "e9d22c76",
   "metadata": {},
   "outputs": [],
   "source": [
    "# загружаем рекомендации от двух базовых генераторов\n",
    "als_recommendations = pd.read_parquet(\"candidates/training/als_recommendations.parquet\")\n",
    "content_recommendations = pd.read_parquet(\"candidates/training/content_recommendations.parquet\")"
   ]
  },
  {
   "cell_type": "code",
   "execution_count": 40,
   "id": "2ef764d6-f2cc-4e72-bd7f-81a69dd7380d",
   "metadata": {},
   "outputs": [],
   "source": [
    "candidates = pd.merge(\n",
    "    als_recommendations[[\"user_id\", \"item_id\", \"score\"]].rename(columns={\"score\": \"als_score\"}),\n",
    "    content_recommendations[[\"user_id\", \"item_id\", \"score\"]].rename(columns={\"score\": \"cnt_score\"}),\n",
    "    on=[\"user_id\", \"item_id\"],\n",
    "    how=\"outer\") # ваш код здесь"
   ]
  },
  {
   "attachments": {},
   "cell_type": "markdown",
   "id": "8864e4ff",
   "metadata": {},
   "source": [
    "Проверим кол-во записей в candidates, должно получиться 82993094"
   ]
  },
  {
   "cell_type": "code",
   "execution_count": 41,
   "id": "d37c2c6c",
   "metadata": {},
   "outputs": [
    {
     "data": {
      "text/plain": [
       "82993094"
      ]
     },
     "execution_count": 41,
     "metadata": {},
     "output_type": "execute_result"
    }
   ],
   "source": [
    "len(candidates)"
   ]
  },
  {
   "attachments": {},
   "cell_type": "markdown",
   "id": "f99681f3",
   "metadata": {},
   "source": [
    "__Таргеты__\n",
    "\n",
    "Кандидаты готовы, теперь можно сформировать для них таргеты. Каждая строка, которая формируется для обучения модели ранжирования, — это строка, ассоциированная с парой «пользователь — объект». Положительным таргетом, то есть 1, будем считать любое значимое действие пользователя с объектом, а отрицательным, то есть 0, — его отсутствие. В таком случае модель ранжирования обучается предсказывать вероятность взаимодействия пользователя с объектом, рекомендуемым кандидатогенератором.\n",
    "\n",
    "При этом следует контролировать баланс классов и при необходимости проводить негативное семплирование: уменьшать количество строк с отрицательным таргетом, чтобы не было сильного дисбаланса классов.\n",
    "Для негативного семплирования возможны различные стратегии: отбрасывание случайных записей равномерно, пропорционально их популярности, с различными весами и так далее.\n",
    "\n",
    "Добавим в candidates таргеты, используя историю взаимодействий в events_labels. "
   ]
  },
  {
   "attachments": {},
   "cell_type": "markdown",
   "id": "8b84bf23",
   "metadata": {},
   "source": [
    "__Задание 3 из 6__\n",
    "\n",
    "Дополните код ниже. В candidates добавьте колонку target со значениями:\n",
    "- 1 для тех item_id, которые пользователь прочитал (положительный пример).\n",
    "- 0 — для всех остальных (негативный пример).\n",
    "\n",
    "В candidates_for_train отберите все положительные примеры, а также не менее четырёх негативных примеров для каждого пользователя в положительных примерах."
   ]
  },
  {
   "cell_type": "code",
   "execution_count": 42,
   "id": "9dcc8048-f4b5-411f-913a-fd73c6a6ff2a",
   "metadata": {},
   "outputs": [],
   "source": [
    "# добавляем таргет к кандидатам со значением:\n",
    "# — 1 для тех item_id, которые пользователь прочитал\n",
    "# — 0, для всех остальных \n",
    "\n",
    "events_labels[\"target\"] = 1\n",
    "candidates = candidates.merge(events_labels[[\"user_id\", \"item_id\", \"target\"]], \n",
    "                              on=[\"user_id\", \"item_id\"], # ваш код здесь \n",
    "                              how='left') \n",
    "candidates[\"target\"] = candidates[\"target\"].fillna(0).astype(\"int\")\n",
    "\n",
    "# в кандидатах оставляем только тех пользователей, у которых есть хотя бы один положительный таргет\n",
    "candidates_to_sample = candidates.groupby(\"user_id\").filter(lambda x: x[\"target\"].sum() > 0)\n",
    "\n",
    "# для каждого пользователя оставляем только 4 негативных примера\n",
    "negatives_per_user = 4\n",
    "candidates_for_train = pd.concat([\n",
    "    candidates_to_sample.query(\"target == 1\"), # ваш код здесь\n",
    "    candidates_to_sample.query(\"target == 0\") \\\n",
    "        .groupby(\"user_id\") \\\n",
    "        .apply(lambda x: x.sample(negatives_per_user, random_state=0))\n",
    "    ])"
   ]
  },
  {
   "attachments": {},
   "cell_type": "markdown",
   "id": "ba6aed30",
   "metadata": {},
   "source": [
    "Проверим кол-во записей в candidates_for_train, должно получтиься 213708"
   ]
  },
  {
   "cell_type": "code",
   "execution_count": 43,
   "id": "dd6c82df-981f-441a-8dc2-c7b06ab2b6f7",
   "metadata": {},
   "outputs": [
    {
     "data": {
      "text/plain": [
       "213708"
      ]
     },
     "execution_count": 43,
     "metadata": {},
     "output_type": "execute_result"
    }
   ],
   "source": [
    "len(candidates_for_train)"
   ]
  },
  {
   "attachments": {},
   "cell_type": "markdown",
   "id": "e7bf4594",
   "metadata": {},
   "source": [
    "__Обучение модели__"
   ]
  },
  {
   "cell_type": "code",
   "execution_count": 29,
   "id": "8788cba9-0396-46a2-b2af-1ecbd65b944e",
   "metadata": {},
   "outputs": [
    {
     "name": "stdout",
     "output_type": "stream",
     "text": [
      "0:\tlearn: 0.6526062\ttotal: 175ms\tremaining: 2m 54s\n",
      "100:\tlearn: 0.5119048\ttotal: 2.6s\tremaining: 23.1s\n",
      "200:\tlearn: 0.5112058\ttotal: 5.07s\tremaining: 20.2s\n",
      "300:\tlearn: 0.5105778\ttotal: 7.59s\tremaining: 17.6s\n",
      "400:\tlearn: 0.5100299\ttotal: 10.1s\tremaining: 15.1s\n",
      "500:\tlearn: 0.5095632\ttotal: 12.5s\tremaining: 12.4s\n",
      "600:\tlearn: 0.5091520\ttotal: 14.9s\tremaining: 9.88s\n",
      "700:\tlearn: 0.5087528\ttotal: 17.3s\tremaining: 7.36s\n",
      "800:\tlearn: 0.5084194\ttotal: 19.9s\tremaining: 4.94s\n",
      "900:\tlearn: 0.5080962\ttotal: 22.6s\tremaining: 2.48s\n",
      "999:\tlearn: 0.5078292\ttotal: 25.2s\tremaining: 0us\n"
     ]
    },
    {
     "data": {
      "text/plain": [
       "<catboost.core.CatBoostClassifier at 0x1f8858d3d10>"
      ]
     },
     "execution_count": 29,
     "metadata": {},
     "output_type": "execute_result"
    }
   ],
   "source": [
    "from catboost import CatBoostClassifier, Pool\n",
    "\n",
    "# задаём имена колонок признаков и таргета\n",
    "features = ['als_score', 'cnt_score']\n",
    "target = 'target'\n",
    "\n",
    "# Create the Pool object\n",
    "train_data = Pool(\n",
    "    data=candidates_for_train[features], \n",
    "    label=candidates_for_train[target])\n",
    "\n",
    "# инициализируем модель CatBoostClassifier\n",
    "cb_model = CatBoostClassifier(\n",
    "    iterations=1000,\n",
    "    learning_rate=0.1,\n",
    "    depth=6,\n",
    "    loss_function='Logloss',\n",
    "    verbose=100,\n",
    "    random_seed=0\n",
    ")\n",
    "\n",
    "# тренируем модель\n",
    "cb_model.fit(train_data)"
   ]
  },
  {
   "cell_type": "code",
   "execution_count": 30,
   "id": "7b0c8abd",
   "metadata": {},
   "outputs": [],
   "source": [
    "os.makedirs('models/', exist_ok=True)\n",
    "cb_model.save_model('models/cb_model.cbm')"
   ]
  },
  {
   "attachments": {},
   "cell_type": "markdown",
   "id": "6662ec22",
   "metadata": {},
   "source": [
    "Теперь можно получить финальные рекомендации, используя обученную модель, сохранённую в переменной cb_model."
   ]
  },
  {
   "attachments": {},
   "cell_type": "markdown",
   "id": "e1459a7e",
   "metadata": {},
   "source": [
    "__Подготовка кандидатов для рекомендаций__\n",
    "\n",
    "Представим, что натренированная модель используется только некоторое время спустя, когда уже появились новые рекомендации (кандидаты) от базовых генераторов, обученных на объединении событий из events_train и events_label. Иными словами, когда события из events_label уже стали частью тренировочного набора данных. Эти новые рекомендации были заранее подготовлены и сохранены в файлах als_recommendations.parquet и content_recommendations.parquet в директории candidates/inference. Используем их для составления нового списка кандидатов candidates_to_rank, который понадобится готовой ранжирующей модели. "
   ]
  },
  {
   "cell_type": "code",
   "execution_count": 82,
   "id": "774ad28f",
   "metadata": {},
   "outputs": [],
   "source": [
    "os.makedirs('candidates/inference/', exist_ok=True)"
   ]
  },
  {
   "cell_type": "code",
   "execution_count": 84,
   "id": "e3045e54",
   "metadata": {},
   "outputs": [
    {
     "name": "stdout",
     "output_type": "stream",
     "text": [
      "\n",
      "Saved under candidates/inference/content_recommendations.parquet\n",
      "\n",
      "Saved under candidates/inference/als_recommendations.parquet\n"
     ]
    }
   ],
   "source": [
    "!python -m wget -o candidates/inference/content_recommendations.parquet https://storage.yandexcloud.net/mle-data/candidates/inference/content_recommendations.parquet\n",
    "!python -m wget -o candidates/inference/als_recommendations.parquet https://storage.yandexcloud.net/mle-data/candidates/inference/als_recommendations.parquet"
   ]
  },
  {
   "cell_type": "code",
   "execution_count": 44,
   "id": "3f34acc1",
   "metadata": {},
   "outputs": [],
   "source": [
    "# загружаем новые рекомендации от двух базовых генераторов\n",
    "als_recommendations_2 = pd.read_parquet(\"candidates/inference/als_recommendations.parquet\")\n",
    "content_recommendations_2 = pd.read_parquet(\"candidates/inference/content_recommendations.parquet\")"
   ]
  },
  {
   "attachments": {},
   "cell_type": "markdown",
   "id": "ef5f4527",
   "metadata": {},
   "source": [
    "__Задание 4 из 6__\n",
    "\n",
    "Дополните код ниже так, чтобы в candidates_to_rank попали кандидаты от обоих базовых генераторов подобно тому, как это было сделано для фазы тренировки выше."
   ]
  },
  {
   "cell_type": "code",
   "execution_count": 45,
   "id": "27aed9a2-88d9-4375-b0b0-7333aea7b1e0",
   "metadata": {},
   "outputs": [],
   "source": [
    "candidates_to_rank = pd.merge(\n",
    "    als_recommendations_2[[\"user_id\", \"item_id\", \"score\"]].rename(columns={\"score\": \"als_score\"}),\n",
    "    content_recommendations_2[[\"user_id\", \"item_id\", \"score\"]].rename(columns={\"score\": \"cnt_score\"}),\n",
    "    on=[\"user_id\", \"item_id\"],\n",
    "    how=\"outer\"\n",
    ") # ваш код здесь\n",
    "\n",
    "# оставляем только тех пользователей, что есть в тестовой выборке, для экономии ресурсов\n",
    "candidates_to_rank = candidates_to_rank[candidates_to_rank[\"user_id\"].isin(events_test_2[\"user_id\"].drop_duplicates())]"
   ]
  },
  {
   "attachments": {},
   "cell_type": "markdown",
   "id": "95777d52",
   "metadata": {},
   "source": [
    "Проверим кол-во записей в candidates_to_rank, должно получиться 14517152"
   ]
  },
  {
   "cell_type": "code",
   "execution_count": 46,
   "id": "344f7f13-e43e-490c-a816-43d25c5a4a5f",
   "metadata": {},
   "outputs": [
    {
     "data": {
      "text/plain": [
       "14517152"
      ]
     },
     "execution_count": 46,
     "metadata": {},
     "output_type": "execute_result"
    }
   ],
   "source": [
    "len(candidates_to_rank)"
   ]
  },
  {
   "attachments": {},
   "cell_type": "markdown",
   "id": "24952283",
   "metadata": {},
   "source": [
    "__Ранжирование кандидатов для рекомендаций__\n",
    "\n",
    "Применим обученную ранжирующую модель к кандидатам для рекомендаций. Таргет уже не нужен, поскольку мы будем применять модель в режиме инференса."
   ]
  },
  {
   "attachments": {},
   "cell_type": "markdown",
   "id": "8ce773b3",
   "metadata": {},
   "source": [
    "__Задание 5 из 6__\n",
    "\n",
    "Дополните код для того, чтобы вызвать модель и получить для каждого пользователя топ-100 рекомендаций — значение rank нужно выставить не более ста."
   ]
  },
  {
   "cell_type": "code",
   "execution_count": 47,
   "id": "65376e29",
   "metadata": {},
   "outputs": [
    {
     "data": {
      "text/plain": [
       "<catboost.core.CatBoostClassifier at 0x2d3157cfc10>"
      ]
     },
     "execution_count": 47,
     "metadata": {},
     "output_type": "execute_result"
    }
   ],
   "source": [
    "from catboost import CatBoostClassifier, Pool\n",
    "\n",
    "# задаём имена колонок признаков и таргета\n",
    "features = ['als_score', 'cnt_score']\n",
    "\n",
    "cb_model = CatBoostClassifier()\n",
    "cb_model.load_model('models/cb_model.cbm')"
   ]
  },
  {
   "cell_type": "code",
   "execution_count": 48,
   "id": "f5607c68",
   "metadata": {},
   "outputs": [],
   "source": [
    "inference_data = Pool(data=candidates_to_rank[features])\n",
    "predictions = cb_model.predict_proba(inference_data)\n",
    "\n",
    "candidates_to_rank[\"cb_score\"] = predictions[:, 1]\n",
    "\n",
    "# для каждого пользователя проставляем rank, начиная с 1 — это максимальный cb_score\n",
    "candidates_to_rank = candidates_to_rank.sort_values([\"user_id\", \"cb_score\"], ascending=[True, False])\n",
    "candidates_to_rank[\"rank\"] = candidates_to_rank.groupby('user_id').cumcount() + 1 # ваш код здесь\n",
    "\n",
    "# Мой вариант (в этом случае предварительная сортировка не нужна)\n",
    "# candidates_to_rank[\"rank\"] = candidates_to_rank.groupby('user_id')['cb_score'].rank('first', ascending=False).astype('int') # ваш код здесь\n",
    "\n",
    "max_recommendations_per_user = 100\n",
    "final_recommendations = candidates_to_rank.query('rank <= @max_recommendations_per_user') # ваш код здесь"
   ]
  },
  {
   "attachments": {},
   "cell_type": "markdown",
   "id": "14eb2eb2",
   "metadata": {},
   "source": [
    "Проверим кол-во записей в final_recommendations, должно получиться 7519400"
   ]
  },
  {
   "cell_type": "code",
   "execution_count": 49,
   "id": "d5e8de30",
   "metadata": {},
   "outputs": [
    {
     "data": {
      "text/plain": [
       "7519400"
      ]
     },
     "execution_count": 49,
     "metadata": {},
     "output_type": "execute_result"
    }
   ],
   "source": [
    "len(final_recommendations)"
   ]
  },
  {
   "attachments": {},
   "cell_type": "markdown",
   "id": "ebb06fb6",
   "metadata": {},
   "source": [
    "__Валидация__\n",
    "\n",
    "Для валидации применимы всё те же метрики из предыдущих уроков. Считать их можно, как мы уже упоминали, как для базовых генераторов, так и для ранжирующей модели.\n",
    "\n",
    "Подобным же образом при валидации можно визуально просматривать как рекомендации от базовых моделей, так и финальные. Такой ручной просмотр по пользователям может подсказать, какой смысловой вклад вносят те или иные кандидатогенераторы в итоговые рекомендации."
   ]
  },
  {
   "attachments": {},
   "cell_type": "markdown",
   "id": "3159df8c",
   "metadata": {},
   "source": [
    "__Задание 6 из 6__\n",
    "\n",
    "Посчитайте метрики recall и precision.\n",
    "\n",
    "1. Используйте полученные рекомендации final_recommendations, отложенную тестовую выборку events_test_2, созданные в уроке «Валидация» предыдущей темы. \n",
    "2. А также функции process_events_recs_for_binary_metrics и compute_cls_metrics."
   ]
  },
  {
   "cell_type": "code",
   "execution_count": 50,
   "id": "116719d8",
   "metadata": {},
   "outputs": [
    {
     "name": "stdout",
     "output_type": "stream",
     "text": [
      "Common users: 75194\n"
     ]
    }
   ],
   "source": [
    "events_inference = pd.concat([events_train, events_labels])\n",
    "\n",
    "cb_events_recs_for_binary_metrics_5 = process_events_recs_for_binary_metrics(\n",
    "    events_inference,\n",
    "    events_test_2, # ваш код здесь\n",
    "    final_recommendations.rename(columns={\"cb_score\": \"score\"}), \n",
    "    top_k=5)\n",
    "\n",
    "cb_precision_5, cb_recall_5 = compute_cls_metrics(cb_events_recs_for_binary_metrics_5) # ваш код здесь"
   ]
  },
  {
   "attachments": {},
   "cell_type": "markdown",
   "id": "c15c019c",
   "metadata": {},
   "source": [
    "Проверим значение метрики recall, должно получиться 0.016"
   ]
  },
  {
   "cell_type": "code",
   "execution_count": 51,
   "id": "d2f0e860",
   "metadata": {},
   "outputs": [
    {
     "name": "stdout",
     "output_type": "stream",
     "text": [
      "precision: 0.006, recall: 0.015\n"
     ]
    }
   ],
   "source": [
    "print(f\"precision: {cb_precision_5:.3f}, recall: {cb_recall_5:.3f}\")"
   ]
  },
  {
   "attachments": {},
   "cell_type": "markdown",
   "id": "bd192f6e",
   "metadata": {},
   "source": [
    "### Тема 4, Урок 4: Как использовать признаки для улучшения рекомендаций"
   ]
  },
  {
   "attachments": {},
   "cell_type": "markdown",
   "id": "956055f4",
   "metadata": {},
   "source": [
    "В предыдущем уроке мы рассмотрели, как использовать градиентный бустинг для ранжирования кандидатов от базовых алгоритмов. Признаками, или фичами, были оценки из базовых алгоритмов. На деле же ничто не помешает нам придумать и использовать признаки другой природы, чтобы повысить качество ранжирования — а следовательно, и качество рекомендаций."
   ]
  },
  {
   "attachments": {},
   "cell_type": "markdown",
   "id": "8adde0ca",
   "metadata": {},
   "source": [
    "### Признаки объектов\n",
    "__Задание 1 из 6__\n",
    "\n",
    "Посчитаем новый признак — «возраст» книги на основе года публикации. Назовём его age. \n",
    "\n",
    "Используя обновлённый справочник объектов items, добавьте признаки возраста age и средней популярности average_rating к кандидатам для тренировки модели candidates_for_train и к кандидатам для ранжирования candidates_to_rank."
   ]
  },
  {
   "cell_type": "code",
   "execution_count": 52,
   "id": "ca1e7364",
   "metadata": {},
   "outputs": [],
   "source": [
    "items[\"age\"] = 2018 - items[\"publication_year\"]\n",
    "invalid_age_idx = items[\"age\"] < 0\n",
    "items.loc[invalid_age_idx, \"age\"] = np.nan\n",
    "items[\"age\"] = items[\"age\"].astype(\"float\")\n",
    "\n",
    "candidates_for_train = candidates_for_train.merge(items[['item_id', 'age', 'average_rating']], on='item_id', how='left') # ваш код здесь\n",
    "candidates_to_rank = candidates_to_rank.merge(items[['item_id', 'age', 'average_rating']], on='item_id', how='left') # ваш код здесь"
   ]
  },
  {
   "attachments": {},
   "cell_type": "markdown",
   "id": "e09124a0",
   "metadata": {},
   "source": [
    "Проверим медианный возраст книги для candidates_to_rank, должно получиться 10"
   ]
  },
  {
   "cell_type": "code",
   "execution_count": 53,
   "id": "1130a479",
   "metadata": {},
   "outputs": [
    {
     "data": {
      "text/plain": [
       "7.0"
      ]
     },
     "execution_count": 53,
     "metadata": {},
     "output_type": "execute_result"
    }
   ],
   "source": [
    "candidates_to_rank['age'].median()"
   ]
  },
  {
   "attachments": {},
   "cell_type": "markdown",
   "id": "cb4b35a3",
   "metadata": {},
   "source": [
    "### Признаки пользователей\n",
    "__Задание 2 из 6__\n",
    "\n",
    "Используя события в events_train и events_inference, посчитайте и добавьте признаки пользователей к кандидатам в candidates_for_train и candidates_to_rank соответственно:\n",
    "* reading_years — длительность истории пользователя,\n",
    "* books_read — количество книг, прочитанных за всё время,\n",
    "* books_per_year — среднее количество прочитанных книг в год,\n",
    "* rating_avg — средняя оценка,\n",
    "* rating_std — дисперсия оценок."
   ]
  },
  {
   "cell_type": "code",
   "execution_count": 54,
   "id": "801aba9c",
   "metadata": {},
   "outputs": [],
   "source": [
    "def get_user_features(events):\n",
    "    \"\"\" считает пользовательские признаки \"\"\"\n",
    "    \n",
    "    user_features = events.groupby(\"user_id\").agg(\n",
    "        reading_years=(\"started_at\", lambda x: (x.max() - x.min()).days / 365.25),\n",
    "        books_read=(\"is_read\", \"sum\"), # ваш код здесь\n",
    "        rating_avg=(\"rating\", \"mean\"),\n",
    "        rating_std=(\"rating\", \"std\")\n",
    "    )\n",
    "    \n",
    "    user_features[\"books_per_year\"] = user_features[\"books_read\"] / user_features[\"reading_years\"]\n",
    "    return user_features\n",
    "    \n",
    "\n",
    "user_features_for_train = get_user_features(events_train)\n",
    "candidates_for_train = candidates_for_train.merge(user_features_for_train, on=\"user_id\", how=\"left\")\n",
    "  \n",
    "# оставим только тех пользователей, что есть в тесте, для экономии ресурсов\n",
    "events_inference = pd.concat([events_train, events_labels])\n",
    "events_inference = events_inference[events_inference[\"user_id\"].isin(events_test_2[\"user_id\"].drop_duplicates())]\n",
    "\n",
    "user_features_for_ranking = get_user_features(events_inference) # ваш код здесь\n",
    "candidates_to_rank = candidates_to_rank.merge(user_features_for_ranking, on=\"user_id\", how=\"left\") # ваш код здесь"
   ]
  },
  {
   "attachments": {},
   "cell_type": "markdown",
   "id": "73695b8c",
   "metadata": {},
   "source": [
    "Проверим медиану количества прочитанных книг по всем кандидатам в candidates_for_train. Должно получиться 32 (т.е. половина пользователей прочитала не менее 32 книг)."
   ]
  },
  {
   "cell_type": "code",
   "execution_count": 55,
   "id": "f60502b4",
   "metadata": {},
   "outputs": [
    {
     "data": {
      "text/plain": [
       "32.0"
      ]
     },
     "execution_count": 55,
     "metadata": {},
     "output_type": "execute_result"
    }
   ],
   "source": [
    "candidates_for_train['books_read'].median()"
   ]
  },
  {
   "attachments": {},
   "cell_type": "markdown",
   "id": "5126aaea",
   "metadata": {},
   "source": [
    "### Парные признаки\n",
    "__Задание 3 из 6__\n",
    "\n",
    "Используя истории events_train и events_inference, а также ранее полученные артефакты по жанрам книг — словарь жанров genres, оценки книг по жанрам all_items_genres_csr — добавьте парные признаки, по одному на каждый жанр, которые совместно показывают, какие жанры предпочитает пользователь.\n",
    "\n",
    "Жанровость в данном случае — численный коэффициент принадлежности книги к жанру. Например, если пользователь прочитал три книги, которые с весами 0.3, 0.2, 0.4 из  all_items_genres_csr относятся к Fantasy, то интерес пользователя к Fantasy составляет среднее этих трёх оценок — 0.3.\n",
    "\n",
    "Для экономии ресурсов возьмём не все жанры, а 10 наиболее популярных. Все остальные отметим как не вошедшие в топ и обозначим как others."
   ]
  },
  {
   "cell_type": "code",
   "execution_count": 56,
   "id": "9679fe93",
   "metadata": {},
   "outputs": [],
   "source": [
    "# определяем индексы топ-10 жанров и всех остальных\n",
    "genres_top_k = 10\n",
    "genres_top_idx = genres.sort_values(\"votes\", ascending=False).head(genres_top_k).index\n",
    "genres_others_idx = list(set(genres.index) - set(genres_top_idx))\n",
    "\n",
    "genres_top_columns = [f\"genre_{id}\" for id in genres_top_idx]\n",
    "genres_others_column = \"genre_others\"\n",
    "genre_columns = genres_top_columns + [genres_others_column] # ваш код здесь\n",
    "\n",
    "# составляем таблицу принадлежности книг к жанрам\n",
    "item_genres = (\n",
    "    pd.concat([\n",
    "        # топ жанров\n",
    "        pd.DataFrame(all_items_genres_csr[:, genres_top_idx].toarray(), columns=genres_top_columns), # ваш код здесь \n",
    "        # все остальные жанры\n",
    "        pd.DataFrame(all_items_genres_csr[:, genres_others_idx].sum(axis=1), columns=[genres_others_column])\n",
    "        ],\n",
    "        axis=1)\n",
    "    .reset_index()\n",
    "    .rename(columns={\"index\": \"item_id_enc\"})\n",
    ")\n",
    "\n",
    "# объединяем информацию принадлежности книг к жанрам с основной информацией о книгах\n",
    "items = items.merge(item_genres, on=\"item_id_enc\", how=\"left\")\n",
    "\n",
    "\n",
    "def get_user_genres(events, items, item_genre_columns):\n",
    "    user_genres = (\n",
    "        events\n",
    "        .merge(items[[\"item_id\"] + item_genre_columns], on=\"item_id\", how=\"left\")\n",
    "        .groupby(\"user_id\")[item_genre_columns].mean()\n",
    "    )\n",
    "    return user_genres\n",
    "    \n",
    "\n",
    "user_genres_for_train = get_user_genres(events_train, items, genre_columns) # ваш код здесь\n",
    "candidates_for_train = candidates_for_train.merge(user_genres_for_train, on=\"user_id\", how=\"left\")\n",
    "\n",
    "user_genres_for_ranking = get_user_genres(events_inference, items, genre_columns)\n",
    "candidates_to_rank = candidates_to_rank.merge(user_genres_for_ranking, on=\"user_id\", how=\"left\")"
   ]
  },
  {
   "attachments": {},
   "cell_type": "markdown",
   "id": "0d986a21",
   "metadata": {},
   "source": [
    "Проверим медиану жанровости книг в candidates_for_train для жанра “Romance”. При округлении до сотых должно получиться 0.04"
   ]
  },
  {
   "cell_type": "code",
   "execution_count": 57,
   "id": "3dd7593e",
   "metadata": {},
   "outputs": [
    {
     "data": {
      "text/html": [
       "<div>\n",
       "<style scoped>\n",
       "    .dataframe tbody tr th:only-of-type {\n",
       "        vertical-align: middle;\n",
       "    }\n",
       "\n",
       "    .dataframe tbody tr th {\n",
       "        vertical-align: top;\n",
       "    }\n",
       "\n",
       "    .dataframe thead th {\n",
       "        text-align: right;\n",
       "    }\n",
       "</style>\n",
       "<table border=\"1\" class=\"dataframe\">\n",
       "  <thead>\n",
       "    <tr style=\"text-align: right;\">\n",
       "      <th></th>\n",
       "      <th>name</th>\n",
       "      <th>votes</th>\n",
       "      <th>score</th>\n",
       "    </tr>\n",
       "    <tr>\n",
       "      <th>genre_id</th>\n",
       "      <th></th>\n",
       "      <th></th>\n",
       "      <th></th>\n",
       "    </tr>\n",
       "  </thead>\n",
       "  <tbody>\n",
       "    <tr>\n",
       "      <th>25</th>\n",
       "      <td>Fantasy</td>\n",
       "      <td>6850060</td>\n",
       "      <td>0.149651</td>\n",
       "    </tr>\n",
       "    <tr>\n",
       "      <th>1</th>\n",
       "      <td>Fiction</td>\n",
       "      <td>6406256</td>\n",
       "      <td>0.139955</td>\n",
       "    </tr>\n",
       "    <tr>\n",
       "      <th>38</th>\n",
       "      <td>Classics</td>\n",
       "      <td>3414934</td>\n",
       "      <td>0.074605</td>\n",
       "    </tr>\n",
       "    <tr>\n",
       "      <th>18</th>\n",
       "      <td>Young Adult</td>\n",
       "      <td>3296951</td>\n",
       "      <td>0.072027</td>\n",
       "    </tr>\n",
       "    <tr>\n",
       "      <th>34</th>\n",
       "      <td>Romance</td>\n",
       "      <td>2422614</td>\n",
       "      <td>0.052926</td>\n",
       "    </tr>\n",
       "    <tr>\n",
       "      <th>5</th>\n",
       "      <td>Nonfiction</td>\n",
       "      <td>1737406</td>\n",
       "      <td>0.037957</td>\n",
       "    </tr>\n",
       "    <tr>\n",
       "      <th>16</th>\n",
       "      <td>Historical-Historical Fiction</td>\n",
       "      <td>1531205</td>\n",
       "      <td>0.033452</td>\n",
       "    </tr>\n",
       "    <tr>\n",
       "      <th>20</th>\n",
       "      <td>Mystery</td>\n",
       "      <td>1371196</td>\n",
       "      <td>0.029956</td>\n",
       "    </tr>\n",
       "    <tr>\n",
       "      <th>24</th>\n",
       "      <td>Science Fiction</td>\n",
       "      <td>1218917</td>\n",
       "      <td>0.026629</td>\n",
       "    </tr>\n",
       "    <tr>\n",
       "      <th>33</th>\n",
       "      <td>Fantasy-Paranormal</td>\n",
       "      <td>857012</td>\n",
       "      <td>0.018723</td>\n",
       "    </tr>\n",
       "  </tbody>\n",
       "</table>\n",
       "</div>"
      ],
      "text/plain": [
       "                                   name    votes     score\n",
       "genre_id                                                  \n",
       "25                              Fantasy  6850060  0.149651\n",
       "1                               Fiction  6406256  0.139955\n",
       "38                             Classics  3414934  0.074605\n",
       "18                          Young Adult  3296951  0.072027\n",
       "34                              Romance  2422614  0.052926\n",
       "5                            Nonfiction  1737406  0.037957\n",
       "16        Historical-Historical Fiction  1531205  0.033452\n",
       "20                              Mystery  1371196  0.029956\n",
       "24                      Science Fiction  1218917  0.026629\n",
       "33                   Fantasy-Paranormal   857012  0.018723"
      ]
     },
     "execution_count": 57,
     "metadata": {},
     "output_type": "execute_result"
    }
   ],
   "source": [
    "# Сначала посмотрим, какой индекс у строчки, соответствующей жанру Romance в таблице genres\n",
    "genres.sort_values(\"votes\", ascending=False).head(genres_top_k)"
   ]
  },
  {
   "cell_type": "code",
   "execution_count": 58,
   "id": "bd18ee6c",
   "metadata": {},
   "outputs": [
    {
     "data": {
      "text/plain": [
       "0.04"
      ]
     },
     "execution_count": 58,
     "metadata": {},
     "output_type": "execute_result"
    }
   ],
   "source": [
    "round(candidates_for_train['genre_34'].median(), 2)"
   ]
  },
  {
   "attachments": {},
   "cell_type": "markdown",
   "id": "8a7da43e",
   "metadata": {},
   "source": [
    "### Парные признаки\n",
    "Вы добавили в candidates_for_train и candidates_to_rank различные признаки. Обучите новую ранжирующую модель, которая их будет учитывать.\n",
    "\n",
    "__Задание 4 из 6__\n",
    "\n",
    "Обучите модель, выполнив код ниже"
   ]
  },
  {
   "cell_type": "code",
   "execution_count": 84,
   "id": "64fea118",
   "metadata": {},
   "outputs": [
    {
     "name": "stdout",
     "output_type": "stream",
     "text": [
      "0:\tlearn: 0.6484882\ttotal: 42.1ms\tremaining: 42.1s\n",
      "100:\tlearn: 0.4660990\ttotal: 3.37s\tremaining: 30s\n",
      "200:\tlearn: 0.4578058\ttotal: 6.58s\tremaining: 26.2s\n",
      "300:\tlearn: 0.4518839\ttotal: 9.58s\tremaining: 22.3s\n",
      "400:\tlearn: 0.4469100\ttotal: 14.2s\tremaining: 21.2s\n",
      "500:\tlearn: 0.4427262\ttotal: 18.8s\tremaining: 18.7s\n",
      "600:\tlearn: 0.4389780\ttotal: 23.4s\tremaining: 15.5s\n",
      "700:\tlearn: 0.4354232\ttotal: 27.9s\tremaining: 11.9s\n",
      "800:\tlearn: 0.4320194\ttotal: 32.5s\tremaining: 8.08s\n",
      "900:\tlearn: 0.4287993\ttotal: 37.8s\tremaining: 4.15s\n",
      "999:\tlearn: 0.4258214\ttotal: 42.9s\tremaining: 0us\n"
     ]
    },
    {
     "data": {
      "text/plain": [
       "<catboost.core.CatBoostClassifier at 0x1f97712cb90>"
      ]
     },
     "execution_count": 84,
     "metadata": {},
     "output_type": "execute_result"
    }
   ],
   "source": [
    "from catboost import CatBoostClassifier, Pool\n",
    "\n",
    "# задаём имена колонок признаков и таргета\n",
    "features = ['als_score', 'cnt_score', \n",
    "    'age', 'average_rating', 'reading_years', 'books_read', \n",
    "    'rating_avg', 'rating_std', \n",
    "    'books_per_year'] + genre_columns\n",
    "target = 'target'\n",
    "\n",
    "# создаём Pool\n",
    "train_data = Pool(\n",
    "    data=candidates_for_train[features], \n",
    "    label=candidates_for_train[target]\n",
    ")\n",
    "\n",
    "# инициализируем модель CatBoostClassifier\n",
    "cb_model = CatBoostClassifier(\n",
    "    iterations=1000,\n",
    "    learning_rate=0.1,\n",
    "    depth=6,\n",
    "    loss_function='Logloss',\n",
    "    verbose=100,\n",
    "    random_seed=0,\n",
    ")\n",
    "\n",
    "# тренируем модель\n",
    "cb_model.fit(train_data)"
   ]
  },
  {
   "cell_type": "code",
   "execution_count": 85,
   "id": "6a41f9c6",
   "metadata": {},
   "outputs": [],
   "source": [
    "# Сохраняем новую модель с расширенным набором признаков\n",
    "cb_model.save_model('models/cb_model_2.cbm')"
   ]
  },
  {
   "attachments": {},
   "cell_type": "markdown",
   "id": "ce156f41",
   "metadata": {},
   "source": [
    "Получим топ-100 самых релевантных рекомендаций для каждого пользователя, используя обученную модель"
   ]
  },
  {
   "cell_type": "code",
   "execution_count": 61,
   "id": "babd67af",
   "metadata": {},
   "outputs": [],
   "source": [
    "from catboost import CatBoostClassifier, Pool\n",
    "\n",
    "cb_model = CatBoostClassifier()\n",
    "cb_model.load_model('models/cb_model_2.cbm')\n",
    "\n",
    "# задаём имена колонок признаков и таргета\n",
    "features = ['als_score', 'cnt_score', \n",
    "    'age', 'average_rating', 'reading_years', 'books_read', \n",
    "    'rating_avg', 'rating_std', \n",
    "    'books_per_year'] + genre_columns"
   ]
  },
  {
   "cell_type": "code",
   "execution_count": 62,
   "id": "80ad6119",
   "metadata": {},
   "outputs": [],
   "source": [
    "inference_data = Pool(data=candidates_to_rank[features])\n",
    "predictions = cb_model.predict_proba(inference_data)\n",
    "\n",
    "candidates_to_rank[\"cb_score\"] = predictions[:, 1] # ваш код здесь\n",
    "\n",
    "# для каждого пользователя проставим rank, начиная с 1 — это максимальный cb_score\n",
    "candidates_to_rank = candidates_to_rank.sort_values([\"user_id\", \"cb_score\"], ascending=[True, False])\n",
    "candidates_to_rank[\"rank\"] = candidates_to_rank.groupby('user_id').cumcount() + 1 # ваш код здесь\n",
    "\n",
    "# Мой вариант (в этом случае предварительная сортировка не нужна)\n",
    "# candidates_to_rank[\"rank\"] = candidates_to_rank.groupby('user_id')['cb_score'].rank('first', ascending=False).astype('int') # ваш код здесь\n",
    "\n",
    "max_recommendations_per_user = 100\n",
    "final_recommendations = candidates_to_rank.query(\"rank <= @max_recommendations_per_user\")"
   ]
  },
  {
   "attachments": {},
   "cell_type": "markdown",
   "id": "4fb7677c",
   "metadata": {},
   "source": [
    "Проверим, сколько пользователей попало в final_recommendations. Должно получиться 75194"
   ]
  },
  {
   "cell_type": "code",
   "execution_count": 63,
   "id": "1aac8c2b",
   "metadata": {},
   "outputs": [
    {
     "data": {
      "text/plain": [
       "75194"
      ]
     },
     "execution_count": 63,
     "metadata": {},
     "output_type": "execute_result"
    }
   ],
   "source": [
    "final_recommendations['user_id'].nunique()"
   ]
  },
  {
   "cell_type": "code",
   "execution_count": 1,
   "id": "a5133a88",
   "metadata": {},
   "outputs": [
    {
     "ename": "NameError",
     "evalue": "name 'final_recommendations' is not defined",
     "output_type": "error",
     "traceback": [
      "\u001b[1;31m---------------------------------------------------------------------------\u001b[0m",
      "\u001b[1;31mNameError\u001b[0m                                 Traceback (most recent call last)",
      "Cell \u001b[1;32mIn[1], line 2\u001b[0m\n\u001b[0;32m      1\u001b[0m \u001b[39m# Сохраним final_recommendations в файл\u001b[39;00m\n\u001b[1;32m----> 2\u001b[0m final_recommendations\u001b[39m.\u001b[39mto_parquet(\u001b[39m\"\u001b[39m\u001b[39mfinal_recommendations_feat.parquet\u001b[39m\u001b[39m\"\u001b[39m)\n",
      "\u001b[1;31mNameError\u001b[0m: name 'final_recommendations' is not defined"
     ]
    }
   ],
   "source": [
    "# Сохраним последний вариант персональных рекомендаций в файл\n",
    "final_recommendations.to_parquet(\"final_recommendations_feat.parquet\")"
   ]
  },
  {
   "attachments": {},
   "cell_type": "markdown",
   "id": "efddeb48",
   "metadata": {},
   "source": [
    "Итак, мы получили рекомендации, которые уже должны учитывать не только оценки от базовых генераторов als_score и cnt_score, но и информацию, заложенную в признаках. Посмотрим, помогло ли это повысить качество рекомендаций по метрике recall, по которой мы уже оценивали результаты работы модели в прошлом уроке после внедрения двухстадийного подхода. Напомним, что тогда получилось значение 0.016."
   ]
  },
  {
   "attachments": {},
   "cell_type": "markdown",
   "id": "e81689ae",
   "metadata": {},
   "source": [
    "__Задание 5 из 6__\n",
    "\n",
    "Используя отложенную тестовую выборку events_test_2, посчитайте метрики recall и precision для полученных рекомендаций."
   ]
  },
  {
   "cell_type": "code",
   "execution_count": 64,
   "id": "4b3e7c2a",
   "metadata": {},
   "outputs": [
    {
     "name": "stdout",
     "output_type": "stream",
     "text": [
      "Common users: 75194\n"
     ]
    }
   ],
   "source": [
    "# для экономии ресурсов оставим события только тех пользователей, \n",
    "# для которых следует оценить рекомендации\n",
    "events_inference = pd.concat([events_train, events_labels])\n",
    "events_inference = events_inference[events_inference[\"user_id\"].isin(events_test_2[\"user_id\"].drop_duplicates())]\n",
    "\n",
    "cb_events_recs_for_binary_metrics_5 = process_events_recs_for_binary_metrics(\n",
    "    events_inference,\n",
    "    events_test_2, # ваш код здесь\n",
    "    final_recommendations.rename(columns={\"cb_score\": \"score\"}), \n",
    "    top_k=5 # ваш код здесь\n",
    ")\n",
    "\n",
    "cb_precision_5, cb_recall_5 = compute_cls_metrics(cb_events_recs_for_binary_metrics_5)"
   ]
  },
  {
   "attachments": {},
   "cell_type": "markdown",
   "id": "62aa4686",
   "metadata": {},
   "source": [
    "Проверим значение recall. После округления до тысячных должно получиться 0.030"
   ]
  },
  {
   "cell_type": "code",
   "execution_count": 65,
   "id": "6dbb8e67",
   "metadata": {},
   "outputs": [
    {
     "name": "stdout",
     "output_type": "stream",
     "text": [
      "precision: 0.011, recall: 0.029\n"
     ]
    }
   ],
   "source": [
    "print(f\"precision: {cb_precision_5:.3f}, recall: {cb_recall_5:.3f}\")"
   ]
  },
  {
   "attachments": {},
   "cell_type": "markdown",
   "id": "5b8ac239",
   "metadata": {},
   "source": [
    "Т.о., значение recall заметно увеличилось, а это явно говорит о том, что признаки действительно помогли качеству рекомендаций."
   ]
  },
  {
   "attachments": {},
   "cell_type": "markdown",
   "id": "81b350c1",
   "metadata": {},
   "source": [
    "### Проверка важности признаков\n",
    "\n",
    "Любопытно понять, какие признаки вносят наибольший вклад в ранжирование. Алгоритм CatBoost позволяет получить такую информацию (англ. feature importance), которая генерируется во время тренировки модели. Для этого используйте метод get_feature_importance()."
   ]
  },
  {
   "attachments": {},
   "cell_type": "markdown",
   "id": "1de39879",
   "metadata": {},
   "source": [
    "__Задание 6 из 6__\n",
    "\n",
    "Выполните код для получения информации о важности признаков. Выведите список признаков feature_importance в порядке убывания их важности."
   ]
  },
  {
   "cell_type": "code",
   "execution_count": 66,
   "id": "f65d4afa",
   "metadata": {},
   "outputs": [],
   "source": [
    "feature_importance = pd.DataFrame(cb_model.get_feature_importance(), \n",
    "    index=features, \n",
    "    columns=[\"fi\"])\n",
    "\n",
    "feature_importance = feature_importance.sort_values('fi', ascending=False) # ваш код здесь"
   ]
  },
  {
   "attachments": {},
   "cell_type": "markdown",
   "id": "576734c5",
   "metadata": {},
   "source": [
    "Проверим, какой у модели самый важный признак. Должен получиться `als_score`"
   ]
  },
  {
   "cell_type": "code",
   "execution_count": 67,
   "id": "b59c815a",
   "metadata": {},
   "outputs": [
    {
     "name": "stdout",
     "output_type": "stream",
     "text": [
      "                       fi\n",
      "als_score       26.540019\n",
      "age             19.025102\n",
      "average_rating  15.130070\n",
      "books_read       7.234967\n",
      "reading_years    3.333355\n",
      "cnt_score        3.001030\n",
      "genre_18         2.898364\n",
      "genre_1          2.843781\n",
      "genre_others     2.606153\n",
      "genre_25         2.359137\n",
      "genre_34         2.191086\n",
      "books_per_year   1.814563\n",
      "rating_avg       1.525892\n",
      "genre_38         1.519235\n",
      "genre_33         1.518597\n",
      "genre_24         1.512781\n",
      "genre_20         1.454943\n",
      "genre_16         1.377449\n",
      "rating_std       1.062938\n",
      "genre_5          1.050538\n"
     ]
    }
   ],
   "source": [
    "print(feature_importance)"
   ]
  },
  {
   "attachments": {},
   "cell_type": "markdown",
   "id": "95109b79",
   "metadata": {},
   "source": [
    "## Тема 5: Архитектура рекомендательных систем"
   ]
  },
  {
   "attachments": {},
   "cell_type": "markdown",
   "id": "68e6849c",
   "metadata": {},
   "source": [
    "### Тема 5, Урок 3: Сервис рекомендаций"
   ]
  },
  {
   "attachments": {},
   "cell_type": "markdown",
   "id": "71ab8399",
   "metadata": {},
   "source": [
    "__Шаг 1. Шаблон сервиса__\n",
    "\n",
    "Создадим шаблон сервиса, который пока что умеет только возвращать пустой список."
   ]
  },
  {
   "cell_type": "code",
   "execution_count": null,
   "id": "7a709796",
   "metadata": {},
   "outputs": [],
   "source": [
    "# Файл recommendation_service.py (v0)\n",
    "# Запуск сервиса: uvicorn recommendation_service:app\n",
    "\n",
    "import logging\n",
    "\n",
    "from fastapi import FastAPI\n",
    "from contextlib import asynccontextmanager\n",
    "\n",
    "logger = logging.getLogger(\"uvicorn.error\")\n",
    "\n",
    "@asynccontextmanager\n",
    "async def lifespan(app: FastAPI):\n",
    "    # код ниже (до yield) выполнится только один раз при запуске сервиса\n",
    "    logger.info(\"Starting\")\n",
    "    yield\n",
    "    # этот код выполнится только один раз при остановке сервиса\n",
    "    logger.info(\"Stopping\")\n",
    "    \n",
    "# создаём приложение FastAPI\n",
    "app = FastAPI(title=\"recommendations\", lifespan=lifespan)\n",
    "\n",
    "@app.post(\"/recommendations\")\n",
    "async def recommendations(user_id: int, k: int = 100):\n",
    "    \"\"\"\n",
    "    Возвращает список рекомендаций длиной k для пользователя user_id\n",
    "    \"\"\"\n",
    "\n",
    "    recs = []\n",
    "\n",
    "    return {\"recs\": recs}"
   ]
  },
  {
   "attachments": {},
   "cell_type": "markdown",
   "id": "c1cac5df",
   "metadata": {},
   "source": [
    "__Задание 1 из 3__\n",
    "\n",
    "Дополните код скрипта и запустите его для получения ответа (в виде пока что пустого списка) от сервиса рекомендаций.\n",
    "\n",
    "Если сервер uvicorn запущен и нормально работает, то при запуске этого скрипта должен получиться ответ `{'recs': []}`"
   ]
  },
  {
   "cell_type": "code",
   "execution_count": null,
   "id": "3fc89dfe",
   "metadata": {},
   "outputs": [],
   "source": [
    "# Скрипт для обращения к сервису recommendation_service\n",
    "\n",
    "import requests\n",
    "\n",
    "recommendations_url = \"http://127.0.0.1:8000/recommendations\" # ваш код здесь\n",
    "\n",
    "headers = {'Content-type': 'application/json', 'Accept': 'text/plain'}\n",
    "params = {\"user_id\": 0}\n",
    "\n",
    "resp = requests.post(recommendations_url, headers=headers, params=params)\n",
    "\n",
    "if resp.status_code == 200:\n",
    "    recs = resp.json()\n",
    "else:\n",
    "    recs = []\n",
    "    print(f\"status code: {resp.status_code}\")\n",
    "    \n",
    "print(recs)"
   ]
  },
  {
   "attachments": {},
   "cell_type": "markdown",
   "id": "2af369db",
   "metadata": {},
   "source": [
    "__Шаг 2. Подключение готовых рекомендаций__\n",
    "\n",
    "Добавим пользы в наш сервис. Для этого сделаем так, чтобы при его запуске загружались уже готовые рекомендации, а затем и отдавались при вызове `/recommendations`. Для удобства основной инструментарий разместим в отдельном классе, который приведён ниже в готовом виде:"
   ]
  },
  {
   "cell_type": "code",
   "execution_count": null,
   "id": "541471f4",
   "metadata": {},
   "outputs": [],
   "source": [
    "# Класс Recommendations для работы с готовыми рекомендациями\n",
    "\n",
    "import logging as logger\n",
    "import pandas as pd\n",
    "\n",
    "class Recommendations:\n",
    "\n",
    "    def __init__(self):\n",
    "\n",
    "        self._recs = {\"personal\": None, \"default\": None}\n",
    "        self._stats = {\n",
    "            \"request_personal_count\": 0,\n",
    "            \"request_default_count\": 0,\n",
    "        }\n",
    "\n",
    "    def load(self, type, path, **kwargs):\n",
    "        \"\"\"\n",
    "        Загружает рекомендации из файла\n",
    "        \"\"\"\n",
    "\n",
    "        logger.info(f\"Loading recommendations, type: {type}\")\n",
    "        self._recs[type] = pd.read_parquet(path, **kwargs)\n",
    "        if type == \"personal\":\n",
    "            self._recs[type] = self._recs[type].set_index(\"user_id\")\n",
    "        logger.info(f\"Loaded\")\n",
    "\n",
    "    def get(self, user_id: int, k: int=100):\n",
    "        \"\"\"\n",
    "        Возвращает список рекомендаций для пользователя\n",
    "        \"\"\"\n",
    "        try:\n",
    "            recs = self._recs[\"personal\"].loc[user_id]\n",
    "            recs = recs[\"item_id\"].to_list()[:k]\n",
    "            self._stats[\"request_personal_count\"] += 1\n",
    "        except KeyError:\n",
    "            recs = self._recs[\"default\"]\n",
    "            recs = recs[\"item_id\"].to_list()[:k]\n",
    "            self._stats[\"request_default_count\"] += 1\n",
    "        except:\n",
    "            logger.error(\"No recommendations found\")\n",
    "            recs = []\n",
    "\n",
    "        return recs\n",
    "\n",
    "    def stats(self):\n",
    "        logger.info(\"Stats for recommendations\")\n",
    "        for name, value in self._stats.items():\n",
    "            logger.info(f\"{name:<30} {value} \")"
   ]
  },
  {
   "attachments": {},
   "cell_type": "markdown",
   "id": "bc56c2b0",
   "metadata": {},
   "source": [
    "Проверьте работу данного класса, используя готовые рекомендации из предыдущих уроков:\n",
    "- top_recs.parquet — файл с рекомендациями по умолчанию,\n",
    "- final_recommendations_feat.parquet — файл с персональными рекомендациями."
   ]
  },
  {
   "cell_type": "code",
   "execution_count": null,
   "id": "cfec38b7",
   "metadata": {},
   "outputs": [],
   "source": [
    "!python -m wget -o top_recs.parquet https://storage.yandexcloud.net/mle-data/top_recs.parquet"
   ]
  },
  {
   "cell_type": "code",
   "execution_count": 3,
   "id": "c010a938",
   "metadata": {},
   "outputs": [
    {
     "data": {
      "text/html": [
       "<div>\n",
       "<style scoped>\n",
       "    .dataframe tbody tr th:only-of-type {\n",
       "        vertical-align: middle;\n",
       "    }\n",
       "\n",
       "    .dataframe tbody tr th {\n",
       "        vertical-align: top;\n",
       "    }\n",
       "\n",
       "    .dataframe thead th {\n",
       "        text-align: right;\n",
       "    }\n",
       "</style>\n",
       "<table border=\"1\" class=\"dataframe\">\n",
       "  <thead>\n",
       "    <tr style=\"text-align: right;\">\n",
       "      <th></th>\n",
       "      <th>item_id</th>\n",
       "      <th>users</th>\n",
       "      <th>avg_rating</th>\n",
       "      <th>popularity_weighted</th>\n",
       "      <th>author</th>\n",
       "      <th>title</th>\n",
       "      <th>genre_and_votes</th>\n",
       "      <th>publication_year</th>\n",
       "      <th>score</th>\n",
       "      <th>rank</th>\n",
       "    </tr>\n",
       "  </thead>\n",
       "  <tbody>\n",
       "    <tr>\n",
       "      <th>0</th>\n",
       "      <td>22557272</td>\n",
       "      <td>40690</td>\n",
       "      <td>3.788965</td>\n",
       "      <td>154173.0</td>\n",
       "      <td>Paula Hawkins</td>\n",
       "      <td>The Girl on the Train</td>\n",
       "      <td>{'Fiction': 9793, 'Mystery': 9190, 'Thriller':...</td>\n",
       "      <td>2015</td>\n",
       "      <td>1.000000</td>\n",
       "      <td>1</td>\n",
       "    </tr>\n",
       "    <tr>\n",
       "      <th>1</th>\n",
       "      <td>29056083</td>\n",
       "      <td>25785</td>\n",
       "      <td>3.801784</td>\n",
       "      <td>98029.0</td>\n",
       "      <td>John Tiffany, Jack Thorne, J.K. Rowling</td>\n",
       "      <td>Harry Potter and the Cursed Child - Parts One ...</td>\n",
       "      <td>{'Fantasy': 14466, 'Fiction': 4232, 'Young Adu...</td>\n",
       "      <td>2016</td>\n",
       "      <td>0.500000</td>\n",
       "      <td>2</td>\n",
       "    </tr>\n",
       "    <tr>\n",
       "      <th>2</th>\n",
       "      <td>18007564</td>\n",
       "      <td>20207</td>\n",
       "      <td>4.321275</td>\n",
       "      <td>87320.0</td>\n",
       "      <td>Andy Weir</td>\n",
       "      <td>The Martian</td>\n",
       "      <td>{'Science Fiction': 11966, 'Fiction': 8430}</td>\n",
       "      <td>2014</td>\n",
       "      <td>0.333333</td>\n",
       "      <td>3</td>\n",
       "    </tr>\n",
       "    <tr>\n",
       "      <th>3</th>\n",
       "      <td>18143977</td>\n",
       "      <td>19462</td>\n",
       "      <td>4.290669</td>\n",
       "      <td>83505.0</td>\n",
       "      <td>Anthony Doerr</td>\n",
       "      <td>All the Light We Cannot See</td>\n",
       "      <td>{'Historical-Historical Fiction': 13679, 'Fict...</td>\n",
       "      <td>2014</td>\n",
       "      <td>0.250000</td>\n",
       "      <td>4</td>\n",
       "    </tr>\n",
       "    <tr>\n",
       "      <th>4</th>\n",
       "      <td>16096824</td>\n",
       "      <td>16770</td>\n",
       "      <td>4.301014</td>\n",
       "      <td>72128.0</td>\n",
       "      <td>Sarah J. Maas</td>\n",
       "      <td>A Court of Thorns and Roses (A Court of Thorns...</td>\n",
       "      <td>{'Fantasy': 14326, 'Young Adult': 4662, 'Roman...</td>\n",
       "      <td>2015</td>\n",
       "      <td>0.200000</td>\n",
       "      <td>5</td>\n",
       "    </tr>\n",
       "    <tr>\n",
       "      <th>...</th>\n",
       "      <td>...</td>\n",
       "      <td>...</td>\n",
       "      <td>...</td>\n",
       "      <td>...</td>\n",
       "      <td>...</td>\n",
       "      <td>...</td>\n",
       "      <td>...</td>\n",
       "      <td>...</td>\n",
       "      <td>...</td>\n",
       "      <td>...</td>\n",
       "    </tr>\n",
       "    <tr>\n",
       "      <th>95</th>\n",
       "      <td>15704307</td>\n",
       "      <td>5322</td>\n",
       "      <td>4.410936</td>\n",
       "      <td>23475.0</td>\n",
       "      <td>Brian K. Vaughan, Fiona Staples</td>\n",
       "      <td>Saga, Vol. 1 (Saga, #1)</td>\n",
       "      <td>{'Sequential Art-Graphic Novels': 7803, 'Seque...</td>\n",
       "      <td>2012</td>\n",
       "      <td>0.010417</td>\n",
       "      <td>96</td>\n",
       "    </tr>\n",
       "    <tr>\n",
       "      <th>96</th>\n",
       "      <td>22318578</td>\n",
       "      <td>6451</td>\n",
       "      <td>3.626104</td>\n",
       "      <td>23392.0</td>\n",
       "      <td>Marie Kondō, Cathy Hirano</td>\n",
       "      <td>The Life-Changing Magic of Tidying Up: The Jap...</td>\n",
       "      <td>{'Nonfiction': 6896, 'Self Help': 2846, 'Audio...</td>\n",
       "      <td>2014</td>\n",
       "      <td>0.010309</td>\n",
       "      <td>97</td>\n",
       "    </tr>\n",
       "    <tr>\n",
       "      <th>97</th>\n",
       "      <td>17378508</td>\n",
       "      <td>5284</td>\n",
       "      <td>4.335541</td>\n",
       "      <td>22909.0</td>\n",
       "      <td>Maggie Stiefvater</td>\n",
       "      <td>Blue Lily, Lily Blue (The Raven Cycle, #3)</td>\n",
       "      <td>{'Fantasy': 5121, 'Young Adult': 3651, 'Fantas...</td>\n",
       "      <td>2014</td>\n",
       "      <td>0.010204</td>\n",
       "      <td>98</td>\n",
       "    </tr>\n",
       "    <tr>\n",
       "      <th>98</th>\n",
       "      <td>23848559</td>\n",
       "      <td>5592</td>\n",
       "      <td>4.065629</td>\n",
       "      <td>22735.0</td>\n",
       "      <td>Jenny  Lawson</td>\n",
       "      <td>Furiously Happy: A Funny Book About Horrible T...</td>\n",
       "      <td>{'Nonfiction': 3138, 'Humor': 1914, 'Autobiogr...</td>\n",
       "      <td>2015</td>\n",
       "      <td>0.010101</td>\n",
       "      <td>99</td>\n",
       "    </tr>\n",
       "    <tr>\n",
       "      <th>99</th>\n",
       "      <td>18081809</td>\n",
       "      <td>6283</td>\n",
       "      <td>3.596689</td>\n",
       "      <td>22598.0</td>\n",
       "      <td>Rainbow Rowell</td>\n",
       "      <td>Landline</td>\n",
       "      <td>{'Fiction': 2393, 'Romance': 1881, 'Contempora...</td>\n",
       "      <td>2014</td>\n",
       "      <td>0.010000</td>\n",
       "      <td>100</td>\n",
       "    </tr>\n",
       "  </tbody>\n",
       "</table>\n",
       "<p>100 rows × 10 columns</p>\n",
       "</div>"
      ],
      "text/plain": [
       "     item_id  users  avg_rating  popularity_weighted  \\\n",
       "0   22557272  40690    3.788965             154173.0   \n",
       "1   29056083  25785    3.801784              98029.0   \n",
       "2   18007564  20207    4.321275              87320.0   \n",
       "3   18143977  19462    4.290669              83505.0   \n",
       "4   16096824  16770    4.301014              72128.0   \n",
       "..       ...    ...         ...                  ...   \n",
       "95  15704307   5322    4.410936              23475.0   \n",
       "96  22318578   6451    3.626104              23392.0   \n",
       "97  17378508   5284    4.335541              22909.0   \n",
       "98  23848559   5592    4.065629              22735.0   \n",
       "99  18081809   6283    3.596689              22598.0   \n",
       "\n",
       "                                     author  \\\n",
       "0                             Paula Hawkins   \n",
       "1   John Tiffany, Jack Thorne, J.K. Rowling   \n",
       "2                                 Andy Weir   \n",
       "3                             Anthony Doerr   \n",
       "4                             Sarah J. Maas   \n",
       "..                                      ...   \n",
       "95          Brian K. Vaughan, Fiona Staples   \n",
       "96                Marie Kondō, Cathy Hirano   \n",
       "97                        Maggie Stiefvater   \n",
       "98                            Jenny  Lawson   \n",
       "99                           Rainbow Rowell   \n",
       "\n",
       "                                                title  \\\n",
       "0                               The Girl on the Train   \n",
       "1   Harry Potter and the Cursed Child - Parts One ...   \n",
       "2                                         The Martian   \n",
       "3                         All the Light We Cannot See   \n",
       "4   A Court of Thorns and Roses (A Court of Thorns...   \n",
       "..                                                ...   \n",
       "95                            Saga, Vol. 1 (Saga, #1)   \n",
       "96  The Life-Changing Magic of Tidying Up: The Jap...   \n",
       "97         Blue Lily, Lily Blue (The Raven Cycle, #3)   \n",
       "98  Furiously Happy: A Funny Book About Horrible T...   \n",
       "99                                           Landline   \n",
       "\n",
       "                                      genre_and_votes  publication_year  \\\n",
       "0   {'Fiction': 9793, 'Mystery': 9190, 'Thriller':...              2015   \n",
       "1   {'Fantasy': 14466, 'Fiction': 4232, 'Young Adu...              2016   \n",
       "2         {'Science Fiction': 11966, 'Fiction': 8430}              2014   \n",
       "3   {'Historical-Historical Fiction': 13679, 'Fict...              2014   \n",
       "4   {'Fantasy': 14326, 'Young Adult': 4662, 'Roman...              2015   \n",
       "..                                                ...               ...   \n",
       "95  {'Sequential Art-Graphic Novels': 7803, 'Seque...              2012   \n",
       "96  {'Nonfiction': 6896, 'Self Help': 2846, 'Audio...              2014   \n",
       "97  {'Fantasy': 5121, 'Young Adult': 3651, 'Fantas...              2014   \n",
       "98  {'Nonfiction': 3138, 'Humor': 1914, 'Autobiogr...              2015   \n",
       "99  {'Fiction': 2393, 'Romance': 1881, 'Contempora...              2014   \n",
       "\n",
       "       score  rank  \n",
       "0   1.000000     1  \n",
       "1   0.500000     2  \n",
       "2   0.333333     3  \n",
       "3   0.250000     4  \n",
       "4   0.200000     5  \n",
       "..       ...   ...  \n",
       "95  0.010417    96  \n",
       "96  0.010309    97  \n",
       "97  0.010204    98  \n",
       "98  0.010101    99  \n",
       "99  0.010000   100  \n",
       "\n",
       "[100 rows x 10 columns]"
      ]
     },
     "execution_count": 3,
     "metadata": {},
     "output_type": "execute_result"
    }
   ],
   "source": [
    "top_recs = pd.read_parquet(\"top_recs.parquet\")\n",
    "top_recs"
   ]
  },
  {
   "cell_type": "code",
   "execution_count": 6,
   "id": "8ee82200",
   "metadata": {},
   "outputs": [
    {
     "name": "stderr",
     "output_type": "stream",
     "text": [
      "Traceback (most recent call last):\n",
      "  File \"<frozen runpy>\", line 198, in _run_module_as_main\n",
      "  File \"<frozen runpy>\", line 88, in _run_code\n",
      "  File \"c:\\Users\\Kirill_Nosov\\_Repos\\.venv\\Lib\\site-packages\\wget.py\", line 568, in <module>\n",
      "    filename = download(args[0], out=options.output)\n",
      "               ^^^^^^^^^^^^^^^^^^^^^^^^^^^^^^^^^^^^^\n",
      "  File \"c:\\Users\\Kirill_Nosov\\_Repos\\.venv\\Lib\\site-packages\\wget.py\", line 526, in download\n",
      "    (tmpfile, headers) = ulib.urlretrieve(binurl, tmpfile, callback)\n",
      "                         ^^^^^^^^^^^^^^^^^^^^^^^^^^^^^^^^^^^^^^^^^^^\n",
      "  File \"C:\\Users\\Kirill_Nosov\\anaconda3\\Lib\\urllib\\request.py\", line 241, in urlretrieve\n",
      "    with contextlib.closing(urlopen(url, data)) as fp:\n",
      "                            ^^^^^^^^^^^^^^^^^^\n",
      "  File \"C:\\Users\\Kirill_Nosov\\anaconda3\\Lib\\urllib\\request.py\", line 216, in urlopen\n",
      "    return opener.open(url, data, timeout)\n",
      "           ^^^^^^^^^^^^^^^^^^^^^^^^^^^^^^^\n",
      "  File \"C:\\Users\\Kirill_Nosov\\anaconda3\\Lib\\urllib\\request.py\", line 525, in open\n",
      "    response = meth(req, response)\n",
      "               ^^^^^^^^^^^^^^^^^^^\n",
      "  File \"C:\\Users\\Kirill_Nosov\\anaconda3\\Lib\\urllib\\request.py\", line 634, in http_response\n",
      "    response = self.parent.error(\n",
      "               ^^^^^^^^^^^^^^^^^^\n",
      "  File \"C:\\Users\\Kirill_Nosov\\anaconda3\\Lib\\urllib\\request.py\", line 563, in error\n",
      "    return self._call_chain(*args)\n",
      "           ^^^^^^^^^^^^^^^^^^^^^^^\n",
      "  File \"C:\\Users\\Kirill_Nosov\\anaconda3\\Lib\\urllib\\request.py\", line 496, in _call_chain\n",
      "    result = func(*args)\n",
      "             ^^^^^^^^^^^\n",
      "  File \"C:\\Users\\Kirill_Nosov\\anaconda3\\Lib\\urllib\\request.py\", line 643, in http_error_default\n",
      "    raise HTTPError(req.full_url, code, msg, hdrs, fp)\n",
      "urllib.error.HTTPError: HTTP Error 404: Not Found\n"
     ]
    }
   ],
   "source": [
    "final_recommendations_feat = pd.read_parquet(\"final_recommendations_feat.parquet\")"
   ]
  },
  {
   "attachments": {},
   "cell_type": "markdown",
   "id": "df8a02c4",
   "metadata": {},
   "source": [
    "__Задание 2 из 3__\n",
    "\n",
    "Дополните код и вызовите запущенный сервис рекомендаций, чтобы получить от него пустой (пока) список."
   ]
  },
  {
   "cell_type": "code",
   "execution_count": null,
   "id": "a91accae",
   "metadata": {},
   "outputs": [],
   "source": [
    "# Проверяем работу класса Recommendations\n",
    "\n",
    "rec_store = Recommendations()\n",
    "\n",
    "rec_store.load(\n",
    "    \"personal\",\n",
    "    'final_recommendations_feat.parquet', # ваш код здесь\n",
    "    columns=[\"user_id\", \"item_id\", \"rank\"],\n",
    ")\n",
    "rec_store.load(\n",
    "    \"default\",\n",
    "    'top_recs.parquet', # ваш код здесь\n",
    "    columns=[\"item_id\", \"rank\"],\n",
    ")\n",
    "\n",
    "rec_store.get(user_id=100, k=5)"
   ]
  },
  {
   "attachments": {},
   "cell_type": "markdown",
   "id": "dd97232c",
   "metadata": {},
   "source": [
    "Проверим значение у идентификатора объекта (item_id), идущего в списке рекомендаций вторым, для пользователя с идентификатором `1049126` (user_id). Должно получиться `5470`"
   ]
  },
  {
   "cell_type": "code",
   "execution_count": null,
   "id": "395e817f",
   "metadata": {},
   "outputs": [],
   "source": [
    "rec_store.get(user_id=1049126, k=2)"
   ]
  },
  {
   "attachments": {},
   "cell_type": "markdown",
   "id": "a7126a84",
   "metadata": {},
   "source": [
    "__Шаг 3. Интеграция__\n",
    "\n",
    "Интегрируем класс Recommendations в наш сервис для дальнейшего использования. Достаточно перенести код определения класса с импортами (кроме импорта logging) в скрипт с кодом сервиса, а затем разместить код загрузки и получения рекомендаций в соответствующие места:\n",
    "- код загрузки рекомендаций следует поместить в функцию lifespan,\n",
    "- код получения рекомендаций — в функцию recommendations,\n",
    "- чтобы вывести статистику в лог, в функцию lifespan можно поместить вызов rec_store.stats() — он должен вызываться при остановке сервиса."
   ]
  },
  {
   "attachments": {},
   "cell_type": "markdown",
   "id": "50184391",
   "metadata": {},
   "source": [
    "__Задание 3 из 3__\n",
    "\n",
    "Интегрируйте код класса `Recommendations` в код сервиса так, чтобы через метод `/recommendations` можно было получать рекомендации.\n",
    "\n",
    "Полный код функции recommendations приведён ниже:"
   ]
  },
  {
   "cell_type": "code",
   "execution_count": null,
   "id": "a1c8f9ef",
   "metadata": {},
   "outputs": [],
   "source": [
    "@app.post(\"/recommendations\")\n",
    "async def recommendations(user_id: int, k: int = 100):\n",
    "    \"\"\"\n",
    "    Возвращает список рекомендаций длиной k для пользователя user_id\n",
    "    \"\"\"\n",
    "\n",
    "    recs = rec_store.get(user_id, k)\n",
    "\n",
    "    return {\"recs\": recs}"
   ]
  },
  {
   "attachments": {},
   "cell_type": "markdown",
   "id": "17b10019",
   "metadata": {},
   "source": [
    "После интеграции вызовите `/recommendations` для user_id со значением `1353637`, используя код ниже (при необходимости исправьте значение recommendations_url).\n",
    "\n",
    "Для user_id со значением `1353637` (если статус возврата равен 200) микросервис должен сгенерировать следующий словарь со списком рекомендованных item_id: `{'recs': [28187230, 27161156, 5]}`"
   ]
  },
  {
   "cell_type": "code",
   "execution_count": null,
   "id": "60dac202",
   "metadata": {},
   "outputs": [],
   "source": [
    "# Скрипт для обращения к сервису recommendation_service\n",
    "\n",
    "import requests\n",
    "\n",
    "recommendations_url = \"http://127.0.0.1:8000\"\n",
    "\n",
    "headers = {'Content-type': 'application/json', 'Accept': 'text/plain'}\n",
    "params = {\"user_id\": 1353637, 'k': 3}\n",
    "\n",
    "resp = requests.post(recommendations_url + \"/recommendations\", headers=headers, params=params)\n",
    "if resp.status_code == 200:\n",
    "    recs = resp.json()\n",
    "else:\n",
    "    recs = []\n",
    "    print(f\"status code: {resp.status_code}\")\n",
    "    \n",
    "print(recs)"
   ]
  },
  {
   "attachments": {},
   "cell_type": "markdown",
   "id": "cc6d04f7",
   "metadata": {},
   "source": [
    "__Дополнительные функции__\n",
    "\n",
    "В сервисе можно реализовать дополнительные методы, удобные при промышленной эксплуатации, например:\n",
    "- `/health`, который возвращает статус здоровья, например строку \"healthy\", если вызов к сервису проходит нормально, или строку \"unhealthy\" в противном случае.\n",
    "- `/stats` — метод получения статистики от сервиса. Сервис может возвращать любую полезную статистику, которую он ведёт внутри себя (количество обработанных запросов, среднее время обработки запросов, количество ошибок и т. п.)."
   ]
  },
  {
   "attachments": {},
   "cell_type": "markdown",
   "id": "45f86b73",
   "metadata": {},
   "source": [
    "### Тема 5, Урок 3: Онлайн-рекомендации"
   ]
  },
  {
   "attachments": {},
   "cell_type": "markdown",
   "id": "8c77be13",
   "metadata": {},
   "source": [
    "__Алгоритм онлайн-рекомендаций__\n",
    "\n",
    "Возьмём простой алгоритм онлайн-рекомендаций, который будет использовать свойство похожести объектов (item2item similarity),\n",
    "когда для каждого объекта есть список объектов, которые на него похожи (в контексте поведения пользователей).\n",
    "Feature Store отвечает за хранение в явном виде статичных признаков объекта — набора похожих на него айтемов."
   ]
  },
  {
   "attachments": {},
   "cell_type": "markdown",
   "id": "9e1eff37",
   "metadata": {},
   "source": [
    "__Шаг 1. Набор похожих объектов__\n",
    "\n",
    "Чтобы получить набор похожих объектов, можно воспользоваться уже известным алгоритмом ALS из библиотеки implicit, у которого на такой случай есть удобный метод similar_items(), подробнее см. в [документации](https://benfred.github.io/implicit/api/models/cpu/als.html#implicit.cpu.als.AlternatingLeastSquares.similar_items).\n",
    "\n",
    "Воспользуемся им и получим по 10 самых похожих айтемов."
   ]
  },
  {
   "attachments": {},
   "cell_type": "markdown",
   "id": "e0c1e885",
   "metadata": {},
   "source": [
    "__Задание 1 из 6__\n",
    "\n",
    "Дополните код ниже, чтобы получить набор похожих объектов в similar_items. Вы можете подглядеть решение в уроке «Коллаборативная фильтрация: ALS» — там вы реализовывали похожую логику для получения персональных рекомендаций."
   ]
  },
  {
   "cell_type": "code",
   "execution_count": 14,
   "id": "207ad760",
   "metadata": {},
   "outputs": [
    {
     "name": "stderr",
     "output_type": "stream",
     "text": [
      "c:\\Users\\Kirill_Nosov\\_Repos\\.venv\\Lib\\site-packages\\tqdm\\auto.py:21: TqdmWarning: IProgress not found. Please update jupyter and ipywidgets. See https://ipywidgets.readthedocs.io/en/stable/user_install.html\n",
      "  from .autonotebook import tqdm as notebook_tqdm\n"
     ]
    }
   ],
   "source": [
    "with open('models/als_model.pkl', 'rb') as fd:\n",
    "    als_model = joblib.load(fd)"
   ]
  },
  {
   "cell_type": "code",
   "execution_count": null,
   "id": "05978bb7",
   "metadata": {},
   "outputs": [],
   "source": [
    "# получим энкодированные идентификаторы всех объектов, известных нам из events_train\n",
    "train_item_ids_enc = events_train['item_id_enc'].unique()\n",
    "\n",
    "max_similar_items = 10\n",
    "\n",
    "# получаем списки похожих объектов, используя ранее полученную ALS-модель\n",
    "# метод similar_items возвращает и сам объект, как наиболее похожий\n",
    "# этот объект мы позже отфильтруем, но сейчас запросим на 1 больше\n",
    "similar_items = als_model.similar_items(train_item_ids_enc, N=max_similar_items+1)\n",
    "\n",
    "# преобразуем полученные списки в табличный формат\n",
    "sim_item_item_ids_enc = similar_items[0]\n",
    "sim_item_scores = similar_items[1]\n",
    "\n",
    "similar_items = pd.DataFrame({\n",
    "    \"item_id_enc\": train_item_ids_enc,\n",
    "    \"sim_item_id_enc\": sim_item_item_ids_enc.tolist(), \n",
    "    \"score\": sim_item_scores.tolist()}) # ваш код здесь\n",
    "similar_items = similar_items.explode(['sim_item_id_enc', 'score'], ignore_index=True) # ваш код здесь\n",
    "\n",
    "# приводим типы данных\n",
    "similar_items[\"sim_item_id_enc\"] = similar_items[\"sim_item_id_enc\"].astype('int') # ваш код здесь\n",
    "similar_items[\"score\"] = similar_items[\"score\"].astype(\"float\")\n",
    "\n",
    "# получаем изначальные идентификаторы\n",
    "similar_items[\"item_id_1\"] = item_encoder.inverse_transform(similar_items[\"item_id_enc\"]) # ваш код здесь\n",
    "similar_items[\"item_id_2\"] = item_encoder.inverse_transform(similar_items[\"sim_item_id_enc\"]) # ваш код здесь\n",
    "similar_items = similar_items.drop(columns=[\"item_id_enc\", \"sim_item_id_enc\"])\n",
    "\n",
    "# убираем пары с одинаковыми объектами\n",
    "similar_items = similar_items.query(\"item_id_1 != item_id_2\")"
   ]
  },
  {
   "attachments": {},
   "cell_type": "markdown",
   "id": "0b3dcf4c",
   "metadata": {},
   "source": [
    "Проверим идентификатор объекта, наиболее похожего на объект `7126`, должно получиться `7190`"
   ]
  },
  {
   "cell_type": "code",
   "execution_count": null,
   "id": "b9eab6e0",
   "metadata": {},
   "outputs": [],
   "source": [
    "similar_items.query(\"item_id_1 == 7126\").sort_values(by='score', ascending=False)"
   ]
  },
  {
   "attachments": {},
   "cell_type": "markdown",
   "id": "7ee7f758",
   "metadata": {},
   "source": [
    "Сохраним полученный набор похожих объектов `similar_items` в файл"
   ]
  },
  {
   "cell_type": "code",
   "execution_count": null,
   "id": "8dcf26f0",
   "metadata": {},
   "outputs": [],
   "source": [
    "similar_items.to_parquet(\"similar_items.parquet\")"
   ]
  },
  {
   "attachments": {},
   "cell_type": "markdown",
   "id": "3570fd90",
   "metadata": {},
   "source": [
    "Полезно убедиться, что полученный набор действительно содержит похожие данные. Например, можно оценить глазами списки похожих объектов для каких-то уже известных. Создадим для этой цели функцию `print_sim_items`"
   ]
  },
  {
   "cell_type": "code",
   "execution_count": null,
   "id": "1f22dc0c",
   "metadata": {},
   "outputs": [],
   "source": [
    "def print_sim_items(item_id, similar_items):\n",
    "    item_columns_to_use = [\"item_id\", \"author\", \"title\", \"genre_and_votes\", \"average_rating\", \"ratings_count\"]\n",
    "    \n",
    "    item_id_1 = items.query(\"item_id == @item_id\")[item_columns_to_use]\n",
    "    display(item_id_1)\n",
    "    \n",
    "    si = similar_items.query(\"item_id_1 == @item_id\")\n",
    "    si = si.merge(items[item_columns_to_use].set_index(\"item_id\"), left_on=\"item_id_2\", right_index=True)\n",
    "    display(si)"
   ]
  },
  {
   "attachments": {},
   "cell_type": "markdown",
   "id": "db6d2cdf",
   "metadata": {},
   "source": [
    "Можно, например, оценить похожие айтемы для следующих известных книг (числа — идентификаторы item_id):\n",
    "- 7144: Ф. М. Достоевский «Преступление и наказание»;\n",
    "- 16299: Агата Кристи «Десять негритят»;\n",
    "- 3: Джоан Роулинг «Гарри Поттер и философский камень»;\n",
    "- 18135: Уильям Шекспир «Ромео и Джульетта»;\n",
    "- 17245: Брэм Стокер «Дракула»."
   ]
  },
  {
   "cell_type": "code",
   "execution_count": null,
   "id": "7c0f3b53",
   "metadata": {},
   "outputs": [],
   "source": [
    "print_sim_items(7144, similar_items)"
   ]
  },
  {
   "attachments": {},
   "cell_type": "markdown",
   "id": "9b217d27",
   "metadata": {},
   "source": [
    "__Шаг 2. Сервис Feature Store__\n",
    "\n",
    "Сделаем так, чтобы набор стал доступен сервису рекомендаций. Для этого создадим новый сервис, который при запуске будет загружать набор похожих объектов из файла `similar_items.parquet` и отдавать список похожих объектов через метод `/similar_items`."
   ]
  },
  {
   "attachments": {},
   "cell_type": "markdown",
   "id": "b339b243",
   "metadata": {},
   "source": [
    "__Задание 2 из 6__\n",
    "\n",
    "Дополните код ниже, чтобы получить работоспособный сервис, возвращающий список похожих объектов через метод `/similar_items`.\n",
    "Сохраните код сервиса в файле `features_service.py`"
   ]
  },
  {
   "cell_type": "code",
   "execution_count": null,
   "id": "96e33230",
   "metadata": {},
   "outputs": [],
   "source": [
    "# Файл features_service.py\n",
    "# Запуск сервиса: uvicorn features_service:app --port 8010\n",
    "\n",
    "import logging\n",
    "from contextlib import asynccontextmanager\n",
    "import pandas as pd\n",
    "from fastapi import FastAPI\n",
    "\n",
    "logger = logging.getLogger(\"uvicorn.error\")\n",
    "\n",
    "class SimilarItems:\n",
    "\n",
    "    def __init__(self):\n",
    "\n",
    "        self._similar_items = None\n",
    "\n",
    "    def load(self, path, **kwargs):\n",
    "        \"\"\"\n",
    "        Загружаем данные из файла\n",
    "        \"\"\"\n",
    "\n",
    "        logger.info(f\"Loading data, type: {type}\")\n",
    "        self._similar_items = pd.read_parquet(path, **kwargs) # ваш код здесь\n",
    "        self._similar_items = self._similar_items.set_index('item_id_1') # ваш код здесь\n",
    "        logger.info(f\"Loaded\")\n",
    "\n",
    "    def get(self, item_id: int, k: int = 10):\n",
    "        \"\"\"\n",
    "        Возвращает список похожих объектов\n",
    "        \"\"\"\n",
    "        \n",
    "        try:\n",
    "            i2i = self._similar_items.loc[item_id].head(k)\n",
    "            i2i = i2i[[\"item_id_2\", \"score\"]].to_dict(orient=\"list\")\n",
    "        except KeyError:\n",
    "            logger.error(\"No recommendations found\")\n",
    "            i2i = {\"item_id_2\": [], \"score\": []}\n",
    "\n",
    "        return i2i\n",
    "\n",
    "\n",
    "sim_items_store = SimilarItems()\n",
    "\n",
    "\n",
    "@asynccontextmanager\n",
    "async def lifespan(app: FastAPI):\n",
    "    # код ниже (до yield) выполнится только один раз при запуске сервиса\n",
    "    sim_items_store.load(\n",
    "        'similar_items.parquet', # ваш код здесь\n",
    "        columns=[\"item_id_1\", \"item_id_2\", \"score\"],\n",
    "    )\n",
    "    logger.info(\"Ready!\")\n",
    "    # код ниже выполнится только один раз при остановке сервиса\n",
    "    yield\n",
    "\n",
    "\n",
    "# создаём приложение FastAPI\n",
    "app = FastAPI(title=\"features\", lifespan=lifespan)\n",
    "\n",
    "\n",
    "@app.post(\"/similar_items\")\n",
    "async def recommendations(item_id: int, k: int = 10):\n",
    "    \"\"\"\n",
    "    Возвращает список похожих объектов длиной k для item_id\n",
    "    \"\"\"\n",
    "\n",
    "    i2i = sim_items_store.get(item_id, k)\n",
    "\n",
    "    return i2i"
   ]
  },
  {
   "attachments": {},
   "cell_type": "markdown",
   "id": "e957f0ea",
   "metadata": {},
   "source": [
    "Запустим данный сервис на порте 8010, чтобы избежать конфликта с сервисом рекомендаций:\n",
    "\n",
    "`uvicorn features_service:app --port 8010`"
   ]
  },
  {
   "attachments": {},
   "cell_type": "markdown",
   "id": "54755fa1",
   "metadata": {},
   "source": [
    "Ниже пример кода для тестирования. После его запуска должно получиться:\n",
    "\n",
    "`{'item_id_2': [480204, 51496, 2623], 'score': [0.9245510697364807, 0.9044632911682129, 0.9016129374504089]}`"
   ]
  },
  {
   "cell_type": "code",
   "execution_count": null,
   "id": "ad617c1f",
   "metadata": {},
   "outputs": [],
   "source": [
    "# Скрипт для обращения к сервису features_service\n",
    "\n",
    "import requests\n",
    "\n",
    "features_store_url = \"http://127.0.0.1:8010\"\n",
    "\n",
    "headers = {'Content-type': 'application/json', 'Accept': 'text/plain'}\n",
    "params = {\"item_id\": 17245}\n",
    "\n",
    "resp = requests.post(features_store_url +\"/similar_items\", headers=headers, params=params)\n",
    "if resp.status_code == 200:\n",
    "    similar_items = resp.json()\n",
    "else:\n",
    "    similar_items = None\n",
    "    print(f\"status code: {resp.status_code}\")\n",
    "    \n",
    "print(similar_items)"
   ]
  },
  {
   "attachments": {},
   "cell_type": "markdown",
   "id": "f8bb33bd",
   "metadata": {},
   "source": [
    "__Шаг 3. Сервис Event Store__\n",
    "\n",
    "Чтобы выполнить второй пункт алгоритма («для онлайн-взаимодействия пользователя с каким-то объектом можно использовать список похожих на него объектов»), необходим компонент, умеющий сохранять и выдавать последние события пользователя, — это Event Store. \n",
    "\n",
    "Реализуем его также в виде сервиса. В данном случае под взаимодействием пользователя с объектом будем подразумевать любое положительное событие, например: просмотр страницы с книгой, лайк, добавление в избранное и т. п."
   ]
  },
  {
   "attachments": {},
   "cell_type": "markdown",
   "id": "f06b14b4",
   "metadata": {},
   "source": [
    "__Задание 3 из 6__\n",
    "\n",
    "Дополните код сервиса так, чтобы он по методу `/put` сохранял пару значений user_id и item_id как событие, а по методу `/get` возвращал события (первыми — самые последние).\n",
    "\n",
    "Сохраните код сервиса в файле `events_service.py`"
   ]
  },
  {
   "cell_type": "code",
   "execution_count": null,
   "id": "e9b56c70",
   "metadata": {},
   "outputs": [],
   "source": [
    "# Файл events_service.py\n",
    "# Запуск сервиса: uvicorn events_service:app --port 8020\n",
    "\n",
    "from fastapi import FastAPI\n",
    "\n",
    "class EventStore:\n",
    "\n",
    "    def __init__(self, max_events_per_user=10):\n",
    "\n",
    "        self.events = {}\n",
    "        self.max_events_per_user = max_events_per_user\n",
    "\n",
    "    def put(self, user_id, item_id):\n",
    "        \"\"\"\n",
    "        Сохраняет событие\n",
    "        \"\"\"\n",
    "\n",
    "        user_events = self.events.get(user_id) # ваш код здесь\n",
    "        self.events[user_id] = [item_id] + user_events[: self.max_events_per_user]\n",
    "\n",
    "    def get(self, user_id, k):\n",
    "        \"\"\"\n",
    "        Возвращает события для пользователя\n",
    "        \"\"\"\n",
    "        user_events = self.events.get(user_id)[:k] # ваш код здесь\n",
    "\n",
    "        return user_events\n",
    "\n",
    "\n",
    "events_store = EventStore() # ваш код здесь\n",
    "\n",
    "# создаём приложение FastAPI\n",
    "app = FastAPI(title=\"events\")\n",
    "\n",
    "\n",
    "@app.post(\"/put\")\n",
    "async def put(user_id: int, item_id: int):\n",
    "    \"\"\"\n",
    "    Сохраняет событие для user_id, item_id\n",
    "    \"\"\"\n",
    "\n",
    "    events_store.put(user_id, item_id)\n",
    "\n",
    "    return {\"result\": \"ok\"}\n",
    "\n",
    "\n",
    "@app.post(\"/get\")\n",
    "async def get(user_id: int, k: int = 10):\n",
    "    \"\"\"\n",
    "    Возвращает список последних k событий для пользователя user_id\n",
    "    \"\"\"\n",
    "\n",
    "    events = events_store.get(user_id, k)\n",
    "\n",
    "    return {\"events\": events}"
   ]
  },
  {
   "attachments": {},
   "cell_type": "markdown",
   "id": "fd604c33",
   "metadata": {},
   "source": [
    "Запустим данный сервис на порте 8020, чтобы он не конфликтовал с другими сервисами:\n",
    "\n",
    "`uvicorn events_service:app --port 8020`"
   ]
  },
  {
   "attachments": {},
   "cell_type": "markdown",
   "id": "66bf91a2",
   "metadata": {},
   "source": [
    "Ниже скрипт для сохранения взаимодействия пользователя user_id с объектом item_id:"
   ]
  },
  {
   "cell_type": "code",
   "execution_count": null,
   "id": "33b30f03",
   "metadata": {},
   "outputs": [],
   "source": [
    "# Обращение к сервису events_service (/put)\n",
    "\n",
    "import requests\n",
    "\n",
    "events_store_url = \"http://127.0.0.1:8020\"\n",
    "\n",
    "headers = {'Content-type': 'application/json', 'Accept': 'text/plain'}\n",
    "params = {\"user_id\": 1337055, \"item_id\": 17245}\n",
    "\n",
    "resp = requests.post(events_store_url + \"/put\", headers=headers, params=params)\n",
    "if resp.status_code == 200:\n",
    "    result = resp.json()\n",
    "else:\n",
    "    result = None\n",
    "    print(f\"status code: {resp.status_code}\")\n",
    "    \n",
    "print(result)"
   ]
  },
  {
   "attachments": {},
   "cell_type": "markdown",
   "id": "c15a5de0",
   "metadata": {},
   "source": [
    "Ниже скрипт для получения списка последних событий пользователя user_id:"
   ]
  },
  {
   "cell_type": "code",
   "execution_count": null,
   "id": "5d3e4213",
   "metadata": {},
   "outputs": [],
   "source": [
    "# Обращение к сервису events_service (/get)\n",
    "\n",
    "import requests\n",
    "\n",
    "events_store_url = \"http://127.0.0.1:8020\"\n",
    "\n",
    "headers = {'Content-type': 'application/json', 'Accept': 'text/plain'}\n",
    "params = {\"user_id\": 1337055}\n",
    "\n",
    "resp = requests.post(events_store_url + \"/get\", headers=headers, params=params)\n",
    "if resp.status_code == 200:\n",
    "    result = resp.json()\n",
    "else:\n",
    "    result = None\n",
    "    print(f\"status code: {resp.status_code}\")\n",
    "    \n",
    "print(result)"
   ]
  },
  {
   "attachments": {},
   "cell_type": "markdown",
   "id": "f699f846",
   "metadata": {},
   "source": [
    "Проверим, что для пользователя `1127794` в Event Store нет никаких событий"
   ]
  },
  {
   "cell_type": "code",
   "execution_count": null,
   "id": "e238d331",
   "metadata": {},
   "outputs": [],
   "source": [
    "params = {\"user_id\": 1127794}\n",
    "resp = requests.post(events_store_url + \"/get\", headers=headers, params=params)\n",
    "if resp.status_code == 200:\n",
    "    result = resp.json()\n",
    "else:\n",
    "    result = None\n",
    "    print(f\"status code: {resp.status_code}\")\n",
    "\n",
    "print(result)"
   ]
  },
  {
   "attachments": {},
   "cell_type": "markdown",
   "id": "d3172f98",
   "metadata": {},
   "source": [
    "Затем сохраним для этого пользователя последовательно четыре события с объектами: `18734992`, `18734992`, `7785`, `4731479`"
   ]
  },
  {
   "cell_type": "code",
   "execution_count": null,
   "id": "1cf4486a",
   "metadata": {},
   "outputs": [],
   "source": [
    "params = {\"user_id\": 1127794, \"item_id\": 18734992}\n",
    "requests.post(events_store_url + \"/put\", headers=headers, params=params)\n",
    "\n",
    "params = {\"user_id\": 1127794, \"item_id\": 18734992}\n",
    "requests.post(events_store_url + \"/put\", headers=headers, params=params)\n",
    "\n",
    "params = {\"user_id\": 1127794, \"item_id\": 7785}\n",
    "requests.post(events_store_url + \"/put\", headers=headers, params=params)\n",
    "\n",
    "params = {\"user_id\": 1127794, \"item_id\": 4731479}\n",
    "requests.post(events_store_url + \"/put\", headers=headers, params=params)"
   ]
  },
  {
   "attachments": {},
   "cell_type": "markdown",
   "id": "ad549ba4",
   "metadata": {},
   "source": [
    "После чего запросим для того же пользователя последние три события. В результате должно получиться: \n",
    "\n",
    "`{'events': [4731479, 7785, 18734992]}`"
   ]
  },
  {
   "cell_type": "code",
   "execution_count": null,
   "id": "b9c90440",
   "metadata": {},
   "outputs": [],
   "source": [
    "resp = requests.post(events_store_url + \"/get\", \n",
    "                     headers=headers, \n",
    "                     params={\"user_id\": 1127794, \"k\": 3})\n",
    "print(resp.json())"
   ]
  },
  {
   "attachments": {},
   "cell_type": "markdown",
   "id": "250a85b4",
   "metadata": {},
   "source": [
    "__Шаг 4. Доработка сервиса рекомендаций__\n",
    "\n",
    "Доработаем уже имеющийся код сервиса из предыдущего урока так, чтобы он позволял получить онлайн-рекомендации для последнего события пользователя. Для этого добавьте в код сервиса рекомендаций новые переменные, указывающие на адреса новых сервисов:"
   ]
  },
  {
   "cell_type": "code",
   "execution_count": 1,
   "id": "0088bfb6",
   "metadata": {},
   "outputs": [],
   "source": [
    "features_store_url = \"http://127.0.0.1:8010\"\n",
    "events_store_url = \"http://127.0.0.1:8020\""
   ]
  },
  {
   "attachments": {},
   "cell_type": "markdown",
   "id": "40f1d225",
   "metadata": {},
   "source": [
    "Затем реализуйте новый метод `/recommendations_online`, который будет выдавать список похожих объектов для последнего события пользователя (если оно есть).\n",
    "\n",
    "__Задание 4 из 6__\n",
    "\n",
    "Дополните код нового метода так, чтобы для последнего события пользователя, если оно есть, возвращался список похожих объектов. Это и будут онлайн-рекомендации."
   ]
  },
  {
   "cell_type": "code",
   "execution_count": null,
   "id": "62f487f1",
   "metadata": {},
   "outputs": [],
   "source": [
    "# Функция recommendations_online сервиса recommendation_service (v1)\n",
    "\n",
    "@app.post(\"/recommendations_online\")\n",
    "async def recommendations_online(user_id: int, k: int = 100):\n",
    "    \"\"\"\n",
    "    Возвращает список онлайн-рекомендаций длиной k для пользователя user_id\n",
    "    \"\"\"\n",
    "\n",
    "    headers = {\"Content-type\": \"application/json\", \"Accept\": \"text/plain\"}\n",
    "\n",
    "    # получаем последнее событие пользователя\n",
    "    params = {\"user_id\": user_id, \"k\": 1}\n",
    "    resp = requests.post(events_store_url + \"/get\", headers=headers, params=params)\n",
    "    events = resp.json()\n",
    "    events = events[\"events\"]\n",
    "\n",
    "    # получаем список похожих объектов\n",
    "    if len(events) > 0:\n",
    "        item_id = events[0]\n",
    "        params = {\"item_id\": item_id, \"k\": k}\n",
    "        # ваш код здесь (начало)\n",
    "        resp = requests.post(features_store_url +\"/similar_items\", headers=headers, params=params)\n",
    "        item_similar_items = resp.json()\n",
    "        item_similar_items = item_similar_items['item_id_2']\n",
    "        # ваш код здесь (конец)\n",
    "        recs = item_similar_items[:k]\n",
    "    else:\n",
    "        recs = []\n",
    "\n",
    "    return {\"recs\": recs}"
   ]
  },
  {
   "attachments": {},
   "cell_type": "markdown",
   "id": "877792cc",
   "metadata": {},
   "source": [
    "Протестируйте работу нового метода. Получите онлайн-рекомендации (длиной 3) для пользователя `1291248`:"
   ]
  },
  {
   "cell_type": "code",
   "execution_count": null,
   "id": "a5e18b35",
   "metadata": {},
   "outputs": [],
   "source": [
    "params = {\"user_id\": 1291248, 'k': 3}\n",
    "\n",
    "resp = requests.post(recommendations_url + \"/recommendations_online\", headers=headers, params=params)\n",
    "online_recs = resp.json()\n",
    "    \n",
    "print(online_recs) "
   ]
  },
  {
   "attachments": {},
   "cell_type": "markdown",
   "id": "f4171589",
   "metadata": {},
   "source": [
    "Список пустой. Это ожидаемо, так как для пользователя в Event Store пока нет никаких событий, чтобы по ним получить онлайн-рекомендации.\n",
    "\n",
    "Добавим событие:"
   ]
  },
  {
   "cell_type": "code",
   "execution_count": null,
   "id": "998c3e15",
   "metadata": {},
   "outputs": [],
   "source": [
    "params = {\"user_id\": 1291248, \"item_id\": 17245}\n",
    "\n",
    "resp = requests.post(events_store_url + \"/put\", headers=headers, params=params)"
   ]
  },
  {
   "attachments": {},
   "cell_type": "markdown",
   "id": "2ff27e54",
   "metadata": {},
   "source": [
    "И снова получим онлайн-рекомендации для пользователя `1291248`. Должно получиться: `{'recs': [480204, 51496, 2623]}`"
   ]
  },
  {
   "cell_type": "code",
   "execution_count": null,
   "id": "1cf33a09",
   "metadata": {},
   "outputs": [],
   "source": [
    "params = {\"user_id\": 1291248, 'k': 3}\n",
    "\n",
    "resp = requests.post(recommendations_url + \"/recommendations_online\", headers=headers, params=params)\n",
    "online_recs = resp.json()\n",
    "    \n",
    "print(online_recs)"
   ]
  },
  {
   "attachments": {},
   "cell_type": "markdown",
   "id": "cedec9cb",
   "metadata": {},
   "source": [
    "__Шаг 5. Добавим разнообразия в онлайн-рекомендации__\n",
    "\n",
    "Текущая реализация онлайн-рекомендаций позволяет получать их только для последнего события, что очень просто и прямолинейно: если пользователь просмотрит новую книгу, то у него сменятся все онлайн-рекомендации.\n",
    "\n",
    "Доработаем алгоритм так, чтобы онлайн-рекомендации учитывали три последних объекта, с которыми взаимодействовал пользователь. Например, так:\n",
    "- Для каждого события из последних трёх получим список похожих объектов.\n",
    "- Объединим полученные списки по какому-то правилу. Правило выберем простое: все полученные похожие объекты сортируются по убыванию `score`, а из упорядоченного списка удаляются дубликаты, оставляя только первое вхождение."
   ]
  },
  {
   "attachments": {},
   "cell_type": "markdown",
   "id": "33c5f9f2",
   "metadata": {},
   "source": [
    "__Задание 5 из 6__\n",
    "\n",
    "Дополните новую версию реализации метода `/recommendations_online` так, чтобы онлайн-рекомендации возвращались для трёх последних событий."
   ]
  },
  {
   "cell_type": "code",
   "execution_count": null,
   "id": "da3250c0",
   "metadata": {},
   "outputs": [],
   "source": [
    "# Функция recommendations_online сервиса recommendation_service (v2)\n",
    "\n",
    "def dedup_ids(ids):\n",
    "    \"\"\"\n",
    "    Дедублицирует список идентификаторов, оставляя только первое вхождение\n",
    "    \"\"\"\n",
    "    seen = set()\n",
    "    ids = [id for id in ids if not (id in seen or seen.add(id))]\n",
    "\n",
    "    return ids\n",
    "\n",
    "\n",
    "@app.post(\"/recommendations_online\")\n",
    "async def recommendations_online(user_id: int, k: int = 100):\n",
    "    \"\"\"\n",
    "    Возвращает список онлайн-рекомендаций длиной k для пользователя user_id\n",
    "    \"\"\"\n",
    "\n",
    "    headers = {\"Content-type\": \"application/json\", \"Accept\": \"text/plain\"}\n",
    "\n",
    "    # получаем список последних событий пользователя, возьмём три последних\n",
    "    params = {\"user_id\": user_id, \"k\": 3}\n",
    "    # ваш код здесь (начало)\n",
    "    resp = requests.post(events_store_url + \"/get\", headers=headers, params=params)\n",
    "    events = resp.json()\n",
    "    events = events['events']\n",
    "    # ваш код здесь (конец)\n",
    "\n",
    "    # получаем список айтемов, похожих на последние три, с которыми взаимодействовал пользователь\n",
    "    items = []\n",
    "    scores = []\n",
    "    for item_id in events:\n",
    "        # для каждого item_id получаем список похожих в item_similar_items\n",
    "        # ваш код здесь (начало)\n",
    "        params = {\"item_id\": item_id, \"k\": k}\n",
    "        resp = requests.post(features_store_url +\"/similar_items\", headers=headers, params=params)\n",
    "        item_similar_items = resp.json()\n",
    "        # ваш код здесь (конец)\n",
    "        items += item_similar_items[\"item_id_2\"]\n",
    "        scores += item_similar_items[\"score\"]\n",
    "    \n",
    "    # сортируем похожие объекты по scores в убывающем порядке\n",
    "    # для старта это приемлемый подход\n",
    "    combined = list(zip(items, scores))\n",
    "    combined = sorted(combined, key=lambda x: x[1], reverse=True)\n",
    "    combined = [item for item, _ in combined]\n",
    "\n",
    "    # удаляем дубликаты, чтобы не выдавать одинаковые рекомендации\n",
    "    recs = dedup_ids(combined)\n",
    "\n",
    "    return {\"recs\": recs}"
   ]
  },
  {
   "attachments": {},
   "cell_type": "markdown",
   "id": "fd2d85a5",
   "metadata": {},
   "source": [
    "Протестируем метод для пользователя `1291248`, сгенерировав для него несколько событий и получив пять онлайн-рекомендаций."
   ]
  },
  {
   "cell_type": "code",
   "execution_count": null,
   "id": "64ba900a",
   "metadata": {},
   "outputs": [],
   "source": [
    "headers = {\"Content-type\": \"application/json\", \"Accept\": \"text/plain\"}\n",
    "\n",
    "user_id = 1291248\n",
    "event_item_ids = [41899, 102868, 5472, 5907]\n",
    "\n",
    "for event_item_id in event_item_ids:\n",
    "    resp = requests.post(events_store_url + \"/put\", \n",
    "                         headers=headers, \n",
    "                         params={\"user_id\": user_id, \"item_id\": event_item_id})\n",
    "                         \n",
    "params = {\"user_id\": user_id, 'k': 5}\n",
    "\n",
    "resp = requests.post(recommendations_url + \"/recommendations_online\", headers=headers, params=params)\n",
    "online_recs = resp.json()\n",
    "    \n",
    "print(online_recs)"
   ]
  },
  {
   "attachments": {},
   "cell_type": "markdown",
   "id": "10a05891",
   "metadata": {},
   "source": [
    "Должно получиться: `{'recs': [608474, 3590, 8921, 194373, 736131]}`"
   ]
  },
  {
   "attachments": {},
   "cell_type": "markdown",
   "id": "583530ed",
   "metadata": {},
   "source": [
    "Учитывая утверждение, что офлайн- и онлайн-рекомендации не исключают, а дополняют друг друга, доработаем сервис рекомендаций так, чтобы результат его работы мог включать в себя оба типа.\n",
    "\n",
    "Предлагаем такую простую схему:\n",
    "- онлайн-рекомендации занимают нечётные места,\n",
    "- офлайн-рекомендации занимают чётные места.\n",
    "\n",
    "Подобные схемы расстановок разнотипных элементов по различным местам ещё называют «смешиванием» (англ. blending).\n",
    "\n",
    "Начнём с того, что переименуем метод `/recommendations` и его функцию в `recommendations_offline/`. Код функции тот же.\n",
    "\n",
    "И реализуем новый метод `/recommendations` — уже как объединяющий оба типа рекомендаций."
   ]
  },
  {
   "attachments": {},
   "cell_type": "markdown",
   "id": "f45078da",
   "metadata": {},
   "source": [
    "__Задание 6 из 6__\n",
    "\n",
    "Доработайте код обновлённого метода `/recommendations` так, чтобы реализовать предложенную выше схему блендинга."
   ]
  },
  {
   "cell_type": "code",
   "execution_count": null,
   "id": "603441a8",
   "metadata": {},
   "outputs": [],
   "source": [
    "@app.post(\"/recommendations\")\n",
    "async def recommendations(user_id: int, k: int = 100):\n",
    "    \"\"\"\n",
    "    Возвращает список рекомендаций длиной k для пользователя user_id\n",
    "    \"\"\"\n",
    "\n",
    "    recs_offline = await recommendations_offline(user_id, k)\n",
    "    recs_online = await recommendations_online(user_id, k)\n",
    "\n",
    "    recs_offline = recs_offline[\"recs\"]\n",
    "    recs_online = recs_online[\"recs\"]\n",
    "\n",
    "    recs_blended = []\n",
    "\n",
    "    min_length = min(len(recs_offline), len(recs_online))\n",
    "    offline_idx = online_idx = 0\n",
    "    # чередуем элементы из списков, пока позволяет минимальная длина\n",
    "    for i in range(2 * min_length):\n",
    "        # ваш код здесь\n",
    "        if i % 2 == 0:\n",
    "            recs_blended.append(recs_offline[offline_idx])\n",
    "            offline_idx += 1\n",
    "        else:\n",
    "            recs_blended.append(recs_online[online_idx])\n",
    "            online_idx += 1\n",
    "\n",
    "    # добавляем оставшиеся элементы в конец\n",
    "    # ваш код здесь\n",
    "    if len(recs_offline) >= len(recs_online):\n",
    "        recs_blended.extend(recs_offline[offline_idx:])\n",
    "    else:\n",
    "        recs_blended.extend(recs_online[online_idx:])\n",
    "\n",
    "    # удаляем дубликаты\n",
    "    recs_blended = dedup_ids(recs_blended)\n",
    "    \n",
    "    # оставляем только первые k рекомендаций\n",
    "    # ваш код здесь\n",
    "    recs_blended = recs_blended[:k]\n",
    "\n",
    "    return {\"recs\": recs_blended}"
   ]
  },
  {
   "attachments": {},
   "cell_type": "markdown",
   "id": "d7613810",
   "metadata": {},
   "source": [
    "На примере пользователя `1291250` протестируем доработанный сервис.\n",
    "\n",
    "Сначала сгенерируем онлайн-события:"
   ]
  },
  {
   "cell_type": "code",
   "execution_count": null,
   "id": "c12a9f91",
   "metadata": {},
   "outputs": [],
   "source": [
    "user_id = 1291250\n",
    "event_item_ids =  [7144, 16299, 5907, 18135]\n",
    "\n",
    "headers = {\"Content-type\": \"application/json\", \"Accept\": \"text/plain\"}\n",
    "\n",
    "for event_item_id in event_item_ids:\n",
    "    resp = requests.post(events_store_url + \"/put\", \n",
    "                         headers=headers, \n",
    "                         params={\"user_id\": user_id, \"item_id\": event_item_id})"
   ]
  },
  {
   "attachments": {},
   "cell_type": "markdown",
   "id": "e1c0022f",
   "metadata": {},
   "source": [
    "Получим 10 рекомендаций каждого типа для данного пользователя:"
   ]
  },
  {
   "cell_type": "code",
   "execution_count": null,
   "id": "fc80096a",
   "metadata": {},
   "outputs": [],
   "source": [
    "headers = {\"Content-type\": \"application/json\", \"Accept\": \"text/plain\"}\n",
    "params = {\"user_id\": 1291250, 'k': 10}\n",
    "\n",
    "resp_offline = requests.post(recommendations_url + \"/recommendations_offline\", headers=headers, params=params)\n",
    "resp_online = requests.post(recommendations_url + \"/recommendations_online\", headers=headers, params=params)\n",
    "resp_blended = requests.post(recommendations_url + \"/recommendations\", headers=headers, params=params)\n",
    "\n",
    "recs_offline = resp_offline.json()[\"recs\"]\n",
    "recs_online = resp_online.json()[\"recs\"]\n",
    "recs_blended = resp_blended.json()[\"recs\"]\n",
    "\n",
    "print(recs_offline)\n",
    "print(recs_online)\n",
    "print(recs_blended)"
   ]
  },
  {
   "attachments": {},
   "cell_type": "markdown",
   "id": "dab3c59a",
   "metadata": {},
   "source": [
    "Качество рекомендаций также можно оценить выборочно: посмотрев, что рекомендации книг в целом адекватны, по авторам, названиям. Пример кода для этого приведён ниже."
   ]
  },
  {
   "cell_type": "code",
   "execution_count": null,
   "id": "a86722f3",
   "metadata": {},
   "outputs": [],
   "source": [
    "def display_items(item_ids):\n",
    "\n",
    "    item_columns_to_use = [\"item_id\", \"author\", \"title\", \"genre_and_votes\", \"average_rating\", \"ratings_count\"]\n",
    "    \n",
    "    items_selected = items.query(\"item_id in @item_ids\")[item_columns_to_use]\n",
    "    items_selected = items_selected.set_index(\"item_id\").reindex(item_ids)\n",
    "    items_selected = items_selected.reset_index()\n",
    "    \n",
    "    display(items_selected)\n",
    "    \n",
    "    \n",
    "print(\"Онлайн-события\")\n",
    "display_items(event_item_ids)\n",
    "print(\"Офлайн-рекомендации\")\n",
    "display_items(recs_offline)\n",
    "print(\"Онлайн-рекомендации\")\n",
    "display_items(recs_online)\n",
    "print(\"Рекомендации\")\n",
    "display_items(recs_blended)"
   ]
  },
  {
   "cell_type": "code",
   "execution_count": null,
   "id": "f3371968",
   "metadata": {},
   "outputs": [],
   "source": [
    "#WIP"
   ]
  }
 ],
 "metadata": {
  "kernelspec": {
   "display_name": "Python 3 (ipykernel)",
   "language": "python",
   "name": "python3"
  },
  "language_info": {
   "codemirror_mode": {
    "name": "ipython",
    "version": 3
   },
   "file_extension": ".py",
   "mimetype": "text/x-python",
   "name": "python",
   "nbconvert_exporter": "python",
   "pygments_lexer": "ipython3",
   "version": "3.11.7"
  }
 },
 "nbformat": 4,
 "nbformat_minor": 5
}
