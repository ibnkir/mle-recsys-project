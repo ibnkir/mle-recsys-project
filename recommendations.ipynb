{
 "cells": [
  {
   "attachments": {},
   "cell_type": "markdown",
   "id": "6c9d506c-9c8c-4707-9613-02510f8b4518",
   "metadata": {},
   "source": [
    "## Яндекс Практикум, курс \"Инженер Машинного Обучения\" (2024 г.)\n",
    "## Проект 4-го спринта: \"Создание рекомендательной системы\"\n",
    "***"
   ]
  },
  {
   "attachments": {},
   "cell_type": "markdown",
   "id": "898b2e26",
   "metadata": {},
   "source": [
    "## Содержание:\n",
    "* [Инициализация (общая для всех этапов)](#step_0)\n",
    "* [Этап 1. Первичная подготовка данных](#step_1)\n",
    "* [Этап 2. Анализ данных (EDA)](#step_2)\n",
    "* [Этап 3. Оффлайн-рекомендации](#step_3)\n",
    "* [Итоговые выводы и сравнение результатов](#step_4)"
   ]
  },
  {
   "attachments": {},
   "cell_type": "markdown",
   "id": "f0474a81",
   "metadata": {},
   "source": [
    "## Инициализация (общая для всех этапов) <a id=\"step_0\"></a>"
   ]
  },
  {
   "cell_type": "code",
   "execution_count": 1,
   "id": "e41a0654",
   "metadata": {},
   "outputs": [
    {
     "name": "stdout",
     "output_type": "stream",
     "text": [
      "/home/mle-user/.venv/bin/python\n"
     ]
    }
   ],
   "source": [
    "# Убедимся, что работаем в нужном окружении\n",
    "import sys\n",
    "\n",
    "print(sys.executable)"
   ]
  },
  {
   "cell_type": "code",
   "execution_count": 2,
   "id": "19437b6f",
   "metadata": {},
   "outputs": [],
   "source": [
    "# Импортируем необходимые библиотеки\n",
    "\n",
    "import os\n",
    "import gc\n",
    "from dotenv import load_dotenv\n",
    "import boto3\n",
    "from botocore.exceptions import ClientError\n",
    "\n",
    "import numpy as np\n",
    "import pandas as pd\n",
    "pd.options.display.max_columns = 100\n",
    "pd.options.display.max_rows = 64\n",
    "\n",
    "import matplotlib.pyplot as plt\n",
    "import seaborn as sns\n",
    "sns.set_style(\"white\")\n",
    "sns.set_theme(style=\"whitegrid\")\n",
    "\n",
    "import joblib\n",
    "import scipy\n",
    "import sklearn.preprocessing\n",
    "from catboost import CatBoostClassifier, Pool"
   ]
  },
  {
   "cell_type": "code",
   "execution_count": 3,
   "id": "d6609c61",
   "metadata": {},
   "outputs": [],
   "source": [
    "# Отключаем предупреждения\n",
    "import warnings\n",
    "from pandas.errors import SettingWithCopyWarning\n",
    "\n",
    "warnings.simplefilter(action='ignore', category=(SettingWithCopyWarning, FutureWarning))"
   ]
  },
  {
   "cell_type": "code",
   "execution_count": 4,
   "id": "0f7dee48",
   "metadata": {},
   "outputs": [],
   "source": [
    "%matplotlib inline\n",
    "%config InlineBackend.figure_format = 'png'\n",
    "%config InlineBackend.figure_format = 'retina'"
   ]
  },
  {
   "cell_type": "code",
   "execution_count": 5,
   "id": "c6655e6a",
   "metadata": {},
   "outputs": [],
   "source": [
    "# Загружаем переменные окружения\n",
    "\n",
    "load_dotenv()\n",
    "\n",
    "os.environ[\"S3_ENDPOINT_URL\"] = \"https://storage.yandexcloud.net\" \n",
    "os.environ[\"S3_BUCKET_NAME\"] = os.getenv(\"S3_BUCKET_NAME\") \n",
    "os.environ[\"AWS_ACCESS_KEY_ID\"] = os.getenv(\"AWS_ACCESS_KEY_ID\") \n",
    "os.environ[\"AWS_SECRET_ACCESS_KEY\"] = os.getenv(\"AWS_SECRET_ACCESS_KEY\")"
   ]
  },
  {
   "cell_type": "code",
   "execution_count": 6,
   "id": "d2b3dc6e",
   "metadata": {},
   "outputs": [],
   "source": [
    "# Создаем соединение с S3-хранилищем\n",
    "\n",
    "session = boto3.session.Session()\n",
    "s3_client = session.client(\n",
    "    service_name='s3',\n",
    "    endpoint_url=os.environ.get('S3_ENDPOINT_URL'),\n",
    "    aws_access_key_id=os.environ.get('AWS_ACCESS_KEY_ID'),\n",
    "    aws_secret_access_key=os.environ.get('AWS_SECRET_ACCESS_KEY')\n",
    ")"
   ]
  },
  {
   "attachments": {},
   "cell_type": "markdown",
   "id": "7c550a71",
   "metadata": {},
   "source": [
    "## Этап 1. Первичная подготовка данных <a id=\"step_1\"></a>\n",
    "\n",
    "### Постановка задачи\n",
    "\n",
    "Прочитайте файлы с данными, проведите оценку данных на наличие проблем:\n",
    "- Нужно ли изменить тип идентификаторов?\n",
    "- Есть ли треки с неизвестными исполнителями, альбомами, жанрами?\n",
    "\n",
    "При необходимости решите найденные проблемы.\n",
    "\n",
    "\n",
    "### Описание исходных данных\n",
    "\n",
    "Данные находятся в трёх файлах:\n",
    "\n",
    "1. Данные о треках — в файле `tracks.parquet`:\n",
    "    - `track_id` — идентификатор музыкального трека,\n",
    "    - `albums` — список идентификаторов альбомов, содержащих трек,\n",
    "    - `artists` — список идентификаторов исполнителей трека,\n",
    "    - `genres` — список идентификаторов жанров, к которым принадлежит трек.\n",
    "\n",
    "2. Имена артистов, названия альбомов, треков и жанров — в файле `catalog_names.parquet`:\n",
    "    - `id` — идентификатор одной из каталожных единиц (трека, альбома, исполнителя, жанра),\n",
    "    - `type` — тип идентификатора,\n",
    "    - `name` — имя (название) каталожной единицы.\n",
    "\n",
    "3. Данные о том, какие пользователи прослушали тот или иной трек — в файле `interactions.parquet`:\n",
    "    - `user_id` — идентификатор пользователя,\n",
    "    - `track_id` — идентификатор музыкального трека,\n",
    "    - `track_seq` — номер места трека в истории пользователя,\n",
    "    - `started_at` — дата начала прослушивания трека."
   ]
  },
  {
   "attachments": {},
   "cell_type": "markdown",
   "id": "b337b175-a36a-48a6-9d8d-68c0a9acd80f",
   "metadata": {},
   "source": [
    "### Загрузка данных"
   ]
  },
  {
   "cell_type": "code",
   "execution_count": 6,
   "id": "52179c3f",
   "metadata": {},
   "outputs": [
    {
     "name": "stdout",
     "output_type": "stream",
     "text": [
      "Collecting wget\n",
      "  Downloading wget-3.2.zip (10 kB)\n",
      "  Preparing metadata (setup.py) ... \u001b[?25ldone\n",
      "\u001b[?25hUsing legacy 'setup.py install' for wget, since package 'wheel' is not installed.\n",
      "Installing collected packages: wget\n",
      "  Running setup.py install for wget ... \u001b[?25ldone\n",
      "\u001b[?25hSuccessfully installed wget-3.2\n"
     ]
    }
   ],
   "source": [
    "# Устанавливаем утилиту wget, если ее нет\n",
    "!pip install wget"
   ]
  },
  {
   "cell_type": "code",
   "execution_count": 9,
   "id": "821ee5b6",
   "metadata": {},
   "outputs": [
    {
     "name": "stdout",
     "output_type": "stream",
     "text": [
      "100% [....................................................] 18938128 / 18938128\n",
      "Saved under tracks.parquet\n",
      "100% [....................................................] 36146495 / 36146495\n",
      "Saved under catalog_names.parquet\n",
      "100% [................................................] 1208078471 / 1208078471\n",
      "Saved under interactions.parquet\n"
     ]
    }
   ],
   "source": [
    "!python -m wget -o tracks.parquet https://storage.yandexcloud.net/mle-data/ym/tracks.parquet\n",
    "!python -m wget -o catalog_names.parquet https://storage.yandexcloud.net/mle-data/ym/catalog_names.parquet\n",
    "!python -m wget -o interactions.parquet https://storage.yandexcloud.net/mle-data/ym/interactions.parquet"
   ]
  },
  {
   "attachments": {},
   "cell_type": "markdown",
   "id": "7e56f1d7",
   "metadata": {},
   "source": [
    "### Предобработка данных\n",
    "\n",
    "__Загружаем и проверяем данные из файла `tracks.parquet`__"
   ]
  },
  {
   "cell_type": "code",
   "execution_count": 10,
   "id": "2765664a-bbab-4dee-baae-ad31c251808a",
   "metadata": {},
   "outputs": [
    {
     "data": {
      "text/html": [
       "<div>\n",
       "<style scoped>\n",
       "    .dataframe tbody tr th:only-of-type {\n",
       "        vertical-align: middle;\n",
       "    }\n",
       "\n",
       "    .dataframe tbody tr th {\n",
       "        vertical-align: top;\n",
       "    }\n",
       "\n",
       "    .dataframe thead th {\n",
       "        text-align: right;\n",
       "    }\n",
       "</style>\n",
       "<table border=\"1\" class=\"dataframe\">\n",
       "  <thead>\n",
       "    <tr style=\"text-align: right;\">\n",
       "      <th></th>\n",
       "      <th>track_id</th>\n",
       "      <th>albums</th>\n",
       "      <th>artists</th>\n",
       "      <th>genres</th>\n",
       "    </tr>\n",
       "  </thead>\n",
       "  <tbody>\n",
       "    <tr>\n",
       "      <th>0</th>\n",
       "      <td>26</td>\n",
       "      <td>[3, 2490753]</td>\n",
       "      <td>[16]</td>\n",
       "      <td>[11, 21]</td>\n",
       "    </tr>\n",
       "    <tr>\n",
       "      <th>1</th>\n",
       "      <td>38</td>\n",
       "      <td>[3, 2490753]</td>\n",
       "      <td>[16]</td>\n",
       "      <td>[11, 21]</td>\n",
       "    </tr>\n",
       "    <tr>\n",
       "      <th>2</th>\n",
       "      <td>135</td>\n",
       "      <td>[12, 214, 2490809]</td>\n",
       "      <td>[84]</td>\n",
       "      <td>[11]</td>\n",
       "    </tr>\n",
       "    <tr>\n",
       "      <th>3</th>\n",
       "      <td>136</td>\n",
       "      <td>[12, 214, 2490809]</td>\n",
       "      <td>[84]</td>\n",
       "      <td>[11]</td>\n",
       "    </tr>\n",
       "    <tr>\n",
       "      <th>4</th>\n",
       "      <td>138</td>\n",
       "      <td>[12, 214, 322, 72275, 72292, 91199, 213505, 24...</td>\n",
       "      <td>[84]</td>\n",
       "      <td>[11]</td>\n",
       "    </tr>\n",
       "  </tbody>\n",
       "</table>\n",
       "</div>"
      ],
      "text/plain": [
       "   track_id                                             albums artists  \\\n",
       "0        26                                       [3, 2490753]    [16]   \n",
       "1        38                                       [3, 2490753]    [16]   \n",
       "2       135                                 [12, 214, 2490809]    [84]   \n",
       "3       136                                 [12, 214, 2490809]    [84]   \n",
       "4       138  [12, 214, 322, 72275, 72292, 91199, 213505, 24...    [84]   \n",
       "\n",
       "     genres  \n",
       "0  [11, 21]  \n",
       "1  [11, 21]  \n",
       "2      [11]  \n",
       "3      [11]  \n",
       "4      [11]  "
      ]
     },
     "execution_count": 10,
     "metadata": {},
     "output_type": "execute_result"
    }
   ],
   "source": [
    "tracks = pd.read_parquet(\"tracks.parquet\")\n",
    "tracks.head()"
   ]
  },
  {
   "cell_type": "code",
   "execution_count": 11,
   "id": "b0acfbf0",
   "metadata": {},
   "outputs": [
    {
     "name": "stdout",
     "output_type": "stream",
     "text": [
      "<class 'pandas.core.frame.DataFrame'>\n",
      "RangeIndex: 1000000 entries, 0 to 999999\n",
      "Data columns (total 4 columns):\n",
      " #   Column    Non-Null Count    Dtype \n",
      "---  ------    --------------    ----- \n",
      " 0   track_id  1000000 non-null  int64 \n",
      " 1   albums    1000000 non-null  object\n",
      " 2   artists   1000000 non-null  object\n",
      " 3   genres    1000000 non-null  object\n",
      "dtypes: int64(1), object(3)\n",
      "memory usage: 30.5+ MB\n"
     ]
    }
   ],
   "source": [
    "# Смотрим типы колонок, кол-во строк, объем данных и наличие пропусков\n",
    "tracks.info()"
   ]
  },
  {
   "attachments": {},
   "cell_type": "markdown",
   "id": "2e0f64a1",
   "metadata": {},
   "source": [
    "Пропусков нет, типы корректны. Далее проверим `track_id` на наличие дубликатов и отрицательных значений"
   ]
  },
  {
   "cell_type": "code",
   "execution_count": 12,
   "id": "393981e3",
   "metadata": {},
   "outputs": [
    {
     "name": "stdout",
     "output_type": "stream",
     "text": [
      "Все track_id уникальны: True\n",
      "Кол-во отрицательных track_id: 0\n"
     ]
    }
   ],
   "source": [
    "# Проверяем track_id на наличие дубликатов \n",
    "print(f\"Все track_id уникальны: {tracks['track_id'].nunique() == len(tracks)}\")\n",
    "\n",
    "# Проверяем track_id на наличие отрицательных значений\n",
    "print(f\"Кол-во отрицательных track_id: {(tracks['track_id'] < 0).sum()}\")"
   ]
  },
  {
   "attachments": {},
   "cell_type": "markdown",
   "id": "5b4e2c86",
   "metadata": {},
   "source": [
    "Повторяющихся и отрицательных track_id нет. \n",
    "\n",
    "В колонках `albums`, `artists` и `genres` списки могут быть пустыми либо содержать идентификаторы, указывающие на несуществующие каталожные единицы. Для экономии памяти оставим только те треки, у которых заполнены все четыре категории жанр/артист/альбом/название трека. Сделаем это после скачивания данных о каталогах."
   ]
  },
  {
   "attachments": {},
   "cell_type": "markdown",
   "id": "c114e04b",
   "metadata": {},
   "source": [
    "__Загружаем и проверяем данные из файла `catalog_names.parquet`__"
   ]
  },
  {
   "cell_type": "code",
   "execution_count": 13,
   "id": "4bf6c226",
   "metadata": {},
   "outputs": [
    {
     "data": {
      "text/html": [
       "<div>\n",
       "<style scoped>\n",
       "    .dataframe tbody tr th:only-of-type {\n",
       "        vertical-align: middle;\n",
       "    }\n",
       "\n",
       "    .dataframe tbody tr th {\n",
       "        vertical-align: top;\n",
       "    }\n",
       "\n",
       "    .dataframe thead th {\n",
       "        text-align: right;\n",
       "    }\n",
       "</style>\n",
       "<table border=\"1\" class=\"dataframe\">\n",
       "  <thead>\n",
       "    <tr style=\"text-align: right;\">\n",
       "      <th></th>\n",
       "      <th>id</th>\n",
       "      <th>type</th>\n",
       "      <th>name</th>\n",
       "    </tr>\n",
       "  </thead>\n",
       "  <tbody>\n",
       "    <tr>\n",
       "      <th>0</th>\n",
       "      <td>3</td>\n",
       "      <td>album</td>\n",
       "      <td>Taller Children</td>\n",
       "    </tr>\n",
       "    <tr>\n",
       "      <th>1</th>\n",
       "      <td>12</td>\n",
       "      <td>album</td>\n",
       "      <td>Wild Young Hearts</td>\n",
       "    </tr>\n",
       "    <tr>\n",
       "      <th>2</th>\n",
       "      <td>13</td>\n",
       "      <td>album</td>\n",
       "      <td>Lonesome Crow</td>\n",
       "    </tr>\n",
       "    <tr>\n",
       "      <th>3</th>\n",
       "      <td>17</td>\n",
       "      <td>album</td>\n",
       "      <td>Graffiti Soul</td>\n",
       "    </tr>\n",
       "    <tr>\n",
       "      <th>4</th>\n",
       "      <td>26</td>\n",
       "      <td>album</td>\n",
       "      <td>Blues Six Pack</td>\n",
       "    </tr>\n",
       "  </tbody>\n",
       "</table>\n",
       "</div>"
      ],
      "text/plain": [
       "   id   type               name\n",
       "0   3  album    Taller Children\n",
       "1  12  album  Wild Young Hearts\n",
       "2  13  album      Lonesome Crow\n",
       "3  17  album      Graffiti Soul\n",
       "4  26  album     Blues Six Pack"
      ]
     },
     "execution_count": 13,
     "metadata": {},
     "output_type": "execute_result"
    }
   ],
   "source": [
    "catalog_names = pd.read_parquet(\"catalog_names.parquet\")\n",
    "catalog_names.head()"
   ]
  },
  {
   "cell_type": "code",
   "execution_count": 14,
   "id": "28ffe83f",
   "metadata": {},
   "outputs": [
    {
     "name": "stdout",
     "output_type": "stream",
     "text": [
      "<class 'pandas.core.frame.DataFrame'>\n",
      "RangeIndex: 1812471 entries, 0 to 1812470\n",
      "Data columns (total 3 columns):\n",
      " #   Column  Dtype \n",
      "---  ------  ----- \n",
      " 0   id      int64 \n",
      " 1   type    object\n",
      " 2   name    object\n",
      "dtypes: int64(1), object(2)\n",
      "memory usage: 41.5+ MB\n"
     ]
    }
   ],
   "source": [
    "# Смотрим типы колонок, кол-во строк и объем данных\n",
    "catalog_names.info()"
   ]
  },
  {
   "cell_type": "code",
   "execution_count": 15,
   "id": "ce0b754b",
   "metadata": {},
   "outputs": [
    {
     "data": {
      "text/plain": [
       "id      0\n",
       "type    0\n",
       "name    0\n",
       "dtype: int64"
      ]
     },
     "execution_count": 15,
     "metadata": {},
     "output_type": "execute_result"
    }
   ],
   "source": [
    "# Проверяем наличие пропусков\n",
    "catalog_names.isnull().sum()"
   ]
  },
  {
   "attachments": {},
   "cell_type": "markdown",
   "id": "6244a5ef",
   "metadata": {},
   "source": [
    "Пропусков нет, типы колонок корректны. \n",
    "\n",
    "Сделаем еще несколько проверок"
   ]
  },
  {
   "cell_type": "code",
   "execution_count": 16,
   "id": "c58a5f97",
   "metadata": {},
   "outputs": [
    {
     "name": "stdout",
     "output_type": "stream",
     "text": [
      "Кол-во уникальных id: 1776697, общее кол-во строк: 1812471\n",
      "Кол-во отрицательных id: 0\n",
      "Кол-во повторяющихся строк: 0\n"
     ]
    }
   ],
   "source": [
    "# Проверяем id на наличие повторяющихся значений\n",
    "print(f\"Кол-во уникальных id: {catalog_names['id'].nunique()}, общее кол-во строк: {len(catalog_names)}\")\n",
    "\n",
    "# Проверяем id на наличие отрицательных значений\n",
    "print(f\"Кол-во отрицательных id: {(catalog_names['id'] < 0).sum()}\")\n",
    "\n",
    "# Проверяем наличие повторяющихся строк\n",
    "duplicated_rows_condition = catalog_names.duplicated(catalog_names.columns, keep=False)\n",
    "print(f\"Кол-во повторяющихся строк: {duplicated_rows_condition.sum()}\")"
   ]
  },
  {
   "attachments": {},
   "cell_type": "markdown",
   "id": "4d7d1e8f",
   "metadata": {},
   "source": [
    "Отрицательных id и повторяющихся строк нет, но есть одинаковые идентификаторы. \n",
    "Поскольку таких значений много, то вряд ли это связано со случайными ошибками.\n",
    "Скорее всего, внутри каждого типа есть своя идентификация. Убедимся в этом"
   ]
  },
  {
   "cell_type": "code",
   "execution_count": 17,
   "id": "8c26bba0",
   "metadata": {},
   "outputs": [
    {
     "data": {
      "text/plain": [
       "array(['album', 'artist', 'genre', 'track'], dtype=object)"
      ]
     },
     "execution_count": 17,
     "metadata": {},
     "output_type": "execute_result"
    }
   ],
   "source": [
    "# Смотрим, какие есть каталожные типы\n",
    "catalog_names['type'].unique()"
   ]
  },
  {
   "cell_type": "code",
   "execution_count": 18,
   "id": "8a27ddf4",
   "metadata": {},
   "outputs": [
    {
     "name": "stdout",
     "output_type": "stream",
     "text": [
      "Среди id альбомов нет повторяющихся значений: True\n",
      "Среди id артистов нет повторяющихся значений: True\n",
      "Среди id жанров нет повторяющихся значений: True\n",
      "Среди id названий треков нет повторяющихся значений: True\n"
     ]
    }
   ],
   "source": [
    "# Проверяем наличие повторяющихся id внутри типа album\n",
    "cat_albums = catalog_names.query(\"type == 'album'\")\n",
    "print(f\"Среди id альбомов нет повторяющихся значений: {cat_albums['id'].nunique() == len(cat_albums)}\")\n",
    "\n",
    "# Проверяем наличие повторяющихся id внутри типа artist\n",
    "cat_artists = catalog_names.query(\"type == 'artist'\")\n",
    "print(f\"Среди id артистов нет повторяющихся значений: {cat_artists['id'].nunique() == len(cat_artists)}\")\n",
    "\n",
    "# Проверяем наличие повторяющихся id внутри типа genre\n",
    "cat_genres = catalog_names.query(\"type == 'genre'\")\n",
    "print(f\"Среди id жанров нет повторяющихся значений: {cat_genres['id'].nunique() == len(cat_genres)}\")\n",
    "\n",
    "# Проверяем наличие повторяющихся id внутри типа track\n",
    "cat_tracks = catalog_names.query(\"type == 'track'\")\n",
    "print(f\"Среди id названий треков нет повторяющихся значений: {cat_tracks['id'].nunique() == len(cat_tracks)}\")"
   ]
  },
  {
   "attachments": {},
   "cell_type": "markdown",
   "id": "c416db17",
   "metadata": {},
   "source": [
    "Кол-во уникальных id внутри каждого типа равно общему кол-ву соответствующих каталожных единиц, значит повторяющихся id среди элементов одного типа действительно нет.\n",
    "\n",
    "Далее вставим в таблицу треков названия соответствующих каталожных единиц вместо их идентификаторов"
   ]
  },
  {
   "cell_type": "code",
   "execution_count": 19,
   "id": "3db7b6e5",
   "metadata": {},
   "outputs": [],
   "source": [
    "# Разворачиваем tracks по каталожным ids и переименовываем колонки\n",
    "tracks_exploded = tracks.explode('albums', ignore_index=True) \\\n",
    "    .explode('artists', ignore_index=True) \\\n",
    "        .explode('genres', ignore_index=True) \\\n",
    "            .rename(columns={'albums':'album_id', 'artists': 'artist_id', 'genres': 'genre_id'})"
   ]
  },
  {
   "cell_type": "code",
   "execution_count": 20,
   "id": "088abafc",
   "metadata": {},
   "outputs": [],
   "source": [
    "# Оставляем только треки, у которых заполнены все 3 категории артист/жанр/альбом\n",
    "id_columns = ['album_id', 'artist_id', 'genre_id']\n",
    "tracks_exploded = tracks_exploded[~tracks_exploded[id_columns].isnull().any(axis=1)]"
   ]
  },
  {
   "cell_type": "code",
   "execution_count": 21,
   "id": "c53f7c90",
   "metadata": {},
   "outputs": [
    {
     "data": {
      "text/plain": [
       "980977"
      ]
     },
     "execution_count": 21,
     "metadata": {},
     "output_type": "execute_result"
    }
   ],
   "source": [
    "# Посмотрим, сколько осталось уникальных треков из 1 млн\n",
    "tracks_exploded['track_id'].nunique()"
   ]
  },
  {
   "cell_type": "code",
   "execution_count": 22,
   "id": "ac51d4c1",
   "metadata": {},
   "outputs": [],
   "source": [
    "# Меняем тип идентификаторов с object на int\n",
    "tracks_exploded[['album_id', 'artist_id', 'genre_id']] = \\\n",
    "    tracks_exploded[['album_id', 'artist_id', 'genre_id']].astype('int')"
   ]
  },
  {
   "cell_type": "code",
   "execution_count": 23,
   "id": "af356f6b",
   "metadata": {},
   "outputs": [],
   "source": [
    "# Вставляем в tracks_exploded имена альбомов\n",
    "tracks_exploded = tracks_exploded \\\n",
    "    .merge(cat_albums[['id', 'name']], how='left', left_on='album_id', right_on='id') \\\n",
    "        .rename(columns={'name': 'album_name'}).drop(columns='id')"
   ]
  },
  {
   "cell_type": "code",
   "execution_count": 24,
   "id": "f2001280",
   "metadata": {},
   "outputs": [],
   "source": [
    "# Вставляем в tracks_exploded имена артистов\n",
    "tracks_exploded = tracks_exploded \\\n",
    "    .merge(cat_artists[['id', 'name']], how='left', left_on='artist_id', right_on='id') \\\n",
    "        .rename(columns={'name': 'artist_name'}).drop(columns='id')"
   ]
  },
  {
   "cell_type": "code",
   "execution_count": 25,
   "id": "403c8581",
   "metadata": {},
   "outputs": [],
   "source": [
    "# Вставляем в tracks_exploded названия жанров\n",
    "tracks_exploded = tracks_exploded\\\n",
    "    .merge(cat_genres[['id', 'name']], how='left', left_on='genre_id', right_on='id')\\\n",
    "        .rename(columns={'name': 'genre_name'}).drop(columns='id')"
   ]
  },
  {
   "attachments": {},
   "cell_type": "markdown",
   "id": "187b553e",
   "metadata": {},
   "source": [
    "Сворачиваем полученный `tracks_exploded` по названиям альбомов/артистов/жанров и добавляем названия треков"
   ]
  },
  {
   "cell_type": "code",
   "execution_count": 26,
   "id": "d01b141e",
   "metadata": {},
   "outputs": [],
   "source": [
    "# Удаляем колонки с id каталогов\n",
    "tracks_exploded.drop(columns=['artist_id', 'genre_id', 'album_id'], inplace=True)"
   ]
  },
  {
   "cell_type": "code",
   "execution_count": 27,
   "id": "450eb676",
   "metadata": {},
   "outputs": [],
   "source": [
    "# Сворачиваем названия каталогов в списки\n",
    "tracks = tracks_exploded.groupby('track_id') \\\n",
    "    .agg({'album_name': lambda x: x.tolist(), 'artist_name': lambda x: x.tolist(), 'genre_name': lambda x: x.tolist()}) \\\n",
    "        .rename({'album_name': 'albums', 'artist_name': 'artists', 'genre_name': 'genres'}, axis=1) \\\n",
    "            .reset_index()"
   ]
  },
  {
   "cell_type": "code",
   "execution_count": 28,
   "id": "c987973d",
   "metadata": {},
   "outputs": [],
   "source": [
    "# Удаляем повторяющиеся названия в списках каталогов\n",
    "tracks['albums'] = tracks['albums'].apply(lambda x: list(set(x)))\n",
    "tracks['artists'] = tracks['artists'].apply(lambda x: list(set(x)))\n",
    "tracks['genres'] = tracks['genres'].apply(lambda x: list(set(x)))"
   ]
  },
  {
   "cell_type": "code",
   "execution_count": 29,
   "id": "01e61f3d",
   "metadata": {},
   "outputs": [],
   "source": [
    "# Вставляем названия треков\n",
    "tracks = tracks \\\n",
    "    .merge(cat_tracks[['id', 'name']], how='left', left_on='track_id', right_on='id') \\\n",
    "        .drop(columns='id')"
   ]
  },
  {
   "attachments": {},
   "cell_type": "markdown",
   "id": "8be4da88",
   "metadata": {},
   "source": [
    "Проверим, есть ли треки без названий"
   ]
  },
  {
   "cell_type": "code",
   "execution_count": 30,
   "id": "1efe7661",
   "metadata": {},
   "outputs": [
    {
     "name": "stdout",
     "output_type": "stream",
     "text": [
      "Кол-во треков без названий: 0\n"
     ]
    }
   ],
   "source": [
    "print(f\"Кол-во треков без названий: {tracks['name'].isnull().sum()}\")"
   ]
  },
  {
   "cell_type": "code",
   "execution_count": 31,
   "id": "65dfe63a",
   "metadata": {},
   "outputs": [
    {
     "data": {
      "text/html": [
       "<div>\n",
       "<style scoped>\n",
       "    .dataframe tbody tr th:only-of-type {\n",
       "        vertical-align: middle;\n",
       "    }\n",
       "\n",
       "    .dataframe tbody tr th {\n",
       "        vertical-align: top;\n",
       "    }\n",
       "\n",
       "    .dataframe thead th {\n",
       "        text-align: right;\n",
       "    }\n",
       "</style>\n",
       "<table border=\"1\" class=\"dataframe\">\n",
       "  <thead>\n",
       "    <tr style=\"text-align: right;\">\n",
       "      <th></th>\n",
       "      <th>track_id</th>\n",
       "      <th>albums</th>\n",
       "      <th>artists</th>\n",
       "      <th>genres</th>\n",
       "      <th>name</th>\n",
       "    </tr>\n",
       "  </thead>\n",
       "  <tbody>\n",
       "    <tr>\n",
       "      <th>0</th>\n",
       "      <td>26</td>\n",
       "      <td>[Taller Children]</td>\n",
       "      <td>[Elizabeth &amp; the Catapult]</td>\n",
       "      <td>[folk, pop]</td>\n",
       "      <td>Complimentary Me</td>\n",
       "    </tr>\n",
       "    <tr>\n",
       "      <th>1</th>\n",
       "      <td>38</td>\n",
       "      <td>[Taller Children]</td>\n",
       "      <td>[Elizabeth &amp; the Catapult]</td>\n",
       "      <td>[folk, pop]</td>\n",
       "      <td>Momma's Boy</td>\n",
       "    </tr>\n",
       "    <tr>\n",
       "      <th>2</th>\n",
       "      <td>135</td>\n",
       "      <td>[Wild Young Hearts]</td>\n",
       "      <td>[Noisettes]</td>\n",
       "      <td>[pop]</td>\n",
       "      <td>Atticus</td>\n",
       "    </tr>\n",
       "    <tr>\n",
       "      <th>3</th>\n",
       "      <td>136</td>\n",
       "      <td>[Wild Young Hearts]</td>\n",
       "      <td>[Noisettes]</td>\n",
       "      <td>[pop]</td>\n",
       "      <td>24 Hours</td>\n",
       "    </tr>\n",
       "    <tr>\n",
       "      <th>4</th>\n",
       "      <td>138</td>\n",
       "      <td>[I Am On Holiday, Don't Upset The Rhythm, Club...</td>\n",
       "      <td>[Noisettes]</td>\n",
       "      <td>[pop]</td>\n",
       "      <td>Don't Upset The Rhythm (Go Baby Go)</td>\n",
       "    </tr>\n",
       "  </tbody>\n",
       "</table>\n",
       "</div>"
      ],
      "text/plain": [
       "   track_id                                             albums  \\\n",
       "0        26                                  [Taller Children]   \n",
       "1        38                                  [Taller Children]   \n",
       "2       135                                [Wild Young Hearts]   \n",
       "3       136                                [Wild Young Hearts]   \n",
       "4       138  [I Am On Holiday, Don't Upset The Rhythm, Club...   \n",
       "\n",
       "                      artists       genres  \\\n",
       "0  [Elizabeth & the Catapult]  [folk, pop]   \n",
       "1  [Elizabeth & the Catapult]  [folk, pop]   \n",
       "2                 [Noisettes]        [pop]   \n",
       "3                 [Noisettes]        [pop]   \n",
       "4                 [Noisettes]        [pop]   \n",
       "\n",
       "                                  name  \n",
       "0                     Complimentary Me  \n",
       "1                          Momma's Boy  \n",
       "2                              Atticus  \n",
       "3                             24 Hours  \n",
       "4  Don't Upset The Rhythm (Go Baby Go)  "
      ]
     },
     "execution_count": 31,
     "metadata": {},
     "output_type": "execute_result"
    }
   ],
   "source": [
    "# Смотрим, что получилось\n",
    "tracks.head()"
   ]
  },
  {
   "attachments": {},
   "cell_type": "markdown",
   "id": "59fc7e18",
   "metadata": {},
   "source": [
    "__Загружаем и проверяем данные из файла `interactions.parquet`__"
   ]
  },
  {
   "cell_type": "code",
   "execution_count": 32,
   "id": "8974e018",
   "metadata": {},
   "outputs": [
    {
     "data": {
      "text/html": [
       "<div>\n",
       "<style scoped>\n",
       "    .dataframe tbody tr th:only-of-type {\n",
       "        vertical-align: middle;\n",
       "    }\n",
       "\n",
       "    .dataframe tbody tr th {\n",
       "        vertical-align: top;\n",
       "    }\n",
       "\n",
       "    .dataframe thead th {\n",
       "        text-align: right;\n",
       "    }\n",
       "</style>\n",
       "<table border=\"1\" class=\"dataframe\">\n",
       "  <thead>\n",
       "    <tr style=\"text-align: right;\">\n",
       "      <th></th>\n",
       "      <th>user_id</th>\n",
       "      <th>track_id</th>\n",
       "      <th>track_seq</th>\n",
       "      <th>started_at</th>\n",
       "    </tr>\n",
       "  </thead>\n",
       "  <tbody>\n",
       "    <tr>\n",
       "      <th>0</th>\n",
       "      <td>0</td>\n",
       "      <td>99262</td>\n",
       "      <td>1</td>\n",
       "      <td>2022-07-17</td>\n",
       "    </tr>\n",
       "    <tr>\n",
       "      <th>1</th>\n",
       "      <td>0</td>\n",
       "      <td>589498</td>\n",
       "      <td>2</td>\n",
       "      <td>2022-07-19</td>\n",
       "    </tr>\n",
       "    <tr>\n",
       "      <th>2</th>\n",
       "      <td>0</td>\n",
       "      <td>590262</td>\n",
       "      <td>3</td>\n",
       "      <td>2022-07-21</td>\n",
       "    </tr>\n",
       "    <tr>\n",
       "      <th>3</th>\n",
       "      <td>0</td>\n",
       "      <td>590303</td>\n",
       "      <td>4</td>\n",
       "      <td>2022-07-22</td>\n",
       "    </tr>\n",
       "    <tr>\n",
       "      <th>4</th>\n",
       "      <td>0</td>\n",
       "      <td>590692</td>\n",
       "      <td>5</td>\n",
       "      <td>2022-07-22</td>\n",
       "    </tr>\n",
       "  </tbody>\n",
       "</table>\n",
       "</div>"
      ],
      "text/plain": [
       "   user_id  track_id  track_seq started_at\n",
       "0        0     99262          1 2022-07-17\n",
       "1        0    589498          2 2022-07-19\n",
       "2        0    590262          3 2022-07-21\n",
       "3        0    590303          4 2022-07-22\n",
       "4        0    590692          5 2022-07-22"
      ]
     },
     "execution_count": 32,
     "metadata": {},
     "output_type": "execute_result"
    }
   ],
   "source": [
    "interactions = pd.read_parquet(\"interactions.parquet\")\n",
    "interactions.head()"
   ]
  },
  {
   "cell_type": "code",
   "execution_count": 33,
   "id": "edc94bb6-feda-4ee7-95fb-cece33c79fc9",
   "metadata": {},
   "outputs": [
    {
     "name": "stdout",
     "output_type": "stream",
     "text": [
      "<class 'pandas.core.frame.DataFrame'>\n",
      "Index: 222629898 entries, 0 to 291\n",
      "Data columns (total 4 columns):\n",
      " #   Column      Dtype         \n",
      "---  ------      -----         \n",
      " 0   user_id     int32         \n",
      " 1   track_id    int32         \n",
      " 2   track_seq   int16         \n",
      " 3   started_at  datetime64[ns]\n",
      "dtypes: datetime64[ns](1), int16(1), int32(2)\n",
      "memory usage: 5.4 GB\n"
     ]
    }
   ],
   "source": [
    "# Смотрим типы колонок, кол-во строк и объем данных\n",
    "interactions.info()"
   ]
  },
  {
   "cell_type": "code",
   "execution_count": 34,
   "id": "badf1976",
   "metadata": {},
   "outputs": [
    {
     "data": {
      "text/plain": [
       "user_id       0\n",
       "track_id      0\n",
       "track_seq     0\n",
       "started_at    0\n",
       "dtype: int64"
      ]
     },
     "execution_count": 34,
     "metadata": {},
     "output_type": "execute_result"
    }
   ],
   "source": [
    "# Проверяем наличие пустых значений\n",
    "interactions.isnull().sum()"
   ]
  },
  {
   "attachments": {},
   "cell_type": "markdown",
   "id": "2dc0537d",
   "metadata": {},
   "source": [
    "Пропусков нет, тип int32 у идентификаторов оставим без изменений для экономии памяти. Сделаем такой же тип и в `tracks`, но сначала убедимся, что значения `track_id` в `tracks` не превышают максимума для этого типа"
   ]
  },
  {
   "cell_type": "code",
   "execution_count": 35,
   "id": "33433c3b",
   "metadata": {},
   "outputs": [
    {
     "name": "stdout",
     "output_type": "stream",
     "text": [
      "Максимальное значение track_id: 101521819\n",
      "Максимальное значение для int32: 4294967295\n"
     ]
    }
   ],
   "source": [
    "print(f\"Максимальное значение track_id: {tracks['track_id'].max()}\")\n",
    "print(f\"Максимальное значение для int32: {2**32 - 1}\")"
   ]
  },
  {
   "attachments": {},
   "cell_type": "markdown",
   "id": "4d6e814c",
   "metadata": {},
   "source": [
    "Таким образом, приведение к int32 допустимо"
   ]
  },
  {
   "cell_type": "code",
   "execution_count": 22,
   "id": "3a157629",
   "metadata": {},
   "outputs": [],
   "source": [
    "# Приводим track_id к int32 для экономии памяти\n",
    "tracks['track_id'] = tracks['track_id'].astype('int32')"
   ]
  },
  {
   "attachments": {},
   "cell_type": "markdown",
   "id": "0fa109b0",
   "metadata": {},
   "source": [
    "Далее проверим корректность значений `user_id`, `track_id` и `track_seq`"
   ]
  },
  {
   "cell_type": "code",
   "execution_count": 51,
   "id": "87afd8ee",
   "metadata": {},
   "outputs": [
    {
     "name": "stdout",
     "output_type": "stream",
     "text": [
      "Кол-во отрицательных user_id: 0\n",
      "Кол-во отрицательных track_id: 0\n",
      "Кол-во неположительных track_seq: 0\n"
     ]
    }
   ],
   "source": [
    "# Проверяем user_id на наличие отрицательных значений\n",
    "print(f\"Кол-во отрицательных user_id: {(interactions['user_id'] < 0).sum()}\")\n",
    "\n",
    "# Проверяем track_id на наличие отрицательных значений\n",
    "print(f\"Кол-во отрицательных track_id: {(interactions['track_id'] < 0).sum()}\")\n",
    "\n",
    "# Проверяем track_seq на наличие отрицательных и нулевых значений \n",
    "# (track_seq не могут быть нулевыми по смыслу)\n",
    "print(f\"Кол-во неположительных track_seq: {(interactions['track_seq'] <= 0).sum()}\")"
   ]
  },
  {
   "attachments": {},
   "cell_type": "markdown",
   "id": "f1f35da9",
   "metadata": {},
   "source": [
    "Оставим в `interactions` прослушивания только тех треков, которые есть в `tracks`"
   ]
  },
  {
   "cell_type": "code",
   "execution_count": 36,
   "id": "6713c98d",
   "metadata": {},
   "outputs": [
    {
     "data": {
      "text/plain": [
       "222184449"
      ]
     },
     "execution_count": 36,
     "metadata": {},
     "output_type": "execute_result"
    }
   ],
   "source": [
    "# Фильтруем треки в таблице взаимодействий\n",
    "interactions = interactions[interactions['track_id'].isin(tracks['track_id'])]\n",
    "\n",
    "# Смотрим, сколько осталось событий после удаления\n",
    "len(interactions)"
   ]
  },
  {
   "attachments": {},
   "cell_type": "markdown",
   "id": "c05f8aef",
   "metadata": {},
   "source": [
    "Событий все еще слишком много. Для экономии ресурсов сократим размер датасета с 5.4G до 1.5-2G, \n",
    "т.е. примерно в 3 раза. Для этого удалим из истории каждого пользователя около 2/3 треков,\n",
    "оставив только треки на позициях 1,4,7 итд."
   ]
  },
  {
   "cell_type": "code",
   "execution_count": 37,
   "id": "f73501db",
   "metadata": {},
   "outputs": [],
   "source": [
    "# Оставляем в истории всех пользователей только каждый 3-й трек, начиная с 1-го\n",
    "interactions = interactions[(interactions['track_seq'] + 2) % 3 == 0]"
   ]
  },
  {
   "attachments": {},
   "cell_type": "markdown",
   "id": "6f567869",
   "metadata": {},
   "source": [
    "Посмотрим, объем памяти и кол-во строк в `interactions` после всех удалений"
   ]
  },
  {
   "cell_type": "code",
   "execution_count": 38,
   "id": "601b5e0e",
   "metadata": {},
   "outputs": [
    {
     "name": "stdout",
     "output_type": "stream",
     "text": [
      "<class 'pandas.core.frame.DataFrame'>\n",
      "Index: 74514648 entries, 0 to 291\n",
      "Data columns (total 4 columns):\n",
      " #   Column      Dtype         \n",
      "---  ------      -----         \n",
      " 0   user_id     int32         \n",
      " 1   track_id    int32         \n",
      " 2   track_seq   int16         \n",
      " 3   started_at  datetime64[ns]\n",
      "dtypes: datetime64[ns](1), int16(1), int32(2)\n",
      "memory usage: 1.8 GB\n"
     ]
    }
   ],
   "source": [
    "interactions.info()"
   ]
  },
  {
   "attachments": {},
   "cell_type": "markdown",
   "id": "b8426cc9",
   "metadata": {},
   "source": [
    "Теперь колонку `track_seq` можно удалить, т.к. она по сути дублирует `started_at` и является лишней"
   ]
  },
  {
   "cell_type": "code",
   "execution_count": 39,
   "id": "23b7ff3c",
   "metadata": {},
   "outputs": [],
   "source": [
    "# Удаляем колонку track_seq для экономии памяти\n",
    "interactions.drop(columns='track_seq', inplace=True)"
   ]
  },
  {
   "attachments": {},
   "cell_type": "markdown",
   "id": "7db8bb7b",
   "metadata": {},
   "source": [
    "Проверим, есть ли в `interactions` повторяющиеся пары пользователь/трек"
   ]
  },
  {
   "cell_type": "code",
   "execution_count": 27,
   "id": "cc220be3",
   "metadata": {},
   "outputs": [
    {
     "name": "stdout",
     "output_type": "stream",
     "text": [
      "Кол-во повторяющихся пар (user_id, track_id): 0\n"
     ]
    }
   ],
   "source": [
    "duplicates_condition = interactions.duplicated(['user_id', 'track_id'], keep=False)\n",
    "print(f\"Кол-во повторяющихся пар user_id, track_id: {duplicates_condition.sum()}\")"
   ]
  },
  {
   "attachments": {},
   "cell_type": "markdown",
   "id": "75699356",
   "metadata": {},
   "source": [
    "В конце переименуем таблицы `tracks`, `interactions`, колонку `track_id` и сохраним обновленные таблицы в двух новых файлах"
   ]
  },
  {
   "cell_type": "code",
   "execution_count": 41,
   "id": "e5aabc4f",
   "metadata": {},
   "outputs": [],
   "source": [
    "# Переименовываем колонки\n",
    "tracks.rename(columns={'track_id': 'item_id'}, inplace=True)\n",
    "interactions.rename(columns={'track_id': 'item_id'}, inplace=True)"
   ]
  },
  {
   "cell_type": "code",
   "execution_count": 42,
   "id": "174ff67f",
   "metadata": {},
   "outputs": [],
   "source": [
    "# Переименовываем таблицы\n",
    "items = tracks\n",
    "events = interactions"
   ]
  },
  {
   "cell_type": "code",
   "execution_count": 13,
   "id": "49e9af2b",
   "metadata": {},
   "outputs": [],
   "source": [
    "# Сохраняем треки и события в 2-х новых файлах\n",
    "items.to_parquet(\"items.parquet\")\n",
    "events.to_parquet(\"events.parquet\")"
   ]
  },
  {
   "attachments": {},
   "cell_type": "markdown",
   "id": "e9f60ad8",
   "metadata": {},
   "source": [
    "Очищаем память "
   ]
  },
  {
   "cell_type": "code",
   "execution_count": 43,
   "id": "581b211c",
   "metadata": {},
   "outputs": [],
   "source": [
    "# Удаляем из памяти уже ненужные данные\n",
    "del catalog_names\n",
    "\n",
    "# Принудительное вызываем сборщик мусора для освобождения памяти\n",
    "gc.collect()"
   ]
  },
  {
   "attachments": {},
   "cell_type": "markdown",
   "id": "6d9e4525",
   "metadata": {},
   "source": [
    "Удаляем исходные файлы"
   ]
  },
  {
   "cell_type": "code",
   "execution_count": 7,
   "id": "92f4c87d",
   "metadata": {},
   "outputs": [
    {
     "name": "stdout",
     "output_type": "stream",
     "text": [
      "File tracks.parquet removed successfully\n",
      "File catalog_names.parquet removed successfully\n",
      "File interactions.parquet removed successfully\n"
     ]
    }
   ],
   "source": [
    "file_name = \"tracks.parquet\"\n",
    "if os.path.isfile(file_name):\n",
    "    os.remove(file_name)\n",
    "    print(\"File %s removed successfully\" % file_name)\n",
    "else:\n",
    "    print(\"Error: file %s not found\" % file_name)\n",
    "\n",
    "file_name = \"catalog_names.parquet\"\n",
    "if os.path.isfile(file_name):\n",
    "    os.remove(file_name)\n",
    "    print(\"File %s removed successfully\" % file_name)\n",
    "else:\n",
    "    print(\"Error: file %s not found\" % file_name)\n",
    "\n",
    "file_name = \"interactions.parquet\"\n",
    "if os.path.isfile(file_name):\n",
    "    os.remove(file_name)\n",
    "    print(\"File %s removed successfully\" % file_name)\n",
    "else:\n",
    "    print(\"Error: file %s not found\" % file_name)"
   ]
  },
  {
   "attachments": {},
   "cell_type": "markdown",
   "id": "4d1bf852",
   "metadata": {},
   "source": [
    "### Выводы по 1-му этапу\n",
    "\n",
    "- Проверили исходные данные на наличие пропусков, дубликатов, некорректных типов, \n",
    "значений и связей между таблицами. Для экономии ресурсов оставили только треки, \n",
    "где были заполнены все четыре категории жанр/артист/альбом/название трека. \n",
    "Из истории прослушиваний убрали строки, соответствующие удаленным трекам;\n",
    "- По той же причине сократили датасет событий примерно в 3 раза с 5.4G до 1.5-2G, \n",
    "для этого у всех пользователей удалили около 2/3 прослушиваний \n",
    "(в истории каждого пользователя оставили только треки на позициях 1,4,7 итд), \n",
    "после чего удалили колонку `track_seq`;\n",
    "- Также для экономии памяти оставили тип int32 у идентификаторов пользователей и треков в таблице `interactions`,\n",
    "соответствующую колонку в таблице `tracks` привели к тому же типу;\n",
    "- Предобработанные данные о треках и прослушиваниях сохранены в файлах `items.parquet` и `events.parquet`."
   ]
  },
  {
   "attachments": {},
   "cell_type": "markdown",
   "id": "c4050b3d-c198-43be-a989-e99204b1725b",
   "metadata": {},
   "source": [
    "## Этап 2. Анализ данных (EDA) <a id=\"step_2\"></a>\n",
    "\n",
    "### Постановка задачи\n",
    "\n",
    "Проведите EDA данных, чтобы получить представление о следущих параметрах:\n",
    "- распределение количества прослушанных треков,\n",
    "- наиболее популярные треки,\n",
    "- наиболее популярные жанры,\n",
    "- треки, которые никто не прослушал.\n",
    "\n",
    "Сохраните данные в двух файлах в персональном S3-бакете по пути `recsys/data/`:\n",
    "- `items.parquet` — все данные о музыкальных треках,\n",
    "- `events.parquet` — все данные о взаимодействиях."
   ]
  },
  {
   "attachments": {},
   "cell_type": "markdown",
   "id": "0b62d565",
   "metadata": {},
   "source": [
    "Чтобы избежать проблем с памятью, __перезапускаем ядро__, выполняем ячейки в разделе `Инициализация` и загружаем данные"
   ]
  },
  {
   "cell_type": "code",
   "execution_count": 5,
   "id": "8e9bbc85",
   "metadata": {},
   "outputs": [],
   "source": [
    "items = pd.read_parquet(\"items.parquet\")\n",
    "events = pd.read_parquet(\"events.parquet\")"
   ]
  },
  {
   "attachments": {},
   "cell_type": "markdown",
   "id": "31195f60-57e2-48f6-9f2d-6c485a79b75a",
   "metadata": {},
   "source": [
    "Посмотрим распределение кол-ва прослушиваний треков и уникальных пользователей по месяцам."
   ]
  },
  {
   "cell_type": "code",
   "execution_count": 8,
   "id": "a64f6bb4-ddf9-4573-a78f-a8616d32c89b",
   "metadata": {},
   "outputs": [],
   "source": [
    "from pandas.tseries.offsets import MonthEnd\n",
    "\n",
    "# Добавляем колонку с начальными датами для каждого месяца\n",
    "events[\"started_at_month\"] = events[\"started_at\"].dt.to_period('M').dt.to_timestamp().dt.date"
   ]
  },
  {
   "cell_type": "code",
   "execution_count": 9,
   "id": "7d24e57d-0d39-4691-bdc2-c7f152bbb86d",
   "metadata": {},
   "outputs": [],
   "source": [
    "# Группируем события по месяцам\n",
    "events_by_month = events.groupby(\"started_at_month\")\\\n",
    "    .agg(events=(\"started_at\", \"count\"), users=(\"user_id\", \"nunique\"))\\\n",
    "        .reset_index()"
   ]
  },
  {
   "cell_type": "code",
   "execution_count": 10,
   "id": "b0523dde-3788-426a-ae32-08d557d65124",
   "metadata": {},
   "outputs": [
    {
     "data": {
      "image/png": "[encoded data removed]",
      "text/plain": [
       "<Figure size 1200x600 with 2 Axes>"
      ]
     },
     "metadata": {
      "image/png": {
       "height": 582,
       "width": 1184
      }
     },
     "output_type": "display_data"
    }
   ],
   "source": [
    "# Визуализируем распределение кол-ва взаимодействий и уникальных пользователей по месяцам\n",
    "\n",
    "fig, axs = plt.subplots(2, 1, figsize=(12, 6))\n",
    "\n",
    "ax = axs[0]\n",
    "ax.plot(events_by_month[\"started_at_month\"], events_by_month[\"events\"])\n",
    "ax.set_title(\"#events by months\")\n",
    "\n",
    "ax = axs[1]\n",
    "ax.plot(events_by_month[\"started_at_month\"], events_by_month[\"users\"])\n",
    "ax.set_title(\"#unique users by months\")\n",
    "\n",
    "fig.tight_layout()"
   ]
  },
  {
   "attachments": {},
   "cell_type": "markdown",
   "id": "21d40e9e",
   "metadata": {},
   "source": [
    "Видим, что история взаимодействий охватывает только 2022 г. Количество прослушиваний и уникальных пользователей постепенно росли вплоть до ноября, после чего начали немного снижаться. Возможно, сервис был запущен в самом начале 2022 г., его пик популярности пришелся на ноябрь и затем начал спадать. Такое изменение в распределении данных может привести к ухудшению метрик качества рекомендаций при валидации.\n",
    "\n",
    "Посмотрим на рапределение количества прослушиваний"
   ]
  },
  {
   "cell_type": "code",
   "execution_count": null,
   "id": "97ca4185",
   "metadata": {},
   "outputs": [],
   "source": [
    "# Агрегируем треки\n",
    "agg_items = events.groupby(\"item_id\").agg(plays=(\"started_at\", \"count\")).reset_index()"
   ]
  },
  {
   "cell_type": "code",
   "execution_count": 23,
   "id": "06a092d2",
   "metadata": {},
   "outputs": [
    {
     "data": {
      "text/plain": [
       "count    959261.000000\n",
       "mean         77.679222\n",
       "std         472.804499\n",
       "min           1.000000\n",
       "25%           3.000000\n",
       "50%           7.000000\n",
       "75%          24.000000\n",
       "max       41366.000000\n",
       "Name: plays, dtype: float64"
      ]
     },
     "execution_count": 23,
     "metadata": {},
     "output_type": "execute_result"
    }
   ],
   "source": [
    "# Смотрим статистики кол-ва прослушиваний\n",
    "agg_items['plays'].describe()"
   ]
  },
  {
   "cell_type": "code",
   "execution_count": 15,
   "id": "f9b1a0f0",
   "metadata": {},
   "outputs": [
    {
     "data": {
      "image/png": "[encoded data removed]",
      "text/plain": [
       "<Figure size 640x480 with 1 Axes>"
      ]
     },
     "metadata": {
      "image/png": {
       "height": 460,
       "width": 608
      }
     },
     "output_type": "display_data"
    }
   ],
   "source": [
    "# Строим распределение кол-ва прослушиваний по трекам\n",
    "\n",
    "plt.plot(agg_items['plays'])\n",
    "plt.title(\"Распределение кол-ва прослушиваний по трекам\")\n",
    "plt.xlabel(\"ID треков\")\n",
    "plt.ylabel(\"Кол-во прослушиваний\")\n",
    "plt.show()"
   ]
  },
  {
   "cell_type": "code",
   "execution_count": 19,
   "id": "07e3380e",
   "metadata": {},
   "outputs": [
    {
     "data": {
      "text/plain": [
       "<Axes: title={'center': 'Плотность распределения частоты прослушиваний'}, ylabel='Density'>"
      ]
     },
     "execution_count": 19,
     "metadata": {},
     "output_type": "execute_result"
    },
    {
     "data": {
      "image/png": "[encoded data removed]",
      "text/plain": [
       "<Figure size 640x480 with 1 Axes>"
      ]
     },
     "metadata": {
      "image/png": {
       "height": 438,
       "width": 594
      }
     },
     "output_type": "display_data"
    }
   ],
   "source": [
    "# Строим кривую плотности распределения частоты прослушиваний\n",
    "agg_items['plays'].plot.kde(title='Плотность распределения частоты прослушиваний')"
   ]
  },
  {
   "cell_type": "markdown",
   "id": "2b116e34",
   "metadata": {},
   "source": [
    "Таким образом, большинство треков имеет небольшое кол-во прослушиваний: в среднем 77-78 и медианой 7. \n",
    "Т.е. у кол-ва прослушиваний \n",
    "\n",
    "Далее найдем топ-100 наиболее популярных треков по общему количеству прослушиваний. Для этого сначала разобьем события на train и test, чтобы искать топ треки только на train (так мы избежим утечки информации о таргете в тестовую выборку)"
   ]
  },
  {
   "cell_type": "code",
   "execution_count": 8,
   "id": "8e07e531",
   "metadata": {},
   "outputs": [],
   "source": [
    "# Зададим точку разбиения\n",
    "train_test_global_time_split_date = pd.to_datetime(\"2022-12-16\")\n",
    "\n",
    "train_test_global_time_split_idx = events[\"started_at\"] < train_test_global_time_split_date\n",
    "events_train = events[train_test_global_time_split_idx]\n",
    "events_test = events[~train_test_global_time_split_idx]"
   ]
  },
  {
   "cell_type": "code",
   "execution_count": 10,
   "id": "f18a319a",
   "metadata": {},
   "outputs": [],
   "source": [
    "pop_items = events_train \\\n",
    "    .groupby(\"item_id\").agg(plays=(\"started_at\", \"count\"), users=(\"user_id\", \"nunique\")).reset_index()\n",
    "\n",
    "# Сортируем по убыванию кол-ва прослушиваний, а при их равенстве - по убыванию уникальных пользователей\n",
    "pop_items = pop_items.sort_values(['plays', 'users'], ascending=[False, False])\n",
    "\n",
    "# Выбираем первые 100 самых прослушиваемых треков \n",
    "top_k_pop_items = pop_items[:100].reset_index().drop(columns='index')"
   ]
  },
  {
   "cell_type": "code",
   "execution_count": 11,
   "id": "f20d7d0c",
   "metadata": {},
   "outputs": [
    {
     "data": {
      "text/html": [
       "<div>\n",
       "<style scoped>\n",
       "    .dataframe tbody tr th:only-of-type {\n",
       "        vertical-align: middle;\n",
       "    }\n",
       "\n",
       "    .dataframe tbody tr th {\n",
       "        vertical-align: top;\n",
       "    }\n",
       "\n",
       "    .dataframe thead th {\n",
       "        text-align: right;\n",
       "    }\n",
       "</style>\n",
       "<table border=\"1\" class=\"dataframe\">\n",
       "  <thead>\n",
       "    <tr style=\"text-align: right;\">\n",
       "      <th></th>\n",
       "      <th>rank</th>\n",
       "      <th>item_id</th>\n",
       "      <th>plays</th>\n",
       "      <th>users</th>\n",
       "      <th>name</th>\n",
       "      <th>genres</th>\n",
       "      <th>artists</th>\n",
       "      <th>albums</th>\n",
       "    </tr>\n",
       "  </thead>\n",
       "  <tbody>\n",
       "    <tr>\n",
       "      <th>0</th>\n",
       "      <td>1</td>\n",
       "      <td>53404</td>\n",
       "      <td>40905</td>\n",
       "      <td>40905</td>\n",
       "      <td>Smells Like Teen Spirit</td>\n",
       "      <td>[allrock, alternative, rock]</td>\n",
       "      <td>[Nirvana]</td>\n",
       "      <td>[Skiing Music, Nirvana, Nevermind, Smells Like...</td>\n",
       "    </tr>\n",
       "    <tr>\n",
       "      <th>1</th>\n",
       "      <td>2</td>\n",
       "      <td>178529</td>\n",
       "      <td>35411</td>\n",
       "      <td>35411</td>\n",
       "      <td>Numb</td>\n",
       "      <td>[numetal, metal]</td>\n",
       "      <td>[Linkin Park]</td>\n",
       "      <td>[Meteora, 00s Rock Anthems]</td>\n",
       "    </tr>\n",
       "    <tr>\n",
       "      <th>2</th>\n",
       "      <td>3</td>\n",
       "      <td>33311009</td>\n",
       "      <td>34005</td>\n",
       "      <td>34005</td>\n",
       "      <td>Believer</td>\n",
       "      <td>[allrock, rock]</td>\n",
       "      <td>[Imagine Dragons]</td>\n",
       "      <td>[Summertime Love, Family Friendly Summer Hits,...</td>\n",
       "    </tr>\n",
       "    <tr>\n",
       "      <th>3</th>\n",
       "      <td>4</td>\n",
       "      <td>35505245</td>\n",
       "      <td>32259</td>\n",
       "      <td>32259</td>\n",
       "      <td>I Got Love</td>\n",
       "      <td>[rusrap, rap]</td>\n",
       "      <td>[Miyagi &amp; Эндшпиль, Рем Дигга]</td>\n",
       "      <td>[I Got Love]</td>\n",
       "    </tr>\n",
       "    <tr>\n",
       "      <th>4</th>\n",
       "      <td>5</td>\n",
       "      <td>37384</td>\n",
       "      <td>30390</td>\n",
       "      <td>30390</td>\n",
       "      <td>Zombie</td>\n",
       "      <td>[allrock, rock]</td>\n",
       "      <td>[The Cranberries]</td>\n",
       "      <td>[***** ***, Gold, MNM Sing Your Song: Back To ...</td>\n",
       "    </tr>\n",
       "    <tr>\n",
       "      <th>...</th>\n",
       "      <td>...</td>\n",
       "      <td>...</td>\n",
       "      <td>...</td>\n",
       "      <td>...</td>\n",
       "      <td>...</td>\n",
       "      <td>...</td>\n",
       "      <td>...</td>\n",
       "      <td>...</td>\n",
       "    </tr>\n",
       "    <tr>\n",
       "      <th>95</th>\n",
       "      <td>96</td>\n",
       "      <td>29175370</td>\n",
       "      <td>16296</td>\n",
       "      <td>16296</td>\n",
       "      <td>Рапапам</td>\n",
       "      <td>[rusrap, rap]</td>\n",
       "      <td>[9 грамм, Miyagi &amp; Эндшпиль]</td>\n",
       "      <td>[Рапапам]</td>\n",
       "    </tr>\n",
       "    <tr>\n",
       "      <th>96</th>\n",
       "      <td>97</td>\n",
       "      <td>27032843</td>\n",
       "      <td>16289</td>\n",
       "      <td>16289</td>\n",
       "      <td>Shut Your Mouth</td>\n",
       "      <td>[industrial, metal]</td>\n",
       "      <td>[Pain]</td>\n",
       "      <td>[Metalheadz, Nothing Remains The Same, Best De...</td>\n",
       "    </tr>\n",
       "    <tr>\n",
       "      <th>97</th>\n",
       "      <td>98</td>\n",
       "      <td>62352387</td>\n",
       "      <td>16197</td>\n",
       "      <td>16197</td>\n",
       "      <td>Девочка, танцуй</td>\n",
       "      <td>[ruspop, pop]</td>\n",
       "      <td>[Artik &amp; Asti]</td>\n",
       "      <td>[7 (Part 2)]</td>\n",
       "    </tr>\n",
       "    <tr>\n",
       "      <th>98</th>\n",
       "      <td>99</td>\n",
       "      <td>56776952</td>\n",
       "      <td>16162</td>\n",
       "      <td>16162</td>\n",
       "      <td>2 типа людей</td>\n",
       "      <td>[rusrap, rap]</td>\n",
       "      <td>[Макс Корж]</td>\n",
       "      <td>[2 типа людей]</td>\n",
       "    </tr>\n",
       "    <tr>\n",
       "      <th>99</th>\n",
       "      <td>100</td>\n",
       "      <td>9769</td>\n",
       "      <td>16156</td>\n",
       "      <td>16156</td>\n",
       "      <td>I Was Made For Lovin' You</td>\n",
       "      <td>[hardrock, allrock, rock]</td>\n",
       "      <td>[Kiss]</td>\n",
       "      <td>[Gold, Capodanno 2020 Nostalgia 80's Hits, Sma...</td>\n",
       "    </tr>\n",
       "  </tbody>\n",
       "</table>\n",
       "<p>100 rows × 8 columns</p>\n",
       "</div>"
      ],
      "text/plain": [
       "    rank   item_id  plays  users                       name  \\\n",
       "0      1     53404  40905  40905    Smells Like Teen Spirit   \n",
       "1      2    178529  35411  35411                       Numb   \n",
       "2      3  33311009  34005  34005                   Believer   \n",
       "3      4  35505245  32259  32259                 I Got Love   \n",
       "4      5     37384  30390  30390                     Zombie   \n",
       "..   ...       ...    ...    ...                        ...   \n",
       "95    96  29175370  16296  16296                    Рапапам   \n",
       "96    97  27032843  16289  16289            Shut Your Mouth   \n",
       "97    98  62352387  16197  16197            Девочка, танцуй   \n",
       "98    99  56776952  16162  16162               2 типа людей   \n",
       "99   100      9769  16156  16156  I Was Made For Lovin' You   \n",
       "\n",
       "                          genres                         artists  \\\n",
       "0   [allrock, alternative, rock]                       [Nirvana]   \n",
       "1               [numetal, metal]                   [Linkin Park]   \n",
       "2                [allrock, rock]               [Imagine Dragons]   \n",
       "3                  [rusrap, rap]  [Miyagi & Эндшпиль, Рем Дигга]   \n",
       "4                [allrock, rock]               [The Cranberries]   \n",
       "..                           ...                             ...   \n",
       "95                 [rusrap, rap]    [9 грамм, Miyagi & Эндшпиль]   \n",
       "96           [industrial, metal]                          [Pain]   \n",
       "97                 [ruspop, pop]                  [Artik & Asti]   \n",
       "98                 [rusrap, rap]                     [Макс Корж]   \n",
       "99     [hardrock, allrock, rock]                          [Kiss]   \n",
       "\n",
       "                                               albums  \n",
       "0   [Skiing Music, Nirvana, Nevermind, Smells Like...  \n",
       "1                         [Meteora, 00s Rock Anthems]  \n",
       "2   [Summertime Love, Family Friendly Summer Hits,...  \n",
       "3                                        [I Got Love]  \n",
       "4   [***** ***, Gold, MNM Sing Your Song: Back To ...  \n",
       "..                                                ...  \n",
       "95                                          [Рапапам]  \n",
       "96  [Metalheadz, Nothing Remains The Same, Best De...  \n",
       "97                                       [7 (Part 2)]  \n",
       "98                                     [2 типа людей]  \n",
       "99  [Gold, Capodanno 2020 Nostalgia 80's Hits, Sma...  \n",
       "\n",
       "[100 rows x 8 columns]"
      ]
     },
     "execution_count": 11,
     "metadata": {},
     "output_type": "execute_result"
    }
   ],
   "source": [
    "# Добавляем колонки с названиями всех каталожных единиц\n",
    "top_k_pop_items = top_k_pop_items \\\n",
    "    .merge(items[['item_id', 'name', 'genres', 'artists', 'albums']], how='inner', on='item_id')\n",
    "\n",
    "# Добавляем колонку rank\n",
    "top_k_pop_items = top_k_pop_items.reset_index().rename(columns={'index': 'rank'})\n",
    "top_k_pop_items['rank'] += 1\n",
    "\n",
    "top_k_pop_items"
   ]
  },
  {
   "attachments": {},
   "cell_type": "markdown",
   "id": "12d7e414",
   "metadata": {},
   "source": [
    "Сохраняем эти данные в файл `top_popular.parquet` для последующего использования в качестве готовых рекомендаций по умолчанию"
   ]
  },
  {
   "cell_type": "code",
   "execution_count": 12,
   "id": "828dd033",
   "metadata": {},
   "outputs": [],
   "source": [
    "top_k_pop_items.to_parquet('top_popular.parquet')"
   ]
  },
  {
   "attachments": {},
   "cell_type": "markdown",
   "id": "ec853af7",
   "metadata": {},
   "source": [
    "Определим самые популярные жанры. Для этого пройдемся по только что отобранным топ-трекам и посчитаем, к каким жанрам они относятся. Жанры с наибольшей встречаемостью будут самыми популярными"
   ]
  },
  {
   "cell_type": "code",
   "execution_count": 13,
   "id": "54fbed85",
   "metadata": {},
   "outputs": [],
   "source": [
    "# Функция для извлечения жанров из треков\n",
    "def get_genres(items):\n",
    "\n",
    "    \"\"\" \n",
    "    Извлекает жанры из треков и считает, сколько раз встречается каждый жанр.\n",
    "    \"\"\"    \n",
    "    genres_counter = {}\n",
    "    \n",
    "    for k, v in items.iterrows():\n",
    "        if v[\"genres\"] is None: # После предобработки NA быть не может, оставили для общего случая\n",
    "            continue\n",
    "        \n",
    "        genres = list(v[\"genres\"])\n",
    "\n",
    "        for genre in genres:\n",
    "            try:\n",
    "                genres_counter[genre] += 1 \n",
    "            except KeyError:\n",
    "                genres_counter[genre] = 1\n",
    "\n",
    "    genres = pd.Series(genres_counter, name=\"items_count\")\n",
    "    genres = genres.to_frame()\n",
    "    genres = genres.reset_index().rename(columns={\"index\": \"name\"})\n",
    "    genres.index.name = \"genre_id\"\n",
    "\n",
    "    return genres"
   ]
  },
  {
   "cell_type": "code",
   "execution_count": 14,
   "id": "e9465561",
   "metadata": {},
   "outputs": [],
   "source": [
    "# Извлекаем жанры из самых популярных треков и считаем score для каждого жанра, как долю от общего кол-ва треков\n",
    "top_k_pop_items_genres = get_genres(top_k_pop_items)\n",
    "top_k_pop_items_genres[\"score\"] = top_k_pop_items_genres[\"items_count\"] / top_k_pop_items_genres[\"items_count\"].sum()"
   ]
  },
  {
   "cell_type": "code",
   "execution_count": 15,
   "id": "eb6b8fe0",
   "metadata": {},
   "outputs": [
    {
     "data": {
      "text/plain": [
       "Text(0.5, 1.0, 'Top 10 most played genres')"
      ]
     },
     "execution_count": 15,
     "metadata": {},
     "output_type": "execute_result"
    },
    {
     "data": {
      "image/png": "[encoded data removed]",
      "text/plain": [
       "<Figure size 640x480 with 1 Axes>"
      ]
     },
     "metadata": {
      "image/png": {
       "height": 460,
       "width": 634
      }
     },
     "output_type": "display_data"
    }
   ],
   "source": [
    "# Строим горизонтальный barplot\n",
    "sns.barplot(data=top_k_pop_items_genres.sort_values(by=\"score\", ascending=False).head(10), x='score', y='name').set_title(\"Top 10 most played genres\")"
   ]
  },
  {
   "attachments": {},
   "cell_type": "markdown",
   "id": "bb9c38b5",
   "metadata": {},
   "source": [
    "Таким образом, среди топ-100 самых прослушиваемых треков наиболее распространенным жанром является pop.\n",
    "\n",
    "Также подготовим список жанров по всем трекам. Он понадобится для построения матрицы треки-жанры"
   ]
  },
  {
   "cell_type": "code",
   "execution_count": 22,
   "id": "1c6a2f29",
   "metadata": {},
   "outputs": [],
   "source": [
    "# Извлекаем жанры по всем трекам\n",
    "genres = get_genres(items)\n",
    "genres[\"score\"] = genres[\"items_count\"] / genres[\"items_count\"].sum()"
   ]
  },
  {
   "cell_type": "code",
   "execution_count": 23,
   "id": "966a4450",
   "metadata": {},
   "outputs": [
    {
     "data": {
      "text/html": [
       "<div>\n",
       "<style scoped>\n",
       "    .dataframe tbody tr th:only-of-type {\n",
       "        vertical-align: middle;\n",
       "    }\n",
       "\n",
       "    .dataframe tbody tr th {\n",
       "        vertical-align: top;\n",
       "    }\n",
       "\n",
       "    .dataframe thead th {\n",
       "        text-align: right;\n",
       "    }\n",
       "</style>\n",
       "<table border=\"1\" class=\"dataframe\">\n",
       "  <thead>\n",
       "    <tr style=\"text-align: right;\">\n",
       "      <th></th>\n",
       "      <th>name</th>\n",
       "      <th>items_count</th>\n",
       "      <th>score</th>\n",
       "    </tr>\n",
       "    <tr>\n",
       "      <th>genre_id</th>\n",
       "      <th></th>\n",
       "      <th></th>\n",
       "      <th></th>\n",
       "    </tr>\n",
       "  </thead>\n",
       "  <tbody>\n",
       "    <tr>\n",
       "      <th>1</th>\n",
       "      <td>pop</td>\n",
       "      <td>166284</td>\n",
       "      <td>0.103221</td>\n",
       "    </tr>\n",
       "    <tr>\n",
       "      <th>20</th>\n",
       "      <td>rap</td>\n",
       "      <td>128212</td>\n",
       "      <td>0.079588</td>\n",
       "    </tr>\n",
       "    <tr>\n",
       "      <th>3</th>\n",
       "      <td>allrock</td>\n",
       "      <td>118506</td>\n",
       "      <td>0.073563</td>\n",
       "    </tr>\n",
       "    <tr>\n",
       "      <th>11</th>\n",
       "      <td>electronics</td>\n",
       "      <td>114232</td>\n",
       "      <td>0.070910</td>\n",
       "    </tr>\n",
       "    <tr>\n",
       "      <th>6</th>\n",
       "      <td>metal</td>\n",
       "      <td>72311</td>\n",
       "      <td>0.044887</td>\n",
       "    </tr>\n",
       "    <tr>\n",
       "      <th>...</th>\n",
       "      <td>...</td>\n",
       "      <td>...</td>\n",
       "      <td>...</td>\n",
       "    </tr>\n",
       "    <tr>\n",
       "      <th>127</th>\n",
       "      <td>business</td>\n",
       "      <td>7</td>\n",
       "      <td>0.000004</td>\n",
       "    </tr>\n",
       "    <tr>\n",
       "      <th>128</th>\n",
       "      <td>religion</td>\n",
       "      <td>4</td>\n",
       "      <td>0.000002</td>\n",
       "    </tr>\n",
       "    <tr>\n",
       "      <th>135</th>\n",
       "      <td>technologies</td>\n",
       "      <td>4</td>\n",
       "      <td>0.000002</td>\n",
       "    </tr>\n",
       "    <tr>\n",
       "      <th>121</th>\n",
       "      <td>musicpodcasts</td>\n",
       "      <td>3</td>\n",
       "      <td>0.000002</td>\n",
       "    </tr>\n",
       "    <tr>\n",
       "      <th>130</th>\n",
       "      <td>health</td>\n",
       "      <td>2</td>\n",
       "      <td>0.000001</td>\n",
       "    </tr>\n",
       "  </tbody>\n",
       "</table>\n",
       "<p>137 rows × 3 columns</p>\n",
       "</div>"
      ],
      "text/plain": [
       "                   name  items_count     score\n",
       "genre_id                                      \n",
       "1                   pop       166284  0.103221\n",
       "20                  rap       128212  0.079588\n",
       "3               allrock       118506  0.073563\n",
       "11          electronics       114232  0.070910\n",
       "6                 metal        72311  0.044887\n",
       "...                 ...          ...       ...\n",
       "127            business            7  0.000004\n",
       "128            religion            4  0.000002\n",
       "135        technologies            4  0.000002\n",
       "121       musicpodcasts            3  0.000002\n",
       "130              health            2  0.000001\n",
       "\n",
       "[137 rows x 3 columns]"
      ]
     },
     "execution_count": 23,
     "metadata": {},
     "output_type": "execute_result"
    }
   ],
   "source": [
    "# Смотрим отсортированный список жанров\n",
    "genres.sort_values(by=\"score\", ascending=False)"
   ]
  },
  {
   "attachments": {},
   "cell_type": "markdown",
   "id": "5f5c6b35",
   "metadata": {},
   "source": [
    "После удаления части треков на этапе предобработки у нас получилось 137 разных жанров. Из них топ-3 самых распространенных: pop, rap и allrock.\n",
    "\n",
    "Сохраняем жанры для последующего использования"
   ]
  },
  {
   "cell_type": "code",
   "execution_count": 40,
   "id": "312f20d0",
   "metadata": {},
   "outputs": [],
   "source": [
    "# Сохраняем жанры в файл\n",
    "genres.to_parquet('genres.parquet')"
   ]
  },
  {
   "attachments": {},
   "cell_type": "markdown",
   "id": "b707df95-b815-4002-814f-77c90b848688",
   "metadata": {},
   "source": [
    "Проверим кол-во непрослушанных треков, т.е. таких, которые есть в `items`, но нет в `events`"
   ]
  },
  {
   "cell_type": "code",
   "execution_count": 24,
   "id": "b6579a5d-c7b7-4785-abd8-69f63f48151d",
   "metadata": {},
   "outputs": [
    {
     "name": "stdout",
     "output_type": "stream",
     "text": [
      "Кол-во непрослушанных треков: 21716\n"
     ]
    }
   ],
   "source": [
    "# Уникальные id всех треков\n",
    "all_items_ids = set(items['item_id'])\n",
    "        \n",
    "# Уникальные id только прослушанных треков\n",
    "played_items_ids = set(events['item_id'].unique()) \n",
    "\n",
    "# Треки, которые есть в items, но нет в events\n",
    "not_played_items_ids = list(all_items_ids - played_items_ids)\n",
    "print(f\"Кол-во непрослушанных треков: {len(not_played_items_ids)}\")"
   ]
  },
  {
   "attachments": {},
   "cell_type": "markdown",
   "id": "f7a9643c",
   "metadata": {},
   "source": [
    "Видим, что после сокращения истории взаимодействий появилось много непрослушанных треков,\n",
    "но мы не будем их удалять, т.к. по ним все равно можно строить контентные рекомендации. \n",
    "\n",
    "В конце загружаем файлы с объектами и событиями в S3-хранилище"
   ]
  },
  {
   "cell_type": "code",
   "execution_count": 16,
   "id": "27017509",
   "metadata": {},
   "outputs": [],
   "source": [
    "# Сохраняем файлы в S3-хранилище\n",
    "s3_client.upload_file('items.parquet', os.environ.get(\"S3_BUCKET_NAME\"), 'recsys/data/items.parquet')\n",
    "s3_client.upload_file('events.parquet', os.environ.get(\"S3_BUCKET_NAME\"), 'recsys/data/events.parquet')"
   ]
  },
  {
   "attachments": {},
   "cell_type": "markdown",
   "id": "ca36d0c8",
   "metadata": {},
   "source": [
    "## Этап 3. Оффлайн-рекомендации <a id=\"step_3\"></a>\n",
    "\n",
    "### Постановка задачи\n",
    "\n",
    "Подготовьте данные для обучения:\n",
    "- Загрузите ранее сохранённые данные из файлов `items.parquet`, `events.parquet`;\n",
    "- Разбейте данные на тренировочную и тестовую выборки: в тренировочную отнесите все данные до __16 декабря 2022 г. (не включительно)__.\n",
    "\n",
    "Рассчитайте рекомендации нескольких типов, сохраните каждый тип в своём файле в персональном S3-бакете по пути `recsys/recommendations/`:\n",
    "- топ популярных — в `top_popular.parquet`,\n",
    "- персональные (при помощи ALS) — в `personal_als.parquet`,\n",
    "- похожие треки или i2i (при помощи ALS) — в `similar.parquet`.\n",
    "\n",
    "Постройте ранжирующую модель, которая использует минимум три признака. Отранжируйте рекомендации, а итоговые сохраните в `recommendations.parquet`.\n",
    "\n",
    "Проверьте оценку качества трёх типов рекомендаций: \n",
    "1. топ популярных,\n",
    "2. персональных, полученных при помощи ALS,\n",
    "3. итоговых (по метрикам: recall, precision, coverage, novelty).\n",
    "\n",
    "Приведите значения метрик в ноутбуке."
   ]
  },
  {
   "attachments": {},
   "cell_type": "markdown",
   "id": "0e2f66c6",
   "metadata": {},
   "source": [
    "### Загрузка и разбиение данных\n",
    "\n",
    "Чтобы избежать проблем с памятью, __перезапускаем ядро__, выполняем ячейки в разделе `Инициализация` и загружаем данные"
   ]
  },
  {
   "cell_type": "code",
   "execution_count": 19,
   "id": "7253e88b",
   "metadata": {},
   "outputs": [],
   "source": [
    "items = pd.read_parquet(\"items.parquet\")\n",
    "events = pd.read_parquet(\"events.parquet\")"
   ]
  },
  {
   "attachments": {},
   "cell_type": "markdown",
   "id": "3c6ecb76",
   "metadata": {},
   "source": [
    "Разбиваем данные на тренировочную и тестовую выборки (в последнюю относим данные строго до 16 декабря 2022 г.)"
   ]
  },
  {
   "cell_type": "code",
   "execution_count": 20,
   "id": "df247840",
   "metadata": {},
   "outputs": [],
   "source": [
    "# Зададим точку разбиения\n",
    "train_test_global_time_split_date = pd.to_datetime(\"2022-12-16\")\n",
    "\n",
    "train_test_global_time_split_idx = events[\"started_at\"] < train_test_global_time_split_date\n",
    "events_train = events[train_test_global_time_split_idx]\n",
    "events_test = events[~train_test_global_time_split_idx]"
   ]
  },
  {
   "attachments": {},
   "cell_type": "markdown",
   "id": "e3f4a8f3",
   "metadata": {},
   "source": [
    "### Рекомендации на основе самых популярных треков\n",
    "\n",
    "Загружаем ранее сохраненные топ-треки и оцениваем качество рекомендаций на их основе для \"холодных\" пользователей"
   ]
  },
  {
   "cell_type": "code",
   "execution_count": 21,
   "id": "b6919ce4",
   "metadata": {},
   "outputs": [
    {
     "data": {
      "text/html": [
       "<div>\n",
       "<style scoped>\n",
       "    .dataframe tbody tr th:only-of-type {\n",
       "        vertical-align: middle;\n",
       "    }\n",
       "\n",
       "    .dataframe tbody tr th {\n",
       "        vertical-align: top;\n",
       "    }\n",
       "\n",
       "    .dataframe thead th {\n",
       "        text-align: right;\n",
       "    }\n",
       "</style>\n",
       "<table border=\"1\" class=\"dataframe\">\n",
       "  <thead>\n",
       "    <tr style=\"text-align: right;\">\n",
       "      <th></th>\n",
       "      <th>rank</th>\n",
       "      <th>item_id</th>\n",
       "      <th>plays</th>\n",
       "      <th>users</th>\n",
       "      <th>name</th>\n",
       "      <th>genres</th>\n",
       "      <th>artists</th>\n",
       "      <th>albums</th>\n",
       "    </tr>\n",
       "  </thead>\n",
       "  <tbody>\n",
       "    <tr>\n",
       "      <th>0</th>\n",
       "      <td>1</td>\n",
       "      <td>53404</td>\n",
       "      <td>40905</td>\n",
       "      <td>40905</td>\n",
       "      <td>Smells Like Teen Spirit</td>\n",
       "      <td>[allrock, alternative, rock]</td>\n",
       "      <td>[Nirvana]</td>\n",
       "      <td>[Skiing Music, Nirvana, Nevermind, Smells Like...</td>\n",
       "    </tr>\n",
       "    <tr>\n",
       "      <th>1</th>\n",
       "      <td>2</td>\n",
       "      <td>178529</td>\n",
       "      <td>35411</td>\n",
       "      <td>35411</td>\n",
       "      <td>Numb</td>\n",
       "      <td>[numetal, metal]</td>\n",
       "      <td>[Linkin Park]</td>\n",
       "      <td>[Meteora, 00s Rock Anthems]</td>\n",
       "    </tr>\n",
       "    <tr>\n",
       "      <th>2</th>\n",
       "      <td>3</td>\n",
       "      <td>33311009</td>\n",
       "      <td>34005</td>\n",
       "      <td>34005</td>\n",
       "      <td>Believer</td>\n",
       "      <td>[allrock, rock]</td>\n",
       "      <td>[Imagine Dragons]</td>\n",
       "      <td>[Summertime Love, Family Friendly Summer Hits,...</td>\n",
       "    </tr>\n",
       "    <tr>\n",
       "      <th>3</th>\n",
       "      <td>4</td>\n",
       "      <td>35505245</td>\n",
       "      <td>32259</td>\n",
       "      <td>32259</td>\n",
       "      <td>I Got Love</td>\n",
       "      <td>[rusrap, rap]</td>\n",
       "      <td>[Miyagi &amp; Эндшпиль, Рем Дигга]</td>\n",
       "      <td>[I Got Love]</td>\n",
       "    </tr>\n",
       "    <tr>\n",
       "      <th>4</th>\n",
       "      <td>5</td>\n",
       "      <td>37384</td>\n",
       "      <td>30390</td>\n",
       "      <td>30390</td>\n",
       "      <td>Zombie</td>\n",
       "      <td>[allrock, rock]</td>\n",
       "      <td>[The Cranberries]</td>\n",
       "      <td>[***** ***, Gold, MNM Sing Your Song: Back To ...</td>\n",
       "    </tr>\n",
       "  </tbody>\n",
       "</table>\n",
       "</div>"
      ],
      "text/plain": [
       "   rank   item_id  plays  users                     name  \\\n",
       "0     1     53404  40905  40905  Smells Like Teen Spirit   \n",
       "1     2    178529  35411  35411                     Numb   \n",
       "2     3  33311009  34005  34005                 Believer   \n",
       "3     4  35505245  32259  32259               I Got Love   \n",
       "4     5     37384  30390  30390                   Zombie   \n",
       "\n",
       "                         genres                         artists  \\\n",
       "0  [allrock, alternative, rock]                       [Nirvana]   \n",
       "1              [numetal, metal]                   [Linkin Park]   \n",
       "2               [allrock, rock]               [Imagine Dragons]   \n",
       "3                 [rusrap, rap]  [Miyagi & Эндшпиль, Рем Дигга]   \n",
       "4               [allrock, rock]               [The Cranberries]   \n",
       "\n",
       "                                              albums  \n",
       "0  [Skiing Music, Nirvana, Nevermind, Smells Like...  \n",
       "1                        [Meteora, 00s Rock Anthems]  \n",
       "2  [Summertime Love, Family Friendly Summer Hits,...  \n",
       "3                                       [I Got Love]  \n",
       "4  [***** ***, Gold, MNM Sing Your Song: Back To ...  "
      ]
     },
     "execution_count": 21,
     "metadata": {},
     "output_type": "execute_result"
    }
   ],
   "source": [
    "# Загружаем топ-100 самых прослушиваемых треков\n",
    "top_k_pop_items = pd.read_parquet(\"top_popular.parquet\")\n",
    "top_k_pop_items.head()"
   ]
  },
  {
   "cell_type": "code",
   "execution_count": 22,
   "id": "aa8d2a47",
   "metadata": {},
   "outputs": [],
   "source": [
    "# Идентификаторы уникальных пользователей в train и test\n",
    "users_train = events_train[\"user_id\"].drop_duplicates()\n",
    "users_test = events_test[\"user_id\"].drop_duplicates()"
   ]
  },
  {
   "cell_type": "code",
   "execution_count": 23,
   "id": "47564fcd",
   "metadata": {},
   "outputs": [
    {
     "name": "stdout",
     "output_type": "stream",
     "text": [
      "Кол-во холодных пользователей: 30659\n"
     ]
    }
   ],
   "source": [
    "# Идентификаторы \"холодных\" пользователей\n",
    "cold_users = users_test[~users_test.isin(users_train)]\n",
    "print(f\"Кол-во холодных пользователей: {len(cold_users)}\")"
   ]
  },
  {
   "attachments": {},
   "cell_type": "markdown",
   "id": "2578dd7b",
   "metadata": {},
   "source": [
    "Посчитаем долю треков «холодных» пользователей, совпавших с треками из числа топ-популярных (т.е. с рекомендациями по умолчанию)"
   ]
  },
  {
   "cell_type": "code",
   "execution_count": 24,
   "id": "f1ed64e5",
   "metadata": {},
   "outputs": [],
   "source": [
    "# Формируем бинарную колонку match для подсчета числа совпадений\n",
    "\n",
    "top_k_pop_items['match'] = 1\n",
    "\n",
    "cold_users_events = \\\n",
    "    events_test[events_test[\"user_id\"].isin(cold_users)] \\\n",
    "        .merge(top_k_pop_items[['item_id', 'match']], on=\"item_id\", how=\"left\")\n",
    "\n",
    "cold_users_events['match'].fillna(0, inplace=True)"
   ]
  },
  {
   "cell_type": "code",
   "execution_count": 25,
   "id": "a85cb8e1",
   "metadata": {},
   "outputs": [
    {
     "data": {
      "text/plain": [
       "0.05631165436899393"
      ]
     },
     "execution_count": 25,
     "metadata": {},
     "output_type": "execute_result"
    }
   ],
   "source": [
    "# Доля треков \"холодных\" пользователей, совпавших с рекомендациями по умолчанию\n",
    "cold_users_events_match_share = cold_users_events['match'].sum() / len(cold_users_events)\n",
    "cold_users_events_match_share"
   ]
  },
  {
   "attachments": {},
   "cell_type": "markdown",
   "id": "f6d329af",
   "metadata": {},
   "source": [
    "Считаем покрытие \"холодных\" пользователей рекомендациями из числа топ-треков"
   ]
  },
  {
   "cell_type": "code",
   "execution_count": 28,
   "id": "e1778f48",
   "metadata": {},
   "outputs": [
    {
     "name": "stdout",
     "output_type": "stream",
     "text": [
      "Доля холодных пользователей без релевантных рекомендаций: 0.620\n",
      "Среднее покрытие холодных пользователей: 1.819\n"
     ]
    }
   ],
   "source": [
    "# Группируем холодных пользователей по их id\n",
    "cold_users_hit_ratio = cold_users_events.groupby(\"user_id\").agg(hits=(\"match\", 'sum'))\n",
    "\n",
    "print(f\"Доля холодных пользователей без релевантных рекомендаций: {(cold_users_hit_ratio == 0).mean().iat[0]:.3f}\")\n",
    "print(f\"Среднее покрытие холодных пользователей: {cold_users_hit_ratio[cold_users_hit_ratio != 0].mean().iat[0]:.3f}\")"
   ]
  },
  {
   "attachments": {},
   "cell_type": "markdown",
   "id": "83f829a9",
   "metadata": {},
   "source": [
    "Таким образом, у порядка 40% \"холодных\" пользователей прослушивания на тестовой выборке совпали с рекомендации по умолчанию из числа топ-популярных треков, что можно считать неплохим результатом. \n",
    "При этом на каждого из них пришлось в среднем около 2-х треков."
   ]
  },
  {
   "attachments": {},
   "cell_type": "markdown",
   "id": "79974f1b",
   "metadata": {},
   "source": [
    "### Персональные рекомендации на основе коллаборативного подхода и ALS\n",
    "\n",
    "[Техническая документация на библиотеку implicit](https://benfred.github.io/implicit/api/models/cpu/als.html)\n",
    "\n",
    "Перекодируем идентификаторы `user_id` и `item_id`"
   ]
  },
  {
   "cell_type": "code",
   "execution_count": 7,
   "id": "2fcf108e",
   "metadata": {},
   "outputs": [],
   "source": [
    "# Перекодируем идентификаторы пользователей: \n",
    "# из имеющихся в последовательность 0, 1, 2, ...\n",
    "user_encoder = sklearn.preprocessing.LabelEncoder()\n",
    "user_encoder.fit(events[\"user_id\"])\n",
    "events_train[\"user_id_enc\"] = user_encoder.transform(events_train[\"user_id\"])\n",
    "events_test[\"user_id_enc\"] = user_encoder.transform(events_test[\"user_id\"])\n",
    "\n",
    "# Перекодируем идентификаторы объектов: \n",
    "# из имеющихся в последовательность 0, 1, 2, ...\n",
    "item_encoder = sklearn.preprocessing.LabelEncoder()\n",
    "item_encoder.fit(items[\"item_id\"])\n",
    "items[\"item_id_enc\"] = item_encoder.transform(items[\"item_id\"])\n",
    "events_train = events_train.merge(items[[\"item_id\", \"item_id_enc\"]], on=\"item_id\", how='left')\n",
    "events_test = events_test.merge(items[[\"item_id\", \"item_id_enc\"]], on=\"item_id\", how='left')"
   ]
  },
  {
   "attachments": {},
   "cell_type": "markdown",
   "id": "8e67d49e",
   "metadata": {},
   "source": [
    "Создаем sparse-матрицу в формате [CSR](https://docs.scipy.org/doc/scipy/reference/sparse.html)"
   ]
  },
  {
   "cell_type": "code",
   "execution_count": 9,
   "id": "e72c5ad8",
   "metadata": {},
   "outputs": [],
   "source": [
    "# Формируем колонку target (1 - трек прослушан, 0 - нет)\n",
    "events_train['target'] = 1\n",
    "\n",
    "# Создаём sparse-матрицу формата CSR \n",
    "user_item_matrix_train = scipy.sparse.csr_matrix((\n",
    "    events_train[\"target\"],\n",
    "    (events_train['user_id_enc'], events_train['item_id_enc'])),\n",
    "    dtype=np.int8)"
   ]
  },
  {
   "attachments": {},
   "cell_type": "markdown",
   "id": "2699ec85",
   "metadata": {},
   "source": [
    "Имея подготовленную матрицу взаимодействий, создаем ALS-модель. \n",
    "Для примера возьмём количество латентных факторов для матриц $P и Q$ равным 50. "
   ]
  },
  {
   "cell_type": "code",
   "execution_count": 36,
   "id": "935b0ea1",
   "metadata": {},
   "outputs": [
    {
     "name": "stderr",
     "output_type": "stream",
     "text": [
      "/home/mle-user/.venv/lib/python3.10/site-packages/implicit/cpu/als.py:95: RuntimeWarning: OpenBLAS is configured to use 4 threads. It is highly recommended to disable its internal threadpool by setting the environment variable 'OPENBLAS_NUM_THREADS=1' or by calling 'threadpoolctl.threadpool_limits(1, \"blas\")'. Having OpenBLAS use a threadpool can lead to severe performance issues here.\n",
      "  check_blas_config()\n"
     ]
    },
    {
     "data": {
      "application/vnd.jupyter.widget-view+json": {
       "model_id": "25416568d47a4ab1a6793e1014272d9c",
       "version_major": 2,
       "version_minor": 0
      },
      "text/plain": [
       "  0%|          | 0/50 [00:00<?, ?it/s]"
      ]
     },
     "metadata": {},
     "output_type": "display_data"
    }
   ],
   "source": [
    "# Код для создания и тренировки модели\n",
    "from implicit.als import AlternatingLeastSquares\n",
    "\n",
    "als_model = AlternatingLeastSquares(factors=50, iterations=50, regularization=0.05, random_state=0)\n",
    "als_model.fit(user_item_matrix_train)"
   ]
  },
  {
   "cell_type": "code",
   "execution_count": 37,
   "id": "588393c8",
   "metadata": {},
   "outputs": [],
   "source": [
    "# Сохраняем als-модель в файл\n",
    "os.makedirs('models/', exist_ok=True)\n",
    "with open('models/als_model.pkl', 'wb') as fd:\n",
    "    joblib.dump(als_model, fd)"
   ]
  },
  {
   "attachments": {},
   "cell_type": "markdown",
   "id": "91ccc243",
   "metadata": {},
   "source": [
    "Чтобы получить рекомендации для отдельного пользователя с помощью модели ALS, используем функцию ниже"
   ]
  },
  {
   "cell_type": "code",
   "execution_count": 38,
   "id": "b2ea7ad4",
   "metadata": {},
   "outputs": [],
   "source": [
    "def get_recommendations_als(user_item_matrix, als_model, user_id, user_encoder, item_encoder, include_seen=True, n=5):\n",
    "    \"\"\"\n",
    "    Возвращает отранжированные рекомендации для заданного пользователя\n",
    "    \"\"\"\n",
    "    user_id_enc = user_encoder.transform([user_id])[0]\n",
    "    recommendations = als_model.recommend(\n",
    "         user_id_enc, \n",
    "         user_item_matrix[user_id_enc], \n",
    "         filter_already_liked_items=not include_seen,\n",
    "         N=n)\n",
    "    recommendations = pd.DataFrame({\"item_id_enc\": recommendations[0], \"score\": recommendations[1]})\n",
    "    recommendations[\"item_id\"] = item_encoder.inverse_transform(recommendations[\"item_id_enc\"])\n",
    "    \n",
    "    return recommendations"
   ]
  },
  {
   "attachments": {},
   "cell_type": "markdown",
   "id": "99a79195",
   "metadata": {},
   "source": [
    "Посмотрим историю и рекомендации для случайного пользователя"
   ]
  },
  {
   "cell_type": "code",
   "execution_count": 41,
   "id": "fe60101c",
   "metadata": {},
   "outputs": [
    {
     "name": "stdout",
     "output_type": "stream",
     "text": [
      "user_id: 191352\n",
      "Последние события:\n"
     ]
    },
    {
     "data": {
      "text/html": [
       "<div>\n",
       "<style scoped>\n",
       "    .dataframe tbody tr th:only-of-type {\n",
       "        vertical-align: middle;\n",
       "    }\n",
       "\n",
       "    .dataframe tbody tr th {\n",
       "        vertical-align: top;\n",
       "    }\n",
       "\n",
       "    .dataframe thead th {\n",
       "        text-align: right;\n",
       "    }\n",
       "</style>\n",
       "<table border=\"1\" class=\"dataframe\">\n",
       "  <thead>\n",
       "    <tr style=\"text-align: right;\">\n",
       "      <th></th>\n",
       "      <th>item_id</th>\n",
       "      <th>name</th>\n",
       "      <th>genres</th>\n",
       "      <th>albums</th>\n",
       "      <th>artists</th>\n",
       "    </tr>\n",
       "  </thead>\n",
       "  <tbody>\n",
       "    <tr>\n",
       "      <th>110</th>\n",
       "      <td>84171385</td>\n",
       "      <td>Darkness</td>\n",
       "      <td>[electronics]</td>\n",
       "      <td>[Pathways EP]</td>\n",
       "      <td>[Fate]</td>\n",
       "    </tr>\n",
       "    <tr>\n",
       "      <th>111</th>\n",
       "      <td>84670890</td>\n",
       "      <td>Ты была права</td>\n",
       "      <td>[rusrap, rap]</td>\n",
       "      <td>[Ты была права]</td>\n",
       "      <td>[Баста]</td>\n",
       "    </tr>\n",
       "    <tr>\n",
       "      <th>112</th>\n",
       "      <td>84980677</td>\n",
       "      <td>Ронин</td>\n",
       "      <td>[rusrap, rap]</td>\n",
       "      <td>[Ронин]</td>\n",
       "      <td>[Скриптонит, The Limba]</td>\n",
       "    </tr>\n",
       "    <tr>\n",
       "      <th>113</th>\n",
       "      <td>85149354</td>\n",
       "      <td>Slumber Party</td>\n",
       "      <td>[pop]</td>\n",
       "      <td>[Slumber Party]</td>\n",
       "      <td>[Ashnikko, Plah]</td>\n",
       "    </tr>\n",
       "    <tr>\n",
       "      <th>114</th>\n",
       "      <td>85721165</td>\n",
       "      <td>Voiceless 2021</td>\n",
       "      <td>[dance]</td>\n",
       "      <td>[Infinity and Beyond 2.0]</td>\n",
       "      <td>[R-Tem, Max Tarconi]</td>\n",
       "    </tr>\n",
       "    <tr>\n",
       "      <th>115</th>\n",
       "      <td>86746096</td>\n",
       "      <td>Not Enough</td>\n",
       "      <td>[dance]</td>\n",
       "      <td>[Outside]</td>\n",
       "      <td>[Biicla]</td>\n",
       "    </tr>\n",
       "    <tr>\n",
       "      <th>116</th>\n",
       "      <td>87902717</td>\n",
       "      <td>Phonky Town</td>\n",
       "      <td>[foreignrap, rap]</td>\n",
       "      <td>[Phonky Town]</td>\n",
       "      <td>[Playaphonk]</td>\n",
       "    </tr>\n",
       "    <tr>\n",
       "      <th>117</th>\n",
       "      <td>88253142</td>\n",
       "      <td>SUICIDE YEAR</td>\n",
       "      <td>[foreignrap, rap]</td>\n",
       "      <td>[SUICIDE YEAR]</td>\n",
       "      <td>[WEEDMANE, Suicideyear]</td>\n",
       "    </tr>\n",
       "    <tr>\n",
       "      <th>118</th>\n",
       "      <td>89081846</td>\n",
       "      <td>abcdefu</td>\n",
       "      <td>[pop]</td>\n",
       "      <td>[abcdefu]</td>\n",
       "      <td>[GAYLE]</td>\n",
       "    </tr>\n",
       "    <tr>\n",
       "      <th>119</th>\n",
       "      <td>89718151</td>\n",
       "      <td>As the World Caves In</td>\n",
       "      <td>[pop]</td>\n",
       "      <td>[Top Trending Romania - Vara 2021, As the Worl...</td>\n",
       "      <td>[Sarah Cothran, Wuki]</td>\n",
       "    </tr>\n",
       "  </tbody>\n",
       "</table>\n",
       "</div>"
      ],
      "text/plain": [
       "      item_id                   name             genres  \\\n",
       "110  84171385               Darkness      [electronics]   \n",
       "111  84670890          Ты была права      [rusrap, rap]   \n",
       "112  84980677                  Ронин      [rusrap, rap]   \n",
       "113  85149354          Slumber Party              [pop]   \n",
       "114  85721165         Voiceless 2021            [dance]   \n",
       "115  86746096             Not Enough            [dance]   \n",
       "116  87902717            Phonky Town  [foreignrap, rap]   \n",
       "117  88253142           SUICIDE YEAR  [foreignrap, rap]   \n",
       "118  89081846                abcdefu              [pop]   \n",
       "119  89718151  As the World Caves In              [pop]   \n",
       "\n",
       "                                                albums  \\\n",
       "110                                      [Pathways EP]   \n",
       "111                                    [Ты была права]   \n",
       "112                                            [Ронин]   \n",
       "113                                    [Slumber Party]   \n",
       "114                          [Infinity and Beyond 2.0]   \n",
       "115                                          [Outside]   \n",
       "116                                      [Phonky Town]   \n",
       "117                                     [SUICIDE YEAR]   \n",
       "118                                          [abcdefu]   \n",
       "119  [Top Trending Romania - Vara 2021, As the Worl...   \n",
       "\n",
       "                     artists  \n",
       "110                   [Fate]  \n",
       "111                  [Баста]  \n",
       "112  [Скриптонит, The Limba]  \n",
       "113         [Ashnikko, Plah]  \n",
       "114     [R-Tem, Max Tarconi]  \n",
       "115                 [Biicla]  \n",
       "116             [Playaphonk]  \n",
       "117  [WEEDMANE, Suicideyear]  \n",
       "118                  [GAYLE]  \n",
       "119    [Sarah Cothran, Wuki]  "
      ]
     },
     "metadata": {},
     "output_type": "display_data"
    },
    {
     "name": "stdout",
     "output_type": "stream",
     "text": [
      "Рекомендации:\n"
     ]
    },
    {
     "data": {
      "text/html": [
       "<div>\n",
       "<style scoped>\n",
       "    .dataframe tbody tr th:only-of-type {\n",
       "        vertical-align: middle;\n",
       "    }\n",
       "\n",
       "    .dataframe tbody tr th {\n",
       "        vertical-align: top;\n",
       "    }\n",
       "\n",
       "    .dataframe thead th {\n",
       "        text-align: right;\n",
       "    }\n",
       "</style>\n",
       "<table border=\"1\" class=\"dataframe\">\n",
       "  <thead>\n",
       "    <tr style=\"text-align: right;\">\n",
       "      <th></th>\n",
       "      <th>item_id</th>\n",
       "      <th>name</th>\n",
       "      <th>genres</th>\n",
       "      <th>albums</th>\n",
       "      <th>artists</th>\n",
       "      <th>score</th>\n",
       "    </tr>\n",
       "  </thead>\n",
       "  <tbody>\n",
       "    <tr>\n",
       "      <th>0</th>\n",
       "      <td>60292250</td>\n",
       "      <td>Blinding Lights</td>\n",
       "      <td>[rnb]</td>\n",
       "      <td>[After Hours, Blinding Lights, The Highlights]</td>\n",
       "      <td>[The Weeknd]</td>\n",
       "      <td>0.727187</td>\n",
       "    </tr>\n",
       "    <tr>\n",
       "      <th>1</th>\n",
       "      <td>47627256</td>\n",
       "      <td>Cradles</td>\n",
       "      <td>[electronics]</td>\n",
       "      <td>[Cradles]</td>\n",
       "      <td>[Sub Urban]</td>\n",
       "      <td>0.321736</td>\n",
       "    </tr>\n",
       "    <tr>\n",
       "      <th>2</th>\n",
       "      <td>55561798</td>\n",
       "      <td>Аugust</td>\n",
       "      <td>[electronics]</td>\n",
       "      <td>[Renovatio, August]</td>\n",
       "      <td>[Intelligency]</td>\n",
       "      <td>0.228013</td>\n",
       "    </tr>\n",
       "    <tr>\n",
       "      <th>3</th>\n",
       "      <td>8264</td>\n",
       "      <td>Paper Planes</td>\n",
       "      <td>[None, electronics]</td>\n",
       "      <td>[College Hip Hop, Pay Close Attention : XL Rec...</td>\n",
       "      <td>[M.I.A.]</td>\n",
       "      <td>0.209865</td>\n",
       "    </tr>\n",
       "    <tr>\n",
       "      <th>4</th>\n",
       "      <td>34735046</td>\n",
       "      <td>Devil Eyes</td>\n",
       "      <td>[electronics]</td>\n",
       "      <td>[Providence]</td>\n",
       "      <td>[Hippie Sabotage]</td>\n",
       "      <td>0.193408</td>\n",
       "    </tr>\n",
       "    <tr>\n",
       "      <th>5</th>\n",
       "      <td>75944934</td>\n",
       "      <td>Astronaut In The Ocean</td>\n",
       "      <td>[foreignrap, rap]</td>\n",
       "      <td>[Astronomical, Astronaut In The Ocean]</td>\n",
       "      <td>[Masked Wolf]</td>\n",
       "      <td>0.168895</td>\n",
       "    </tr>\n",
       "    <tr>\n",
       "      <th>6</th>\n",
       "      <td>84019953</td>\n",
       "      <td>Close Eyes</td>\n",
       "      <td>[foreignrap, rap]</td>\n",
       "      <td>[Close Eyes]</td>\n",
       "      <td>[DVRST]</td>\n",
       "      <td>0.151053</td>\n",
       "    </tr>\n",
       "    <tr>\n",
       "      <th>7</th>\n",
       "      <td>58723120</td>\n",
       "      <td>Odium</td>\n",
       "      <td>[foreignrap, rap]</td>\n",
       "      <td>[Universe of the Past]</td>\n",
       "      <td>[LXST CXNTURY, Kingpin Skinny Pimp]</td>\n",
       "      <td>0.148858</td>\n",
       "    </tr>\n",
       "    <tr>\n",
       "      <th>8</th>\n",
       "      <td>9060176</td>\n",
       "      <td>Sweater Weather</td>\n",
       "      <td>[indie]</td>\n",
       "      <td>[I Love You., Love Bops 2022, Simping Songs, I...</td>\n",
       "      <td>[The Neighbourhood]</td>\n",
       "      <td>0.144889</td>\n",
       "    </tr>\n",
       "    <tr>\n",
       "      <th>9</th>\n",
       "      <td>18820599</td>\n",
       "      <td>Come And Get Your Love</td>\n",
       "      <td>[allrock, electronics, rock]</td>\n",
       "      <td>[Love Bops 2022, Guardians of the Galaxy: Awes...</td>\n",
       "      <td>[Redbone]</td>\n",
       "      <td>0.142051</td>\n",
       "    </tr>\n",
       "  </tbody>\n",
       "</table>\n",
       "</div>"
      ],
      "text/plain": [
       "    item_id                    name                        genres  \\\n",
       "0  60292250         Blinding Lights                         [rnb]   \n",
       "1  47627256                 Cradles                 [electronics]   \n",
       "2  55561798                  Аugust                 [electronics]   \n",
       "3      8264            Paper Planes           [None, electronics]   \n",
       "4  34735046              Devil Eyes                 [electronics]   \n",
       "5  75944934  Astronaut In The Ocean             [foreignrap, rap]   \n",
       "6  84019953              Close Eyes             [foreignrap, rap]   \n",
       "7  58723120                   Odium             [foreignrap, rap]   \n",
       "8   9060176         Sweater Weather                       [indie]   \n",
       "9  18820599  Come And Get Your Love  [allrock, electronics, rock]   \n",
       "\n",
       "                                              albums  \\\n",
       "0     [After Hours, Blinding Lights, The Highlights]   \n",
       "1                                          [Cradles]   \n",
       "2                                [Renovatio, August]   \n",
       "3  [College Hip Hop, Pay Close Attention : XL Rec...   \n",
       "4                                       [Providence]   \n",
       "5             [Astronomical, Astronaut In The Ocean]   \n",
       "6                                       [Close Eyes]   \n",
       "7                             [Universe of the Past]   \n",
       "8  [I Love You., Love Bops 2022, Simping Songs, I...   \n",
       "9  [Love Bops 2022, Guardians of the Galaxy: Awes...   \n",
       "\n",
       "                               artists     score  \n",
       "0                         [The Weeknd]  0.727187  \n",
       "1                          [Sub Urban]  0.321736  \n",
       "2                       [Intelligency]  0.228013  \n",
       "3                             [M.I.A.]  0.209865  \n",
       "4                    [Hippie Sabotage]  0.193408  \n",
       "5                        [Masked Wolf]  0.168895  \n",
       "6                              [DVRST]  0.151053  \n",
       "7  [LXST CXNTURY, Kingpin Skinny Pimp]  0.148858  \n",
       "8                  [The Neighbourhood]  0.144889  \n",
       "9                            [Redbone]  0.142051  "
      ]
     },
     "metadata": {},
     "output_type": "display_data"
    }
   ],
   "source": [
    "# Выберем произвольного пользователя из тренировочной выборки (\"прошлого\")\n",
    "user_id = events_train['user_id'].sample().iat[0]\n",
    "print(f\"user_id: {user_id}\")\n",
    "\n",
    "print(\"Последние события:\")\n",
    "user_history = (\n",
    "    events_train\n",
    "    .query(\"user_id == @user_id\")\n",
    "    .merge(items.set_index(\"item_id\")[[\"name\", \"genres\", \"albums\", \"artists\"]], on=\"item_id\")\n",
    ")\n",
    "user_history_to_print = user_history[[\"item_id\", \"name\", \"genres\", \"albums\", \"artists\"]].tail(10)\n",
    "display(user_history_to_print)\n",
    "\n",
    "print(\"Рекомендации:\")\n",
    "user_recommendations = get_recommendations_als(user_item_matrix_train, als_model, user_id, user_encoder, item_encoder, include_seen=True, n=10)\n",
    "user_recommendations = user_recommendations.merge(items.set_index(\"item_id\")[[\"name\", \"genres\", \"albums\", \"artists\"]], on=\"item_id\")\n",
    "user_recommendations_to_print = \\\n",
    "    user_recommendations[[\"item_id\", \"name\", \"genres\", \"albums\", \"artists\", \"score\"]].head(10)\n",
    "display(user_recommendations_to_print)"
   ]
  },
  {
   "attachments": {},
   "cell_type": "markdown",
   "id": "39cbc06f",
   "metadata": {},
   "source": [
    "Видим, что рекомендации хорошо мэтчатся с историей пользователя.\n",
    "\n",
    "Получим по 50 рекомендаций для всех пользователей из `events`"
   ]
  },
  {
   "cell_type": "code",
   "execution_count": 10,
   "id": "65358428",
   "metadata": {},
   "outputs": [],
   "source": [
    "# Получаем список всех возможных user_id (перекодированных)\n",
    "user_ids_encoded = range(len(user_encoder.classes_))\n",
    "\n",
    "# Получаем рекомендации для всех пользователей\n",
    "als_recommendations = als_model.recommend(\n",
    "    user_ids_encoded, \n",
    "    user_item_matrix_train[user_ids_encoded], \n",
    "    filter_already_liked_items=False, \n",
    "    N=50)"
   ]
  },
  {
   "attachments": {},
   "cell_type": "markdown",
   "id": "21dd3f50",
   "metadata": {},
   "source": [
    "Код возвращает рекомендации как список списков, что не очень удобно. Преобразуем его в более удобный табличный формат"
   ]
  },
  {
   "cell_type": "code",
   "execution_count": 11,
   "id": "43f773ae",
   "metadata": {},
   "outputs": [],
   "source": [
    "# преобразуем полученные рекомендации в табличный формат\n",
    "item_ids_enc = als_recommendations[0]\n",
    "als_scores = als_recommendations[1]\n",
    "\n",
    "als_recommendations = pd.DataFrame({\n",
    "    \"user_id_enc\": user_ids_encoded,\n",
    "    \"item_id_enc\": item_ids_enc.tolist(), \n",
    "    \"score\": als_scores.tolist()})\n",
    "als_recommendations = als_recommendations.explode([\"item_id_enc\", \"score\"], ignore_index=True)\n",
    "\n",
    "# приводим типы данных\n",
    "als_recommendations[\"item_id_enc\"] = als_recommendations[\"item_id_enc\"].astype(\"int\")\n",
    "als_recommendations[\"score\"] = als_recommendations[\"score\"].astype(\"float\")\n",
    "\n",
    "# получаем изначальные идентификаторы\n",
    "als_recommendations[\"user_id\"] = user_encoder.inverse_transform(als_recommendations[\"user_id_enc\"])\n",
    "als_recommendations[\"item_id\"] = item_encoder.inverse_transform(als_recommendations[\"item_id_enc\"])\n",
    "als_recommendations = als_recommendations.drop(columns=[\"user_id_enc\", \"item_id_enc\"])"
   ]
  },
  {
   "cell_type": "code",
   "execution_count": 13,
   "id": "1dacceb9",
   "metadata": {},
   "outputs": [
    {
     "data": {
      "text/html": [
       "<div>\n",
       "<style scoped>\n",
       "    .dataframe tbody tr th:only-of-type {\n",
       "        vertical-align: middle;\n",
       "    }\n",
       "\n",
       "    .dataframe tbody tr th {\n",
       "        vertical-align: top;\n",
       "    }\n",
       "\n",
       "    .dataframe thead th {\n",
       "        text-align: right;\n",
       "    }\n",
       "</style>\n",
       "<table border=\"1\" class=\"dataframe\">\n",
       "  <thead>\n",
       "    <tr style=\"text-align: right;\">\n",
       "      <th></th>\n",
       "      <th>user_id</th>\n",
       "      <th>item_id</th>\n",
       "      <th>score</th>\n",
       "    </tr>\n",
       "  </thead>\n",
       "  <tbody>\n",
       "    <tr>\n",
       "      <th>0</th>\n",
       "      <td>0</td>\n",
       "      <td>18860</td>\n",
       "      <td>0.008680</td>\n",
       "    </tr>\n",
       "    <tr>\n",
       "      <th>1</th>\n",
       "      <td>0</td>\n",
       "      <td>18385776</td>\n",
       "      <td>0.008127</td>\n",
       "    </tr>\n",
       "    <tr>\n",
       "      <th>2</th>\n",
       "      <td>0</td>\n",
       "      <td>60292250</td>\n",
       "      <td>0.007501</td>\n",
       "    </tr>\n",
       "    <tr>\n",
       "      <th>3</th>\n",
       "      <td>0</td>\n",
       "      <td>597196</td>\n",
       "      <td>0.007165</td>\n",
       "    </tr>\n",
       "    <tr>\n",
       "      <th>4</th>\n",
       "      <td>0</td>\n",
       "      <td>29175370</td>\n",
       "      <td>0.006840</td>\n",
       "    </tr>\n",
       "    <tr>\n",
       "      <th>...</th>\n",
       "      <td>...</td>\n",
       "      <td>...</td>\n",
       "      <td>...</td>\n",
       "    </tr>\n",
       "    <tr>\n",
       "      <th>68635745</th>\n",
       "      <td>1374582</td>\n",
       "      <td>41631554</td>\n",
       "      <td>0.038625</td>\n",
       "    </tr>\n",
       "    <tr>\n",
       "      <th>68635746</th>\n",
       "      <td>1374582</td>\n",
       "      <td>78619463</td>\n",
       "      <td>0.038531</td>\n",
       "    </tr>\n",
       "    <tr>\n",
       "      <th>68635747</th>\n",
       "      <td>1374582</td>\n",
       "      <td>70619465</td>\n",
       "      <td>0.038283</td>\n",
       "    </tr>\n",
       "    <tr>\n",
       "      <th>68635748</th>\n",
       "      <td>1374582</td>\n",
       "      <td>2758009</td>\n",
       "      <td>0.037921</td>\n",
       "    </tr>\n",
       "    <tr>\n",
       "      <th>68635749</th>\n",
       "      <td>1374582</td>\n",
       "      <td>68562711</td>\n",
       "      <td>0.037874</td>\n",
       "    </tr>\n",
       "  </tbody>\n",
       "</table>\n",
       "<p>68635750 rows × 3 columns</p>\n",
       "</div>"
      ],
      "text/plain": [
       "          user_id   item_id     score\n",
       "0               0     18860  0.008680\n",
       "1               0  18385776  0.008127\n",
       "2               0  60292250  0.007501\n",
       "3               0    597196  0.007165\n",
       "4               0  29175370  0.006840\n",
       "...           ...       ...       ...\n",
       "68635745  1374582  41631554  0.038625\n",
       "68635746  1374582  78619463  0.038531\n",
       "68635747  1374582  70619465  0.038283\n",
       "68635748  1374582   2758009  0.037921\n",
       "68635749  1374582  68562711  0.037874\n",
       "\n",
       "[68635750 rows x 3 columns]"
      ]
     },
     "execution_count": 13,
     "metadata": {},
     "output_type": "execute_result"
    }
   ],
   "source": [
    "# Смотрим, что получилось\n",
    "als_recommendations = als_recommendations[[\"user_id\", \"item_id\", \"score\"]]\n",
    "als_recommendations"
   ]
  },
  {
   "cell_type": "code",
   "execution_count": 14,
   "id": "8ad9a8cc",
   "metadata": {},
   "outputs": [],
   "source": [
    "# Сохраним полученные рекомендации в файл\n",
    "als_recommendations.to_parquet(\"personal_als.parquet\")"
   ]
  },
  {
   "attachments": {},
   "cell_type": "markdown",
   "id": "e89174d5",
   "metadata": {},
   "source": [
    "Найдем покрытие по объектам"
   ]
  },
  {
   "cell_type": "code",
   "execution_count": 15,
   "id": "045bd3f7",
   "metadata": {},
   "outputs": [
    {
     "name": "stdout",
     "output_type": "stream",
     "text": [
      "0.004089800270546608\n"
     ]
    }
   ],
   "source": [
    "cov_items = als_recommendations['item_id'].nunique() / len(items) \n",
    "print(cov_items)"
   ]
  },
  {
   "attachments": {},
   "cell_type": "markdown",
   "id": "c252f3c6",
   "metadata": {},
   "source": [
    "Посчитаем среднее Novelty@5, для этого:\n",
    "- разметим каждую рекомендацию в als_recommendations булевым признаком played, используя events_train\n",
    "(False — пользователь не прослушал трек, True — прослушал),\n",
    "- посчитаем Novelty@5 для каждого пользователя,\n",
    "- найдем среднее значение полученных Novelty@5."
   ]
  },
  {
   "cell_type": "code",
   "execution_count": 16,
   "id": "7ce50c78",
   "metadata": {},
   "outputs": [
    {
     "name": "stdout",
     "output_type": "stream",
     "text": [
      "0.7915405601308352\n"
     ]
    }
   ],
   "source": [
    "# разметим каждую рекомендацию признаком played\n",
    "events_train[\"played\"] = True\n",
    "als_recommendations = als_recommendations \\\n",
    "    .merge(events_train[['played', \"user_id\", \"item_id\"]], on=[\"user_id\", \"item_id\"], how=\"left\")\n",
    "als_recommendations[\"played\"] = als_recommendations[\"played\"].fillna(False).astype(\"bool\")\n",
    "\n",
    "# проставим ранги\n",
    "als_recommendations = als_recommendations.sort_values(by='score', ascending=False) \n",
    "als_recommendations[\"rank\"] = als_recommendations.groupby(\"user_id\").cumcount() + 1\n",
    "\n",
    "# посчитаем novelty по пользователям\n",
    "novelty_5 = (1 - als_recommendations.query(\"rank <= 5\").groupby(\"user_id\")[\"played\"].mean())\n",
    "\n",
    "# посчитаем средний novelty\n",
    "novelty_5_mean = novelty_5.mean()\n",
    "print(novelty_5_mean)"
   ]
  },
  {
   "attachments": {},
   "cell_type": "markdown",
   "id": "70ed8fa4",
   "metadata": {},
   "source": [
    "Посчитаем recall и precision для ALS-рекомендаций. Для этого события в тестовой выборке и рекомендации для одних и тех же пользователей разметим признаками:\n",
    "- gt (ground truth): объект есть в тестовой выборке;\n",
    "- pr (predicted): объект есть в рекомендациях.\n",
    "\n",
    "Теперь разметим признаки бинарной классификации:\n",
    "- TP: объект есть и в тестовой выборке, и в рекомендациях (истинная рекомендация),\n",
    "- FP: объекта нет в тестовой выборке, но он есть в рекомендациях (ложноположительная рекомендация),\n",
    "- FN: объект есть в тестовой выборке, но его нет в рекомендациях (ложноотрицательная рекомендация)"
   ]
  },
  {
   "attachments": {},
   "cell_type": "markdown",
   "id": "8b6ba798",
   "metadata": {},
   "source": [
    "Создаем функцию для подсчета метрик TP, FP и FN у пользователей, которые есть одновременно и в events_train,\n",
    "и в events_test"
   ]
  },
  {
   "cell_type": "code",
   "execution_count": 18,
   "id": "fbb73c9f",
   "metadata": {},
   "outputs": [],
   "source": [
    "def process_events_recs_for_binary_metrics(events_train, events_test, recs, top_k=None):\n",
    "\n",
    "    \"\"\"\n",
    "    размечает пары <user_id, item_id> для общего множества пользователей признаками\n",
    "    - gt (ground truth)\n",
    "    - pr (prediction)\n",
    "    top_k: расчёт ведётся только для top k-рекомендаций\n",
    "    \"\"\"\n",
    "\n",
    "    events_test[\"gt\"] = True\n",
    "    common_users = set(events_test[\"user_id\"]) & set(recs[\"user_id\"])\n",
    "\n",
    "    print(f\"Common users: {len(common_users)}\")\n",
    "    \n",
    "    events_for_common_users = events_test[events_test[\"user_id\"].isin(common_users)].copy()\n",
    "    recs_for_common_users = recs[recs[\"user_id\"].isin(common_users)].copy()\n",
    "\n",
    "    recs_for_common_users = recs_for_common_users.sort_values([\"user_id\", \"score\"], ascending=[True, False])\n",
    "\n",
    "    # оставляет только те item_id, которые были в events_train, \n",
    "    # т. к. модель не имела никакой возможности давать рекомендации для новых айтемов\n",
    "    events_for_common_users = events_for_common_users[events_for_common_users[\"item_id\"].isin(events_train[\"item_id\"].unique())]\n",
    "\n",
    "    if top_k is not None:\n",
    "        recs_for_common_users = recs_for_common_users.groupby(\"user_id\").head(top_k)\n",
    "    \n",
    "    events_recs_common = events_for_common_users[[\"user_id\", \"item_id\", \"gt\"]].merge(\n",
    "        recs_for_common_users[[\"user_id\", \"item_id\", \"score\"]], \n",
    "        on=[\"user_id\", \"item_id\"], how=\"outer\")    \n",
    "\n",
    "    events_recs_common[\"gt\"] = events_recs_common[\"gt\"].fillna(False)\n",
    "    events_recs_common[\"pr\"] = ~events_recs_common[\"score\"].isnull()\n",
    "    \n",
    "    events_recs_common[\"tp\"] = events_recs_common[\"gt\"] & events_recs_common[\"pr\"]\n",
    "    events_recs_common[\"fp\"] = ~events_recs_common[\"gt\"] & events_recs_common[\"pr\"]\n",
    "    events_recs_common[\"fn\"] = events_recs_common[\"gt\"] & ~events_recs_common[\"pr\"]\n",
    "\n",
    "    return events_recs_common"
   ]
  },
  {
   "attachments": {},
   "cell_type": "markdown",
   "id": "4a4a352d",
   "metadata": {},
   "source": [
    "Считаем TP, FP и FN для каждой пары user_id, item_id"
   ]
  },
  {
   "cell_type": "code",
   "execution_count": 18,
   "id": "b726bbdc",
   "metadata": {},
   "outputs": [
    {
     "name": "stdout",
     "output_type": "stream",
     "text": [
      "Common users: 661812\n"
     ]
    }
   ],
   "source": [
    "events_recs_for_binary_metrics = process_events_recs_for_binary_metrics(events_train,\n",
    "                                                                        events_test, \n",
    "                                                                        als_recommendations,\n",
    "                                                                        top_k=5)"
   ]
  },
  {
   "attachments": {},
   "cell_type": "markdown",
   "id": "b0234bf8",
   "metadata": {},
   "source": [
    "Считаем precision и recall"
   ]
  },
  {
   "cell_type": "code",
   "execution_count": 24,
   "id": "3bb6d125",
   "metadata": {},
   "outputs": [],
   "source": [
    "def compute_cls_metrics(events_recs_for_binary_metrics):\n",
    "    \n",
    "    groupper = events_recs_for_binary_metrics.groupby(\"user_id\")\n",
    "\n",
    "    # precision = tp / (tp + fp)\n",
    "    precision = groupper[\"tp\"].sum() / (groupper[\"tp\"].sum() + groupper[\"fp\"].sum())\n",
    "    precision = precision.fillna(0).mean()\n",
    "    \n",
    "    # recall = tp / (tp + fn)\n",
    "    recall = groupper[\"tp\"].sum() / (groupper[\"tp\"].sum() + groupper[\"fn\"].sum()) \n",
    "    recall = recall.fillna(0).mean()\n",
    "\n",
    "    return precision, recall"
   ]
  },
  {
   "cell_type": "code",
   "execution_count": 20,
   "id": "21bd62d3",
   "metadata": {},
   "outputs": [
    {
     "name": "stdout",
     "output_type": "stream",
     "text": [
      "0.0022163393833898454 0.003603471740681325\n"
     ]
    }
   ],
   "source": [
    "precision, recall = compute_cls_metrics(events_recs_for_binary_metrics)\n",
    "print(precision, recall)"
   ]
  },
  {
   "attachments": {},
   "cell_type": "markdown",
   "id": "ac35ffa8",
   "metadata": {},
   "source": [
    "### Рекомендации на основе контентного подхода и ALS\n",
    "\n",
    "Для экономии ресурсов не будем строить контентные рекомендации для всех пользователей. Вместо этого \n",
    "найдем только матрицу треки-жанры для всех треков. Она понадобится для генерации жанровых признаков.\n",
    "\n",
    "Сначала загрузим список жанров по всем трекам"
   ]
  },
  {
   "cell_type": "code",
   "execution_count": 19,
   "id": "2cbec088",
   "metadata": {},
   "outputs": [
    {
     "data": {
      "text/html": [
       "<div>\n",
       "<style scoped>\n",
       "    .dataframe tbody tr th:only-of-type {\n",
       "        vertical-align: middle;\n",
       "    }\n",
       "\n",
       "    .dataframe tbody tr th {\n",
       "        vertical-align: top;\n",
       "    }\n",
       "\n",
       "    .dataframe thead th {\n",
       "        text-align: right;\n",
       "    }\n",
       "</style>\n",
       "<table border=\"1\" class=\"dataframe\">\n",
       "  <thead>\n",
       "    <tr style=\"text-align: right;\">\n",
       "      <th></th>\n",
       "      <th>name</th>\n",
       "      <th>items_count</th>\n",
       "      <th>score</th>\n",
       "    </tr>\n",
       "    <tr>\n",
       "      <th>genre_id</th>\n",
       "      <th></th>\n",
       "      <th></th>\n",
       "      <th></th>\n",
       "    </tr>\n",
       "  </thead>\n",
       "  <tbody>\n",
       "    <tr>\n",
       "      <th>0</th>\n",
       "      <td>pop</td>\n",
       "      <td>166284</td>\n",
       "      <td>0.103221</td>\n",
       "    </tr>\n",
       "    <tr>\n",
       "      <th>1</th>\n",
       "      <td>folk</td>\n",
       "      <td>37547</td>\n",
       "      <td>0.023307</td>\n",
       "    </tr>\n",
       "    <tr>\n",
       "      <th>2</th>\n",
       "      <td>allrock</td>\n",
       "      <td>118506</td>\n",
       "      <td>0.073563</td>\n",
       "    </tr>\n",
       "    <tr>\n",
       "      <th>3</th>\n",
       "      <td>hardrock</td>\n",
       "      <td>10916</td>\n",
       "      <td>0.006776</td>\n",
       "    </tr>\n",
       "    <tr>\n",
       "      <th>4</th>\n",
       "      <td>rock</td>\n",
       "      <td>55174</td>\n",
       "      <td>0.034249</td>\n",
       "    </tr>\n",
       "  </tbody>\n",
       "</table>\n",
       "</div>"
      ],
      "text/plain": [
       "              name  items_count     score\n",
       "genre_id                                 \n",
       "0              pop       166284  0.103221\n",
       "1             folk        37547  0.023307\n",
       "2          allrock       118506  0.073563\n",
       "3         hardrock        10916  0.006776\n",
       "4             rock        55174  0.034249"
      ]
     },
     "execution_count": 19,
     "metadata": {},
     "output_type": "execute_result"
    }
   ],
   "source": [
    "genres = pd.read_parquet('genres.parquet')\n",
    "genres.head()"
   ]
  },
  {
   "attachments": {},
   "cell_type": "markdown",
   "id": "a3f2dd6b",
   "metadata": {},
   "source": [
    "Функция ниже строит матрицу треки-жанры"
   ]
  },
  {
   "cell_type": "code",
   "execution_count": 20,
   "id": "6c363859",
   "metadata": {},
   "outputs": [],
   "source": [
    "def get_item2genre_matrix(genres, items):\n",
    "\n",
    "    genre_names_to_id = genres.reset_index().set_index(\"name\")[\"genre_id\"].to_dict()\n",
    "    \n",
    "    # list to build CSR matrix\n",
    "    genres_csr_data = []\n",
    "    genres_csr_row_idx = []\n",
    "    genres_csr_col_idx = []\n",
    "    \n",
    "    for item_idx, (k, v) in enumerate(items.iterrows()):\n",
    "        if v[\"genres\"] is None: # После предобработки NA быть не может, оставили для общего случая\n",
    "            continue\n",
    "        \n",
    "        item_genres = list(v[\"genres\"])\n",
    "        \n",
    "        for genre_name in item_genres:\n",
    "            genre_idx = genre_names_to_id[genre_name]\n",
    "            genres_csr_data.append(1)\n",
    "            genres_csr_row_idx.append(item_idx)\n",
    "            genres_csr_col_idx.append(genre_idx)\n",
    "\n",
    "    genres_csr = scipy.sparse.csr_matrix((genres_csr_data, (genres_csr_row_idx, genres_csr_col_idx)), \\\n",
    "                                         shape=(len(items), len(genres)))\n",
    "    \n",
    "    # нормализуем, чтобы сумма оценок принадлежности к жанрам была равна 1\n",
    "    genres_csr = sklearn.preprocessing.normalize(genres_csr, norm='l1', axis=1)\n",
    "    \n",
    "    return genres_csr"
   ]
  },
  {
   "attachments": {},
   "cell_type": "markdown",
   "id": "edb1b572",
   "metadata": {},
   "source": [
    "Строим матрицу с весами по всем трекам и жанрам"
   ]
  },
  {
   "cell_type": "code",
   "execution_count": 21,
   "id": "bb4f3e39",
   "metadata": {},
   "outputs": [],
   "source": [
    "items = items.sort_values(by=\"item_id_enc\")\n",
    "all_items_genres_csr = get_item2genre_matrix(genres, items)"
   ]
  },
  {
   "attachments": {},
   "cell_type": "markdown",
   "id": "2544a391",
   "metadata": {},
   "source": [
    "Сохраним полученную матрицу на диск"
   ]
  },
  {
   "cell_type": "code",
   "execution_count": 23,
   "id": "cd820cf0",
   "metadata": {},
   "outputs": [],
   "source": [
    "# Сохраняем csr-матрицу треки-жанры\n",
    "scipy.sparse.save_npz('all_items_genres_csr.npz', all_items_genres_csr)"
   ]
  },
  {
   "attachments": {},
   "cell_type": "markdown",
   "id": "49eb9b4c",
   "metadata": {},
   "source": [
    "### Рекомендации на основе похожих треков (i2i) и ALS\n",
    "\n",
    "Получим рекомендации при помощи метода [similar_items](https://benfred.github.io/implicit/api/models/cpu/als.html) \n",
    "для всех треков из `events_train`"
   ]
  },
  {
   "cell_type": "code",
   "execution_count": 8,
   "id": "bb5c1f34",
   "metadata": {},
   "outputs": [],
   "source": [
    "# Загружаем ALS-модель\n",
    "with open('models/als_model.pkl', 'rb') as fd:\n",
    "    als_model = joblib.load(fd)"
   ]
  },
  {
   "cell_type": "code",
   "execution_count": 58,
   "id": "3d685ed0",
   "metadata": {},
   "outputs": [],
   "source": [
    "# Получим энкодированные идентификаторы объектов в events_train\n",
    "train_item_ids_enc = events_train['item_id_enc'].unique() \n",
    "\n",
    "max_similar_items = 10\n",
    "\n",
    "# получаем списки похожих объектов, используя ранее полученную ALS-модель\n",
    "# метод similar_items возвращает и сам объект, как наиболее похожий\n",
    "# этот объект мы позже отфильтруем, но сейчас запросим на 1 больше\n",
    "similar_items = als_model.similar_items(train_item_ids_enc, N=max_similar_items+1)\n",
    "\n",
    "# преобразуем полученные списки в табличный формат\n",
    "sim_item_item_ids_enc = similar_items[0]\n",
    "sim_item_scores = similar_items[1]\n",
    "\n",
    "similar_items = pd.DataFrame({\n",
    "    \"item_id_enc\": train_item_ids_enc,\n",
    "    \"sim_item_id_enc\": sim_item_item_ids_enc.tolist(), \n",
    "    \"score\": sim_item_scores.tolist()}) \n",
    "similar_items = similar_items.explode(['sim_item_id_enc', 'score'], ignore_index=True) \n",
    "\n",
    "# приводим типы данных\n",
    "similar_items[\"sim_item_id_enc\"] = similar_items[\"sim_item_id_enc\"].astype('int') \n",
    "similar_items[\"score\"] = similar_items[\"score\"].astype(\"float\")\n",
    "\n",
    "# получаем изначальные идентификаторы\n",
    "similar_items[\"item_id_1\"] = item_encoder.inverse_transform(similar_items[\"item_id_enc\"]) \n",
    "similar_items[\"item_id_2\"] = item_encoder.inverse_transform(similar_items[\"sim_item_id_enc\"]) \n",
    "similar_items = similar_items.drop(columns=[\"item_id_enc\", \"sim_item_id_enc\"])\n",
    "\n",
    "# убираем пары с одинаковыми объектами\n",
    "similar_items = similar_items.query(\"item_id_1 != item_id_2\")"
   ]
  },
  {
   "cell_type": "code",
   "execution_count": 59,
   "id": "105d0f99",
   "metadata": {},
   "outputs": [
    {
     "data": {
      "text/html": [
       "<div>\n",
       "<style scoped>\n",
       "    .dataframe tbody tr th:only-of-type {\n",
       "        vertical-align: middle;\n",
       "    }\n",
       "\n",
       "    .dataframe tbody tr th {\n",
       "        vertical-align: top;\n",
       "    }\n",
       "\n",
       "    .dataframe thead th {\n",
       "        text-align: right;\n",
       "    }\n",
       "</style>\n",
       "<table border=\"1\" class=\"dataframe\">\n",
       "  <thead>\n",
       "    <tr style=\"text-align: right;\">\n",
       "      <th></th>\n",
       "      <th>score</th>\n",
       "      <th>item_id_1</th>\n",
       "      <th>item_id_2</th>\n",
       "    </tr>\n",
       "  </thead>\n",
       "  <tbody>\n",
       "    <tr>\n",
       "      <th>1</th>\n",
       "      <td>0.927705</td>\n",
       "      <td>99262</td>\n",
       "      <td>99245</td>\n",
       "    </tr>\n",
       "    <tr>\n",
       "      <th>2</th>\n",
       "      <td>0.912948</td>\n",
       "      <td>99262</td>\n",
       "      <td>99241</td>\n",
       "    </tr>\n",
       "    <tr>\n",
       "      <th>3</th>\n",
       "      <td>0.905223</td>\n",
       "      <td>99262</td>\n",
       "      <td>4637878</td>\n",
       "    </tr>\n",
       "    <tr>\n",
       "      <th>4</th>\n",
       "      <td>0.897252</td>\n",
       "      <td>99262</td>\n",
       "      <td>99254</td>\n",
       "    </tr>\n",
       "    <tr>\n",
       "      <th>5</th>\n",
       "      <td>0.894859</td>\n",
       "      <td>99262</td>\n",
       "      <td>40667264</td>\n",
       "    </tr>\n",
       "  </tbody>\n",
       "</table>\n",
       "</div>"
      ],
      "text/plain": [
       "      score  item_id_1  item_id_2\n",
       "1  0.927705      99262      99245\n",
       "2  0.912948      99262      99241\n",
       "3  0.905223      99262    4637878\n",
       "4  0.897252      99262      99254\n",
       "5  0.894859      99262   40667264"
      ]
     },
     "execution_count": 59,
     "metadata": {},
     "output_type": "execute_result"
    }
   ],
   "source": [
    "# Смотрим результат\n",
    "similar_items.head()"
   ]
  },
  {
   "cell_type": "code",
   "execution_count": 60,
   "id": "6af4cf2f",
   "metadata": {},
   "outputs": [],
   "source": [
    "# Сохраняем полученные рекомендации в файл\n",
    "similar_items.to_parquet(\"similar.parquet\")"
   ]
  },
  {
   "attachments": {},
   "cell_type": "markdown",
   "id": "c382ef1e",
   "metadata": {},
   "source": [
    "С помощью функции ниже можно посмотреть рекомендации для одного трека"
   ]
  },
  {
   "cell_type": "code",
   "execution_count": 61,
   "id": "95f270df",
   "metadata": {},
   "outputs": [],
   "source": [
    "def print_sim_items(item_id, similar_items):\n",
    "    item_columns_to_use = [\"item_id\", \"name\", \"genres\", \"artists\", \"albums\"]\n",
    "    \n",
    "    item_id_1 = items.query(\"item_id == @item_id\")[item_columns_to_use]\n",
    "    display(item_id_1)\n",
    "    \n",
    "    si = similar_items.query(\"item_id_1 == @item_id\")\n",
    "    si = si.merge(items[item_columns_to_use].set_index(\"item_id\"), left_on=\"item_id_2\", right_index=True)\n",
    "    display(si)"
   ]
  },
  {
   "cell_type": "code",
   "execution_count": 62,
   "id": "e79c3609",
   "metadata": {},
   "outputs": [
    {
     "data": {
      "text/html": [
       "<div>\n",
       "<style scoped>\n",
       "    .dataframe tbody tr th:only-of-type {\n",
       "        vertical-align: middle;\n",
       "    }\n",
       "\n",
       "    .dataframe tbody tr th {\n",
       "        vertical-align: top;\n",
       "    }\n",
       "\n",
       "    .dataframe thead th {\n",
       "        text-align: right;\n",
       "    }\n",
       "</style>\n",
       "<table border=\"1\" class=\"dataframe\">\n",
       "  <thead>\n",
       "    <tr style=\"text-align: right;\">\n",
       "      <th></th>\n",
       "      <th>item_id</th>\n",
       "      <th>name</th>\n",
       "      <th>genres</th>\n",
       "      <th>artists</th>\n",
       "      <th>albums</th>\n",
       "    </tr>\n",
       "  </thead>\n",
       "  <tbody>\n",
       "    <tr>\n",
       "      <th>521853</th>\n",
       "      <td>36295630</td>\n",
       "      <td>Парадигма</td>\n",
       "      <td>[rusrap, rap]</td>\n",
       "      <td>[Кажэ Обойма]</td>\n",
       "      <td>[Катарсис]</td>\n",
       "    </tr>\n",
       "  </tbody>\n",
       "</table>\n",
       "</div>"
      ],
      "text/plain": [
       "         item_id       name         genres        artists      albums\n",
       "521853  36295630  Парадигма  [rusrap, rap]  [Кажэ Обойма]  [Катарсис]"
      ]
     },
     "metadata": {},
     "output_type": "display_data"
    },
    {
     "data": {
      "text/html": [
       "<div>\n",
       "<style scoped>\n",
       "    .dataframe tbody tr th:only-of-type {\n",
       "        vertical-align: middle;\n",
       "    }\n",
       "\n",
       "    .dataframe tbody tr th {\n",
       "        vertical-align: top;\n",
       "    }\n",
       "\n",
       "    .dataframe thead th {\n",
       "        text-align: right;\n",
       "    }\n",
       "</style>\n",
       "<table border=\"1\" class=\"dataframe\">\n",
       "  <thead>\n",
       "    <tr style=\"text-align: right;\">\n",
       "      <th></th>\n",
       "      <th>score</th>\n",
       "      <th>item_id_1</th>\n",
       "      <th>item_id_2</th>\n",
       "      <th>name</th>\n",
       "      <th>genres</th>\n",
       "      <th>artists</th>\n",
       "      <th>albums</th>\n",
       "    </tr>\n",
       "  </thead>\n",
       "  <tbody>\n",
       "    <tr>\n",
       "      <th>7497348</th>\n",
       "      <td>0.927054</td>\n",
       "      <td>36295630</td>\n",
       "      <td>52816622</td>\n",
       "      <td>Лов ли</td>\n",
       "      <td>[rusrap, rap]</td>\n",
       "      <td>[VibeTGK]</td>\n",
       "      <td>[XXX]</td>\n",
       "    </tr>\n",
       "    <tr>\n",
       "      <th>7497349</th>\n",
       "      <td>0.920898</td>\n",
       "      <td>36295630</td>\n",
       "      <td>57297295</td>\n",
       "      <td>Перемены</td>\n",
       "      <td>[rusrap, rap]</td>\n",
       "      <td>[iZReaL]</td>\n",
       "      <td>[1/2]</td>\n",
       "    </tr>\n",
       "    <tr>\n",
       "      <th>7497350</th>\n",
       "      <td>0.917927</td>\n",
       "      <td>36295630</td>\n",
       "      <td>43563454</td>\n",
       "      <td>Бенджамин Баттон</td>\n",
       "      <td>[rusrap, rap]</td>\n",
       "      <td>[Кажэ Обойма]</td>\n",
       "      <td>[1983 (Best)]</td>\n",
       "    </tr>\n",
       "    <tr>\n",
       "      <th>7497351</th>\n",
       "      <td>0.916891</td>\n",
       "      <td>36295630</td>\n",
       "      <td>21163703</td>\n",
       "      <td>Свет в окне</td>\n",
       "      <td>[rusrap, rap]</td>\n",
       "      <td>[Darom Dabro]</td>\n",
       "      <td>[Вечный компас]</td>\n",
       "    </tr>\n",
       "    <tr>\n",
       "      <th>7497352</th>\n",
       "      <td>0.916674</td>\n",
       "      <td>36295630</td>\n",
       "      <td>43563438</td>\n",
       "      <td>Кость</td>\n",
       "      <td>[rusrap, rap]</td>\n",
       "      <td>[Кажэ Обойма]</td>\n",
       "      <td>[1983 (Best)]</td>\n",
       "    </tr>\n",
       "    <tr>\n",
       "      <th>7497353</th>\n",
       "      <td>0.916640</td>\n",
       "      <td>36295630</td>\n",
       "      <td>36295634</td>\n",
       "      <td>Лотос</td>\n",
       "      <td>[rusrap, rap]</td>\n",
       "      <td>[Кажэ Обойма]</td>\n",
       "      <td>[Катарсис]</td>\n",
       "    </tr>\n",
       "    <tr>\n",
       "      <th>7497354</th>\n",
       "      <td>0.915963</td>\n",
       "      <td>36295630</td>\n",
       "      <td>61536202</td>\n",
       "      <td>Сёрфер</td>\n",
       "      <td>[rusrap, rap]</td>\n",
       "      <td>[Кажэ Обойма]</td>\n",
       "      <td>[Белый киллер]</td>\n",
       "    </tr>\n",
       "    <tr>\n",
       "      <th>7497355</th>\n",
       "      <td>0.915159</td>\n",
       "      <td>36295630</td>\n",
       "      <td>53892663</td>\n",
       "      <td>Да, мы любим рэп</td>\n",
       "      <td>[rusrap, rap]</td>\n",
       "      <td>[Кажэ Обойма, Darom Dabro, Fint]</td>\n",
       "      <td>[Singles]</td>\n",
       "    </tr>\n",
       "    <tr>\n",
       "      <th>7497356</th>\n",
       "      <td>0.915149</td>\n",
       "      <td>36295630</td>\n",
       "      <td>36295624</td>\n",
       "      <td>28-я осень</td>\n",
       "      <td>[rusrap, rap]</td>\n",
       "      <td>[Кажэ Обойма]</td>\n",
       "      <td>[Катарсис]</td>\n",
       "    </tr>\n",
       "    <tr>\n",
       "      <th>7497357</th>\n",
       "      <td>0.914384</td>\n",
       "      <td>36295630</td>\n",
       "      <td>36295619</td>\n",
       "      <td>Успеем ещё</td>\n",
       "      <td>[rusrap, rap]</td>\n",
       "      <td>[Murovei, Кажэ Обойма]</td>\n",
       "      <td>[Прохлада]</td>\n",
       "    </tr>\n",
       "  </tbody>\n",
       "</table>\n",
       "</div>"
      ],
      "text/plain": [
       "            score  item_id_1  item_id_2              name         genres  \\\n",
       "7497348  0.927054   36295630   52816622            Лов ли  [rusrap, rap]   \n",
       "7497349  0.920898   36295630   57297295          Перемены  [rusrap, rap]   \n",
       "7497350  0.917927   36295630   43563454  Бенджамин Баттон  [rusrap, rap]   \n",
       "7497351  0.916891   36295630   21163703       Свет в окне  [rusrap, rap]   \n",
       "7497352  0.916674   36295630   43563438             Кость  [rusrap, rap]   \n",
       "7497353  0.916640   36295630   36295634             Лотос  [rusrap, rap]   \n",
       "7497354  0.915963   36295630   61536202            Сёрфер  [rusrap, rap]   \n",
       "7497355  0.915159   36295630   53892663  Да, мы любим рэп  [rusrap, rap]   \n",
       "7497356  0.915149   36295630   36295624        28-я осень  [rusrap, rap]   \n",
       "7497357  0.914384   36295630   36295619        Успеем ещё  [rusrap, rap]   \n",
       "\n",
       "                                  artists           albums  \n",
       "7497348                         [VibeTGK]            [XXX]  \n",
       "7497349                          [iZReaL]            [1/2]  \n",
       "7497350                     [Кажэ Обойма]    [1983 (Best)]  \n",
       "7497351                     [Darom Dabro]  [Вечный компас]  \n",
       "7497352                     [Кажэ Обойма]    [1983 (Best)]  \n",
       "7497353                     [Кажэ Обойма]       [Катарсис]  \n",
       "7497354                     [Кажэ Обойма]   [Белый киллер]  \n",
       "7497355  [Кажэ Обойма, Darom Dabro, Fint]        [Singles]  \n",
       "7497356                     [Кажэ Обойма]       [Катарсис]  \n",
       "7497357            [Murovei, Кажэ Обойма]       [Прохлада]  "
      ]
     },
     "metadata": {},
     "output_type": "display_data"
    }
   ],
   "source": [
    "# Задаем произвольный трек\n",
    "item_id = similar_items['item_id_1'].sample().iat[0]\n",
    "\n",
    "# Смотрим похожие треки\n",
    "print_sim_items(item_id, similar_items)"
   ]
  },
  {
   "attachments": {},
   "cell_type": "markdown",
   "id": "3c1d75a3",
   "metadata": {},
   "source": [
    "Видим, что найденные объекты действительно похожи на заданный."
   ]
  },
  {
   "attachments": {},
   "cell_type": "markdown",
   "id": "17de138b",
   "metadata": {},
   "source": [
    "### Построение ранжирующей модели\n",
    "\n",
    "В качестве основного кандидатогенератора для обучения ранжирующей модели возьмём коллаборативные рекомендации. \n",
    "Добавим к нему дополнительные признаки, включая количество треков, прослушанных каждым пользователем,\n",
    "а также признаки, характеризующие жанровые предпочтения пользователей. \n",
    "Для экономии ресурсов возьмём не все жанры, а только 10 наиболее популярных. Все остальные отметим как не вошедшие в \n",
    "топ и обозначим как others. \n",
    "\n",
    "Сначала __перезапустим ядро__, выполним ячейки в разделе `Инициализация` и загрузим необходимые данные"
   ]
  },
  {
   "cell_type": "code",
   "execution_count": 5,
   "id": "5974bce7",
   "metadata": {},
   "outputs": [],
   "source": [
    "# Загружаем коллаборативные рекомендации\n",
    "als_recommendations = pd.read_parquet(\"personal_als.parquet\")\n",
    "\n",
    "# Переименовываем \n",
    "candidates = als_recommendations\n",
    "candidates.rename(columns={'score': 'als_score'}, inplace=True)"
   ]
  },
  {
   "cell_type": "code",
   "execution_count": 6,
   "id": "28004205",
   "metadata": {},
   "outputs": [],
   "source": [
    "# Загружаем объекты и события\n",
    "items = pd.read_parquet(\"items.parquet\")\n",
    "events = pd.read_parquet(\"events.parquet\")"
   ]
  },
  {
   "cell_type": "code",
   "execution_count": 7,
   "id": "71f5562e",
   "metadata": {},
   "outputs": [],
   "source": [
    "# Зададим точку разбиения\n",
    "train_test_global_time_split_date = pd.to_datetime(\"2022-12-16\")\n",
    "\n",
    "train_test_global_time_split_idx = events[\"started_at\"] < train_test_global_time_split_date\n",
    "events_train = events[train_test_global_time_split_idx]\n",
    "events_test = events[~train_test_global_time_split_idx]"
   ]
  },
  {
   "cell_type": "code",
   "execution_count": 8,
   "id": "a8736db9",
   "metadata": {},
   "outputs": [],
   "source": [
    "# Перекодируем идентификаторы пользователей: \n",
    "# из имеющихся в последовательность 0, 1, 2, ...\n",
    "user_encoder = sklearn.preprocessing.LabelEncoder()\n",
    "user_encoder.fit(events[\"user_id\"])\n",
    "events_train[\"user_id_enc\"] = user_encoder.transform(events_train[\"user_id\"])\n",
    "events_test[\"user_id_enc\"] = user_encoder.transform(events_test[\"user_id\"])\n",
    "\n",
    "# Перекодируем идентификаторы объектов: \n",
    "# из имеющихся в последовательность 0, 1, 2, ...\n",
    "item_encoder = sklearn.preprocessing.LabelEncoder()\n",
    "item_encoder.fit(items[\"item_id\"])\n",
    "items[\"item_id_enc\"] = item_encoder.transform(items[\"item_id\"])\n",
    "events_train = events_train.merge(items[[\"item_id\", \"item_id_enc\"]], on=\"item_id\", how='left')\n",
    "events_test = events_test.merge(items[[\"item_id\", \"item_id_enc\"]], on=\"item_id\", how='left')"
   ]
  },
  {
   "cell_type": "code",
   "execution_count": 9,
   "id": "e47bc51c",
   "metadata": {},
   "outputs": [
    {
     "data": {
      "text/plain": [
       "0"
      ]
     },
     "execution_count": 9,
     "metadata": {},
     "output_type": "execute_result"
    }
   ],
   "source": [
    "# Удаляем из памяти лишние данные\n",
    "del events\n",
    "del train_test_global_time_split_idx\n",
    "gc.collect()"
   ]
  },
  {
   "cell_type": "code",
   "execution_count": 4,
   "id": "2416e057",
   "metadata": {},
   "outputs": [],
   "source": [
    "# Загружаем жанры\n",
    "genres = pd.read_parquet('genres.parquet')"
   ]
  },
  {
   "cell_type": "code",
   "execution_count": 5,
   "id": "0a4bf855",
   "metadata": {},
   "outputs": [],
   "source": [
    "# Загружаем csr-матрицу треки-жанры\n",
    "all_items_genres_csr = scipy.sparse.load_npz('all_items_genres_csr.npz')"
   ]
  },
  {
   "attachments": {},
   "cell_type": "markdown",
   "id": "056eea26",
   "metadata": {},
   "source": [
    "Далее добавляем таргеты и признаки в обучающий датасет ранжирующей модели.\n",
    "\n",
    "Добавим в candidates таргеты, используя историю взаимодействий в events_train:\n",
    "- 1 - для прослушанных item_id (положительный пример),\n",
    "- 0 - для всех остальных (негативный пример)."
   ]
  },
  {
   "cell_type": "code",
   "execution_count": 12,
   "id": "f002038a",
   "metadata": {},
   "outputs": [],
   "source": [
    "# Добавляем таргет к кандидатам\n",
    "events_train[\"target\"] = 1\n",
    "candidates = candidates.merge(events_train[[\"user_id\", \"item_id\", \"target\"]], \n",
    "                              on=[\"user_id\", \"item_id\"], \n",
    "                              how='left') \n",
    "candidates[\"target\"] = candidates[\"target\"].fillna(0).astype(\"int\")\n",
    "\n",
    "candidates_for_train = candidates"
   ]
  },
  {
   "cell_type": "code",
   "execution_count": 14,
   "id": "499bf519",
   "metadata": {},
   "outputs": [
    {
     "data": {
      "text/plain": [
       "0"
      ]
     },
     "execution_count": 14,
     "metadata": {},
     "output_type": "execute_result"
    }
   ],
   "source": [
    "# Удаляем из памяти лишние данные\n",
    "del als_recommendations\n",
    "gc.collect()"
   ]
  },
  {
   "attachments": {},
   "cell_type": "markdown",
   "id": "b28093a7",
   "metadata": {},
   "source": [
    "Добавим признак пользователей - количество треков, прослушанных каждым пользователем"
   ]
  },
  {
   "cell_type": "code",
   "execution_count": 17,
   "id": "8152d97e",
   "metadata": {},
   "outputs": [],
   "source": [
    "def get_user_features(events):\n",
    "    \"\"\" считает пользовательские признаки \"\"\"\n",
    "    \n",
    "    user_features = events.groupby(\"user_id\").agg(\n",
    "        tracks_played_by_user =(\"started_at\", \"count\")\n",
    "    )\n",
    "\n",
    "    return user_features\n",
    "    \n",
    "\n",
    "user_features_for_train = get_user_features(events_train)\n",
    "candidates_for_train = candidates_for_train.merge(user_features_for_train, on=\"user_id\", how=\"left\")"
   ]
  },
  {
   "attachments": {},
   "cell_type": "markdown",
   "id": "3ad7e6ae",
   "metadata": {},
   "source": [
    "Добавляем жанровые признаки, показывающие, какие жанры предпочитает каждый пользователь"
   ]
  },
  {
   "cell_type": "code",
   "execution_count": 6,
   "id": "8bc153f2",
   "metadata": {},
   "outputs": [],
   "source": [
    "# определяем индексы топ-10 жанров и всех остальных\n",
    "genres_top_k = 10\n",
    "genres_top_idx = genres.sort_values(\"items_count\", ascending=False).head(genres_top_k).index\n",
    "genres_others_idx = list(set(genres.index) - set(genres_top_idx))\n",
    "\n",
    "genres_top_columns = [f\"genre_{id}\" for id in genres_top_idx]\n",
    "genres_others_column = \"genre_others\"\n",
    "genre_columns = genres_top_columns + [genres_others_column] \n",
    "\n",
    "# составляем таблицу принадлежности книг к жанрам\n",
    "item_genres = (\n",
    "    pd.concat([\n",
    "        # топ жанров\n",
    "        pd.DataFrame(all_items_genres_csr[:, genres_top_idx].toarray(), columns=genres_top_columns), \n",
    "        # все остальные жанры\n",
    "        pd.DataFrame(all_items_genres_csr[:, genres_others_idx].sum(axis=1), columns=[genres_others_column])\n",
    "        ],\n",
    "        axis=1)\n",
    "    .reset_index()\n",
    "    .rename(columns={\"index\": \"item_id_enc\"})\n",
    ")"
   ]
  },
  {
   "cell_type": "code",
   "execution_count": 20,
   "id": "eb955f5c",
   "metadata": {},
   "outputs": [],
   "source": [
    "# объединяем информацию принадлежности объектов к жанрам с основной информацией об объектах\n",
    "items = items.merge(item_genres, on=\"item_id_enc\", how=\"left\")"
   ]
  },
  {
   "cell_type": "code",
   "execution_count": 22,
   "id": "0fb583f5",
   "metadata": {},
   "outputs": [
    {
     "data": {
      "text/plain": [
       "654"
      ]
     },
     "execution_count": 22,
     "metadata": {},
     "output_type": "execute_result"
    }
   ],
   "source": [
    "# Удаляем из памяти лишние данные\n",
    "del all_items_genres_csr\n",
    "gc.collect()"
   ]
  },
  {
   "cell_type": "code",
   "execution_count": 23,
   "id": "7d0a175f",
   "metadata": {},
   "outputs": [],
   "source": [
    "# Формируем жанровые признаки\n",
    "def get_user_genres(events, items, item_genre_columns):\n",
    "    user_genres = (\n",
    "        events\n",
    "        .merge(items[[\"item_id\"] + item_genre_columns], on=\"item_id\", how=\"left\")\n",
    "        .groupby(\"user_id\")[item_genre_columns].mean()\n",
    "    )\n",
    "    return user_genres\n",
    "    \n",
    "\n",
    "user_genres_for_train = get_user_genres(events_train, items, genre_columns)"
   ]
  },
  {
   "cell_type": "code",
   "execution_count": 27,
   "id": "485f05f1",
   "metadata": {},
   "outputs": [],
   "source": [
    "# Вставляем жанровые признаки\n",
    "candidates_for_train = candidates_for_train.merge(user_genres_for_train, on=\"user_id\", how=\"left\")"
   ]
  },
  {
   "cell_type": "code",
   "execution_count": 28,
   "id": "d7c5247c",
   "metadata": {},
   "outputs": [
    {
     "data": {
      "text/html": [
       "<div>\n",
       "<style scoped>\n",
       "    .dataframe tbody tr th:only-of-type {\n",
       "        vertical-align: middle;\n",
       "    }\n",
       "\n",
       "    .dataframe tbody tr th {\n",
       "        vertical-align: top;\n",
       "    }\n",
       "\n",
       "    .dataframe thead th {\n",
       "        text-align: right;\n",
       "    }\n",
       "</style>\n",
       "<table border=\"1\" class=\"dataframe\">\n",
       "  <thead>\n",
       "    <tr style=\"text-align: right;\">\n",
       "      <th></th>\n",
       "      <th>user_id</th>\n",
       "      <th>item_id</th>\n",
       "      <th>als_score</th>\n",
       "      <th>target</th>\n",
       "      <th>tracks_played_by_user</th>\n",
       "      <th>genre_0</th>\n",
       "      <th>genre_20</th>\n",
       "      <th>genre_2</th>\n",
       "      <th>genre_11</th>\n",
       "      <th>genre_6</th>\n",
       "      <th>genre_74</th>\n",
       "      <th>genre_21</th>\n",
       "      <th>genre_4</th>\n",
       "      <th>genre_14</th>\n",
       "      <th>genre_10</th>\n",
       "      <th>genre_others</th>\n",
       "    </tr>\n",
       "  </thead>\n",
       "  <tbody>\n",
       "    <tr>\n",
       "      <th>0</th>\n",
       "      <td>0</td>\n",
       "      <td>18860</td>\n",
       "      <td>0.008680</td>\n",
       "      <td>0</td>\n",
       "      <td>9.0</td>\n",
       "      <td>0.166667</td>\n",
       "      <td>0.166667</td>\n",
       "      <td>0.000000</td>\n",
       "      <td>0.000000</td>\n",
       "      <td>0.0</td>\n",
       "      <td>0.166667</td>\n",
       "      <td>0.000000</td>\n",
       "      <td>0.0</td>\n",
       "      <td>0.000000</td>\n",
       "      <td>0.000000</td>\n",
       "      <td>0.500000</td>\n",
       "    </tr>\n",
       "    <tr>\n",
       "      <th>1</th>\n",
       "      <td>0</td>\n",
       "      <td>18385776</td>\n",
       "      <td>0.008127</td>\n",
       "      <td>0</td>\n",
       "      <td>9.0</td>\n",
       "      <td>0.166667</td>\n",
       "      <td>0.166667</td>\n",
       "      <td>0.000000</td>\n",
       "      <td>0.000000</td>\n",
       "      <td>0.0</td>\n",
       "      <td>0.166667</td>\n",
       "      <td>0.000000</td>\n",
       "      <td>0.0</td>\n",
       "      <td>0.000000</td>\n",
       "      <td>0.000000</td>\n",
       "      <td>0.500000</td>\n",
       "    </tr>\n",
       "    <tr>\n",
       "      <th>2</th>\n",
       "      <td>0</td>\n",
       "      <td>60292250</td>\n",
       "      <td>0.007501</td>\n",
       "      <td>0</td>\n",
       "      <td>9.0</td>\n",
       "      <td>0.166667</td>\n",
       "      <td>0.166667</td>\n",
       "      <td>0.000000</td>\n",
       "      <td>0.000000</td>\n",
       "      <td>0.0</td>\n",
       "      <td>0.166667</td>\n",
       "      <td>0.000000</td>\n",
       "      <td>0.0</td>\n",
       "      <td>0.000000</td>\n",
       "      <td>0.000000</td>\n",
       "      <td>0.500000</td>\n",
       "    </tr>\n",
       "    <tr>\n",
       "      <th>3</th>\n",
       "      <td>0</td>\n",
       "      <td>597196</td>\n",
       "      <td>0.007165</td>\n",
       "      <td>1</td>\n",
       "      <td>9.0</td>\n",
       "      <td>0.166667</td>\n",
       "      <td>0.166667</td>\n",
       "      <td>0.000000</td>\n",
       "      <td>0.000000</td>\n",
       "      <td>0.0</td>\n",
       "      <td>0.166667</td>\n",
       "      <td>0.000000</td>\n",
       "      <td>0.0</td>\n",
       "      <td>0.000000</td>\n",
       "      <td>0.000000</td>\n",
       "      <td>0.500000</td>\n",
       "    </tr>\n",
       "    <tr>\n",
       "      <th>4</th>\n",
       "      <td>0</td>\n",
       "      <td>29175370</td>\n",
       "      <td>0.006840</td>\n",
       "      <td>0</td>\n",
       "      <td>9.0</td>\n",
       "      <td>0.166667</td>\n",
       "      <td>0.166667</td>\n",
       "      <td>0.000000</td>\n",
       "      <td>0.000000</td>\n",
       "      <td>0.0</td>\n",
       "      <td>0.166667</td>\n",
       "      <td>0.000000</td>\n",
       "      <td>0.0</td>\n",
       "      <td>0.000000</td>\n",
       "      <td>0.000000</td>\n",
       "      <td>0.500000</td>\n",
       "    </tr>\n",
       "    <tr>\n",
       "      <th>...</th>\n",
       "      <td>...</td>\n",
       "      <td>...</td>\n",
       "      <td>...</td>\n",
       "      <td>...</td>\n",
       "      <td>...</td>\n",
       "      <td>...</td>\n",
       "      <td>...</td>\n",
       "      <td>...</td>\n",
       "      <td>...</td>\n",
       "      <td>...</td>\n",
       "      <td>...</td>\n",
       "      <td>...</td>\n",
       "      <td>...</td>\n",
       "      <td>...</td>\n",
       "      <td>...</td>\n",
       "      <td>...</td>\n",
       "    </tr>\n",
       "    <tr>\n",
       "      <th>68635745</th>\n",
       "      <td>1374582</td>\n",
       "      <td>41631554</td>\n",
       "      <td>0.038625</td>\n",
       "      <td>0</td>\n",
       "      <td>69.0</td>\n",
       "      <td>0.224638</td>\n",
       "      <td>0.086957</td>\n",
       "      <td>0.007246</td>\n",
       "      <td>0.173913</td>\n",
       "      <td>0.0</td>\n",
       "      <td>0.072464</td>\n",
       "      <td>0.014493</td>\n",
       "      <td>0.0</td>\n",
       "      <td>0.101449</td>\n",
       "      <td>0.007246</td>\n",
       "      <td>0.311594</td>\n",
       "    </tr>\n",
       "    <tr>\n",
       "      <th>68635746</th>\n",
       "      <td>1374582</td>\n",
       "      <td>78619463</td>\n",
       "      <td>0.038531</td>\n",
       "      <td>0</td>\n",
       "      <td>69.0</td>\n",
       "      <td>0.224638</td>\n",
       "      <td>0.086957</td>\n",
       "      <td>0.007246</td>\n",
       "      <td>0.173913</td>\n",
       "      <td>0.0</td>\n",
       "      <td>0.072464</td>\n",
       "      <td>0.014493</td>\n",
       "      <td>0.0</td>\n",
       "      <td>0.101449</td>\n",
       "      <td>0.007246</td>\n",
       "      <td>0.311594</td>\n",
       "    </tr>\n",
       "    <tr>\n",
       "      <th>68635747</th>\n",
       "      <td>1374582</td>\n",
       "      <td>70619465</td>\n",
       "      <td>0.038283</td>\n",
       "      <td>0</td>\n",
       "      <td>69.0</td>\n",
       "      <td>0.224638</td>\n",
       "      <td>0.086957</td>\n",
       "      <td>0.007246</td>\n",
       "      <td>0.173913</td>\n",
       "      <td>0.0</td>\n",
       "      <td>0.072464</td>\n",
       "      <td>0.014493</td>\n",
       "      <td>0.0</td>\n",
       "      <td>0.101449</td>\n",
       "      <td>0.007246</td>\n",
       "      <td>0.311594</td>\n",
       "    </tr>\n",
       "    <tr>\n",
       "      <th>68635748</th>\n",
       "      <td>1374582</td>\n",
       "      <td>2758009</td>\n",
       "      <td>0.037921</td>\n",
       "      <td>0</td>\n",
       "      <td>69.0</td>\n",
       "      <td>0.224638</td>\n",
       "      <td>0.086957</td>\n",
       "      <td>0.007246</td>\n",
       "      <td>0.173913</td>\n",
       "      <td>0.0</td>\n",
       "      <td>0.072464</td>\n",
       "      <td>0.014493</td>\n",
       "      <td>0.0</td>\n",
       "      <td>0.101449</td>\n",
       "      <td>0.007246</td>\n",
       "      <td>0.311594</td>\n",
       "    </tr>\n",
       "    <tr>\n",
       "      <th>68635749</th>\n",
       "      <td>1374582</td>\n",
       "      <td>68562711</td>\n",
       "      <td>0.037874</td>\n",
       "      <td>0</td>\n",
       "      <td>69.0</td>\n",
       "      <td>0.224638</td>\n",
       "      <td>0.086957</td>\n",
       "      <td>0.007246</td>\n",
       "      <td>0.173913</td>\n",
       "      <td>0.0</td>\n",
       "      <td>0.072464</td>\n",
       "      <td>0.014493</td>\n",
       "      <td>0.0</td>\n",
       "      <td>0.101449</td>\n",
       "      <td>0.007246</td>\n",
       "      <td>0.311594</td>\n",
       "    </tr>\n",
       "  </tbody>\n",
       "</table>\n",
       "<p>68635750 rows × 16 columns</p>\n",
       "</div>"
      ],
      "text/plain": [
       "          user_id   item_id  als_score  target  tracks_played_by_user  \\\n",
       "0               0     18860   0.008680       0                    9.0   \n",
       "1               0  18385776   0.008127       0                    9.0   \n",
       "2               0  60292250   0.007501       0                    9.0   \n",
       "3               0    597196   0.007165       1                    9.0   \n",
       "4               0  29175370   0.006840       0                    9.0   \n",
       "...           ...       ...        ...     ...                    ...   \n",
       "68635745  1374582  41631554   0.038625       0                   69.0   \n",
       "68635746  1374582  78619463   0.038531       0                   69.0   \n",
       "68635747  1374582  70619465   0.038283       0                   69.0   \n",
       "68635748  1374582   2758009   0.037921       0                   69.0   \n",
       "68635749  1374582  68562711   0.037874       0                   69.0   \n",
       "\n",
       "           genre_0  genre_20   genre_2  genre_11  genre_6  genre_74  genre_21  \\\n",
       "0         0.166667  0.166667  0.000000  0.000000      0.0  0.166667  0.000000   \n",
       "1         0.166667  0.166667  0.000000  0.000000      0.0  0.166667  0.000000   \n",
       "2         0.166667  0.166667  0.000000  0.000000      0.0  0.166667  0.000000   \n",
       "3         0.166667  0.166667  0.000000  0.000000      0.0  0.166667  0.000000   \n",
       "4         0.166667  0.166667  0.000000  0.000000      0.0  0.166667  0.000000   \n",
       "...            ...       ...       ...       ...      ...       ...       ...   \n",
       "68635745  0.224638  0.086957  0.007246  0.173913      0.0  0.072464  0.014493   \n",
       "68635746  0.224638  0.086957  0.007246  0.173913      0.0  0.072464  0.014493   \n",
       "68635747  0.224638  0.086957  0.007246  0.173913      0.0  0.072464  0.014493   \n",
       "68635748  0.224638  0.086957  0.007246  0.173913      0.0  0.072464  0.014493   \n",
       "68635749  0.224638  0.086957  0.007246  0.173913      0.0  0.072464  0.014493   \n",
       "\n",
       "          genre_4  genre_14  genre_10  genre_others  \n",
       "0             0.0  0.000000  0.000000      0.500000  \n",
       "1             0.0  0.000000  0.000000      0.500000  \n",
       "2             0.0  0.000000  0.000000      0.500000  \n",
       "3             0.0  0.000000  0.000000      0.500000  \n",
       "4             0.0  0.000000  0.000000      0.500000  \n",
       "...           ...       ...       ...           ...  \n",
       "68635745      0.0  0.101449  0.007246      0.311594  \n",
       "68635746      0.0  0.101449  0.007246      0.311594  \n",
       "68635747      0.0  0.101449  0.007246      0.311594  \n",
       "68635748      0.0  0.101449  0.007246      0.311594  \n",
       "68635749      0.0  0.101449  0.007246      0.311594  \n",
       "\n",
       "[68635750 rows x 16 columns]"
      ]
     },
     "execution_count": 28,
     "metadata": {},
     "output_type": "execute_result"
    }
   ],
   "source": [
    "# Смотрим результат\n",
    "candidates_for_train"
   ]
  },
  {
   "cell_type": "code",
   "execution_count": null,
   "id": "60d13452",
   "metadata": {},
   "outputs": [],
   "source": [
    "# Сохраняем в файл\n",
    "candidates_for_train.to_parquet('candidates_for_train.parquet')"
   ]
  },
  {
   "cell_type": "markdown",
   "id": "88cfd377",
   "metadata": {},
   "source": [
    "Далее, чтобы избежать сбоя в работе, необходимо снова __перезапустить ядро__, выполнить ячейки в разделе `Инициализация`\n",
    "и заново загрузить обучающий датасет"
   ]
  },
  {
   "cell_type": "code",
   "execution_count": 3,
   "id": "851abc91",
   "metadata": {},
   "outputs": [],
   "source": [
    "candidates_for_train = pd.read_parquet('candidates_for_train.parquet')"
   ]
  },
  {
   "attachments": {},
   "cell_type": "markdown",
   "id": "b9eb493e",
   "metadata": {},
   "source": [
    "Обучаем ранжирующую модель"
   ]
  },
  {
   "cell_type": "code",
   "execution_count": 4,
   "id": "d70b4d20",
   "metadata": {},
   "outputs": [
    {
     "name": "stdout",
     "output_type": "stream",
     "text": [
      "0:\tlearn: 0.5629312\ttotal: 5.79s\tremaining: 48m 6s\n",
      "50:\tlearn: 0.2044588\ttotal: 4m 45s\tremaining: 41m 52s\n",
      "100:\tlearn: 0.2042647\ttotal: 9m 19s\tremaining: 36m 50s\n",
      "150:\tlearn: 0.2041553\ttotal: 13m 49s\tremaining: 31m 56s\n",
      "200:\tlearn: 0.2040402\ttotal: 18m 22s\tremaining: 27m 20s\n",
      "250:\tlearn: 0.2039826\ttotal: 22m 55s\tremaining: 22m 44s\n",
      "300:\tlearn: 0.2039283\ttotal: 27m 23s\tremaining: 18m 6s\n",
      "350:\tlearn: 0.2038898\ttotal: 31m 54s\tremaining: 13m 32s\n",
      "400:\tlearn: 0.2038629\ttotal: 36m 24s\tremaining: 8m 59s\n",
      "450:\tlearn: 0.2038366\ttotal: 40m 52s\tremaining: 4m 26s\n",
      "499:\tlearn: 0.2038136\ttotal: 45m 15s\tremaining: 0us\n"
     ]
    },
    {
     "data": {
      "text/plain": [
       "<catboost.core.CatBoostClassifier at 0x7f95406ea9b0>"
      ]
     },
     "execution_count": 4,
     "metadata": {},
     "output_type": "execute_result"
    }
   ],
   "source": [
    "# задаём имена колонок признаков и таргета\n",
    "features = candidates_for_train.columns.drop(['user_id', 'item_id', 'target'])\n",
    "target = 'target'\n",
    "\n",
    "# Create the Pool object\n",
    "train_data = Pool(\n",
    "    data=candidates_for_train[features], \n",
    "    label=candidates_for_train[target])\n",
    "\n",
    "# инициализируем модель CatBoostClassifier\n",
    "cb_model = CatBoostClassifier(\n",
    "    iterations=500,\n",
    "    learning_rate=0.1,\n",
    "    depth=6,\n",
    "    loss_function='Logloss',\n",
    "    verbose=50,\n",
    "    random_seed=0\n",
    ")\n",
    "\n",
    "# тренируем модель\n",
    "cb_model.fit(train_data)"
   ]
  },
  {
   "cell_type": "markdown",
   "id": "737f145f",
   "metadata": {},
   "source": [
    "Посмотрим, какие признаки вносят наибольший вклад в ранжирование"
   ]
  },
  {
   "cell_type": "code",
   "execution_count": 35,
   "id": "9525aaf8",
   "metadata": {},
   "outputs": [
    {
     "data": {
      "text/html": [
       "<div>\n",
       "<style scoped>\n",
       "    .dataframe tbody tr th:only-of-type {\n",
       "        vertical-align: middle;\n",
       "    }\n",
       "\n",
       "    .dataframe tbody tr th {\n",
       "        vertical-align: top;\n",
       "    }\n",
       "\n",
       "    .dataframe thead th {\n",
       "        text-align: right;\n",
       "    }\n",
       "</style>\n",
       "<table border=\"1\" class=\"dataframe\">\n",
       "  <thead>\n",
       "    <tr style=\"text-align: right;\">\n",
       "      <th></th>\n",
       "      <th>fi</th>\n",
       "    </tr>\n",
       "  </thead>\n",
       "  <tbody>\n",
       "    <tr>\n",
       "      <th>als_score</th>\n",
       "      <td>90.661823</td>\n",
       "    </tr>\n",
       "    <tr>\n",
       "      <th>tracks_played_by_user</th>\n",
       "      <td>6.276059</td>\n",
       "    </tr>\n",
       "    <tr>\n",
       "      <th>genre_0</th>\n",
       "      <td>0.724963</td>\n",
       "    </tr>\n",
       "    <tr>\n",
       "      <th>genre_others</th>\n",
       "      <td>0.670208</td>\n",
       "    </tr>\n",
       "    <tr>\n",
       "      <th>genre_11</th>\n",
       "      <td>0.405411</td>\n",
       "    </tr>\n",
       "    <tr>\n",
       "      <th>genre_14</th>\n",
       "      <td>0.320336</td>\n",
       "    </tr>\n",
       "    <tr>\n",
       "      <th>genre_2</th>\n",
       "      <td>0.305623</td>\n",
       "    </tr>\n",
       "    <tr>\n",
       "      <th>genre_4</th>\n",
       "      <td>0.183729</td>\n",
       "    </tr>\n",
       "    <tr>\n",
       "      <th>genre_21</th>\n",
       "      <td>0.131992</td>\n",
       "    </tr>\n",
       "    <tr>\n",
       "      <th>genre_74</th>\n",
       "      <td>0.089622</td>\n",
       "    </tr>\n",
       "    <tr>\n",
       "      <th>genre_10</th>\n",
       "      <td>0.085133</td>\n",
       "    </tr>\n",
       "    <tr>\n",
       "      <th>genre_6</th>\n",
       "      <td>0.074655</td>\n",
       "    </tr>\n",
       "    <tr>\n",
       "      <th>genre_20</th>\n",
       "      <td>0.070445</td>\n",
       "    </tr>\n",
       "  </tbody>\n",
       "</table>\n",
       "</div>"
      ],
      "text/plain": [
       "                              fi\n",
       "als_score              90.661823\n",
       "tracks_played_by_user   6.276059\n",
       "genre_0                 0.724963\n",
       "genre_others            0.670208\n",
       "genre_11                0.405411\n",
       "genre_14                0.320336\n",
       "genre_2                 0.305623\n",
       "genre_4                 0.183729\n",
       "genre_21                0.131992\n",
       "genre_74                0.089622\n",
       "genre_10                0.085133\n",
       "genre_6                 0.074655\n",
       "genre_20                0.070445"
      ]
     },
     "execution_count": 35,
     "metadata": {},
     "output_type": "execute_result"
    }
   ],
   "source": [
    "feature_importance = pd.DataFrame(cb_model.get_feature_importance(), \n",
    "    index=features, \n",
    "    columns=[\"fi\"])\n",
    "\n",
    "feature_importance = feature_importance.sort_values('fi', ascending=False)\n",
    "feature_importance"
   ]
  },
  {
   "cell_type": "markdown",
   "id": "9bbacee8",
   "metadata": {},
   "source": [
    "Таким образом, коллаборативные оценки являются ключевым признаком."
   ]
  },
  {
   "cell_type": "code",
   "execution_count": 5,
   "id": "39607406",
   "metadata": {},
   "outputs": [],
   "source": [
    "# Сохраняем ранжирующую модель\n",
    "os.makedirs('models/', exist_ok=True)\n",
    "cb_model.save_model('models/cb_model.cbm')"
   ]
  },
  {
   "cell_type": "markdown",
   "id": "376c09b6",
   "metadata": {},
   "source": [
    "С помощью полученной модели сгенерируем финальные рекомендации, но сначала __перезапустим ядро__, выполним ячейки в разделе `Инциализация` и загрузим недостающие данные"
   ]
  },
  {
   "cell_type": "code",
   "execution_count": 5,
   "id": "7b29fe1d",
   "metadata": {},
   "outputs": [],
   "source": [
    "# Загружаем события\n",
    "events = pd.read_parquet(\"events.parquet\")"
   ]
  },
  {
   "cell_type": "code",
   "execution_count": 6,
   "id": "023baff2",
   "metadata": {},
   "outputs": [],
   "source": [
    "# Зададим точку разбиения\n",
    "train_test_global_time_split_date = pd.to_datetime(\"2022-12-16\")\n",
    "\n",
    "# Формируем тестовую часть\n",
    "train_test_global_time_split_idx = events[\"started_at\"] < train_test_global_time_split_date\n",
    "events_test = events[~train_test_global_time_split_idx]"
   ]
  },
  {
   "cell_type": "code",
   "execution_count": 7,
   "id": "97dad178",
   "metadata": {},
   "outputs": [
    {
     "data": {
      "text/plain": [
       "475"
      ]
     },
     "execution_count": 7,
     "metadata": {},
     "output_type": "execute_result"
    }
   ],
   "source": [
    "# Удаляем из памяти лишние данные\n",
    "del events\n",
    "gc.collect()"
   ]
  },
  {
   "cell_type": "code",
   "execution_count": 8,
   "id": "fdfdfa48",
   "metadata": {},
   "outputs": [],
   "source": [
    "# Загружаем обучающую выборку \n",
    "candidates_for_train = pd.read_parquet('candidates_for_train.parquet')"
   ]
  },
  {
   "cell_type": "code",
   "execution_count": 12,
   "id": "fce2369c",
   "metadata": {},
   "outputs": [],
   "source": [
    "# Извлекаем названия признаков\n",
    "features = candidates_for_train.columns.drop(['user_id', 'item_id', 'target'])"
   ]
  },
  {
   "cell_type": "code",
   "execution_count": 10,
   "id": "e89b28c3",
   "metadata": {},
   "outputs": [],
   "source": [
    "# оставляем только тех пользователей, что есть в тестовой выборке, для экономии ресурсов\n",
    "candidates_to_rank = \\\n",
    "    candidates_for_train[candidates_for_train[\"user_id\"].isin(events_test[\"user_id\"].drop_duplicates())]"
   ]
  },
  {
   "cell_type": "code",
   "execution_count": 11,
   "id": "64ae77db",
   "metadata": {},
   "outputs": [
    {
     "data": {
      "text/plain": [
       "0"
      ]
     },
     "execution_count": 11,
     "metadata": {},
     "output_type": "execute_result"
    }
   ],
   "source": [
    "# Удаляем из памяти лишние данные\n",
    "del candidates_for_train\n",
    "del events_test\n",
    "gc.collect()"
   ]
  },
  {
   "cell_type": "code",
   "execution_count": 34,
   "id": "cbf33ca5",
   "metadata": {},
   "outputs": [
    {
     "data": {
      "text/plain": [
       "<catboost.core.CatBoostClassifier at 0x7f87a9d377f0>"
      ]
     },
     "execution_count": 34,
     "metadata": {},
     "output_type": "execute_result"
    }
   ],
   "source": [
    "# Загружаем ранжирующую модель\n",
    "cb_model = CatBoostClassifier()\n",
    "cb_model.load_model('models/cb_model.cbm')"
   ]
  },
  {
   "attachments": {},
   "cell_type": "markdown",
   "id": "254b2c21",
   "metadata": {},
   "source": [
    "Теперь можно получить финальные рекомендации"
   ]
  },
  {
   "cell_type": "code",
   "execution_count": 14,
   "id": "ed03f1bc",
   "metadata": {},
   "outputs": [],
   "source": [
    "inference_data = Pool(data=candidates_to_rank[features])\n",
    "predictions = cb_model.predict_proba(inference_data)\n",
    "\n",
    "candidates_to_rank[\"cb_score\"] = predictions[:, 1]\n",
    "\n",
    "# для каждого пользователя проставляем rank, начиная с 1 — это максимальный cb_score\n",
    "candidates_to_rank = candidates_to_rank.sort_values([\"user_id\", \"cb_score\"], ascending=[True, False])\n",
    "candidates_to_rank[\"rank\"] = candidates_to_rank.groupby('user_id').cumcount() + 1 \n",
    "\n",
    "max_recommendations_per_user = 50\n",
    "recommendations = candidates_to_rank.query('rank <= @max_recommendations_per_user') \\\n",
    "    .rename(columns={\"cb_score\": \"score\"}) \\\n",
    "        .drop(columns='target')"
   ]
  },
  {
   "cell_type": "code",
   "execution_count": 15,
   "id": "a1952a15",
   "metadata": {},
   "outputs": [
    {
     "data": {
      "text/html": [
       "<div>\n",
       "<style scoped>\n",
       "    .dataframe tbody tr th:only-of-type {\n",
       "        vertical-align: middle;\n",
       "    }\n",
       "\n",
       "    .dataframe tbody tr th {\n",
       "        vertical-align: top;\n",
       "    }\n",
       "\n",
       "    .dataframe thead th {\n",
       "        text-align: right;\n",
       "    }\n",
       "</style>\n",
       "<table border=\"1\" class=\"dataframe\">\n",
       "  <thead>\n",
       "    <tr style=\"text-align: right;\">\n",
       "      <th></th>\n",
       "      <th>user_id</th>\n",
       "      <th>item_id</th>\n",
       "      <th>als_score</th>\n",
       "      <th>tracks_played_by_user</th>\n",
       "      <th>genre_0</th>\n",
       "      <th>genre_20</th>\n",
       "      <th>genre_2</th>\n",
       "      <th>genre_11</th>\n",
       "      <th>genre_6</th>\n",
       "      <th>genre_74</th>\n",
       "      <th>genre_21</th>\n",
       "      <th>genre_4</th>\n",
       "      <th>genre_14</th>\n",
       "      <th>genre_10</th>\n",
       "      <th>genre_others</th>\n",
       "      <th>score</th>\n",
       "      <th>rank</th>\n",
       "    </tr>\n",
       "  </thead>\n",
       "  <tbody>\n",
       "    <tr>\n",
       "      <th>200</th>\n",
       "      <td>4</td>\n",
       "      <td>694683</td>\n",
       "      <td>0.134906</td>\n",
       "      <td>81.0</td>\n",
       "      <td>0.045267</td>\n",
       "      <td>0.092593</td>\n",
       "      <td>0.166667</td>\n",
       "      <td>0.037037</td>\n",
       "      <td>0.024691</td>\n",
       "      <td>0.024691</td>\n",
       "      <td>0.067901</td>\n",
       "      <td>0.080247</td>\n",
       "      <td>0.024691</td>\n",
       "      <td>0.018519</td>\n",
       "      <td>0.417695</td>\n",
       "      <td>0.178429</td>\n",
       "      <td>1</td>\n",
       "    </tr>\n",
       "    <tr>\n",
       "      <th>201</th>\n",
       "      <td>4</td>\n",
       "      <td>986</td>\n",
       "      <td>0.133759</td>\n",
       "      <td>81.0</td>\n",
       "      <td>0.045267</td>\n",
       "      <td>0.092593</td>\n",
       "      <td>0.166667</td>\n",
       "      <td>0.037037</td>\n",
       "      <td>0.024691</td>\n",
       "      <td>0.024691</td>\n",
       "      <td>0.067901</td>\n",
       "      <td>0.080247</td>\n",
       "      <td>0.024691</td>\n",
       "      <td>0.018519</td>\n",
       "      <td>0.417695</td>\n",
       "      <td>0.174563</td>\n",
       "      <td>2</td>\n",
       "    </tr>\n",
       "    <tr>\n",
       "      <th>202</th>\n",
       "      <td>4</td>\n",
       "      <td>9769</td>\n",
       "      <td>0.097650</td>\n",
       "      <td>81.0</td>\n",
       "      <td>0.045267</td>\n",
       "      <td>0.092593</td>\n",
       "      <td>0.166667</td>\n",
       "      <td>0.037037</td>\n",
       "      <td>0.024691</td>\n",
       "      <td>0.024691</td>\n",
       "      <td>0.067901</td>\n",
       "      <td>0.080247</td>\n",
       "      <td>0.024691</td>\n",
       "      <td>0.018519</td>\n",
       "      <td>0.417695</td>\n",
       "      <td>0.130159</td>\n",
       "      <td>3</td>\n",
       "    </tr>\n",
       "    <tr>\n",
       "      <th>203</th>\n",
       "      <td>4</td>\n",
       "      <td>18820599</td>\n",
       "      <td>0.091692</td>\n",
       "      <td>81.0</td>\n",
       "      <td>0.045267</td>\n",
       "      <td>0.092593</td>\n",
       "      <td>0.166667</td>\n",
       "      <td>0.037037</td>\n",
       "      <td>0.024691</td>\n",
       "      <td>0.024691</td>\n",
       "      <td>0.067901</td>\n",
       "      <td>0.080247</td>\n",
       "      <td>0.024691</td>\n",
       "      <td>0.018519</td>\n",
       "      <td>0.417695</td>\n",
       "      <td>0.124158</td>\n",
       "      <td>4</td>\n",
       "    </tr>\n",
       "    <tr>\n",
       "      <th>204</th>\n",
       "      <td>4</td>\n",
       "      <td>647040</td>\n",
       "      <td>0.087509</td>\n",
       "      <td>81.0</td>\n",
       "      <td>0.045267</td>\n",
       "      <td>0.092593</td>\n",
       "      <td>0.166667</td>\n",
       "      <td>0.037037</td>\n",
       "      <td>0.024691</td>\n",
       "      <td>0.024691</td>\n",
       "      <td>0.067901</td>\n",
       "      <td>0.080247</td>\n",
       "      <td>0.024691</td>\n",
       "      <td>0.018519</td>\n",
       "      <td>0.417695</td>\n",
       "      <td>0.114537</td>\n",
       "      <td>5</td>\n",
       "    </tr>\n",
       "    <tr>\n",
       "      <th>...</th>\n",
       "      <td>...</td>\n",
       "      <td>...</td>\n",
       "      <td>...</td>\n",
       "      <td>...</td>\n",
       "      <td>...</td>\n",
       "      <td>...</td>\n",
       "      <td>...</td>\n",
       "      <td>...</td>\n",
       "      <td>...</td>\n",
       "      <td>...</td>\n",
       "      <td>...</td>\n",
       "      <td>...</td>\n",
       "      <td>...</td>\n",
       "      <td>...</td>\n",
       "      <td>...</td>\n",
       "      <td>...</td>\n",
       "      <td>...</td>\n",
       "    </tr>\n",
       "    <tr>\n",
       "      <th>68635745</th>\n",
       "      <td>1374582</td>\n",
       "      <td>41631554</td>\n",
       "      <td>0.038625</td>\n",
       "      <td>69.0</td>\n",
       "      <td>0.224638</td>\n",
       "      <td>0.086957</td>\n",
       "      <td>0.007246</td>\n",
       "      <td>0.173913</td>\n",
       "      <td>0.000000</td>\n",
       "      <td>0.072464</td>\n",
       "      <td>0.014493</td>\n",
       "      <td>0.000000</td>\n",
       "      <td>0.101449</td>\n",
       "      <td>0.007246</td>\n",
       "      <td>0.311594</td>\n",
       "      <td>0.052374</td>\n",
       "      <td>46</td>\n",
       "    </tr>\n",
       "    <tr>\n",
       "      <th>68635746</th>\n",
       "      <td>1374582</td>\n",
       "      <td>78619463</td>\n",
       "      <td>0.038531</td>\n",
       "      <td>69.0</td>\n",
       "      <td>0.224638</td>\n",
       "      <td>0.086957</td>\n",
       "      <td>0.007246</td>\n",
       "      <td>0.173913</td>\n",
       "      <td>0.000000</td>\n",
       "      <td>0.072464</td>\n",
       "      <td>0.014493</td>\n",
       "      <td>0.000000</td>\n",
       "      <td>0.101449</td>\n",
       "      <td>0.007246</td>\n",
       "      <td>0.311594</td>\n",
       "      <td>0.052374</td>\n",
       "      <td>47</td>\n",
       "    </tr>\n",
       "    <tr>\n",
       "      <th>68635747</th>\n",
       "      <td>1374582</td>\n",
       "      <td>70619465</td>\n",
       "      <td>0.038283</td>\n",
       "      <td>69.0</td>\n",
       "      <td>0.224638</td>\n",
       "      <td>0.086957</td>\n",
       "      <td>0.007246</td>\n",
       "      <td>0.173913</td>\n",
       "      <td>0.000000</td>\n",
       "      <td>0.072464</td>\n",
       "      <td>0.014493</td>\n",
       "      <td>0.000000</td>\n",
       "      <td>0.101449</td>\n",
       "      <td>0.007246</td>\n",
       "      <td>0.311594</td>\n",
       "      <td>0.052210</td>\n",
       "      <td>48</td>\n",
       "    </tr>\n",
       "    <tr>\n",
       "      <th>68635748</th>\n",
       "      <td>1374582</td>\n",
       "      <td>2758009</td>\n",
       "      <td>0.037921</td>\n",
       "      <td>69.0</td>\n",
       "      <td>0.224638</td>\n",
       "      <td>0.086957</td>\n",
       "      <td>0.007246</td>\n",
       "      <td>0.173913</td>\n",
       "      <td>0.000000</td>\n",
       "      <td>0.072464</td>\n",
       "      <td>0.014493</td>\n",
       "      <td>0.000000</td>\n",
       "      <td>0.101449</td>\n",
       "      <td>0.007246</td>\n",
       "      <td>0.311594</td>\n",
       "      <td>0.052210</td>\n",
       "      <td>49</td>\n",
       "    </tr>\n",
       "    <tr>\n",
       "      <th>68635749</th>\n",
       "      <td>1374582</td>\n",
       "      <td>68562711</td>\n",
       "      <td>0.037874</td>\n",
       "      <td>69.0</td>\n",
       "      <td>0.224638</td>\n",
       "      <td>0.086957</td>\n",
       "      <td>0.007246</td>\n",
       "      <td>0.173913</td>\n",
       "      <td>0.000000</td>\n",
       "      <td>0.072464</td>\n",
       "      <td>0.014493</td>\n",
       "      <td>0.000000</td>\n",
       "      <td>0.101449</td>\n",
       "      <td>0.007246</td>\n",
       "      <td>0.311594</td>\n",
       "      <td>0.052210</td>\n",
       "      <td>50</td>\n",
       "    </tr>\n",
       "  </tbody>\n",
       "</table>\n",
       "<p>33090600 rows × 17 columns</p>\n",
       "</div>"
      ],
      "text/plain": [
       "          user_id   item_id  als_score  tracks_played_by_user   genre_0  \\\n",
       "200             4    694683   0.134906                   81.0  0.045267   \n",
       "201             4       986   0.133759                   81.0  0.045267   \n",
       "202             4      9769   0.097650                   81.0  0.045267   \n",
       "203             4  18820599   0.091692                   81.0  0.045267   \n",
       "204             4    647040   0.087509                   81.0  0.045267   \n",
       "...           ...       ...        ...                    ...       ...   \n",
       "68635745  1374582  41631554   0.038625                   69.0  0.224638   \n",
       "68635746  1374582  78619463   0.038531                   69.0  0.224638   \n",
       "68635747  1374582  70619465   0.038283                   69.0  0.224638   \n",
       "68635748  1374582   2758009   0.037921                   69.0  0.224638   \n",
       "68635749  1374582  68562711   0.037874                   69.0  0.224638   \n",
       "\n",
       "          genre_20   genre_2  genre_11   genre_6  genre_74  genre_21  \\\n",
       "200       0.092593  0.166667  0.037037  0.024691  0.024691  0.067901   \n",
       "201       0.092593  0.166667  0.037037  0.024691  0.024691  0.067901   \n",
       "202       0.092593  0.166667  0.037037  0.024691  0.024691  0.067901   \n",
       "203       0.092593  0.166667  0.037037  0.024691  0.024691  0.067901   \n",
       "204       0.092593  0.166667  0.037037  0.024691  0.024691  0.067901   \n",
       "...            ...       ...       ...       ...       ...       ...   \n",
       "68635745  0.086957  0.007246  0.173913  0.000000  0.072464  0.014493   \n",
       "68635746  0.086957  0.007246  0.173913  0.000000  0.072464  0.014493   \n",
       "68635747  0.086957  0.007246  0.173913  0.000000  0.072464  0.014493   \n",
       "68635748  0.086957  0.007246  0.173913  0.000000  0.072464  0.014493   \n",
       "68635749  0.086957  0.007246  0.173913  0.000000  0.072464  0.014493   \n",
       "\n",
       "           genre_4  genre_14  genre_10  genre_others     score  rank  \n",
       "200       0.080247  0.024691  0.018519      0.417695  0.178429     1  \n",
       "201       0.080247  0.024691  0.018519      0.417695  0.174563     2  \n",
       "202       0.080247  0.024691  0.018519      0.417695  0.130159     3  \n",
       "203       0.080247  0.024691  0.018519      0.417695  0.124158     4  \n",
       "204       0.080247  0.024691  0.018519      0.417695  0.114537     5  \n",
       "...            ...       ...       ...           ...       ...   ...  \n",
       "68635745  0.000000  0.101449  0.007246      0.311594  0.052374    46  \n",
       "68635746  0.000000  0.101449  0.007246      0.311594  0.052374    47  \n",
       "68635747  0.000000  0.101449  0.007246      0.311594  0.052210    48  \n",
       "68635748  0.000000  0.101449  0.007246      0.311594  0.052210    49  \n",
       "68635749  0.000000  0.101449  0.007246      0.311594  0.052210    50  \n",
       "\n",
       "[33090600 rows x 17 columns]"
      ]
     },
     "execution_count": 15,
     "metadata": {},
     "output_type": "execute_result"
    }
   ],
   "source": [
    "# Смотрим результат\n",
    "recommendations"
   ]
  },
  {
   "cell_type": "code",
   "execution_count": 16,
   "id": "024d7b70",
   "metadata": {},
   "outputs": [],
   "source": [
    "# Сохраняем финальные рекомендации в файл\n",
    "recommendations.to_parquet(\"recommendations.parquet\")"
   ]
  },
  {
   "cell_type": "code",
   "execution_count": 20,
   "id": "e0e8ce1a",
   "metadata": {},
   "outputs": [
    {
     "data": {
      "text/plain": [
       "483"
      ]
     },
     "execution_count": 20,
     "metadata": {},
     "output_type": "execute_result"
    }
   ],
   "source": [
    "# Удалим из памяти лишние данные \n",
    "del candidates_to_rank\n",
    "del cb_model\n",
    "gc.collect()"
   ]
  },
  {
   "attachments": {},
   "cell_type": "markdown",
   "id": "4139fbb6",
   "metadata": {},
   "source": [
    "Проведем валидацию финальных рекомендаций, но сначала загрузим недостающие данные.\n",
    "Также нужно будет выполнить ячейки, в которых объявлены функции \n",
    "`process_events_recs_for_binary_metrics` и `compute_cls_metrics`"
   ]
  },
  {
   "cell_type": "code",
   "execution_count": 21,
   "id": "de991930",
   "metadata": {},
   "outputs": [],
   "source": [
    "# Загружаем события\n",
    "events = pd.read_parquet(\"events.parquet\")"
   ]
  },
  {
   "cell_type": "code",
   "execution_count": 22,
   "id": "695e6656",
   "metadata": {},
   "outputs": [],
   "source": [
    "# Зададим точку разбиения\n",
    "train_test_global_time_split_date = pd.to_datetime(\"2022-12-16\")\n",
    "\n",
    "train_test_global_time_split_idx = events[\"started_at\"] < train_test_global_time_split_date\n",
    "events_train = events[train_test_global_time_split_idx]\n",
    "events_test = events[~train_test_global_time_split_idx]"
   ]
  },
  {
   "cell_type": "code",
   "execution_count": 23,
   "id": "bf67c199",
   "metadata": {},
   "outputs": [
    {
     "data": {
      "text/plain": [
       "0"
      ]
     },
     "execution_count": 23,
     "metadata": {},
     "output_type": "execute_result"
    }
   ],
   "source": [
    "# Удаляем из памяти лишние данные\n",
    "del events\n",
    "gc.collect()"
   ]
  },
  {
   "cell_type": "markdown",
   "id": "fe72d154",
   "metadata": {},
   "source": [
    "Посчитаем метрики recall и precision, используя отложенную тестовую выборку, \n",
    "а также функции process_events_recs_for_binary_metrics и compute_cls_metrics."
   ]
  },
  {
   "cell_type": "code",
   "execution_count": 25,
   "id": "7d4a5471",
   "metadata": {},
   "outputs": [
    {
     "name": "stdout",
     "output_type": "stream",
     "text": [
      "Common users: 661812\n"
     ]
    }
   ],
   "source": [
    "cb_events_recs_for_binary_metrics_5 = process_events_recs_for_binary_metrics(\n",
    "    events_train,\n",
    "    events_test, \n",
    "    recommendations, \n",
    "    top_k=5)\n",
    "\n",
    "cb_precision_5, cb_recall_5 = compute_cls_metrics(cb_events_recs_for_binary_metrics_5) "
   ]
  },
  {
   "cell_type": "code",
   "execution_count": 26,
   "id": "14ecf4d8",
   "metadata": {},
   "outputs": [
    {
     "name": "stdout",
     "output_type": "stream",
     "text": [
      "precision: 0.00221120197276568, recall: 0.0035821792213521293\n"
     ]
    }
   ],
   "source": [
    "print(f\"precision: {cb_precision_5}, recall: {cb_recall_5}\")"
   ]
  },
  {
   "attachments": {},
   "cell_type": "markdown",
   "id": "566eae25",
   "metadata": {},
   "source": [
    "Найдем покрытие по объектам"
   ]
  },
  {
   "cell_type": "code",
   "execution_count": 28,
   "id": "42ad5daf",
   "metadata": {},
   "outputs": [],
   "source": [
    "# Загружаем объекты\n",
    "items = pd.read_parquet('items.parquet')"
   ]
  },
  {
   "cell_type": "code",
   "execution_count": 29,
   "id": "bdad2a11",
   "metadata": {},
   "outputs": [
    {
     "name": "stdout",
     "output_type": "stream",
     "text": [
      "0.003976647770538962\n"
     ]
    }
   ],
   "source": [
    "cov_items = recommendations['item_id'].nunique() / len(items) \n",
    "print(cov_items)"
   ]
  },
  {
   "attachments": {},
   "cell_type": "markdown",
   "id": "609e5882",
   "metadata": {},
   "source": [
    "Посчитаем среднее Novelty@5"
   ]
  },
  {
   "cell_type": "code",
   "execution_count": 30,
   "id": "71d6fc6d",
   "metadata": {},
   "outputs": [
    {
     "name": "stdout",
     "output_type": "stream",
     "text": [
      "0.7806730612318908\n"
     ]
    }
   ],
   "source": [
    "# разметим каждую рекомендацию признаком played\n",
    "events_train[\"played\"] = True\n",
    "recommendations = recommendations \\\n",
    "    .merge(events_train[['played', \"user_id\", \"item_id\"]], on=[\"user_id\", \"item_id\"], how=\"left\")\n",
    "recommendations[\"played\"] = recommendations[\"played\"].fillna(False).astype(\"bool\")\n",
    "\n",
    "# проставим ранги\n",
    "recommendations = recommendations.sort_values(by='score', ascending=False) \n",
    "recommendations[\"rank\"] = recommendations.groupby(\"user_id\").cumcount() + 1\n",
    "\n",
    "# посчитаем novelty по пользователям\n",
    "novelty_5 = (1 - recommendations.query(\"rank <= 5\").groupby(\"user_id\")[\"played\"].mean())\n",
    "\n",
    "# посчитаем средний novelty\n",
    "novelty_5_mean = novelty_5.mean()\n",
    "print(novelty_5_mean)"
   ]
  },
  {
   "cell_type": "markdown",
   "id": "0b336c0a",
   "metadata": {},
   "source": [
    "Видим, что у финальных рекомендаций почти такие же метрики, как и у коллаборативных als-рекомендаций,\n",
    "поскольку оценки последней вносят наибольший вклад в ранжирующую модель.\n",
    "\n",
    "В конце сохраняем файлы с рекомендациями в S3-хранилище"
   ]
  },
  {
   "cell_type": "code",
   "execution_count": 29,
   "id": "ef80e9ee",
   "metadata": {},
   "outputs": [],
   "source": [
    "# Сохраняем файлы в S3-хранилище\n",
    "\n",
    "s3_client.upload_file('top_popular.parquet', os.environ.get(\"S3_BUCKET_NAME\"), 'recsys/recommendations/top_popular.parquet')\n",
    "s3_client.upload_file('personal_als.parquet', os.environ.get(\"S3_BUCKET_NAME\"), 'recsys/recommendations/personal_als.parquet')\n",
    "s3_client.upload_file('similar.parquet', os.environ.get(\"S3_BUCKET_NAME\"), 'recsys/recommendations/similar.parquet')\n",
    "s3_client.upload_file('recommendations.parquet', os.environ.get(\"S3_BUCKET_NAME\"), 'recsys/recommendations/recommendations.parquet')"
   ]
  },
  {
   "cell_type": "markdown",
   "id": "b19a9c91",
   "metadata": {},
   "source": [
    "### Итоговые выводы и сравнение результатов <a id=\"step_4\"></a>\n",
    "\n",
    "Ниже еще раз перечислены все реализованные подходы для генерации рекомендаций и их метрики на валидации:\n",
    "\n",
    "- Рекомендации по умолчанию на основе топ-100 популярных треков по количеству прослушиваний:\n",
    "    - Доля событий \"холодных\" пользователей, совпавших с рекомендациями по умолчанию: 0.056\n",
    "    - Доля \"холодных\" пользователей без релевантных рекомендаций: 0.620\n",
    "    - Среднее покрытие \"холодных\" пользователей треками: 1.819\n",
    "- Персональные рекомендации на основе коллаборативного подхода с использованием ALS \n",
    "(по 50 рекомендаций на каждого пользователя):\n",
    "    - coverage: 0.004\n",
    "    - novelty@5: 0.792\n",
    "    - precision: 0.0022\n",
    "    - recall: 0.0036\n",
    "- Рекомендации на основе похожих по жанровой близости треков с использованием ALS \n",
    "(по 10 на каждый трек);\n",
    "- Финальные рекомендации на основе ранжирующей catboost-модели по нескольким признакам, \n",
    "включая коллаборативные оценки, количество треков, прослушанных каждым пользователем, \n",
    "и жанровые оценки (по 50 рекомендаций на каждого пользователя):\n",
    "    - coverage: 0.004\n",
    "    - novelty@5: 0.781\n",
    "    - precision: 0.0022\n",
    "    - recall: 0.0036\n",
    "\n",
    "Как видим, у нас получилось хорошее покрытие для пользователей без истории (\"холодных\" пользователей). То же можно сказать о разнообразии персональных рекомендаций (novelty). При этом точность и полнота получились относительно\n",
    "невысокими, что можно отчасти объяснить изменением в характере данных на тестовой выборке. \n",
    "Контентные als-рекомендации могли бы помочь улучшить метрики, но мы их не используем из-за экономии ресурсов.\n",
    "\n",
    "Также видим, что дополнительные жанровые и пользовательские признаки не вносят значительный вклад в улучшение рекомендаций по сравнению с многофакторными коллаборативными оценками."
   ]
  }
 ],
 "metadata": {
  "kernelspec": {
   "display_name": "Python 3 (ipykernel)",
   "language": "python",
   "name": "python3"
  },
  "language_info": {
   "codemirror_mode": {
    "name": "ipython",
    "version": 3
   },
   "file_extension": ".py",
   "mimetype": "text/x-python",
   "name": "python",
   "nbconvert_exporter": "python",
   "pygments_lexer": "ipython3",
   "version": "3.10.12"
  }
 },
 "nbformat": 4,
 "nbformat_minor": 5
}
