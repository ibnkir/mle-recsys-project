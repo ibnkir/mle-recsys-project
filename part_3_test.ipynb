{
 "cells": [
  {
   "attachments": {},
   "cell_type": "markdown",
   "id": "6c9d506c-9c8c-4707-9613-02510f8b4518",
   "metadata": {},
   "source": [
    "## Яндекс Практикум, курс \"Инженер Машинного Обучения\" (2024 г.)\n",
    "## Проект 4-го спринта: \"Создание рекомендательной системы\"\n",
    "## Ноутбук для тестирования сервиса"
   ]
  },
  {
   "attachments": {},
   "cell_type": "markdown",
   "id": "bec2266d",
   "metadata": {},
   "source": [
    "### Этап 4. Сервис рекомендаций"
   ]
  },
  {
   "attachments": {},
   "cell_type": "markdown",
   "id": "0a5ac7b2",
   "metadata": {},
   "source": [
    "__Постановка задачи__\n",
    "\n",
    "Напишите FastAPI-микросервис для выдачи рекомендаций, который:\n",
    "- принимает запрос с идентификатором пользователя и выдаёт рекомендации,\n",
    "- учитывает историю пользователя,\n",
    "- смешивает онлайн- и оффлайн-рекомендации.\n",
    "\n",
    "В README опишите стратегию смешивания онлайн- и оффлайн-рекомендаций.\n",
    "\n",
    "Выполните тестирование микросервиса в ноутбуке `part_3_test.ipynb`:\n",
    "- для пользователя без персональных рекомендаций,\n",
    "- для пользователя с персональными рекомендациями, но без онлайн-истории,\n",
    "- для пользователя с персональными рекомендациями и онлайн-историей."
   ]
  },
  {
   "cell_type": "code",
   "execution_count": null,
   "id": "222eb3fa",
   "metadata": {},
   "outputs": [],
   "source": [
    "import requests"
   ]
  },
  {
   "cell_type": "code",
   "execution_count": null,
   "id": "8fd00164",
   "metadata": {},
   "outputs": [],
   "source": [
    "features_store_url = \"http://127.0.0.1:8010\"\n",
    "events_store_url = \"http://127.0.0.1:8020\"\n",
    "recommendations_url = \"http://127.0.0.1:8000\"\n",
    "\n",
    "\n",
    "headers = {\"Content-type\": \"application/json\", \"Accept\": \"text/plain\"}"
   ]
  },
  {
   "cell_type": "code",
   "execution_count": null,
   "id": "b8514595",
   "metadata": {},
   "outputs": [],
   "source": [
    "user_id = 1291250\n",
    "k = 10\n",
    "event_item_ids =  [7144, 16299, 5907, 18135]"
   ]
  },
  {
   "cell_type": "code",
   "execution_count": null,
   "id": "59dab64e",
   "metadata": {},
   "outputs": [],
   "source": [
    "for event_item_id in event_item_ids:\n",
    "    resp = requests.post(events_store_url + \"/put\", \n",
    "                         headers=headers, \n",
    "                         params={\"user_id\": user_id, \"item_id\": event_item_id})"
   ]
  },
  {
   "cell_type": "code",
   "execution_count": null,
   "id": "62b7b5d2",
   "metadata": {},
   "outputs": [],
   "source": [
    "params = {\"user_id\": user_id, 'k': k}\n",
    "\n",
    "resp_blended = requests.post(recommendations_url + \"/recommendations\", headers=headers, params=params)\n",
    "recs_blended = resp_blended.json()[\"recs\"]\n",
    "\n",
    "print(recs_blended)"
   ]
  }
 ],
 "metadata": {
  "kernelspec": {
   "display_name": "Python 3 (ipykernel)",
   "language": "python",
   "name": "python3"
  },
  "language_info": {
   "codemirror_mode": {
    "name": "ipython",
    "version": 3
   },
   "file_extension": ".py",
   "mimetype": "text/x-python",
   "name": "python",
   "nbconvert_exporter": "python",
   "pygments_lexer": "ipython3",
   "version": "3.11.7"
  }
 },
 "nbformat": 4,
 "nbformat_minor": 5
}
