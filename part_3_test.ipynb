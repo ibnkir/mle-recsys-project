{
 "cells": [
  {
   "attachments": {},
   "cell_type": "markdown",
   "id": "6c9d506c-9c8c-4707-9613-02510f8b4518",
   "metadata": {},
   "source": [
    "## Яндекс Практикум, курс \"Инженер Машинного Обучения\" (2024 г.)\n",
    "## Проект 4-го спринта: \"Создание рекомендательной системы\""
   ]
  },
  {
   "attachments": {},
   "cell_type": "markdown",
   "id": "bec2266d",
   "metadata": {},
   "source": [
    "## Этап 4. Сервис рекомендаций"
   ]
  },
  {
   "attachments": {},
   "cell_type": "markdown",
   "id": "0a5ac7b2",
   "metadata": {},
   "source": [
    "__Постановка задачи__\n",
    "\n",
    "Напишите FastAPI-микросервис для выдачи рекомендаций, который:\n",
    "- принимает запрос с идентификатором пользователя и выдаёт рекомендации,\n",
    "- учитывает историю пользователя,\n",
    "- смешивает онлайн- и оффлайн-рекомендации.\n",
    "\n",
    "В README опишите стратегию смешивания онлайн- и оффлайн-рекомендаций.\n",
    "\n",
    "Выполните тестирование микросервиса в ноутбуке `part_3_test.ipynb`:\n",
    "- для пользователя без персональных рекомендаций,\n",
    "- для пользователя с персональными рекомендациями, но без онлайн-истории,\n",
    "- для пользователя с персональными рекомендациями и онлайн-историей."
   ]
  },
  {
   "attachments": {},
   "cell_type": "markdown",
   "id": "f1469686",
   "metadata": {},
   "source": [
    "### Инициализация"
   ]
  },
  {
   "cell_type": "code",
   "execution_count": null,
   "id": "222eb3fa",
   "metadata": {},
   "outputs": [],
   "source": [
    "import numpy as np\n",
    "import pandas as pd\n",
    "import requests"
   ]
  },
  {
   "cell_type": "code",
   "execution_count": null,
   "id": "c3709eba",
   "metadata": {},
   "outputs": [],
   "source": [
    "import sys\n",
    "\n",
    "# Проверяем, в каком окружении работаем\n",
    "print(sys.executable)"
   ]
  },
  {
   "cell_type": "code",
   "execution_count": null,
   "id": "8fd00164",
   "metadata": {},
   "outputs": [],
   "source": [
    "# Адреса сервисов\n",
    "features_store_url = \"http://127.0.0.1:8010\"\n",
    "events_store_url = \"http://127.0.0.1:8020\"\n",
    "recommendations_url = \"http://127.0.0.1:8000\"\n",
    "\n",
    "# Общий для всех запросов заголовок\n",
    "headers = {\"Content-type\": \"application/json\", \"Accept\": \"text/plain\"}"
   ]
  },
  {
   "attachments": {},
   "cell_type": "markdown",
   "id": "5a250d02",
   "metadata": {},
   "source": [
    "Для запуска сервисов с помощью uvicorn необходимо выполнить 3 команды в терминале, находясь в папке проекта:\n",
    "\n",
    "```\n",
    "uvicorn recommendations_service:app\n",
    "uvicorn features_service:app --port 8010\n",
    "uvicorn events_service:app --port 8020\n",
    "```"
   ]
  },
  {
   "attachments": {},
   "cell_type": "markdown",
   "id": "5a4b5b9c",
   "metadata": {},
   "source": [
    "### Загрузка данных\n",
    "\n",
    "Загрузким треки и события для отображения рекомендаций со всеми полями"
   ]
  },
  {
   "cell_type": "code",
   "execution_count": null,
   "id": "1bb8a51a",
   "metadata": {},
   "outputs": [],
   "source": [
    "events = pd.read_parquet(\"events.parquet\")\n",
    "items = pd.read_parquet(\"items.parquet\")"
   ]
  },
  {
   "attachments": {},
   "cell_type": "markdown",
   "id": "9c0d053e",
   "metadata": {},
   "source": [
    "### Получение рекомендаций по умолчанию\n",
    "\n",
    "Напишем функцию для отображения данных"
   ]
  },
  {
   "cell_type": "code",
   "execution_count": null,
   "id": "4633beb5",
   "metadata": {},
   "outputs": [],
   "source": [
    "def display_items(item_ids):\n",
    "\n",
    "    item_columns_to_use = [\"item_id\", \"name\", \"genres\", \"albums\", \"artists\"]\n",
    "    \n",
    "    items_selected = items.query(\"item_id in @item_ids\")[item_columns_to_use]\n",
    "    items_selected = items_selected.set_index(\"item_id\").reindex(item_ids)\n",
    "    items_selected = items_selected.reset_index()\n",
    "    \n",
    "    display(items_selected)"
   ]
  },
  {
   "attachments": {},
   "cell_type": "markdown",
   "id": "5ab48f34",
   "metadata": {},
   "source": [
    "Отправляем запрос для получения рекомендаций по умолчанию"
   ]
  },
  {
   "cell_type": "code",
   "execution_count": null,
   "id": "14bd6044",
   "metadata": {},
   "outputs": [],
   "source": [
    "params = {'k': 10}\n",
    "resp = requests.post(recommendations_url + \"/recommendations_default\", headers=headers, params=params)\n",
    "\n",
    "if resp.status_code == 200:\n",
    "    recs = resp.json()\n",
    "    item_ids = recs['recs']\n",
    "    display_items(item_ids)\n",
    "    \n",
    "else:\n",
    "    recs = []\n",
    "    print(f\"status code: {resp.status_code}\")"
   ]
  },
  {
   "cell_type": "code",
   "execution_count": null,
   "id": "eced9286",
   "metadata": {},
   "outputs": [],
   "source": [
    "# Сравниваем с топ-10 треков из файла\n",
    "top_k_pop_items = pd.read_parquet(\"top_popular.parquet\")\n",
    "top_k_pop_items.head(10)"
   ]
  },
  {
   "attachments": {},
   "cell_type": "markdown",
   "id": "5bcf6a51",
   "metadata": {},
   "source": [
    "### Получение персональных рекомендаций без онлайн-истории"
   ]
  },
  {
   "cell_type": "code",
   "execution_count": null,
   "id": "0914b389",
   "metadata": {},
   "outputs": [],
   "source": [
    "# Выберем произвольного пользователя случайным образом\n",
    "user_id = events['user_id'].sample().iat[0]"
   ]
  },
  {
   "cell_type": "code",
   "execution_count": null,
   "id": "649934a6",
   "metadata": {},
   "outputs": [],
   "source": [
    "# Отправляем запрос для получения только оффлайн-рекомендаций\n",
    "params = {'user_id': 0, 'k': 10}\n",
    "resp = requests.post(recommendations_url + \"/recommendations_offline\", headers=headers, params=params)\n",
    "\n",
    "if resp.status_code == 200:\n",
    "    recs = resp.json()\n",
    "    item_ids = recs['recs']\n",
    "    display_items(item_ids)\n",
    "    \n",
    "else:\n",
    "    recs = []\n",
    "    print(f\"status code: {resp.status_code}\")"
   ]
  },
  {
   "attachments": {},
   "cell_type": "markdown",
   "id": "3088b65c",
   "metadata": {},
   "source": [
    "### Получение персональных рекомендаций с онлайн-историей"
   ]
  },
  {
   "attachments": {},
   "cell_type": "markdown",
   "id": "859739e3",
   "metadata": {},
   "source": [
    "Выберем 3 произвольных трека случайным образом и добавим их в онлайн-историю пользователя"
   ]
  },
  {
   "cell_type": "code",
   "execution_count": null,
   "id": "b8514595",
   "metadata": {},
   "outputs": [],
   "source": [
    "item_ids = items['items_id'].sample(3)\n",
    "\n",
    "for item_id in item_ids:\n",
    "    params = {\"user_id\": user_id, \"item_id\": item_id}\n",
    "    resp = requests.post(events_store_url + \"/put\", headers=headers, params=params)\n",
    "    if resp.status_code == 200:\n",
    "        result = resp.json()\n",
    "    else:\n",
    "        result = None\n",
    "        print(f\"status code: {resp.status_code}\")    \n",
    "    print(result)"
   ]
  },
  {
   "attachments": {},
   "cell_type": "markdown",
   "id": "3bc9366d",
   "metadata": {},
   "source": [
    "Получаем смешанные рекомендации. Оффлайн-рекомендации помещаем на четные места выходного списка, онлайн - на четные."
   ]
  },
  {
   "cell_type": "code",
   "execution_count": null,
   "id": "59dab64e",
   "metadata": {},
   "outputs": [],
   "source": [
    "params = {\"user_id\": user_id, 'k': 10}\n",
    "resp = requests.post(recommendations_url + \"/recommendations\", headers=headers, params=params)\n",
    "\n",
    "if resp.status_code == 200:\n",
    "    result = resp.json()\n",
    "    item_ids = recs['recs']\n",
    "    display_items(item_ids)\n",
    "    \n",
    "else:\n",
    "    result = None\n",
    "    print(f\"status code: {resp.status_code}\")"
   ]
  },
  {
   "cell_type": "code",
   "execution_count": null,
   "id": "d086f616",
   "metadata": {},
   "outputs": [],
   "source": []
  }
 ],
 "metadata": {
  "kernelspec": {
   "display_name": "Python 3 (ipykernel)",
   "language": "python",
   "name": "python3"
  },
  "language_info": {
   "codemirror_mode": {
    "name": "ipython",
    "version": 3
   },
   "file_extension": ".py",
   "mimetype": "text/x-python",
   "name": "python",
   "nbconvert_exporter": "python",
   "pygments_lexer": "ipython3",
   "version": "3.11.7"
  }
 },
 "nbformat": 4,
 "nbformat_minor": 5
}
