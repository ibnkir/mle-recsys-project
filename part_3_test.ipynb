{
 "cells": [
  {
   "attachments": {},
   "cell_type": "markdown",
   "id": "6c9d506c-9c8c-4707-9613-02510f8b4518",
   "metadata": {},
   "source": [
    "## Яндекс Практикум, курс \"Инженер Машинного Обучения\" (2024 г.)\n",
    "## Проект 4-го спринта: \"Создание рекомендательной системы\""
   ]
  },
  {
   "attachments": {},
   "cell_type": "markdown",
   "id": "bec2266d",
   "metadata": {},
   "source": [
    "## Этап 4. Сервис рекомендаций"
   ]
  },
  {
   "attachments": {},
   "cell_type": "markdown",
   "id": "0a5ac7b2",
   "metadata": {},
   "source": [
    "__Постановка задачи__\n",
    "\n",
    "Напишите FastAPI-микросервис для выдачи рекомендаций, который:\n",
    "- принимает запрос с идентификатором пользователя и выдаёт рекомендации,\n",
    "- учитывает историю пользователя,\n",
    "- смешивает онлайн- и оффлайн-рекомендации.\n",
    "\n",
    "В README опишите стратегию смешивания онлайн- и оффлайн-рекомендаций.\n",
    "\n",
    "Выполните тестирование микросервиса в ноутбуке `part_3_test.ipynb`:\n",
    "- для пользователя без персональных рекомендаций,\n",
    "- для пользователя с персональными рекомендациями, но без онлайн-истории,\n",
    "- для пользователя с персональными рекомендациями и онлайн-историей."
   ]
  },
  {
   "attachments": {},
   "cell_type": "markdown",
   "id": "f1469686",
   "metadata": {},
   "source": [
    "### Инициализация"
   ]
  },
  {
   "cell_type": "code",
   "execution_count": 1,
   "id": "222eb3fa",
   "metadata": {},
   "outputs": [],
   "source": [
    "import numpy as np\n",
    "import pandas as pd\n",
    "import requests"
   ]
  },
  {
   "cell_type": "code",
   "execution_count": 2,
   "id": "c3709eba",
   "metadata": {},
   "outputs": [
    {
     "name": "stdout",
     "output_type": "stream",
     "text": [
      "/home/mle-user/.venv/bin/python\n"
     ]
    }
   ],
   "source": [
    "import sys\n",
    "\n",
    "# Проверяем, в каком окружении работаем\n",
    "print(sys.executable)"
   ]
  },
  {
   "cell_type": "code",
   "execution_count": 3,
   "id": "8fd00164",
   "metadata": {},
   "outputs": [],
   "source": [
    "# Адреса сервисов\n",
    "recommendations_url = \"http://127.0.0.1:8000\"\n",
    "features_store_url = \"http://127.0.0.1:8010\"\n",
    "events_store_url = \"http://127.0.0.1:8020\"\n",
    "\n",
    "# Общий заголовок для всех запросов\n",
    "headers = {\"Content-type\": \"application/json\", \"Accept\": \"text/plain\"}"
   ]
  },
  {
   "attachments": {},
   "cell_type": "markdown",
   "id": "5a250d02",
   "metadata": {},
   "source": [
    "Для запуска сервисов с помощью uvicorn необходимо выполнить 3 команды в 3-х разных терминалах, находясь в папке проекта:\n",
    "\n",
    "```\n",
    "uvicorn recommendations_service:app\n",
    "uvicorn events_service:app --port 8020\n",
    "uvicorn features_service:app --port 8010\n",
    "```"
   ]
  },
  {
   "attachments": {},
   "cell_type": "markdown",
   "id": "5a4b5b9c",
   "metadata": {},
   "source": [
    "### Загрузка данных\n",
    "\n",
    "Загрузким треки для отображения рекомендаций со всеми полями, а также сами рекомендации, чтобы выбирать из них пользователей и объекты для тестирования"
   ]
  },
  {
   "cell_type": "code",
   "execution_count": 92,
   "id": "1bb8a51a",
   "metadata": {},
   "outputs": [
    {
     "data": {
      "text/html": [
       "<div>\n",
       "<style scoped>\n",
       "    .dataframe tbody tr th:only-of-type {\n",
       "        vertical-align: middle;\n",
       "    }\n",
       "\n",
       "    .dataframe tbody tr th {\n",
       "        vertical-align: top;\n",
       "    }\n",
       "\n",
       "    .dataframe thead th {\n",
       "        text-align: right;\n",
       "    }\n",
       "</style>\n",
       "<table border=\"1\" class=\"dataframe\">\n",
       "  <thead>\n",
       "    <tr style=\"text-align: right;\">\n",
       "      <th></th>\n",
       "      <th>score</th>\n",
       "      <th>item_id_1</th>\n",
       "      <th>item_id_2</th>\n",
       "    </tr>\n",
       "  </thead>\n",
       "  <tbody>\n",
       "    <tr>\n",
       "      <th>1</th>\n",
       "      <td>0.924673</td>\n",
       "      <td>549</td>\n",
       "      <td>26771</td>\n",
       "    </tr>\n",
       "    <tr>\n",
       "      <th>2</th>\n",
       "      <td>0.923671</td>\n",
       "      <td>549</td>\n",
       "      <td>4198</td>\n",
       "    </tr>\n",
       "    <tr>\n",
       "      <th>3</th>\n",
       "      <td>0.921660</td>\n",
       "      <td>549</td>\n",
       "      <td>69658</td>\n",
       "    </tr>\n",
       "    <tr>\n",
       "      <th>4</th>\n",
       "      <td>0.921044</td>\n",
       "      <td>549</td>\n",
       "      <td>37402640</td>\n",
       "    </tr>\n",
       "    <tr>\n",
       "      <th>5</th>\n",
       "      <td>0.913545</td>\n",
       "      <td>549</td>\n",
       "      <td>1706463</td>\n",
       "    </tr>\n",
       "    <tr>\n",
       "      <th>...</th>\n",
       "      <td>...</td>\n",
       "      <td>...</td>\n",
       "      <td>...</td>\n",
       "    </tr>\n",
       "    <tr>\n",
       "      <th>109995</th>\n",
       "      <td>0.915183</td>\n",
       "      <td>46063416</td>\n",
       "      <td>35539575</td>\n",
       "    </tr>\n",
       "    <tr>\n",
       "      <th>109996</th>\n",
       "      <td>0.914844</td>\n",
       "      <td>46063416</td>\n",
       "      <td>21835466</td>\n",
       "    </tr>\n",
       "    <tr>\n",
       "      <th>109997</th>\n",
       "      <td>0.914437</td>\n",
       "      <td>46063416</td>\n",
       "      <td>44069660</td>\n",
       "    </tr>\n",
       "    <tr>\n",
       "      <th>109998</th>\n",
       "      <td>0.913806</td>\n",
       "      <td>46063416</td>\n",
       "      <td>21548470</td>\n",
       "    </tr>\n",
       "    <tr>\n",
       "      <th>109999</th>\n",
       "      <td>0.913485</td>\n",
       "      <td>46063416</td>\n",
       "      <td>38162670</td>\n",
       "    </tr>\n",
       "  </tbody>\n",
       "</table>\n",
       "<p>100000 rows × 3 columns</p>\n",
       "</div>"
      ],
      "text/plain": [
       "           score  item_id_1  item_id_2\n",
       "1       0.924673        549      26771\n",
       "2       0.923671        549       4198\n",
       "3       0.921660        549      69658\n",
       "4       0.921044        549   37402640\n",
       "5       0.913545        549    1706463\n",
       "...          ...        ...        ...\n",
       "109995  0.915183   46063416   35539575\n",
       "109996  0.914844   46063416   21835466\n",
       "109997  0.914437   46063416   44069660\n",
       "109998  0.913806   46063416   21548470\n",
       "109999  0.913485   46063416   38162670\n",
       "\n",
       "[100000 rows x 3 columns]"
      ]
     },
     "execution_count": 92,
     "metadata": {},
     "output_type": "execute_result"
    }
   ],
   "source": [
    "items = pd.read_parquet(\"items.parquet\")\n",
    "recommendations = pd.read_parquet('recommendations.parquet')\n",
    "similar = pd.read_parquet('similar.parquet')"
   ]
  },
  {
   "attachments": {},
   "cell_type": "markdown",
   "id": "9c0d053e",
   "metadata": {},
   "source": [
    "### Получение рекомендаций по умолчанию\n",
    "\n",
    "Напишем функцию для отображения данных"
   ]
  },
  {
   "cell_type": "code",
   "execution_count": 54,
   "id": "4633beb5",
   "metadata": {},
   "outputs": [],
   "source": [
    "def display_items(item_ids):\n",
    "\n",
    "    item_columns_to_use = [\"item_id\", \"name\", \"genres\", \"albums\", \"artists\"]\n",
    "    \n",
    "    items_selected = items.query(\"item_id in @item_ids\")[item_columns_to_use]\n",
    "    items_selected = items_selected.set_index(\"item_id\").reindex(item_ids)\n",
    "    items_selected = items_selected.reset_index()\n",
    "    \n",
    "    display(items_selected)"
   ]
  },
  {
   "attachments": {},
   "cell_type": "markdown",
   "id": "5ab48f34",
   "metadata": {},
   "source": [
    "Отправляем запрос для получения рекомендаций по умолчанию, т.е. из числа топ-треков по кол-ву прослушиваний"
   ]
  },
  {
   "cell_type": "code",
   "execution_count": 84,
   "id": "14bd6044",
   "metadata": {},
   "outputs": [
    {
     "data": {
      "text/html": [
       "<div>\n",
       "<style scoped>\n",
       "    .dataframe tbody tr th:only-of-type {\n",
       "        vertical-align: middle;\n",
       "    }\n",
       "\n",
       "    .dataframe tbody tr th {\n",
       "        vertical-align: top;\n",
       "    }\n",
       "\n",
       "    .dataframe thead th {\n",
       "        text-align: right;\n",
       "    }\n",
       "</style>\n",
       "<table border=\"1\" class=\"dataframe\">\n",
       "  <thead>\n",
       "    <tr style=\"text-align: right;\">\n",
       "      <th></th>\n",
       "      <th>item_id</th>\n",
       "      <th>name</th>\n",
       "      <th>genres</th>\n",
       "      <th>albums</th>\n",
       "      <th>artists</th>\n",
       "    </tr>\n",
       "  </thead>\n",
       "  <tbody>\n",
       "    <tr>\n",
       "      <th>0</th>\n",
       "      <td>53404</td>\n",
       "      <td>Smells Like Teen Spirit</td>\n",
       "      <td>[alternative, allrock, rock]</td>\n",
       "      <td>[Smells Like Teen Spirit / In Bloom / On A Pla...</td>\n",
       "      <td>[Nirvana]</td>\n",
       "    </tr>\n",
       "    <tr>\n",
       "      <th>1</th>\n",
       "      <td>178529</td>\n",
       "      <td>Numb</td>\n",
       "      <td>[numetal, metal]</td>\n",
       "      <td>[Meteora, 00s Rock Anthems]</td>\n",
       "      <td>[Linkin Park]</td>\n",
       "    </tr>\n",
       "    <tr>\n",
       "      <th>2</th>\n",
       "      <td>37384</td>\n",
       "      <td>Zombie</td>\n",
       "      <td>[allrock, rock]</td>\n",
       "      <td>[90s Alternative, MNM Sing Your Song: Back To ...</td>\n",
       "      <td>[The Cranberries]</td>\n",
       "    </tr>\n",
       "    <tr>\n",
       "      <th>3</th>\n",
       "      <td>6705392</td>\n",
       "      <td>Seven Nation Army</td>\n",
       "      <td>[alternative]</td>\n",
       "      <td>[Pay Close Attention : XL Recordings, Radio 1 ...</td>\n",
       "      <td>[The White Stripes]</td>\n",
       "    </tr>\n",
       "    <tr>\n",
       "      <th>4</th>\n",
       "      <td>33311009</td>\n",
       "      <td>Believer</td>\n",
       "      <td>[allrock, rock]</td>\n",
       "      <td>[Horoscope Tunes: Cancer, Workout Music Hits 2...</td>\n",
       "      <td>[Imagine Dragons]</td>\n",
       "    </tr>\n",
       "    <tr>\n",
       "      <th>5</th>\n",
       "      <td>328683</td>\n",
       "      <td>Bring Me To Life</td>\n",
       "      <td>[alternative, allrock, rock]</td>\n",
       "      <td>[Mental Health 2020, Monster Millennium Hits, ...</td>\n",
       "      <td>[Evanescence]</td>\n",
       "    </tr>\n",
       "    <tr>\n",
       "      <th>6</th>\n",
       "      <td>148345</td>\n",
       "      <td>Californication</td>\n",
       "      <td>[allrock, rock]</td>\n",
       "      <td>[The Studio Album Collection 1991-2011, Greate...</td>\n",
       "      <td>[Red Hot Chili Peppers]</td>\n",
       "    </tr>\n",
       "    <tr>\n",
       "      <th>7</th>\n",
       "      <td>795836</td>\n",
       "      <td>Shape Of My Heart</td>\n",
       "      <td>[allrock, pop, rock]</td>\n",
       "      <td>[25 Years, Сентиментальные рок-песни, Ten Summ...</td>\n",
       "      <td>[Sting]</td>\n",
       "    </tr>\n",
       "    <tr>\n",
       "      <th>8</th>\n",
       "      <td>630670</td>\n",
       "      <td>You're Gonna Go Far, Kid</td>\n",
       "      <td>[punk]</td>\n",
       "      <td>[You're Gonna Go Far, Kid, Sleep Music Rock Ed...</td>\n",
       "      <td>[The Offspring]</td>\n",
       "    </tr>\n",
       "    <tr>\n",
       "      <th>9</th>\n",
       "      <td>178495</td>\n",
       "      <td>In the End</td>\n",
       "      <td>[numetal, metal]</td>\n",
       "      <td>[Antyradio: Najlepszy Rock Na Swiecie Vol. 4, ...</td>\n",
       "      <td>[Linkin Park]</td>\n",
       "    </tr>\n",
       "  </tbody>\n",
       "</table>\n",
       "</div>"
      ],
      "text/plain": [
       "    item_id                      name                        genres  \\\n",
       "0     53404   Smells Like Teen Spirit  [alternative, allrock, rock]   \n",
       "1    178529                      Numb              [numetal, metal]   \n",
       "2     37384                    Zombie               [allrock, rock]   \n",
       "3   6705392         Seven Nation Army                 [alternative]   \n",
       "4  33311009                  Believer               [allrock, rock]   \n",
       "5    328683          Bring Me To Life  [alternative, allrock, rock]   \n",
       "6    148345           Californication               [allrock, rock]   \n",
       "7    795836         Shape Of My Heart          [allrock, pop, rock]   \n",
       "8    630670  You're Gonna Go Far, Kid                        [punk]   \n",
       "9    178495                In the End              [numetal, metal]   \n",
       "\n",
       "                                              albums                  artists  \n",
       "0  [Smells Like Teen Spirit / In Bloom / On A Pla...                [Nirvana]  \n",
       "1                        [Meteora, 00s Rock Anthems]            [Linkin Park]  \n",
       "2  [90s Alternative, MNM Sing Your Song: Back To ...        [The Cranberries]  \n",
       "3  [Pay Close Attention : XL Recordings, Radio 1 ...      [The White Stripes]  \n",
       "4  [Horoscope Tunes: Cancer, Workout Music Hits 2...        [Imagine Dragons]  \n",
       "5  [Mental Health 2020, Monster Millennium Hits, ...            [Evanescence]  \n",
       "6  [The Studio Album Collection 1991-2011, Greate...  [Red Hot Chili Peppers]  \n",
       "7  [25 Years, Сентиментальные рок-песни, Ten Summ...                  [Sting]  \n",
       "8  [You're Gonna Go Far, Kid, Sleep Music Rock Ed...          [The Offspring]  \n",
       "9  [Antyradio: Najlepszy Rock Na Swiecie Vol. 4, ...            [Linkin Park]  "
      ]
     },
     "metadata": {},
     "output_type": "display_data"
    }
   ],
   "source": [
    "params = {'k': 10}\n",
    "resp = requests.post(recommendations_url + \"/recommendations_default\", headers=headers, params=params)\n",
    "\n",
    "if resp.status_code == 200:\n",
    "    recs = resp.json()\n",
    "    item_ids = recs['recs']\n",
    "    display_items(item_ids)\n",
    "    \n",
    "else:\n",
    "    recs = []\n",
    "    print(f\"status code: {resp.status_code}\")"
   ]
  },
  {
   "attachments": {},
   "cell_type": "markdown",
   "id": "5bcf6a51",
   "metadata": {},
   "source": [
    "### Получение персональных рекомендаций без онлайн-истории"
   ]
  },
  {
   "cell_type": "code",
   "execution_count": 130,
   "id": "0914b389",
   "metadata": {},
   "outputs": [
    {
     "data": {
      "text/plain": [
       "35604"
      ]
     },
     "execution_count": 130,
     "metadata": {},
     "output_type": "execute_result"
    }
   ],
   "source": [
    "# Выберем произвольного пользователя случайным образом\n",
    "user_id = recommendations['user_id'].sample().iat[0]\n",
    "user_id"
   ]
  },
  {
   "cell_type": "code",
   "execution_count": 131,
   "id": "649934a6",
   "metadata": {},
   "outputs": [
    {
     "data": {
      "text/html": [
       "<div>\n",
       "<style scoped>\n",
       "    .dataframe tbody tr th:only-of-type {\n",
       "        vertical-align: middle;\n",
       "    }\n",
       "\n",
       "    .dataframe tbody tr th {\n",
       "        vertical-align: top;\n",
       "    }\n",
       "\n",
       "    .dataframe thead th {\n",
       "        text-align: right;\n",
       "    }\n",
       "</style>\n",
       "<table border=\"1\" class=\"dataframe\">\n",
       "  <thead>\n",
       "    <tr style=\"text-align: right;\">\n",
       "      <th></th>\n",
       "      <th>item_id</th>\n",
       "      <th>name</th>\n",
       "      <th>genres</th>\n",
       "      <th>albums</th>\n",
       "      <th>artists</th>\n",
       "    </tr>\n",
       "  </thead>\n",
       "  <tbody>\n",
       "    <tr>\n",
       "      <th>0</th>\n",
       "      <td>15271</td>\n",
       "      <td>Somebody Told Me</td>\n",
       "      <td>[alternative, allrock, indie, rock]</td>\n",
       "      <td>[Essential Bands, Play Non Stop, 00's Best Of,...</td>\n",
       "      <td>[The Killers]</td>\n",
       "    </tr>\n",
       "  </tbody>\n",
       "</table>\n",
       "</div>"
      ],
      "text/plain": [
       "   item_id              name                               genres  \\\n",
       "0    15271  Somebody Told Me  [alternative, allrock, indie, rock]   \n",
       "\n",
       "                                              albums        artists  \n",
       "0  [Essential Bands, Play Non Stop, 00's Best Of,...  [The Killers]  "
      ]
     },
     "metadata": {},
     "output_type": "display_data"
    }
   ],
   "source": [
    "# Отправляем запрос для получения только оффлайн-рекомендаций\n",
    "params = {'user_id': user_id, 'k': 10}\n",
    "resp = requests.post(recommendations_url + \"/recommendations_offline\", headers=headers, params=params)\n",
    "if resp.status_code == 200:\n",
    "    recs = resp.json()\n",
    "    display_items(recs['recs'])\n",
    "else:\n",
    "    recs = []\n",
    "    print(f\"status code: {resp.status_code}\")"
   ]
  },
  {
   "attachments": {},
   "cell_type": "markdown",
   "id": "3088b65c",
   "metadata": {},
   "source": [
    "### Получение персональных рекомендаций с онлайн-историей"
   ]
  },
  {
   "attachments": {},
   "cell_type": "markdown",
   "id": "859739e3",
   "metadata": {},
   "source": [
    "Выберем 3 произвольных трека, имеющих i2i-рекомендации, и добавим их в онлайн-историю пользователя"
   ]
  },
  {
   "cell_type": "code",
   "execution_count": 132,
   "id": "b8514595",
   "metadata": {},
   "outputs": [
    {
     "name": "stdout",
     "output_type": "stream",
     "text": [
      "[549 553 558]\n",
      "ok\n",
      "ok\n",
      "ok\n"
     ]
    }
   ],
   "source": [
    "item_ids = similar['item_id_1'].unique()[:3]\n",
    "print(item_ids)\n",
    "\n",
    "for item_id in item_ids:\n",
    "    params = {\"user_id\": user_id, \"item_id\": item_id}\n",
    "    resp = requests.post(events_store_url + \"/put\", headers=headers, params=params)\n",
    "    if resp.status_code == 200:\n",
    "        result = resp.json()\n",
    "        print(result['result'])    \n",
    "    else:\n",
    "        print(f\"status code: {resp.status_code}\") "
   ]
  },
  {
   "cell_type": "markdown",
   "id": "db3186cc",
   "metadata": {},
   "source": [
    "Проверим, что события добавились, причем в обратном порядке"
   ]
  },
  {
   "cell_type": "code",
   "execution_count": 133,
   "id": "203d399f",
   "metadata": {},
   "outputs": [
    {
     "name": "stdout",
     "output_type": "stream",
     "text": [
      "[558, 553, 549]\n"
     ]
    }
   ],
   "source": [
    "params = {\"user_id\": user_id, \"k\": 3}\n",
    "resp = requests.post(events_store_url + \"/get\", headers=headers, params=params)\n",
    "if resp.status_code == 200:\n",
    "    result = resp.json()\n",
    "    print(result['events'])    \n",
    "else:\n",
    "    print(f\"status code: {resp.status_code}\")"
   ]
  },
  {
   "cell_type": "markdown",
   "id": "26defdc7",
   "metadata": {},
   "source": [
    "Протестируем работу сервиса `feautures_service`. \n",
    "\n",
    "Возмьмем последний объект из списка выше и найдем похожие на него треки из файла `similar.parquet`"
   ]
  },
  {
   "cell_type": "code",
   "execution_count": 134,
   "id": "cec957a6",
   "metadata": {},
   "outputs": [
    {
     "data": {
      "text/html": [
       "<div>\n",
       "<style scoped>\n",
       "    .dataframe tbody tr th:only-of-type {\n",
       "        vertical-align: middle;\n",
       "    }\n",
       "\n",
       "    .dataframe tbody tr th {\n",
       "        vertical-align: top;\n",
       "    }\n",
       "\n",
       "    .dataframe thead th {\n",
       "        text-align: right;\n",
       "    }\n",
       "</style>\n",
       "<table border=\"1\" class=\"dataframe\">\n",
       "  <thead>\n",
       "    <tr style=\"text-align: right;\">\n",
       "      <th></th>\n",
       "      <th>score</th>\n",
       "      <th>item_id_1</th>\n",
       "      <th>item_id_2</th>\n",
       "    </tr>\n",
       "  </thead>\n",
       "  <tbody>\n",
       "    <tr>\n",
       "      <th>23</th>\n",
       "      <td>0.924216</td>\n",
       "      <td>558</td>\n",
       "      <td>1706463</td>\n",
       "    </tr>\n",
       "    <tr>\n",
       "      <th>24</th>\n",
       "      <td>0.908504</td>\n",
       "      <td>558</td>\n",
       "      <td>1706462</td>\n",
       "    </tr>\n",
       "    <tr>\n",
       "      <th>25</th>\n",
       "      <td>0.904736</td>\n",
       "      <td>558</td>\n",
       "      <td>550048</td>\n",
       "    </tr>\n",
       "    <tr>\n",
       "      <th>26</th>\n",
       "      <td>0.897181</td>\n",
       "      <td>558</td>\n",
       "      <td>69658</td>\n",
       "    </tr>\n",
       "    <tr>\n",
       "      <th>27</th>\n",
       "      <td>0.894441</td>\n",
       "      <td>558</td>\n",
       "      <td>553</td>\n",
       "    </tr>\n",
       "    <tr>\n",
       "      <th>28</th>\n",
       "      <td>0.886535</td>\n",
       "      <td>558</td>\n",
       "      <td>71239</td>\n",
       "    </tr>\n",
       "    <tr>\n",
       "      <th>29</th>\n",
       "      <td>0.885370</td>\n",
       "      <td>558</td>\n",
       "      <td>2277920</td>\n",
       "    </tr>\n",
       "    <tr>\n",
       "      <th>30</th>\n",
       "      <td>0.881694</td>\n",
       "      <td>558</td>\n",
       "      <td>71965</td>\n",
       "    </tr>\n",
       "    <tr>\n",
       "      <th>31</th>\n",
       "      <td>0.881250</td>\n",
       "      <td>558</td>\n",
       "      <td>34300</td>\n",
       "    </tr>\n",
       "    <tr>\n",
       "      <th>32</th>\n",
       "      <td>0.873259</td>\n",
       "      <td>558</td>\n",
       "      <td>10260869</td>\n",
       "    </tr>\n",
       "  </tbody>\n",
       "</table>\n",
       "</div>"
      ],
      "text/plain": [
       "       score  item_id_1  item_id_2\n",
       "23  0.924216        558    1706463\n",
       "24  0.908504        558    1706462\n",
       "25  0.904736        558     550048\n",
       "26  0.897181        558      69658\n",
       "27  0.894441        558        553\n",
       "28  0.886535        558      71239\n",
       "29  0.885370        558    2277920\n",
       "30  0.881694        558      71965\n",
       "31  0.881250        558      34300\n",
       "32  0.873259        558   10260869"
      ]
     },
     "execution_count": 134,
     "metadata": {},
     "output_type": "execute_result"
    }
   ],
   "source": [
    "item_id_1 = item_ids[-1]\n",
    "similar.query('item_id_1 == @item_id_1')"
   ]
  },
  {
   "cell_type": "markdown",
   "id": "f5ceb30e",
   "metadata": {},
   "source": [
    "Теперь получим тот же набор объектов с помощью сервиса `features_service`"
   ]
  },
  {
   "cell_type": "code",
   "execution_count": 135,
   "id": "58b6d121",
   "metadata": {},
   "outputs": [
    {
     "name": "stdout",
     "output_type": "stream",
     "text": [
      "{'item_id_2': [1706463, 1706462, 550048, 69658, 553, 71239, 2277920, 71965, 34300, 10260869], 'score': [0.9242160320281982, 0.9085038900375366, 0.904736340045929, 0.89718097448349, 0.8944413065910339, 0.8865345120429993, 0.8853704929351807, 0.8816941380500793, 0.8812497854232788, 0.8732590079307556]}\n"
     ]
    }
   ],
   "source": [
    "params = {\"item_id\": item_id_1, \"k\": 10}\n",
    "resp = requests.post(features_store_url +\"/similar_items\", headers=headers, params=params)\n",
    "\n",
    "if resp.status_code == 200:\n",
    "    result = resp.json()\n",
    "    print(result)    \n",
    "else:\n",
    "    print(f\"status code: {resp.status_code}\")    "
   ]
  },
  {
   "cell_type": "markdown",
   "id": "433e9677",
   "metadata": {},
   "source": [
    "Протестируем запрос к сервису `reccomendations_service` для получения объектов, похожих на 3 последних из онлайн-истории данного пользователя"
   ]
  },
  {
   "cell_type": "code",
   "execution_count": null,
   "id": "4f6bc8e2",
   "metadata": {},
   "outputs": [],
   "source": [
    "params = {'user_id': user_id, 'k': 10}\n",
    "resp = requests.post(recommendations_url + \"/recommendations_online\", headers=headers, params=params)\n",
    "if resp.status_code == 200:\n",
    "    recs = resp.json()\n",
    "    display_items(recs['recs'])\n",
    "else:\n",
    "    recs = []\n",
    "    print(f\"status code: {resp.status_code}\")"
   ]
  },
  {
   "attachments": {},
   "cell_type": "markdown",
   "id": "3bc9366d",
   "metadata": {},
   "source": [
    "Наконец, получим смешанные рекомендации. Оффлайн-рекомендации будут на нечетных местах, онлайн - на четных."
   ]
  },
  {
   "cell_type": "code",
   "execution_count": 136,
   "id": "59dab64e",
   "metadata": {},
   "outputs": [
    {
     "data": {
      "text/html": [
       "<div>\n",
       "<style scoped>\n",
       "    .dataframe tbody tr th:only-of-type {\n",
       "        vertical-align: middle;\n",
       "    }\n",
       "\n",
       "    .dataframe tbody tr th {\n",
       "        vertical-align: top;\n",
       "    }\n",
       "\n",
       "    .dataframe thead th {\n",
       "        text-align: right;\n",
       "    }\n",
       "</style>\n",
       "<table border=\"1\" class=\"dataframe\">\n",
       "  <thead>\n",
       "    <tr style=\"text-align: right;\">\n",
       "      <th></th>\n",
       "      <th>item_id</th>\n",
       "      <th>name</th>\n",
       "      <th>genres</th>\n",
       "      <th>albums</th>\n",
       "      <th>artists</th>\n",
       "    </tr>\n",
       "  </thead>\n",
       "  <tbody>\n",
       "    <tr>\n",
       "      <th>0</th>\n",
       "      <td>15271</td>\n",
       "      <td>Somebody Told Me</td>\n",
       "      <td>[alternative, allrock, indie, rock]</td>\n",
       "      <td>[Essential Bands, Play Non Stop, 00's Best Of,...</td>\n",
       "      <td>[The Killers]</td>\n",
       "    </tr>\n",
       "  </tbody>\n",
       "</table>\n",
       "</div>"
      ],
      "text/plain": [
       "   item_id              name                               genres  \\\n",
       "0    15271  Somebody Told Me  [alternative, allrock, indie, rock]   \n",
       "\n",
       "                                              albums        artists  \n",
       "0  [Essential Bands, Play Non Stop, 00's Best Of,...  [The Killers]  "
      ]
     },
     "metadata": {},
     "output_type": "display_data"
    }
   ],
   "source": [
    "params = {\"user_id\": user_id, 'k': 10}\n",
    "resp = requests.post(recommendations_url + \"/recommendations\", headers=headers, params=params)\n",
    "\n",
    "if resp.status_code == 200:\n",
    "    result = resp.json()\n",
    "    display_items(recs['recs'])\n",
    "    \n",
    "else:\n",
    "    result = None\n",
    "    print(f\"status code: {resp.status_code}\")"
   ]
  }
 ],
 "metadata": {
  "kernelspec": {
   "display_name": "Python 3 (ipykernel)",
   "language": "python",
   "name": "python3"
  },
  "language_info": {
   "codemirror_mode": {
    "name": "ipython",
    "version": 3
   },
   "file_extension": ".py",
   "mimetype": "text/x-python",
   "name": "python",
   "nbconvert_exporter": "python",
   "pygments_lexer": "ipython3",
   "version": "3.11.7"
  }
 },
 "nbformat": 4,
 "nbformat_minor": 5
}
