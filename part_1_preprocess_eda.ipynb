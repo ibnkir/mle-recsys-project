{
 "cells": [
  {
   "attachments": {},
   "cell_type": "markdown",
   "id": "6c9d506c-9c8c-4707-9613-02510f8b4518",
   "metadata": {},
   "source": [
    "## Яндекс Практикум, курс \"Инженер Машинного Обучения\" (2024 г.)\n",
    "## Проект 4-го спринта: \"Создание рекомендательной системы\""
   ]
  },
  {
   "attachments": {},
   "cell_type": "markdown",
   "id": "9d797dde",
   "metadata": {},
   "source": [
    "## Этап 1. Первичная подготовка данных"
   ]
  },
  {
   "attachments": {},
   "cell_type": "markdown",
   "id": "7c550a71",
   "metadata": {},
   "source": [
    "### Постановка задачи\n",
    "\n",
    "Прочитайте файлы с данными, проведите оценку данных на наличие проблем:\n",
    "- Нужно ли изменить тип идентификаторов?\n",
    "- Есть ли треки с неизвестными исполнителями, альбомами, жанрами?\n",
    "\n",
    "При необходимости решите найденные проблемы.\n",
    "\n",
    "Сохраните предобработанные данные в удобном формате в двух файлах:\n",
    "- `items.parquet` — все данные о музыкальных треках,\n",
    "- `events.parquet` — все данные о взаимодействиях."
   ]
  },
  {
   "attachments": {},
   "cell_type": "markdown",
   "id": "a7c572ed-5df4-4ad3-8a20-d691bafeb261",
   "metadata": {},
   "source": [
    "### Описание исходных данных\n",
    "\n",
    "Данные находятся в трёх файлах:\n",
    "\n",
    "1. Данные о треках — в файле `tracks.parquet`:\n",
    "    - `track_id` — идентификатор музыкального трека,\n",
    "    - `albums` — список идентификаторов альбомов, содержащих трек,\n",
    "    - `artists` — список идентификаторов исполнителей трека,\n",
    "    - `genres` — список идентификаторов жанров, к которым принадлежит трек.\n",
    "\n",
    "2. Имена артистов, названия альбомов, треков и жанров — в файле `catalog_names.parquet`:\n",
    "    - `id` — идентификатор одной из каталожных единиц (трека, альбома, исполнителя, жанра),\n",
    "    - `type` — тип идентификатора,\n",
    "    - `name` — имя (название) каталожной единицы.\n",
    "\n",
    "3. Данные о том, какие пользователи прослушали тот или иной трек — в файле `interactions.parquet`:\n",
    "    - `user_id` — идентификатор пользователя,\n",
    "    - `track_id` — идентификатор музыкального трека,\n",
    "    - `track_seq` — номер места трека в истории пользователя,\n",
    "    - `started_at` — дата начала прослушивания трека."
   ]
  },
  {
   "attachments": {},
   "cell_type": "markdown",
   "id": "f28d7d3d",
   "metadata": {},
   "source": [
    "### Инициализация"
   ]
  },
  {
   "cell_type": "code",
   "execution_count": 1,
   "id": "c6e28b2f-3822-4e27-b576-9bc42b279b32",
   "metadata": {},
   "outputs": [],
   "source": [
    "import numpy as np\n",
    "import pandas as pd\n",
    "\n",
    "import matplotlib.pyplot as plt\n",
    "import seaborn as sns\n",
    "sns.set_style(\"white\")\n",
    "sns.set_theme(style=\"whitegrid\")"
   ]
  },
  {
   "cell_type": "code",
   "execution_count": 2,
   "id": "4be097db",
   "metadata": {},
   "outputs": [
    {
     "name": "stdout",
     "output_type": "stream",
     "text": [
      "c:\\Users\\Kirill_Nosov\\_Repos\\.venv\\Scripts\\python.exe\n"
     ]
    }
   ],
   "source": [
    "import sys\n",
    "\n",
    "# Проверяем, в каком окружении работаем\n",
    "print(sys.executable)"
   ]
  },
  {
   "cell_type": "code",
   "execution_count": 3,
   "id": "a1cce185",
   "metadata": {},
   "outputs": [],
   "source": [
    "# Отключаем предупреждения\n",
    "import warnings\n",
    "from pandas.errors import SettingWithCopyWarning\n",
    "\n",
    "warnings.simplefilter(action='ignore', category=(SettingWithCopyWarning, FutureWarning))"
   ]
  },
  {
   "cell_type": "code",
   "execution_count": 4,
   "id": "4e53bc65-3e32-454b-b353-e9b95489c26c",
   "metadata": {},
   "outputs": [],
   "source": [
    "%matplotlib inline\n",
    "%config InlineBackend.figure_format = 'png'\n",
    "%config InlineBackend.figure_format = 'retina'"
   ]
  },
  {
   "attachments": {},
   "cell_type": "markdown",
   "id": "b337b175-a36a-48a6-9d8d-68c0a9acd80f",
   "metadata": {},
   "source": [
    "### Загрузка данных"
   ]
  },
  {
   "cell_type": "code",
   "execution_count": 6,
   "id": "52179c3f",
   "metadata": {},
   "outputs": [
    {
     "name": "stdout",
     "output_type": "stream",
     "text": [
      "Collecting wget\n",
      "  Downloading wget-3.2.zip (10 kB)\n",
      "  Preparing metadata (setup.py) ... \u001b[?25ldone\n",
      "\u001b[?25hUsing legacy 'setup.py install' for wget, since package 'wheel' is not installed.\n",
      "Installing collected packages: wget\n",
      "  Running setup.py install for wget ... \u001b[?25ldone\n",
      "\u001b[?25hSuccessfully installed wget-3.2\n"
     ]
    }
   ],
   "source": [
    "# Устанавливаем утилиту wget, если ее нет\n",
    "!pip install wget"
   ]
  },
  {
   "cell_type": "code",
   "execution_count": 4,
   "id": "821ee5b6",
   "metadata": {},
   "outputs": [
    {
     "name": "stdout",
     "output_type": "stream",
     "text": [
      "\n",
      "Saved under interactions.parquet\n"
     ]
    }
   ],
   "source": [
    "#!python -m wget -o tracks.parquet https://storage.yandexcloud.net/mle-data/ym/tracks.parquet\n",
    "#!python -m wget -o catalog_names.parquet https://storage.yandexcloud.net/mle-data/ym/catalog_names.parquet\n",
    "!python -m wget -o interactions.parquet https://storage.yandexcloud.net/mle-data/ym/interactions.parquet"
   ]
  },
  {
   "attachments": {},
   "cell_type": "markdown",
   "id": "7e56f1d7",
   "metadata": {},
   "source": [
    "### Предобработка данных"
   ]
  },
  {
   "attachments": {},
   "cell_type": "markdown",
   "id": "5b53c74e",
   "metadata": {},
   "source": [
    "__Загружаем и проверяем данные из файла `tracks.parquet`__"
   ]
  },
  {
   "cell_type": "code",
   "execution_count": 6,
   "id": "2765664a-bbab-4dee-baae-ad31c251808a",
   "metadata": {},
   "outputs": [
    {
     "data": {
      "text/html": [
       "<div>\n",
       "<style scoped>\n",
       "    .dataframe tbody tr th:only-of-type {\n",
       "        vertical-align: middle;\n",
       "    }\n",
       "\n",
       "    .dataframe tbody tr th {\n",
       "        vertical-align: top;\n",
       "    }\n",
       "\n",
       "    .dataframe thead th {\n",
       "        text-align: right;\n",
       "    }\n",
       "</style>\n",
       "<table border=\"1\" class=\"dataframe\">\n",
       "  <thead>\n",
       "    <tr style=\"text-align: right;\">\n",
       "      <th></th>\n",
       "      <th>track_id</th>\n",
       "      <th>albums</th>\n",
       "      <th>artists</th>\n",
       "      <th>genres</th>\n",
       "    </tr>\n",
       "  </thead>\n",
       "  <tbody>\n",
       "    <tr>\n",
       "      <th>0</th>\n",
       "      <td>26</td>\n",
       "      <td>[3, 2490753]</td>\n",
       "      <td>[16]</td>\n",
       "      <td>[11, 21]</td>\n",
       "    </tr>\n",
       "    <tr>\n",
       "      <th>1</th>\n",
       "      <td>38</td>\n",
       "      <td>[3, 2490753]</td>\n",
       "      <td>[16]</td>\n",
       "      <td>[11, 21]</td>\n",
       "    </tr>\n",
       "    <tr>\n",
       "      <th>2</th>\n",
       "      <td>135</td>\n",
       "      <td>[12, 214, 2490809]</td>\n",
       "      <td>[84]</td>\n",
       "      <td>[11]</td>\n",
       "    </tr>\n",
       "    <tr>\n",
       "      <th>3</th>\n",
       "      <td>136</td>\n",
       "      <td>[12, 214, 2490809]</td>\n",
       "      <td>[84]</td>\n",
       "      <td>[11]</td>\n",
       "    </tr>\n",
       "    <tr>\n",
       "      <th>4</th>\n",
       "      <td>138</td>\n",
       "      <td>[12, 214, 322, 72275, 72292, 91199, 213505, 24...</td>\n",
       "      <td>[84]</td>\n",
       "      <td>[11]</td>\n",
       "    </tr>\n",
       "  </tbody>\n",
       "</table>\n",
       "</div>"
      ],
      "text/plain": [
       "   track_id                                             albums artists  \\\n",
       "0        26                                       [3, 2490753]    [16]   \n",
       "1        38                                       [3, 2490753]    [16]   \n",
       "2       135                                 [12, 214, 2490809]    [84]   \n",
       "3       136                                 [12, 214, 2490809]    [84]   \n",
       "4       138  [12, 214, 322, 72275, 72292, 91199, 213505, 24...    [84]   \n",
       "\n",
       "     genres  \n",
       "0  [11, 21]  \n",
       "1  [11, 21]  \n",
       "2      [11]  \n",
       "3      [11]  \n",
       "4      [11]  "
      ]
     },
     "execution_count": 6,
     "metadata": {},
     "output_type": "execute_result"
    }
   ],
   "source": [
    "tracks = pd.read_parquet(\"tracks.parquet\")\n",
    "tracks.head()"
   ]
  },
  {
   "cell_type": "code",
   "execution_count": 7,
   "id": "b0acfbf0",
   "metadata": {},
   "outputs": [
    {
     "name": "stdout",
     "output_type": "stream",
     "text": [
      "<class 'pandas.core.frame.DataFrame'>\n",
      "RangeIndex: 1000000 entries, 0 to 999999\n",
      "Data columns (total 4 columns):\n",
      " #   Column    Non-Null Count    Dtype \n",
      "---  ------    --------------    ----- \n",
      " 0   track_id  1000000 non-null  int64 \n",
      " 1   albums    1000000 non-null  object\n",
      " 2   artists   1000000 non-null  object\n",
      " 3   genres    1000000 non-null  object\n",
      "dtypes: int64(1), object(3)\n",
      "memory usage: 30.5+ MB\n"
     ]
    }
   ],
   "source": [
    "# Смотрим типы колонок, кол-во строк, объем данных и наличие пропусков\n",
    "tracks.info()"
   ]
  },
  {
   "attachments": {},
   "cell_type": "markdown",
   "id": "2e0f64a1",
   "metadata": {},
   "source": [
    "Пропусков нет, типы корректны. Проверим `track_id` на наличие дубликатов и отрицательных значений."
   ]
  },
  {
   "cell_type": "code",
   "execution_count": 8,
   "id": "393981e3",
   "metadata": {},
   "outputs": [
    {
     "name": "stdout",
     "output_type": "stream",
     "text": [
      "Все track_id уникальны: True\n",
      "Кол-во отрицательных track_id: 0\n"
     ]
    }
   ],
   "source": [
    "# Проверяем track_id на наличие дубликатов \n",
    "print(f\"Все track_id уникальны: {tracks['track_id'].nunique() == len(tracks)}\")\n",
    "\n",
    "# Проверяем track_id на наличие отрицательных значений\n",
    "print(f\"Кол-во отрицательных track_id: {(tracks['track_id'] < 0).sum()}\")"
   ]
  },
  {
   "attachments": {},
   "cell_type": "markdown",
   "id": "5b4e2c86",
   "metadata": {},
   "source": [
    "Таким образом, повторяющихся и отрицательных track_id нет. \n",
    "\n",
    "После скачивания данных о каталогах мы также проверим, нет ли в колонках `albums`, `artists` и `genres` таблицы `tracks` идентификаторов, которые указывают на несуществующие каталожные единицы. В дальнейшем такие id будем игнорировать, для чего заменим их, например, на -1.\n",
    "\n",
    "Что касается треков, у которых одновременно неопределены все три категории альбом/артист/жанр\n",
    "либо неизвестно название самого трека, то мы не будем их удалять, т.к. они все равно могут попасть в историю взаимодействий, и, если они окажутся популярными, мы сможем рекомендавать их, например, \"холодным\" пользователям."
   ]
  },
  {
   "attachments": {},
   "cell_type": "markdown",
   "id": "c114e04b",
   "metadata": {},
   "source": [
    "__Загружаем и проверяем данные из файла `catalog_names.parquet`__"
   ]
  },
  {
   "cell_type": "code",
   "execution_count": 9,
   "id": "4bf6c226",
   "metadata": {},
   "outputs": [
    {
     "data": {
      "text/html": [
       "<div>\n",
       "<style scoped>\n",
       "    .dataframe tbody tr th:only-of-type {\n",
       "        vertical-align: middle;\n",
       "    }\n",
       "\n",
       "    .dataframe tbody tr th {\n",
       "        vertical-align: top;\n",
       "    }\n",
       "\n",
       "    .dataframe thead th {\n",
       "        text-align: right;\n",
       "    }\n",
       "</style>\n",
       "<table border=\"1\" class=\"dataframe\">\n",
       "  <thead>\n",
       "    <tr style=\"text-align: right;\">\n",
       "      <th></th>\n",
       "      <th>id</th>\n",
       "      <th>type</th>\n",
       "      <th>name</th>\n",
       "    </tr>\n",
       "  </thead>\n",
       "  <tbody>\n",
       "    <tr>\n",
       "      <th>0</th>\n",
       "      <td>3</td>\n",
       "      <td>album</td>\n",
       "      <td>Taller Children</td>\n",
       "    </tr>\n",
       "    <tr>\n",
       "      <th>1</th>\n",
       "      <td>12</td>\n",
       "      <td>album</td>\n",
       "      <td>Wild Young Hearts</td>\n",
       "    </tr>\n",
       "    <tr>\n",
       "      <th>2</th>\n",
       "      <td>13</td>\n",
       "      <td>album</td>\n",
       "      <td>Lonesome Crow</td>\n",
       "    </tr>\n",
       "    <tr>\n",
       "      <th>3</th>\n",
       "      <td>17</td>\n",
       "      <td>album</td>\n",
       "      <td>Graffiti Soul</td>\n",
       "    </tr>\n",
       "    <tr>\n",
       "      <th>4</th>\n",
       "      <td>26</td>\n",
       "      <td>album</td>\n",
       "      <td>Blues Six Pack</td>\n",
       "    </tr>\n",
       "  </tbody>\n",
       "</table>\n",
       "</div>"
      ],
      "text/plain": [
       "   id   type               name\n",
       "0   3  album    Taller Children\n",
       "1  12  album  Wild Young Hearts\n",
       "2  13  album      Lonesome Crow\n",
       "3  17  album      Graffiti Soul\n",
       "4  26  album     Blues Six Pack"
      ]
     },
     "execution_count": 9,
     "metadata": {},
     "output_type": "execute_result"
    }
   ],
   "source": [
    "catalog_names = pd.read_parquet(\"catalog_names.parquet\")\n",
    "catalog_names.head()"
   ]
  },
  {
   "cell_type": "code",
   "execution_count": 10,
   "id": "28ffe83f",
   "metadata": {},
   "outputs": [
    {
     "name": "stdout",
     "output_type": "stream",
     "text": [
      "<class 'pandas.core.frame.DataFrame'>\n",
      "RangeIndex: 1812471 entries, 0 to 1812470\n",
      "Data columns (total 3 columns):\n",
      " #   Column  Dtype \n",
      "---  ------  ----- \n",
      " 0   id      int64 \n",
      " 1   type    object\n",
      " 2   name    object\n",
      "dtypes: int64(1), object(2)\n",
      "memory usage: 41.5+ MB\n"
     ]
    }
   ],
   "source": [
    "# Смотрим типы колонок, кол-во строк и объем данных\n",
    "catalog_names.info()"
   ]
  },
  {
   "cell_type": "code",
   "execution_count": 11,
   "id": "ce0b754b",
   "metadata": {},
   "outputs": [
    {
     "data": {
      "text/plain": [
       "id      0\n",
       "type    0\n",
       "name    0\n",
       "dtype: int64"
      ]
     },
     "execution_count": 11,
     "metadata": {},
     "output_type": "execute_result"
    }
   ],
   "source": [
    "# Проверяем наличие пропусков\n",
    "catalog_names.isnull().sum()"
   ]
  },
  {
   "attachments": {},
   "cell_type": "markdown",
   "id": "6244a5ef",
   "metadata": {},
   "source": [
    "Пропусков нет, типы колонок корректны. Сделаем еще несколько проверок."
   ]
  },
  {
   "cell_type": "code",
   "execution_count": 12,
   "id": "c58a5f97",
   "metadata": {},
   "outputs": [
    {
     "name": "stdout",
     "output_type": "stream",
     "text": [
      "Кол-во уникальных id: 1776697, общее кол-во строк: 1812471\n",
      "Кол-во отрицательных id: 0\n",
      "Кол-во полностью повторяющихся строк: 0\n"
     ]
    }
   ],
   "source": [
    "# Проверяем id на наличие повторяющихся значений\n",
    "print(f\"Кол-во уникальных id: {catalog_names['id'].nunique()}, общее кол-во строк: {len(catalog_names)}\")\n",
    "\n",
    "# Проверяем id на наличие отрицательных значений\n",
    "print(f\"Кол-во отрицательных id: {(catalog_names['id'] < 0).sum()}\")\n",
    "\n",
    "# Проверяем наличие полностью повторяющихся строк\n",
    "duplicated_rows_condition = catalog_names.duplicated(catalog_names.columns, keep=False)\n",
    "print(f\"Кол-во полностью повторяющихся строк: {duplicated_rows_condition.sum()}\")"
   ]
  },
  {
   "attachments": {},
   "cell_type": "markdown",
   "id": "4d7d1e8f",
   "metadata": {},
   "source": [
    "Отрицательных id и полностью повторяющихся строк нет, но есть повторяющиеся идентификаторы. \n",
    "Поскольку таких значений много, то вряд ли это связано со случайными ошибками.\n",
    "Скорее всего внутри каждого типа есть своя идентификация. Убедимся в этом."
   ]
  },
  {
   "cell_type": "code",
   "execution_count": 13,
   "id": "8c26bba0",
   "metadata": {},
   "outputs": [
    {
     "data": {
      "text/plain": [
       "array(['album', 'artist', 'genre', 'track'], dtype=object)"
      ]
     },
     "execution_count": 13,
     "metadata": {},
     "output_type": "execute_result"
    }
   ],
   "source": [
    "# Смотрим, какие есть каталожные типы\n",
    "catalog_names['type'].unique()"
   ]
  },
  {
   "cell_type": "code",
   "execution_count": 15,
   "id": "8a27ddf4",
   "metadata": {},
   "outputs": [
    {
     "name": "stdout",
     "output_type": "stream",
     "text": [
      "Среди id альбомов нет повторяющихся значений: True\n",
      "Среди id артистов нет повторяющихся значений: True\n",
      "Среди id жанров нет повторяющихся значений: True\n",
      "Среди id названий треков нет повторяющихся значений: True\n"
     ]
    }
   ],
   "source": [
    "# Проверяем наличие повторяющихся id внутри типа album\n",
    "cat_albums = catalog_names.query(\"type == 'album'\")\n",
    "print(f\"Среди id альбомов нет повторяющихся значений: {cat_albums['id'].nunique() == len(cat_albums)}\")\n",
    "\n",
    "# Проверяем наличие повторяющихся id внутри типа artist\n",
    "cat_artists = catalog_names.query(\"type == 'artist'\")\n",
    "print(f\"Среди id артистов нет повторяющихся значений: {cat_artists['id'].nunique() == len(cat_artists)}\")\n",
    "\n",
    "# Проверяем наличие повторяющихся id внутри типа genre\n",
    "cat_genres = catalog_names.query(\"type == 'genre'\")\n",
    "print(f\"Среди id жанров нет повторяющихся значений: {cat_genres['id'].nunique() == len(cat_genres)}\")\n",
    "\n",
    "# Проверяем наличие повторяющихся id внутри типа track\n",
    "cat_tracks = catalog_names.query(\"type == 'track'\")\n",
    "print(f\"Среди id названий треков нет повторяющихся значений: {cat_tracks['id'].nunique() == len(cat_tracks)}\")"
   ]
  },
  {
   "attachments": {},
   "cell_type": "markdown",
   "id": "c416db17",
   "metadata": {},
   "source": [
    "Кол-во уникальных id внутри каждого типа равно общему кол-ву соответствующих каталожных единиц, значит повторяющихся id среди элементов одного типа действительно нет.\n",
    "\n",
    "Далее вставим в таблицу треков названия соответствующих каталожных единиц вместо их идентификаторов. \n",
    "Это будет полезно, например, при визуальном оценивании качества рекомендаций.\n",
    "Для этого развернем списки идентификаторов в `tracks` и вставим в полученную таблицу названия альбомов, артистов и жанров.\n",
    "При этом в списках названий могут появиться пустые значения nan, но мы их удалим."
   ]
  },
  {
   "cell_type": "code",
   "execution_count": 16,
   "id": "3db7b6e5",
   "metadata": {},
   "outputs": [],
   "source": [
    "# Разворачиваем tracks по каталожным ids и переименовываем соответствующие колонки\n",
    "\n",
    "tracks_exploded = tracks.explode('albums', ignore_index=True) \\\n",
    "    .explode('artists', ignore_index=True) \\\n",
    "        .explode('genres', ignore_index=True) \\\n",
    "            .rename(columns={'albums':'album_id', 'artists': 'artist_id', 'genres': 'genre_id'})"
   ]
  },
  {
   "cell_type": "code",
   "execution_count": 17,
   "id": "03ce11aa",
   "metadata": {},
   "outputs": [],
   "source": [
    "# Заменяем пропуски в id артистов, жанров и альбомов на -1, т.к.\n",
    "# отрицательное число заведомо не совпадет ни с одним из id в таблице каталогов и \n",
    "# также это позволит нам привести тип object к int\n",
    "\n",
    "tracks_exploded['album_id'].fillna(-1, inplace=True)\n",
    "tracks_exploded['artist_id'].fillna(-1, inplace=True)\n",
    "tracks_exploded['genre_id'].fillna(-1, inplace=True)"
   ]
  },
  {
   "cell_type": "code",
   "execution_count": 18,
   "id": "ac51d4c1",
   "metadata": {},
   "outputs": [],
   "source": [
    "# Меняем тип object на int\n",
    "tracks_exploded[['album_id', 'artist_id', 'genre_id']] = \\\n",
    "    tracks_exploded[['album_id', 'artist_id', 'genre_id']].astype('int')"
   ]
  },
  {
   "cell_type": "code",
   "execution_count": 19,
   "id": "af356f6b",
   "metadata": {},
   "outputs": [],
   "source": [
    "# Вставляем в tracks_exploded имена альбомов\n",
    "tracks_exploded = tracks_exploded \\\n",
    "    .merge(cat_albums[['id', 'name']], how='left', left_on='album_id', right_on='id') \\\n",
    "        .rename(columns={'name': 'album_name'}).drop(columns='id')"
   ]
  },
  {
   "cell_type": "code",
   "execution_count": 20,
   "id": "f2001280",
   "metadata": {},
   "outputs": [],
   "source": [
    "# Вставляем в tracks_exploded имена артистов\n",
    "tracks_exploded = tracks_exploded \\\n",
    "    .merge(cat_artists[['id', 'name']], how='left', left_on='artist_id', right_on='id') \\\n",
    "        .rename(columns={'name': 'artist_name'}).drop(columns='id')"
   ]
  },
  {
   "cell_type": "code",
   "execution_count": 21,
   "id": "403c8581",
   "metadata": {},
   "outputs": [],
   "source": [
    "# Вставляем в tracks_exploded названия жанров\n",
    "tracks_exploded = tracks_exploded\\\n",
    "    .merge(cat_genres[['id', 'name']], how='left', left_on='genre_id', right_on='id')\\\n",
    "        .rename(columns={'name': 'genre_name'}).drop(columns='id')"
   ]
  },
  {
   "attachments": {},
   "cell_type": "markdown",
   "id": "187b553e",
   "metadata": {},
   "source": [
    "Сворачиваем полученный `tracks_exploded` по названиям альбомов, артистов и жанров, чтобы каждому треку соответствовала\n",
    "одна строка, как это было в исходной таблице `tracks`. В конце добавляем названия треков."
   ]
  },
  {
   "cell_type": "code",
   "execution_count": 24,
   "id": "d01b141e",
   "metadata": {},
   "outputs": [],
   "source": [
    "# Удаляем колонки с id каталогов\n",
    "tracks_exploded.drop(columns=['artist_id', 'genre_id', 'album_id'], inplace=True)"
   ]
  },
  {
   "cell_type": "code",
   "execution_count": 28,
   "id": "450eb676",
   "metadata": {},
   "outputs": [],
   "source": [
    "# Сворачиваем названия каталогов в списки\n",
    "tracks = tracks_exploded.groupby('track_id') \\\n",
    "    .agg({'album_name': lambda x: x.tolist(), 'artist_name': lambda x: x.tolist(), 'genre_name': lambda x: x.tolist()}) \\\n",
    "        .rename({'album_name': 'albums', 'artist_name': 'artists', 'genre_name': 'genres'}, axis=1) \\\n",
    "            .reset_index()"
   ]
  },
  {
   "cell_type": "code",
   "execution_count": 30,
   "id": "c987973d",
   "metadata": {},
   "outputs": [],
   "source": [
    "# Удаляем повторяющиеся и пустые названия в списках каталогов\n",
    "tracks['albums'] = tracks['albums'].apply(lambda names: list(set([name for name in names if str(name) != 'nan'])))\n",
    "tracks['artists'] = tracks['artists'].apply(lambda names: list(set([name for name in names if str(name) != 'nan'])))\n",
    "tracks['genres'] = tracks['genres'].apply(lambda names: list(set([name for name in names if str(name) != 'nan'])))"
   ]
  },
  {
   "cell_type": "code",
   "execution_count": 31,
   "id": "01e61f3d",
   "metadata": {},
   "outputs": [],
   "source": [
    "# Вставляем названия треков\n",
    "tracks = tracks \\\n",
    "    .merge(cat_tracks[['id', 'name']], how='left', left_on='track_id', right_on='id') \\\n",
    "        .drop(columns='id')"
   ]
  },
  {
   "attachments": {},
   "cell_type": "markdown",
   "id": "59fc7e18",
   "metadata": {},
   "source": [
    "__Загружаем и проверяем данные из файла `interactions.parquet`__"
   ]
  },
  {
   "cell_type": "code",
   "execution_count": 5,
   "id": "8974e018",
   "metadata": {},
   "outputs": [
    {
     "data": {
      "text/html": [
       "<div>\n",
       "<style scoped>\n",
       "    .dataframe tbody tr th:only-of-type {\n",
       "        vertical-align: middle;\n",
       "    }\n",
       "\n",
       "    .dataframe tbody tr th {\n",
       "        vertical-align: top;\n",
       "    }\n",
       "\n",
       "    .dataframe thead th {\n",
       "        text-align: right;\n",
       "    }\n",
       "</style>\n",
       "<table border=\"1\" class=\"dataframe\">\n",
       "  <thead>\n",
       "    <tr style=\"text-align: right;\">\n",
       "      <th></th>\n",
       "      <th>user_id</th>\n",
       "      <th>track_id</th>\n",
       "      <th>track_seq</th>\n",
       "      <th>started_at</th>\n",
       "    </tr>\n",
       "  </thead>\n",
       "  <tbody>\n",
       "    <tr>\n",
       "      <th>0</th>\n",
       "      <td>0</td>\n",
       "      <td>99262</td>\n",
       "      <td>1</td>\n",
       "      <td>2022-07-17</td>\n",
       "    </tr>\n",
       "    <tr>\n",
       "      <th>1</th>\n",
       "      <td>0</td>\n",
       "      <td>589498</td>\n",
       "      <td>2</td>\n",
       "      <td>2022-07-19</td>\n",
       "    </tr>\n",
       "    <tr>\n",
       "      <th>2</th>\n",
       "      <td>0</td>\n",
       "      <td>590262</td>\n",
       "      <td>3</td>\n",
       "      <td>2022-07-21</td>\n",
       "    </tr>\n",
       "    <tr>\n",
       "      <th>3</th>\n",
       "      <td>0</td>\n",
       "      <td>590303</td>\n",
       "      <td>4</td>\n",
       "      <td>2022-07-22</td>\n",
       "    </tr>\n",
       "    <tr>\n",
       "      <th>4</th>\n",
       "      <td>0</td>\n",
       "      <td>590692</td>\n",
       "      <td>5</td>\n",
       "      <td>2022-07-22</td>\n",
       "    </tr>\n",
       "  </tbody>\n",
       "</table>\n",
       "</div>"
      ],
      "text/plain": [
       "   user_id  track_id  track_seq started_at\n",
       "0        0     99262          1 2022-07-17\n",
       "1        0    589498          2 2022-07-19\n",
       "2        0    590262          3 2022-07-21\n",
       "3        0    590303          4 2022-07-22\n",
       "4        0    590692          5 2022-07-22"
      ]
     },
     "execution_count": 5,
     "metadata": {},
     "output_type": "execute_result"
    }
   ],
   "source": [
    "interactions = pd.read_parquet(\"interactions.parquet\")\n",
    "interactions.head()"
   ]
  },
  {
   "cell_type": "code",
   "execution_count": 6,
   "id": "edc94bb6-feda-4ee7-95fb-cece33c79fc9",
   "metadata": {},
   "outputs": [
    {
     "name": "stdout",
     "output_type": "stream",
     "text": [
      "<class 'pandas.core.frame.DataFrame'>\n",
      "Index: 222629898 entries, 0 to 291\n",
      "Data columns (total 4 columns):\n",
      " #   Column      Dtype         \n",
      "---  ------      -----         \n",
      " 0   user_id     int32         \n",
      " 1   track_id    int32         \n",
      " 2   track_seq   int16         \n",
      " 3   started_at  datetime64[ns]\n",
      "dtypes: datetime64[ns](1), int16(1), int32(2)\n",
      "memory usage: 5.4 GB\n"
     ]
    }
   ],
   "source": [
    "# Смотрим типы колонок, кол-во строк и объем данных\n",
    "interactions.info()"
   ]
  },
  {
   "cell_type": "code",
   "execution_count": 36,
   "id": "badf1976",
   "metadata": {},
   "outputs": [
    {
     "data": {
      "text/plain": [
       "user_id       0\n",
       "track_id      0\n",
       "track_seq     0\n",
       "started_at    0\n",
       "dtype: int64"
      ]
     },
     "execution_count": 36,
     "metadata": {},
     "output_type": "execute_result"
    }
   ],
   "source": [
    "# Проверяем наличие пропусков\n",
    "interactions.isnull().sum()"
   ]
  },
  {
   "attachments": {},
   "cell_type": "markdown",
   "id": "2dc0537d",
   "metadata": {},
   "source": [
    "Пропусков нет, однако типы идентификаторов `user_id` и `track_id` отличаются от int64. Перед тем, как это исправить, \n",
    "проверим корректность значений `user_id`, `track_id` и `track_seq`."
   ]
  },
  {
   "cell_type": "code",
   "execution_count": 37,
   "id": "87afd8ee",
   "metadata": {},
   "outputs": [
    {
     "name": "stdout",
     "output_type": "stream",
     "text": [
      "Кол-во отрицательных user_id: 0\n",
      "Кол-во отрицательных track_id: 0\n",
      "Кол-во неположительных track_seq: 0\n"
     ]
    }
   ],
   "source": [
    "# Проверяем user_id на наличие отрицательных значений\n",
    "print(f\"Кол-во отрицательных user_id: {(interactions['user_id'] < 0).sum()}\")\n",
    "\n",
    "# Проверяем track_id на наличие отрицательных значений\n",
    "print(f\"Кол-во отрицательных track_id: {(interactions['track_id'] < 0).sum()}\")\n",
    "\n",
    "# Проверяем track_seq на наличие отрицательных и нулевых значений (track_seq не могут быть нулевыми по смыслу)\n",
    "print(f\"Кол-во неположительных track_seq: {(interactions['track_seq'] <= 0).sum()}\")"
   ]
  },
  {
   "attachments": {},
   "cell_type": "markdown",
   "id": "d4406f5d",
   "metadata": {},
   "source": [
    "Все целочисленные значения корректны, поэтому достаточно заменить тип колонок с идентификаторами. В противном случае пришлось бы  либо удалять отрицательные id, если их немного, либо пересчитывать, а именно, искать дополнение до 2**32 итд (т.к. отрицательные id могли появиться в результате ошибочного обрезания чисел с 64 до 32 бит)."
   ]
  },
  {
   "cell_type": "code",
   "execution_count": 38,
   "id": "22fcfe7b",
   "metadata": {},
   "outputs": [],
   "source": [
    "# Приводим тип идентификаторов к int64\n",
    "interactions[['user_id', 'track_id']] = interactions[['user_id', 'track_id']].astype('int64')"
   ]
  },
  {
   "attachments": {},
   "cell_type": "markdown",
   "id": "caf1f24c",
   "metadata": {},
   "source": [
    "Также проверим, есть ли в `interactions` треки, которых нет в таблице `tracks`. Такие треки нужно будет удалить из `interactions`."
   ]
  },
  {
   "cell_type": "code",
   "execution_count": 40,
   "id": "abbf0241",
   "metadata": {},
   "outputs": [
    {
     "name": "stdout",
     "output_type": "stream",
     "text": [
      "Кол-во треков в interactions c неправильными id: 0\n"
     ]
    }
   ],
   "source": [
    "# Уникальные id всех прослушанных треков из таблицы interactions\n",
    "played_tracks_ids = set(interactions['track_id'].unique()) \n",
    "\n",
    "# Уникальные id всех треков из таблицы tracks\n",
    "# (выше мы уже убедились, что в таблице tracks все track_id уникальны)\n",
    "all_tracks_ids = set(tracks['track_id'])\n",
    "        \n",
    "# Треки, которые есть interactions, но нет в tracks\n",
    "wrong_tracks_ids = list(played_tracks_ids - all_tracks_ids)\n",
    "print(f\"Кол-во треков в interactions c неправильными id: {len(wrong_tracks_ids)}\")\n",
    "\n",
    "# Удаляем из interactions строки с неправильными track_id, если такие есть\n",
    "if len(wrong_tracks_ids) > 0:\n",
    "    interactions = interactions[~interactions['track_id'].isin(wrong_tracks_ids)]"
   ]
  },
  {
   "attachments": {},
   "cell_type": "markdown",
   "id": "75699356",
   "metadata": {},
   "source": [
    "В конце переименуем таблицы `tracks`, `interactions`, а также их колонки `track_id` и `track_seq`, после чего сохраним полученные таблицы на диск."
   ]
  },
  {
   "cell_type": "code",
   "execution_count": 41,
   "id": "db1db35b",
   "metadata": {},
   "outputs": [],
   "source": [
    "# Переименовываем таблицы треков и взаимодействий\n",
    "items = tracks.copy()\n",
    "events = interactions.copy()"
   ]
  },
  {
   "cell_type": "code",
   "execution_count": 42,
   "id": "9c6deaf2",
   "metadata": {},
   "outputs": [],
   "source": [
    "# Удаляем старые таблицы\n",
    "del tracks\n",
    "del interactions"
   ]
  },
  {
   "cell_type": "code",
   "execution_count": 43,
   "id": "aca87cce",
   "metadata": {},
   "outputs": [],
   "source": [
    "# Переименовываем колонки track_id\n",
    "items.rename(columns={'track_id': 'item_id'}, inplace=True)\n",
    "events.rename(columns={'track_id': 'item_id', 'track_seq': 'item_seq'}, inplace=True)"
   ]
  },
  {
   "cell_type": "code",
   "execution_count": 44,
   "id": "748375af",
   "metadata": {},
   "outputs": [],
   "source": [
    "# Сохраняем в файлы\n",
    "items.to_parquet(\"items.parquet\")\n",
    "events.to_parquet(\"events.parquet\")"
   ]
  },
  {
   "attachments": {},
   "cell_type": "markdown",
   "id": "c4050b3d-c198-43be-a989-e99204b1725b",
   "metadata": {},
   "source": [
    "## Этап 2. Анализ данных (EDA)"
   ]
  },
  {
   "attachments": {},
   "cell_type": "markdown",
   "id": "079adc1d",
   "metadata": {},
   "source": [
    "### Постановка задачи\n",
    "\n",
    "Проведите EDA данных, чтобы получить представление о следущих параметрах:\n",
    "- распределение количества прослушанных треков,\n",
    "- наиболее популярные треки,\n",
    "- наиболее популярные жанры,\n",
    "- треки, которые никто не прослушал."
   ]
  },
  {
   "cell_type": "code",
   "execution_count": 5,
   "id": "8e9bbc85",
   "metadata": {},
   "outputs": [],
   "source": [
    "# Загружаем данные из файлов\n",
    "items = pd.read_parquet(\"items.parquet\")\n",
    "events = pd.read_parquet(\"events.parquet\")"
   ]
  },
  {
   "attachments": {},
   "cell_type": "markdown",
   "id": "31195f60-57e2-48f6-9f2d-6c485a79b75a",
   "metadata": {},
   "source": [
    "Посмотрим распределение кол-ва прослушиваний треков и уникальных пользователей по месяцам."
   ]
  },
  {
   "cell_type": "code",
   "execution_count": 6,
   "id": "a64f6bb4-ddf9-4573-a78f-a8616d32c89b",
   "metadata": {},
   "outputs": [],
   "source": [
    "from pandas.tseries.offsets import MonthEnd\n",
    "\n",
    "# Добавляем колонку с начальными датами для каждого месяца\n",
    "events[\"started_at_month\"] = events[\"started_at\"].dt.to_period('M').dt.to_timestamp().dt.date"
   ]
  },
  {
   "cell_type": "code",
   "execution_count": 7,
   "id": "7d24e57d-0d39-4691-bdc2-c7f152bbb86d",
   "metadata": {},
   "outputs": [],
   "source": [
    "# Группируем события по месяцам\n",
    "events_by_month = events.groupby(\"started_at_month\").agg(events=(\"started_at\", \"count\"), users=(\"user_id\", \"nunique\")).reset_index()"
   ]
  },
  {
   "cell_type": "code",
   "execution_count": 8,
   "id": "b0523dde-3788-426a-ae32-08d557d65124",
   "metadata": {},
   "outputs": [
    {
     "data": {
      "image/png": "[encoded data removed]",
      "text/plain": [
       "<Figure size 1200x600 with 2 Axes>"
      ]
     },
     "metadata": {
      "image/png": {
       "height": 582,
       "width": 1184
      }
     },
     "output_type": "display_data"
    }
   ],
   "source": [
    "# Визуализируем распределение кол-ва взаимодействий и уникальных пользователей по месяцам\n",
    "\n",
    "fig, axs = plt.subplots(2, 1, figsize=(12, 6))\n",
    "\n",
    "ax = axs[0]\n",
    "ax.plot(events_by_month[\"started_at_month\"], events_by_month[\"events\"])\n",
    "ax.set_title(\"#events by months\")\n",
    "\n",
    "ax = axs[1]\n",
    "ax.plot(events_by_month[\"started_at_month\"], events_by_month[\"users\"])\n",
    "ax.set_title(\"#unique users by months\")\n",
    "\n",
    "fig.tight_layout()"
   ]
  },
  {
   "attachments": {},
   "cell_type": "markdown",
   "id": "21d40e9e",
   "metadata": {},
   "source": [
    "Видим, что история взимодействий охватывает только один 2022 год. Кол-во прослушиваний и уникальных пользователей постепенно росли вплоть до ноября, после чего начали немного снижаться. Возможно, сервис был запущен в самом начале 2022 г., и пик его популярности пришелся на конец года, после чего начал спадать."
   ]
  },
  {
   "attachments": {},
   "cell_type": "markdown",
   "id": "bc88d128",
   "metadata": {},
   "source": [
    "Найдем топ-100 наиболее популярных треков по общему кол-ву прослушиваний."
   ]
  },
  {
   "cell_type": "code",
   "execution_count": 18,
   "id": "f18a319a",
   "metadata": {},
   "outputs": [],
   "source": [
    "pop_items = events \\\n",
    "    .groupby([\"item_id\"]).agg(events=(\"started_at\", \"count\"), users=(\"user_id\", \"nunique\")).reset_index()\n",
    "\n",
    "# Сортируем по убыванию кол-ва прослушиваний, а при их равенстве - по убыванию пользователей\n",
    "pop_items = pop_items.sort_values(['events', 'users'], ascending=[False, False])\n",
    "\n",
    "# Выбираем первые 100 самых популярных айтемов \n",
    "top_k_pop_items = pop_items[:100].reset_index().drop(columns='index')"
   ]
  },
  {
   "cell_type": "code",
   "execution_count": null,
   "id": "f20d7d0c",
   "metadata": {},
   "outputs": [],
   "source": [
    "# Добавляем колонки с названиями каталожных единиц\n",
    "top_k_pop_items = top_k_pop_items \\\n",
    "    .merge(items[['item_id', 'name', 'genres', 'artists', 'albums']], how='inner', on='item_id')\n",
    "top_k_pop_items"
   ]
  },
  {
   "attachments": {},
   "cell_type": "markdown",
   "id": "12d7e414",
   "metadata": {},
   "source": [
    "Сохраняем эти данные в файл `top_popular.parquet` для последующего использования в качестве готовых рекомендаций по умолчанию."
   ]
  },
  {
   "cell_type": "code",
   "execution_count": 20,
   "id": "828dd033",
   "metadata": {},
   "outputs": [],
   "source": [
    "top_k_pop_items.to_parquet('top_popular.parquet')"
   ]
  },
  {
   "attachments": {},
   "cell_type": "markdown",
   "id": "ec853af7",
   "metadata": {},
   "source": [
    "Определим самые популярные жанры. Для этого пройдемся по только что отобранным топ-трекам и посчитаем, к каким жанрам они относятся. Тогда жанры с наибольшей встречаемостью будут являться самыми популярными."
   ]
  },
  {
   "cell_type": "code",
   "execution_count": 36,
   "id": "54fbed85",
   "metadata": {},
   "outputs": [],
   "source": [
    "# Функция для извлечения жанров из треков\n",
    "def get_genres(items):\n",
    "\n",
    "    \"\"\" \n",
    "    Извлекает жанры из треков и считает, сколько раз встречается каждый жанр.\n",
    "    \"\"\"    \n",
    "    genres_counter = {}\n",
    "    \n",
    "    for k, v in items.iterrows():\n",
    "        genres = list(v[\"genres\"])\n",
    "\n",
    "        for genre in genres:\n",
    "            try:\n",
    "                genres_counter[genre] += 1 \n",
    "            except KeyError:\n",
    "                genres_counter[genre] = 1\n",
    "\n",
    "    genres = pd.Series(genres_counter, name=\"tracks\")\n",
    "    genres = genres.to_frame()\n",
    "    genres = genres.reset_index().rename(columns={\"index\": \"name\"})\n",
    "    genres.index.name = \"genre_id\"\n",
    "\n",
    "    return genres"
   ]
  },
  {
   "cell_type": "code",
   "execution_count": 40,
   "id": "e9465561",
   "metadata": {},
   "outputs": [],
   "source": [
    "# Извлекаем жанры из самых популярных треков и считаем score для каждого жанра,\n",
    "# как долю от общего кол-ва прослушиваний\n",
    "top_k_pop_items_genres = get_genres(top_k_pop_items)\n",
    "top_k_pop_items_genres[\"score\"] = top_k_pop_items_genres[\"tracks\"] / top_k_pop_items_genres[\"tracks\"].sum()"
   ]
  },
  {
   "cell_type": "code",
   "execution_count": 42,
   "id": "eb6b8fe0",
   "metadata": {},
   "outputs": [
    {
     "data": {
      "text/plain": [
       "Text(0.5, 1.0, 'Top 10 most played genres')"
      ]
     },
     "execution_count": 42,
     "metadata": {},
     "output_type": "execute_result"
    },
    {
     "data": {
      "image/png": "[encoded data removed]",
      "text/plain": [
       "<Figure size 640x480 with 1 Axes>"
      ]
     },
     "metadata": {
      "image/png": {
       "height": 460,
       "width": 634
      }
     },
     "output_type": "display_data"
    }
   ],
   "source": [
    "# Строим горизонтальный barplot\n",
    "sns.barplot(data=top_k_pop_items_genres.sort_values(by=\"score\", ascending=False).head(10), x='score', y='name').set_title(\"Top 10 most played genres\")"
   ]
  },
  {
   "attachments": {},
   "cell_type": "markdown",
   "id": "bb9c38b5",
   "metadata": {},
   "source": [
    "Таким образом, в топ-100 самых прослушиваемых треков наиболее распространенным жанром является поп."
   ]
  },
  {
   "attachments": {},
   "cell_type": "markdown",
   "id": "6e2f34ec",
   "metadata": {},
   "source": [
    "Также подготовим список жанров по всем трекам. Он понадобится нам для построения контентных рекомендаций."
   ]
  },
  {
   "cell_type": "code",
   "execution_count": null,
   "id": "1c6a2f29",
   "metadata": {},
   "outputs": [],
   "source": [
    "# Извлекаем жанры по всем трекам\n",
    "genres = get_genres(items)\n",
    "genres[\"score\"] = genres[\"tracks\"] / genres[\"tracks\"].sum()"
   ]
  },
  {
   "cell_type": "code",
   "execution_count": null,
   "id": "966a4450",
   "metadata": {},
   "outputs": [],
   "source": [
    "# Смотрим отсортированный список\n",
    "genres.sort_values(by=\"score\", ascending=False).head(10)"
   ]
  },
  {
   "cell_type": "markdown",
   "id": "5f5c6b35",
   "metadata": {},
   "source": [
    "Всего у нас получилось X жанров."
   ]
  },
  {
   "cell_type": "code",
   "execution_count": null,
   "id": "312f20d0",
   "metadata": {},
   "outputs": [],
   "source": [
    "# Сохраняем жанры в файл\n",
    "genres.to_parquet('genres.parquet')"
   ]
  },
  {
   "attachments": {},
   "cell_type": "markdown",
   "id": "b707df95-b815-4002-814f-77c90b848688",
   "metadata": {},
   "source": [
    "Находим треки, у которых нет прослушиваний в таблице взаимодействий."
   ]
  },
  {
   "cell_type": "code",
   "execution_count": null,
   "id": "b6579a5d-c7b7-4785-abd8-69f63f48151d",
   "metadata": {},
   "outputs": [],
   "source": [
    "# Уникальные id всех треков\n",
    "all_items_ids = set(items['item_id'])\n",
    "        \n",
    "# Уникальные id только прослушанных треков\n",
    "played_items_ids = set(events['item_id'].unique()) \n",
    "\n",
    "# Треки, которых нет в events\n",
    "not_played_items_ids = list(all_items_ids - played_items_ids)\n",
    "print(f\"Кол-во непрослушанных треков: {len(not_played_items_ids)}\")"
   ]
  },
  {
   "attachments": {},
   "cell_type": "markdown",
   "id": "c676d17b",
   "metadata": {},
   "source": [
    "Непрослушанных треков нет."
   ]
  }
 ],
 "metadata": {
  "kernelspec": {
   "display_name": "Python 3 (ipykernel)",
   "language": "python",
   "name": "python3"
  },
  "language_info": {
   "codemirror_mode": {
    "name": "ipython",
    "version": 3
   },
   "file_extension": ".py",
   "mimetype": "text/x-python",
   "name": "python",
   "nbconvert_exporter": "python",
   "pygments_lexer": "ipython3",
   "version": "3.11.7"
  }
 },
 "nbformat": 4,
 "nbformat_minor": 5
}
